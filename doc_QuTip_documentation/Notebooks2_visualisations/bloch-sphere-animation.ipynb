{
 "cells": [
  {
   "cell_type": "markdown",
   "id": "b86bdcfa",
   "metadata": {},
   "source": [
    "# Bloch Sphere animation"
   ]
  },
  {
   "cell_type": "markdown",
   "id": "6c3c74da",
   "metadata": {},
   "source": [
    "J.R. Johansson and P.D. Nation\n",
    "\n",
    "For more information about QuTiP see [http://qutip.org](http://qutip.org)"
   ]
  },
  {
   "cell_type": "markdown",
   "id": "2e92d2da",
   "metadata": {},
   "source": [
    "Animation with qutip and matplotlib: decaying qubit visualized in a Bloch sphere.\n",
    "(Animation with matplotlib does not work yet in python3)"
   ]
  },
  {
   "cell_type": "code",
   "execution_count": 9,
   "id": "e83d216b",
   "metadata": {
    "execution": {
     "iopub.execute_input": "2023-03-15T08:36:51.404253Z",
     "iopub.status.busy": "2023-03-15T08:36:51.403065Z",
     "iopub.status.idle": "2023-03-15T08:36:52.304774Z",
     "shell.execute_reply": "2023-03-15T08:36:52.304003Z"
    }
   },
   "outputs": [
    {
     "ename": "ModuleNotFoundError",
     "evalue": "No module named 'Cython'",
     "output_type": "error",
     "traceback": [
      "\u001b[1;31m---------------------------------------------------------------------------\u001b[0m",
      "\u001b[1;31mModuleNotFoundError\u001b[0m                       Traceback (most recent call last)",
      "\u001b[1;32mc:\\Users\\suman\\PYTHON_FOLDER\\Tutorials_Documentations\\QuTip_documentation\\Notebooks2_visualisations\\bloch-sphere-animation.ipynb Cell 4\u001b[0m line \u001b[0;36m5\n\u001b[0;32m      <a href='vscode-notebook-cell:/c%3A/Users/suman/PYTHON_FOLDER/Tutorials_Documentations/QuTip_documentation/Notebooks2_visualisations/bloch-sphere-animation.ipynb#W3sZmlsZQ%3D%3D?line=2'>3</a>\u001b[0m \u001b[39mfrom\u001b[39;00m \u001b[39mmpl_toolkits\u001b[39;00m\u001b[39m.\u001b[39;00m\u001b[39mmplot3d\u001b[39;00m \u001b[39mimport\u001b[39;00m Axes3D\n\u001b[0;32m      <a href='vscode-notebook-cell:/c%3A/Users/suman/PYTHON_FOLDER/Tutorials_Documentations/QuTip_documentation/Notebooks2_visualisations/bloch-sphere-animation.ipynb#W3sZmlsZQ%3D%3D?line=3'>4</a>\u001b[0m \u001b[39mfrom\u001b[39;00m \u001b[39mqutip\u001b[39;00m \u001b[39mimport\u001b[39;00m Bloch, about, basis, mesolve, sigmam, sigmax, sigmay, sigmaz\n\u001b[1;32m----> <a href='vscode-notebook-cell:/c%3A/Users/suman/PYTHON_FOLDER/Tutorials_Documentations/QuTip_documentation/Notebooks2_visualisations/bloch-sphere-animation.ipynb#W3sZmlsZQ%3D%3D?line=4'>5</a>\u001b[0m \u001b[39mfrom\u001b[39;00m \u001b[39mqutip\u001b[39;00m\u001b[39m.\u001b[39;00m\u001b[39mipynbtools\u001b[39;00m \u001b[39mimport\u001b[39;00m plot_animation\n\u001b[0;32m      <a href='vscode-notebook-cell:/c%3A/Users/suman/PYTHON_FOLDER/Tutorials_Documentations/QuTip_documentation/Notebooks2_visualisations/bloch-sphere-animation.ipynb#W3sZmlsZQ%3D%3D?line=6'>7</a>\u001b[0m get_ipython()\u001b[39m.\u001b[39mrun_line_magic(\u001b[39m'\u001b[39m\u001b[39mmatplotlib\u001b[39m\u001b[39m'\u001b[39m, \u001b[39m'\u001b[39m\u001b[39minline\u001b[39m\u001b[39m'\u001b[39m)\n",
      "File \u001b[1;32m~\\AppData\\Roaming\\Python\\Python311\\site-packages\\qutip\\ipynbtools.py:42\u001b[0m\n\u001b[0;32m     40\u001b[0m \u001b[39mimport\u001b[39;00m \u001b[39mnumpy\u001b[39;00m\n\u001b[0;32m     41\u001b[0m \u001b[39mimport\u001b[39;00m \u001b[39mscipy\u001b[39;00m\n\u001b[1;32m---> 42\u001b[0m \u001b[39mimport\u001b[39;00m \u001b[39mCython\u001b[39;00m\n\u001b[0;32m     43\u001b[0m \u001b[39mimport\u001b[39;00m \u001b[39mmatplotlib\u001b[39;00m\n\u001b[0;32m     44\u001b[0m \u001b[39mimport\u001b[39;00m \u001b[39mIPython\u001b[39;00m\n",
      "\u001b[1;31mModuleNotFoundError\u001b[0m: No module named 'Cython'"
     ]
    }
   ],
   "source": [
    "import matplotlib.pyplot as plt\n",
    "import numpy as np\n",
    "from mpl_toolkits.mplot3d import Axes3D\n",
    "from qutip import Bloch, about, basis, mesolve, sigmam, sigmax, sigmay, sigmaz\n",
    "from qutip.ipynbtools import plot_animation\n",
    "\n",
    "%matplotlib inline"
   ]
  },
  {
   "cell_type": "code",
   "execution_count": 3,
   "id": "5ca68994",
   "metadata": {
    "execution": {
     "iopub.execute_input": "2023-03-15T08:36:52.308355Z",
     "iopub.status.busy": "2023-03-15T08:36:52.307874Z",
     "iopub.status.idle": "2023-03-15T08:36:52.314958Z",
     "shell.execute_reply": "2023-03-15T08:36:52.314316Z"
    }
   },
   "outputs": [],
   "source": [
    "def qubit_integrate(w, theta, gamma1, gamma2, psi0, tlist):\n",
    "    # operators and the hamiltonian\n",
    "    sx = sigmax()\n",
    "    sy = sigmay()\n",
    "    sz = sigmaz()\n",
    "    sm = sigmam()\n",
    "    H = w * (np.cos(theta) * sz + np.sin(theta) * sx)\n",
    "    # collapse operators\n",
    "    c_op_list = []\n",
    "    n_th = 0.5  # temperature\n",
    "    rate = gamma1 * (n_th + 1)\n",
    "    if rate > 0.0:\n",
    "        c_op_list.append(np.sqrt(rate) * sm)\n",
    "    rate = gamma1 * n_th\n",
    "    if rate > 0.0:\n",
    "        c_op_list.append(np.sqrt(rate) * sm.dag())\n",
    "    rate = gamma2\n",
    "    if rate > 0.0:\n",
    "        c_op_list.append(np.sqrt(rate) * sz)\n",
    "\n",
    "    # evolve and calculate expectation values\n",
    "    output = mesolve(H, psi0, tlist, c_op_list, [sx, sy, sz])\n",
    "    return output"
   ]
  },
  {
   "cell_type": "code",
   "execution_count": 4,
   "id": "71ba5cf8",
   "metadata": {
    "execution": {
     "iopub.execute_input": "2023-03-15T08:36:52.317683Z",
     "iopub.status.busy": "2023-03-15T08:36:52.317443Z",
     "iopub.status.idle": "2023-03-15T08:36:52.322480Z",
     "shell.execute_reply": "2023-03-15T08:36:52.321822Z"
    }
   },
   "outputs": [],
   "source": [
    "w = 1.0 * 2 * np.pi  # qubit angular frequency\n",
    "theta = 0.2 * np.pi  # qubit angle from sigma_z axis (toward sigma_x axis)\n",
    "gamma1 = 0.5  # qubit relaxation rate\n",
    "gamma2 = 0.2  # qubit dephasing rate\n",
    "# initial state\n",
    "a = 1.0\n",
    "psi0 = (a * basis(2, 0) + (1 - a) * basis(2, 1)) / \\\n",
    "        (np.sqrt(a**2 + (1 - a) ** 2))\n",
    "tlist = np.linspace(0, 4, 150)"
   ]
  },
  {
   "cell_type": "code",
   "execution_count": 5,
   "id": "e81f427f",
   "metadata": {
    "execution": {
     "iopub.execute_input": "2023-03-15T08:36:52.325178Z",
     "iopub.status.busy": "2023-03-15T08:36:52.324758Z",
     "iopub.status.idle": "2023-03-15T08:36:52.391152Z",
     "shell.execute_reply": "2023-03-15T08:36:52.390442Z"
    }
   },
   "outputs": [],
   "source": [
    "result = qubit_integrate(w, theta, gamma1, gamma2, psi0, tlist)"
   ]
  },
  {
   "cell_type": "code",
   "execution_count": 6,
   "id": "59017c32",
   "metadata": {
    "execution": {
     "iopub.execute_input": "2023-03-15T08:36:52.394306Z",
     "iopub.status.busy": "2023-03-15T08:36:52.393898Z",
     "iopub.status.idle": "2023-03-15T08:36:52.397949Z",
     "shell.execute_reply": "2023-03-15T08:36:52.397230Z"
    }
   },
   "outputs": [],
   "source": [
    "def plot_setup(result):\n",
    "\n",
    "    fig = plt.figure(figsize=(8, 8))\n",
    "    axes = Axes3D(fig, azim=-40, elev=30)\n",
    "\n",
    "    return fig, axes"
   ]
  },
  {
   "cell_type": "code",
   "execution_count": 7,
   "id": "50de5cb1",
   "metadata": {
    "execution": {
     "iopub.execute_input": "2023-03-15T08:36:52.400919Z",
     "iopub.status.busy": "2023-03-15T08:36:52.400545Z",
     "iopub.status.idle": "2023-03-15T08:36:52.406330Z",
     "shell.execute_reply": "2023-03-15T08:36:52.405615Z"
    }
   },
   "outputs": [],
   "source": [
    "sphere = None\n",
    "\n",
    "\n",
    "def plot_result(result, n, fig=None, axes=None):\n",
    "\n",
    "    global sphere\n",
    "\n",
    "    if fig is None or axes is None:\n",
    "        fig, axes = plot_setup(result)\n",
    "\n",
    "    if not sphere:\n",
    "        sphere = Bloch(axes=axes)\n",
    "        sphere.vector_color = [\"r\"]\n",
    "\n",
    "    sphere.clear()\n",
    "    sphere.add_vectors([result.expect[0][n],\n",
    "                        result.expect[1][n],\n",
    "                        result.expect[2][n]])\n",
    "    sphere.add_points(\n",
    "        [\n",
    "            result.expect[0][: n + 1],\n",
    "            result.expect[1][: n + 1],\n",
    "            result.expect[2][: n + 1],\n",
    "        ],\n",
    "        meth=\"l\",\n",
    "    )\n",
    "    sphere.make_sphere()\n",
    "\n",
    "    return axes.artists"
   ]
  },
  {
   "cell_type": "code",
   "execution_count": 8,
   "id": "c9bc3487",
   "metadata": {
    "execution": {
     "iopub.execute_input": "2023-03-15T08:36:52.409039Z",
     "iopub.status.busy": "2023-03-15T08:36:52.408668Z",
     "iopub.status.idle": "2023-03-15T08:37:10.967209Z",
     "shell.execute_reply": "2023-03-15T08:37:10.966431Z"
    }
   },
   "outputs": [
    {
     "ename": "NameError",
     "evalue": "name 'plot_animation' is not defined",
     "output_type": "error",
     "traceback": [
      "\u001b[1;31m---------------------------------------------------------------------------\u001b[0m",
      "\u001b[1;31mNameError\u001b[0m                                 Traceback (most recent call last)",
      "\u001b[1;32mc:\\Users\\suman\\PYTHON_FOLDER\\Tutorials_Documentations\\QuTip_documentation\\Notebooks2_visualisations\\bloch-sphere-animation.ipynb Cell 10\u001b[0m line \u001b[0;36m4\n\u001b[0;32m      <a href='vscode-notebook-cell:/c%3A/Users/suman/PYTHON_FOLDER/Tutorials_Documentations/QuTip_documentation/Notebooks2_visualisations/bloch-sphere-animation.ipynb#X12sZmlsZQ%3D%3D?line=0'>1</a>\u001b[0m \u001b[39m# You can choose your own writer and codec here.\u001b[39;00m\n\u001b[0;32m      <a href='vscode-notebook-cell:/c%3A/Users/suman/PYTHON_FOLDER/Tutorials_Documentations/QuTip_documentation/Notebooks2_visualisations/bloch-sphere-animation.ipynb#X12sZmlsZQ%3D%3D?line=1'>2</a>\u001b[0m \u001b[39m# Setting codec=None sets the codec to the standard\u001b[39;00m\n\u001b[0;32m      <a href='vscode-notebook-cell:/c%3A/Users/suman/PYTHON_FOLDER/Tutorials_Documentations/QuTip_documentation/Notebooks2_visualisations/bloch-sphere-animation.ipynb#X12sZmlsZQ%3D%3D?line=2'>3</a>\u001b[0m \u001b[39m# defined in matplotlib.rcParams['animation.codec']\u001b[39;00m\n\u001b[1;32m----> <a href='vscode-notebook-cell:/c%3A/Users/suman/PYTHON_FOLDER/Tutorials_Documentations/QuTip_documentation/Notebooks2_visualisations/bloch-sphere-animation.ipynb#X12sZmlsZQ%3D%3D?line=3'>4</a>\u001b[0m plot_animation(plot_setup, plot_result, result, writer\u001b[39m=\u001b[39m\u001b[39m\"\u001b[39m\u001b[39mffmpeg\u001b[39m\u001b[39m\"\u001b[39m, codec\u001b[39m=\u001b[39m\u001b[39mNone\u001b[39;00m)\n",
      "\u001b[1;31mNameError\u001b[0m: name 'plot_animation' is not defined"
     ]
    }
   ],
   "source": [
    "# You can choose your own writer and codec here.\n",
    "# Setting codec=None sets the codec to the standard\n",
    "# defined in matplotlib.rcParams['animation.codec']\n",
    "plot_animation(plot_setup, plot_result, result, writer=\"ffmpeg\", codec=None)"
   ]
  },
  {
   "cell_type": "markdown",
   "id": "5d6b138b",
   "metadata": {},
   "source": [
    "## Versions"
   ]
  },
  {
   "cell_type": "code",
   "execution_count": null,
   "id": "2bda2e2f",
   "metadata": {
    "execution": {
     "iopub.execute_input": "2023-03-15T08:37:10.971025Z",
     "iopub.status.busy": "2023-03-15T08:37:10.970156Z",
     "iopub.status.idle": "2023-03-15T08:37:10.976020Z",
     "shell.execute_reply": "2023-03-15T08:37:10.975033Z"
    }
   },
   "outputs": [
    {
     "name": "stdout",
     "output_type": "stream",
     "text": [
      "\n",
      "QuTiP: Quantum Toolbox in Python\n",
      "================================\n",
      "Copyright (c) QuTiP team 2011 and later.\n",
      "Current admin team: Alexander Pitchford, Nathan Shammah, Shahnawaz Ahmed, Neill Lambert, Eric Giguère, Boxi Li, Jake Lishman, Simon Cross and Asier Galicia.\n",
      "Board members: Daniel Burgarth, Robert Johansson, Anton F. Kockum, Franco Nori and Will Zeng.\n",
      "Original developers: R. J. Johansson & P. D. Nation.\n",
      "Previous lead developers: Chris Granade & A. Grimsmo.\n",
      "Currently developed through wide collaboration. See https://github.com/qutip for details.\n",
      "\n",
      "QuTiP Version:      4.7.1\n",
      "Numpy Version:      1.22.4\n",
      "Scipy Version:      1.8.1\n",
      "Cython Version:     0.29.33\n",
      "Matplotlib Version: 3.5.2\n",
      "Python Version:     3.10.4\n",
      "Number of CPUs:     2\n",
      "BLAS Info:          Generic\n",
      "OPENMP Installed:   False\n",
      "INTEL MKL Ext:      False\n",
      "Platform Info:      Linux (x86_64)\n",
      "Installation path:  /home/runner/work/qutip-tutorials/qutip-tutorials/qutip/qutip\n",
      "================================================================================\n",
      "Please cite QuTiP in your publication.\n",
      "================================================================================\n",
      "For your convenience a bibtex reference can be easily generated using `qutip.cite()`\n"
     ]
    }
   ],
   "source": [
    "about()"
   ]
  }
 ],
 "metadata": {
  "jupytext": {
   "cell_metadata_filter": "-all",
   "notebook_metadata_filter": "-jupytext.cell_metadata_filter,-jupytext.notebook_metadata_filter"
  },
  "kernelspec": {
   "display_name": "Python 3 (ipykernel)",
   "language": "python",
   "name": "python3"
  },
  "language_info": {
   "codemirror_mode": {
    "name": "ipython",
    "version": 3
   },
   "file_extension": ".py",
   "mimetype": "text/x-python",
   "name": "python",
   "nbconvert_exporter": "python",
   "pygments_lexer": "ipython3",
   "version": "3.11.5"
  }
 },
 "nbformat": 4,
 "nbformat_minor": 5
}
