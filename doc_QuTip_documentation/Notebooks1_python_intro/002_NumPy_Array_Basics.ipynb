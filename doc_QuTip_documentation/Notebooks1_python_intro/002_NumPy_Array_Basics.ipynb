{
 "cells": [
  {
   "cell_type": "code",
   "execution_count": 1,
   "id": "88cccdec",
   "metadata": {
    "execution": {
     "iopub.execute_input": "2023-03-15T08:50:59.760047Z",
     "iopub.status.busy": "2023-03-15T08:50:59.759587Z",
     "iopub.status.idle": "2023-03-15T08:50:59.821738Z",
     "shell.execute_reply": "2023-03-15T08:50:59.821061Z"
    }
   },
   "outputs": [],
   "source": [
    "import numpy as np"
   ]
  },
  {
   "cell_type": "markdown",
   "id": "a3357434",
   "metadata": {},
   "source": [
    "# Introduction to NumPy Arrays"
   ]
  },
  {
   "cell_type": "markdown",
   "id": "c635eecb",
   "metadata": {},
   "source": [
    "J.R. Johansson and P.D. Nation\n",
    "\n",
    "For more information about QuTiP see [http://qutip.org](http://qutip.org)"
   ]
  },
  {
   "cell_type": "markdown",
   "id": "a4e47ff9",
   "metadata": {},
   "source": [
    "## Introduction"
   ]
  },
  {
   "cell_type": "markdown",
   "id": "89996460",
   "metadata": {},
   "source": [
    "Until now we have been using lists as a way of storing multiple elements together.  However, when doing numerical computations, lists are not very good.  For example, what if I wanted to add one to a list of numbers?  For a list `a = [1, 2, 3]` we can not write `a + 1`.\n",
    "\n",
    "Instead we would have to do"
   ]
  },
  {
   "cell_type": "code",
   "execution_count": 2,
   "id": "7be5fc0c",
   "metadata": {
    "execution": {
     "iopub.execute_input": "2023-03-15T08:50:59.825107Z",
     "iopub.status.busy": "2023-03-15T08:50:59.824568Z",
     "iopub.status.idle": "2023-03-15T08:50:59.828074Z",
     "shell.execute_reply": "2023-03-15T08:50:59.827534Z"
    }
   },
   "outputs": [],
   "source": [
    "a = [1, 2, 3]\n",
    "for k in range(3):\n",
    "    a[k] = a[k] + 1"
   ]
  },
  {
   "cell_type": "markdown",
   "id": "ee7f3456",
   "metadata": {},
   "source": [
    "Working with lists would quickly become very complicated if we wanted to do numerical operations on many elements at the same time, or if, for example, we want to be able to construct vectors and matrices in our programs.  All of these features, and more, come with using NumPy **arrays** as our preferred data structure."
   ]
  },
  {
   "cell_type": "markdown",
   "id": "904a6c1c",
   "metadata": {},
   "source": [
    "## NumPy Arrays"
   ]
  },
  {
   "cell_type": "markdown",
   "id": "345a8141",
   "metadata": {},
   "source": [
    "When dealing with numerical data in Python, nearly 100% of the time one uses arrays from the NumPy module to store and manipulate data.  NumPy arrays are very similar to Python lists, but are actually arrays in c-code that allow for very fast multi-dimensional numerical, vector, matrix, and linear algebra operations.  Using arrays with slicing, and **vectorization** leads to very fast Python code, and can replace many of the for-loops that you would have use if you coded a problem using lists. As a general rule, **minimizing the number of for-loops maximizes the performance of your code**.  To start using arrays, we can start with a simple list and use it as an argument to the array function"
   ]
  },
  {
   "cell_type": "code",
   "execution_count": 3,
   "id": "691f1ec0",
   "metadata": {
    "execution": {
     "iopub.execute_input": "2023-03-15T08:50:59.830788Z",
     "iopub.status.busy": "2023-03-15T08:50:59.830306Z",
     "iopub.status.idle": "2023-03-15T08:50:59.834280Z",
     "shell.execute_reply": "2023-03-15T08:50:59.833729Z"
    }
   },
   "outputs": [
    {
     "name": "stdout",
     "output_type": "stream",
     "text": [
      "[1 2 3 4 5 6]\n"
     ]
    }
   ],
   "source": [
    "a = np.array([1, 2, 3, 4, 5, 6])\n",
    "print(a)"
   ]
  },
  {
   "cell_type": "markdown",
   "id": "95e711d5",
   "metadata": {},
   "source": [
    "We have now created our first array of integers.  Notice how, when using print, the array looks the same as a list, however it is very much a different data structure.  We can also create an array of floats, complex numbers or even strings"
   ]
  },
  {
   "cell_type": "code",
   "execution_count": 4,
   "id": "fd3495a8",
   "metadata": {
    "execution": {
     "iopub.execute_input": "2023-03-15T08:50:59.836921Z",
     "iopub.status.busy": "2023-03-15T08:50:59.836489Z",
     "iopub.status.idle": "2023-03-15T08:50:59.841391Z",
     "shell.execute_reply": "2023-03-15T08:50:59.840838Z"
    }
   },
   "outputs": [
    {
     "name": "stdout",
     "output_type": "stream",
     "text": [
      "[ 2.  4.  8. 16.]\n",
      "[0.+0.j 1.+0.j 1.+1.j 2.-2.j]\n",
      "['a' 'b' 'c' 'd']\n"
     ]
    }
   ],
   "source": [
    "a = np.array([2.0, 4.0, 8.0, 16.0])\n",
    "b = np.array([0, 1 + 0j, 1 + 1j, 2 - 2j])\n",
    "c = np.array([\"a\", \"b\", \"c\", \"d\"])\n",
    "print(a)\n",
    "print(b)\n",
    "print(c)"
   ]
  },
  {
   "cell_type": "markdown",
   "id": "7cf5681b",
   "metadata": {},
   "source": [
    "In general there are three different ways of creating arrays in Python:\n",
    "\n",
    "- First create a list and then call the array function using the list as an input argument.\n",
    "\n",
    "- Use NumPy functions that are designed to create arrays: **zeros, ones, arange, linspace**.\n",
    "\n",
    "- Import data into Python from file."
   ]
  },
  {
   "cell_type": "markdown",
   "id": "dfed1711",
   "metadata": {},
   "source": [
    "### Arrays from Lists"
   ]
  },
  {
   "cell_type": "markdown",
   "id": "2df0da1d",
   "metadata": {},
   "source": [
    "We have already seen how to create arrays with simple lists, but now lets look at how to create more complicated lists that we can turn into arrays.  A short way of creating a list, say from 0 to 9 is as follows:"
   ]
  },
  {
   "cell_type": "code",
   "execution_count": 5,
   "id": "8b8a9a2a",
   "metadata": {
    "execution": {
     "iopub.execute_input": "2023-03-15T08:50:59.844114Z",
     "iopub.status.busy": "2023-03-15T08:50:59.843653Z",
     "iopub.status.idle": "2023-03-15T08:50:59.847253Z",
     "shell.execute_reply": "2023-03-15T08:50:59.846707Z"
    }
   },
   "outputs": [
    {
     "name": "stdout",
     "output_type": "stream",
     "text": [
      "[0, 1, 2, 3, 4, 5, 6, 7, 8, 9]\n"
     ]
    }
   ],
   "source": [
    "output = [n for n in range(10)]\n",
    "print(output)"
   ]
  },
  {
   "cell_type": "markdown",
   "id": "7ff52ef5",
   "metadata": {},
   "source": [
    "This code is doing the exact same thing as the longer expression"
   ]
  },
  {
   "cell_type": "code",
   "execution_count": 6,
   "id": "1d19c0c4",
   "metadata": {
    "execution": {
     "iopub.execute_input": "2023-03-15T08:50:59.849918Z",
     "iopub.status.busy": "2023-03-15T08:50:59.849467Z",
     "iopub.status.idle": "2023-03-15T08:50:59.853207Z",
     "shell.execute_reply": "2023-03-15T08:50:59.852654Z"
    }
   },
   "outputs": [
    {
     "name": "stdout",
     "output_type": "stream",
     "text": [
      "[0, 1, 2, 3, 4, 5, 6, 7, 8, 9]\n"
     ]
    }
   ],
   "source": [
    "output = []\n",
    "for n in range(10):\n",
    "    output.append(n)\n",
    "print(output)"
   ]
  },
  {
   "cell_type": "markdown",
   "id": "d983b500",
   "metadata": {},
   "source": [
    "We could turn this into an array quite easy"
   ]
  },
  {
   "cell_type": "code",
   "execution_count": 7,
   "id": "c153281f",
   "metadata": {
    "execution": {
     "iopub.execute_input": "2023-03-15T08:50:59.855884Z",
     "iopub.status.busy": "2023-03-15T08:50:59.855432Z",
     "iopub.status.idle": "2023-03-15T08:50:59.862020Z",
     "shell.execute_reply": "2023-03-15T08:50:59.861470Z"
    }
   },
   "outputs": [
    {
     "data": {
      "text/plain": [
       "array([0, 1, 2, 3, 4, 5, 6, 7, 8, 9])"
      ]
     },
     "execution_count": 7,
     "metadata": {},
     "output_type": "execute_result"
    }
   ],
   "source": [
    "np.array(output)"
   ]
  },
  {
   "cell_type": "markdown",
   "id": "d186af9d",
   "metadata": {},
   "source": [
    "Or, we can save even more space and create the list inside of the array function:"
   ]
  },
  {
   "cell_type": "code",
   "execution_count": 8,
   "id": "66f71306",
   "metadata": {
    "execution": {
     "iopub.execute_input": "2023-03-15T08:50:59.864736Z",
     "iopub.status.busy": "2023-03-15T08:50:59.864285Z",
     "iopub.status.idle": "2023-03-15T08:50:59.869065Z",
     "shell.execute_reply": "2023-03-15T08:50:59.868486Z"
    }
   },
   "outputs": [
    {
     "data": {
      "text/plain": [
       "array([0, 1, 2, 3, 4, 5, 6, 7, 8, 9])"
      ]
     },
     "execution_count": 8,
     "metadata": {},
     "output_type": "execute_result"
    }
   ],
   "source": [
    "np.array([n for n in range(10)])"
   ]
  },
  {
   "cell_type": "markdown",
   "id": "99a68664",
   "metadata": {},
   "source": [
    "This can also be used to create more complicated arrays"
   ]
  },
  {
   "cell_type": "code",
   "execution_count": 9,
   "id": "a117ed93",
   "metadata": {
    "execution": {
     "iopub.execute_input": "2023-03-15T08:50:59.871776Z",
     "iopub.status.busy": "2023-03-15T08:50:59.871294Z",
     "iopub.status.idle": "2023-03-15T08:50:59.876079Z",
     "shell.execute_reply": "2023-03-15T08:50:59.875522Z"
    }
   },
   "outputs": [
    {
     "data": {
      "text/plain": [
       "array([0.        , 2.95467613, 4.36505551, 5.48440035, 6.44866265])"
      ]
     },
     "execution_count": 9,
     "metadata": {},
     "output_type": "execute_result"
    }
   ],
   "source": [
    "np.array([2.0 * k**0.563 for k in range(0, 10, 2)])"
   ]
  },
  {
   "cell_type": "markdown",
   "id": "9544f8fe",
   "metadata": {},
   "source": [
    "### Array Creation in NumPy (see [NumPy Documentation](http://docs.scipy.org/doc/numpy/reference/routines.array-creation.html) for more info.)"
   ]
  },
  {
   "cell_type": "markdown",
   "id": "4ebc45ed",
   "metadata": {},
   "source": [
    "NumPy has several extremely important array creation functions that will make you life much easier. For example, creating arrays of all zeros or ones is trivial. "
   ]
  },
  {
   "cell_type": "code",
   "execution_count": 10,
   "id": "e68a65ad",
   "metadata": {
    "execution": {
     "iopub.execute_input": "2023-03-15T08:50:59.878798Z",
     "iopub.status.busy": "2023-03-15T08:50:59.878318Z",
     "iopub.status.idle": "2023-03-15T08:50:59.882644Z",
     "shell.execute_reply": "2023-03-15T08:50:59.882059Z"
    }
   },
   "outputs": [
    {
     "data": {
      "text/plain": [
       "array([0., 0., 0., 0., 0.])"
      ]
     },
     "execution_count": 10,
     "metadata": {},
     "output_type": "execute_result"
    }
   ],
   "source": [
    "np.zeros(5)"
   ]
  },
  {
   "cell_type": "code",
   "execution_count": 11,
   "id": "f6ed7605",
   "metadata": {
    "execution": {
     "iopub.execute_input": "2023-03-15T08:50:59.885304Z",
     "iopub.status.busy": "2023-03-15T08:50:59.884858Z",
     "iopub.status.idle": "2023-03-15T08:50:59.889236Z",
     "shell.execute_reply": "2023-03-15T08:50:59.888666Z"
    }
   },
   "outputs": [
    {
     "data": {
      "text/plain": [
       "array([1., 1., 1., 1., 1., 1., 1., 1., 1., 1.])"
      ]
     },
     "execution_count": 11,
     "metadata": {},
     "output_type": "execute_result"
    }
   ],
   "source": [
    "np.ones(10)"
   ]
  },
  {
   "cell_type": "markdown",
   "id": "327270fe",
   "metadata": {},
   "source": [
    "However, the most useful functions are [**```arange```**](http://docs.scipy.org/doc/numpy/reference/generated/numpy.arange.html#numpy.arange) which generates evenly spaced values within a given interval in a similar way that the ```range``` function did, and [**```linspace```**](http://docs.scipy.org/doc/numpy/reference/generated/numpy.linspace.html) that makes a linear array of points from a starting to an ending value."
   ]
  },
  {
   "cell_type": "code",
   "execution_count": 12,
   "id": "30368b74",
   "metadata": {
    "execution": {
     "iopub.execute_input": "2023-03-15T08:50:59.891842Z",
     "iopub.status.busy": "2023-03-15T08:50:59.891391Z",
     "iopub.status.idle": "2023-03-15T08:50:59.895616Z",
     "shell.execute_reply": "2023-03-15T08:50:59.895055Z"
    }
   },
   "outputs": [
    {
     "data": {
      "text/plain": [
       "array([0, 1, 2, 3, 4])"
      ]
     },
     "execution_count": 12,
     "metadata": {},
     "output_type": "execute_result"
    }
   ],
   "source": [
    "np.arange(5)"
   ]
  },
  {
   "cell_type": "code",
   "execution_count": 13,
   "id": "664c9aec",
   "metadata": {
    "execution": {
     "iopub.execute_input": "2023-03-15T08:50:59.898104Z",
     "iopub.status.busy": "2023-03-15T08:50:59.897681Z",
     "iopub.status.idle": "2023-03-15T08:50:59.902515Z",
     "shell.execute_reply": "2023-03-15T08:50:59.901314Z"
    }
   },
   "outputs": [
    {
     "data": {
      "text/plain": [
       "array([0, 2, 4, 6, 8])"
      ]
     },
     "execution_count": 13,
     "metadata": {},
     "output_type": "execute_result"
    }
   ],
   "source": [
    "np.arange(0, 10, 2)"
   ]
  },
  {
   "cell_type": "code",
   "execution_count": 14,
   "id": "b5988667",
   "metadata": {
    "execution": {
     "iopub.execute_input": "2023-03-15T08:50:59.905081Z",
     "iopub.status.busy": "2023-03-15T08:50:59.904632Z",
     "iopub.status.idle": "2023-03-15T08:50:59.909172Z",
     "shell.execute_reply": "2023-03-15T08:50:59.908609Z"
    }
   },
   "outputs": [
    {
     "data": {
      "text/plain": [
       "array([ 0.        ,  0.52631579,  1.05263158,  1.57894737,  2.10526316,\n",
       "        2.63157895,  3.15789474,  3.68421053,  4.21052632,  4.73684211,\n",
       "        5.26315789,  5.78947368,  6.31578947,  6.84210526,  7.36842105,\n",
       "        7.89473684,  8.42105263,  8.94736842,  9.47368421, 10.        ])"
      ]
     },
     "execution_count": 14,
     "metadata": {},
     "output_type": "execute_result"
    }
   ],
   "source": [
    "# make an array of 20 points linearly spaced from 0 to 10\n",
    "np.linspace(0, 10, 20)"
   ]
  },
  {
   "cell_type": "code",
   "execution_count": 15,
   "id": "dc6832d1",
   "metadata": {
    "execution": {
     "iopub.execute_input": "2023-03-15T08:50:59.911844Z",
     "iopub.status.busy": "2023-03-15T08:50:59.911394Z",
     "iopub.status.idle": "2023-03-15T08:50:59.915938Z",
     "shell.execute_reply": "2023-03-15T08:50:59.915392Z"
    }
   },
   "outputs": [
    {
     "data": {
      "text/plain": [
       "array([-5.        , -4.28571429, -3.57142857, -2.85714286, -2.14285714,\n",
       "       -1.42857143, -0.71428571,  0.        ,  0.71428571,  1.42857143,\n",
       "        2.14285714,  2.85714286,  3.57142857,  4.28571429,  5.        ])"
      ]
     },
     "execution_count": 15,
     "metadata": {},
     "output_type": "execute_result"
    }
   ],
   "source": [
    "np.linspace(-5, 5, 15)  # 15 points in range from -5 to 5"
   ]
  },
  {
   "cell_type": "markdown",
   "id": "781fe004",
   "metadata": {},
   "source": [
    "## Differences Between Arrays and Lists"
   ]
  },
  {
   "cell_type": "markdown",
   "id": "825dad27",
   "metadata": {},
   "source": [
    "Having played with arrays a bit, it is now time to explain the main differences between NumPy arrays and Python lists."
   ]
  },
  {
   "cell_type": "markdown",
   "id": "d4496a67",
   "metadata": {},
   "source": [
    "Python lists are very general and can hold any combination of data types.  However, NumPy **arrays can only hold one type of data** (integers, floats, strings, complex).  If we try to combine different types of data, then the array function will **upcast** the data in the array such that it all has the same type"
   ]
  },
  {
   "cell_type": "code",
   "execution_count": 16,
   "id": "e397c684",
   "metadata": {
    "execution": {
     "iopub.execute_input": "2023-03-15T08:50:59.918537Z",
     "iopub.status.busy": "2023-03-15T08:50:59.918075Z",
     "iopub.status.idle": "2023-03-15T08:50:59.922369Z",
     "shell.execute_reply": "2023-03-15T08:50:59.921807Z"
    }
   },
   "outputs": [
    {
     "data": {
      "text/plain": [
       "array([1.  , 2.  , 3.14])"
      ]
     },
     "execution_count": 16,
     "metadata": {},
     "output_type": "execute_result"
    }
   ],
   "source": [
    "np.array([1, 2, 3.14])  # [int,int,float] -> [float,float,float]"
   ]
  },
  {
   "cell_type": "markdown",
   "id": "e1e81e9b",
   "metadata": {},
   "source": [
    "Upcasting between integers and floats does not cause too much trouble, but mixing strings and numbers in an array can create problems"
   ]
  },
  {
   "cell_type": "code",
   "execution_count": 17,
   "id": "aaaf4eca",
   "metadata": {
    "execution": {
     "iopub.execute_input": "2023-03-15T08:50:59.925016Z",
     "iopub.status.busy": "2023-03-15T08:50:59.924562Z",
     "iopub.status.idle": "2023-03-15T08:50:59.928944Z",
     "shell.execute_reply": "2023-03-15T08:50:59.928384Z"
    }
   },
   "outputs": [
    {
     "data": {
      "text/plain": [
       "array(['1.0', '(1+1j)', 'hello'], dtype='<U64')"
      ]
     },
     "execution_count": 17,
     "metadata": {},
     "output_type": "execute_result"
    }
   ],
   "source": [
    "np.array([1.0, 1 + 1j, \"hello\"])  # array data is upcast to strings"
   ]
  },
  {
   "cell_type": "markdown",
   "id": "8ba5f579",
   "metadata": {},
   "source": [
    "If we want, we can manually change the type of the data inside the array using the ```dtype``` (\"data type\") keyword argument.  Frequently used dtypes are: ```int, float, complex, bool, str, object```, etc.  For example, to convert a list of integers to floats we can write"
   ]
  },
  {
   "cell_type": "code",
   "execution_count": 18,
   "id": "b35274f9",
   "metadata": {
    "execution": {
     "iopub.execute_input": "2023-03-15T08:50:59.931624Z",
     "iopub.status.busy": "2023-03-15T08:50:59.931172Z",
     "iopub.status.idle": "2023-03-15T08:50:59.935673Z",
     "shell.execute_reply": "2023-03-15T08:50:59.935115Z"
    }
   },
   "outputs": [
    {
     "data": {
      "text/plain": [
       "array([1., 2., 3., 4., 5.])"
      ]
     },
     "execution_count": 18,
     "metadata": {},
     "output_type": "execute_result"
    }
   ],
   "source": [
    "np.array([1, 2, 3, 4, 5], dtype=float)"
   ]
  },
  {
   "cell_type": "code",
   "execution_count": 19,
   "id": "e88b8f9e",
   "metadata": {
    "execution": {
     "iopub.execute_input": "2023-03-15T08:50:59.938357Z",
     "iopub.status.busy": "2023-03-15T08:50:59.937904Z",
     "iopub.status.idle": "2023-03-15T08:50:59.942299Z",
     "shell.execute_reply": "2023-03-15T08:50:59.941785Z"
    }
   },
   "outputs": [
    {
     "data": {
      "text/plain": [
       "array([2.+0.j, 4.+0.j, 6.+0.j, 8.+0.j])"
      ]
     },
     "execution_count": 19,
     "metadata": {},
     "output_type": "execute_result"
    }
   ],
   "source": [
    "np.arange(2, 10, 2, dtype=complex)"
   ]
  },
  {
   "cell_type": "code",
   "execution_count": 20,
   "id": "a33188b7",
   "metadata": {
    "execution": {
     "iopub.execute_input": "2023-03-15T08:50:59.944801Z",
     "iopub.status.busy": "2023-03-15T08:50:59.944378Z",
     "iopub.status.idle": "2023-03-15T08:50:59.948729Z",
     "shell.execute_reply": "2023-03-15T08:50:59.948208Z"
    }
   },
   "outputs": [
    {
     "data": {
      "text/plain": [
       "array(['0', '1', '2', '3', '4', '5', '6', '7', '8', '9'], dtype='<U1')"
      ]
     },
     "execution_count": 20,
     "metadata": {},
     "output_type": "execute_result"
    }
   ],
   "source": [
    "np.array([k for k in range(10)], dtype=str)"
   ]
  },
  {
   "cell_type": "markdown",
   "id": "197e4d80",
   "metadata": {},
   "source": [
    "Unlike Python lists, **we can not remove or add elements to an array once it has been created**.  Therefore, we must know the size of the array before creating it."
   ]
  },
  {
   "cell_type": "markdown",
   "id": "a5232066",
   "metadata": {},
   "source": [
    "Because arrays hold only one type of data, mathematical functions such as multiplication and addition of arrays can be implemented in at the c-code level.  This means that these kinds of operations are very fast and memory efficient.  The mathematical operations on arrays are performed **elementwise**, which means that each element gets acted on in the same way.  This is an example of **vectorization**.  For example:"
   ]
  },
  {
   "cell_type": "code",
   "execution_count": 21,
   "id": "bf3a0a86",
   "metadata": {
    "execution": {
     "iopub.execute_input": "2023-03-15T08:50:59.951228Z",
     "iopub.status.busy": "2023-03-15T08:50:59.950808Z",
     "iopub.status.idle": "2023-03-15T08:50:59.955049Z",
     "shell.execute_reply": "2023-03-15T08:50:59.954492Z"
    }
   },
   "outputs": [
    {
     "data": {
      "text/plain": [
       "array([ 5., 10., 15., 20.])"
      ]
     },
     "execution_count": 21,
     "metadata": {},
     "output_type": "execute_result"
    }
   ],
   "source": [
    "a = np.array([1, 2, 3, 4])\n",
    "5.0 * a  # This gets upcasted because 5.0 is a float"
   ]
  },
  {
   "cell_type": "code",
   "execution_count": 22,
   "id": "5e83cdaf",
   "metadata": {
    "execution": {
     "iopub.execute_input": "2023-03-15T08:50:59.957699Z",
     "iopub.status.busy": "2023-03-15T08:50:59.957253Z",
     "iopub.status.idle": "2023-03-15T08:50:59.961745Z",
     "shell.execute_reply": "2023-03-15T08:50:59.960891Z"
    }
   },
   "outputs": [
    {
     "data": {
      "text/plain": [
       "array([ 1, 16, 41, 76])"
      ]
     },
     "execution_count": 22,
     "metadata": {},
     "output_type": "execute_result"
    }
   ],
   "source": [
    "5 * a**2 - 4"
   ]
  },
  {
   "cell_type": "markdown",
   "id": "9b0e99d7",
   "metadata": {},
   "source": [
    "Recall that none of these operations worked on Python lists."
   ]
  },
  {
   "cell_type": "markdown",
   "id": "f7e569eb",
   "metadata": {},
   "source": [
    "## Using NumPy Functions on Arrays"
   ]
  },
  {
   "cell_type": "markdown",
   "id": "64d00e25",
   "metadata": {},
   "source": [
    "Remember that NumPy has a large builtin [collection of mathematical functions](http://docs.scipy.org/doc/numpy/reference/routines.math.html).  When using NumPy arrays as our data structure, these functions become even more powerful as we can apply the same function elementwise over the entire array very quickly.  Again, this is called vectorization and can speed up your code by many times."
   ]
  },
  {
   "cell_type": "code",
   "execution_count": 23,
   "id": "e856afd5",
   "metadata": {
    "execution": {
     "iopub.execute_input": "2023-03-15T08:50:59.964374Z",
     "iopub.status.busy": "2023-03-15T08:50:59.963922Z",
     "iopub.status.idle": "2023-03-15T08:50:59.968473Z",
     "shell.execute_reply": "2023-03-15T08:50:59.967950Z"
    }
   },
   "outputs": [
    {
     "data": {
      "text/plain": [
       "array([-1.22464680e-16, -6.42787610e-01, -9.84807753e-01, -8.66025404e-01,\n",
       "       -3.42020143e-01,  3.42020143e-01,  8.66025404e-01,  9.84807753e-01,\n",
       "        6.42787610e-01,  1.22464680e-16])"
      ]
     },
     "execution_count": 23,
     "metadata": {},
     "output_type": "execute_result"
    }
   ],
   "source": [
    "x = np.linspace(-np.pi, np.pi, 10)\n",
    "np.sin(x)"
   ]
  },
  {
   "cell_type": "code",
   "execution_count": 24,
   "id": "6216cf16",
   "metadata": {
    "execution": {
     "iopub.execute_input": "2023-03-15T08:50:59.971176Z",
     "iopub.status.busy": "2023-03-15T08:50:59.970724Z",
     "iopub.status.idle": "2023-03-15T08:50:59.975306Z",
     "shell.execute_reply": "2023-03-15T08:50:59.974758Z"
    }
   },
   "outputs": [
    {
     "data": {
      "text/plain": [
       "array([0., 1., 2., 3.])"
      ]
     },
     "execution_count": 24,
     "metadata": {},
     "output_type": "execute_result"
    }
   ],
   "source": [
    "x = np.array([x**2 for x in range(4)])\n",
    "np.sqrt(x)"
   ]
  },
  {
   "cell_type": "code",
   "execution_count": 25,
   "id": "e78f62cc",
   "metadata": {
    "execution": {
     "iopub.execute_input": "2023-03-15T08:50:59.977876Z",
     "iopub.status.busy": "2023-03-15T08:50:59.977453Z",
     "iopub.status.idle": "2023-03-15T08:50:59.981824Z",
     "shell.execute_reply": "2023-03-15T08:50:59.981293Z"
    }
   },
   "outputs": [
    {
     "data": {
      "text/plain": [
       "100"
      ]
     },
     "execution_count": 25,
     "metadata": {},
     "output_type": "execute_result"
    }
   ],
   "source": [
    "x = np.array([2 * n + 1 for n in range(10)])\n",
    "sum(x)  # sums up all elements in the array"
   ]
  },
  {
   "cell_type": "markdown",
   "id": "51719c2c",
   "metadata": {},
   "source": [
    "## Boolean Operations on Arrays"
   ]
  },
  {
   "cell_type": "markdown",
   "id": "bf0a27e9",
   "metadata": {},
   "source": [
    "Like other mathematical functions, we can also use conditional statements on arrays to check whether each individual element satisfies a given expression.  For example, to find the location of array elements that are less than zero we could do"
   ]
  },
  {
   "cell_type": "code",
   "execution_count": 26,
   "id": "3d57b919",
   "metadata": {
    "execution": {
     "iopub.execute_input": "2023-03-15T08:50:59.984516Z",
     "iopub.status.busy": "2023-03-15T08:50:59.984095Z",
     "iopub.status.idle": "2023-03-15T08:50:59.987847Z",
     "shell.execute_reply": "2023-03-15T08:50:59.987287Z"
    }
   },
   "outputs": [
    {
     "name": "stdout",
     "output_type": "stream",
     "text": [
      "[False  True False  True False]\n"
     ]
    }
   ],
   "source": [
    "a = np.array([0, -1, 2, -3, 4])\n",
    "print(a < 0)"
   ]
  },
  {
   "cell_type": "markdown",
   "id": "72abf9ce",
   "metadata": {},
   "source": [
    "The result in another array of boolean (```True/False```) values indicating whether a given element is less than zero.  Or, for example, we can find all of the odd numbers in an array."
   ]
  },
  {
   "cell_type": "code",
   "execution_count": 27,
   "id": "62284021",
   "metadata": {
    "execution": {
     "iopub.execute_input": "2023-03-15T08:50:59.990606Z",
     "iopub.status.busy": "2023-03-15T08:50:59.990120Z",
     "iopub.status.idle": "2023-03-15T08:50:59.993880Z",
     "shell.execute_reply": "2023-03-15T08:50:59.993365Z"
    }
   },
   "outputs": [
    {
     "name": "stdout",
     "output_type": "stream",
     "text": [
      "[False  True False  True False  True False  True False  True]\n"
     ]
    }
   ],
   "source": [
    "a = np.arange(10)\n",
    "print((np.mod(a, 2) != 0))"
   ]
  },
  {
   "cell_type": "markdown",
   "id": "84c9c290",
   "metadata": {},
   "source": [
    "## Slicing NumPy Arrays"
   ]
  },
  {
   "cell_type": "markdown",
   "id": "ed779d70",
   "metadata": {},
   "source": [
    "Just like lists, arrays can be sliced to get certain elements of the array, or to modify certain elements of the array.  For example, lets try to get every third element from a given array"
   ]
  },
  {
   "cell_type": "code",
   "execution_count": 28,
   "id": "659ef7a6",
   "metadata": {
    "execution": {
     "iopub.execute_input": "2023-03-15T08:50:59.996553Z",
     "iopub.status.busy": "2023-03-15T08:50:59.996105Z",
     "iopub.status.idle": "2023-03-15T08:51:00.000339Z",
     "shell.execute_reply": "2023-03-15T08:50:59.999786Z"
    }
   },
   "outputs": [
    {
     "data": {
      "text/plain": [
       "array([ 3,  6,  9, 12, 15, 18])"
      ]
     },
     "execution_count": 28,
     "metadata": {},
     "output_type": "execute_result"
    }
   ],
   "source": [
    "a = np.arange(20)\n",
    "a[3::3]"
   ]
  },
  {
   "cell_type": "markdown",
   "id": "2b2ce124",
   "metadata": {},
   "source": [
    "Now lets set each of these elements equal to -1."
   ]
  },
  {
   "cell_type": "code",
   "execution_count": 29,
   "id": "500791a8",
   "metadata": {
    "execution": {
     "iopub.execute_input": "2023-03-15T08:51:00.002976Z",
     "iopub.status.busy": "2023-03-15T08:51:00.002521Z",
     "iopub.status.idle": "2023-03-15T08:51:00.006194Z",
     "shell.execute_reply": "2023-03-15T08:51:00.005642Z"
    }
   },
   "outputs": [
    {
     "name": "stdout",
     "output_type": "stream",
     "text": [
      "[ 0  1  2 -1  4  5 -1  7  8 -1 10 11 -1 13 14 -1 16 17 -1 19]\n"
     ]
    }
   ],
   "source": [
    "a[3::3] = -1\n",
    "print(a)"
   ]
  },
  {
   "cell_type": "markdown",
   "id": "fff22797",
   "metadata": {},
   "source": [
    "We can also slice the array so that it returns the original array in reverse"
   ]
  },
  {
   "cell_type": "code",
   "execution_count": 30,
   "id": "26031300",
   "metadata": {
    "execution": {
     "iopub.execute_input": "2023-03-15T08:51:00.008881Z",
     "iopub.status.busy": "2023-03-15T08:51:00.008430Z",
     "iopub.status.idle": "2023-03-15T08:51:00.012738Z",
     "shell.execute_reply": "2023-03-15T08:51:00.012185Z"
    }
   },
   "outputs": [
    {
     "data": {
      "text/plain": [
       "array([9, 8, 7, 6, 5, 4, 3, 2, 1, 0])"
      ]
     },
     "execution_count": 30,
     "metadata": {},
     "output_type": "execute_result"
    }
   ],
   "source": [
    "a = np.arange(10)\n",
    "a[::-1]"
   ]
  },
  {
   "cell_type": "markdown",
   "id": "345d226e",
   "metadata": {},
   "source": [
    "Finally, what if we want to get only those elements in the array that satisfy a certain conditional statement?  Recall that conditional statements on an array return another array of boolean values.  We can use this boolean array as an index to pick out only those elements where the boolean value is ```True```."
   ]
  },
  {
   "cell_type": "code",
   "execution_count": 31,
   "id": "5d660a89",
   "metadata": {
    "execution": {
     "iopub.execute_input": "2023-03-15T08:51:00.015446Z",
     "iopub.status.busy": "2023-03-15T08:51:00.014990Z",
     "iopub.status.idle": "2023-03-15T08:51:00.018966Z",
     "shell.execute_reply": "2023-03-15T08:51:00.018399Z"
    }
   },
   "outputs": [
    {
     "name": "stdout",
     "output_type": "stream",
     "text": [
      "[-10.          -8.94736842  -7.89473684  -6.84210526  -5.78947368]\n"
     ]
    }
   ],
   "source": [
    "a = np.linspace(-10, 10, 20)\n",
    "print(a[a <= -5])"
   ]
  },
  {
   "cell_type": "markdown",
   "id": "94ba04d6",
   "metadata": {},
   "source": [
    "We must be careful though. Checking for multiple conditionals is not allowed `print(a[-8 < a <= -5])`.\n",
    "\n",
    "The reason for this is the computer does not know how to take an array of many ```True/False``` values and return just a single value."
   ]
  },
  {
   "cell_type": "markdown",
   "id": "a0a1281b",
   "metadata": {},
   "source": [
    "## Example: Rewriting Sieve of Eratosthenes"
   ]
  },
  {
   "cell_type": "markdown",
   "id": "5f369024",
   "metadata": {},
   "source": [
    "Here we will replace most of the for-loops used when writing the Sieve of Eratosthenes using lists will arrays.  This will make the code much easier to read and actually much faster for computing large prime numbers.  The main part of the original code is:"
   ]
  },
  {
   "cell_type": "code",
   "execution_count": 32,
   "id": "2ade9b4b",
   "metadata": {
    "execution": {
     "iopub.execute_input": "2023-03-15T08:51:00.021710Z",
     "iopub.status.busy": "2023-03-15T08:51:00.021253Z",
     "iopub.status.idle": "2023-03-15T08:51:00.026688Z",
     "shell.execute_reply": "2023-03-15T08:51:00.026099Z"
    }
   },
   "outputs": [
    {
     "name": "stdout",
     "output_type": "stream",
     "text": [
      "[2, 3, 5, 7, 11, 13, 17, 19]\n"
     ]
    }
   ],
   "source": [
    "N = 20\n",
    "# generate a list from 2->N\n",
    "numbers = []\n",
    "for i in range(2, N + 1):  # This can be replaced by array\n",
    "    numbers.append(i)\n",
    "# Run Seive of Eratosthenes algorithm marking nodes with -1\n",
    "for j in range(N - 1):\n",
    "    if numbers[j] != -1:\n",
    "        p = numbers[j]\n",
    "        for k in range(j + p, N - 1, p):  # This can be replaced by array\n",
    "            numbers[k] = -1\n",
    "# Collect all elements not -1 (these are the primes)\n",
    "primes = []\n",
    "for i in range(N - 1):  # This can be replaced by array\n",
    "    if numbers[i] != -1:\n",
    "        primes.append(numbers[i])\n",
    "print(primes)"
   ]
  },
  {
   "cell_type": "markdown",
   "id": "5369faff",
   "metadata": {},
   "source": [
    "Using arrays instead of lists simplifies the code:"
   ]
  },
  {
   "cell_type": "code",
   "execution_count": 33,
   "id": "acacf7e7",
   "metadata": {
    "execution": {
     "iopub.execute_input": "2023-03-15T08:51:00.029375Z",
     "iopub.status.busy": "2023-03-15T08:51:00.028925Z",
     "iopub.status.idle": "2023-03-15T08:51:00.033662Z",
     "shell.execute_reply": "2023-03-15T08:51:00.033144Z"
    }
   },
   "outputs": [
    {
     "name": "stdout",
     "output_type": "stream",
     "text": [
      "[ 2  3  5  7 11 13 17 19]\n"
     ]
    }
   ],
   "source": [
    "N = 20\n",
    "# generate a list from 2->N\n",
    "numbers = np.arange(2, N + 1)  # replaced for-loop with call to arange\n",
    "# Run Seive of Eratosthenes algorithm\n",
    "# by marking nodes with -1\n",
    "for j in range(N - 1):\n",
    "    if numbers[j] != -1:\n",
    "        p = numbers[j]\n",
    "        numbers[j + p: N - 1: p] = -1  # replaced for-loop by slicing array\n",
    "# Collect all elements not -1 (these are the primes)\n",
    "# Use conditional statement to get elements !=-1\n",
    "primes = numbers[numbers != -1]\n",
    "print(primes)"
   ]
  },
  {
   "cell_type": "markdown",
   "id": "bb55cb37",
   "metadata": {},
   "source": [
    "<h1 align=\"center\">End of Tutorial</h1> \n",
    "<h3 align=\"center\"><a href=\"http://qutip.org/tutorials.html\">Return to QuTiP tutorials page</a></h3> "
   ]
  }
 ],
 "metadata": {
  "jupytext": {
   "cell_metadata_filter": "-all",
   "notebook_metadata_filter": "-jupytext.cell_metadata_filter,-jupytext.notebook_metadata_filter"
  },
  "kernelspec": {
   "display_name": "Python 3 (ipykernel)",
   "language": "python",
   "name": "python3"
  },
  "language_info": {
   "codemirror_mode": {
    "name": "ipython",
    "version": 3
   },
   "file_extension": ".py",
   "mimetype": "text/x-python",
   "name": "python",
   "nbconvert_exporter": "python",
   "pygments_lexer": "ipython3",
   "version": "3.11.5"
  }
 },
 "nbformat": 4,
 "nbformat_minor": 5
}
