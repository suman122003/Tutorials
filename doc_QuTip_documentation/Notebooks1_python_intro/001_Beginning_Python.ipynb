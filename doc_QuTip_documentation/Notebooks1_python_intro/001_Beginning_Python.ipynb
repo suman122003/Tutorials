{
 "cells": [
  {
   "cell_type": "markdown",
   "id": "d8e5bfaf",
   "metadata": {},
   "source": [
    "# Introduction to Python"
   ]
  },
  {
   "cell_type": "markdown",
   "id": "8c6df7cd",
   "metadata": {},
   "source": [
    "P.D. Nation and J.R. Johansson\n",
    "\n",
    "For more information about QuTiP see [http://qutip.org](http://qutip.org)"
   ]
  },
  {
   "cell_type": "markdown",
   "id": "edafe7e3",
   "metadata": {},
   "source": [
    "## Imports\n",
    "Here we import the required functions for later usage."
   ]
  },
  {
   "cell_type": "code",
   "execution_count": 1,
   "id": "8785090c",
   "metadata": {
    "execution": {
     "iopub.execute_input": "2023-03-15T08:50:57.045744Z",
     "iopub.status.busy": "2023-03-15T08:50:57.045377Z",
     "iopub.status.idle": "2023-03-15T08:50:57.747314Z",
     "shell.execute_reply": "2023-03-15T08:50:57.746507Z"
    }
   },
   "outputs": [],
   "source": [
    "import matplotlib.pyplot as plt\n",
    "import numpy as np\n",
    "from scipy.special import factorial"
   ]
  },
  {
   "cell_type": "markdown",
   "id": "31da64d3",
   "metadata": {},
   "source": [
    "## Using Python For Simple Calculations"
   ]
  },
  {
   "cell_type": "markdown",
   "id": "3f1b39ee",
   "metadata": {},
   "source": [
    "As a first step, lets try to use the interactive Python command line tool **iPython** as a basic calculator.  Addition, subtraction, and multiplication, all work in the same way as you would write the equations down on paper"
   ]
  },
  {
   "cell_type": "code",
   "execution_count": 2,
   "id": "4307e145",
   "metadata": {
    "execution": {
     "iopub.execute_input": "2023-03-15T08:50:57.751194Z",
     "iopub.status.busy": "2023-03-15T08:50:57.750700Z",
     "iopub.status.idle": "2023-03-15T08:50:57.759898Z",
     "shell.execute_reply": "2023-03-15T08:50:57.759247Z"
    }
   },
   "outputs": [
    {
     "data": {
      "text/plain": [
       "15"
      ]
     },
     "execution_count": 2,
     "metadata": {},
     "output_type": "execute_result"
    }
   ],
   "source": [
    "10 + 5"
   ]
  },
  {
   "cell_type": "code",
   "execution_count": 3,
   "id": "2f9e003b",
   "metadata": {
    "execution": {
     "iopub.execute_input": "2023-03-15T08:50:57.762418Z",
     "iopub.status.busy": "2023-03-15T08:50:57.762178Z",
     "iopub.status.idle": "2023-03-15T08:50:57.766545Z",
     "shell.execute_reply": "2023-03-15T08:50:57.765819Z"
    }
   },
   "outputs": [
    {
     "data": {
      "text/plain": [
       "-147"
      ]
     },
     "execution_count": 3,
     "metadata": {},
     "output_type": "execute_result"
    }
   ],
   "source": [
    "10 - 157"
   ]
  },
  {
   "cell_type": "code",
   "execution_count": 4,
   "id": "04d18974",
   "metadata": {
    "execution": {
     "iopub.execute_input": "2023-03-15T08:50:57.769487Z",
     "iopub.status.busy": "2023-03-15T08:50:57.769145Z",
     "iopub.status.idle": "2023-03-15T08:50:57.773516Z",
     "shell.execute_reply": "2023-03-15T08:50:57.772813Z"
    }
   },
   "outputs": [
    {
     "data": {
      "text/plain": [
       "1.3333333333333333"
      ]
     },
     "execution_count": 4,
     "metadata": {},
     "output_type": "execute_result"
    }
   ],
   "source": [
    "4 / 3"
   ]
  },
  {
   "cell_type": "code",
   "execution_count": 5,
   "id": "a3550987",
   "metadata": {
    "execution": {
     "iopub.execute_input": "2023-03-15T08:50:57.776741Z",
     "iopub.status.busy": "2023-03-15T08:50:57.776396Z",
     "iopub.status.idle": "2023-03-15T08:50:57.780495Z",
     "shell.execute_reply": "2023-03-15T08:50:57.779852Z"
    }
   },
   "outputs": [
    {
     "data": {
      "text/plain": [
       "92.0"
      ]
     },
     "execution_count": 5,
     "metadata": {},
     "output_type": "execute_result"
    }
   ],
   "source": [
    "(50 - 4) * 10 / 5"
   ]
  },
  {
   "cell_type": "markdown",
   "id": "5a8e4ee6",
   "metadata": {},
   "source": [
    "However, things like raising a number to a power, $4^{4}$, are written differently."
   ]
  },
  {
   "cell_type": "code",
   "execution_count": 6,
   "id": "40cc5a50",
   "metadata": {
    "execution": {
     "iopub.execute_input": "2023-03-15T08:50:57.783608Z",
     "iopub.status.busy": "2023-03-15T08:50:57.783239Z",
     "iopub.status.idle": "2023-03-15T08:50:57.787313Z",
     "shell.execute_reply": "2023-03-15T08:50:57.786629Z"
    }
   },
   "outputs": [
    {
     "data": {
      "text/plain": [
       "256"
      ]
     },
     "execution_count": 6,
     "metadata": {},
     "output_type": "execute_result"
    }
   ],
   "source": [
    "4**4"
   ]
  },
  {
   "cell_type": "markdown",
   "id": "89a7005e",
   "metadata": {},
   "source": [
    "We could also express this in the mathematically equivalent way as $4^{4.0}$.  However, inside of the computer, the result is not treated the same as the above answer."
   ]
  },
  {
   "cell_type": "code",
   "execution_count": 7,
   "id": "01032ecb",
   "metadata": {
    "execution": {
     "iopub.execute_input": "2023-03-15T08:50:57.790260Z",
     "iopub.status.busy": "2023-03-15T08:50:57.789916Z",
     "iopub.status.idle": "2023-03-15T08:50:57.794143Z",
     "shell.execute_reply": "2023-03-15T08:50:57.793461Z"
    }
   },
   "outputs": [
    {
     "data": {
      "text/plain": [
       "256.0"
      ]
     },
     "execution_count": 7,
     "metadata": {},
     "output_type": "execute_result"
    }
   ],
   "source": [
    "4**4.0"
   ]
  },
  {
   "cell_type": "markdown",
   "id": "a5f68bca",
   "metadata": {},
   "source": [
    "## Integers vs. Floating Point Numbers"
   ]
  },
  {
   "cell_type": "markdown",
   "id": "ab264b65",
   "metadata": {},
   "source": [
    "All information stored in a computer must be represented in a binary format consisting of zeros and ones (e.g. $461\\rightarrow 111001101$).  Each zero or one is called a **bit**, and given $N$ bits, one can store all of the integers in the range $[0,2^{N-1}]$, where the $-1$ is due to the fact that the first bit is reserved for defining if a number is positive or negative   \n",
    "\n",
    "However, given a fixed number of bits, it is impossible to store an arbitrary number exactly.  Therefore, if one is given a random number, unless the number is exactly divisible by a factor of two, the conversion between the random number and the binary bit representation ultimately leads to a loss of precision, and what is known as **roundoff error**.\n"
   ]
  },
  {
   "cell_type": "markdown",
   "id": "a8ba0a1f",
   "metadata": {},
   "source": [
    "When dealing with numbers inside a computer there are two distinct types of numbers to consider:"
   ]
  },
  {
   "cell_type": "markdown",
   "id": "6a437130",
   "metadata": {},
   "source": [
    "- **Integers** - (1,2,4,-586,..) Are what are called **fixed-point numbers**, where the term fixed-point means that there is a fixed number of decimal places in the number (zero for integers).  These numbers can be stored exactly in a computer."
   ]
  },
  {
   "cell_type": "markdown",
   "id": "ca78894e",
   "metadata": {},
   "source": [
    "- **Doubles/Floats** - (3.141,0.21,-0.1,..) These are **floating-point numbers** that are the binary equivalent to scientific notation $c=2.99792458\\times 10^{8}$.  Doubles (also called double-precision numbers) are floating point numbers that are written using 64-bits and, in general, are only accurate to the 15th or 16th decimal place.  Floats (or single-precision numbers) use 32-bits, and are good to 6-7 decimal places.  **Serious scientific calculations always require a combination of integers and double (64-bit) numbers**."
   ]
  },
  {
   "cell_type": "code",
   "execution_count": 8,
   "id": "7821dc90",
   "metadata": {
    "execution": {
     "iopub.execute_input": "2023-03-15T08:50:57.797215Z",
     "iopub.status.busy": "2023-03-15T08:50:57.796858Z",
     "iopub.status.idle": "2023-03-15T08:50:57.800929Z",
     "shell.execute_reply": "2023-03-15T08:50:57.800280Z"
    }
   },
   "outputs": [
    {
     "data": {
      "text/plain": [
       "7.000000000000001"
      ]
     },
     "execution_count": 8,
     "metadata": {},
     "output_type": "execute_result"
    }
   ],
   "source": [
    "7 + 0.000000000000001"
   ]
  },
  {
   "cell_type": "code",
   "execution_count": 9,
   "id": "936b559a",
   "metadata": {
    "execution": {
     "iopub.execute_input": "2023-03-15T08:50:57.804254Z",
     "iopub.status.busy": "2023-03-15T08:50:57.803887Z",
     "iopub.status.idle": "2023-03-15T08:50:57.808088Z",
     "shell.execute_reply": "2023-03-15T08:50:57.807397Z"
    }
   },
   "outputs": [
    {
     "data": {
      "text/plain": [
       "7.0"
      ]
     },
     "execution_count": 9,
     "metadata": {},
     "output_type": "execute_result"
    }
   ],
   "source": [
    "7 + 0.0000000000000001"
   ]
  },
  {
   "cell_type": "code",
   "execution_count": 10,
   "id": "95217067",
   "metadata": {
    "execution": {
     "iopub.execute_input": "2023-03-15T08:50:57.810573Z",
     "iopub.status.busy": "2023-03-15T08:50:57.810220Z",
     "iopub.status.idle": "2023-03-15T08:50:57.816862Z",
     "shell.execute_reply": "2023-03-15T08:50:57.816157Z"
    }
   },
   "outputs": [
    {
     "data": {
      "text/plain": [
       "0.30000000000000004"
      ]
     },
     "execution_count": 10,
     "metadata": {},
     "output_type": "execute_result"
    }
   ],
   "source": [
    "0.1 + 0.2"
   ]
  },
  {
   "cell_type": "markdown",
   "id": "887c0942",
   "metadata": {},
   "source": [
    "This last example clearly highlights the fact that the computer does not store decimal (floating-point) numbers exactly.  The loss of precision in floating-point numbers can be characterized by the **machine precision**, $\\epsilon_{\\rm m}$, that is defined to be the smallest positive number such that \n",
    "\n",
    "$$1_{\\rm c}+\\epsilon_{\\rm m}\\neq 1_{\\rm c}$$\n",
    "\n",
    "where the subscript on $1_{\\rm c}$ is meant to remind you that this is a computer number.  Therefore, for any arbitrary number $N$ is related to its floating-point equivalent $N_{\\rm c}$ by\n",
    "\n",
    "$$N_{\\rm c}=N\\pm \\epsilon, \\ \\ \\forall~|\\epsilon|< \\epsilon_{\\rm m}.$$\n",
    "\n",
    "**Take Home Message** - All double-precision decimal numbers that are not factors of two will have error in the 15th decimal place.  This can lead to errors in your numerical solutions if you are not careful."
   ]
  },
  {
   "cell_type": "markdown",
   "id": "63056c3f",
   "metadata": {},
   "source": [
    "## Making Python Smarter Using NumPy"
   ]
  },
  {
   "cell_type": "markdown",
   "id": "0150838a",
   "metadata": {},
   "source": [
    "Python itself has limited support for mathematics outside of simple arithmetic.  Therefore, we will use the functions in the NumPy module to do more impressive, and faster, calculations.  We have imported NumPy already at the top of this notebook and can use it now by referring to `np`.\n",
    "\n",
    "We can now do more impressive calculations:"
   ]
  },
  {
   "cell_type": "code",
   "execution_count": 11,
   "id": "9dee0b7c",
   "metadata": {
    "execution": {
     "iopub.execute_input": "2023-03-15T08:50:57.820238Z",
     "iopub.status.busy": "2023-03-15T08:50:57.819874Z",
     "iopub.status.idle": "2023-03-15T08:50:57.824403Z",
     "shell.execute_reply": "2023-03-15T08:50:57.823716Z"
    }
   },
   "outputs": [
    {
     "data": {
      "text/plain": [
       "10.381236562731843"
      ]
     },
     "execution_count": 11,
     "metadata": {},
     "output_type": "execute_result"
    }
   ],
   "source": [
    "np.exp(2.34)"
   ]
  },
  {
   "cell_type": "code",
   "execution_count": 12,
   "id": "6350b32d",
   "metadata": {
    "execution": {
     "iopub.execute_input": "2023-03-15T08:50:57.827477Z",
     "iopub.status.busy": "2023-03-15T08:50:57.827134Z",
     "iopub.status.idle": "2023-03-15T08:50:57.831575Z",
     "shell.execute_reply": "2023-03-15T08:50:57.830861Z"
    }
   },
   "outputs": [
    {
     "data": {
      "text/plain": [
       "2.23606797749979"
      ]
     },
     "execution_count": 12,
     "metadata": {},
     "output_type": "execute_result"
    }
   ],
   "source": [
    "np.sqrt(5)"
   ]
  },
  {
   "cell_type": "code",
   "execution_count": 13,
   "id": "38af9cf9",
   "metadata": {
    "execution": {
     "iopub.execute_input": "2023-03-15T08:50:57.834295Z",
     "iopub.status.busy": "2023-03-15T08:50:57.833852Z",
     "iopub.status.idle": "2023-03-15T08:50:57.838157Z",
     "shell.execute_reply": "2023-03-15T08:50:57.837485Z"
    }
   },
   "outputs": [
    {
     "data": {
      "text/plain": [
       "0.6366197723675814"
      ]
     },
     "execution_count": 13,
     "metadata": {},
     "output_type": "execute_result"
    }
   ],
   "source": [
    "np.sinc(0.5)"
   ]
  },
  {
   "cell_type": "markdown",
   "id": "f7f5eb6f",
   "metadata": {},
   "source": [
    "## Variables"
   ]
  },
  {
   "cell_type": "markdown",
   "id": "dea67afa",
   "metadata": {},
   "source": [
    "If we want to be able to store the numbers and results from our calculations then we must define variables using the \"=\" sign:"
   ]
  },
  {
   "cell_type": "code",
   "execution_count": 14,
   "id": "dadaa51e",
   "metadata": {
    "execution": {
     "iopub.execute_input": "2023-03-15T08:50:57.841268Z",
     "iopub.status.busy": "2023-03-15T08:50:57.840924Z",
     "iopub.status.idle": "2023-03-15T08:50:57.845381Z",
     "shell.execute_reply": "2023-03-15T08:50:57.844736Z"
    }
   },
   "outputs": [
    {
     "data": {
      "text/plain": [
       "78.53981633974483"
      ]
     },
     "execution_count": 14,
     "metadata": {},
     "output_type": "execute_result"
    }
   ],
   "source": [
    "radius = 5\n",
    "area = np.pi * radius**2\n",
    "area"
   ]
  },
  {
   "cell_type": "markdown",
   "id": "fc80d4d7",
   "metadata": {},
   "source": [
    "We see that our variables name is defined on the left of the ```=``` sign and the value its given is defined on the right.  Here we have also used the ```pi``` variable that has been predefined by NumPy.  Variables can then be used in other expressions.  \n",
    "\n",
    "If a predefined variable is again used on the left side of ```=``` then its original value is replaced."
   ]
  },
  {
   "cell_type": "code",
   "execution_count": 15,
   "id": "d81eb58f",
   "metadata": {
    "execution": {
     "iopub.execute_input": "2023-03-15T08:50:57.848502Z",
     "iopub.status.busy": "2023-03-15T08:50:57.848162Z",
     "iopub.status.idle": "2023-03-15T08:50:57.852311Z",
     "shell.execute_reply": "2023-03-15T08:50:57.851657Z"
    }
   },
   "outputs": [
    {
     "data": {
      "text/plain": [
       "12.5"
      ]
     },
     "execution_count": 15,
     "metadata": {},
     "output_type": "execute_result"
    }
   ],
   "source": [
    "x = 10\n",
    "x = (x**2 + 25) / 10\n",
    "x"
   ]
  },
  {
   "cell_type": "markdown",
   "id": "0de3bd00",
   "metadata": {},
   "source": [
    "This is different than the mathematical equation $10x=x^{2}+25$  which has the solution $x=5$.  Therefore, it is important to remember that the ```=``` sign in a computer program is **not** equivalent to the mathematical equality. "
   ]
  },
  {
   "cell_type": "markdown",
   "id": "355a3be1",
   "metadata": {},
   "source": [
    "What happens if you try to use a variable without first defining it? \n",
    "\n",
    "Python would give us an error that the variable is not defined.  In addition, there are several words that are reserved by the Python language and cannot be used as variables:\n",
    "\n",
    "    and, as, assert, break, class, continue, def, del, elif, else, except, \n",
    "    exec, finally, for, from, global, if, import, in, is, lambda, not, or,\n",
    "    pass, print, raise, return, try, while, with, yield\n",
    "    \n",
    "Other than the above reserved words, your variables can be anything that starts with a letter or the underscore character \"$\\_$\" followed by any combination of alphanumeric characters and \"$\\_$\".  Note that using upper or lower case letters will give you two different variables."
   ]
  },
  {
   "cell_type": "code",
   "execution_count": 16,
   "id": "8434fc48",
   "metadata": {
    "execution": {
     "iopub.execute_input": "2023-03-15T08:50:57.855579Z",
     "iopub.status.busy": "2023-03-15T08:50:57.855217Z",
     "iopub.status.idle": "2023-03-15T08:50:57.859188Z",
     "shell.execute_reply": "2023-03-15T08:50:57.858695Z"
    }
   },
   "outputs": [
    {
     "data": {
      "text/plain": [
       "80"
      ]
     },
     "execution_count": 16,
     "metadata": {},
     "output_type": "execute_result"
    }
   ],
   "source": [
    "_freq = 8\n",
    "Oscillator_Energy = 10\n",
    "_freq * Oscillator_Energy"
   ]
  },
  {
   "cell_type": "markdown",
   "id": "a364400e",
   "metadata": {},
   "source": [
    "### Some Rules About Variables"
   ]
  },
  {
   "cell_type": "markdown",
   "id": "53e53b66",
   "metadata": {},
   "source": [
    "Although there are many ways to define variables in Python, it is best to try to define your variables in all the same way.  In this class, all of our variables will use only lower case characters. \n"
   ]
  },
  {
   "cell_type": "code",
   "execution_count": 17,
   "id": "152b14bb",
   "metadata": {
    "execution": {
     "iopub.execute_input": "2023-03-15T08:50:57.861810Z",
     "iopub.status.busy": "2023-03-15T08:50:57.861179Z",
     "iopub.status.idle": "2023-03-15T08:50:57.864433Z",
     "shell.execute_reply": "2023-03-15T08:50:57.863899Z"
    }
   },
   "outputs": [],
   "source": [
    "speed_of_light = 2.9979 * 10**8\n",
    "spring_constant = np.sqrt(2 / 5)"
   ]
  },
  {
   "cell_type": "markdown",
   "id": "de26b45a",
   "metadata": {},
   "source": [
    "It is also good practice to use variable names that correspond to the physical quantity that the variable represents."
   ]
  },
  {
   "cell_type": "markdown",
   "id": "3fb560d1",
   "metadata": {},
   "source": [
    "## Strings"
   ]
  },
  {
   "cell_type": "markdown",
   "id": "a3cedd17",
   "metadata": {},
   "source": [
    "Often we want to print some text along with our variables, ask the user for input, or actually use the words and letters themselves as variables (e.g. in DNA analysis).  All of these can be accomplished using **strings**.  We have already seen one string already in this class: "
   ]
  },
  {
   "cell_type": "code",
   "execution_count": 18,
   "id": "0a06f37a",
   "metadata": {
    "execution": {
     "iopub.execute_input": "2023-03-15T08:50:57.867066Z",
     "iopub.status.busy": "2023-03-15T08:50:57.866418Z",
     "iopub.status.idle": "2023-03-15T08:50:57.870414Z",
     "shell.execute_reply": "2023-03-15T08:50:57.869882Z"
    }
   },
   "outputs": [
    {
     "data": {
      "text/plain": [
       "'Hello Class'"
      ]
     },
     "execution_count": 18,
     "metadata": {},
     "output_type": "execute_result"
    }
   ],
   "source": [
    "\"Hello Class\""
   ]
  },
  {
   "cell_type": "markdown",
   "id": "9eb0e126",
   "metadata": {},
   "source": [
    "We can also use single quotes, e.g. `'Hello Class'`.\n",
    "\n",
    "If we want to use the quote symbol in the string itself then we need to mix the two types "
   ]
  },
  {
   "cell_type": "code",
   "execution_count": 19,
   "id": "ea778515",
   "metadata": {
    "execution": {
     "iopub.execute_input": "2023-03-15T08:50:57.873180Z",
     "iopub.status.busy": "2023-03-15T08:50:57.872486Z",
     "iopub.status.idle": "2023-03-15T08:50:57.876630Z",
     "shell.execute_reply": "2023-03-15T08:50:57.876105Z"
    }
   },
   "outputs": [
    {
     "data": {
      "text/plain": [
       "\"How was Hwajung's birthday party?\""
      ]
     },
     "execution_count": 19,
     "metadata": {},
     "output_type": "execute_result"
    }
   ],
   "source": [
    "\"How was Hwajung's birthday party?\""
   ]
  },
  {
   "cell_type": "markdown",
   "id": "1f314460",
   "metadata": {},
   "source": [
    "Just like we did with integers and doubles, we can assign a string to a variable, and we can even add two strings together."
   ]
  },
  {
   "cell_type": "code",
   "execution_count": 20,
   "id": "f424e61d",
   "metadata": {
    "execution": {
     "iopub.execute_input": "2023-03-15T08:50:57.879578Z",
     "iopub.status.busy": "2023-03-15T08:50:57.878878Z",
     "iopub.status.idle": "2023-03-15T08:50:57.883028Z",
     "shell.execute_reply": "2023-03-15T08:50:57.882509Z"
    }
   },
   "outputs": [
    {
     "data": {
      "text/plain": [
       "'I like chicken and HOF'"
      ]
     },
     "execution_count": 20,
     "metadata": {},
     "output_type": "execute_result"
    }
   ],
   "source": [
    "a = \"I like \"  # There is a blank space at the end of this string.\n",
    "b = \"chicken and HOF\"\n",
    "a + b"
   ]
  },
  {
   "cell_type": "markdown",
   "id": "2b65088f",
   "metadata": {},
   "source": [
    "Notice the blank space at the end of the string in variable \"a\" provides spacing between \"like\" and \"chicken\"."
   ]
  },
  {
   "cell_type": "markdown",
   "id": "ba6aae55",
   "metadata": {},
   "source": [
    "If we want to print out stuff, including strings and integers or doubles together, then we can use the builtin ```print``` function to accomplish this"
   ]
  },
  {
   "cell_type": "code",
   "execution_count": 21,
   "id": "a1d8144e",
   "metadata": {
    "execution": {
     "iopub.execute_input": "2023-03-15T08:50:57.885765Z",
     "iopub.status.busy": "2023-03-15T08:50:57.885139Z",
     "iopub.status.idle": "2023-03-15T08:50:57.888992Z",
     "shell.execute_reply": "2023-03-15T08:50:57.888475Z"
    }
   },
   "outputs": [
    {
     "name": "stdout",
     "output_type": "stream",
     "text": [
      "The temperature right now is 23\n"
     ]
    }
   ],
   "source": [
    "temp = 23\n",
    "text = \"The temperature right now is\"\n",
    "print(text, temp)"
   ]
  },
  {
   "cell_type": "markdown",
   "id": "11569e61",
   "metadata": {},
   "source": [
    "Notice how the print function automatically puts a space between the the two input arguments.  The ```print``` function automatically takes any number of string, integer, double, or other variables, converts them into strings, and then prints them for the user."
   ]
  },
  {
   "cell_type": "markdown",
   "id": "69e6f2c7",
   "metadata": {},
   "source": [
    "## Lists"
   ]
  },
  {
   "cell_type": "markdown",
   "id": "9fb33623",
   "metadata": {},
   "source": [
    "Often times we will want to group many variables together into one object.  In Python this is accomplished by using a **```list```** datatype variable."
   ]
  },
  {
   "cell_type": "code",
   "execution_count": 22,
   "id": "1e9c39d1",
   "metadata": {
    "execution": {
     "iopub.execute_input": "2023-03-15T08:50:57.891673Z",
     "iopub.status.busy": "2023-03-15T08:50:57.890964Z",
     "iopub.status.idle": "2023-03-15T08:50:57.894817Z",
     "shell.execute_reply": "2023-03-15T08:50:57.893700Z"
    }
   },
   "outputs": [],
   "source": [
    "shopping_list = [\"eggs\", \"bread\", \"milk\", \"bananas\"]"
   ]
  },
  {
   "cell_type": "markdown",
   "id": "df32292e",
   "metadata": {},
   "source": [
    "If we want to access a single variable inside of the list, then we need to use the **index** that corresponds to the variable inside of square brackets."
   ]
  },
  {
   "cell_type": "code",
   "execution_count": 23,
   "id": "8960462a",
   "metadata": {
    "execution": {
     "iopub.execute_input": "2023-03-15T08:50:57.897435Z",
     "iopub.status.busy": "2023-03-15T08:50:57.896796Z",
     "iopub.status.idle": "2023-03-15T08:50:57.900790Z",
     "shell.execute_reply": "2023-03-15T08:50:57.900286Z"
    }
   },
   "outputs": [
    {
     "data": {
      "text/plain": [
       "'milk'"
      ]
     },
     "execution_count": 23,
     "metadata": {},
     "output_type": "execute_result"
    }
   ],
   "source": [
    "shopping_list[2]"
   ]
  },
  {
   "cell_type": "markdown",
   "id": "e36b1b54",
   "metadata": {},
   "source": [
    "We see that the \"milk\" string can be accessed using the index number $2$.  However, we can see that this variable is actually the third string in the list.  This discrepancy is due to the fact that Python (like C-code) considers the first element in a list, or other multivariable data structures, to be at index $0$."
   ]
  },
  {
   "cell_type": "code",
   "execution_count": 24,
   "id": "2939fced",
   "metadata": {
    "execution": {
     "iopub.execute_input": "2023-03-15T08:50:57.903542Z",
     "iopub.status.busy": "2023-03-15T08:50:57.902896Z",
     "iopub.status.idle": "2023-03-15T08:50:57.907049Z",
     "shell.execute_reply": "2023-03-15T08:50:57.906492Z"
    }
   },
   "outputs": [
    {
     "data": {
      "text/plain": [
       "'eggs'"
      ]
     },
     "execution_count": 24,
     "metadata": {},
     "output_type": "execute_result"
    }
   ],
   "source": [
    "shopping_list[0]"
   ]
  },
  {
   "cell_type": "markdown",
   "id": "d52bd173",
   "metadata": {},
   "source": [
    "This is important to remember, and will take some getting used to before it becomes natural.  If we want to access the elements of the list from back to front, we can use negative indices"
   ]
  },
  {
   "cell_type": "code",
   "execution_count": 25,
   "id": "d197fffd",
   "metadata": {
    "execution": {
     "iopub.execute_input": "2023-03-15T08:50:57.909695Z",
     "iopub.status.busy": "2023-03-15T08:50:57.909056Z",
     "iopub.status.idle": "2023-03-15T08:50:57.913083Z",
     "shell.execute_reply": "2023-03-15T08:50:57.912570Z"
    }
   },
   "outputs": [
    {
     "data": {
      "text/plain": [
       "'bananas'"
      ]
     },
     "execution_count": 25,
     "metadata": {},
     "output_type": "execute_result"
    }
   ],
   "source": [
    "shopping_list[-1]"
   ]
  },
  {
   "cell_type": "code",
   "execution_count": 26,
   "id": "7da5ae15",
   "metadata": {
    "execution": {
     "iopub.execute_input": "2023-03-15T08:50:57.916845Z",
     "iopub.status.busy": "2023-03-15T08:50:57.916171Z",
     "iopub.status.idle": "2023-03-15T08:50:57.920502Z",
     "shell.execute_reply": "2023-03-15T08:50:57.919924Z"
    }
   },
   "outputs": [
    {
     "data": {
      "text/plain": [
       "'milk'"
      ]
     },
     "execution_count": 26,
     "metadata": {},
     "output_type": "execute_result"
    }
   ],
   "source": [
    "shopping_list[-2]"
   ]
  },
  {
   "cell_type": "markdown",
   "id": "4fd95f8d",
   "metadata": {},
   "source": [
    "If we are given a list variable and we want to known how many elements are inside of the list, then we can use the ```len``` function that returns an integer giving the length of the list."
   ]
  },
  {
   "cell_type": "code",
   "execution_count": 27,
   "id": "66717f35",
   "metadata": {
    "execution": {
     "iopub.execute_input": "2023-03-15T08:50:57.923078Z",
     "iopub.status.busy": "2023-03-15T08:50:57.922519Z",
     "iopub.status.idle": "2023-03-15T08:50:57.926896Z",
     "shell.execute_reply": "2023-03-15T08:50:57.926211Z"
    }
   },
   "outputs": [
    {
     "data": {
      "text/plain": [
       "4"
      ]
     },
     "execution_count": 27,
     "metadata": {},
     "output_type": "execute_result"
    }
   ],
   "source": [
    "len(shopping_list)"
   ]
  },
  {
   "cell_type": "markdown",
   "id": "65d89bde",
   "metadata": {},
   "source": [
    "If we want to change the length of the list by adding or removing elements, then we can use ```append``` and ```remove```, respectively."
   ]
  },
  {
   "cell_type": "code",
   "execution_count": 28,
   "id": "499e8287",
   "metadata": {
    "execution": {
     "iopub.execute_input": "2023-03-15T08:50:57.929886Z",
     "iopub.status.busy": "2023-03-15T08:50:57.929544Z",
     "iopub.status.idle": "2023-03-15T08:50:57.934028Z",
     "shell.execute_reply": "2023-03-15T08:50:57.933263Z"
    }
   },
   "outputs": [
    {
     "data": {
      "text/plain": [
       "['eggs', 'bread', 'milk', 'bananas', 'apples']"
      ]
     },
     "execution_count": 28,
     "metadata": {},
     "output_type": "execute_result"
    }
   ],
   "source": [
    "shopping_list.append(\"apples\")\n",
    "shopping_list"
   ]
  },
  {
   "cell_type": "code",
   "execution_count": 29,
   "id": "d6e589c3",
   "metadata": {
    "execution": {
     "iopub.execute_input": "2023-03-15T08:50:57.938211Z",
     "iopub.status.busy": "2023-03-15T08:50:57.937847Z",
     "iopub.status.idle": "2023-03-15T08:50:57.942044Z",
     "shell.execute_reply": "2023-03-15T08:50:57.941499Z"
    }
   },
   "outputs": [
    {
     "data": {
      "text/plain": [
       "['eggs', 'milk', 'bananas', 'apples']"
      ]
     },
     "execution_count": 29,
     "metadata": {},
     "output_type": "execute_result"
    }
   ],
   "source": [
    "shopping_list.remove(\"bread\")\n",
    "shopping_list"
   ]
  },
  {
   "cell_type": "markdown",
   "id": "8a5e16be",
   "metadata": {},
   "source": [
    "Note that lists to not have to have the same type of data in each element!  You can mix any data types you want."
   ]
  },
  {
   "cell_type": "code",
   "execution_count": 30,
   "id": "4b4dbcad",
   "metadata": {
    "execution": {
     "iopub.execute_input": "2023-03-15T08:50:57.944837Z",
     "iopub.status.busy": "2023-03-15T08:50:57.944153Z",
     "iopub.status.idle": "2023-03-15T08:50:57.948796Z",
     "shell.execute_reply": "2023-03-15T08:50:57.948251Z"
    }
   },
   "outputs": [
    {
     "data": {
      "text/plain": [
       "[1, 'hello', -1.234, [-1, -2, -3]]"
      ]
     },
     "execution_count": 30,
     "metadata": {},
     "output_type": "execute_result"
    }
   ],
   "source": [
    "various_things = [1, \"hello\", -1.234, [-1, -2, -3]]\n",
    "various_things"
   ]
  },
  {
   "cell_type": "markdown",
   "id": "67263082",
   "metadata": {},
   "source": [
    "All of these elements can be accessed in the usual way"
   ]
  },
  {
   "cell_type": "code",
   "execution_count": 31,
   "id": "5606e869",
   "metadata": {
    "execution": {
     "iopub.execute_input": "2023-03-15T08:50:57.951831Z",
     "iopub.status.busy": "2023-03-15T08:50:57.951141Z",
     "iopub.status.idle": "2023-03-15T08:50:57.955388Z",
     "shell.execute_reply": "2023-03-15T08:50:57.954842Z"
    }
   },
   "outputs": [
    {
     "data": {
      "text/plain": [
       "1"
      ]
     },
     "execution_count": 31,
     "metadata": {},
     "output_type": "execute_result"
    }
   ],
   "source": [
    "various_things[0]"
   ]
  },
  {
   "cell_type": "code",
   "execution_count": 32,
   "id": "d380cf30",
   "metadata": {
    "execution": {
     "iopub.execute_input": "2023-03-15T08:50:57.958176Z",
     "iopub.status.busy": "2023-03-15T08:50:57.957512Z",
     "iopub.status.idle": "2023-03-15T08:50:57.961835Z",
     "shell.execute_reply": "2023-03-15T08:50:57.961293Z"
    }
   },
   "outputs": [
    {
     "data": {
      "text/plain": [
       "[-1, -2, -3]"
      ]
     },
     "execution_count": 32,
     "metadata": {},
     "output_type": "execute_result"
    }
   ],
   "source": [
    "various_things[-1]"
   ]
  },
  {
   "cell_type": "code",
   "execution_count": 33,
   "id": "1d594354",
   "metadata": {
    "execution": {
     "iopub.execute_input": "2023-03-15T08:50:57.964618Z",
     "iopub.status.busy": "2023-03-15T08:50:57.963936Z",
     "iopub.status.idle": "2023-03-15T08:50:57.968248Z",
     "shell.execute_reply": "2023-03-15T08:50:57.967701Z"
    }
   },
   "outputs": [
    {
     "data": {
      "text/plain": [
       "-2"
      ]
     },
     "execution_count": 33,
     "metadata": {},
     "output_type": "execute_result"
    }
   ],
   "source": [
    "various_things[3][1]"
   ]
  },
  {
   "cell_type": "markdown",
   "id": "a244f6cc",
   "metadata": {},
   "source": [
    "## Iterating Through Lists and Python Indention Rules"
   ]
  },
  {
   "cell_type": "markdown",
   "id": "9045a76e",
   "metadata": {},
   "source": [
    "One of the most important reasons for using lists is because one often wants to do the same type of manipulation on each of the elements one at a time.  Going through a list in this fashion is called **iteration** and is accomplished in Python using the ```for``` command: "
   ]
  },
  {
   "cell_type": "code",
   "execution_count": 34,
   "id": "7e390d39",
   "metadata": {
    "execution": {
     "iopub.execute_input": "2023-03-15T08:50:57.971015Z",
     "iopub.status.busy": "2023-03-15T08:50:57.970339Z",
     "iopub.status.idle": "2023-03-15T08:50:57.974311Z",
     "shell.execute_reply": "2023-03-15T08:50:57.973757Z"
    }
   },
   "outputs": [
    {
     "name": "stdout",
     "output_type": "stream",
     "text": [
      "four calling birds\n",
      "three french hens\n",
      "two turtle doves\n",
      "a partridge in a pear tree\n"
     ]
    }
   ],
   "source": [
    "items = [\n",
    "    \"four calling birds\",\n",
    "    \"three french hens\",\n",
    "    \"two turtle doves\",\n",
    "    \"a partridge in a pear tree\",\n",
    "]\n",
    "for thing in items:\n",
    "    print(thing)"
   ]
  },
  {
   "cell_type": "markdown",
   "id": "eb5791d5",
   "metadata": {},
   "source": [
    "Here, \"thing\" is a variable that takes the value of each item in the list \"items\" and then gets sent to the ```print``` function.  We are free to call this variable anything we want.  "
   ]
  },
  {
   "cell_type": "code",
   "execution_count": 35,
   "id": "aec16f84",
   "metadata": {
    "execution": {
     "iopub.execute_input": "2023-03-15T08:50:57.977223Z",
     "iopub.status.busy": "2023-03-15T08:50:57.976541Z",
     "iopub.status.idle": "2023-03-15T08:50:57.980291Z",
     "shell.execute_reply": "2023-03-15T08:50:57.979740Z"
    }
   },
   "outputs": [
    {
     "name": "stdout",
     "output_type": "stream",
     "text": [
      "four calling birds\n",
      "three french hens\n",
      "two turtle doves\n",
      "a partridge in a pear tree\n"
     ]
    }
   ],
   "source": [
    "for variable in items:\n",
    "    print(variable)"
   ]
  },
  {
   "cell_type": "markdown",
   "id": "85442646",
   "metadata": {},
   "source": [
    "The next important thing to notice is that after the colon \":\" the print statement is indented.  This indention after a colon is required in the Python programming langage and represents a section of the code called a **block**.  If we did not intent the print function then Python would yell at us. "
   ]
  },
  {
   "cell_type": "markdown",
   "id": "59cfd168",
   "metadata": {},
   "source": [
    "Blocks are a standard part of any programming language and are used for organization and flow-control in computer code.  Anything that is indented in the above example will be run for each item in the list"
   ]
  },
  {
   "cell_type": "code",
   "execution_count": 36,
   "id": "160a8b35",
   "metadata": {
    "execution": {
     "iopub.execute_input": "2023-03-15T08:50:57.983276Z",
     "iopub.status.busy": "2023-03-15T08:50:57.982579Z",
     "iopub.status.idle": "2023-03-15T08:50:57.986354Z",
     "shell.execute_reply": "2023-03-15T08:50:57.985807Z"
    }
   },
   "outputs": [
    {
     "name": "stdout",
     "output_type": "stream",
     "text": [
      "My true love gave to me four calling birds\n",
      "My true love gave to me three french hens\n",
      "My true love gave to me two turtle doves\n",
      "My true love gave to me a partridge in a pear tree\n"
     ]
    }
   ],
   "source": [
    "for variable in items:\n",
    "    print(\"My true love gave to me\", variable)"
   ]
  },
  {
   "cell_type": "markdown",
   "id": "0caaa964",
   "metadata": {},
   "source": [
    "## Slicing Lists"
   ]
  },
  {
   "cell_type": "markdown",
   "id": "c8dfe1c1",
   "metadata": {},
   "source": [
    "If we want to grab certain elements from a list we can make use of **slicing** to conveniently access the elements.  Slicing can be used on any **sequence** such as lists, strings, and as we will see shortly, arrays. Consider our ```shopping_list``` list:"
   ]
  },
  {
   "cell_type": "code",
   "execution_count": 37,
   "id": "35145088",
   "metadata": {
    "execution": {
     "iopub.execute_input": "2023-03-15T08:50:57.989193Z",
     "iopub.status.busy": "2023-03-15T08:50:57.988496Z",
     "iopub.status.idle": "2023-03-15T08:50:57.991848Z",
     "shell.execute_reply": "2023-03-15T08:50:57.991285Z"
    }
   },
   "outputs": [],
   "source": [
    "shopping_list = [\"eggs\", \"bread\", \"milk\", \"bananas\", \"apples\"]"
   ]
  },
  {
   "cell_type": "markdown",
   "id": "b26f0f33",
   "metadata": {},
   "source": [
    "To get the first element we used a single index"
   ]
  },
  {
   "cell_type": "code",
   "execution_count": 38,
   "id": "42f332fb",
   "metadata": {
    "execution": {
     "iopub.execute_input": "2023-03-15T08:50:57.994640Z",
     "iopub.status.busy": "2023-03-15T08:50:57.993944Z",
     "iopub.status.idle": "2023-03-15T08:50:57.998226Z",
     "shell.execute_reply": "2023-03-15T08:50:57.997678Z"
    }
   },
   "outputs": [
    {
     "data": {
      "text/plain": [
       "'eggs'"
      ]
     },
     "execution_count": 38,
     "metadata": {},
     "output_type": "execute_result"
    }
   ],
   "source": [
    "shopping_list[0]"
   ]
  },
  {
   "cell_type": "markdown",
   "id": "600acdc9",
   "metadata": {},
   "source": [
    "But if we want to get the first three elements in the list we can use: "
   ]
  },
  {
   "cell_type": "code",
   "execution_count": 39,
   "id": "5dd1cb1b",
   "metadata": {
    "execution": {
     "iopub.execute_input": "2023-03-15T08:50:58.001165Z",
     "iopub.status.busy": "2023-03-15T08:50:58.000475Z",
     "iopub.status.idle": "2023-03-15T08:50:58.004879Z",
     "shell.execute_reply": "2023-03-15T08:50:58.004328Z"
    }
   },
   "outputs": [
    {
     "data": {
      "text/plain": [
       "['eggs', 'bread', 'milk']"
      ]
     },
     "execution_count": 39,
     "metadata": {},
     "output_type": "execute_result"
    }
   ],
   "source": [
    "shopping_list[0:3]"
   ]
  },
  {
   "cell_type": "markdown",
   "id": "b9f8c459",
   "metadata": {},
   "source": [
    "We could also grab the last two elements using:"
   ]
  },
  {
   "cell_type": "code",
   "execution_count": 40,
   "id": "f8310cbe",
   "metadata": {
    "execution": {
     "iopub.execute_input": "2023-03-15T08:50:58.007806Z",
     "iopub.status.busy": "2023-03-15T08:50:58.007118Z",
     "iopub.status.idle": "2023-03-15T08:50:58.011456Z",
     "shell.execute_reply": "2023-03-15T08:50:58.010906Z"
    }
   },
   "outputs": [
    {
     "data": {
      "text/plain": [
       "['bananas', 'apples']"
      ]
     },
     "execution_count": 40,
     "metadata": {},
     "output_type": "execute_result"
    }
   ],
   "source": [
    "shopping_list[-2:]"
   ]
  },
  {
   "cell_type": "markdown",
   "id": "1164f9e9",
   "metadata": {},
   "source": [
    "Or, we can get even more complex and grab all of the even number elements by using a third argument in the brackets that tells use the step size:"
   ]
  },
  {
   "cell_type": "code",
   "execution_count": 41,
   "id": "eac104f6",
   "metadata": {
    "execution": {
     "iopub.execute_input": "2023-03-15T08:50:58.014117Z",
     "iopub.status.busy": "2023-03-15T08:50:58.013670Z",
     "iopub.status.idle": "2023-03-15T08:50:58.017942Z",
     "shell.execute_reply": "2023-03-15T08:50:58.017425Z"
    }
   },
   "outputs": [
    {
     "data": {
      "text/plain": [
       "['eggs', 'milk', 'apples']"
      ]
     },
     "execution_count": 41,
     "metadata": {},
     "output_type": "execute_result"
    }
   ],
   "source": [
    "shopping_list[0::2]"
   ]
  },
  {
   "cell_type": "markdown",
   "id": "8bbed2b9",
   "metadata": {},
   "source": [
    "## Conditional Statements"
   ]
  },
  {
   "cell_type": "markdown",
   "id": "48d58f07",
   "metadata": {},
   "source": [
    "We have now seen a collection of data types (integers, doubles/floats, lists, strings) but we have yet to discuss how to compare two different variables.  For example, how do we check if two different integers $a$ and $b$ are equal?  Or how do we know if $a\\ge b$?  This is accomplished using **conditional statements**.  The basic operations in boolean logic are \"equal\" (```==```), \"not equal\" (```!=```), \"greater than\" (```>```), \"greater than or equal\" (```>=```), \"less than\" (```<```), and \"less than or equal\" (```<=```).  All of these conditionals operate on two variables and return a simple boolean ```True``` or ```False``` answer.  For example"
   ]
  },
  {
   "cell_type": "code",
   "execution_count": 42,
   "id": "7493cf00",
   "metadata": {
    "execution": {
     "iopub.execute_input": "2023-03-15T08:50:58.020628Z",
     "iopub.status.busy": "2023-03-15T08:50:58.019970Z",
     "iopub.status.idle": "2023-03-15T08:50:58.024528Z",
     "shell.execute_reply": "2023-03-15T08:50:58.023781Z"
    }
   },
   "outputs": [
    {
     "data": {
      "text/plain": [
       "False"
      ]
     },
     "execution_count": 42,
     "metadata": {},
     "output_type": "execute_result"
    }
   ],
   "source": [
    "a = 5\n",
    "b = 8\n",
    "a > b"
   ]
  },
  {
   "cell_type": "code",
   "execution_count": 43,
   "id": "134007dc",
   "metadata": {
    "execution": {
     "iopub.execute_input": "2023-03-15T08:50:58.027749Z",
     "iopub.status.busy": "2023-03-15T08:50:58.027378Z",
     "iopub.status.idle": "2023-03-15T08:50:58.031863Z",
     "shell.execute_reply": "2023-03-15T08:50:58.031325Z"
    }
   },
   "outputs": [
    {
     "data": {
      "text/plain": [
       "(True, True)"
      ]
     },
     "execution_count": 43,
     "metadata": {},
     "output_type": "execute_result"
    }
   ],
   "source": [
    "c = 0\n",
    "c <= 0, c >= 0"
   ]
  },
  {
   "cell_type": "code",
   "execution_count": 44,
   "id": "71edded4",
   "metadata": {
    "execution": {
     "iopub.execute_input": "2023-03-15T08:50:58.040755Z",
     "iopub.status.busy": "2023-03-15T08:50:58.040095Z",
     "iopub.status.idle": "2023-03-15T08:50:58.044380Z",
     "shell.execute_reply": "2023-03-15T08:50:58.043805Z"
    }
   },
   "outputs": [
    {
     "data": {
      "text/plain": [
       "(False, True)"
      ]
     },
     "execution_count": 44,
     "metadata": {},
     "output_type": "execute_result"
    }
   ],
   "source": [
    "a = 5\n",
    "b = 6\n",
    "a == b, a != b"
   ]
  },
  {
   "cell_type": "markdown",
   "id": "9d8c1290",
   "metadata": {},
   "source": [
    "It is important to point out that in Python ```1``` and ```0``` are the same as ```True``` and ```False```, respectively."
   ]
  },
  {
   "cell_type": "code",
   "execution_count": 45,
   "id": "f7126bd8",
   "metadata": {
    "execution": {
     "iopub.execute_input": "2023-03-15T08:50:58.049135Z",
     "iopub.status.busy": "2023-03-15T08:50:58.048559Z",
     "iopub.status.idle": "2023-03-15T08:50:58.053226Z",
     "shell.execute_reply": "2023-03-15T08:50:58.052548Z"
    }
   },
   "outputs": [
    {
     "data": {
      "text/plain": [
       "(True, True)"
      ]
     },
     "execution_count": 45,
     "metadata": {},
     "output_type": "execute_result"
    }
   ],
   "source": [
    "t = True\n",
    "f = False\n",
    "t == 1, f == 0"
   ]
  },
  {
   "cell_type": "markdown",
   "id": "03d0f24c",
   "metadata": {},
   "source": [
    "We can also combine multiple conditional statements"
   ]
  },
  {
   "cell_type": "code",
   "execution_count": 46,
   "id": "a98075bb",
   "metadata": {
    "execution": {
     "iopub.execute_input": "2023-03-15T08:50:58.055912Z",
     "iopub.status.busy": "2023-03-15T08:50:58.055678Z",
     "iopub.status.idle": "2023-03-15T08:50:58.060013Z",
     "shell.execute_reply": "2023-03-15T08:50:58.059440Z"
    }
   },
   "outputs": [
    {
     "data": {
      "text/plain": [
       "True"
      ]
     },
     "execution_count": 46,
     "metadata": {},
     "output_type": "execute_result"
    }
   ],
   "source": [
    "a = -1\n",
    "b = 4\n",
    "c = 10\n",
    "d = 11\n",
    "a < b < c != d"
   ]
  },
  {
   "cell_type": "markdown",
   "id": "015122f7",
   "metadata": {},
   "source": [
    "These operations can also be used on lists and strings:"
   ]
  },
  {
   "cell_type": "code",
   "execution_count": 47,
   "id": "f5051daa",
   "metadata": {
    "execution": {
     "iopub.execute_input": "2023-03-15T08:50:58.063104Z",
     "iopub.status.busy": "2023-03-15T08:50:58.062528Z",
     "iopub.status.idle": "2023-03-15T08:50:58.068906Z",
     "shell.execute_reply": "2023-03-15T08:50:58.068292Z"
    }
   },
   "outputs": [
    {
     "data": {
      "text/plain": [
       "False"
      ]
     },
     "execution_count": 47,
     "metadata": {},
     "output_type": "execute_result"
    }
   ],
   "source": [
    "[4, 5, 6] >= [4, 5, 7]"
   ]
  },
  {
   "cell_type": "code",
   "execution_count": 48,
   "id": "38aa5da4",
   "metadata": {
    "execution": {
     "iopub.execute_input": "2023-03-15T08:50:58.072040Z",
     "iopub.status.busy": "2023-03-15T08:50:58.071543Z",
     "iopub.status.idle": "2023-03-15T08:50:58.078002Z",
     "shell.execute_reply": "2023-03-15T08:50:58.077373Z"
    }
   },
   "outputs": [
    {
     "data": {
      "text/plain": [
       "True"
      ]
     },
     "execution_count": 48,
     "metadata": {},
     "output_type": "execute_result"
    }
   ],
   "source": [
    "[4, 5, 6] <= [4, 5, 7]"
   ]
  },
  {
   "cell_type": "code",
   "execution_count": 49,
   "id": "21ea5c13",
   "metadata": {
    "execution": {
     "iopub.execute_input": "2023-03-15T08:50:58.081291Z",
     "iopub.status.busy": "2023-03-15T08:50:58.080795Z",
     "iopub.status.idle": "2023-03-15T08:50:58.086684Z",
     "shell.execute_reply": "2023-03-15T08:50:58.086073Z"
    }
   },
   "outputs": [
    {
     "data": {
      "text/plain": [
       "False"
      ]
     },
     "execution_count": 49,
     "metadata": {},
     "output_type": "execute_result"
    }
   ],
   "source": [
    "\"today\" == \"Today\""
   ]
  },
  {
   "cell_type": "markdown",
   "id": "26d0b9f7",
   "metadata": {},
   "source": [
    "### Conditional Statements and Flow Control"
   ]
  },
  {
   "cell_type": "markdown",
   "id": "0bf8f58e",
   "metadata": {},
   "source": [
    "The main purpose of these conditional statements is to control the flow of a Python program.  The result of a conditional statement can be used to control a program using ```if/else``` and ```while``` statements."
   ]
  },
  {
   "cell_type": "code",
   "execution_count": 50,
   "id": "6a806dbf",
   "metadata": {
    "execution": {
     "iopub.execute_input": "2023-03-15T08:50:58.089817Z",
     "iopub.status.busy": "2023-03-15T08:50:58.089320Z",
     "iopub.status.idle": "2023-03-15T08:50:58.094526Z",
     "shell.execute_reply": "2023-03-15T08:50:58.093873Z"
    }
   },
   "outputs": [
    {
     "name": "stdout",
     "output_type": "stream",
     "text": [
      "We have class today :(\n"
     ]
    }
   ],
   "source": [
    "today = \"friday\"\n",
    "if today == \"friday\":\n",
    "    print(\"We have class today :(\")  # this is a code block\n",
    "else:\n",
    "    print(\"No class today :)\")  # this is also a code block"
   ]
  },
  {
   "cell_type": "markdown",
   "id": "4da09669",
   "metadata": {},
   "source": [
    "The code block below the ```if``` statement is run only if the conditional ```today=='friday'``` returns ```True```.  If the conditional is ```False``` then the code block inside the ```else``` statement is run.  We can also check multiple conditions by using the ``elif`` statement after ```if```:"
   ]
  },
  {
   "cell_type": "code",
   "execution_count": 51,
   "id": "dea30110",
   "metadata": {
    "execution": {
     "iopub.execute_input": "2023-03-15T08:50:58.097542Z",
     "iopub.status.busy": "2023-03-15T08:50:58.096968Z",
     "iopub.status.idle": "2023-03-15T08:50:58.102054Z",
     "shell.execute_reply": "2023-03-15T08:50:58.101429Z"
    }
   },
   "outputs": [
    {
     "name": "stdout",
     "output_type": "stream",
     "text": [
      "Our assignment is due today :(\n"
     ]
    }
   ],
   "source": [
    "today = \"thursday\"\n",
    "if today == \"friday\":\n",
    "    print(\"We have class today :(\")\n",
    "elif today == \"thursday\":\n",
    "    print(\"Our assignment is due today :(\")\n",
    "else:\n",
    "    print(\"No class today :)\")"
   ]
  },
  {
   "cell_type": "markdown",
   "id": "80a40a73",
   "metadata": {},
   "source": [
    "The other important flow control expression is the **```while``` loop** that executes a block of code repeatedly until the conditional statement at the start of the loop is ```False```."
   ]
  },
  {
   "cell_type": "code",
   "execution_count": 52,
   "id": "0cbda070",
   "metadata": {
    "execution": {
     "iopub.execute_input": "2023-03-15T08:50:58.104900Z",
     "iopub.status.busy": "2023-03-15T08:50:58.104542Z",
     "iopub.status.idle": "2023-03-15T08:50:58.110357Z",
     "shell.execute_reply": "2023-03-15T08:50:58.109695Z"
    }
   },
   "outputs": [
    {
     "name": "stdout",
     "output_type": "stream",
     "text": [
      "The current value of n is: 0\n",
      "The current value of n is: 1\n",
      "The current value of n is: 2\n",
      "The current value of n is: 3\n",
      "The current value of n is: 4\n",
      "The current value of n is: 5\n",
      "The current value of n is: 6\n",
      "The current value of n is: 7\n",
      "The current value of n is: 8\n",
      "The current value of n is: 9\n",
      "The current value of n is: 10\n"
     ]
    }
   ],
   "source": [
    "n = 0\n",
    "while n <= 10:  # evaluate code block until n>10\n",
    "    print(\"The current value of n is:\", n)\n",
    "    n = n + 1  # increase the value of n by 1"
   ]
  },
  {
   "cell_type": "markdown",
   "id": "2ed4c508",
   "metadata": {},
   "source": [
    "When using a ```while``` loop you must make sure the conditional is not ```True``` forever.  Otherwise your program will be in an **infinite loop** that never ends."
   ]
  },
  {
   "cell_type": "markdown",
   "id": "9641cf93",
   "metadata": {},
   "source": [
    "### Example: Even and Odd Numbers"
   ]
  },
  {
   "cell_type": "markdown",
   "id": "c4b7a666",
   "metadata": {},
   "source": [
    "Let us determine whether a given number between [1,10] is an even or odd number."
   ]
  },
  {
   "cell_type": "code",
   "execution_count": 53,
   "id": "43feab26",
   "metadata": {
    "execution": {
     "iopub.execute_input": "2023-03-15T08:50:58.113026Z",
     "iopub.status.busy": "2023-03-15T08:50:58.112486Z",
     "iopub.status.idle": "2023-03-15T08:50:58.116836Z",
     "shell.execute_reply": "2023-03-15T08:50:58.116120Z"
    }
   },
   "outputs": [
    {
     "name": "stdout",
     "output_type": "stream",
     "text": [
      "1 is odd\n",
      "2 is even\n",
      "3 is odd\n",
      "4 is even\n",
      "5 is odd\n",
      "6 is even\n",
      "7 is odd\n",
      "8 is even\n",
      "9 is odd\n",
      "10 is even\n"
     ]
    }
   ],
   "source": [
    "for n in [1, 2, 3, 4, 5, 6, 7, 8, 9, 10]:\n",
    "    if np.remainder(n, 2) == 0:\n",
    "        print(n, \"is even\")\n",
    "    else:\n",
    "        print(n, \"is odd\")"
   ]
  },
  {
   "cell_type": "markdown",
   "id": "bb1b9f23",
   "metadata": {},
   "source": [
    "Typing lists with a long sequence of integers is quite annoying.  Fortunately, Python has a builtin function called ```range``` that makes creating sequences of integers very easy.  For instance, the above example becomes"
   ]
  },
  {
   "cell_type": "code",
   "execution_count": 54,
   "id": "15ea0c9d",
   "metadata": {
    "execution": {
     "iopub.execute_input": "2023-03-15T08:50:58.120274Z",
     "iopub.status.busy": "2023-03-15T08:50:58.119878Z",
     "iopub.status.idle": "2023-03-15T08:50:58.123828Z",
     "shell.execute_reply": "2023-03-15T08:50:58.123253Z"
    }
   },
   "outputs": [
    {
     "name": "stdout",
     "output_type": "stream",
     "text": [
      "1 is odd\n",
      "2 is even\n",
      "3 is odd\n",
      "4 is even\n",
      "5 is odd\n",
      "6 is even\n",
      "7 is odd\n",
      "8 is even\n",
      "9 is odd\n",
      "10 is even\n"
     ]
    }
   ],
   "source": [
    "for n in range(1, 11):\n",
    "    if np.remainder(n, 2) == 0:\n",
    "        print(n, \"is even\")\n",
    "    else:\n",
    "        print(n, \"is odd\")"
   ]
  },
  {
   "cell_type": "markdown",
   "id": "301af828",
   "metadata": {},
   "source": [
    "Notice how the range function only counts to $10$ even though the range goes to $11$.  The endpoint is *never* part of the generated sequence when using ```range```.  If we wanted the ```range``` function to start at zero instead of one we could simply write ```range(11)```.  We can also make sequences that go in arbitrary steps:"
   ]
  },
  {
   "cell_type": "code",
   "execution_count": 55,
   "id": "992eb24a",
   "metadata": {
    "execution": {
     "iopub.execute_input": "2023-03-15T08:50:58.126743Z",
     "iopub.status.busy": "2023-03-15T08:50:58.126357Z",
     "iopub.status.idle": "2023-03-15T08:50:58.130051Z",
     "shell.execute_reply": "2023-03-15T08:50:58.129337Z"
    }
   },
   "outputs": [
    {
     "name": "stdout",
     "output_type": "stream",
     "text": [
      "0\n",
      "2\n",
      "4\n",
      "6\n",
      "8\n",
      "10\n"
     ]
    }
   ],
   "source": [
    "for n in range(0, 11, 2):\n",
    "    print(n)"
   ]
  },
  {
   "cell_type": "markdown",
   "id": "3f965348",
   "metadata": {},
   "source": [
    "The ```range``` function does not return a list of integers but is something called a **generator**.  In general, the ```range``` function should only be used in combination with the ```for``` command."
   ]
  },
  {
   "cell_type": "markdown",
   "id": "22b34152",
   "metadata": {},
   "source": [
    "### Example: Fibonacci Sequence"
   ]
  },
  {
   "cell_type": "markdown",
   "id": "45fa4441",
   "metadata": {},
   "source": [
    "Let us follow the Python documentation and calculate the first ten numbers in the Fibonacci sequence:"
   ]
  },
  {
   "cell_type": "code",
   "execution_count": 56,
   "id": "70ad6590",
   "metadata": {
    "execution": {
     "iopub.execute_input": "2023-03-15T08:50:58.133081Z",
     "iopub.status.busy": "2023-03-15T08:50:58.132737Z",
     "iopub.status.idle": "2023-03-15T08:50:58.136677Z",
     "shell.execute_reply": "2023-03-15T08:50:58.136150Z"
    }
   },
   "outputs": [
    {
     "name": "stdout",
     "output_type": "stream",
     "text": [
      "[0, 1, 1, 2, 3, 5, 8, 13, 21, 34]\n"
     ]
    }
   ],
   "source": [
    "n = 10\n",
    "fib = [0, 1]\n",
    "for i in range(2, n):\n",
    "    fib.append(fib[i - 1] + fib[i - 2])\n",
    "print(fib)"
   ]
  },
  {
   "cell_type": "markdown",
   "id": "db774126",
   "metadata": {},
   "source": [
    "We can also write this using a ```while``` loop if we wanted to."
   ]
  },
  {
   "cell_type": "code",
   "execution_count": 57,
   "id": "614e0571",
   "metadata": {
    "execution": {
     "iopub.execute_input": "2023-03-15T08:50:58.140167Z",
     "iopub.status.busy": "2023-03-15T08:50:58.139293Z",
     "iopub.status.idle": "2023-03-15T08:50:58.143753Z",
     "shell.execute_reply": "2023-03-15T08:50:58.143101Z"
    }
   },
   "outputs": [
    {
     "name": "stdout",
     "output_type": "stream",
     "text": [
      "[0, 1, 1, 2, 3, 5, 8, 13, 21, 34]\n"
     ]
    }
   ],
   "source": [
    "n = 2\n",
    "fib = [0, 1]\n",
    "while n < 10:\n",
    "    fib.append(fib[n - 1] + fib[n - 2])\n",
    "    n = n + 1\n",
    "print(fib)"
   ]
  },
  {
   "cell_type": "markdown",
   "id": "0de853c0",
   "metadata": {},
   "source": [
    "## Writing Scripts and Functions"
   ]
  },
  {
   "cell_type": "markdown",
   "id": "3c96fc20",
   "metadata": {},
   "source": [
    "Up until now we have been running little code snippets but have not really been doing any real programming.  Recall that Python is a scripting language.  Therefore, most of the time, we want to write **scripts** that contain a collection of constants, variables, data structures, functions, comments, etc., that perform various complicated tasks. "
   ]
  },
  {
   "cell_type": "markdown",
   "id": "d31d937c",
   "metadata": {},
   "source": [
    "###  Scripts"
   ]
  },
  {
   "cell_type": "markdown",
   "id": "826bebc5",
   "metadata": {},
   "source": [
    "A Python script file is nothing but a text file containing Python code that ends with a **.py** extension.  Python scripts are also called Python **programs**.  If we open up any editor, then we are given a blank window that we can enter our Python commands in."
   ]
  },
  {
   "cell_type": "markdown",
   "id": "cf350926",
   "metadata": {},
   "source": [
    "Before we begin to write our scripts, lets first discuss the best format for writing your scripts."
   ]
  },
  {
   "cell_type": "code",
   "execution_count": 58,
   "id": "d188f252",
   "metadata": {
    "execution": {
     "iopub.execute_input": "2023-03-15T08:50:58.146451Z",
     "iopub.status.busy": "2023-03-15T08:50:58.146099Z",
     "iopub.status.idle": "2023-03-15T08:50:58.150892Z",
     "shell.execute_reply": "2023-03-15T08:50:58.150355Z"
    }
   },
   "outputs": [
    {
     "name": "stdout",
     "output_type": "stream",
     "text": [
      "Series approximation: 0.7071067811796194\n",
      "Error: 6.928124740568364e-12\n"
     ]
    }
   ],
   "source": [
    "# This is an example script for the P461 class\n",
    "# Here we will calculate the series expansion\n",
    "# for sin(x) up to an arbitrary order N.\n",
    "#\n",
    "# Paul Nation, 02/03/2014\n",
    "\n",
    "N = 5  # The order of the series expansion\n",
    "x = np.pi / 4.0  # The point at which we want to evaluate sine\n",
    "\n",
    "ans = 0.0\n",
    "for k in range(N + 1):\n",
    "    ans = ans + (-1) ** k * x ** (1 + 2 * k) / factorial(1 + 2 * k)\n",
    "print(\"Series approximation:\", ans)\n",
    "print(\"Error:\", np.sin(x) - ans)"
   ]
  },
  {
   "cell_type": "markdown",
   "id": "528aafe8",
   "metadata": {},
   "source": [
    "We can see that the script has four main parts: First, we have a section of **comments** that describe what the script does and when it was created.  In python all comments start with the **```#```** symbol.  Everything after this symbol is ignored by the computer.  Second, we have the section of the scripts that load the necessary functions that we need from other packages.  Third is a section where we define all of the constants that are going to be used in the script. You should also add comments here that tell us what the constants are.  Finally, your main body of code goes after these sections."
   ]
  },
  {
   "cell_type": "markdown",
   "id": "8f3a44f8",
   "metadata": {},
   "source": [
    "### Functions"
   ]
  },
  {
   "cell_type": "markdown",
   "id": "bfbe36bd",
   "metadata": {},
   "source": [
    "We are finally in a position to look at one of the most important parts of any programming language **functions**.  Functions are blocks of code that accomplish a specific task. Functions usually take \"input arguments\", perform operations on these inputs, and then \"return\" one or more results. Functions can be used over and over again, and can also be \"called\" from the inside of other functions.  Let us rewrite our script for $sin(x)$ using a function and then describe each part."
   ]
  },
  {
   "cell_type": "code",
   "execution_count": 59,
   "id": "95572431",
   "metadata": {
    "execution": {
     "iopub.execute_input": "2023-03-15T08:50:58.154038Z",
     "iopub.status.busy": "2023-03-15T08:50:58.153496Z",
     "iopub.status.idle": "2023-03-15T08:50:58.159998Z",
     "shell.execute_reply": "2023-03-15T08:50:58.159177Z"
    }
   },
   "outputs": [
    {
     "name": "stdout",
     "output_type": "stream",
     "text": [
      "Series approximation: 0.7071067811796194\n",
      "Error: 6.928124740568364e-12\n"
     ]
    }
   ],
   "source": [
    "N = 5  # The order of the series expansion\n",
    "x = np.pi / 4.0  # The point at which we want to evaluate sine\n",
    "\n",
    "\n",
    "def sine_series(x, N):\n",
    "    ans = 0.0\n",
    "    for k in range(N + 1):\n",
    "        ans = ans + (-1) ** k * x ** (1 + 2 * k) / factorial(1 + 2 * k)\n",
    "    return ans\n",
    "\n",
    "\n",
    "result = sine_series(x, N)\n",
    "print(\"Series approximation:\", result)\n",
    "print(\"Error:\", np.sin(x) - result)"
   ]
  },
  {
   "cell_type": "markdown",
   "id": "61917cdb",
   "metadata": {},
   "source": [
    "We see see that a function is created using the keyword ```def``` which is short \"define\", then the name of the function followed by the input arguments in parentheses.  After the block of code called by the function, the ```return``` keyword specifies what variable(s) and/or data structure(s) are given as the output.  So a general functions call is"
   ]
  },
  {
   "cell_type": "code",
   "execution_count": 60,
   "id": "9839d707",
   "metadata": {
    "execution": {
     "iopub.execute_input": "2023-03-15T08:50:58.162806Z",
     "iopub.status.busy": "2023-03-15T08:50:58.162440Z",
     "iopub.status.idle": "2023-03-15T08:50:58.165645Z",
     "shell.execute_reply": "2023-03-15T08:50:58.164971Z"
    }
   },
   "outputs": [],
   "source": [
    "def function_name(arg1, arg2):\n",
    "    \"Block of code to run\"\n",
    "    \"...\"\n",
    "    return result"
   ]
  },
  {
   "cell_type": "markdown",
   "id": "9bf867f4",
   "metadata": {},
   "source": [
    "Again, everything after the colon (:) that is inside the function must be indented.  The beauty of using functions is that we can use the same code over and over, just by changing the constants near the top of our Python script.\n",
    "\n",
    "Variables that are defined inside of a function are called **local variables** and only defined for the block of code inside of the function.  In our previous example, ```k``` was a local variable.  The input arguments and return arguments are *not* local variables.  Once a function is done running, the local variables are erased from memory.  Therefore, if you want get something out of a function, your must return the value when your done."
   ]
  },
  {
   "cell_type": "markdown",
   "id": "40acf5d0",
   "metadata": {},
   "source": [
    "If we want to return more than one thing at the end of the function then we just need to separate the different items by a comma."
   ]
  },
  {
   "cell_type": "code",
   "execution_count": 61,
   "id": "03cbb6f3",
   "metadata": {
    "execution": {
     "iopub.execute_input": "2023-03-15T08:50:58.168350Z",
     "iopub.status.busy": "2023-03-15T08:50:58.167923Z",
     "iopub.status.idle": "2023-03-15T08:50:58.287842Z",
     "shell.execute_reply": "2023-03-15T08:50:58.287268Z"
    }
   },
   "outputs": [
    {
     "data": {
      "image/png": "[encoded data removed]",
      "text/plain": [
       "<Figure size 640x480 with 1 Axes>"
      ]
     },
     "metadata": {},
     "output_type": "display_data"
    }
   ],
   "source": [
    "N = 100  # Number of points to generate\n",
    "\n",
    "\n",
    "def random_coordinates(N):\n",
    "    x_coords = []\n",
    "    y_coords = []\n",
    "    for n in range(N):\n",
    "        xnew, ynew = np.random.random(2)\n",
    "        x_coords.append(xnew)\n",
    "        y_coords.append(ynew)\n",
    "    return x_coords, y_coords\n",
    "\n",
    "\n",
    "xc, yc = random_coordinates(N)\n",
    "plt.plot(xc, yc, \"ro\", markersize=8)\n",
    "plt.show()"
   ]
  },
  {
   "cell_type": "code",
   "execution_count": 62,
   "id": "37ecf3fc",
   "metadata": {
    "execution": {
     "iopub.execute_input": "2023-03-15T08:50:58.290609Z",
     "iopub.status.busy": "2023-03-15T08:50:58.290145Z",
     "iopub.status.idle": "2023-03-15T08:50:58.404570Z",
     "shell.execute_reply": "2023-03-15T08:50:58.403920Z"
    }
   },
   "outputs": [
    {
     "data": {
      "image/png": "[encoded data removed]",
      "text/plain": [
       "<Figure size 640x480 with 1 Axes>"
      ]
     },
     "metadata": {},
     "output_type": "display_data"
    }
   ],
   "source": [
    "N = 20  # Number of points to generate\n",
    "\n",
    "\n",
    "def random_coordinates(N):\n",
    "    x_coords = []\n",
    "    y_coords = []\n",
    "    for n in range(N):\n",
    "        xnew, ynew = np.random.random(2)\n",
    "        x_coords.append(xnew)\n",
    "        y_coords.append(ynew)\n",
    "    return x_coords, y_coords\n",
    "\n",
    "\n",
    "def dist2d(x1, y1, x2, y2):\n",
    "    return np.sqrt((x1 - x2) ** 2 + (y1 - y2) ** 2)\n",
    "\n",
    "\n",
    "def max_dist(xc, yc):\n",
    "    max_dist = 0.0\n",
    "    num_points = len(xc)\n",
    "    for ii in range(num_points):\n",
    "        for jj in range(num_points):\n",
    "            dist = dist2d(xc[ii], yc[ii], xc[jj], yc[jj])\n",
    "            if dist > max_dist:\n",
    "                max_dist = dist\n",
    "                xvals = [xc[ii], xc[jj]]\n",
    "                yvals = [yc[ii], yc[jj]]\n",
    "    return max_dist, xvals, yvals\n",
    "\n",
    "\n",
    "xc, yc = random_coordinates(N)\n",
    "max_dist, pnt1, pnt2 = max_dist(xc, yc)\n",
    "plt.plot(xc, yc, \"ro\", markersize=8)\n",
    "plt.plot(pnt1, pnt2, \"b-\", lw=2)\n",
    "plt.show()"
   ]
  },
  {
   "cell_type": "markdown",
   "id": "d5154249",
   "metadata": {},
   "source": [
    "Obvious this last example is more complex, and in particular, it is hard to understand what the functions.  Even for your own functions, you may often forget what your functions do unless you provide some documentation and comments in your scripts.  Here we will see how to properly document a function in Python by looking at the ```max_dist``` function:"
   ]
  },
  {
   "cell_type": "code",
   "execution_count": 63,
   "id": "1f6d5739",
   "metadata": {
    "execution": {
     "iopub.execute_input": "2023-03-15T08:50:58.408206Z",
     "iopub.status.busy": "2023-03-15T08:50:58.407213Z",
     "iopub.status.idle": "2023-03-15T08:50:58.413043Z",
     "shell.execute_reply": "2023-03-15T08:50:58.412354Z"
    }
   },
   "outputs": [],
   "source": [
    "def max_dist(xc, yc):\n",
    "    \"\"\"\n",
    "    Finds the maximum distance between any two points\n",
    "    in a collection of 2D points.  The points corresponding\n",
    "    to this distance are also returned.\n",
    "\n",
    "    Parameters\n",
    "    ----------\n",
    "    xc : list\n",
    "        List of x-coordinates\n",
    "    yc : list\n",
    "        List of y-coordinates\n",
    "\n",
    "    Returns\n",
    "    -------\n",
    "    max_dist : float\n",
    "        Maximum distance\n",
    "    xvals : list\n",
    "        x-coodinates of two points\n",
    "    yvals : list\n",
    "        y-coordinates of two points\n",
    "\n",
    "    \"\"\"\n",
    "    max_dist = 0.0  # initialize max_dist\n",
    "    num_points = len(xc)  # number of points in collection\n",
    "    for ii in range(num_points):\n",
    "        for jj in range(num_points):\n",
    "            dist = dist2d(xc[ii], yc[ii], xc[jj], yc[jj])\n",
    "            if dist > max_dist:\n",
    "                max_dist = dist\n",
    "                xvals = [xc[ii], xc[jj]]\n",
    "                yvals = [yc[ii], yc[jj]]\n",
    "    return max_dist, xvals, yvals"
   ]
  },
  {
   "cell_type": "markdown",
   "id": "aa20bba3",
   "metadata": {},
   "source": [
    "Everything inbetween the ```\"\"\"...\"\"\"``` is called a **docstring** and it gives a tells someone who is not familiar with a partiular functions a detailed explaination as to what the function does, what parameters it takes as inputs, and what values it returns.  It is also good practice to put some comments next to your local variables so the user knows what each of these is for. Although it seems like a lot of work at first, writing docstrings will make you a much better programmer in the future."
   ]
  },
  {
   "cell_type": "markdown",
   "id": "b8b813d1",
   "metadata": {},
   "source": [
    "<h1 align=\"center\">End of Tutorial</h1> \n",
    "<h3 align=\"center\"><a href=\"http://qutip.org/tutorials.html\">Return to QuTiP tutorials page</a></h3> "
   ]
  }
 ],
 "metadata": {
  "jupytext": {
   "cell_metadata_filter": "-all",
   "notebook_metadata_filter": "-jupytext.cell_metadata_filter,-jupytext.notebook_metadata_filter"
  },
  "kernelspec": {
   "display_name": "Python 3 (ipykernel)",
   "language": "python",
   "name": "python3"
  },
  "language_info": {
   "codemirror_mode": {
    "name": "ipython",
    "version": 3
   },
   "file_extension": ".py",
   "mimetype": "text/x-python",
   "name": "python",
   "nbconvert_exporter": "python",
   "pygments_lexer": "ipython3",
   "version": "3.11.5"
  }
 },
 "nbformat": 4,
 "nbformat_minor": 5
}
