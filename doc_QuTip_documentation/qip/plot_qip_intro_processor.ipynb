{
  "cells": [
    {
      "cell_type": "code",
      "execution_count": null,
      "metadata": {
        "collapsed": false
      },
      "outputs": [],
      "source": [
        "%matplotlib inline"
      ]
    },
    {
      "cell_type": "markdown",
      "metadata": {},
      "source": [
        "\n# Basic use of Processor\n\nThis example contains the basic functions of :class:`qutip.qip.device.Processor`. We define a simulator with control Hamiltonian, pulse amplitude and time slice for each pulse. The two figures illustrate the pulse shape for two different setup: step function or continuous pulse.\n"
      ]
    },
    {
      "cell_type": "code",
      "execution_count": null,
      "metadata": {
        "collapsed": false
      },
      "outputs": [],
      "source": [
        "import copy\nimport numpy as np\nimport matplotlib.pyplot as plt\npi = np.pi\nfrom qutip.qip.device import Processor\nfrom qutip.operators import sigmaz\nfrom qutip.states import basis\n\nprocessor = Processor(N=1)\nprocessor.add_control(sigmaz(), targets=0)\n\ntlist = np.linspace(0., 2*np.pi, 20)\nprocessor = Processor(N=1, spline_kind=\"step_func\")\nprocessor.add_control(sigmaz(), 0)\nprocessor.pulses[0].tlist = tlist\nprocessor.pulses[0].coeff = np.array([np.sin(t) for t in tlist])\nprocessor.plot_pulses()\n\ntlist = np.linspace(0., 2*np.pi, 20)\nprocessor = Processor(N=1, spline_kind=\"cubic\")\nprocessor.add_control(sigmaz())\nprocessor.pulses[0].tlist = tlist\nprocessor.pulses[0].coeff = np.array([np.sin(t) for t in tlist])\nprocessor.plot_pulses()"
      ]
    }
  ],
  "metadata": {
    "kernelspec": {
      "display_name": "Python 3",
      "language": "python",
      "name": "python3"
    },
    "language_info": {
      "codemirror_mode": {
        "name": "ipython",
        "version": 3
      },
      "file_extension": ".py",
      "mimetype": "text/x-python",
      "name": "python",
      "nbconvert_exporter": "python",
      "pygments_lexer": "ipython3",
      "version": "3.8.17"
    }
  },
  "nbformat": 4,
  "nbformat_minor": 0
}