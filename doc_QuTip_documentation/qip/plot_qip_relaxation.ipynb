{
  "cells": [
    {
      "cell_type": "code",
      "execution_count": null,
      "metadata": {
        "collapsed": false
      },
      "outputs": [],
      "source": [
        "%matplotlib inline"
      ]
    },
    {
      "cell_type": "markdown",
      "metadata": {},
      "source": [
        "\n# T2 Relaxation\n\nSimulating the T2 relaxation of a single qubit with :class:`qutip.qip.device.Processor`. The single qubit is driven by a rotation around z axis. We measure the population of the plus state as a function of time to see the Ramsey signal.\n"
      ]
    },
    {
      "cell_type": "code",
      "execution_count": null,
      "metadata": {
        "collapsed": false
      },
      "outputs": [],
      "source": [
        "import numpy as np\nimport matplotlib.pyplot as plt\nfrom qutip.qip.device import Processor\nfrom qutip.operators import sigmaz, destroy\nfrom qutip.qip.operations import snot\nfrom qutip.states import basis\n\na = destroy(2)\nHadamard = snot()\nplus_state = (basis(2,1) + basis(2,0)).unit()\ntlist = np.arange(0.00, 20.2, 0.2)\n\nT2 = 5\nprocessor = Processor(1, t2=T2)\nprocessor.add_control(sigmaz())\nprocessor.pulses[0].coeff = np.ones(len(tlist))\nprocessor.pulses[0].tlist = tlist\nresult = processor.run_state(\n    plus_state, e_ops=[a.dag()*a, Hadamard*a.dag()*a*Hadamard])\n\nfig, ax = plt.subplots()\n# detail about length of tlist needs to be fixed\nax.plot(tlist[:-1], result.expect[1][:-1], '.', label=\"simulation\")\nax.plot(tlist[:-1], np.exp(-1./T2*tlist[:-1])*0.5 + 0.5, label=\"theory\")\nax.set_xlabel(\"t\")\nax.set_ylabel(\"Ramsey signal\")\nax.legend()\nax.set_title(\"Relaxation T2=5\")\nax.grid()\nfig.tight_layout()\nfig.show()"
      ]
    }
  ],
  "metadata": {
    "kernelspec": {
      "display_name": "Python 3",
      "language": "python",
      "name": "python3"
    },
    "language_info": {
      "codemirror_mode": {
        "name": "ipython",
        "version": 3
      },
      "file_extension": ".py",
      "mimetype": "text/x-python",
      "name": "python",
      "nbconvert_exporter": "python",
      "pygments_lexer": "ipython3",
      "version": "3.8.17"
    }
  },
  "nbformat": 4,
  "nbformat_minor": 0
}