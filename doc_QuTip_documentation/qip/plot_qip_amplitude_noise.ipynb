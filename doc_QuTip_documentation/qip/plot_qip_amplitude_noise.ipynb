{
  "cells": [
    {
      "cell_type": "code",
      "execution_count": null,
      "metadata": {
        "collapsed": false
      },
      "outputs": [],
      "source": [
        "%matplotlib inline"
      ]
    },
    {
      "cell_type": "markdown",
      "metadata": {},
      "source": [
        "\n# Control Amplitude Noise\n\nThis example demonstrates how to add Gaussian noise to the control pulse.\n"
      ]
    },
    {
      "cell_type": "code",
      "execution_count": null,
      "metadata": {
        "collapsed": false
      },
      "outputs": [],
      "source": [
        "import numpy as np\nimport matplotlib.pyplot as plt\nfrom qutip.qip.device import Processor\nfrom qutip.qip.noise import RandomNoise\nfrom qutip.operators import sigmaz, sigmay\n\n# add control Hamiltonians\nprocessor = Processor(N=1)\nprocessor.add_control(sigmaz(), targets=0)\n\n# define pulse coefficients and tlist for all pulses\nprocessor.pulses[0].coeff = np.array([0.3, 0.5, 0. ])\nprocessor.set_all_tlist(np.array([0., np.pi/2., 2*np.pi/2, 3*np.pi/2]))\n\n# define noise, loc and scale are keyword arguments for np.random.normal\ngaussnoise = RandomNoise(\n            dt=0.01, rand_gen=np.random.normal, loc=0.00, scale=0.02)\nprocessor.add_noise(gaussnoise)\n\n# Plot the ideal pulse\nprocessor.plot_pulses(title=\"Original control amplitude\", figsize=(5,3))\n\n# Plot the noisy pulse\nqobjevo, _ = processor.get_qobjevo(noisy=True)\nnoisy_coeff = qobjevo.to_list()[1][1] + qobjevo.to_list()[2][1]\nfig2, ax2 = processor.plot_pulses(title=\"Noisy control amplitude\", figsize=(5,3))\nax2[0].step(qobjevo.tlist, noisy_coeff)"
      ]
    }
  ],
  "metadata": {
    "kernelspec": {
      "display_name": "Python 3",
      "language": "python",
      "name": "python3"
    },
    "language_info": {
      "codemirror_mode": {
        "name": "ipython",
        "version": 3
      },
      "file_extension": ".py",
      "mimetype": "text/x-python",
      "name": "python",
      "nbconvert_exporter": "python",
      "pygments_lexer": "ipython3",
      "version": "3.8.17"
    }
  },
  "nbformat": 4,
  "nbformat_minor": 0
}