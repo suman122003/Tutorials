{
 "cells": [
  {
   "cell_type": "markdown",
   "id": "1138611d",
   "metadata": {},
   "source": [
    "# [Basic Operations on Quantum Objects](https://qutip.org/docs/latest/guide/guide-basics.html)"
   ]
  },
  {
   "cell_type": "markdown",
   "id": "b4a9f9d4",
   "metadata": {},
   "source": [
    "Link: https://qutip.org/docs/latest/guide/guide-basics.html"
   ]
  },
  {
   "cell_type": "code",
   "execution_count": 38,
   "id": "0ad78fef",
   "metadata": {},
   "outputs": [],
   "source": [
    "import numpy as np\n",
    "import pandas as pd\n",
    "import matplotlib.pyplot as plt\n",
    "# import seaborn as sns\n",
    "import sympy as sp\n",
    "# import plotly.express as px\n",
    "# import plotly.graph_objects as go"
   ]
  },
  {
   "cell_type": "code",
   "execution_count": 1,
   "id": "ebb98c28",
   "metadata": {},
   "outputs": [],
   "source": [
    "from qutip import *"
   ]
  },
  {
   "cell_type": "code",
   "execution_count": 2,
   "id": "da2bcb38",
   "metadata": {},
   "outputs": [
    {
     "name": "stdout",
     "output_type": "stream",
     "text": [
      "\n",
      "QuTiP: Quantum Toolbox in Python\n",
      "================================\n",
      "Copyright (c) QuTiP team 2011 and later.\n",
      "Current admin team: Alexander Pitchford, Nathan Shammah, Shahnawaz Ahmed, Neill Lambert, Eric Giguère, Boxi Li, Jake Lishman, Simon Cross and Asier Galicia.\n",
      "Board members: Daniel Burgarth, Robert Johansson, Anton F. Kockum, Franco Nori and Will Zeng.\n",
      "Original developers: R. J. Johansson & P. D. Nation.\n",
      "Previous lead developers: Chris Granade & A. Grimsmo.\n",
      "Currently developed through wide collaboration. See https://github.com/qutip for details.\n",
      "\n",
      "QuTiP Version:      4.7.3\n",
      "Numpy Version:      1.24.1\n",
      "Scipy Version:      1.10.1\n",
      "Cython Version:     None\n",
      "Matplotlib Version: 3.6.3\n",
      "Python Version:     3.11.5\n",
      "Number of CPUs:     12\n",
      "BLAS Info:          OPENBLAS\n",
      "OPENMP Installed:   False\n",
      "INTEL MKL Ext:      False\n",
      "Platform Info:      Windows (AMD64)\n",
      "Installation path:  C:\\Users\\suman\\AppData\\Roaming\\Python\\Python311\\site-packages\\qutip\n",
      "================================================================================\n",
      "Please cite QuTiP in your publication.\n",
      "================================================================================\n",
      "For your convenience a bibtex reference can be easily generated using `qutip.cite()`\n"
     ]
    }
   ],
   "source": [
    "qutip.about()"
   ]
  },
  {
   "cell_type": "code",
   "execution_count": 3,
   "id": "52696326",
   "metadata": {},
   "outputs": [
    {
     "name": "stdout",
     "output_type": "stream",
     "text": [
      "@article{qutip2,\n",
      "doi = {10.1016/j.cpc.2012.11.019},\n",
      "url = {https://doi.org/10.1016/j.cpc.2012.11.019},\n",
      "year  = {2013},\n",
      "month = {apr},\n",
      "publisher = {Elsevier {BV}},\n",
      "volume = {184},\n",
      "number = {4},\n",
      "pages = {1234--1240},\n",
      "author = {J.R. Johansson and P.D. Nation and F. Nori},\n",
      "title = {{QuTiP} 2: A {P}ython framework for the dynamics of open quantum systems},\n",
      "journal = {Computer Physics Communications}\n",
      "}\n",
      "@article{qutip1,\n",
      "doi = {10.1016/j.cpc.2012.02.021},\n",
      "url = {https://doi.org/10.1016/j.cpc.2012.02.021},\n",
      "year  = {2012},\n",
      "month = {aug},\n",
      "publisher = {Elsevier {BV}},\n",
      "volume = {183},\n",
      "number = {8},\n",
      "pages = {1760--1772},\n",
      "author = {J.R. Johansson and P.D. Nation and F. Nori},\n",
      "title = {{QuTiP}: An open-source {P}ython framework for the dynamics of open quantum systems},\n",
      "journal = {Computer Physics Communications}\n",
      "}\n"
     ]
    }
   ],
   "source": [
    "qutip.cite()"
   ]
  },
  {
   "cell_type": "markdown",
   "id": "af0a7da3",
   "metadata": {},
   "source": [
    "## [The Quantum Object class](https://qutip.org/docs/latest/guide/guide-basics.html#the-quantum-object-class)"
   ]
  },
  {
   "cell_type": "code",
   "execution_count": 40,
   "id": "9bf1729f",
   "metadata": {},
   "outputs": [
    {
     "data": {
      "text/latex": [
       "Quantum object: dims = [[1], [1]], shape = (1, 1), type = bra $ \\\\ \\left(\\begin{matrix}0.0\\\\\\end{matrix}\\right)$"
      ],
      "text/plain": [
       "Quantum object: dims = [[1], [1]], shape = (1, 1), type = bra\n",
       "Qobj data =\n",
       "[[0.]]"
      ]
     },
     "execution_count": 40,
     "metadata": {},
     "output_type": "execute_result"
    }
   ],
   "source": [
    "Qobj() # blank"
   ]
  },
  {
   "cell_type": "markdown",
   "id": "ee3a5d09",
   "metadata": {},
   "source": [
    "By convention, the names of Python classes, such as [**`qutip.Qobj()`**](https://qutip.org/docs/latest/apidoc/classes.html#qutip.Qobj), are capitalized whereas the names of functions are not."
   ]
  },
  {
   "cell_type": "code",
   "execution_count": 41,
   "id": "7d9e227f",
   "metadata": {},
   "outputs": [
    {
     "data": {
      "text/latex": [
       "Quantum object: dims = [[4], [1]], shape = (4, 1), type = ket $ \\\\ \\left(\\begin{matrix}1.0\\\\2.0\\\\4.0\\\\6.0\\\\\\end{matrix}\\right)$"
      ],
      "text/plain": [
       "Quantum object: dims = [[4], [1]], shape = (4, 1), type = ket\n",
       "Qobj data =\n",
       "[[1.]\n",
       " [2.]\n",
       " [4.]\n",
       " [6.]]"
      ]
     },
     "execution_count": 41,
     "metadata": {},
     "output_type": "execute_result"
    }
   ],
   "source": [
    "Qobj([[1],[2],[4],[6]]) # 4X1 array"
   ]
  },
  {
   "cell_type": "code",
   "execution_count": 42,
   "id": "80b65087",
   "metadata": {},
   "outputs": [
    {
     "data": {
      "text/latex": [
       "Quantum object: dims = [[4], [1]], shape = (4, 1), type = ket $ \\\\ \\left(\\begin{matrix}5.0\\\\3.0\\\\5.0\\\\7.0\\\\\\end{matrix}\\right)$"
      ],
      "text/plain": [
       "Quantum object: dims = [[4], [1]], shape = (4, 1), type = ket\n",
       "Qobj data =\n",
       "[[5.]\n",
       " [3.]\n",
       " [5.]\n",
       " [7.]]"
      ]
     },
     "execution_count": 42,
     "metadata": {},
     "output_type": "execute_result"
    }
   ],
   "source": [
    "ketvec1 = np.array([5,3,5,7])  # 4X_ array\n",
    "Qobj(ketvec1)"
   ]
  },
  {
   "cell_type": "code",
   "execution_count": 43,
   "id": "324ad215",
   "metadata": {},
   "outputs": [
    {
     "data": {
      "text/latex": [
       "Quantum object: dims = [[1], [4]], shape = (1, 4), type = bra $ \\\\ \\left(\\begin{matrix}5.0 & 6.0 & 7.0 & 0.0\\\\\\end{matrix}\\right)$"
      ],
      "text/plain": [
       "Quantum object: dims = [[1], [4]], shape = (1, 4), type = bra\n",
       "Qobj data =\n",
       "[[5. 6. 7. 0.]]"
      ]
     },
     "execution_count": 43,
     "metadata": {},
     "output_type": "execute_result"
    }
   ],
   "source": [
    "bravec1 = np.array([[5,6,7,0]]) # 1X4 array\n",
    "Qobj(bravec1)"
   ]
  },
  {
   "cell_type": "code",
   "execution_count": 44,
   "id": "ba20dbdc",
   "metadata": {},
   "outputs": [
    {
     "data": {
      "text/latex": [
       "Quantum object: dims = [[4], [4]], shape = (4, 4), type = oper, isherm = False $ \\\\ \\left(\\begin{matrix}0.179 & 0.466 & 0.245 & 0.123\\\\0.698 & 0.756 & 0.314 & 0.227\\\\0.893 & 0.289 & 0.284 & 0.097\\\\0.781 & 0.373 & 0.759 & 0.842\\\\\\end{matrix}\\right)$"
      ],
      "text/plain": [
       "Quantum object: dims = [[4], [4]], shape = (4, 4), type = oper, isherm = False\n",
       "Qobj data =\n",
       "[[0.17941103 0.46584094 0.24535724 0.12282665]\n",
       " [0.69824587 0.75605184 0.31434193 0.22673961]\n",
       " [0.89346505 0.28888439 0.28438641 0.09664995]\n",
       " [0.7810268  0.37288025 0.75894338 0.84221858]]"
      ]
     },
     "execution_count": 44,
     "metadata": {},
     "output_type": "execute_result"
    }
   ],
   "source": [
    "opmat1 = np.random.rand(4,4) # 4X4 array\n",
    "Qobj(opmat1)"
   ]
  },
  {
   "cell_type": "markdown",
   "id": "c6430801",
   "metadata": {},
   "source": [
    "### [States and Operators](https://qutip.org/docs/latest/guide/guide-basics.html#states-and-operators)\n",
    "\n",
    "QuTiP includes predefined objects for a variety of states and operators:"
   ]
  },
  {
   "cell_type": "markdown",
   "id": "498c1cc2",
   "metadata": {},
   "source": [
    "| States                                | Command (optional)                               | Inputs                                                   |\n",
    "| ------------------------------------- | ------------------------------------ | -------------------------------------------------------- |\n",
    "| Fock state ket vector                  | `basis(N, m)` / `fock(N, m)`                  | N = number of levels in Hilbert space, m = level containing excitation (0 if not given) |\n",
    "| Fock density matrix (outer product of basis) | `fock_dm(N, p)`                               | same as basis(N, m) / fock(N, m)                       |\n",
    "| Coherent state                        | `coherent(N, alpha)`                         | alpha = complex number (eigenvalue) for requested coherent state |\n",
    "| Coherent density matrix (outer product) | `coherent_dm(N, alpha)`                      | same as coherent(N, alpha)                              |\n",
    "| Thermal density matrix (for n particles) | `thermal_dm(N, n)`                          | n = particle number expectation value                    |\n"
   ]
  },
  {
   "cell_type": "markdown",
   "id": "2e72f5d2",
   "metadata": {},
   "source": [
    "| Operators                             | Command (optional)                         | Inputs                                                          |\n",
    "| ------------------------------------- | ------------------------------------ | --------------------------------------------------------------- |\n",
    "| Charge operator                        | `charge(N, M=-N)`                        | Diagonal operator with entries from M..0..N.                   |\n",
    "| Commutator                            | `commutator(A, B, kind)`                 | Kind = 'normal' or 'anti'.                                     |\n",
    "| Diagonals operator                    | `qdiags(N)`                              | Quantum object created from arrays of diagonals at given offsets. |\n",
    "| Displacement operator (Single-mode)    | `displace(N, alpha)`                     | N=number of levels in Hilbert space, alpha = complex displacement amplitude. |\n",
    "| Higher spin operators                  | `jmat(j, s)`                            | j = integer or half-integer representing spin, s = 'x', 'y', 'z', '+', or '-'. |\n",
    "| Identity                               | `qeye(N)`                                | N = number of levels in Hilbert space.                         |\n",
    "| Lowering (destruction) operator       | `destroy(N)`                             | same as above.                                                  |\n",
    "| Momentum operator                      | `momentum(N)`                            | same as above.                                                  |\n",
    "| Number operator                        | `num(N)`                                 | same as above.                                                  |\n",
    "| Phase operator (Single-mode)          | `phase(N, phi0)`                        | Single-mode Pegg-Barnett phase operator with ref phase phi0.   |\n",
    "| Position operator                      | `position(N)`                            | same as above.                                                  |\n",
    "| Raising (creation) operator            | `create(N)`                              | same as above.                                                  |\n",
    "| Squeezing operator (Single-mode)      | `squeeze(N, sp)`                         | N=number of levels in Hilbert space, sp = squeezing parameter.  |\n",
    "| Squeezing operator (Generalized)      | `squeezing(q1, q2, sp)`                  | q1, q2 = Quantum operators (Qobj), sp = squeezing parameter.    |\n",
    "| Sigma-X                               | `sigmax()`                               |                                                                |\n",
    "| Sigma-Y                               | `sigmay()`                               |                                                                |\n",
    "| Sigma-Z                               | `sigmaz()`                               |                                                                |\n",
    "| Sigma plus                            | `sigmap()`                               |                                                                |\n",
    "| Sigma minus                           | `sigmam()`                               |                                                                |\n",
    "| Tunneling operator                     | `tunneling(N, m)`                        | Tunneling operator with elements of the form `$|N\\rangle\\langle N+m|+|N+m\\rangle\\langle N|$`. |\n",
    "\n",
    "Tunneling operator with elements of the form $|N\\rangle\\langle N+m|+|N+m\\rangle\\langle N|$.\n"
   ]
  },
  {
   "cell_type": "code",
   "execution_count": 45,
   "id": "af7995a2",
   "metadata": {},
   "outputs": [
    {
     "data": {
      "text/latex": [
       "Quantum object: dims = [[5], [1]], shape = (5, 1), type = ket $ \\\\ \\left(\\begin{matrix}0.0\\\\0.0\\\\0.0\\\\1.0\\\\0.0\\\\\\end{matrix}\\right)$"
      ],
      "text/plain": [
       "Quantum object: dims = [[5], [1]], shape = (5, 1), type = ket\n",
       "Qobj data =\n",
       "[[0.]\n",
       " [0.]\n",
       " [0.]\n",
       " [1.]\n",
       " [0.]]"
      ]
     },
     "execution_count": 45,
     "metadata": {},
     "output_type": "execute_result"
    }
   ],
   "source": [
    "basis(5, 3)"
   ]
  },
  {
   "cell_type": "code",
   "execution_count": 46,
   "id": "24eb1973",
   "metadata": {},
   "outputs": [
    {
     "data": {
      "text/latex": [
       "Quantum object: dims = [[5], [1]], shape = (5, 1), type = ket $ \\\\ \\left(\\begin{matrix}0.779\\\\(0.389-0.389j)\\\\-0.275j\\\\(-0.079-0.079j)\\\\-0.043\\\\\\end{matrix}\\right)$"
      ],
      "text/plain": [
       "Quantum object: dims = [[5], [1]], shape = (5, 1), type = ket\n",
       "Qobj data =\n",
       "[[ 0.7788017 +0.j        ]\n",
       " [ 0.38939142-0.38939142j]\n",
       " [ 0.        -0.27545895j]\n",
       " [-0.07898617-0.07898617j]\n",
       " [-0.04314271+0.j        ]]"
      ]
     },
     "execution_count": 46,
     "metadata": {},
     "output_type": "execute_result"
    }
   ],
   "source": [
    "coherent(5, 0.5-0.5j)"
   ]
  },
  {
   "cell_type": "code",
   "execution_count": 47,
   "id": "1ff770b1",
   "metadata": {},
   "outputs": [
    {
     "data": {
      "text/latex": [
       "Quantum object: dims = [[4], [4]], shape = (4, 4), type = oper, isherm = False $ \\\\ \\left(\\begin{matrix}0.0 & 1.0 & 0.0 & 0.0\\\\0.0 & 0.0 & 1.414 & 0.0\\\\0.0 & 0.0 & 0.0 & 1.732\\\\0.0 & 0.0 & 0.0 & 0.0\\\\\\end{matrix}\\right)$"
      ],
      "text/plain": [
       "Quantum object: dims = [[4], [4]], shape = (4, 4), type = oper, isherm = False\n",
       "Qobj data =\n",
       "[[0.         1.         0.         0.        ]\n",
       " [0.         0.         1.41421356 0.        ]\n",
       " [0.         0.         0.         1.73205081]\n",
       " [0.         0.         0.         0.        ]]"
      ]
     },
     "execution_count": 47,
     "metadata": {},
     "output_type": "execute_result"
    }
   ],
   "source": [
    "destroy(4)"
   ]
  },
  {
   "cell_type": "code",
   "execution_count": 48,
   "id": "45bd5092",
   "metadata": {},
   "outputs": [
    {
     "data": {
      "text/latex": [
       "Quantum object: dims = [[2], [2]], shape = (2, 2), type = oper, isherm = True $ \\\\ \\left(\\begin{matrix}1.0 & 0.0\\\\0.0 & -1.0\\\\\\end{matrix}\\right)$"
      ],
      "text/plain": [
       "Quantum object: dims = [[2], [2]], shape = (2, 2), type = oper, isherm = True\n",
       "Qobj data =\n",
       "[[ 1.  0.]\n",
       " [ 0. -1.]]"
      ]
     },
     "execution_count": 48,
     "metadata": {},
     "output_type": "execute_result"
    }
   ],
   "source": [
    "sigmaz()"
   ]
  },
  {
   "cell_type": "code",
   "execution_count": 49,
   "id": "e633ff07",
   "metadata": {},
   "outputs": [
    {
     "data": {
      "text/latex": [
       "Quantum object: dims = [[6], [6]], shape = (6, 6), type = oper, isherm = False $ \\\\ \\left(\\begin{matrix}0.0 & 2.236 & 0.0 & 0.0 & 0.0 & 0.0\\\\0.0 & 0.0 & 2.828 & 0.0 & 0.0 & 0.0\\\\0.0 & 0.0 & 0.0 & 3.0 & 0.0 & 0.0\\\\0.0 & 0.0 & 0.0 & 0.0 & 2.828 & 0.0\\\\0.0 & 0.0 & 0.0 & 0.0 & 0.0 & 2.236\\\\0.0 & 0.0 & 0.0 & 0.0 & 0.0 & 0.0\\\\\\end{matrix}\\right)$"
      ],
      "text/plain": [
       "Quantum object: dims = [[6], [6]], shape = (6, 6), type = oper, isherm = False\n",
       "Qobj data =\n",
       "[[0.         2.23606798 0.         0.         0.         0.        ]\n",
       " [0.         0.         2.82842712 0.         0.         0.        ]\n",
       " [0.         0.         0.         3.         0.         0.        ]\n",
       " [0.         0.         0.         0.         2.82842712 0.        ]\n",
       " [0.         0.         0.         0.         0.         2.23606798]\n",
       " [0.         0.         0.         0.         0.         0.        ]]"
      ]
     },
     "execution_count": 49,
     "metadata": {},
     "output_type": "execute_result"
    }
   ],
   "source": [
    "jmat(5/2, '+')"
   ]
  },
  {
   "cell_type": "markdown",
   "id": "ad59f219",
   "metadata": {},
   "source": [
    "### [**`Qobj`** attributes](https://qutip.org/docs/latest/guide/guide-basics.html#qobj-attributes)"
   ]
  },
  {
   "cell_type": "markdown",
   "id": "cfe574c6",
   "metadata": {},
   "source": [
    "| Property        | Attribute          | Description                                                                                     |\n",
    "| --------------- | ------------------ | ----------------------------------------------------------------------------------------------- |\n",
    "| Data            | `Q.data`           | Matrix representing state or operator                                                           |\n",
    "| Dimensions      | `Q.dims`           | List keeping track of shapes for individual components of a multipartite system (for tensor products and partial traces). |\n",
    "| Shape           | `Q.shape`          | Dimensions of underlying data matrix.                                                            |\n",
    "| is Hermitian?   | `Q.isherm`         | Is the operator Hermitian or not?                                                                |\n",
    "| Type            | `Q.type`           | Is object of type 'ket', 'bra', 'oper', or 'super'?                                             |\n"
   ]
  },
  {
   "cell_type": "code",
   "execution_count": 50,
   "id": "8f80bb60",
   "metadata": {},
   "outputs": [
    {
     "name": "stdout",
     "output_type": "stream",
     "text": [
      "[[4], [4]]\n",
      "(4, 4)\n",
      "oper\n",
      "False\n"
     ]
    },
    {
     "data": {
      "text/plain": [
       "<4x4 sparse matrix of type '<class 'numpy.complex128'>'\n",
       "\twith 3 stored elements in Compressed Sparse Row format>"
      ]
     },
     "metadata": {},
     "output_type": "display_data"
    },
    {
     "name": "stdout",
     "output_type": "stream",
     "text": [
      "  (0, 1)\t(1+0j)\n",
      "  (1, 2)\t(1.4142135623730951+0j)\n",
      "  (2, 3)\t(1.7320508075688772+0j)\n"
     ]
    }
   ],
   "source": [
    "q = destroy(4)\n",
    "print(q.dims)\n",
    "print(q.shape)\n",
    "print(q.type)\n",
    "print(q.isherm)\n",
    "display(q.data)\n",
    "print(q.data)"
   ]
  },
  {
   "cell_type": "code",
   "execution_count": 51,
   "id": "2054dc60",
   "metadata": {},
   "outputs": [
    {
     "data": {
      "text/plain": [
       "array([[0.        +0.j, 1.        +0.j, 0.        +0.j, 0.        +0.j],\n",
       "       [0.        +0.j, 0.        +0.j, 1.41421356+0.j, 0.        +0.j],\n",
       "       [0.        +0.j, 0.        +0.j, 0.        +0.j, 1.73205081+0.j],\n",
       "       [0.        +0.j, 0.        +0.j, 0.        +0.j, 0.        +0.j]])"
      ]
     },
     "execution_count": 51,
     "metadata": {},
     "output_type": "execute_result"
    }
   ],
   "source": [
    "Qobj.full(q)"
   ]
  },
  {
   "cell_type": "markdown",
   "id": "59d7fd7c",
   "metadata": {},
   "source": [
    "### [Qobj Math](https://qutip.org/docs/latest/guide/guide-basics.html#qobj-math)"
   ]
  },
  {
   "cell_type": "code",
   "execution_count": 52,
   "id": "04ef1752",
   "metadata": {},
   "outputs": [
    {
     "data": {
      "text/plain": [
       "'q'"
      ]
     },
     "metadata": {},
     "output_type": "display_data"
    },
    {
     "data": {
      "text/latex": [
       "Quantum object: dims = [[4], [4]], shape = (4, 4), type = oper, isherm = False $ \\\\ \\left(\\begin{matrix}0.0 & 1.0 & 0.0 & 0.0\\\\0.0 & 0.0 & 1.414 & 0.0\\\\0.0 & 0.0 & 0.0 & 1.732\\\\0.0 & 0.0 & 0.0 & 0.0\\\\\\end{matrix}\\right)$"
      ],
      "text/plain": [
       "Quantum object: dims = [[4], [4]], shape = (4, 4), type = oper, isherm = False\n",
       "Qobj data =\n",
       "[[0.         1.         0.         0.        ]\n",
       " [0.         0.         1.41421356 0.        ]\n",
       " [0.         0.         0.         1.73205081]\n",
       " [0.         0.         0.         0.        ]]"
      ]
     },
     "metadata": {},
     "output_type": "display_data"
    },
    {
     "data": {
      "text/plain": [
       "'q+5'"
      ]
     },
     "metadata": {},
     "output_type": "display_data"
    },
    {
     "data": {
      "text/latex": [
       "Quantum object: dims = [[4], [4]], shape = (4, 4), type = oper, isherm = False $ \\\\ \\left(\\begin{matrix}5.0 & 1.0 & 0.0 & 0.0\\\\0.0 & 5.0 & 1.414 & 0.0\\\\0.0 & 0.0 & 5.0 & 1.732\\\\0.0 & 0.0 & 0.0 & 5.0\\\\\\end{matrix}\\right)$"
      ],
      "text/plain": [
       "Quantum object: dims = [[4], [4]], shape = (4, 4), type = oper, isherm = False\n",
       "Qobj data =\n",
       "[[5.         1.         0.         0.        ]\n",
       " [0.         5.         1.41421356 0.        ]\n",
       " [0.         0.         5.         1.73205081]\n",
       " [0.         0.         0.         5.        ]]"
      ]
     },
     "metadata": {},
     "output_type": "display_data"
    },
    {
     "data": {
      "text/plain": [
       "'q^3'"
      ]
     },
     "metadata": {},
     "output_type": "display_data"
    },
    {
     "data": {
      "text/latex": [
       "Quantum object: dims = [[4], [4]], shape = (4, 4), type = oper, isherm = False $ \\\\ \\left(\\begin{matrix}0.0 & 0.0 & 0.0 & 2.449\\\\0.0 & 0.0 & 0.0 & 0.0\\\\0.0 & 0.0 & 0.0 & 0.0\\\\0.0 & 0.0 & 0.0 & 0.0\\\\\\end{matrix}\\right)$"
      ],
      "text/plain": [
       "Quantum object: dims = [[4], [4]], shape = (4, 4), type = oper, isherm = False\n",
       "Qobj data =\n",
       "[[0.         0.         0.         2.44948974]\n",
       " [0.         0.         0.         0.        ]\n",
       " [0.         0.         0.         0.        ]\n",
       " [0.         0.         0.         0.        ]]"
      ]
     },
     "metadata": {},
     "output_type": "display_data"
    },
    {
     "data": {
      "text/plain": [
       "'x'"
      ]
     },
     "metadata": {},
     "output_type": "display_data"
    },
    {
     "data": {
      "text/latex": [
       "Quantum object: dims = [[2], [2]], shape = (2, 2), type = oper, isherm = True $ \\\\ \\left(\\begin{matrix}0.0 & 1.0\\\\1.0 & 0.0\\\\\\end{matrix}\\right)$"
      ],
      "text/plain": [
       "Quantum object: dims = [[2], [2]], shape = (2, 2), type = oper, isherm = True\n",
       "Qobj data =\n",
       "[[0. 1.]\n",
       " [1. 0.]]"
      ]
     },
     "metadata": {},
     "output_type": "display_data"
    },
    {
     "data": {
      "text/plain": [
       "'x*x'"
      ]
     },
     "metadata": {},
     "output_type": "display_data"
    },
    {
     "data": {
      "text/latex": [
       "Quantum object: dims = [[2], [2]], shape = (2, 2), type = oper, isherm = True $ \\\\ \\left(\\begin{matrix}1.0 & 0.0\\\\0.0 & 1.0\\\\\\end{matrix}\\right)$"
      ],
      "text/plain": [
       "Quantum object: dims = [[2], [2]], shape = (2, 2), type = oper, isherm = True\n",
       "Qobj data =\n",
       "[[1. 0.]\n",
       " [0. 1.]]"
      ]
     },
     "metadata": {},
     "output_type": "display_data"
    },
    {
     "data": {
      "text/latex": [
       "Quantum object: dims = [[2], [2]], shape = (2, 2), type = oper, isherm = True $ \\\\ \\left(\\begin{matrix}1.0 & 0.0\\\\0.0 & 1.0\\\\\\end{matrix}\\right)$"
      ],
      "text/plain": [
       "Quantum object: dims = [[2], [2]], shape = (2, 2), type = oper, isherm = True\n",
       "Qobj data =\n",
       "[[1. 0.]\n",
       " [0. 1.]]"
      ]
     },
     "metadata": {},
     "output_type": "display_data"
    },
    {
     "data": {
      "text/plain": [
       "'x/rt2'"
      ]
     },
     "metadata": {},
     "output_type": "display_data"
    },
    {
     "data": {
      "text/latex": [
       "Quantum object: dims = [[2], [2]], shape = (2, 2), type = oper, isherm = True $ \\\\ \\left(\\begin{matrix}0.0 & 0.707\\\\0.707 & 0.0\\\\\\end{matrix}\\right)$"
      ],
      "text/plain": [
       "Quantum object: dims = [[2], [2]], shape = (2, 2), type = oper, isherm = True\n",
       "Qobj data =\n",
       "[[0.         0.70710678]\n",
       " [0.70710678 0.        ]]"
      ]
     },
     "metadata": {},
     "output_type": "display_data"
    }
   ],
   "source": [
    "q = destroy(4)\n",
    "x = sigmax()\n",
    "display('q', q, 'q+5', q+5, 'q^3', q**3)\n",
    "display('x', x, 'x*x', x*x, x**2, 'x/rt2', x/np.sqrt(2))"
   ]
  },
  {
   "cell_type": "markdown",
   "id": "d6531c8f",
   "metadata": {},
   "source": [
    "## [Functions operating on Qobj class](https://qutip.org/docs/latest/guide/guide-basics.html#functions-operating-on-qobj-class)"
   ]
  },
  {
   "cell_type": "markdown",
   "id": "ce292e3c",
   "metadata": {},
   "source": [
    "| Function           | Command                 | Description                                                  |\n",
    "| ------------------- | ----------------------- | ------------------------------------------------------------ |\n",
    "| Check Hermicity    | `Q.check_herm()`        | Check if quantum object is Hermitian.                        |\n",
    "| Conjugate          | `Q.conj()`              | Conjugate of quantum object.                                  |\n",
    "| Cosine             | `Q.cosm()`              | Cosine of quantum object.                                    |\n",
    "| Dagger (adjoint)   | `Q.dag()`               | Returns adjoint (dagger) of object.                           |\n",
    "| Diagonal           | `Q.diag()`              | Returns the diagonal elements.                               |\n",
    "| Diamond Norm       | `Q.dnorm()`             | Returns the diamond norm.                                    |\n",
    "| Eigenenergies      | `Q.eigenenergies()`     | Eigenenergies (values) of operator.                          |\n",
    "| Eigenstates        | `Q.eigenstates()`       | Returns eigenvalues and eigenvectors.                        |\n",
    "| Eliminate States   | `Q.eliminate_states(inds)` | Returns quantum object with states in the list inds removed. |\n",
    "| Exponential        | `Q.expm()`              | Matrix exponential of operator.                              |\n",
    "| Extract States     | `Q.extract_states(inds)` | Qobj with states listed in inds only.                        |\n",
    "| Full               | `Q.full()`              | Returns a full (not sparse) array of Q's data.               |\n",
    "| Groundstate        | `Q.groundstate()`       | Eigenval & eigket of Qobj groundstate.                       |\n",
    "| Matrix Element     | `Q.matrix_element(bra, ket)` | Matrix element <bra|Q|ket>.                                |\n",
    "| Norm               | `Q.norm()`              | Returns L2 norm for states, trace norm for operators.        |\n",
    "| Overlap            | `Q.overlap(state)`      | Overlap between the current Qobj and a given state.         |\n",
    "| Partial Trace      | `Q.ptrace(sel)`         | Partial trace returning components selected using the 'sel' parameter. |\n",
    "| Permute            | `Q.permute(order)`      | Permutes the tensor structure of a composite object in the given order. |\n",
    "| Projector          | `Q.proj()`              | Form a projector operator from a given ket or bra vector.    |\n",
    "| Sine               | `Q.sinm()`              | Sine of a quantum operator.                                  |\n",
    "| Sqrt               | `Q.sqrtm()`             | Matrix square root of the operator.                         |\n",
    "| Tidyup             | `Q.tidyup()`            | Removes small elements from the Qobj.                        |\n",
    "| Trace              | `Q.tr()`                | Returns the trace of the quantum object.                    |\n",
    "| Transform          | `Q.transform(inpt)`     | A basis transformation defined by a matrix or a list of kets 'inpt'. |\n",
    "| Transpose          | `Q.trans()`             | Transpose of the quantum object.                             |\n",
    "| Truncate Neg       | `Q.trunc_neg()`         | Truncates negative eigenvalues.                               |\n",
    "| Unit               | `Q.unit()`              | Returns the normalized (unit) vector Q/Q.norm().             |\n"
   ]
  },
  {
   "cell_type": "code",
   "execution_count": 53,
   "id": "36efb0d0",
   "metadata": {},
   "outputs": [
    {
     "data": {
      "text/plain": [
       "'|1>'"
      ]
     },
     "metadata": {},
     "output_type": "display_data"
    },
    {
     "data": {
      "text/latex": [
       "Quantum object: dims = [[5], [1]], shape = (5, 1), type = ket $ \\\\ \\left(\\begin{matrix}0.0\\\\0.0\\\\1.0\\\\0.0\\\\0.0\\\\\\end{matrix}\\right)$"
      ],
      "text/plain": [
       "Quantum object: dims = [[5], [1]], shape = (5, 1), type = ket\n",
       "Qobj data =\n",
       "[[0.]\n",
       " [0.]\n",
       " [1.]\n",
       " [0.]\n",
       " [0.]]"
      ]
     },
     "metadata": {},
     "output_type": "display_data"
    },
    {
     "data": {
      "text/plain": [
       "'daggar = <1|'"
      ]
     },
     "metadata": {},
     "output_type": "display_data"
    },
    {
     "data": {
      "text/latex": [
       "Quantum object: dims = [[1], [5]], shape = (1, 5), type = bra $ \\\\ \\left(\\begin{matrix}0.0 & 0.0 & 1.0 & 0.0 & 0.0\\\\\\end{matrix}\\right)$"
      ],
      "text/plain": [
       "Quantum object: dims = [[1], [5]], shape = (1, 5), type = bra\n",
       "Qobj data =\n",
       "[[0. 0. 1. 0. 0.]]"
      ]
     },
     "metadata": {},
     "output_type": "display_data"
    }
   ],
   "source": [
    "ket1 = basis(5,2)\n",
    "display('|1>', ket1)\n",
    "display('daggar = <1|', ket1.dag())"
   ]
  },
  {
   "cell_type": "code",
   "execution_count": 54,
   "id": "42855d90",
   "metadata": {},
   "outputs": [
    {
     "data": {
      "text/plain": [
       "'op1'"
      ]
     },
     "metadata": {},
     "output_type": "display_data"
    },
    {
     "data": {
      "text/latex": [
       "Quantum object: dims = [[5], [5]], shape = (5, 5), type = oper, isherm = True $ \\\\ \\left(\\begin{matrix}0.368 & 0.368 & 0.261 & 0.146 & 0.088\\\\0.368 & 0.368 & 0.261 & 0.146 & 0.088\\\\0.261 & 0.261 & 0.185 & 0.104 & 0.063\\\\0.146 & 0.146 & 0.104 & 0.058 & 0.035\\\\0.088 & 0.088 & 0.063 & 0.035 & 0.021\\\\\\end{matrix}\\right)$"
      ],
      "text/plain": [
       "Quantum object: dims = [[5], [5]], shape = (5, 5), type = oper, isherm = True\n",
       "Qobj data =\n",
       "[[0.36791117 0.36774407 0.26105441 0.14620658 0.08826704]\n",
       " [0.36774407 0.36757705 0.26093584 0.14614018 0.08822695]\n",
       " [0.26105441 0.26093584 0.18523331 0.10374209 0.06263061]\n",
       " [0.14620658 0.14614018 0.10374209 0.05810197 0.035077  ]\n",
       " [0.08826704 0.08822695 0.06263061 0.035077   0.0211765 ]]"
      ]
     },
     "metadata": {},
     "output_type": "display_data"
    },
    {
     "data": {
      "text/plain": [
       "'diag'"
      ]
     },
     "metadata": {},
     "output_type": "display_data"
    },
    {
     "data": {
      "text/plain": [
       "array([0.36791117, 0.36757705, 0.18523331, 0.05810197, 0.0211765 ])"
      ]
     },
     "metadata": {},
     "output_type": "display_data"
    },
    {
     "data": {
      "text/plain": [
       "'full'"
      ]
     },
     "metadata": {},
     "output_type": "display_data"
    },
    {
     "data": {
      "text/plain": [
       "array([[0.36791117+0.j, 0.36774407+0.j, 0.26105441+0.j, 0.14620658+0.j,\n",
       "        0.08826704+0.j],\n",
       "       [0.36774407+0.j, 0.36757705+0.j, 0.26093584+0.j, 0.14614018+0.j,\n",
       "        0.08822695+0.j],\n",
       "       [0.26105441+0.j, 0.26093584+0.j, 0.18523331+0.j, 0.10374209+0.j,\n",
       "        0.06263061+0.j],\n",
       "       [0.14620658+0.j, 0.14614018+0.j, 0.10374209+0.j, 0.05810197+0.j,\n",
       "        0.035077  +0.j],\n",
       "       [0.08826704+0.j, 0.08822695+0.j, 0.06263061+0.j, 0.035077  +0.j,\n",
       "        0.0211765 +0.j]])"
      ]
     },
     "metadata": {},
     "output_type": "display_data"
    },
    {
     "data": {
      "text/plain": [
       "'norm'"
      ]
     },
     "metadata": {},
     "output_type": "display_data"
    },
    {
     "data": {
      "text/plain": [
       "1.0000000228382986"
      ]
     },
     "metadata": {},
     "output_type": "display_data"
    },
    {
     "data": {
      "text/plain": [
       "'sqrtm'"
      ]
     },
     "metadata": {},
     "output_type": "display_data"
    },
    {
     "data": {
      "text/latex": [
       "Quantum object: dims = [[5], [5]], shape = (5, 5), type = oper, isherm = False $ \\\\ \\left(\\begin{matrix}0.368 & 0.368 & 0.261 & 0.146 & 0.088\\\\0.368 & (0.368+4.239\\times10^{-11}j) & (0.261+1.256\\times10^{-10}j) & (0.146-2.582\\times10^{-10}j) & (0.088-1.203\\times10^{-10}j)\\\\0.261 & (0.261+1.256\\times10^{-10}j) & (0.185+3.719\\times10^{-10}j) & (0.104-7.648\\times10^{-10}j) & (0.063-3.563\\times10^{-10}j)\\\\0.146 & (0.146-2.582\\times10^{-10}j) & (0.104-7.648\\times10^{-10}j) & (0.058+1.573\\times10^{-09}j) & (0.035+7.327\\times10^{-10}j)\\\\0.088 & (0.088-1.203\\times10^{-10}j) & (0.063-3.563\\times10^{-10}j) & (0.035+7.327\\times10^{-10}j) & (0.021+3.414\\times10^{-10}j)\\\\\\end{matrix}\\right)$"
      ],
      "text/plain": [
       "Quantum object: dims = [[5], [5]], shape = (5, 5), type = oper, isherm = False\n",
       "Qobj data =\n",
       "[[0.36791119+0.00000000e+00j 0.36774406+0.00000000e+00j\n",
       "  0.2610544 +0.00000000e+00j 0.14620658+0.00000000e+00j\n",
       "  0.08826704+0.00000000e+00j]\n",
       " [0.36774406+0.00000000e+00j 0.36757705+4.23874181e-11j\n",
       "  0.26093584+1.25558676e-10j 0.14614018-2.58178591e-10j\n",
       "  0.08822695-1.20293587e-10j]\n",
       " [0.2610544 +0.00000000e+00j 0.26093584+1.25558676e-10j\n",
       "  0.18523332+3.71925960e-10j 0.10374209-7.64768498e-10j\n",
       "  0.06263061-3.56329879e-10j]\n",
       " [0.14620658+0.00000000e+00j 0.14614018-2.58178591e-10j\n",
       "  0.10374209-7.64768498e-10j 0.05810197+1.57254647e-09j\n",
       "  0.035077  +7.32699235e-10j]\n",
       " [0.08826704+0.00000000e+00j 0.08822695-1.20293587e-10j\n",
       "  0.06263061-3.56329879e-10j 0.035077  +7.32699235e-10j\n",
       "  0.0211765 +3.41387792e-10j]]"
      ]
     },
     "metadata": {},
     "output_type": "display_data"
    },
    {
     "data": {
      "text/plain": [
       "'trace'"
      ]
     },
     "metadata": {},
     "output_type": "display_data"
    },
    {
     "data": {
      "text/plain": [
       "1.0"
      ]
     },
     "metadata": {},
     "output_type": "display_data"
    },
    {
     "data": {
      "text/latex": [
       "Quantum object: dims = [[5], [5]], shape = (5, 5), type = oper, isherm = True $ \\\\ \\left(\\begin{matrix}0.368 & 0.368 & 0.261 & 0.146 & 0.088\\\\0.368 & 0.368 & 0.261 & 0.146 & 0.088\\\\0.261 & 0.261 & 0.185 & 0.104 & 0.063\\\\0.146 & 0.146 & 0.104 & 0.058 & 0.035\\\\0.088 & 0.088 & 0.063 & 0.035 & 0.021\\\\\\end{matrix}\\right)$"
      ],
      "text/plain": [
       "Quantum object: dims = [[5], [5]], shape = (5, 5), type = oper, isherm = True\n",
       "Qobj data =\n",
       "[[0.36791117 0.36774407 0.26105441 0.14620658 0.08826704]\n",
       " [0.36774407 0.36757705 0.26093584 0.14614018 0.08822695]\n",
       " [0.26105441 0.26093584 0.18523331 0.10374209 0.06263061]\n",
       " [0.14620658 0.14614018 0.10374209 0.05810197 0.035077  ]\n",
       " [0.08826704 0.08822695 0.06263061 0.035077   0.0211765 ]]"
      ]
     },
     "metadata": {},
     "output_type": "display_data"
    }
   ],
   "source": [
    "op1 = coherent_dm(5, 1)\n",
    "display('op1', op1)\n",
    "display('diag', op1.diag(), 'full', op1.full())\n",
    "display('norm', op1.norm())\n",
    "display('sqrtm', op1.sqrtm())\n",
    "display('trace', op1.tr(), op1)"
   ]
  },
  {
   "cell_type": "code",
   "execution_count": 55,
   "id": "e7fbc6d2",
   "metadata": {},
   "outputs": [
    {
     "data": {
      "text/plain": [
       "'addition'"
      ]
     },
     "metadata": {},
     "output_type": "display_data"
    },
    {
     "data": {
      "text/latex": [
       "Quantum object: dims = [[4], [1]], shape = (4, 1), type = ket $ \\\\ \\left(\\begin{matrix}0.0\\\\1.0\\\\1.0\\\\0.0\\\\\\end{matrix}\\right)$"
      ],
      "text/plain": [
       "Quantum object: dims = [[4], [1]], shape = (4, 1), type = ket\n",
       "Qobj data =\n",
       "[[0.]\n",
       " [1.]\n",
       " [1.]\n",
       " [0.]]"
      ]
     },
     "metadata": {},
     "output_type": "display_data"
    },
    {
     "data": {
      "text/plain": [
       "'unit'"
      ]
     },
     "metadata": {},
     "output_type": "display_data"
    },
    {
     "data": {
      "text/latex": [
       "Quantum object: dims = [[4], [1]], shape = (4, 1), type = ket $ \\\\ \\left(\\begin{matrix}0.0\\\\0.707\\\\0.707\\\\0.0\\\\\\end{matrix}\\right)$"
      ],
      "text/plain": [
       "Quantum object: dims = [[4], [1]], shape = (4, 1), type = ket\n",
       "Qobj data =\n",
       "[[0.        ]\n",
       " [0.70710678]\n",
       " [0.70710678]\n",
       " [0.        ]]"
      ]
     },
     "metadata": {},
     "output_type": "display_data"
    }
   ],
   "source": [
    "add12 = basis(4,1) + basis(4,2)\n",
    "display('addition', add12, 'unit', add12.unit())"
   ]
  },
  {
   "cell_type": "code",
   "execution_count": null,
   "id": "7f13b398",
   "metadata": {},
   "outputs": [],
   "source": []
  }
 ],
 "metadata": {
  "kernelspec": {
   "display_name": "Python 3 (ipykernel)",
   "language": "python",
   "name": "python3"
  },
  "language_info": {
   "codemirror_mode": {
    "name": "ipython",
    "version": 3
   },
   "file_extension": ".py",
   "mimetype": "text/x-python",
   "name": "python",
   "nbconvert_exporter": "python",
   "pygments_lexer": "ipython3",
   "version": "3.11.5"
  }
 },
 "nbformat": 4,
 "nbformat_minor": 5
}
