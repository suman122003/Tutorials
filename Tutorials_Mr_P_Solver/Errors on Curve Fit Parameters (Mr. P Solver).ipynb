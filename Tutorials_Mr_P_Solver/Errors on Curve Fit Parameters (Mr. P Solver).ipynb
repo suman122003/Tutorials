{
 "cells": [
  {
   "cell_type": "markdown",
   "id": "17203abc",
   "metadata": {},
   "source": [
    "# Errors on Curve Fit Parameters (Mr. P Solver)"
   ]
  },
  {
   "cell_type": "markdown",
   "id": "576e2151",
   "metadata": {},
   "source": [
    "Video Link: https://youtu.be/HNBve6KtwmA\n",
    "\n",
    "Codes: https://www.youtube.com/redirect?event=video_description&redir_token=QUFFLUhqbFg5OWtpTGxLMXJWWlJ3QWY0TWt3V3drbWM2UXxBQ3Jtc0tsTXdQSUdsRzE1eE5tUzZtWXMyT3lHeDdiY05OWWVkTllDYlRxUml4TENxTVpEcklGSW8wTmlQNVE0ZEUzLUgtSkE1T3dCTnBYLUpJUGw4UDZXNTlVSzlaZl9aT2NNM2Yxa3VoTW84cGN6TmJLRjkzUQ&q=https%3A%2F%2Fgithub.com%2Flukepolson%2Fyoutube_channel%2Fblob%2Fmain%2FPython%2520Tutorial%2520Series%2Fcurvefit2.ipynb&v=HNBve6KtwmA"
   ]
  },
  {
   "cell_type": "code",
   "execution_count": 2,
   "id": "f800d75a",
   "metadata": {},
   "outputs": [],
   "source": [
    "import numpy as np\n",
    "import matplotlib.pyplot as plt\n",
    "import scipy as sp\n",
    "from scipy.optimize import curve_fit\n",
    "from scipy.stats import chi2"
   ]
  },
  {
   "cell_type": "markdown",
   "id": "741a3648",
   "metadata": {},
   "source": [
    "Here the errors in the fit parameters are discussed when a data is fitted to a curve.\n",
    "One fits a curve $ y=f(x,\\beta) $ to data $x_{data}$ and $y_{data}$ with errors $\\sigma_{data}$ and obtains optimal parameters $\\beta$ such that the $\\chi^2$ value is minimized;\n",
    "$$ \\chi^2 = \\sum_i (f(x_i, \\beta) - y_i)^2/\\sigma_i^2 $$"
   ]
  },
  {
   "cell_type": "code",
   "execution_count": null,
   "id": "864921f8",
   "metadata": {},
   "outputs": [],
   "source": []
  }
 ],
 "metadata": {
  "kernelspec": {
   "display_name": "Python 3 (ipykernel)",
   "language": "python",
   "name": "python3"
  },
  "language_info": {
   "codemirror_mode": {
    "name": "ipython",
    "version": 3
   },
   "file_extension": ".py",
   "mimetype": "text/x-python",
   "name": "python",
   "nbconvert_exporter": "python",
   "pygments_lexer": "ipython3",
   "version": "3.9.13"
  }
 },
 "nbformat": 4,
 "nbformat_minor": 5
}
