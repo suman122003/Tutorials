{
 "cells": [
  {
   "cell_type": "markdown",
   "id": "d4de1cd5",
   "metadata": {},
   "source": [
    "# Spectral Analysis (Mr. P Solver)"
   ]
  },
  {
   "cell_type": "markdown",
   "id": "2379e19d",
   "metadata": {},
   "source": [
    "Video Link: https://youtu.be/WMOrCBxxgvA\n",
    "        \n",
    "Codes: https://www.youtube.com/redirect?event=video_description&redir_token=QUFFLUhqbUhsZzd1cXd4a215T1ptZHRYSXF2N2NhTk10QXxBQ3Jtc0trQTJ4VU1kamEyc0QwTlFRSGhaY1hyY2NINENaOFdfM2tYS3QyMnU4V294U1VFVTd5aHUzeDRQZWhTTnk3Qy1ZVS1FQnpwdTNla1VGV1BFcGhiMDdLSlE1UkNISjllaFUtVDZTbFBMakN2c3ZidE5GYw&q=https%3A%2F%2Fgithub.com%2Flukepolson%2Fyoutube_channel%2Fblob%2Fmain%2FPython%2520Tutorial%2520Series%2Fspect_ana.ipynb&v=WMOrCBxxgvA"
   ]
  },
  {
   "cell_type": "code",
   "execution_count": null,
   "id": "c3270a11",
   "metadata": {},
   "outputs": [],
   "source": []
  }
 ],
 "metadata": {
  "kernelspec": {
   "display_name": "Python 3 (ipykernel)",
   "language": "python",
   "name": "python3"
  },
  "language_info": {
   "codemirror_mode": {
    "name": "ipython",
    "version": 3
   },
   "file_extension": ".py",
   "mimetype": "text/x-python",
   "name": "python",
   "nbconvert_exporter": "python",
   "pygments_lexer": "ipython3",
   "version": "3.9.13"
  }
 },
 "nbformat": 4,
 "nbformat_minor": 5
}
