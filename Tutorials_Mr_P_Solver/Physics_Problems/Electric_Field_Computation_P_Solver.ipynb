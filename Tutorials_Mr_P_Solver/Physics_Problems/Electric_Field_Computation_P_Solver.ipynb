{
 "cells": [
  {
   "cell_type": "markdown",
   "id": "e2d0da41",
   "metadata": {},
   "source": [
    "# Electric Field Computation (Mr. P Solver)"
   ]
  },
  {
   "cell_type": "markdown",
   "id": "70683dee",
   "metadata": {},
   "source": [
    "Video Link: https://youtu.be/afXFk5lBnGA\n",
    "        \n",
    "Codes: https://www.youtube.com/redirect?event=video_description&redir_token=QUFFLUhqbEpFX0Z6akdfUFVXanpzRzBCdjY2QUt4U0RPUXxBQ3Jtc0trbllmODB0Z0ZqNEtNSlZGTk1Gd1gyVTF1TkI1TnozV2NpcFV6OXpLbnJrTmlaaEVtcmlVa0RBWnZiRGJmSS01SDFibzdIczZkYXQ2Q213dDZEcy0xMW9NV2g3cGh5TkN5eFM0bl9XcmZIdFV4S3Z4NA&q=https%3A%2F%2Fgithub.com%2Flukepolson%2Fyoutube_channel%2Fblob%2Fmain%2FPython%2520Metaphysics%2520Series%2Fvid16.ipynb&v=afXFk5lBnGA"
   ]
  },
  {
   "cell_type": "code",
   "execution_count": 4,
   "id": "a8e4366e",
   "metadata": {},
   "outputs": [],
   "source": [
    "import numpy as np\n",
    "import matplotlib.pyplot as plt\n",
    "import scipy as sp\n",
    "from scipy.integrate import quad\n",
    "import sympy as smp\n",
    "import plotly.graph_objects as go\n",
    "from IPython.display import HTML"
   ]
  },
  {
   "cell_type": "markdown",
   "id": "0f1758bd",
   "metadata": {},
   "source": [
    "The electric field of any distribution is given by;\n",
    "$$ \\vec{E} = \\frac{1}{4 \\pi \\epsilon_0}\\int_{V} \\frac{\\vec{r}-\\vec{r}'}{|\\vec{r}-\\vec{r}'|^3} dq $$\n",
    "\n",
    "1D: $$ dq = \\lambda(\\vec{r}')|d\\vec{r}'| = \\lambda(\\vec{r}')\\left|\\frac{d\\vec{r}'}{dt}\\right|dt $$\n",
    "2D: $$ dq= \\sigma(\\vec{r}')dA = \\sigma(\\vec{r}')\\left|\\frac{d\\vec{r}'}{du} \\times \\frac{d\\vec{r}'}{dv}\\right|dudv $$\n",
    "3D: $$ dq = \\rho(\\vec{r}')dxdydz = \\rho(\\vec{r}')r^2 dr \\sin(\\theta)d\\theta d\\phi = ... $$"
   ]
  },
  {
   "cell_type": "markdown",
   "id": "db0f107f",
   "metadata": {},
   "source": [
    "The principal work is solving for $dq$. Once it's done, the integral can be solved by the following steps;\n",
    "1. Using `sympy` to solve the integral.\n",
    "2. Converting this to a numerical function that can be integrated using `scipy`."
   ]
  },
  {
   "cell_type": "markdown",
   "id": "1f9ae91f",
   "metadata": {},
   "source": [
    "### Making the problem dimensionless...\n",
    "$$ \\vec{E} = \\frac{1}{4 \\pi \\epsilon_0} \\int_{V} \\frac{\\rho(\\vec{r}')}{|\\vec{r}-\\vec{r}'|^3}(\\vec{r}-\\vec{r}') dV' $$\n",
    "So, $$ \\frac{4 \\pi \\epsilon_0 R^2}{Q}\\vec{E} = \\int_{V} \\frac{\\rho_d(\\vec{r_d}')}{|\\vec{r_d}-\\vec{r_d}'|^3}(\\vec{r_d}-\\vec{r_d}') dV_d' $$\n",
    "\n",
    "where all the variables with $_d$ are dimensionless. $Q$ and $R$ are the characteristics charges and lengths of the problem.\n",
    "\n",
    "In all the following problems, the $_d$ is omitted and all quantities are assumed dimensionless. We can thus set $Q=R=1$ in all problems (without loss of generality)."
   ]
  },
  {
   "cell_type": "markdown",
   "id": "75856e65",
   "metadata": {},
   "source": [
    "### Example 1\n",
    "Spring of charge with radius $R=1$ is located at $\\vec{r}'(t) = \\left<\\cos(4t), \\sin(4t), t\\right>$, for $0 \\leq t \\leq 2\\pi$ with total charge $Q=1$ and charge is evenly spread across. Plot Electric field and charge."
   ]
  },
  {
   "cell_type": "code",
   "execution_count": null,
   "id": "c795997a",
   "metadata": {},
   "outputs": [],
   "source": []
  }
 ],
 "metadata": {
  "kernelspec": {
   "display_name": "Python 3 (ipykernel)",
   "language": "python",
   "name": "python3"
  },
  "language_info": {
   "codemirror_mode": {
    "name": "ipython",
    "version": 3
   },
   "file_extension": ".py",
   "mimetype": "text/x-python",
   "name": "python",
   "nbconvert_exporter": "python",
   "pygments_lexer": "ipython3",
   "version": "3.9.13"
  }
 },
 "nbformat": 4,
 "nbformat_minor": 5
}
