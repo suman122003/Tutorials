{
 "cells": [
  {
   "cell_type": "markdown",
   "id": "3c81a97f",
   "metadata": {},
   "source": [
    "# Eigenstates of 1D Potential (Mr. P Solver)"
   ]
  },
  {
   "cell_type": "markdown",
   "id": "23cbc722",
   "metadata": {},
   "source": [
    "Video Link: https://youtu.be/ay0zZ8SUMSk\n",
    "\n",
    "Codes: https://github.com/lukepolson/youtube_channel/blob/main/Python%20Metaphysics%20Series/vid3.ipynb"
   ]
  },
  {
   "cell_type": "code",
   "execution_count": null,
   "id": "e80ec5e0",
   "metadata": {},
   "outputs": [],
   "source": []
  }
 ],
 "metadata": {
  "kernelspec": {
   "display_name": "Python 3 (ipykernel)",
   "language": "python",
   "name": "python3"
  },
  "language_info": {
   "codemirror_mode": {
    "name": "ipython",
    "version": 3
   },
   "file_extension": ".py",
   "mimetype": "text/x-python",
   "name": "python",
   "nbconvert_exporter": "python",
   "pygments_lexer": "ipython3",
   "version": "3.9.13"
  }
 },
 "nbformat": 4,
 "nbformat_minor": 5
}
