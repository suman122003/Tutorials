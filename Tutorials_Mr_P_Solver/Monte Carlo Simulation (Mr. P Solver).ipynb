{
 "cells": [
  {
   "cell_type": "markdown",
   "id": "cb8179cb",
   "metadata": {},
   "source": [
    "# Monte Carlo Simulation (Mr. P Solver)"
   ]
  },
  {
   "cell_type": "markdown",
   "id": "0ad3af8c",
   "metadata": {},
   "source": [
    "Video Link: https://youtu.be/U00Kseb6SB4\n",
    "        \n",
    "Codes: https://www.youtube.com/redirect?event=video_description&redir_token=QUFFLUhqbFM3d1poa0tmZjdqQWFUSlNjTWNDTlJ1SjZKUXxBQ3Jtc0ttdXZpXzBvSWxPRlIyalNEbGdoeXBIeHEzeWRQMGlIdXdpRUZnNW5TeW1OSmFSWXh0bFdad0NvZFg3Ui1ZTzRuWkFXUEljNW5vOVFzN0VuclZmbDNxTF9nM3hGWmNPNHprd0Rjdm1obkRad2tiWnBQWQ&q=https%3A%2F%2Fgithub.com%2Flukepolson%2Fyoutube_channel%2Fblob%2Fmain%2FPython%2520Tutorial%2520Series%2Fmontecarlo1.ipynb&v=U00Kseb6SB4"
   ]
  },
  {
   "cell_type": "code",
   "execution_count": 5,
   "id": "89f9a41c",
   "metadata": {
    "scrolled": true
   },
   "outputs": [],
   "source": [
    "import numpy as np\n",
    "import matplotlib.pyplot as plt\n",
    "import scipy as sp\n",
    "import sympy as smp\n",
    "#plt.style.use(['science','notebook'])"
   ]
  },
  {
   "cell_type": "code",
   "execution_count": 6,
   "id": "a8575c87",
   "metadata": {},
   "outputs": [
    {
     "data": {
      "text/plain": [
       "<function matplotlib.style.core.use(style)>"
      ]
     },
     "execution_count": 6,
     "metadata": {},
     "output_type": "execute_result"
    }
   ],
   "source": [
    "plt.style.use"
   ]
  },
  {
   "cell_type": "code",
   "execution_count": null,
   "id": "b6a58639",
   "metadata": {},
   "outputs": [],
   "source": []
  }
 ],
 "metadata": {
  "kernelspec": {
   "display_name": "Python 3 (ipykernel)",
   "language": "python",
   "name": "python3"
  },
  "language_info": {
   "codemirror_mode": {
    "name": "ipython",
    "version": 3
   },
   "file_extension": ".py",
   "mimetype": "text/x-python",
   "name": "python",
   "nbconvert_exporter": "python",
   "pygments_lexer": "ipython3",
   "version": "3.9.13"
  }
 },
 "nbformat": 4,
 "nbformat_minor": 5
}
