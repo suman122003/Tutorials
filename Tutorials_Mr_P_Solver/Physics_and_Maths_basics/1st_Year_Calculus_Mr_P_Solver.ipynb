{
 "cells": [
  {
   "cell_type": "markdown",
   "id": "9c7d3ca0",
   "metadata": {},
   "source": [
    "# 1st Year Calculus (Mr. P Solver)"
   ]
  },
  {
   "cell_type": "markdown",
   "id": "ec369af1",
   "metadata": {},
   "source": [
    "Video Link: https://youtu.be/-SdIZHPuW9o\n",
    "\n",
    "Codes: https://www.youtube.com/redirect?event=video_description&redir_token=QUFFLUhqblJLemdpVHBkWXhTaHIyZzB3WFZSOG9fZTExUXxBQ3Jtc0tuOU45RmMtczZDQldtOFVncXdjRC1JNFlqTGIyVXA0aGpZT05aMUFnTF9mb0RVY3F0dENQLTFubVl0RFp1NlU2dmJIWmRxTDY4b2htc05TYmp3VmxJWVA3RkpuVVpHbmlpcF9xN3A3R1R3V3MybkdxQQ&q=https%3A%2F%2Fgithub.com%2Flukepolson%2Fyoutube_channel%2Fblob%2Fmain%2FPython%2520Tutorial%2520Series%2Fmath1.ipynb&v=-SdIZHPuW9o"
   ]
  },
  {
   "cell_type": "code",
   "execution_count": 1,
   "id": "3af4ee89",
   "metadata": {},
   "outputs": [],
   "source": [
    "import sympy as smp\n",
    "from sympy import *"
   ]
  },
  {
   "cell_type": "code",
   "execution_count": 2,
   "id": "b5dbaf93",
   "metadata": {},
   "outputs": [],
   "source": [
    "x, y, z, m, n = smp.symbols('x y z m n')"
   ]
  },
  {
   "cell_type": "markdown",
   "id": "32faa2ba",
   "metadata": {},
   "source": [
    "## Limits"
   ]
  },
  {
   "cell_type": "markdown",
   "id": "636d27ce",
   "metadata": {},
   "source": [
    "Right hand limit, $$ \\lim_{x \\to 0^+} \\frac{2e^{1/x}}{e^{1/x}+1} $$"
   ]
  },
  {
   "cell_type": "code",
   "execution_count": 3,
   "id": "4e4c22eb",
   "metadata": {},
   "outputs": [
    {
     "data": {
      "text/latex": [
       "$\\displaystyle 2$"
      ],
      "text/plain": [
       "2"
      ]
     },
     "execution_count": 3,
     "metadata": {},
     "output_type": "execute_result"
    }
   ],
   "source": [
    "f1r = 2*smp.exp(1/x)/(smp.exp(1/x)+1)\n",
    "smp.limit(f1r, x, 0, dir='+')"
   ]
  },
  {
   "cell_type": "markdown",
   "id": "3697e339",
   "metadata": {},
   "source": [
    "Left hand limit, $$ \\lim_{x \\to 0^-} \\frac{2e^{1/x}}{e^{1/x}+1} $$"
   ]
  },
  {
   "cell_type": "code",
   "execution_count": 4,
   "id": "c4ce9261",
   "metadata": {},
   "outputs": [
    {
     "data": {
      "text/latex": [
       "$\\displaystyle 0$"
      ],
      "text/plain": [
       "0"
      ]
     },
     "execution_count": 4,
     "metadata": {},
     "output_type": "execute_result"
    }
   ],
   "source": [
    "f1l = 2*smp.exp(1/x)/(smp.exp(1/x)+1)\n",
    "smp.limit(f1l, x, 0, dir='-')"
   ]
  },
  {
   "cell_type": "markdown",
   "id": "a754f479",
   "metadata": {},
   "source": [
    "$$ \\lim_{x \\to \\infty} \\frac{\\cos(x)-1}{x} $$"
   ]
  },
  {
   "cell_type": "code",
   "execution_count": 5,
   "id": "15b6b4e3",
   "metadata": {},
   "outputs": [
    {
     "data": {
      "text/latex": [
       "$\\displaystyle 0$"
      ],
      "text/plain": [
       "0"
      ]
     },
     "execution_count": 5,
     "metadata": {},
     "output_type": "execute_result"
    }
   ],
   "source": [
    "f1 = (smp.cos(x)-1)/x\n",
    "# smp.limit(f1, x, smp.oo)\n",
    "f1.limit(x,smp.oo)"
   ]
  },
  {
   "cell_type": "markdown",
   "id": "dffcfbde",
   "metadata": {},
   "source": [
    "## Derivatives"
   ]
  },
  {
   "cell_type": "markdown",
   "id": "7bb4321c",
   "metadata": {},
   "source": [
    "$$ \\frac{d}{dx} (\\log_5 (x))^{x/2} $$"
   ]
  },
  {
   "cell_type": "code",
   "execution_count": 6,
   "id": "608ac062",
   "metadata": {},
   "outputs": [
    {
     "data": {
      "text/latex": [
       "$\\displaystyle \\left(\\frac{\\log{\\left(x \\right)}}{\\log{\\left(5 \\right)}}\\right)^{\\frac{x}{2}} \\left(\\frac{\\log{\\left(\\frac{\\log{\\left(x \\right)}}{\\log{\\left(5 \\right)}} \\right)}}{2} + \\frac{1}{2 \\log{\\left(x \\right)}}\\right)$"
      ],
      "text/plain": [
       "(log(x)/log(5))**(x/2)*(log(log(x)/log(5))/2 + 1/(2*log(x)))"
      ]
     },
     "execution_count": 6,
     "metadata": {},
     "output_type": "execute_result"
    }
   ],
   "source": [
    "f = smp.log(x,5)**(x/2)\n",
    "#smp.diff(f,x)\n",
    "f.diff(x)"
   ]
  },
  {
   "cell_type": "markdown",
   "id": "8d4bcc4b",
   "metadata": {},
   "source": [
    "## Integrations"
   ]
  },
  {
   "cell_type": "markdown",
   "id": "0c9c238d",
   "metadata": {},
   "source": [
    "$$ \\int 4 \\sec (3x) \\tan(3x)dx $$"
   ]
  },
  {
   "cell_type": "code",
   "execution_count": 7,
   "id": "65ddfdc2",
   "metadata": {},
   "outputs": [
    {
     "data": {
      "text/latex": [
       "$\\displaystyle \\frac{4}{3 \\cos{\\left(3 x \\right)}}$"
      ],
      "text/plain": [
       "4/(3*cos(3*x))"
      ]
     },
     "execution_count": 7,
     "metadata": {},
     "output_type": "execute_result"
    }
   ],
   "source": [
    "f = 4*smp.sec(3*x)*smp.tan(3*x)\n",
    "smp.integrate(f)"
   ]
  },
  {
   "cell_type": "markdown",
   "id": "d6d32783",
   "metadata": {},
   "source": [
    "$$ \\int \\left( \\frac{2}{\\sqrt{1-x^2}} - \\frac{1}{x^{1/4}}\\right) dx $$"
   ]
  },
  {
   "cell_type": "code",
   "execution_count": 8,
   "id": "07e85512",
   "metadata": {},
   "outputs": [
    {
     "data": {
      "text/latex": [
       "$\\displaystyle - \\frac{4 x^{\\frac{3}{4}}}{3} + 2 \\operatorname{asin}{\\left(x \\right)}$"
      ],
      "text/plain": [
       "-4*x**(3/4)/3 + 2*asin(x)"
      ]
     },
     "execution_count": 8,
     "metadata": {},
     "output_type": "execute_result"
    }
   ],
   "source": [
    "f = (2/smp.sqrt(1-x**2)) - 1/x**smp.Rational(1,4)\n",
    "smp.integrate(f,x)"
   ]
  },
  {
   "cell_type": "markdown",
   "id": "5ffa0304",
   "metadata": {},
   "source": [
    "$$ \\int \\frac{(2x-1)\\cos(\\sqrt{3(2x-1)^2+6})}{\\sqrt{3(2x-1)^2+6}} dx $$"
   ]
  },
  {
   "cell_type": "code",
   "execution_count": 9,
   "id": "787b8eea",
   "metadata": {},
   "outputs": [
    {
     "data": {
      "text/latex": [
       "$\\displaystyle \\frac{\\sin{\\left(\\sqrt{3 \\left(2 x - 1\\right)^{2} + 6} \\right)}}{6}$"
      ],
      "text/plain": [
       "sin(sqrt(3*(2*x - 1)**2 + 6))/6"
      ]
     },
     "execution_count": 9,
     "metadata": {},
     "output_type": "execute_result"
    }
   ],
   "source": [
    "f = ((2*x-1)*smp.cos(smp.sqrt(3*(2*x-1)**2+6)))/smp.sqrt(3*(2*x-1)**2+6)\n",
    "smp.integrate(f,x)"
   ]
  },
  {
   "cell_type": "markdown",
   "id": "5d6d917c",
   "metadata": {},
   "source": [
    "$$ \\int_{0}^{\\infty} \\frac{16 \\tan^{-1}(x)}{1+x^2} dx $$"
   ]
  },
  {
   "cell_type": "code",
   "execution_count": 10,
   "id": "c285cdaa",
   "metadata": {},
   "outputs": [
    {
     "data": {
      "text/latex": [
       "$\\displaystyle 2 \\pi^{2}$"
      ],
      "text/plain": [
       "2*pi**2"
      ]
     },
     "execution_count": 10,
     "metadata": {},
     "output_type": "execute_result"
    }
   ],
   "source": [
    "f = 16*smp.atan(x)/(1+x**2)\n",
    "smp.integrate(f, (x,0,smp.oo))"
   ]
  },
  {
   "cell_type": "markdown",
   "id": "6eab66a7",
   "metadata": {},
   "source": [
    "### Initial Value Problems"
   ]
  },
  {
   "cell_type": "markdown",
   "id": "32d04b1c",
   "metadata": {},
   "source": [
    "Given, $ \\frac{dy}{dx} = 8x + \\csc^2(x) $ with the condition $ y(\\pi/2) = -7 $. Solve for $y(x)$."
   ]
  },
  {
   "cell_type": "code",
   "execution_count": 11,
   "id": "a8b08146",
   "metadata": {},
   "outputs": [
    {
     "data": {
      "text/latex": [
       "$\\displaystyle 4 x^{2} - \\pi^{2} - 7 - \\frac{\\cos{\\left(x \\right)}}{\\sin{\\left(x \\right)}}$"
      ],
      "text/plain": [
       "4*x**2 - pi**2 - 7 - cos(x)/sin(x)"
      ]
     },
     "execution_count": 11,
     "metadata": {},
     "output_type": "execute_result"
    }
   ],
   "source": [
    "intg = smp.integrate(8*x + smp.csc(x)**2, x)\n",
    "c = -intg.subs(x, smp.pi/2) -7  # evaluating constant\n",
    "y = intg +c\n",
    "y"
   ]
  },
  {
   "cell_type": "markdown",
   "id": "fed9c796",
   "metadata": {},
   "source": [
    "## Sequence and Series"
   ]
  },
  {
   "cell_type": "markdown",
   "id": "4979eda3",
   "metadata": {},
   "source": [
    "$$ \\sum_{n=0}^\\infty \\frac{6}{4^n} $$"
   ]
  },
  {
   "cell_type": "code",
   "execution_count": 12,
   "id": "010bed93",
   "metadata": {},
   "outputs": [
    {
     "data": {
      "text/latex": [
       "$\\displaystyle 8$"
      ],
      "text/plain": [
       "8"
      ]
     },
     "execution_count": 12,
     "metadata": {},
     "output_type": "execute_result"
    }
   ],
   "source": [
    "an = 6/4**n\n",
    "smp.Sum(an, (n,0,smp.oo)).doit()"
   ]
  },
  {
   "cell_type": "markdown",
   "id": "11dbe7a6",
   "metadata": {},
   "source": [
    "$$ \\sum_{n=1}^{\\infty} \\frac{\\tan^{-1}(n)}{n^{1.1}} $$"
   ]
  },
  {
   "cell_type": "code",
   "execution_count": 13,
   "id": "4e239606",
   "metadata": {},
   "outputs": [
    {
     "data": {
      "text/latex": [
       "$\\displaystyle 15.3028821020457$"
      ],
      "text/plain": [
       "15.3028821020457"
      ]
     },
     "execution_count": 13,
     "metadata": {},
     "output_type": "execute_result"
    }
   ],
   "source": [
    "an = smp.atan(n)/n**1.1\n",
    "smp.Sum(an, (n,1,smp.oo)).evalf()"
   ]
  },
  {
   "cell_type": "markdown",
   "id": "4dd307b6",
   "metadata": {},
   "source": [
    "$$ \\sum_{n=1}^\\infty \\frac{1 + \\cos(n)}{n^2} $$"
   ]
  },
  {
   "cell_type": "code",
   "execution_count": 14,
   "id": "05d36721",
   "metadata": {},
   "outputs": [
    {
     "data": {
      "text/latex": [
       "$\\displaystyle 1.969$"
      ],
      "text/plain": [
       "1.969"
      ]
     },
     "execution_count": 14,
     "metadata": {},
     "output_type": "execute_result"
    }
   ],
   "source": [
    "an = (1 + smp.cos(n))/n**2\n",
    "smp.Sum(an, (n,1,smp.oo)).n()"
   ]
  },
  {
   "cell_type": "code",
   "execution_count": null,
   "id": "d65d1294",
   "metadata": {},
   "outputs": [],
   "source": []
  }
 ],
 "metadata": {
  "kernelspec": {
   "display_name": "Python 3 (ipykernel)",
   "language": "python",
   "name": "python3"
  },
  "language_info": {
   "codemirror_mode": {
    "name": "ipython",
    "version": 3
   },
   "file_extension": ".py",
   "mimetype": "text/x-python",
   "name": "python",
   "nbconvert_exporter": "python",
   "pygments_lexer": "ipython3",
   "version": "3.9.13"
  }
 },
 "nbformat": 4,
 "nbformat_minor": 5
}
