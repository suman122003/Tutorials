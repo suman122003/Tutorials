{
 "cells": [
  {
   "cell_type": "markdown",
   "id": "902eb05f",
   "metadata": {},
   "source": [
    "# SymPy (Mr. P Solver)"
   ]
  },
  {
   "cell_type": "markdown",
   "id": "4ccfdbb1",
   "metadata": {},
   "source": [
    "Video Link: https://youtu.be/1yBPEPhq54M\n",
    "\n",
    "Codes: https://www.youtube.com/redirect?event=video_description&redir_token=QUFFLUhqbFpXWXFuczlGOVZ4RFllbHV0eko2T29jUEw1UXxBQ3Jtc0tsdjAtNnZ1b2lkY0Z1Nnd4WG1FLVdaWEJiSE4yWFNWLTFkQkRDQWRiSmNzWDdPWDZDWnZBeXNIX0FybWJ1VV9FQVREUk5mODlmbU9VWFdSUkxwT1N1cUhtMmZ3eWtrWkRpdWYtTEZkMXdGZUZSMHFKdw&q=https%3A%2F%2Fgithub.com%2Flukepolson%2Fyoutube_channel%2Fblob%2Fmain%2FPython%2520Tutorial%2520Series%2Fsympy1.ipynb&v=1yBPEPhq54M"
   ]
  },
  {
   "cell_type": "markdown",
   "id": "748970d4",
   "metadata": {},
   "source": [
    "SymPy means SYMBOLIC PYTHON."
   ]
  },
  {
   "cell_type": "code",
   "execution_count": 1,
   "id": "9f134f48",
   "metadata": {},
   "outputs": [],
   "source": [
    "import numpy as np\n",
    "import matplotlib.pyplot as plt\n",
    "import sympy as smp"
   ]
  },
  {
   "cell_type": "markdown",
   "id": "68278e76",
   "metadata": {},
   "source": [
    "## Introduction"
   ]
  },
  {
   "cell_type": "markdown",
   "id": "c39fcea0",
   "metadata": {},
   "source": [
    "Symbols can be defined as follows"
   ]
  },
  {
   "cell_type": "code",
   "execution_count": 2,
   "id": "1f51c275",
   "metadata": {},
   "outputs": [],
   "source": [
    "x = smp.symbols('x')"
   ]
  },
  {
   "cell_type": "code",
   "execution_count": 3,
   "id": "2f25f200",
   "metadata": {},
   "outputs": [
    {
     "data": {
      "text/latex": [
       "$\\displaystyle x^{2} - 5 x + 6$"
      ],
      "text/plain": [
       "x**2 - 5*x + 6"
      ]
     },
     "execution_count": 3,
     "metadata": {},
     "output_type": "execute_result"
    }
   ],
   "source": [
    "x**2 - 5*x + 6"
   ]
  },
  {
   "cell_type": "code",
   "execution_count": 4,
   "id": "eca8200e",
   "metadata": {},
   "outputs": [
    {
     "data": {
      "text/latex": [
       "$\\displaystyle \\sin^{2}{\\left(x \\right)} + \\cos^{2}{\\left(x \\right)}$"
      ],
      "text/plain": [
       "sin(x)**2 + cos(x)**2"
      ]
     },
     "execution_count": 4,
     "metadata": {},
     "output_type": "execute_result"
    }
   ],
   "source": [
    "y = smp.sin(x)\n",
    "y**2 + (smp.cos(x))**2"
   ]
  },
  {
   "cell_type": "code",
   "execution_count": 5,
   "id": "10da0176",
   "metadata": {},
   "outputs": [
    {
     "data": {
      "text/latex": [
       "$\\displaystyle \\frac{\\log{\\left(x \\right)}}{\\log{\\left(10 \\right)}}$"
      ],
      "text/plain": [
       "log(x)/log(10)"
      ]
     },
     "execution_count": 5,
     "metadata": {},
     "output_type": "execute_result"
    }
   ],
   "source": [
    "y1 = smp.log(x,10)  # input the base\n",
    "y1"
   ]
  },
  {
   "cell_type": "markdown",
   "id": "dd1615bb",
   "metadata": {},
   "source": [
    "type **'smp.'** and press **'Tab'** to see all the SymPy functions "
   ]
  },
  {
   "cell_type": "code",
   "execution_count": 6,
   "id": "4288c014",
   "metadata": {},
   "outputs": [
    {
     "data": {
      "text/latex": [
       "$\\displaystyle \\left(x - 3\\right)^{2} \\left(x - 2\\right)^{2}$"
      ],
      "text/plain": [
       "(x - 3)**2*(x - 2)**2"
      ]
     },
     "metadata": {},
     "output_type": "display_data"
    },
    {
     "data": {
      "text/latex": [
       "$\\displaystyle x^{4} - 10 x^{3} + 37 x^{2} - 60 x + 36$"
      ],
      "text/plain": [
       "x**4 - 10*x**3 + 37*x**2 - 60*x + 36"
      ]
     },
     "metadata": {},
     "output_type": "display_data"
    },
    {
     "data": {
      "text/plain": [
       "[2, 3]"
      ]
     },
     "metadata": {},
     "output_type": "display_data"
    }
   ],
   "source": [
    "z = (x**2 - 5*x + 6)**2\n",
    "display(z.factor(), z.expand())\n",
    "display(smp.solve(z,x))"
   ]
  },
  {
   "cell_type": "code",
   "execution_count": 7,
   "id": "ac751ee2",
   "metadata": {},
   "outputs": [
    {
     "data": {
      "text/latex": [
       "$\\displaystyle \\operatorname{Poly}{\\left( x^{4} - 10 x^{3} + 37 x^{2} - 60 x + 36, x, domain=\\mathbb{Z} \\right)}$"
      ],
      "text/plain": [
       "Poly(x**4 - 10*x**3 + 37*x**2 - 60*x + 36, x, domain='ZZ')"
      ]
     },
     "execution_count": 7,
     "metadata": {},
     "output_type": "execute_result"
    }
   ],
   "source": [
    "z.as_poly()"
   ]
  },
  {
   "cell_type": "markdown",
   "id": "198ea144",
   "metadata": {},
   "source": [
    "type **'z.'** and press **'Tab'** to see all the operations that can be done on z"
   ]
  },
  {
   "cell_type": "code",
   "execution_count": 8,
   "id": "736cb969",
   "metadata": {},
   "outputs": [
    {
     "data": {
      "text/latex": [
       "$\\displaystyle - 20 \\pi^{2} \\sin{\\left(x \\right)} + \\frac{\\left(45 \\pi + 10 \\pi^{3}\\right) \\sin{\\left(2 x \\right)}}{\\pi} + \\frac{\\left(- 100 \\pi - 8 \\pi^{3}\\right) \\cos{\\left(x \\right)}}{\\pi} + \\frac{\\left(2 \\pi^{3} + 34 \\pi\\right) \\cos{\\left(2 x \\right)}}{\\pi} + \\frac{\\frac{2 \\pi^{5}}{5} + 72 \\pi + \\frac{74 \\pi^{3}}{3}}{2 \\pi} + \\ldots$"
      ],
      "text/plain": [
       "FourierSeries((x**2 - 5*x + 6)**2, (x, -pi, pi), ((2*pi**5/5 + 72*pi + 74*pi**3/3)/(2*pi), SeqFormula(Piecewise((72*sin(_n*pi)/_n + 2*pi**4*sin(_n*pi)/_n + 74*pi**2*sin(_n*pi)/_n + 8*pi**3*cos(_n*pi)/_n**2 + 148*pi*cos(_n*pi)/_n**2 - 24*pi**2*sin(_n*pi)/_n**3 - 148*sin(_n*pi)/_n**3 - 48*pi*cos(_n*pi)/_n**4 + 48*sin(_n*pi)/_n**5, (_n > -oo) & (_n < oo) & Ne(_n, 0)), (2*pi**5/5 + 72*pi + 74*pi**3/3, True))*cos(_n*x)/pi, (_n, 1, oo)), SeqFormula(Piecewise((120*pi*cos(_n*pi)/_n + 20*pi**3*cos(_n*pi)/_n - 60*pi**2*sin(_n*pi)/_n**2 - 120*sin(_n*pi)/_n**2 - 120*pi*cos(_n*pi)/_n**3 + 120*sin(_n*pi)/_n**4, (_n > -oo) & (_n < oo) & Ne(_n, 0)), (0, True))*sin(_n*x)/pi, (_n, 1, oo))))"
      ]
     },
     "execution_count": 8,
     "metadata": {},
     "output_type": "execute_result"
    }
   ],
   "source": [
    "z.fourier_series([-smp.pi, smp.pi])"
   ]
  },
  {
   "cell_type": "code",
   "execution_count": 9,
   "id": "6928600c",
   "metadata": {},
   "outputs": [
    {
     "data": {
      "text/latex": [
       "$\\displaystyle e^{x} + e^{- x}$"
      ],
      "text/plain": [
       "exp(x) + exp(-x)"
      ]
     },
     "metadata": {},
     "output_type": "display_data"
    },
    {
     "data": {
      "text/plain": [
       "[-I*pi/2, I*pi/2]"
      ]
     },
     "metadata": {},
     "output_type": "display_data"
    }
   ],
   "source": [
    "z1 = smp.exp(x) + smp.exp(-x)\n",
    "display(z1)\n",
    "display(smp.solve(z1))"
   ]
  },
  {
   "cell_type": "code",
   "execution_count": 10,
   "id": "45604ccd",
   "metadata": {},
   "outputs": [
    {
     "data": {
      "text/plain": [
       "[2]"
      ]
     },
     "execution_count": 10,
     "metadata": {},
     "output_type": "execute_result"
    }
   ],
   "source": [
    "x = smp.symbols('x', real=True, positive=True)\n",
    "smp.solve(x**4 - 16, x)"
   ]
  },
  {
   "cell_type": "markdown",
   "id": "e9f009bc",
   "metadata": {},
   "source": [
    "Can define many variables at once"
   ]
  },
  {
   "cell_type": "code",
   "execution_count": 11,
   "id": "9dde3a3b",
   "metadata": {},
   "outputs": [
    {
     "data": {
      "text/latex": [
       "$\\displaystyle x^{3} \\sin{\\left(z \\right)} - y^{2} e^{z}$"
      ],
      "text/plain": [
       "x**3*sin(z) - y**2*exp(z)"
      ]
     },
     "execution_count": 11,
     "metadata": {},
     "output_type": "execute_result"
    }
   ],
   "source": [
    "x, y, z = smp.symbols('x y z')\n",
    "f = x**3*smp.sin(z) - y**2*smp.exp(z)\n",
    "f"
   ]
  },
  {
   "cell_type": "code",
   "execution_count": 12,
   "id": "2605898b",
   "metadata": {},
   "outputs": [
    {
     "data": {
      "text/plain": [
       "[-sqrt(x**3*exp(-z)*sin(z)), sqrt(x**3*exp(-z)*sin(z))]"
      ]
     },
     "execution_count": 12,
     "metadata": {},
     "output_type": "execute_result"
    }
   ],
   "source": [
    "y_soln = smp.solve(f, y)\n",
    "y_soln"
   ]
  },
  {
   "cell_type": "code",
   "execution_count": 13,
   "id": "52faaf17",
   "metadata": {},
   "outputs": [
    {
     "data": {
      "text/plain": [
       "[(y**2*exp(z)/sin(z))**(1/3),\n",
       " -(y**2*exp(z)/sin(z))**(1/3)/2 - sqrt(3)*I*(y**2*exp(z)/sin(z))**(1/3)/2,\n",
       " -(y**2*exp(z)/sin(z))**(1/3)/2 + sqrt(3)*I*(y**2*exp(z)/sin(z))**(1/3)/2]"
      ]
     },
     "execution_count": 13,
     "metadata": {},
     "output_type": "execute_result"
    }
   ],
   "source": [
    "smp.solve(f,x)"
   ]
  },
  {
   "cell_type": "markdown",
   "id": "638e411e",
   "metadata": {},
   "source": [
    "For multivariable expressions, can also substitute values in"
   ]
  },
  {
   "cell_type": "code",
   "execution_count": 14,
   "id": "2a819c6a",
   "metadata": {},
   "outputs": [
    {
     "data": {
      "text/latex": [
       "$\\displaystyle x^{3} - x e^{\\frac{\\pi}{2}}$"
      ],
      "text/plain": [
       "x**3 - x*exp(pi/2)"
      ]
     },
     "execution_count": 14,
     "metadata": {},
     "output_type": "execute_result"
    }
   ],
   "source": [
    "f.subs([(y,smp.sqrt(x)), (z,smp.pi/2)])"
   ]
  },
  {
   "cell_type": "markdown",
   "id": "1dbebab5",
   "metadata": {},
   "source": [
    "**SymPy to NumPy conversion so that the function can be plotted.**"
   ]
  },
  {
   "cell_type": "code",
   "execution_count": 15,
   "id": "1b58d053",
   "metadata": {},
   "outputs": [
    {
     "data": {
      "text/latex": [
       "$\\displaystyle \\sqrt{x^{3} e^{- z} \\sin{\\left(z \\right)}}$"
      ],
      "text/plain": [
       "sqrt(x**3*exp(-z)*sin(z))"
      ]
     },
     "execution_count": 15,
     "metadata": {},
     "output_type": "execute_result"
    }
   ],
   "source": [
    "f1sym = y_soln[1]\n",
    "f1sym"
   ]
  },
  {
   "cell_type": "code",
   "execution_count": 16,
   "id": "e6d800b9",
   "metadata": {},
   "outputs": [
    {
     "data": {
      "text/plain": [
       "3.64750502212797"
      ]
     },
     "execution_count": 16,
     "metadata": {},
     "output_type": "execute_result"
    }
   ],
   "source": [
    "f1num = smp.lambdify([x,z], f1sym)\n",
    "f1num(4,np.pi/2)"
   ]
  },
  {
   "cell_type": "code",
   "execution_count": 17,
   "id": "71167a7d",
   "metadata": {},
   "outputs": [
    {
     "data": {
      "text/plain": [
       "[<matplotlib.lines.Line2D at 0x19fc34ea250>]"
      ]
     },
     "execution_count": 17,
     "metadata": {},
     "output_type": "execute_result"
    },
    {
     "data": {
      "image/png": "[encoded data removed]",
      "text/plain": [
       "<Figure size 640x480 with 1 Axes>"
      ]
     },
     "metadata": {},
     "output_type": "display_data"
    }
   ],
   "source": [
    "xnum = 4\n",
    "ynum = np.linspace(0,np.pi,50)\n",
    "plt.plot(ynum, f1num(xnum, ynum))"
   ]
  },
  {
   "cell_type": "markdown",
   "id": "7b433cda",
   "metadata": {},
   "source": [
    "## Example"
   ]
  },
  {
   "cell_type": "markdown",
   "id": "529da29b",
   "metadata": {},
   "source": [
    "A falling object encounters a moving platform accelerating upwards:\n",
    "1. Object $ h_o(t) = h_0 - v_o t - \\frac{1}{2}gt^2 $\n",
    "2. Platform $ h_p(t) = v_p t + \\frac{1}{2} q t^2 $\n",
    "\n",
    "Find the initial velocity $v_0$ such that when the object and platform collide, they are moving at the same speed."
   ]
  },
  {
   "cell_type": "markdown",
   "id": "31bfb2ba",
   "metadata": {},
   "source": [
    "**Soln:** We need to solve for $v_0$ and $t$ in the 2 eqns:\n",
    "1. $ h_0(t) = h_p(t) $ and\n",
    "2. $ \\frac{dh_0}{dt}(t) = -\\frac{dh_p}{dt}(t) $\n",
    "\n",
    "from these 2 equations we can define 2 functions eq1 and eq2"
   ]
  },
  {
   "cell_type": "code",
   "execution_count": 18,
   "id": "b27cd408",
   "metadata": {},
   "outputs": [
    {
     "data": {
      "text/plain": [
       "[(v_p + (g + q)*(-2*v_p/(3*(g + q)) + sqrt(2)*sqrt(3*g*h_0 + 3*h_0*q + 2*v_p**2)/(3*(g + q))),\n",
       "  -2*v_p/(3*(g + q)) + sqrt(2)*sqrt(3*g*h_0 + 3*h_0*q + 2*v_p**2)/(3*(g + q)))]"
      ]
     },
     "metadata": {},
     "output_type": "display_data"
    }
   ],
   "source": [
    "t, h0, v0, g, vp, q = smp.symbols('t h_0 v_0 g v_p q', \n",
    "                                  real=True, positive=True)\n",
    "\n",
    "h0t = h0 - v0*t - smp.Rational(1,2)*g*t**2\n",
    "hpt = vp*t + smp.Rational(1,2)*q*t**2\n",
    "dh0dt = -v0 + g*t\n",
    "dhpdt = vp + q*t\n",
    "\n",
    "eq1 = h0t - hpt\n",
    "eq2 = dh0dt + dhpdt\n",
    "\n",
    "sol = smp.solve([eq1,eq2], [v0,t])\n",
    "display(sol)"
   ]
  },
  {
   "cell_type": "code",
   "execution_count": 19,
   "id": "b09055dc",
   "metadata": {},
   "outputs": [
    {
     "data": {
      "text/latex": [
       "$\\displaystyle v_{p} + \\left(g + q\\right) \\left(- \\frac{2 v_{p}}{3 \\left(g + q\\right)} + \\frac{\\sqrt{2} \\sqrt{3 g h_{0} + 3 h_{0} q + 2 v_{p}^{2}}}{3 \\left(g + q\\right)}\\right)$"
      ],
      "text/plain": [
       "v_p + (g + q)*(-2*v_p/(3*(g + q)) + sqrt(2)*sqrt(3*g*h_0 + 3*h_0*q + 2*v_p**2)/(3*(g + q)))"
      ]
     },
     "execution_count": 19,
     "metadata": {},
     "output_type": "execute_result"
    }
   ],
   "source": [
    "v_initial, t_collision = sol[0]\n",
    "v_initial"
   ]
  },
  {
   "cell_type": "markdown",
   "id": "86663a23",
   "metadata": {},
   "source": [
    "velocities at the time of collision"
   ]
  },
  {
   "cell_type": "code",
   "execution_count": 20,
   "id": "b7beb796",
   "metadata": {},
   "outputs": [
    {
     "data": {
      "text/latex": [
       "$\\displaystyle \\frac{- g v_{p} - \\frac{q v_{p}}{3} - \\frac{q \\sqrt{6 g h_{0} + 6 h_{0} q + 4 v_{p}^{2}}}{3}}{g + q}$"
      ],
      "text/plain": [
       "(-g*v_p - q*v_p/3 - q*sqrt(6*g*h_0 + 6*h_0*q + 4*v_p**2)/3)/(g + q)"
      ]
     },
     "execution_count": 20,
     "metadata": {},
     "output_type": "execute_result"
    }
   ],
   "source": [
    "dh0dt.subs([(v0, v_initial), (t,t_collision)]).simplify()"
   ]
  },
  {
   "cell_type": "code",
   "execution_count": 21,
   "id": "3ba3b7cf",
   "metadata": {},
   "outputs": [
    {
     "data": {
      "text/latex": [
       "$\\displaystyle \\frac{g v_{p} + \\frac{q v_{p}}{3} + \\frac{q \\sqrt{6 g h_{0} + 6 h_{0} q + 4 v_{p}^{2}}}{3}}{g + q}$"
      ],
      "text/plain": [
       "(g*v_p + q*v_p/3 + q*sqrt(6*g*h_0 + 6*h_0*q + 4*v_p**2)/3)/(g + q)"
      ]
     },
     "execution_count": 21,
     "metadata": {},
     "output_type": "execute_result"
    }
   ],
   "source": [
    "dhpdt.subs([(v0, v_initial), (t,t_collision)]).simplify()"
   ]
  },
  {
   "cell_type": "markdown",
   "id": "4912ddb5",
   "metadata": {},
   "source": [
    "## Calculus (1st year)"
   ]
  },
  {
   "cell_type": "markdown",
   "id": "f5b09938",
   "metadata": {},
   "source": [
    "More depth discussion here: https://www.youtube.com/watch?v=-SdIZHPuW9o"
   ]
  },
  {
   "cell_type": "code",
   "execution_count": 22,
   "id": "c49bad34",
   "metadata": {},
   "outputs": [],
   "source": [
    "x = smp.symbols('x')"
   ]
  },
  {
   "cell_type": "markdown",
   "id": "575b2d68",
   "metadata": {},
   "source": [
    "### Limits"
   ]
  },
  {
   "cell_type": "markdown",
   "id": "1950ff0c",
   "metadata": {},
   "source": [
    "$$ \\lim_{x \\to \\pi} \\sin(x/2+ \\sin(x)) $$"
   ]
  },
  {
   "cell_type": "code",
   "execution_count": 23,
   "id": "41fb09be",
   "metadata": {},
   "outputs": [
    {
     "data": {
      "text/latex": [
       "$\\displaystyle 1$"
      ],
      "text/plain": [
       "1"
      ]
     },
     "execution_count": 23,
     "metadata": {},
     "output_type": "execute_result"
    }
   ],
   "source": [
    "smp.limit(smp.sin(x/2 + smp.sin(x)), x, smp.pi)"
   ]
  },
  {
   "cell_type": "markdown",
   "id": "46b9d3bf",
   "metadata": {},
   "source": [
    "### Derivatives"
   ]
  },
  {
   "cell_type": "markdown",
   "id": "14719e11",
   "metadata": {},
   "source": [
    "$$ \\frac{d}{dx} \\left(\\frac{1+sinx}{1-cosx} \\right)^2 $$"
   ]
  },
  {
   "cell_type": "code",
   "execution_count": 24,
   "id": "599dd66d",
   "metadata": {},
   "outputs": [
    {
     "data": {
      "text/latex": [
       "$\\displaystyle \\frac{2 \\left(\\sin{\\left(x \\right)} + 1\\right) \\cos{\\left(x \\right)}}{\\left(1 - \\cos{\\left(x \\right)}\\right)^{2}} - \\frac{2 \\left(\\sin{\\left(x \\right)} + 1\\right)^{2} \\sin{\\left(x \\right)}}{\\left(1 - \\cos{\\left(x \\right)}\\right)^{3}}$"
      ],
      "text/plain": [
       "2*(sin(x) + 1)*cos(x)/(1 - cos(x))**2 - 2*(sin(x) + 1)**2*sin(x)/(1 - cos(x))**3"
      ]
     },
     "execution_count": 24,
     "metadata": {},
     "output_type": "execute_result"
    }
   ],
   "source": [
    "smp.diff(((1+smp.sin(x))/(1-smp.cos(x)))**2, x)"
   ]
  },
  {
   "cell_type": "markdown",
   "id": "e951457e",
   "metadata": {},
   "source": [
    "$$ \\frac{d}{dx} f(x+g(x)) $$"
   ]
  },
  {
   "cell_type": "code",
   "execution_count": 25,
   "id": "3081cd13",
   "metadata": {},
   "outputs": [
    {
     "data": {
      "text/latex": [
       "$\\displaystyle f{\\left(x + g{\\left(x \\right)} \\right)}$"
      ],
      "text/plain": [
       "f(x + g(x))"
      ]
     },
     "metadata": {},
     "output_type": "display_data"
    },
    {
     "data": {
      "text/latex": [
       "$\\displaystyle \\left(\\frac{d}{d x} g{\\left(x \\right)} + 1\\right) \\left. \\frac{d}{d \\xi_{1}} f{\\left(\\xi_{1} \\right)} \\right|_{\\substack{ \\xi_{1}=x + g{\\left(x \\right)} }}$"
      ],
      "text/plain": [
       "(Derivative(g(x), x) + 1)*Subs(Derivative(f(_xi_1), _xi_1), _xi_1, x + g(x))"
      ]
     },
     "execution_count": 25,
     "metadata": {},
     "output_type": "execute_result"
    }
   ],
   "source": [
    "f,g = smp.symbols('f g', cls=smp.Function)\n",
    "\n",
    "g = g(x)\n",
    "f = f(x+g)\n",
    "display(f)\n",
    "\n",
    "dfdx = smp.diff(f,x)\n",
    "dfdx"
   ]
  },
  {
   "cell_type": "code",
   "execution_count": 26,
   "id": "d6592336",
   "metadata": {},
   "outputs": [
    {
     "data": {
      "text/latex": [
       "$\\displaystyle \\left(\\cos{\\left(x \\right)} + 1\\right) \\left. \\frac{d}{d \\xi_{1}} f{\\left(\\xi_{1} \\right)} \\right|_{\\substack{ \\xi_{1}=x + \\sin{\\left(x \\right)} }}$"
      ],
      "text/plain": [
       "(cos(x) + 1)*Subs(Derivative(f(_xi_1), _xi_1), _xi_1, x + sin(x))"
      ]
     },
     "execution_count": 26,
     "metadata": {},
     "output_type": "execute_result"
    }
   ],
   "source": [
    "dfdx.subs(g, smp.sin(x)).doit()  # doit() performs the derivative"
   ]
  },
  {
   "cell_type": "markdown",
   "id": "e28f1894",
   "metadata": {},
   "source": [
    "### Integrations"
   ]
  },
  {
   "cell_type": "markdown",
   "id": "4703ac18",
   "metadata": {},
   "source": [
    "**Indefinite Integrals**\n",
    "(Integration constant is not added)"
   ]
  },
  {
   "cell_type": "markdown",
   "id": "15f98ce9",
   "metadata": {},
   "source": [
    "$$ \\int \\csc(x) \\cot (x)  dx $$"
   ]
  },
  {
   "cell_type": "code",
   "execution_count": 27,
   "id": "25aaade4",
   "metadata": {},
   "outputs": [
    {
     "data": {
      "text/latex": [
       "$\\displaystyle - \\frac{1}{\\sin{\\left(x \\right)}}$"
      ],
      "text/plain": [
       "-1/sin(x)"
      ]
     },
     "execution_count": 27,
     "metadata": {},
     "output_type": "execute_result"
    }
   ],
   "source": [
    "smp.integrate(smp.csc(x)*smp.cot(x), x)"
   ]
  },
  {
   "cell_type": "markdown",
   "id": "32ca3235",
   "metadata": {},
   "source": [
    "**Definite Integrals**"
   ]
  },
  {
   "cell_type": "markdown",
   "id": "58c30d6d",
   "metadata": {},
   "source": [
    "$$ \\int_{0}^{\\ln(4)}\\frac{e^x dt}{\\sqrt{e^{2x}+9}} $$"
   ]
  },
  {
   "cell_type": "code",
   "execution_count": 28,
   "id": "bd8e9658",
   "metadata": {},
   "outputs": [
    {
     "data": {
      "text/latex": [
       "$\\displaystyle - \\operatorname{asinh}{\\left(\\frac{1}{3} \\right)} + \\operatorname{asinh}{\\left(\\frac{4}{3} \\right)}$"
      ],
      "text/plain": [
       "-asinh(1/3) + asinh(4/3)"
      ]
     },
     "execution_count": 28,
     "metadata": {},
     "output_type": "execute_result"
    }
   ],
   "source": [
    "smp.integrate(smp.exp(x)/smp.sqrt(smp.exp(2*x) + 9), (x, 0, smp.log(4)))"
   ]
  },
  {
   "cell_type": "markdown",
   "id": "3c51dc14",
   "metadata": {},
   "source": [
    "$$ \\int_1^t x^{10} e^x dx $$"
   ]
  },
  {
   "cell_type": "code",
   "execution_count": 29,
   "id": "1b74b3a1",
   "metadata": {},
   "outputs": [
    {
     "data": {
      "text/latex": [
       "$\\displaystyle \\left(t^{10} - 10 t^{9} + 90 t^{8} - 720 t^{7} + 5040 t^{6} - 30240 t^{5} + 151200 t^{4} - 604800 t^{3} + 1814400 t^{2} - 3628800 t + 3628800\\right) e^{t} - 1334961 e$"
      ],
      "text/plain": [
       "(t**10 - 10*t**9 + 90*t**8 - 720*t**7 + 5040*t**6 - 30240*t**5 + 151200*t**4 - 604800*t**3 + 1814400*t**2 - 3628800*t + 3628800)*exp(t) - 1334961*E"
      ]
     },
     "execution_count": 29,
     "metadata": {},
     "output_type": "execute_result"
    }
   ],
   "source": [
    "t = smp.symbols('t')\n",
    "smp.integrate(x**10*smp.exp(x), (x,1,t))"
   ]
  },
  {
   "cell_type": "markdown",
   "id": "5beed448",
   "metadata": {},
   "source": [
    "## Examples"
   ]
  },
  {
   "cell_type": "markdown",
   "id": "74c49b17",
   "metadata": {},
   "source": [
    "The hydrogen wave function is given by $$ \\psi_{nlm} = R_{nl}(r)Y_l^m(\\theta, \\phi) $$ where\n",
    "$$ R_{nl}(r) =  \\sqrt{\\left(\\frac{2}{na}\\right)^3 \\frac{(n-l-1)!}{2n[(n+l)!]}} e^{-r/na} \\left(\\frac{2r}{na}\\right)^l \\left[L_{n-l-1}^{2l+1}(2r/na)\\right] $$\n",
    "\n",
    "Calculate:\n",
    "\n",
    "The mean distance from the nucleus of the electron: $$ \\left<r\\right> = \\int R_{nl}^2 r^3 dr $$\n",
    "The standard deviation in the distance from the nucleus of the electron:\n",
    "$$ \\sigma = \\sqrt{\\left<r^2\\right> - \\left<r\\right>^2} =  \\sqrt{\\left(\\int_{0}^{\\infty}R_{nl}^2 r^4 dr\\right) - \\left(\\int_{0}^{\\infty} R_{nl}^2 r^3 dr\\right)^2} $$"
   ]
  },
  {
   "cell_type": "markdown",
   "id": "13ebbde3",
   "metadata": {},
   "source": [
    "### Solution:"
   ]
  },
  {
   "cell_type": "code",
   "execution_count": 30,
   "id": "db8112cd",
   "metadata": {},
   "outputs": [],
   "source": [
    "from sympy import assoc_laguerre"
   ]
  },
  {
   "cell_type": "markdown",
   "id": "a3667ce0",
   "metadata": {},
   "source": [
    "Define variables"
   ]
  },
  {
   "cell_type": "code",
   "execution_count": 31,
   "id": "a0e0d274",
   "metadata": {},
   "outputs": [],
   "source": [
    "r, a = smp.symbols('r a', real=True, positive=True)\n",
    "n, l = smp.symbols('n l', integer=True, positive=True)"
   ]
  },
  {
   "cell_type": "markdown",
   "id": "6d05b7ac",
   "metadata": {},
   "source": [
    "define $ R_{nl}(r) $"
   ]
  },
  {
   "cell_type": "code",
   "execution_count": 32,
   "id": "490bd7c4",
   "metadata": {},
   "outputs": [
    {
     "data": {
      "text/latex": [
       "$\\displaystyle \\frac{2 \\left(\\frac{2 r}{a n}\\right)^{l} e^{- \\frac{r}{a n}} L_{- l + n - 1}^{\\left(2 l + 1\\right)}\\left(\\frac{2 r}{a n}\\right) \\sqrt{\\left(- l + n - 1\\right)!}}{a^{\\frac{3}{2}} n^{2} \\sqrt{\\left(l + n\\right)!}}$"
      ],
      "text/plain": [
       "2*(2*r/(a*n))**l*exp(-r/(a*n))*assoc_laguerre(-l + n - 1, 2*l + 1, 2*r/(a*n))*sqrt(factorial(-l + n - 1))/(a**(3/2)*n**2*sqrt(factorial(l + n)))"
      ]
     },
     "execution_count": 32,
     "metadata": {},
     "output_type": "execute_result"
    }
   ],
   "source": [
    "R = smp.sqrt((2/(n*a))**3 * smp.factorial(n-l-1) / (2*n*smp.factorial(n+l))) * smp.exp(-r/(n*a)) \\\n",
    "*(2*r/(n*a))**l * assoc_laguerre((n-l-1), (2*l+1), (2*r/(n*a)))\n",
    "R"
   ]
  },
  {
   "cell_type": "markdown",
   "id": "13b591d1",
   "metadata": {},
   "source": [
    "ground state function"
   ]
  },
  {
   "cell_type": "code",
   "execution_count": 33,
   "id": "ae16cb77",
   "metadata": {},
   "outputs": [
    {
     "data": {
      "text/latex": [
       "$\\displaystyle \\frac{2 e^{- \\frac{r}{a}}}{a^{\\frac{3}{2}}}$"
      ],
      "text/plain": [
       "2*exp(-r/a)/a**(3/2)"
      ]
     },
     "execution_count": 33,
     "metadata": {},
     "output_type": "execute_result"
    }
   ],
   "source": [
    "R_10 = R.subs([(n,1),(l,0)])\n",
    "R_10"
   ]
  },
  {
   "cell_type": "markdown",
   "id": "37dd39d1",
   "metadata": {},
   "source": [
    "Function to compute $ \\int_{0}^{\\infty} R_{nl}^2 r^k dr $ for  particular values of $n,l$ and $k$,"
   ]
  },
  {
   "cell_type": "code",
   "execution_count": 34,
   "id": "ba5eb66f",
   "metadata": {},
   "outputs": [],
   "source": [
    "def comp_int(n1,l1,k):\n",
    "    Rn1l1 = R.subs([(n,n1),(l,l1)])\n",
    "    return smp.integrate(Rn1l1**2 * r**k, (r,0, smp.oo))"
   ]
  },
  {
   "cell_type": "markdown",
   "id": "a82130b0",
   "metadata": {},
   "source": [
    "Average r"
   ]
  },
  {
   "cell_type": "code",
   "execution_count": 35,
   "id": "41dd988c",
   "metadata": {},
   "outputs": [
    {
     "data": {
      "text/latex": [
       "$\\displaystyle \\frac{3 a}{2}$"
      ],
      "text/plain": [
       "3*a/2"
      ]
     },
     "execution_count": 35,
     "metadata": {},
     "output_type": "execute_result"
    }
   ],
   "source": [
    "r10avg = comp_int(1,0,3)  # ground state\n",
    "r10avg"
   ]
  },
  {
   "cell_type": "code",
   "execution_count": 36,
   "id": "1ab413b2",
   "metadata": {},
   "outputs": [
    {
     "data": {
      "text/latex": [
       "$\\displaystyle \\frac{63 a}{2}$"
      ],
      "text/plain": [
       "63*a/2"
      ]
     },
     "execution_count": 36,
     "metadata": {},
     "output_type": "execute_result"
    }
   ],
   "source": [
    "r53avg = comp_int(n1=5,l1=3,k=3)\n",
    "r53avg"
   ]
  },
  {
   "cell_type": "code",
   "execution_count": 37,
   "id": "baea6566",
   "metadata": {},
   "outputs": [
    {
     "data": {
      "text/latex": [
       "$\\displaystyle \\frac{\\sqrt{3} a}{2}$"
      ],
      "text/plain": [
       "sqrt(3)*a/2"
      ]
     },
     "execution_count": 37,
     "metadata": {},
     "output_type": "execute_result"
    }
   ],
   "source": [
    "sigma10 = smp.sqrt(comp_int(1,0,4) - (comp_int(1,0,3))**2)\n",
    "sigma10   # ground state"
   ]
  },
  {
   "cell_type": "code",
   "execution_count": 38,
   "id": "b79f9f17",
   "metadata": {},
   "outputs": [
    {
     "data": {
      "text/latex": [
       "$\\displaystyle 11 \\sqrt{2} a$"
      ],
      "text/plain": [
       "11*sqrt(2)*a"
      ]
     },
     "execution_count": 38,
     "metadata": {},
     "output_type": "execute_result"
    }
   ],
   "source": [
    "sigma64 = smp.sqrt(comp_int(6,4,4) - (comp_int(6,4,3))**2)\n",
    "sigma64"
   ]
  },
  {
   "cell_type": "markdown",
   "id": "3ef822e9",
   "metadata": {},
   "source": [
    "Graphs"
   ]
  },
  {
   "cell_type": "code",
   "execution_count": 39,
   "id": "7a594a2b",
   "metadata": {},
   "outputs": [],
   "source": [
    "def meandist(n1,l1=0):\n",
    "    expr = comp_int(n1,l1,k=3)\n",
    "    expr_f = smp.lambdify([a], expr)\n",
    "    return expr_f(1)  # taking a=1"
   ]
  },
  {
   "cell_type": "code",
   "execution_count": 40,
   "id": "6dabe74a",
   "metadata": {},
   "outputs": [
    {
     "data": {
      "text/plain": [
       "1.5"
      ]
     },
     "execution_count": 40,
     "metadata": {},
     "output_type": "execute_result"
    }
   ],
   "source": [
    "meandist(1)"
   ]
  },
  {
   "cell_type": "code",
   "execution_count": 41,
   "id": "412d3de6",
   "metadata": {},
   "outputs": [],
   "source": [
    "n2 = np.arange(1,10)\n",
    "dist = [meandist(ni) for ni in n2]"
   ]
  },
  {
   "cell_type": "code",
   "execution_count": 42,
   "id": "ebf590e7",
   "metadata": {},
   "outputs": [
    {
     "data": {
      "text/plain": [
       "Text(0, 0.5, '$< r >$')"
      ]
     },
     "execution_count": 42,
     "metadata": {},
     "output_type": "execute_result"
    },
    {
     "data": {
      "image/png": "[encoded data removed]",
      "text/plain": [
       "<Figure size 640x480 with 1 Axes>"
      ]
     },
     "metadata": {},
     "output_type": "display_data"
    }
   ],
   "source": [
    "plt.scatter(n2,dist)\n",
    "plt.xlabel('n, (l=0)')\n",
    "plt.ylabel('$< r >$')"
   ]
  },
  {
   "cell_type": "markdown",
   "id": "01a123ab",
   "metadata": {},
   "source": [
    "## Multivariable Calculus"
   ]
  },
  {
   "cell_type": "code",
   "execution_count": 43,
   "id": "271d783e",
   "metadata": {},
   "outputs": [],
   "source": [
    "x,y,z,t,u1,u2,u3,v1,v2,v3 = smp.symbols('x y z t u_1 u_2 u_3 v_1 v_2 v_3')"
   ]
  },
  {
   "cell_type": "markdown",
   "id": "de2d1bae",
   "metadata": {},
   "source": [
    "### Vectors and Geometry"
   ]
  },
  {
   "cell_type": "code",
   "execution_count": 44,
   "id": "aac4324f",
   "metadata": {},
   "outputs": [],
   "source": [
    "u = smp.Matrix([u1,u2,u3])\n",
    "v = smp.Matrix([v1,v2,v3])"
   ]
  },
  {
   "cell_type": "markdown",
   "id": "badef928",
   "metadata": {},
   "source": [
    "**Matrix Operations**"
   ]
  },
  {
   "cell_type": "code",
   "execution_count": 45,
   "id": "5ec3b3f5",
   "metadata": {},
   "outputs": [
    {
     "data": {
      "text/latex": [
       "$\\displaystyle \\left[\\begin{matrix}5 u_{1} - 2 v_{1}\\\\5 u_{2} - 2 v_{2}\\\\5 u_{3} - 2 v_{3}\\end{matrix}\\right]$"
      ],
      "text/plain": [
       "Matrix([\n",
       "[5*u_1 - 2*v_1],\n",
       "[5*u_2 - 2*v_2],\n",
       "[5*u_3 - 2*v_3]])"
      ]
     },
     "execution_count": 45,
     "metadata": {},
     "output_type": "execute_result"
    }
   ],
   "source": [
    "5*u - 2*v"
   ]
  },
  {
   "cell_type": "code",
   "execution_count": 46,
   "id": "4fabd719",
   "metadata": {},
   "outputs": [
    {
     "data": {
      "text/latex": [
       "$\\displaystyle u_{1} v_{1} + u_{2} v_{2} + u_{3} v_{3}$"
      ],
      "text/plain": [
       "u_1*v_1 + u_2*v_2 + u_3*v_3"
      ]
     },
     "execution_count": 46,
     "metadata": {},
     "output_type": "execute_result"
    }
   ],
   "source": [
    "u.dot(v)"
   ]
  },
  {
   "cell_type": "code",
   "execution_count": 47,
   "id": "fe8e57ec",
   "metadata": {},
   "outputs": [
    {
     "data": {
      "text/latex": [
       "$\\displaystyle \\left[\\begin{matrix}u_{2} v_{3} - u_{3} v_{2}\\\\- u_{1} v_{3} + u_{3} v_{1}\\\\u_{1} v_{2} - u_{2} v_{1}\\end{matrix}\\right]$"
      ],
      "text/plain": [
       "Matrix([\n",
       "[ u_2*v_3 - u_3*v_2],\n",
       "[-u_1*v_3 + u_3*v_1],\n",
       "[ u_1*v_2 - u_2*v_1]])"
      ]
     },
     "execution_count": 47,
     "metadata": {},
     "output_type": "execute_result"
    }
   ],
   "source": [
    "u.cross(v)"
   ]
  },
  {
   "cell_type": "code",
   "execution_count": 48,
   "id": "96893d47",
   "metadata": {},
   "outputs": [
    {
     "data": {
      "text/latex": [
       "$\\displaystyle \\sqrt{\\left|{u_{1}}\\right|^{2} + \\left|{u_{2}}\\right|^{2} + \\left|{u_{3}}\\right|^{2}}$"
      ],
      "text/plain": [
       "sqrt(Abs(u_1)**2 + Abs(u_2)**2 + Abs(u_3)**2)"
      ]
     },
     "execution_count": 48,
     "metadata": {},
     "output_type": "execute_result"
    }
   ],
   "source": [
    "u.norm()"
   ]
  },
  {
   "cell_type": "markdown",
   "id": "2aa16182",
   "metadata": {},
   "source": [
    "Projection  - (See the 2nd year calculus notes)"
   ]
  },
  {
   "cell_type": "markdown",
   "id": "d176f2d0",
   "metadata": {},
   "source": [
    "Lines: $ \\vec{r}(t) = \\vec{r}_0 + t\\vec{v} $"
   ]
  },
  {
   "cell_type": "code",
   "execution_count": 49,
   "id": "3dc18231",
   "metadata": {},
   "outputs": [
    {
     "data": {
      "text/latex": [
       "$\\displaystyle \\left[\\begin{matrix}4 t + 1\\\\3 t + 1\\\\4 t + 1\\end{matrix}\\right]$"
      ],
      "text/plain": [
       "Matrix([\n",
       "[4*t + 1],\n",
       "[3*t + 1],\n",
       "[4*t + 1]])"
      ]
     },
     "execution_count": 49,
     "metadata": {},
     "output_type": "execute_result"
    }
   ],
   "source": [
    "r0 = smp.Matrix([1,1,1])\n",
    "v = smp.Matrix([4,3,4])\n",
    "r = r0 + t*v\n",
    "r"
   ]
  },
  {
   "cell_type": "markdown",
   "id": "267b83b5",
   "metadata": {},
   "source": [
    "Planes: $ \\vec{n} \\cdot (P_0-\\left<x,y,z\\right>) = 0 $"
   ]
  },
  {
   "cell_type": "code",
   "execution_count": 50,
   "id": "926f264b",
   "metadata": {},
   "outputs": [
    {
     "data": {
      "text/latex": [
       "$\\displaystyle - 3 x - 2 y - 3 z + 18.6$"
      ],
      "text/plain": [
       "-3*x - 2*y - 3*z + 18.6"
      ]
     },
     "execution_count": 50,
     "metadata": {},
     "output_type": "execute_result"
    }
   ],
   "source": [
    "n = smp.Matrix([3,2,3])\n",
    "P0 = smp.Matrix([2.2,3,2])\n",
    "r = smp.Matrix([x,y,z])\n",
    "n.dot(P0 - r)"
   ]
  },
  {
   "cell_type": "markdown",
   "id": "4d098111",
   "metadata": {},
   "source": [
    "## Vector Calculus"
   ]
  },
  {
   "cell_type": "markdown",
   "id": "675949ca",
   "metadata": {},
   "source": [
    "### Vector derivatives"
   ]
  },
  {
   "cell_type": "code",
   "execution_count": 51,
   "id": "1a0f2468",
   "metadata": {},
   "outputs": [
    {
     "data": {
      "text/latex": [
       "$\\displaystyle \\left[\\begin{matrix}4\\\\- 30 \\sin{\\left(5 t \\right)}\\\\3 t^{2}\\end{matrix}\\right]$"
      ],
      "text/plain": [
       "Matrix([\n",
       "[           4],\n",
       "[-30*sin(5*t)],\n",
       "[      3*t**2]])"
      ]
     },
     "execution_count": 51,
     "metadata": {},
     "output_type": "execute_result"
    }
   ],
   "source": [
    "r = smp.Matrix([4*t,6*smp.cos(5*t),t**3])\n",
    "smp.diff(r,t)"
   ]
  },
  {
   "cell_type": "markdown",
   "id": "6aa5ac39",
   "metadata": {},
   "source": [
    "**Example:** Find the angle between the velocity and acceleration as a function of time $\\theta(t)$ and also find the angle at $t=8s$."
   ]
  },
  {
   "cell_type": "code",
   "execution_count": 52,
   "id": "76c40419",
   "metadata": {},
   "outputs": [
    {
     "data": {
      "text/latex": [
       "$\\displaystyle \\operatorname{acos}{\\left(\\frac{3 \\left(t^{3} + 125 \\sin{\\left(10 t \\right)}\\right)}{\\sqrt{\\left|{t}\\right|^{2} + 625 \\left|{\\cos{\\left(5 t \\right)}}\\right|^{2}} \\sqrt{9 \\left|{t^{2}}\\right|^{2} + 900 \\left|{\\sin{\\left(5 t \\right)}}\\right|^{2} + 16}} \\right)}$"
      ],
      "text/plain": [
       "acos(3*(t**3 + 125*sin(10*t))/(sqrt(Abs(t)**2 + 625*Abs(cos(5*t))**2)*sqrt(9*Abs(t**2)**2 + 900*Abs(sin(5*t))**2 + 16)))"
      ]
     },
     "execution_count": 52,
     "metadata": {},
     "output_type": "execute_result"
    }
   ],
   "source": [
    "v = smp.diff(r,t)\n",
    "a = smp.diff(v,t)\n",
    "theta = smp.acos(v.dot(a)/(v.norm()*a.norm()))\n",
    "theta.simplify()"
   ]
  },
  {
   "cell_type": "code",
   "execution_count": 53,
   "id": "2da71f41",
   "metadata": {},
   "outputs": [
    {
     "data": {
      "text/latex": [
       "$\\displaystyle 1.23941092042577$"
      ],
      "text/plain": [
       "1.23941092042577"
      ]
     },
     "execution_count": 53,
     "metadata": {},
     "output_type": "execute_result"
    }
   ],
   "source": [
    "theta.subs(t,8).evalf()  # eval() evaluates a float value"
   ]
  },
  {
   "cell_type": "markdown",
   "id": "2fe87e7b",
   "metadata": {},
   "source": [
    "### Vector Integrals"
   ]
  },
  {
   "cell_type": "code",
   "execution_count": 54,
   "id": "3cdfbe20",
   "metadata": {},
   "outputs": [
    {
     "data": {
      "text/latex": [
       "$\\displaystyle \\int \\left[\\begin{matrix}e^{- t^{3}}\\\\\\sin{\\left(t \\right)}\\\\5 t^{3} + 4 t\\end{matrix}\\right]\\, dt$"
      ],
      "text/plain": [
       "Integral(Matrix([\n",
       "[  exp(-t**3)],\n",
       "[      sin(t)],\n",
       "[5*t**3 + 4*t]]), t)"
      ]
     },
     "execution_count": 54,
     "metadata": {},
     "output_type": "execute_result"
    }
   ],
   "source": [
    "r = smp.Matrix([smp.exp(-t**3), smp.sin(t), 5*t**3 + 4*t])\n",
    "I = smp.Integral(r,t)\n",
    "I"
   ]
  },
  {
   "cell_type": "code",
   "execution_count": 55,
   "id": "8f0c3a4e",
   "metadata": {},
   "outputs": [
    {
     "data": {
      "text/latex": [
       "$\\displaystyle \\left[\\begin{matrix}\\frac{\\Gamma\\left(\\frac{1}{3}\\right) \\gamma\\left(\\frac{1}{3}, t^{3}\\right)}{9 \\Gamma\\left(\\frac{4}{3}\\right)}\\\\- \\cos{\\left(t \\right)}\\\\\\frac{5 t^{4}}{4} + 2 t^{2}\\end{matrix}\\right]$"
      ],
      "text/plain": [
       "Matrix([\n",
       "[gamma(1/3)*lowergamma(1/3, t**3)/(9*gamma(4/3))],\n",
       "[                                        -cos(t)],\n",
       "[                              5*t**4/4 + 2*t**2]])"
      ]
     },
     "execution_count": 55,
     "metadata": {},
     "output_type": "execute_result"
    }
   ],
   "source": [
    "I.doit()  # performs the integration"
   ]
  },
  {
   "cell_type": "markdown",
   "id": "cc5f3513",
   "metadata": {},
   "source": [
    "Some cases integrals can't be solved analytically. So we need to solve them numerically."
   ]
  },
  {
   "cell_type": "code",
   "execution_count": 56,
   "id": "82b9f50b",
   "metadata": {},
   "outputs": [],
   "source": [
    "from scipy.integrate import quad_vec"
   ]
  },
  {
   "cell_type": "code",
   "execution_count": 57,
   "id": "4b7a2a21",
   "metadata": {},
   "outputs": [
    {
     "data": {
      "text/latex": [
       "$\\displaystyle \\int\\limits_{0}^{1} \\left[\\begin{matrix}e^{- t^{2}} \\cos^{3}{\\left(t \\right)}\\\\e^{- t^{4}}\\\\\\frac{1}{t^{2} + 3}\\end{matrix}\\right]\\, dt$"
      ],
      "text/plain": [
       "Integral(Matrix([\n",
       "[exp(-t**2)*cos(t)**3],\n",
       "[          exp(-t**4)],\n",
       "[        1/(t**2 + 3)]]), (t, 0, 1))"
      ]
     },
     "execution_count": 57,
     "metadata": {},
     "output_type": "execute_result"
    }
   ],
   "source": [
    "r1 = smp.Matrix([smp.exp(-t**2)*smp.cos(t)**3, smp.exp(-t**4), 1/(3+t**2)])\n",
    "I1 = smp.Integral(r1, (t,0,1))\n",
    "I1"
   ]
  },
  {
   "cell_type": "code",
   "execution_count": 58,
   "id": "643716ee",
   "metadata": {
    "scrolled": true
   },
   "outputs": [
    {
     "data": {
      "text/plain": [
       "array([[0.05802511],\n",
       "       [0.36787944],\n",
       "       [0.25      ]])"
      ]
     },
     "execution_count": 58,
     "metadata": {},
     "output_type": "execute_result"
    }
   ],
   "source": [
    "rf = smp.lambdify([t],r1)\n",
    "rf(1)"
   ]
  },
  {
   "cell_type": "code",
   "execution_count": 59,
   "id": "bfd70120",
   "metadata": {},
   "outputs": [
    {
     "data": {
      "text/plain": [
       "(array([[0.53525785],\n",
       "        [0.84483859],\n",
       "        [0.30229989]]),\n",
       " 3.5151979041265046e-14)"
      ]
     },
     "execution_count": 59,
     "metadata": {},
     "output_type": "execute_result"
    }
   ],
   "source": [
    "quad_vec(rf, 0,1)  # integration and error"
   ]
  },
  {
   "cell_type": "raw",
   "id": "81bd407a",
   "metadata": {},
   "source": [
    "smp.integrate(r1, (t,0,1))"
   ]
  },
  {
   "cell_type": "markdown",
   "id": "1d015fb2",
   "metadata": {},
   "source": [
    "Result: (high processing time)\n",
    "$$ \\displaystyle \\left[\\begin{matrix}\\int e^{- t^{2}} \\cos^{3}{\\left(t \\right)}\\, dt\\\\\\frac{\\Gamma\\left(\\frac{1}{4}\\right) \\gamma\\left(\\frac{1}{4}, t^{4}\\right)}{16 \\Gamma\\left(\\frac{5}{4}\\right)}\\\\\\frac{\\sqrt{3} \\operatorname{atan}{\\left(\\frac{\\sqrt{3} t}{3} \\right)}}{3}\\end{matrix}\\right] $$"
   ]
  },
  {
   "cell_type": "markdown",
   "id": "156eb38e",
   "metadata": {},
   "source": [
    "### Arclength"
   ]
  },
  {
   "cell_type": "markdown",
   "id": "d7a626e3",
   "metadata": {},
   "source": [
    "$$ L = \\int_a^b \\sqrt{dx^2 + dy^2 + dz^2} = \\int_a^b \\sqrt{(dx/dt)^2 + (dy/dt)^2 + (dz/dt)^2 } dt $$"
   ]
  },
  {
   "cell_type": "markdown",
   "id": "05fe6193",
   "metadata": {},
   "source": [
    "Find arclength of $ \\left< 0, 3t, 2t^2 \\right> $ from $t=0$ to $t=1$."
   ]
  },
  {
   "cell_type": "code",
   "execution_count": 60,
   "id": "a31461d3",
   "metadata": {},
   "outputs": [
    {
     "data": {
      "text/latex": [
       "$\\displaystyle \\left[\\begin{matrix}0\\\\3 t\\\\2 t^{2}\\end{matrix}\\right]$"
      ],
      "text/plain": [
       "Matrix([\n",
       "[     0],\n",
       "[   3*t],\n",
       "[2*t**2]])"
      ]
     },
     "metadata": {},
     "output_type": "display_data"
    },
    {
     "data": {
      "text/latex": [
       "$\\displaystyle \\frac{9 \\operatorname{asinh}{\\left(\\frac{4}{3} \\right)}}{8} + \\frac{5}{2}$"
      ],
      "text/plain": [
       "9*asinh(4/3)/8 + 5/2"
      ]
     },
     "metadata": {},
     "output_type": "display_data"
    }
   ],
   "source": [
    "r2= smp.Matrix([0, 3*t, 2*t**2])\n",
    "display(r2)\n",
    "\n",
    "f1 = smp.diff(r2,t).norm()\n",
    "L= smp.integrate(f1, (t,0,1))\n",
    "display(L)"
   ]
  },
  {
   "cell_type": "markdown",
   "id": "c2095e20",
   "metadata": {},
   "source": [
    "### Biot-Savart Law\n",
    "\n",
    "The magnetic field at a point $\\vec{r}$ of a current configuration is\n",
    "$$ \\vec{B}(\\vec{r}) = \\frac{\\mu_0}{4\\pi} \\int_t \\frac{I \\frac{d\\vec{\\ell}}{dt} \\times (\\vec{r}-\\vec{\\ell})}{|\\vec{r}-\\vec{\\ell}|^3} dt $$"
   ]
  },
  {
   "cell_type": "markdown",
   "id": "1d8cc51d",
   "metadata": {},
   "source": [
    "Where $\\vec{r} = (x,y,z)$ and $\\vec{\\ell} = (f(t), g(t), h(t))$ is a 1D curve in space that gives location of the wire. (Here, t is a parameter, not time.)"
   ]
  },
  {
   "cell_type": "markdown",
   "id": "b785ffad",
   "metadata": {},
   "source": [
    "**Writing General Formulae**"
   ]
  },
  {
   "cell_type": "code",
   "execution_count": 61,
   "id": "fb7cf741",
   "metadata": {},
   "outputs": [],
   "source": [
    "x,y,z,t,I, mu0 = smp.symbols('x y z t I \\mu_0', real= True)\n",
    "f,g,h = smp.symbols('f g h', cls= smp.Function)\n",
    "f = f(t)\n",
    "g = g(t)\n",
    "h = h(t)"
   ]
  },
  {
   "cell_type": "code",
   "execution_count": 62,
   "id": "2ef8cbe7",
   "metadata": {},
   "outputs": [],
   "source": [
    "r = smp.Matrix([x, y, z])\n",
    "l = smp.Matrix([f, g, h])\n",
    "dldt = smp.diff(l)"
   ]
  },
  {
   "cell_type": "code",
   "execution_count": 63,
   "id": "d341a7dc",
   "metadata": {},
   "outputs": [
    {
     "data": {
      "text/latex": [
       "$\\displaystyle \\left[\\begin{matrix}f{\\left(t \\right)}\\\\g{\\left(t \\right)}\\\\h{\\left(t \\right)}\\end{matrix}\\right]$"
      ],
      "text/plain": [
       "Matrix([\n",
       "[f(t)],\n",
       "[g(t)],\n",
       "[h(t)]])"
      ]
     },
     "execution_count": 63,
     "metadata": {},
     "output_type": "execute_result"
    }
   ],
   "source": [
    "l"
   ]
  },
  {
   "cell_type": "code",
   "execution_count": 64,
   "id": "8cc2068d",
   "metadata": {},
   "outputs": [
    {
     "data": {
      "text/latex": [
       "$\\displaystyle \\left[\\begin{matrix}\\frac{I \\mu_{0} \\left(- \\left(y - g{\\left(t \\right)}\\right) \\frac{d}{d t} h{\\left(t \\right)} + \\left(z - h{\\left(t \\right)}\\right) \\frac{d}{d t} g{\\left(t \\right)}\\right)}{4 \\pi \\left(\\left|{x - f{\\left(t \\right)}}\\right|^{2} + \\left|{y - g{\\left(t \\right)}}\\right|^{2} + \\left|{z - h{\\left(t \\right)}}\\right|^{2}\\right)^{\\frac{3}{2}}}\\\\\\frac{I \\mu_{0} \\left(\\left(x - f{\\left(t \\right)}\\right) \\frac{d}{d t} h{\\left(t \\right)} - \\left(z - h{\\left(t \\right)}\\right) \\frac{d}{d t} f{\\left(t \\right)}\\right)}{4 \\pi \\left(\\left|{x - f{\\left(t \\right)}}\\right|^{2} + \\left|{y - g{\\left(t \\right)}}\\right|^{2} + \\left|{z - h{\\left(t \\right)}}\\right|^{2}\\right)^{\\frac{3}{2}}}\\\\\\frac{I \\mu_{0} \\left(- \\left(x - f{\\left(t \\right)}\\right) \\frac{d}{d t} g{\\left(t \\right)} + \\left(y - g{\\left(t \\right)}\\right) \\frac{d}{d t} f{\\left(t \\right)}\\right)}{4 \\pi \\left(\\left|{x - f{\\left(t \\right)}}\\right|^{2} + \\left|{y - g{\\left(t \\right)}}\\right|^{2} + \\left|{z - h{\\left(t \\right)}}\\right|^{2}\\right)^{\\frac{3}{2}}}\\end{matrix}\\right]$"
      ],
      "text/plain": [
       "Matrix([\n",
       "[I*\\mu_0*(-(y - g(t))*Derivative(h(t), t) + (z - h(t))*Derivative(g(t), t))/(4*pi*(Abs(x - f(t))**2 + Abs(y - g(t))**2 + Abs(z - h(t))**2)**(3/2))],\n",
       "[ I*\\mu_0*((x - f(t))*Derivative(h(t), t) - (z - h(t))*Derivative(f(t), t))/(4*pi*(Abs(x - f(t))**2 + Abs(y - g(t))**2 + Abs(z - h(t))**2)**(3/2))],\n",
       "[I*\\mu_0*(-(x - f(t))*Derivative(g(t), t) + (y - g(t))*Derivative(f(t), t))/(4*pi*(Abs(x - f(t))**2 + Abs(y - g(t))**2 + Abs(z - h(t))**2)**(3/2))]])"
      ]
     },
     "execution_count": 64,
     "metadata": {},
     "output_type": "execute_result"
    }
   ],
   "source": [
    "dBdt = (mu0* I/(4*smp.pi))* dldt.cross(r-l)/ ((r-l).norm())**3\n",
    "dBdt"
   ]
  },
  {
   "cell_type": "markdown",
   "id": "f1c482ac",
   "metadata": {},
   "source": [
    "**Question:** Find magnetic field at a distance $H$ above a ring of radius $R$ flowing clockwise."
   ]
  },
  {
   "cell_type": "code",
   "execution_count": 65,
   "id": "63afb30f",
   "metadata": {},
   "outputs": [],
   "source": [
    "H, R = smp.symbols('H R', real = True)"
   ]
  },
  {
   "cell_type": "code",
   "execution_count": 66,
   "id": "3fb9a5f6",
   "metadata": {},
   "outputs": [
    {
     "data": {
      "text/latex": [
       "$\\displaystyle \\left[\\begin{matrix}\\frac{H I R \\mu_{0} \\cos{\\left(t \\right)}}{4 \\pi \\left(H^{2} + R^{2}\\right)^{\\frac{3}{2}}}\\\\\\frac{H I R \\mu_{0} \\sin{\\left(t \\right)}}{4 \\pi \\left(H^{2} + R^{2}\\right)^{\\frac{3}{2}}}\\\\\\frac{I R^{2} \\mu_{0}}{4 \\pi \\left(H^{2} + R^{2}\\right)^{\\frac{3}{2}}}\\end{matrix}\\right]$"
      ],
      "text/plain": [
       "Matrix([\n",
       "[H*I*R*\\mu_0*cos(t)/(4*pi*(H**2 + R**2)**(3/2))],\n",
       "[H*I*R*\\mu_0*sin(t)/(4*pi*(H**2 + R**2)**(3/2))],\n",
       "[      I*R**2*\\mu_0/(4*pi*(H**2 + R**2)**(3/2))]])"
      ]
     },
     "execution_count": 66,
     "metadata": {},
     "output_type": "execute_result"
    }
   ],
   "source": [
    "dBdt1 = dBdt.subs([(f, R*smp.cos(t)), (g, R*smp.sin(t)), (h, 0),\n",
    "                 (x,0), (y,0), (z,H)]).doit()\n",
    "dBdt1.simplify()\n",
    "dBdt1"
   ]
  },
  {
   "cell_type": "code",
   "execution_count": 67,
   "id": "d7f63fac",
   "metadata": {},
   "outputs": [
    {
     "data": {
      "text/latex": [
       "$\\displaystyle \\left[\\begin{matrix}0\\\\0\\\\\\frac{I R^{2} \\mu_{0}}{2 \\left(H^{2} + R^{2}\\right)^{\\frac{3}{2}}}\\end{matrix}\\right]$"
      ],
      "text/plain": [
       "Matrix([\n",
       "[                                    0],\n",
       "[                                    0],\n",
       "[I*R**2*\\mu_0/(2*(H**2 + R**2)**(3/2))]])"
      ]
     },
     "execution_count": 67,
     "metadata": {},
     "output_type": "execute_result"
    }
   ],
   "source": [
    "B1 = smp.integrate(dBdt1, [t, 0, 2*smp.pi])\n",
    "B1"
   ]
  },
  {
   "cell_type": "markdown",
   "id": "d6456503",
   "metadata": {},
   "source": [
    "**Question:** Find magnetic field at a distance $\\rho$ from a wire of length $L$ kept at the $z$ axis."
   ]
  },
  {
   "cell_type": "code",
   "execution_count": 68,
   "id": "1bc3e21c",
   "metadata": {},
   "outputs": [],
   "source": [
    "L, rho, th = smp.symbols('L \\\\rho \\\\theta', real = True)"
   ]
  },
  {
   "cell_type": "code",
   "execution_count": 69,
   "id": "919f76fb",
   "metadata": {},
   "outputs": [
    {
     "data": {
      "text/latex": [
       "$\\displaystyle \\left[\\begin{matrix}- \\frac{I \\mu_{0} \\rho \\sin{\\left(\\theta \\right)}}{4 \\pi \\left(\\rho^{2} + t^{2}\\right)^{\\frac{3}{2}}}\\\\\\frac{I \\mu_{0} \\rho \\cos{\\left(\\theta \\right)}}{4 \\pi \\left(\\rho^{2} + t^{2}\\right)^{\\frac{3}{2}}}\\\\0\\end{matrix}\\right]$"
      ],
      "text/plain": [
       "Matrix([\n",
       "[-I*\\mu_0*\\rho*sin(\\theta)/(4*pi*(\\rho**2 + t**2)**(3/2))],\n",
       "[ I*\\mu_0*\\rho*cos(\\theta)/(4*pi*(\\rho**2 + t**2)**(3/2))],\n",
       "[                                                       0]])"
      ]
     },
     "execution_count": 69,
     "metadata": {},
     "output_type": "execute_result"
    }
   ],
   "source": [
    "dBdt2 = dBdt.subs([(f, 0), (g, 0), (h, t), \n",
    "                   (x, rho* smp.cos(th)), (y, rho* smp.sin(th)), (z,0)]).doit()\n",
    "dBdt2.simplify()\n",
    "dBdt2"
   ]
  },
  {
   "cell_type": "code",
   "execution_count": 70,
   "id": "22634b57",
   "metadata": {},
   "outputs": [
    {
     "data": {
      "text/latex": [
       "$\\displaystyle \\left[\\begin{matrix}- \\frac{I L \\mu_{0} \\sin{\\left(\\theta \\right)}}{4 \\pi \\rho^{2} \\sqrt{\\frac{L^{2}}{4 \\rho^{2}} + 1}}\\\\\\frac{I L \\mu_{0} \\cos{\\left(\\theta \\right)}}{4 \\pi \\rho^{2} \\sqrt{\\frac{L^{2}}{4 \\rho^{2}} + 1}}\\\\0\\end{matrix}\\right]$"
      ],
      "text/plain": [
       "Matrix([\n",
       "[-I*L*\\mu_0*sin(\\theta)/(4*pi*\\rho**2*sqrt(L**2/(4*\\rho**2) + 1))],\n",
       "[ I*L*\\mu_0*cos(\\theta)/(4*pi*\\rho**2*sqrt(L**2/(4*\\rho**2) + 1))],\n",
       "[                                                               0]])"
      ]
     },
     "execution_count": 70,
     "metadata": {},
     "output_type": "execute_result"
    }
   ],
   "source": [
    "B2 = smp.integrate(dBdt2, [t, -L/2, L/2])\n",
    "B2"
   ]
  },
  {
   "cell_type": "markdown",
   "id": "ca0d6123",
   "metadata": {},
   "source": [
    "## Partial/Directional Derivatives"
   ]
  },
  {
   "cell_type": "code",
   "execution_count": 71,
   "id": "4b3ce3de",
   "metadata": {},
   "outputs": [],
   "source": [
    "x, y, z = smp.symbols('x y z')"
   ]
  },
  {
   "cell_type": "markdown",
   "id": "f46cdf12",
   "metadata": {},
   "source": [
    "Partial derivatives $\\frac{\\partial f}{\\partial x}$, $\\frac{\\partial f}{\\partial y}$ and $\\frac{\\partial^3 f}{\\partial xy^2}$ of $ f(x,y)=y^2\\sin(x+y) $"
   ]
  },
  {
   "cell_type": "code",
   "execution_count": 72,
   "id": "ebfe2615",
   "metadata": {},
   "outputs": [],
   "source": [
    "fxy = y**2 * smp.sin(x+y)"
   ]
  },
  {
   "cell_type": "code",
   "execution_count": 73,
   "id": "f4e553d0",
   "metadata": {},
   "outputs": [
    {
     "data": {
      "text/latex": [
       "$\\displaystyle y^{2} \\cos{\\left(x + y \\right)}$"
      ],
      "text/plain": [
       "y**2*cos(x + y)"
      ]
     },
     "execution_count": 73,
     "metadata": {},
     "output_type": "execute_result"
    }
   ],
   "source": [
    "smp.diff(fxy, x)"
   ]
  },
  {
   "cell_type": "code",
   "execution_count": 74,
   "id": "e920a991",
   "metadata": {},
   "outputs": [
    {
     "data": {
      "text/latex": [
       "$\\displaystyle y^{2} \\cos{\\left(x + y \\right)} + 2 y \\sin{\\left(x + y \\right)}$"
      ],
      "text/plain": [
       "y**2*cos(x + y) + 2*y*sin(x + y)"
      ]
     },
     "execution_count": 74,
     "metadata": {},
     "output_type": "execute_result"
    }
   ],
   "source": [
    "smp.diff(fxy, y)"
   ]
  },
  {
   "cell_type": "code",
   "execution_count": 75,
   "id": "3edb5dad",
   "metadata": {},
   "outputs": [
    {
     "data": {
      "text/latex": [
       "$\\displaystyle - y^{2} \\cos{\\left(x + y \\right)} - 4 y \\sin{\\left(x + y \\right)} + 2 \\cos{\\left(x + y \\right)}$"
      ],
      "text/plain": [
       "-y**2*cos(x + y) - 4*y*sin(x + y) + 2*cos(x + y)"
      ]
     },
     "execution_count": 75,
     "metadata": {},
     "output_type": "execute_result"
    }
   ],
   "source": [
    "smp.diff(fxy, y, y, x)"
   ]
  },
  {
   "cell_type": "markdown",
   "id": "f0ec077e",
   "metadata": {},
   "source": [
    "**The Chain Rule**"
   ]
  },
  {
   "cell_type": "markdown",
   "id": "4408b983",
   "metadata": {},
   "source": [
    "Suppose $x$,$y$ and $z$ are functions of $t$ and $w= w(x,y,z)$. Find $dw/dt$."
   ]
  },
  {
   "cell_type": "code",
   "execution_count": 76,
   "id": "79e01071",
   "metadata": {},
   "outputs": [
    {
     "data": {
      "text/latex": [
       "$\\displaystyle w{\\left(x{\\left(t \\right)},y{\\left(t \\right)},z{\\left(t \\right)} \\right)}$"
      ],
      "text/plain": [
       "w(x(t), y(t), z(t))"
      ]
     },
     "execution_count": 76,
     "metadata": {},
     "output_type": "execute_result"
    }
   ],
   "source": [
    "t = smp.symbols('t')\n",
    "x, y, z, w = smp.symbols('x y z w', cls = smp.Function)\n",
    "x = x(t)\n",
    "y = y(t)\n",
    "z = z(t)\n",
    "w = w(x,y,z)\n",
    "w"
   ]
  },
  {
   "cell_type": "code",
   "execution_count": 77,
   "id": "9f683fca",
   "metadata": {},
   "outputs": [
    {
     "data": {
      "text/latex": [
       "$\\displaystyle \\frac{d}{d x{\\left(t \\right)}} w{\\left(x{\\left(t \\right)},y{\\left(t \\right)},z{\\left(t \\right)} \\right)} \\frac{d}{d t} x{\\left(t \\right)} + \\frac{d}{d y{\\left(t \\right)}} w{\\left(x{\\left(t \\right)},y{\\left(t \\right)},z{\\left(t \\right)} \\right)} \\frac{d}{d t} y{\\left(t \\right)} + \\frac{d}{d z{\\left(t \\right)}} w{\\left(x{\\left(t \\right)},y{\\left(t \\right)},z{\\left(t \\right)} \\right)} \\frac{d}{d t} z{\\left(t \\right)}$"
      ],
      "text/plain": [
       "Derivative(w(x(t), y(t), z(t)), x(t))*Derivative(x(t), t) + Derivative(w(x(t), y(t), z(t)), y(t))*Derivative(y(t), t) + Derivative(w(x(t), y(t), z(t)), z(t))*Derivative(z(t), t)"
      ]
     },
     "execution_count": 77,
     "metadata": {},
     "output_type": "execute_result"
    }
   ],
   "source": [
    "smp.diff(w,t)"
   ]
  },
  {
   "cell_type": "code",
   "execution_count": 78,
   "id": "d553dce1",
   "metadata": {},
   "outputs": [
    {
     "data": {
      "text/latex": [
       "$\\displaystyle - 2 x{\\left(t \\right)} z{\\left(t \\right)} e^{- z^{2}{\\left(t \\right)}} \\sin{\\left(y{\\left(t \\right)} \\right)} \\frac{d}{d t} z{\\left(t \\right)} + x{\\left(t \\right)} e^{- z^{2}{\\left(t \\right)}} \\cos{\\left(y{\\left(t \\right)} \\right)} \\frac{d}{d t} y{\\left(t \\right)} + e^{- z^{2}{\\left(t \\right)}} \\sin{\\left(y{\\left(t \\right)} \\right)} \\frac{d}{d t} x{\\left(t \\right)}$"
      ],
      "text/plain": [
       "-2*x(t)*z(t)*exp(-z(t)**2)*sin(y(t))*Derivative(z(t), t) + x(t)*exp(-z(t)**2)*cos(y(t))*Derivative(y(t), t) + exp(-z(t)**2)*sin(y(t))*Derivative(x(t), t)"
      ]
     },
     "execution_count": 78,
     "metadata": {},
     "output_type": "execute_result"
    }
   ],
   "source": [
    "w1 = x* smp.sin(y)* smp.exp(-z**2)\n",
    "smp.diff(w1,t)"
   ]
  },
  {
   "cell_type": "code",
   "execution_count": 79,
   "id": "5027999e",
   "metadata": {},
   "outputs": [
    {
     "data": {
      "text/latex": [
       "$\\displaystyle - \\frac{8 e^{- 4 t^{2}} \\sin{\\left(14 t \\right)}}{t} + \\frac{14 e^{- 4 t^{2}} \\cos{\\left(14 t \\right)}}{t^{2}} - \\frac{2 e^{- 4 t^{2}} \\sin{\\left(14 t \\right)}}{t^{3}}$"
      ],
      "text/plain": [
       "-8*exp(-4*t**2)*sin(14*t)/t + 14*exp(-4*t**2)*cos(14*t)/t**2 - 2*exp(-4*t**2)*sin(14*t)/t**3"
      ]
     },
     "execution_count": 79,
     "metadata": {},
     "output_type": "execute_result"
    }
   ],
   "source": [
    "smp.diff(w1,t).subs([(x, 1/t**2), (y,14*t), (z, 2*t)]).doit()"
   ]
  },
  {
   "cell_type": "markdown",
   "id": "0b3b3af2",
   "metadata": {},
   "source": [
    "## Multiple Integrals"
   ]
  },
  {
   "cell_type": "markdown",
   "id": "f41510a5",
   "metadata": {},
   "source": [
    "In rare cases it can be solved symbolically."
   ]
  },
  {
   "cell_type": "markdown",
   "id": "30270db8",
   "metadata": {},
   "source": [
    "$$ \\int_0^1 \\int_0^{1-x^2} \\int_3^{4-x^2-y^2} x^3dzdydx $$"
   ]
  },
  {
   "cell_type": "code",
   "execution_count": 80,
   "id": "a826a52c",
   "metadata": {},
   "outputs": [
    {
     "data": {
      "text/latex": [
       "$\\displaystyle \\frac{1}{30}$"
      ],
      "text/plain": [
       "1/30"
      ]
     },
     "execution_count": 80,
     "metadata": {},
     "output_type": "execute_result"
    }
   ],
   "source": [
    "x, y, z = smp.symbols('x y z')\n",
    "f1 = x**3\n",
    "smp.integrate(f1, (z,3, 4-x**2-y**2), (y,0,1-x**2), (x,0,1))"
   ]
  },
  {
   "cell_type": "markdown",
   "id": "b9a6a401",
   "metadata": {},
   "source": [
    "## Lagrangian Mechanics"
   ]
  },
  {
   "cell_type": "code",
   "execution_count": null,
   "id": "c2dab2e3",
   "metadata": {},
   "outputs": [],
   "source": []
  }
 ],
 "metadata": {
  "kernelspec": {
   "display_name": "Python 3 (ipykernel)",
   "language": "python",
   "name": "python3"
  },
  "language_info": {
   "codemirror_mode": {
    "name": "ipython",
    "version": 3
   },
   "file_extension": ".py",
   "mimetype": "text/x-python",
   "name": "python",
   "nbconvert_exporter": "python",
   "pygments_lexer": "ipython3",
   "version": "3.9.13"
  }
 },
 "nbformat": 4,
 "nbformat_minor": 5
}
