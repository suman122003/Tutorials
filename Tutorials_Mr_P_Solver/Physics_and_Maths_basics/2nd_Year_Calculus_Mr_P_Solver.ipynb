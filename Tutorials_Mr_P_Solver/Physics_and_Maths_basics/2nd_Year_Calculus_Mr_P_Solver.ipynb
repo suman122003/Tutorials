{
 "cells": [
  {
   "cell_type": "markdown",
   "id": "673dfe1c",
   "metadata": {},
   "source": [
    "# 2nd Year Calculus (Mr. P Solver)"
   ]
  },
  {
   "cell_type": "markdown",
   "id": "b69b8437",
   "metadata": {},
   "source": [
    "Video Link: https://youtu.be/Teb28OFMVFc\n",
    "\n",
    "Codes: https://www.youtube.com/redirect?event=video_description&redir_token=QUFFLUhqa2szcEtxY0l4REVhR0xiVUV5MUIyQzl4bW1Cd3xBQ3Jtc0ttSWpmdGowajQ5S2owT21kRDBCMzNHUnhndmZEREI0akVpLWhRakJrRUlHX1BDN054UlJ1QUhYWlhfQ2VuR0F0Ql9FRFlrc09EZllRcGRHbF9VWnBfU0JXV195bk9JbWJWQnhCX1FQNGJQc3BWMHFYUQ&q=https%3A%2F%2Fgithub.com%2Flukepolson%2Fyoutube_channel%2Fblob%2Fmain%2FPython%2520Tutorial%2520Series%2Fmath2.ipynb&v=Teb28OFMVFc"
   ]
  },
  {
   "cell_type": "code",
   "execution_count": 54,
   "id": "479cb859",
   "metadata": {},
   "outputs": [],
   "source": [
    "import numpy as np\n",
    "import matplotlib.pyplot as plt\n",
    "import scipy as sp\n",
    "from scipy.integrate import quad, quad_vec\n",
    "import sympy as smp\n",
    "from sympy import *\n",
    "from sympy.vector import *"
   ]
  },
  {
   "cell_type": "code",
   "execution_count": 55,
   "id": "e5fb121f",
   "metadata": {},
   "outputs": [],
   "source": [
    "x,y,z,t,u1,u2,u3,v1,v2,v3 = smp.symbols('x y z t u_1 u_2 u_3 v_1 v_2 v_3')"
   ]
  },
  {
   "cell_type": "markdown",
   "id": "aecad468",
   "metadata": {},
   "source": [
    "# Vectors and Geometry"
   ]
  },
  {
   "cell_type": "code",
   "execution_count": 56,
   "id": "2acec321",
   "metadata": {},
   "outputs": [],
   "source": [
    "a = np.array([2,3,7])\n",
    "b = np.array([2,4,1])\n",
    "u = smp.Matrix([u1,u2,u3])\n",
    "v = smp.Matrix([v1,v2,v3])"
   ]
  },
  {
   "cell_type": "markdown",
   "id": "f1f78ec2",
   "metadata": {},
   "source": [
    "### Addition and Multiplication"
   ]
  },
  {
   "cell_type": "code",
   "execution_count": 57,
   "id": "77dc7511",
   "metadata": {},
   "outputs": [
    {
     "name": "stdout",
     "output_type": "stream",
     "text": [
      "[14 26 19]\n"
     ]
    },
    {
     "data": {
      "text/latex": [
       "$\\displaystyle \\left[\\begin{matrix}2 u_{1} + 5 v_{1}\\\\2 u_{2} + 5 v_{2}\\\\2 u_{3} + 5 v_{3}\\end{matrix}\\right]$"
      ],
      "text/plain": [
       "Matrix([\n",
       "[2*u_1 + 5*v_1],\n",
       "[2*u_2 + 5*v_2],\n",
       "[2*u_3 + 5*v_3]])"
      ]
     },
     "metadata": {},
     "output_type": "display_data"
    }
   ],
   "source": [
    "print(2*a +5*b)\n",
    "display(2*u +5*v)"
   ]
  },
  {
   "cell_type": "markdown",
   "id": "377a0371",
   "metadata": {},
   "source": [
    "### Dot products"
   ]
  },
  {
   "cell_type": "code",
   "execution_count": 58,
   "id": "74a9b0a5",
   "metadata": {},
   "outputs": [
    {
     "name": "stdout",
     "output_type": "stream",
     "text": [
      "23\n"
     ]
    },
    {
     "data": {
      "text/latex": [
       "$\\displaystyle u_{1} v_{1} + u_{2} v_{2} + u_{3} v_{3}$"
      ],
      "text/plain": [
       "u_1*v_1 + u_2*v_2 + u_3*v_3"
      ]
     },
     "metadata": {},
     "output_type": "display_data"
    }
   ],
   "source": [
    "print(np.dot(a,b))\n",
    "display(u.dot(v))"
   ]
  },
  {
   "cell_type": "markdown",
   "id": "6ff0107e",
   "metadata": {},
   "source": [
    "### Cross products"
   ]
  },
  {
   "cell_type": "code",
   "execution_count": 59,
   "id": "ab55a5f4",
   "metadata": {},
   "outputs": [
    {
     "name": "stdout",
     "output_type": "stream",
     "text": [
      "[-25  12   2]\n"
     ]
    },
    {
     "data": {
      "text/latex": [
       "$\\displaystyle \\left[\\begin{matrix}u_{2} v_{3} - u_{3} v_{2}\\\\- u_{1} v_{3} + u_{3} v_{1}\\\\u_{1} v_{2} - u_{2} v_{1}\\end{matrix}\\right]$"
      ],
      "text/plain": [
       "Matrix([\n",
       "[ u_2*v_3 - u_3*v_2],\n",
       "[-u_1*v_3 + u_3*v_1],\n",
       "[ u_1*v_2 - u_2*v_1]])"
      ]
     },
     "metadata": {},
     "output_type": "display_data"
    }
   ],
   "source": [
    "print(np.cross(a,b))\n",
    "display(u.cross(v))"
   ]
  },
  {
   "cell_type": "markdown",
   "id": "03f8f3b7",
   "metadata": {},
   "source": [
    "### Length of vector"
   ]
  },
  {
   "cell_type": "code",
   "execution_count": 60,
   "id": "a2fe43a1",
   "metadata": {},
   "outputs": [
    {
     "name": "stdout",
     "output_type": "stream",
     "text": [
      "7.874007874011811\n"
     ]
    },
    {
     "data": {
      "text/latex": [
       "$\\displaystyle \\sqrt{\\left|{u_{1}}\\right|^{2} + \\left|{u_{2}}\\right|^{2} + \\left|{u_{3}}\\right|^{2}}$"
      ],
      "text/plain": [
       "sqrt(Abs(u_1)**2 + Abs(u_2)**2 + Abs(u_3)**2)"
      ]
     },
     "metadata": {},
     "output_type": "display_data"
    },
    {
     "data": {
      "text/latex": [
       "$\\displaystyle \\sqrt{62}$"
      ],
      "text/plain": [
       "sqrt(62)"
      ]
     },
     "metadata": {},
     "output_type": "display_data"
    }
   ],
   "source": [
    "print(np.linalg.norm(a))\n",
    "\n",
    "unorm = u.norm()\n",
    "display(unorm)\n",
    "display(unorm.subs([(u1,2), (u2,3),(u3,7)]))"
   ]
  },
  {
   "cell_type": "markdown",
   "id": "8a5ff9fe",
   "metadata": {},
   "source": [
    "## Vector projection"
   ]
  },
  {
   "cell_type": "markdown",
   "id": "4a16a274",
   "metadata": {},
   "source": [
    "Projection of $u$ on $v$,\n",
    "$$ \\text{proj}_v(u) = (u.\\hat{v})\\hat{v} = \\frac{u \\cdot v}{|v|^2} v $$"
   ]
  },
  {
   "cell_type": "code",
   "execution_count": 61,
   "id": "51f041d8",
   "metadata": {},
   "outputs": [
    {
     "name": "stdout",
     "output_type": "stream",
     "text": [
      "[2.19047619 4.38095238 1.0952381 ]\n"
     ]
    },
    {
     "data": {
      "text/latex": [
       "$\\displaystyle \\left[\\begin{matrix}\\frac{v_{1} \\left(u_{1} v_{1} + u_{2} v_{2} + u_{3} v_{3}\\right)}{\\left|{v_{1}}\\right|^{2} + \\left|{v_{2}}\\right|^{2} + \\left|{v_{3}}\\right|^{2}}\\\\\\frac{v_{2} \\left(u_{1} v_{1} + u_{2} v_{2} + u_{3} v_{3}\\right)}{\\left|{v_{1}}\\right|^{2} + \\left|{v_{2}}\\right|^{2} + \\left|{v_{3}}\\right|^{2}}\\\\\\frac{v_{3} \\left(u_{1} v_{1} + u_{2} v_{2} + u_{3} v_{3}\\right)}{\\left|{v_{1}}\\right|^{2} + \\left|{v_{2}}\\right|^{2} + \\left|{v_{3}}\\right|^{2}}\\end{matrix}\\right]$"
      ],
      "text/plain": [
       "Matrix([\n",
       "[v_1*(u_1*v_1 + u_2*v_2 + u_3*v_3)/(Abs(v_1)**2 + Abs(v_2)**2 + Abs(v_3)**2)],\n",
       "[v_2*(u_1*v_1 + u_2*v_2 + u_3*v_3)/(Abs(v_1)**2 + Abs(v_2)**2 + Abs(v_3)**2)],\n",
       "[v_3*(u_1*v_1 + u_2*v_2 + u_3*v_3)/(Abs(v_1)**2 + Abs(v_2)**2 + Abs(v_3)**2)]])"
      ]
     },
     "metadata": {},
     "output_type": "display_data"
    }
   ],
   "source": [
    "projab = np.dot(a,b)*b/np.linalg.norm(b)**2\n",
    "print(projab)\n",
    "\n",
    "projuv = u.dot(v)*v/v.norm()**2\n",
    "display(projuv)"
   ]
  },
  {
   "cell_type": "markdown",
   "id": "962cbf3f",
   "metadata": {},
   "source": [
    "## Lines"
   ]
  },
  {
   "cell_type": "markdown",
   "id": "3fc5edfc",
   "metadata": {},
   "source": [
    "$$ \\vec{r}(t) = \\vec{r}_0 + t\\vec{v} $$"
   ]
  },
  {
   "cell_type": "code",
   "execution_count": 62,
   "id": "f5e57688",
   "metadata": {},
   "outputs": [
    {
     "data": {
      "text/latex": [
       "$\\displaystyle \\left[\\begin{matrix}4 t + 1\\\\3 t + 1\\\\4 t + 1\\end{matrix}\\right]$"
      ],
      "text/plain": [
       "Matrix([\n",
       "[4*t + 1],\n",
       "[3*t + 1],\n",
       "[4*t + 1]])"
      ]
     },
     "execution_count": 62,
     "metadata": {},
     "output_type": "execute_result"
    }
   ],
   "source": [
    "r0 = smp.Matrix([1,1,1])\n",
    "v = smp.Matrix([4,3,4])\n",
    "r = r0 + t*v\n",
    "r"
   ]
  },
  {
   "cell_type": "markdown",
   "id": "9c035893",
   "metadata": {},
   "source": [
    "## Planes"
   ]
  },
  {
   "cell_type": "markdown",
   "id": "ec1c4b0d",
   "metadata": {},
   "source": [
    "$$ \\vec{n} \\cdot (P_0-\\left<x,y,z\\right>) = 0 $$"
   ]
  },
  {
   "cell_type": "code",
   "execution_count": 63,
   "id": "2e514408",
   "metadata": {},
   "outputs": [
    {
     "data": {
      "text/latex": [
       "$\\displaystyle - 3 x - 2 y - 3 z + 18.6$"
      ],
      "text/plain": [
       "-3*x - 2*y - 3*z + 18.6"
      ]
     },
     "execution_count": 63,
     "metadata": {},
     "output_type": "execute_result"
    }
   ],
   "source": [
    "n = smp.Matrix([3,2,3])\n",
    "P0 = smp.Matrix([2.2,3,2])\n",
    "r = smp.Matrix([x,y,z])\n",
    "n.dot(P0 - r)"
   ]
  },
  {
   "cell_type": "markdown",
   "id": "793348aa",
   "metadata": {},
   "source": [
    "**Example:** Find unit vector parallel to the line of intersection of the two planes $ 3x-6y-2z = 15 $ and $2x+y-2z=5$.\n",
    "(Hint: It's going to be perpendicular to both normal vectors)"
   ]
  },
  {
   "cell_type": "code",
   "execution_count": 64,
   "id": "b05053a1",
   "metadata": {},
   "outputs": [
    {
     "data": {
      "text/plain": [
       "array([0.67909975, 0.09701425, 0.72760688])"
      ]
     },
     "execution_count": 64,
     "metadata": {},
     "output_type": "execute_result"
    }
   ],
   "source": [
    "n1 = np.array([3,-6,-2])\n",
    "n2 = np.array([2,1,-2])\n",
    "vec = np.cross(n1,n2)\n",
    "ans = vec/np.linalg.norm(vec)\n",
    "ans"
   ]
  },
  {
   "cell_type": "markdown",
   "id": "04010e21",
   "metadata": {},
   "source": [
    "# Vector Calculus"
   ]
  },
  {
   "cell_type": "markdown",
   "id": "1adadd56",
   "metadata": {},
   "source": [
    "## Vector derivatives"
   ]
  },
  {
   "cell_type": "code",
   "execution_count": 65,
   "id": "876d8eb6",
   "metadata": {},
   "outputs": [
    {
     "data": {
      "text/latex": [
       "$\\displaystyle \\left[\\begin{matrix}4 t\\\\6 \\cos{\\left(5 t \\right)}\\\\t^{3}\\end{matrix}\\right]$"
      ],
      "text/plain": [
       "Matrix([\n",
       "[       4*t],\n",
       "[6*cos(5*t)],\n",
       "[      t**3]])"
      ]
     },
     "metadata": {},
     "output_type": "display_data"
    },
    {
     "data": {
      "text/latex": [
       "$\\displaystyle \\left[\\begin{matrix}4\\\\- 30 \\sin{\\left(5 t \\right)}\\\\3 t^{2}\\end{matrix}\\right]$"
      ],
      "text/plain": [
       "Matrix([\n",
       "[           4],\n",
       "[-30*sin(5*t)],\n",
       "[      3*t**2]])"
      ]
     },
     "metadata": {},
     "output_type": "display_data"
    }
   ],
   "source": [
    "r = smp.Matrix([4*t,6*smp.cos(5*t),t**3])\n",
    "display(r)\n",
    "diffr = smp.diff(r,t)\n",
    "display(diffr)"
   ]
  },
  {
   "cell_type": "markdown",
   "id": "ee390355",
   "metadata": {},
   "source": [
    "**Example:** Find the angle between the velocity and acceleration as a function of time $\\theta(t)$ and also find the angle at $t=4s$. Plot $t$ vs $\\theta(t)$ graph."
   ]
  },
  {
   "cell_type": "code",
   "execution_count": 66,
   "id": "69c2b0aa",
   "metadata": {},
   "outputs": [
    {
     "data": {
      "text/latex": [
       "$\\displaystyle \\operatorname{acos}{\\left(\\frac{3 \\left(t^{3} + 125 \\sin{\\left(10 t \\right)}\\right)}{\\sqrt{\\left|{t}\\right|^{2} + 625 \\left|{\\cos{\\left(5 t \\right)}}\\right|^{2}} \\sqrt{9 \\left|{t^{2}}\\right|^{2} + 900 \\left|{\\sin{\\left(5 t \\right)}}\\right|^{2} + 16}} \\right)}$"
      ],
      "text/plain": [
       "acos(3*(t**3 + 125*sin(10*t))/(sqrt(Abs(t)**2 + 625*Abs(cos(5*t))**2)*sqrt(9*Abs(t**2)**2 + 900*Abs(sin(5*t))**2 + 16)))"
      ]
     },
     "execution_count": 66,
     "metadata": {},
     "output_type": "execute_result"
    }
   ],
   "source": [
    "v = smp.diff(r,t)\n",
    "a = smp.diff(v,t)\n",
    "theta = smp.acos(v.dot(a)/(v.norm()*a.norm()))\n",
    "theta.simplify()"
   ]
  },
  {
   "cell_type": "code",
   "execution_count": 67,
   "id": "843470ab",
   "metadata": {},
   "outputs": [
    {
     "data": {
      "text/latex": [
       "$\\displaystyle 0.681852695830224$"
      ],
      "text/plain": [
       "0.681852695830224"
      ]
     },
     "execution_count": 67,
     "metadata": {},
     "output_type": "execute_result"
    }
   ],
   "source": [
    "theta.subs(t,4).evalf()  # evalf() evaluates a float value"
   ]
  },
  {
   "cell_type": "code",
   "execution_count": 68,
   "id": "cbfd829c",
   "metadata": {},
   "outputs": [
    {
     "data": {
      "image/png": "[encoded data removed]",
      "text/plain": [
       "<Figure size 640x480 with 1 Axes>"
      ]
     },
     "metadata": {},
     "output_type": "display_data"
    }
   ],
   "source": [
    "thetaf = smp.lambdify([t], theta)  # function\n",
    "\n",
    "tt = np.linspace(1,6,500)\n",
    "tht = thetaf(tt)\n",
    "plt.plot(tt,tht)\n",
    "plt.xlabel('$t$', fontsize=15)\n",
    "plt.ylabel(r'$\\theta(t)$', fontsize=15)\n",
    "plt.show()"
   ]
  },
  {
   "cell_type": "markdown",
   "id": "f1f50e60",
   "metadata": {},
   "source": [
    "## Vector Integrals"
   ]
  },
  {
   "cell_type": "code",
   "execution_count": 69,
   "id": "d1f27106",
   "metadata": {},
   "outputs": [
    {
     "data": {
      "text/latex": [
       "$\\displaystyle \\int \\left[\\begin{matrix}e^{- t^{3}}\\\\\\sin{\\left(t \\right)}\\\\5 t^{3} + 4 t\\end{matrix}\\right]\\, dt$"
      ],
      "text/plain": [
       "Integral(Matrix([\n",
       "[  exp(-t**3)],\n",
       "[      sin(t)],\n",
       "[5*t**3 + 4*t]]), t)"
      ]
     },
     "metadata": {},
     "output_type": "display_data"
    },
    {
     "data": {
      "text/latex": [
       "$\\displaystyle \\left[\\begin{matrix}\\frac{\\Gamma\\left(\\frac{1}{3}\\right) \\gamma\\left(\\frac{1}{3}, t^{3}\\right)}{9 \\Gamma\\left(\\frac{4}{3}\\right)}\\\\- \\cos{\\left(t \\right)}\\\\\\frac{5 t^{4}}{4} + 2 t^{2}\\end{matrix}\\right]$"
      ],
      "text/plain": [
       "Matrix([\n",
       "[gamma(1/3)*lowergamma(1/3, t**3)/(9*gamma(4/3))],\n",
       "[                                        -cos(t)],\n",
       "[                              5*t**4/4 + 2*t**2]])"
      ]
     },
     "metadata": {},
     "output_type": "display_data"
    }
   ],
   "source": [
    "r = smp.Matrix([smp.exp(-t**3), smp.sin(t), 5*t**3 + 4*t])\n",
    "I = smp.Integral(r,t)\n",
    "display(I)\n",
    "display(I.doit())  # performs the integration"
   ]
  },
  {
   "cell_type": "markdown",
   "id": "84f386fa",
   "metadata": {},
   "source": [
    "Some cases integrals can't be solved analytically. So we need to solve them numerically."
   ]
  },
  {
   "cell_type": "code",
   "execution_count": 70,
   "id": "9e5cf90a",
   "metadata": {},
   "outputs": [
    {
     "data": {
      "text/latex": [
       "$\\displaystyle \\int\\limits_{0}^{1} \\left[\\begin{matrix}e^{- t^{2}} \\cos^{3}{\\left(t \\right)}\\\\e^{- t^{4}}\\\\\\frac{1}{t^{2} + 3}\\end{matrix}\\right]\\, dt$"
      ],
      "text/plain": [
       "Integral(Matrix([\n",
       "[exp(-t**2)*cos(t)**3],\n",
       "[          exp(-t**4)],\n",
       "[        1/(t**2 + 3)]]), (t, 0, 1))"
      ]
     },
     "execution_count": 70,
     "metadata": {},
     "output_type": "execute_result"
    }
   ],
   "source": [
    "r1 = smp.Matrix([smp.exp(-t**2)*smp.cos(t)**3, smp.exp(-t**4), 1/(3+t**2)])\n",
    "I1 = smp.Integral(r1, (t,0,1))\n",
    "I1"
   ]
  },
  {
   "cell_type": "code",
   "execution_count": 71,
   "id": "a471c847",
   "metadata": {},
   "outputs": [
    {
     "data": {
      "text/plain": [
       "(array([[0.53525785],\n",
       "        [0.84483859],\n",
       "        [0.30229989]]),\n",
       " 3.5151979041265046e-14)"
      ]
     },
     "execution_count": 71,
     "metadata": {},
     "output_type": "execute_result"
    }
   ],
   "source": [
    "from scipy.integrate import quad_vec\n",
    "\n",
    "rf = smp.lambdify([t],r1)\n",
    "quad_vec(rf, 0,1)  # integration and error"
   ]
  },
  {
   "cell_type": "markdown",
   "id": "221288ab",
   "metadata": {},
   "source": [
    "## Arclength"
   ]
  },
  {
   "cell_type": "markdown",
   "id": "34f3702d",
   "metadata": {},
   "source": [
    "$$ L = \\int_a^b \\sqrt{dx^2 + dy^2 + dz^2} = \\int_a^b \\sqrt{(dx/dt)^2 + (dy/dt)^2 + (dz/dt)^2 } dt $$"
   ]
  },
  {
   "cell_type": "markdown",
   "id": "c045f1a5",
   "metadata": {},
   "source": [
    "Find arclength of $ \\left< 0, 3t, 2t^2 \\right> $ from $t=0$ to $t=1$."
   ]
  },
  {
   "cell_type": "code",
   "execution_count": 72,
   "id": "4f200e66",
   "metadata": {},
   "outputs": [
    {
     "data": {
      "text/latex": [
       "$\\displaystyle \\left[\\begin{matrix}0\\\\3 t\\\\2 t^{2}\\end{matrix}\\right]$"
      ],
      "text/plain": [
       "Matrix([\n",
       "[     0],\n",
       "[   3*t],\n",
       "[2*t**2]])"
      ]
     },
     "metadata": {},
     "output_type": "display_data"
    },
    {
     "data": {
      "text/latex": [
       "$\\displaystyle \\frac{9 \\operatorname{asinh}{\\left(\\frac{4}{3} \\right)}}{8} + \\frac{5}{2}$"
      ],
      "text/plain": [
       "9*asinh(4/3)/8 + 5/2"
      ]
     },
     "metadata": {},
     "output_type": "display_data"
    },
    {
     "name": "stdout",
     "output_type": "stream",
     "text": [
      "numerical solution in (0,1) is, 3.735938824751624\n"
     ]
    }
   ],
   "source": [
    "r2= smp.Matrix([0, 3*t, 2*t**2])\n",
    "display(r2)\n",
    "\n",
    "f1 = smp.diff(r2,t).norm()\n",
    "L= smp.integrate(f1, (t,0,1))\n",
    "display(L)\n",
    "\n",
    "# numerical\n",
    "f1f = smp.lambdify([t], f1)\n",
    "print('numerical solution in (0,1) is,', quad(f1f,0,1)[0])"
   ]
  },
  {
   "cell_type": "markdown",
   "id": "381bdc14",
   "metadata": {},
   "source": [
    "## Other Relevant Quantities"
   ]
  },
  {
   "cell_type": "markdown",
   "id": "92177152",
   "metadata": {},
   "source": [
    "If $ ds = \\sqrt{dx^2 + dy^2 + dz^2} $ is the arclength element; the velocity will be $ ds/dt = \\sqrt{(dx/dt)^2 + (dy/dt)^2 + (dz/dt)^2 } = |d\\vec{r}/dt| = |\\vec{v}| $. The other quantities of importance are;\n",
    "1. Unit tangent vector: $ \\vec{T} = \\frac{d\\vec{r}}{dt}\\frac{1}{|d\\vec{r}/dt|} = \\vec{v}/|\\vec{v}| $\n",
    "2. Curvature: $ \\kappa = |\\frac{d\\vec{T}}{dt}|\\frac{1}{|\\vec{v}|} $\n",
    "3. Unit normal vector: $ \\vec{N} = \\frac{d\\vec{T}/dt}{|d\\vec{T}/dt|} $"
   ]
  },
  {
   "cell_type": "markdown",
   "id": "d963bc33",
   "metadata": {},
   "source": [
    "*Example:* Find all these for $ \\vec{r}(t) = \\left<a\\cos(t)e^t, b\\sin(t), ct\\right> $."
   ]
  },
  {
   "cell_type": "code",
   "execution_count": 73,
   "id": "f3808f43",
   "metadata": {},
   "outputs": [
    {
     "data": {
      "text/plain": [
       "'path'"
      ]
     },
     "metadata": {},
     "output_type": "display_data"
    },
    {
     "data": {
      "text/latex": [
       "$\\displaystyle \\left[\\begin{matrix}a e^{t} \\cos{\\left(t \\right)}\\\\b \\sin{\\left(t \\right)}\\\\c t\\end{matrix}\\right]$"
      ],
      "text/plain": [
       "Matrix([\n",
       "[a*exp(t)*cos(t)],\n",
       "[       b*sin(t)],\n",
       "[            c*t]])"
      ]
     },
     "metadata": {},
     "output_type": "display_data"
    },
    {
     "data": {
      "text/plain": [
       "'velocity vector'"
      ]
     },
     "metadata": {},
     "output_type": "display_data"
    },
    {
     "data": {
      "text/latex": [
       "$\\displaystyle \\left[\\begin{matrix}- a e^{t} \\sin{\\left(t \\right)} + a e^{t} \\cos{\\left(t \\right)}\\\\b \\cos{\\left(t \\right)}\\\\c\\end{matrix}\\right]$"
      ],
      "text/plain": [
       "Matrix([\n",
       "[-a*exp(t)*sin(t) + a*exp(t)*cos(t)],\n",
       "[                          b*cos(t)],\n",
       "[                                 c]])"
      ]
     },
     "metadata": {},
     "output_type": "display_data"
    },
    {
     "data": {
      "text/plain": [
       "'magnitude of velocity'"
      ]
     },
     "metadata": {},
     "output_type": "display_data"
    },
    {
     "data": {
      "text/latex": [
       "$\\displaystyle \\sqrt{b^{2} \\cos^{2}{\\left(t \\right)} + c^{2} + \\left(a e^{t} \\sin{\\left(t \\right)} - a e^{t} \\cos{\\left(t \\right)}\\right)^{2}}$"
      ],
      "text/plain": [
       "sqrt(b**2*cos(t)**2 + c**2 + (a*exp(t)*sin(t) - a*exp(t)*cos(t))**2)"
      ]
     },
     "metadata": {},
     "output_type": "display_data"
    }
   ],
   "source": [
    "t, a, b, c = smp.symbols('t a b c', pos=True, real=True)\n",
    "r = smp.Matrix([a*smp.cos(t)*smp.exp(t), b*smp.sin(t), c*t])\n",
    "display('path', r)\n",
    "v = smp.diff(r,t)\n",
    "modv = v.norm()\n",
    "display('velocity vector', v, 'magnitude of velocity', modv)"
   ]
  },
  {
   "cell_type": "markdown",
   "id": "4b693148",
   "metadata": {},
   "source": [
    "Get $\\vec{T}, \\kappa$ and $\\vec{N}$,"
   ]
  },
  {
   "cell_type": "code",
   "execution_count": 74,
   "id": "e0b68394",
   "metadata": {},
   "outputs": [],
   "source": [
    "T = v/modv\n",
    "kappa = T.diff(t).norm()/modv\n",
    "N = T.diff(t)/T.diff(t).norm()"
   ]
  },
  {
   "cell_type": "code",
   "execution_count": 75,
   "id": "13ba66a4",
   "metadata": {},
   "outputs": [
    {
     "name": "stdout",
     "output_type": "stream",
     "text": [
      "at (t,a,b,c) = (2,3,4,5),\n"
     ]
    },
    {
     "data": {
      "text/plain": [
       "'unit tangent vector'"
      ]
     },
     "metadata": {},
     "output_type": "display_data"
    },
    {
     "data": {
      "text/latex": [
       "$\\displaystyle \\left[\\begin{matrix}-0.984293\\\\-0.0557647\\\\0.167503\\end{matrix}\\right]$"
      ],
      "text/plain": [
       "Matrix([\n",
       "[ -0.984293],\n",
       "[-0.0557647],\n",
       "[  0.167503]])"
      ]
     },
     "metadata": {},
     "output_type": "display_data"
    },
    {
     "data": {
      "text/plain": [
       "'curvature'"
      ]
     },
     "metadata": {},
     "output_type": "display_data"
    },
    {
     "data": {
      "text/latex": [
       "$\\displaystyle 0.00775459$"
      ],
      "text/plain": [
       "0.00775459"
      ]
     },
     "metadata": {},
     "output_type": "display_data"
    },
    {
     "data": {
      "text/plain": [
       "'unit normal vector'"
      ]
     },
     "metadata": {},
     "output_type": "display_data"
    },
    {
     "data": {
      "text/latex": [
       "$\\displaystyle \\left[\\begin{matrix}-0.152946\\\\-0.204518\\\\-0.96684\\end{matrix}\\right]$"
      ],
      "text/plain": [
       "Matrix([\n",
       "[-0.152946],\n",
       "[-0.204518],\n",
       "[ -0.96684]])"
      ]
     },
     "metadata": {},
     "output_type": "display_data"
    }
   ],
   "source": [
    "print('at (t,a,b,c) = (2,3,4,5),')\n",
    "display('unit tangent vector',T.subs([(t,2),(a,3),(b,4),(c,5)]).evalf(6))\n",
    "display('curvature',kappa.subs([(t,2),(a,3),(b,4),(c,5)]).evalf(6))\n",
    "display('unit normal vector',N.subs([(t,2),(a,3),(b,4),(c,5)]).evalf(6))"
   ]
  },
  {
   "cell_type": "markdown",
   "id": "62c2ded4",
   "metadata": {},
   "source": [
    "**Plot of the curvature:**"
   ]
  },
  {
   "cell_type": "code",
   "execution_count": 76,
   "id": "14a19d14",
   "metadata": {},
   "outputs": [
    {
     "data": {
      "image/png": "[encoded data removed]",
      "text/plain": [
       "<Figure size 640x480 with 1 Axes>"
      ]
     },
     "metadata": {},
     "output_type": "display_data"
    }
   ],
   "source": [
    "kf = smp.lambdify([t,a,b,c], kappa)\n",
    "a1,b1,c1 = 2,3,10   # values of (a,b,c)\n",
    "tt = np.linspace(0,5,200)\n",
    "kk = kf(tt,a1,b1,c1)\n",
    "plt.plot(tt,kk, label=['(a,b,c)', (a1,b1,c1)])\n",
    "plt.legend()\n",
    "plt.xlabel('$t$', fontsize=12)\n",
    "plt.ylabel('$\\kappa(t)$', fontsize=12)\n",
    "plt.grid()\n",
    "plt.show()"
   ]
  },
  {
   "cell_type": "markdown",
   "id": "7ba15339",
   "metadata": {},
   "source": [
    "## Partial/Directional Derivatives"
   ]
  },
  {
   "cell_type": "code",
   "execution_count": 77,
   "id": "e9c4cfe5",
   "metadata": {},
   "outputs": [],
   "source": [
    "x, y, z = smp.symbols('x y z')"
   ]
  },
  {
   "cell_type": "markdown",
   "id": "9d008275",
   "metadata": {},
   "source": [
    "Partial derivatives $\\frac{\\partial f}{\\partial x}$, $\\frac{\\partial f}{\\partial y}$ and $\\frac{\\partial^3 f}{\\partial xy^2}$ of $ f(x,y)=y^2\\sin(x+y) $."
   ]
  },
  {
   "cell_type": "code",
   "execution_count": 78,
   "id": "b6385145",
   "metadata": {},
   "outputs": [
    {
     "data": {
      "text/plain": [
       "'function, f'"
      ]
     },
     "metadata": {},
     "output_type": "display_data"
    },
    {
     "data": {
      "text/latex": [
       "$\\displaystyle y^{2} \\sin{\\left(x + y \\right)}$"
      ],
      "text/plain": [
       "y**2*sin(x + y)"
      ]
     },
     "metadata": {},
     "output_type": "display_data"
    },
    {
     "data": {
      "text/plain": [
       "'f_x'"
      ]
     },
     "metadata": {},
     "output_type": "display_data"
    },
    {
     "data": {
      "text/latex": [
       "$\\displaystyle y^{2} \\cos{\\left(x + y \\right)}$"
      ],
      "text/plain": [
       "y**2*cos(x + y)"
      ]
     },
     "metadata": {},
     "output_type": "display_data"
    },
    {
     "data": {
      "text/plain": [
       "'f_y'"
      ]
     },
     "metadata": {},
     "output_type": "display_data"
    },
    {
     "data": {
      "text/latex": [
       "$\\displaystyle y^{2} \\cos{\\left(x + y \\right)} + 2 y \\sin{\\left(x + y \\right)}$"
      ],
      "text/plain": [
       "y**2*cos(x + y) + 2*y*sin(x + y)"
      ]
     },
     "metadata": {},
     "output_type": "display_data"
    },
    {
     "data": {
      "text/plain": [
       "'f_xyy'"
      ]
     },
     "metadata": {},
     "output_type": "display_data"
    },
    {
     "data": {
      "text/latex": [
       "$\\displaystyle - y^{2} \\cos{\\left(x + y \\right)} - 4 y \\sin{\\left(x + y \\right)} + 2 \\cos{\\left(x + y \\right)}$"
      ],
      "text/plain": [
       "-y**2*cos(x + y) - 4*y*sin(x + y) + 2*cos(x + y)"
      ]
     },
     "metadata": {},
     "output_type": "display_data"
    }
   ],
   "source": [
    "fxy = y**2 * smp.sin(x+y)\n",
    "display('function, f', fxy)\n",
    "display('f_x', smp.diff(fxy, x))\n",
    "display('f_y', smp.diff(fxy, y))\n",
    "display('f_xyy', smp.diff(fxy, y, y, x))"
   ]
  },
  {
   "cell_type": "markdown",
   "id": "d742b040",
   "metadata": {},
   "source": [
    "**The Chain Rule**"
   ]
  },
  {
   "cell_type": "markdown",
   "id": "4718f11c",
   "metadata": {},
   "source": [
    "Suppose $x$,$y$ and $z$ are functions of $t$ and $w= w(x,y,z)$. Find $dw/dt$."
   ]
  },
  {
   "cell_type": "code",
   "execution_count": 79,
   "id": "4467954a",
   "metadata": {},
   "outputs": [
    {
     "data": {
      "text/latex": [
       "$\\displaystyle w{\\left(x{\\left(t \\right)},y{\\left(t \\right)},z{\\left(t \\right)} \\right)}$"
      ],
      "text/plain": [
       "w(x(t), y(t), z(t))"
      ]
     },
     "metadata": {},
     "output_type": "display_data"
    },
    {
     "data": {
      "text/plain": [
       "'dw/dt'"
      ]
     },
     "metadata": {},
     "output_type": "display_data"
    },
    {
     "data": {
      "text/latex": [
       "$\\displaystyle \\frac{d}{d x{\\left(t \\right)}} w{\\left(x{\\left(t \\right)},y{\\left(t \\right)},z{\\left(t \\right)} \\right)} \\frac{d}{d t} x{\\left(t \\right)} + \\frac{d}{d y{\\left(t \\right)}} w{\\left(x{\\left(t \\right)},y{\\left(t \\right)},z{\\left(t \\right)} \\right)} \\frac{d}{d t} y{\\left(t \\right)} + \\frac{d}{d z{\\left(t \\right)}} w{\\left(x{\\left(t \\right)},y{\\left(t \\right)},z{\\left(t \\right)} \\right)} \\frac{d}{d t} z{\\left(t \\right)}$"
      ],
      "text/plain": [
       "Derivative(w(x(t), y(t), z(t)), x(t))*Derivative(x(t), t) + Derivative(w(x(t), y(t), z(t)), y(t))*Derivative(y(t), t) + Derivative(w(x(t), y(t), z(t)), z(t))*Derivative(z(t), t)"
      ]
     },
     "metadata": {},
     "output_type": "display_data"
    }
   ],
   "source": [
    "t = smp.symbols('t')\n",
    "x, y, z, w = smp.symbols('x y z w', cls = smp.Function)\n",
    "x = x(t)\n",
    "y = y(t)\n",
    "z = z(t)\n",
    "w = w(x,y,z)\n",
    "display(w)\n",
    "display('dw/dt', w.diff(t))"
   ]
  },
  {
   "cell_type": "markdown",
   "id": "0335501b",
   "metadata": {},
   "source": [
    "For some particular functions;"
   ]
  },
  {
   "cell_type": "code",
   "execution_count": 80,
   "id": "9303f475",
   "metadata": {},
   "outputs": [
    {
     "data": {
      "text/plain": [
       "'function w1'"
      ]
     },
     "metadata": {},
     "output_type": "display_data"
    },
    {
     "data": {
      "text/latex": [
       "$\\displaystyle x{\\left(t \\right)} e^{- z^{2}{\\left(t \\right)}} \\sin{\\left(y{\\left(t \\right)} \\right)}$"
      ],
      "text/plain": [
       "x(t)*exp(-z(t)**2)*sin(y(t))"
      ]
     },
     "metadata": {},
     "output_type": "display_data"
    },
    {
     "data": {
      "text/plain": [
       "'dw1/dt'"
      ]
     },
     "metadata": {},
     "output_type": "display_data"
    },
    {
     "data": {
      "text/latex": [
       "$\\displaystyle - 2 x{\\left(t \\right)} z{\\left(t \\right)} e^{- z^{2}{\\left(t \\right)}} \\sin{\\left(y{\\left(t \\right)} \\right)} \\frac{d}{d t} z{\\left(t \\right)} + x{\\left(t \\right)} e^{- z^{2}{\\left(t \\right)}} \\cos{\\left(y{\\left(t \\right)} \\right)} \\frac{d}{d t} y{\\left(t \\right)} + e^{- z^{2}{\\left(t \\right)}} \\sin{\\left(y{\\left(t \\right)} \\right)} \\frac{d}{d t} x{\\left(t \\right)}$"
      ],
      "text/plain": [
       "-2*x(t)*z(t)*exp(-z(t)**2)*sin(y(t))*Derivative(z(t), t) + x(t)*exp(-z(t)**2)*cos(y(t))*Derivative(y(t), t) + exp(-z(t)**2)*sin(y(t))*Derivative(x(t), t)"
      ]
     },
     "metadata": {},
     "output_type": "display_data"
    },
    {
     "data": {
      "text/plain": [
       "'for a given x(t), y(t) and z(t),'"
      ]
     },
     "metadata": {},
     "output_type": "display_data"
    },
    {
     "data": {
      "text/latex": [
       "$\\displaystyle - \\frac{8 e^{- 4 t^{2}} \\sin{\\left(14 t \\right)}}{t} + \\frac{14 e^{- 4 t^{2}} \\cos{\\left(14 t \\right)}}{t^{2}} - \\frac{2 e^{- 4 t^{2}} \\sin{\\left(14 t \\right)}}{t^{3}}$"
      ],
      "text/plain": [
       "-8*exp(-4*t**2)*sin(14*t)/t + 14*exp(-4*t**2)*cos(14*t)/t**2 - 2*exp(-4*t**2)*sin(14*t)/t**3"
      ]
     },
     "metadata": {},
     "output_type": "display_data"
    }
   ],
   "source": [
    "w1 = x* smp.sin(y)* smp.exp(-z**2)\n",
    "display('function w1',w1,'dw1/dt',smp.diff(w1,t))\n",
    "dw1dt = smp.diff(w1,t).subs([(x, 1/t**2), (y,14*t), (z, 2*t)])\n",
    "display('for a given x(t), y(t) and z(t),', dw1dt.doit())"
   ]
  },
  {
   "cell_type": "markdown",
   "id": "047185d6",
   "metadata": {},
   "source": [
    "## Gradients ($ \\nabla f $)"
   ]
  },
  {
   "cell_type": "markdown",
   "id": "b445d264",
   "metadata": {},
   "source": [
    "**Now we are dealing with particular coordinate systems.**"
   ]
  },
  {
   "cell_type": "code",
   "execution_count": 81,
   "id": "a7a6963f",
   "metadata": {},
   "outputs": [
    {
     "data": {
      "text/latex": [
       "$\\displaystyle \\operatorname{CoordSys3D}\\left(, \\left( \\left[\\begin{matrix}1 & 0 & 0\\\\0 & 1 & 0\\\\0 & 0 & 1\\end{matrix}\\right], \\  \\mathbf{\\hat{0}}\\right)\\right)$"
      ],
      "text/plain": []
     },
     "metadata": {},
     "output_type": "display_data"
    },
    {
     "data": {
      "text/latex": [
       "$\\displaystyle \\mathbf{{y}_{}}$"
      ],
      "text/plain": [
       ".y"
      ]
     },
     "metadata": {},
     "output_type": "display_data"
    },
    {
     "data": {
      "text/latex": [
       "$\\displaystyle \\mathbf{\\hat{k}_{}}$"
      ],
      "text/plain": [
       ".k"
      ]
     },
     "metadata": {},
     "output_type": "display_data"
    }
   ],
   "source": [
    "C = CoordSys3D('')\n",
    "display(C, C.y, C.k)"
   ]
  },
  {
   "cell_type": "code",
   "execution_count": 82,
   "id": "b6cc97a8",
   "metadata": {},
   "outputs": [
    {
     "data": {
      "text/plain": [
       "'function'"
      ]
     },
     "metadata": {},
     "output_type": "display_data"
    },
    {
     "data": {
      "text/latex": [
       "$\\displaystyle \\mathbf{{x}_{}} \\sin{\\left(\\mathbf{{y}_{}} \\right)}$"
      ],
      "text/plain": [
       ".x*sin(.y)"
      ]
     },
     "metadata": {},
     "output_type": "display_data"
    },
    {
     "data": {
      "text/plain": [
       "'gradient'"
      ]
     },
     "metadata": {},
     "output_type": "display_data"
    },
    {
     "data": {
      "text/latex": [
       "$\\displaystyle (\\sin{\\left(\\mathbf{{y}_{}} \\right)})\\mathbf{\\hat{i}_{}} + (\\mathbf{{x}_{}} \\cos{\\left(\\mathbf{{y}_{}} \\right)})\\mathbf{\\hat{j}_{}}$"
      ],
      "text/plain": [
       "(sin(.y))*.i + (.x*cos(.y))*.j"
      ]
     },
     "metadata": {},
     "output_type": "display_data"
    },
    {
     "data": {
      "text/latex": [
       "$\\displaystyle \\left[\\begin{matrix}\\sin{\\left(\\mathbf{{y}_{}} \\right)}\\\\\\mathbf{{x}_{}} \\cos{\\left(\\mathbf{{y}_{}} \\right)}\\\\0\\end{matrix}\\right]$"
      ],
      "text/plain": [
       "Matrix([\n",
       "[   sin(.y)],\n",
       "[.x*cos(.y)],\n",
       "[         0]])"
      ]
     },
     "metadata": {},
     "output_type": "display_data"
    },
    {
     "data": {
      "text/plain": [
       "'for y=pi'"
      ]
     },
     "metadata": {},
     "output_type": "display_data"
    },
    {
     "data": {
      "text/latex": [
       "$\\displaystyle (- \\mathbf{{x}_{}})\\mathbf{\\hat{j}_{}}$"
      ],
      "text/plain": [
       "(-.x)*.j"
      ]
     },
     "metadata": {},
     "output_type": "display_data"
    },
    {
     "data": {
      "text/latex": [
       "$\\displaystyle \\left[\\begin{matrix}0\\\\- \\mathbf{{x}_{}}\\\\0\\end{matrix}\\right]$"
      ],
      "text/plain": [
       "Matrix([\n",
       "[  0],\n",
       "[-.x],\n",
       "[  0]])"
      ]
     },
     "metadata": {},
     "output_type": "display_data"
    }
   ],
   "source": [
    "f1 = C.x*smp.sin(C.y)\n",
    "display('function', f1)\n",
    "\n",
    "gradf1 = gradient(f1)  # gradient\n",
    "gradf1m = gradf1.to_matrix(C)  # matrix form\n",
    "display('gradient', gradf1, gradf1m)\n",
    "\n",
    "display('for y=pi',gradf1.subs(C.y,smp.pi), gradf1m.subs(C.y,smp.pi))"
   ]
  },
  {
   "cell_type": "markdown",
   "id": "7514d408",
   "metadata": {},
   "source": [
    "### Directional Derivatives"
   ]
  },
  {
   "cell_type": "markdown",
   "id": "c07a466a",
   "metadata": {},
   "source": [
    "$$ D_u f = \\nabla f \\cdot u $$"
   ]
  },
  {
   "cell_type": "code",
   "execution_count": 83,
   "id": "85ef6838",
   "metadata": {},
   "outputs": [
    {
     "data": {
      "text/plain": [
       "'u'"
      ]
     },
     "metadata": {},
     "output_type": "display_data"
    },
    {
     "data": {
      "text/latex": [
       "$\\displaystyle (\\frac{3 \\sqrt{70}}{35})\\mathbf{\\hat{i}_{}} + (\\frac{3 \\sqrt{70}}{70})\\mathbf{\\hat{j}_{}} + (- \\frac{\\sqrt{70}}{14})\\mathbf{\\hat{k}_{}}$"
      ],
      "text/plain": [
       "(3*sqrt(70)/35)*.i + (3*sqrt(70)/70)*.j + (-sqrt(70)/14)*.k"
      ]
     },
     "metadata": {},
     "output_type": "display_data"
    },
    {
     "data": {
      "text/plain": [
       "'directional derivative'"
      ]
     },
     "metadata": {},
     "output_type": "display_data"
    },
    {
     "data": {
      "text/latex": [
       "$\\displaystyle \\frac{3 \\sqrt{70} \\mathbf{{x}_{}} \\cos{\\left(\\mathbf{{y}_{}} \\right)}}{70} + \\frac{3 \\sqrt{70} \\sin{\\left(\\mathbf{{y}_{}} \\right)}}{35}$"
      ],
      "text/plain": [
       "3*sqrt(70)*.x*cos(.y)/70 + 3*sqrt(70)*sin(.y)/35"
      ]
     },
     "metadata": {},
     "output_type": "display_data"
    }
   ],
   "source": [
    "uvec = 6*C.i +3*C.j -5*C.k  # writing a vector\n",
    "u = uvec.normalize()  # making unit vector\n",
    "display('u', u)\n",
    "Duf1 = gradient(f1).dot(u) # directional derivative\n",
    "display('directional derivative', Duf1)"
   ]
  },
  {
   "cell_type": "markdown",
   "id": "bba7204d",
   "metadata": {},
   "source": [
    "## Maxima and Minima of a 2D function"
   ]
  },
  {
   "cell_type": "markdown",
   "id": "909fae9a",
   "metadata": {},
   "source": [
    "Extreme values of $f(x,y)$ can occur at;\n",
    "1. Boundary points of the domain of $f(x,y)$.\n",
    "2. Critical points ($f_x=f_y=0$)\n",
    "\n",
    "At a point(a,b);\n",
    "1. Local maxima: $ f_{xx}<0 $ and $ f_{xx}f_{yy} - f_{xy}^2>0 $.\n",
    "2. Local minima: $ f_{xx}>0 $ and $ f_{xx}f_{yy} - f_{xy}^2>0 $.\n",
    "3. Saddle point: $ f_{xx}f_{yy} - f_{xy}^2 < 0 $.\n",
    "4. Inconclusive: $ f_{xx}f_{yy} - f_{xy}^2 = 0 $."
   ]
  },
  {
   "cell_type": "code",
   "execution_count": 84,
   "id": "f3db8fad",
   "metadata": {},
   "outputs": [
    {
     "data": {
      "text/plain": [
       "'function'"
      ]
     },
     "metadata": {},
     "output_type": "display_data"
    },
    {
     "data": {
      "text/latex": [
       "$\\displaystyle x^{2} + x y^{2} - y^{3}$"
      ],
      "text/plain": [
       "x**2 + x*y**2 - y**3"
      ]
     },
     "metadata": {},
     "output_type": "display_data"
    }
   ],
   "source": [
    "x, y = smp.symbols('x y', real=True)\n",
    "f = x**2 -y**3 + x*y**2\n",
    "display('function', f)"
   ]
  },
  {
   "cell_type": "code",
   "execution_count": 85,
   "id": "8e69cc3d",
   "metadata": {},
   "outputs": [
    {
     "data": {
      "text/plain": [
       "[{x: -9/2, y: -3}, {x: 0, y: 0}]"
      ]
     },
     "execution_count": 85,
     "metadata": {},
     "output_type": "execute_result"
    }
   ],
   "source": [
    "# solving df/dx = df/dy = 0\n",
    "smp.solve([f.diff(x),f.diff(y)])"
   ]
  },
  {
   "cell_type": "code",
   "execution_count": 86,
   "id": "1ae3d0f0",
   "metadata": {},
   "outputs": [],
   "source": [
    "fxx = f.diff(x,x)\n",
    "fyy = f.diff(y,y)\n",
    "fxy = f.diff(x,y)"
   ]
  },
  {
   "cell_type": "code",
   "execution_count": 87,
   "id": "c8d45d97",
   "metadata": {},
   "outputs": [
    {
     "name": "stdout",
     "output_type": "stream",
     "text": [
      "Given point is (-4.5, -3)\n"
     ]
    },
    {
     "data": {
      "text/plain": [
       "'fxx'"
      ]
     },
     "metadata": {},
     "output_type": "display_data"
    },
    {
     "data": {
      "text/latex": [
       "$\\displaystyle 2.0$"
      ],
      "text/plain": [
       "2.00000000000000"
      ]
     },
     "metadata": {},
     "output_type": "display_data"
    },
    {
     "data": {
      "text/plain": [
       "'fxx*fyy - fxy**2'"
      ]
     },
     "metadata": {},
     "output_type": "display_data"
    },
    {
     "data": {
      "text/latex": [
       "$\\displaystyle -18.0$"
      ],
      "text/plain": [
       "-18.0000000000000"
      ]
     },
     "metadata": {},
     "output_type": "display_data"
    }
   ],
   "source": [
    "x1, y1 = -9/2, -3   # input the point\n",
    "fxx1 = fxx.subs([(x,x1),(y,y1)]).evalf()\n",
    "D1 = (fxx*fyy-fxy**2).subs([(x,x1),(y,y1)]).evalf()\n",
    "print('Given point is', (x1,y1))\n",
    "display('fxx', fxx1)\n",
    "display('fxx*fyy - fxy**2', D1)"
   ]
  },
  {
   "cell_type": "code",
   "execution_count": 88,
   "id": "6d1a7133",
   "metadata": {},
   "outputs": [
    {
     "name": "stdout",
     "output_type": "stream",
     "text": [
      "saddle point\n"
     ]
    }
   ],
   "source": [
    "if fxx1 < 0 and D1 > 0:\n",
    "    print('local maxima')\n",
    "elif fxx1 > 0 and D1 > 0:\n",
    "    print('local minima')\n",
    "elif D1 < 0:\n",
    "    print('saddle point')\n",
    "else:\n",
    "    print('nothing can be said')"
   ]
  },
  {
   "cell_type": "markdown",
   "id": "1994b213",
   "metadata": {},
   "source": [
    "## Lagrange Multipliers"
   ]
  },
  {
   "cell_type": "markdown",
   "id": "1d93bbbf",
   "metadata": {},
   "source": [
    "Minimize $f(x,y,z)$ subject to the constraint $g(x,y,z)=0$. It requires to solve 2 equations $ \\nabla f = \\lambda \\nabla g $ and $ g(x,y,z)=0 $."
   ]
  },
  {
   "cell_type": "markdown",
   "id": "e096a03a",
   "metadata": {},
   "source": [
    "**Example:** A space probe has the shape of an ellipsoid $ 4x^2 + y^2 + 4z^2 = 16 $ and after sitting in the sun for an hour, the temperature on its surface is given by $ T(x,y,z)=8x^2+4yz-16z+600 $. Find the hottest point on the surface."
   ]
  },
  {
   "cell_type": "markdown",
   "id": "04debde3",
   "metadata": {},
   "source": [
    "**Solution:** Here, the function is $ f=T = 8x^2+4yz-16z+600 $ and the constraint is $ g=4x^2 + y^2 + 4z^2 - 16 = 0 $."
   ]
  },
  {
   "cell_type": "code",
   "execution_count": 89,
   "id": "04262262",
   "metadata": {},
   "outputs": [
    {
     "data": {
      "text/plain": [
       "'f'"
      ]
     },
     "metadata": {},
     "output_type": "display_data"
    },
    {
     "data": {
      "text/latex": [
       "$\\displaystyle 8 \\mathbf{{x}_{}}^{2} + 4 \\mathbf{{y}_{}} \\mathbf{{z}_{}} - 16 \\mathbf{{z}_{}} + 600$"
      ],
      "text/plain": [
       "8*.x**2 + 4*.y*.z - 16*.z + 600"
      ]
     },
     "metadata": {},
     "output_type": "display_data"
    },
    {
     "data": {
      "text/plain": [
       "'g'"
      ]
     },
     "metadata": {},
     "output_type": "display_data"
    },
    {
     "data": {
      "text/latex": [
       "$\\displaystyle 4 \\mathbf{{x}_{}}^{2} + \\mathbf{{y}_{}}^{2} + 4 \\mathbf{{z}_{}}^{2} - 16$"
      ],
      "text/plain": [
       "4*.x**2 + .y**2 + 4*.z**2 - 16"
      ]
     },
     "metadata": {},
     "output_type": "display_data"
    },
    {
     "data": {
      "text/plain": [
       "'equation 1'"
      ]
     },
     "metadata": {},
     "output_type": "display_data"
    },
    {
     "data": {
      "text/latex": [
       "$\\displaystyle (- 8 \\mathbf{{x}_{}} \\lambda + 16 \\mathbf{{x}_{}})\\mathbf{\\hat{i}_{}} + (- 2 \\mathbf{{y}_{}} \\lambda + 4 \\mathbf{{z}_{}})\\mathbf{\\hat{j}_{}} + (4 \\mathbf{{y}_{}} - 8 \\mathbf{{z}_{}} \\lambda - 16)\\mathbf{\\hat{k}_{}}$"
      ],
      "text/plain": [
       "(-8*.x*\\lambda + 16*.x)*.i + (-2*.y*\\lambda + 4*.z)*.j + (4*.y - 8*.z*\\lambda - 16)*.k"
      ]
     },
     "metadata": {},
     "output_type": "display_data"
    },
    {
     "data": {
      "text/latex": [
       "$\\displaystyle \\left[\\begin{matrix}- 8 \\mathbf{{x}_{}} \\lambda + 16 \\mathbf{{x}_{}}\\\\- 2 \\mathbf{{y}_{}} \\lambda + 4 \\mathbf{{z}_{}}\\\\4 \\mathbf{{y}_{}} - 8 \\mathbf{{z}_{}} \\lambda - 16\\end{matrix}\\right]$"
      ],
      "text/plain": [
       "Matrix([\n",
       "[   -8*.x*\\lambda + 16*.x],\n",
       "[    -2*.y*\\lambda + 4*.z],\n",
       "[4*.y - 8*.z*\\lambda - 16]])"
      ]
     },
     "metadata": {},
     "output_type": "display_data"
    },
    {
     "data": {
      "text/plain": [
       "'equation 2'"
      ]
     },
     "metadata": {},
     "output_type": "display_data"
    },
    {
     "data": {
      "text/latex": [
       "$\\displaystyle 4 \\mathbf{{x}_{}}^{2} + \\mathbf{{y}_{}}^{2} + 4 \\mathbf{{z}_{}}^{2} - 16$"
      ],
      "text/plain": [
       "4*.x**2 + .y**2 + 4*.z**2 - 16"
      ]
     },
     "metadata": {},
     "output_type": "display_data"
    }
   ],
   "source": [
    "C = CoordSys3D('')\n",
    "\n",
    "lam = smp.symbols('\\lambda')\n",
    "f = 8*C.x**2 +4*C.y*C.z -16*C.z +600\n",
    "g = 4*C.x**2 +C.y**2 +4*C.z**2 -16\n",
    "\n",
    "eq1 = gradient(f) - lam*gradient(g)\n",
    "eq1m = eq1.to_matrix(C)\n",
    "eq2 = g\n",
    "display('f',f,'g',g, 'equation 1',eq1,eq1m, 'equation 2',eq2)"
   ]
  },
  {
   "cell_type": "code",
   "execution_count": 90,
   "id": "631e2116",
   "metadata": {},
   "outputs": [
    {
     "name": "stdout",
     "output_type": "stream",
     "text": [
      "\n",
      " (x,y,z,lambda) = {.x: -4/3, .y: -4/3, .z: -4/3, \\lambda: 2}\n",
      "value of local maxima = 642.666666666667\n",
      "\n",
      " (x,y,z,lambda) = {.x: 0, .y: -2, .z: -sqrt(3), \\lambda: sqrt(3)}\n",
      "value of local maxima = 641.569219381653\n",
      "\n",
      " (x,y,z,lambda) = {.x: 0, .y: -2, .z: sqrt(3), \\lambda: -sqrt(3)}\n",
      "value of local maxima = 558.430780618347\n",
      "\n",
      " (x,y,z,lambda) = {.x: 0, .y: 4, .z: 0, \\lambda: 0}\n",
      "value of local maxima = 600.000000000000\n",
      "\n",
      " (x,y,z,lambda) = {.x: 4/3, .y: -4/3, .z: -4/3, \\lambda: 2}\n",
      "value of local maxima = 642.666666666667\n",
      "\n",
      "compare the values of local maxima and find the highest one, i.e. the highest temperature here\n"
     ]
    }
   ],
   "source": [
    "sols = smp.solve([eq1m,eq2]) # use the matrix to solve\n",
    "for sol in sols:\n",
    "    print('\\n (x,y,z,lambda) =', sol)\n",
    "    print('value of local maxima =',f.subs(sol).evalf())\n",
    "print('\\ncompare the values of local maxima and find the highest one,'\n",
    "      ,'i.e. the highest temperature here')"
   ]
  },
  {
   "cell_type": "markdown",
   "id": "65944d51",
   "metadata": {},
   "source": [
    "## Multiple Integrals"
   ]
  },
  {
   "cell_type": "markdown",
   "id": "e7bbb377",
   "metadata": {},
   "source": [
    "In rare cases it can be solved symbolically."
   ]
  },
  {
   "cell_type": "markdown",
   "id": "b9588fc7",
   "metadata": {},
   "source": [
    "$$ \\int_0^1 \\int_0^{1-x^2} \\int_3^{4-x^2-y^2} x^2e^x dzdydx $$"
   ]
  },
  {
   "cell_type": "code",
   "execution_count": 91,
   "id": "302b5367",
   "metadata": {},
   "outputs": [
    {
     "data": {
      "text/latex": [
       "$\\displaystyle - \\frac{40252}{3} + 4936 e$"
      ],
      "text/plain": [
       "-40252/3 + 4936*E"
      ]
     },
     "execution_count": 91,
     "metadata": {},
     "output_type": "execute_result"
    }
   ],
   "source": [
    "x, y, z = smp.symbols('x y z')\n",
    "f1 = x**2*smp.exp(x)\n",
    "smp.integrate(f1, (z,3, 4-x**2-y**2), (y,0,1-x**2), (x,0,1))"
   ]
  },
  {
   "cell_type": "markdown",
   "id": "8e03fa3e",
   "metadata": {},
   "source": [
    "We need to do this numerically for most of the cases."
   ]
  },
  {
   "cell_type": "markdown",
   "id": "a13400cf",
   "metadata": {},
   "source": [
    "**Example:** $$ \\int_0^1 \\int_0^{1-x^2} \\int_3^{4-x^2-y^2} xe^{-y}\\cos(z)dzdydx $$"
   ]
  },
  {
   "cell_type": "raw",
   "id": "893b9853",
   "metadata": {},
   "source": [
    "# no result\n",
    "x, y, z = smp.symbols('x, y, z')\n",
    "f = x*smp.exp(-y)*smp.cos(z)\n",
    "smp.integrate(f, (z, 3, 4-x**2-y**2), (y, 0, 1-x**2), (x, 0, 1))"
   ]
  },
  {
   "cell_type": "markdown",
   "id": "8a20385d",
   "metadata": {},
   "source": [
    "**`tplquad`**: function to perform triple integrals in the module `scipy.integrate`."
   ]
  },
  {
   "cell_type": "code",
   "execution_count": 92,
   "id": "24711abe",
   "metadata": {},
   "outputs": [
    {
     "data": {
      "text/plain": [
       "-0.09109526451447894"
      ]
     },
     "execution_count": 92,
     "metadata": {},
     "output_type": "execute_result"
    }
   ],
   "source": [
    "from scipy.integrate import tplquad\n",
    "f = lambda z,y,x: x*np.exp(-y)*np.cos(z)\n",
    "x1, x2 = 0, 1\n",
    "y1, y2 = 0, lambda x: 1 -x**2\n",
    "z1, z2 = 3, lambda x, y: 4 -x**2 -y**2\n",
    "tplquad(f, x1, x2, y1, y2, z1, z2)[0]"
   ]
  },
  {
   "cell_type": "markdown",
   "id": "76eaeb7a",
   "metadata": {},
   "source": [
    "## Integrals and Vector Fields"
   ]
  },
  {
   "cell_type": "markdown",
   "id": "0b299c3f",
   "metadata": {},
   "source": [
    "## Line Integrals (Scalar)"
   ]
  },
  {
   "cell_type": "markdown",
   "id": "45658268",
   "metadata": {},
   "source": [
    "Given curve, $ \\vec{r}(t) = \\left< g(t), h(t), k(t) \\right> $. The line integral of $f(x,y,z)$ along the curve is,\n",
    "$$ \\int_C f(x,y,z) ds = \\int_a^b f(g(t), h(t), k(t))|d\\vec{r}/dt|dt $$"
   ]
  },
  {
   "cell_type": "code",
   "execution_count": 93,
   "id": "7dcdf157",
   "metadata": {},
   "outputs": [
    {
     "data": {
      "text/latex": [
       "$\\displaystyle \\int\\limits_{a}^{b} \\sqrt{\\left|{\\frac{d}{d t} x{\\left(t \\right)}}\\right|^{2} + \\left|{\\frac{d}{d t} y{\\left(t \\right)}}\\right|^{2} + \\left|{\\frac{d}{d t} z{\\left(t \\right)}}\\right|^{2}} f{\\left(x{\\left(t \\right)},y{\\left(t \\right)},z{\\left(t \\right)} \\right)}\\, dt$"
      ],
      "text/plain": [
       "Integral(sqrt(Abs(Derivative(x(t), t))**2 + Abs(Derivative(y(t), t))**2 + Abs(Derivative(z(t), t))**2)*f(x(t), y(t), z(t)), (t, a, b))"
      ]
     },
     "execution_count": 93,
     "metadata": {},
     "output_type": "execute_result"
    }
   ],
   "source": [
    "t = smp.symbols('t', real=True)\n",
    "x,y,z,f = smp.symbols('x y z f', cls=smp.Function, real=True)\n",
    "x = x(t)\n",
    "y = y(t)\n",
    "z = z(t)\n",
    "f = f(x,y,z)\n",
    "r = smp.Matrix([x,y,z])\n",
    "\n",
    "integrand = f*r.diff(t).norm()\n",
    "smp.Integral(integrand, (t, a, b))"
   ]
  },
  {
   "cell_type": "markdown",
   "id": "2975d9ae",
   "metadata": {},
   "source": [
    "Suppose,\n",
    "1. $ \\vec{r}(t) = \\left<\\cos(t),\\sin(t),t\\right>; \\hspace{3mm} $ (Helix)\n",
    "2. $ f(x,y,z) = 2xy + \\sqrt{z} $\n",
    "\n",
    "We are going from $t=0$ to $t=2\\pi$."
   ]
  },
  {
   "cell_type": "code",
   "execution_count": 94,
   "id": "f1036ad4",
   "metadata": {},
   "outputs": [
    {
     "data": {
      "text/latex": [
       "$\\displaystyle \\int\\limits_{0}^{2 \\pi} \\sqrt{2} \\left(\\sqrt{t} + \\sin{\\left(2 t \\right)}\\right)\\, dt$"
      ],
      "text/plain": [
       "Integral(sqrt(2)*(sqrt(t) + sin(2*t)), (t, 0, 2*pi))"
      ]
     },
     "metadata": {},
     "output_type": "display_data"
    },
    {
     "data": {
      "text/latex": [
       "$\\displaystyle \\frac{8 \\pi^{\\frac{3}{2}}}{3}$"
      ],
      "text/plain": [
       "8*pi**(3/2)/3"
      ]
     },
     "execution_count": 94,
     "metadata": {},
     "output_type": "execute_result"
    }
   ],
   "source": [
    "integrand1 = integrand.subs([(f,2*x*y + smp.sqrt(z)),\n",
    "                            (x, smp.cos(t)),\n",
    "                            (y, smp.sin(t)),\n",
    "                            (z, t)]).doit().simplify()\n",
    "display(smp.Integral(integrand1, (t, 0, 2*smp.pi)))\n",
    "smp.integrate(integrand1, (t, 0, 2*smp.pi)).simplify()"
   ]
  },
  {
   "cell_type": "markdown",
   "id": "25740f0f",
   "metadata": {},
   "source": [
    "Most of the cases can't be solved symbolically."
   ]
  },
  {
   "cell_type": "markdown",
   "id": "86e4a3fb",
   "metadata": {},
   "source": [
    "**Example:** Given,\n",
    "1. $ \\vec{r}(t) = \\left<3\\cos(t), 2\\sin(t), e^{t/4} \\right> $\n",
    "2. $ f(x,y,z)=2xy+\\sqrt{z} $\n",
    "\n",
    "We are going from $t=0$ to $t=2\\pi$."
   ]
  },
  {
   "cell_type": "code",
   "execution_count": 95,
   "id": "269c7a36",
   "metadata": {},
   "outputs": [
    {
     "data": {
      "text/latex": [
       "$\\displaystyle \\int\\limits_{0}^{2 \\pi} \\frac{\\left(e^{\\frac{t}{8}} + 6 \\sin{\\left(2 t \\right)}\\right) \\sqrt{e^{\\frac{t}{2}} + 80 \\sin^{2}{\\left(t \\right)} + 64}}{4}\\, dt$"
      ],
      "text/plain": [
       "Integral((exp(t/8) + 6*sin(2*t))*sqrt(exp(t/2) + 80*sin(t)**2 + 64)/4, (t, 0, 2*pi))"
      ]
     },
     "metadata": {},
     "output_type": "display_data"
    }
   ],
   "source": [
    "integrand2 = integrand.subs([(f, 2*x*y+smp.sqrt(z)),\n",
    "                            (x, 3*smp.cos(t)),\n",
    "                            (y, 2*smp.sin(t)),\n",
    "                            (z, smp.exp(t/4))]).doit().simplify()\n",
    "display(smp.Integral(integrand2, (t, 0, 2*smp.pi)))\n",
    "#smp.integrate(integrand2, (t, 0, 2*smp.pi)).simplify()\n",
    "# no answer"
   ]
  },
  {
   "cell_type": "markdown",
   "id": "e7a8c521",
   "metadata": {},
   "source": [
    "Integration using `quad` function of `scipy.integrate`:"
   ]
  },
  {
   "cell_type": "code",
   "execution_count": 96,
   "id": "d0ea63bc",
   "metadata": {},
   "outputs": [
    {
     "data": {
      "text/plain": [
       "24.294733741870633"
      ]
     },
     "execution_count": 96,
     "metadata": {},
     "output_type": "execute_result"
    }
   ],
   "source": [
    "from scipy.integrate import quad\n",
    "integrand2f = smp.lambdify([t], integrand2)\n",
    "quad(integrand2f, 0, 2*np.pi)[0]"
   ]
  },
  {
   "cell_type": "markdown",
   "id": "ced404f7",
   "metadata": {},
   "source": [
    "## Line Integrals (Vector)"
   ]
  },
  {
   "cell_type": "markdown",
   "id": "26f08758",
   "metadata": {},
   "source": [
    "Given, $\\vec{r}(t) = \\left< g(t), h(t), k(t) \\right>$. The line integral of $\\vec{F}(x,y,z)$ along the curve is;\n",
    "\n",
    "$$ \\int_C \\vec{F}(x,y,z) \\cdot d\\vec{r} = \\int_a^b\\vec{F}(g(t), h(t), k(t)) \\cdot \\frac{d\\vec{r}}{dt} dt $$"
   ]
  },
  {
   "cell_type": "code",
   "execution_count": 97,
   "id": "833544b5",
   "metadata": {},
   "outputs": [
    {
     "data": {
      "text/latex": [
       "$\\displaystyle \\int\\limits_{a}^{b} \\left(\\operatorname{F_{1}}{\\left(x{\\left(t \\right)},y{\\left(t \\right)},z{\\left(t \\right)} \\right)} \\frac{d}{d t} x{\\left(t \\right)} + \\operatorname{F_{2}}{\\left(x{\\left(t \\right)},y{\\left(t \\right)},z{\\left(t \\right)} \\right)} \\frac{d}{d t} y{\\left(t \\right)} + \\operatorname{F_{3}}{\\left(x{\\left(t \\right)},y{\\left(t \\right)},z{\\left(t \\right)} \\right)} \\frac{d}{d t} z{\\left(t \\right)}\\right)\\, dt$"
      ],
      "text/plain": [
       "Integral(F_1(x(t), y(t), z(t))*Derivative(x(t), t) + F_2(x(t), y(t), z(t))*Derivative(y(t), t) + F_3(x(t), y(t), z(t))*Derivative(z(t), t), (t, a, b))"
      ]
     },
     "metadata": {},
     "output_type": "display_data"
    }
   ],
   "source": [
    "t = smp.symbols('t', real=True)\n",
    "x,y,z,F1,F2,F3 = smp.symbols('x y z F_1 F_2 F_3',cls=smp.Function,real=True)\n",
    "x, y, z = x(t), y(t), z(t)\n",
    "F1, F2, F3 = F1(x,y,z), F2(x,y,z), F3(x,y,z)\n",
    "r = smp.Matrix([x, y, z])\n",
    "F = smp.Matrix([F1, F2, F3])\n",
    "\n",
    "integrand = F.dot(r.diff(t))\n",
    "display(smp.Integral(integrand, (t,a,b)).simplify())"
   ]
  },
  {
   "cell_type": "markdown",
   "id": "de334afb",
   "metadata": {},
   "source": [
    "**Example:** Find line integral of $ \\vec{F} = \\left< \\sqrt{z}, -2x, \\sqrt{y}\\right> $ along the curve $ \\vec{r}(t) = \\left<t, t^2, t^4 \\right> $ from $t=0$ to $t=1$."
   ]
  },
  {
   "cell_type": "code",
   "execution_count": 98,
   "id": "dab4c024",
   "metadata": {},
   "outputs": [
    {
     "data": {
      "text/latex": [
       "$\\displaystyle \\int\\limits_{0}^{1} t^{2} \\cdot \\left(4 t \\left|{t}\\right| - 3\\right)\\, dt$"
      ],
      "text/plain": [
       "Integral(t**2*(4*t*Abs(t) - 3), (t, 0, 1))"
      ]
     },
     "metadata": {},
     "output_type": "display_data"
    },
    {
     "data": {
      "text/latex": [
       "$\\displaystyle - \\frac{1}{5}$"
      ],
      "text/plain": [
       "-1/5"
      ]
     },
     "execution_count": 98,
     "metadata": {},
     "output_type": "execute_result"
    }
   ],
   "source": [
    "integrand1 = integrand.subs([(F1,smp.sqrt(z)),(F2,-2*x),(F3,smp.sqrt(y)),\n",
    "                             (x,t),(y,t**2),(z,t**4)]).doit().simplify()\n",
    "display(smp.Integral(integrand1, (t,0,1)))\n",
    "smp.integrate(integrand1, (t,0,1))"
   ]
  },
  {
   "cell_type": "markdown",
   "id": "44fadd95",
   "metadata": {},
   "source": [
    "Many of the integrals can't be solved symbolically and we must do that numerically."
   ]
  },
  {
   "cell_type": "markdown",
   "id": "2a3fca13",
   "metadata": {},
   "source": [
    "**Example:** Find line integral of $ \\vec{F} = \\left< \\sqrt{|z|}, -2x, \\sqrt{|y|}\\right> $ \n",
    "    along the curve $ \\vec{r}(t) = \\left<3\\cos^2(t), t^2, 2\\sin(t) \\right> $ from $t=0$ to $t=2\\pi$."
   ]
  },
  {
   "cell_type": "code",
   "execution_count": 99,
   "id": "b00a117a",
   "metadata": {},
   "outputs": [
    {
     "data": {
      "text/latex": [
       "$\\displaystyle \\int\\limits_{0}^{2 \\pi} 2 \\left(- 6 t \\cos{\\left(t \\right)} - 3 \\sqrt{2} \\sin{\\left(t \\right)} \\sqrt{\\left|{\\sin{\\left(t \\right)}}\\right|} + \\left|{t}\\right|\\right) \\cos{\\left(t \\right)}\\, dt$"
      ],
      "text/plain": [
       "Integral(2*(-6*t*cos(t) - 3*sqrt(2)*sin(t)*sqrt(Abs(sin(t))) + Abs(t))*cos(t), (t, 0, 2*pi))"
      ]
     },
     "metadata": {},
     "output_type": "display_data"
    }
   ],
   "source": [
    "integrand2 = integrand.subs([(F1,smp.sqrt(smp.Abs(z))),\n",
    "                             (F2,-2*x),\n",
    "                             (F3,smp.sqrt(smp.Abs(y))),\n",
    "        (x,3*smp.cos(t)**2),(y,t**2),(z,2*smp.sin(t))]).doit().simplify()\n",
    "display(smp.Integral(integrand2, (t,0,2*smp.pi)))\n",
    "# can't be solved symbolically"
   ]
  },
  {
   "cell_type": "code",
   "execution_count": 100,
   "id": "3c84b8c8",
   "metadata": {},
   "outputs": [
    {
     "data": {
      "text/plain": [
       "-118.4352528130723"
      ]
     },
     "execution_count": 100,
     "metadata": {},
     "output_type": "execute_result"
    }
   ],
   "source": [
    "from scipy.integrate import quad\n",
    "integrand2f = smp.lambdify([t], integrand2)\n",
    "quad(integrand2f, 0, 2*np.pi)[0]"
   ]
  },
  {
   "cell_type": "markdown",
   "id": "968bdcd9",
   "metadata": {},
   "source": [
    "## Surface Integrals (Scalar)"
   ]
  },
  {
   "cell_type": "markdown",
   "id": "02f87a6c",
   "metadata": {},
   "source": [
    "Area of a surface is given by;\n",
    "$$ A = \\iint_S \\left| \\frac{d\\vec{r}}{du} \\times \\frac{d\\vec{r}}{dv} \\right| du dv;\n",
    "\\hspace{4mm} where \\hspace{2mm} \\vec{r}=\\vec{r}(u,v) $$\n",
    "\n",
    "$\\vec{r}$ denotes the surface and it's a function of 2 variables.\n",
    "\n",
    "The surface integral of a scalar function $G(\\vec{r})$ is given by;\n",
    "\n",
    "$$ \\iint_S G(\\vec{r}(u,v)) \\left| \\frac{d\\vec{r}}{du} \\times \\frac{d\\vec{r}}{dv} \\right| du dv $$"
   ]
  },
  {
   "cell_type": "code",
   "execution_count": 101,
   "id": "f0b11542",
   "metadata": {},
   "outputs": [
    {
     "data": {
      "text/latex": [
       "$\\displaystyle \\sqrt{\\left|{\\frac{\\partial}{\\partial \\rho} x{\\left(\\rho,\\theta \\right)} \\frac{\\partial}{\\partial \\theta} y{\\left(\\rho,\\theta \\right)} - \\frac{\\partial}{\\partial \\theta} x{\\left(\\rho,\\theta \\right)} \\frac{\\partial}{\\partial \\rho} y{\\left(\\rho,\\theta \\right)}}\\right|^{2} + \\left|{\\frac{\\partial}{\\partial \\rho} x{\\left(\\rho,\\theta \\right)} \\frac{\\partial}{\\partial \\theta} z{\\left(\\rho,\\theta \\right)} - \\frac{\\partial}{\\partial \\theta} x{\\left(\\rho,\\theta \\right)} \\frac{\\partial}{\\partial \\rho} z{\\left(\\rho,\\theta \\right)}}\\right|^{2} + \\left|{\\frac{\\partial}{\\partial \\rho} y{\\left(\\rho,\\theta \\right)} \\frac{\\partial}{\\partial \\theta} z{\\left(\\rho,\\theta \\right)} - \\frac{\\partial}{\\partial \\theta} y{\\left(\\rho,\\theta \\right)} \\frac{\\partial}{\\partial \\rho} z{\\left(\\rho,\\theta \\right)}}\\right|^{2}} G{\\left(x{\\left(\\rho,\\theta \\right)},y{\\left(\\rho,\\theta \\right)},z{\\left(\\rho,\\theta \\right)} \\right)}$"
      ],
      "text/plain": [
       "sqrt(Abs(Derivative(x(\\rho, \\theta), \\rho)*Derivative(y(\\rho, \\theta), \\theta) - Derivative(x(\\rho, \\theta), \\theta)*Derivative(y(\\rho, \\theta), \\rho))**2 + Abs(Derivative(x(\\rho, \\theta), \\rho)*Derivative(z(\\rho, \\theta), \\theta) - Derivative(x(\\rho, \\theta), \\theta)*Derivative(z(\\rho, \\theta), \\rho))**2 + Abs(Derivative(y(\\rho, \\theta), \\rho)*Derivative(z(\\rho, \\theta), \\theta) - Derivative(y(\\rho, \\theta), \\theta)*Derivative(z(\\rho, \\theta), \\rho))**2)*G(x(\\rho, \\theta), y(\\rho, \\theta), z(\\rho, \\theta))"
      ]
     },
     "execution_count": 101,
     "metadata": {},
     "output_type": "execute_result"
    }
   ],
   "source": [
    "#  r = r(u=rho, v=theta)\n",
    "rho, th = smp.symbols('\\\\rho \\\\theta', pos=True, real=True)\n",
    "x, y, z, G = smp.symbols('x y z G', cls=smp.Function, real=True)\n",
    "x, y, z = x(rho,th), y(rho,th), z(rho,th)\n",
    "G = G(x,y,z)\n",
    "r = smp.Matrix([x,y,z])\n",
    "\n",
    "integrand = G* r.diff(rho).cross(r.diff(th)).norm()\n",
    "integrand"
   ]
  },
  {
   "cell_type": "markdown",
   "id": "86ec6e64",
   "metadata": {},
   "source": [
    "**Example:** 2D parabola is given by $\\vec{r}(x,y) = \\left<x, y, x^2+y^2 \\right>$ and thus $\\vec{r}(\\rho, \\theta) = \\left<\\rho\\cos\\theta, \\rho\\sin\\theta, \\rho^2\\right>$.\n",
    "The surface density is given by $G(x,y,z)=x^2+y^2$. Find surface integral for $0<\\rho<1$ and $0<\\theta<2\\pi$."
   ]
  },
  {
   "cell_type": "code",
   "execution_count": 102,
   "id": "333b362f",
   "metadata": {},
   "outputs": [
    {
     "data": {
      "text/latex": [
       "$\\displaystyle \\rho^{2} \\sqrt{4 \\rho^{2} + 1} \\left|{\\rho}\\right|$"
      ],
      "text/plain": [
       "\\rho**2*sqrt(4*\\rho**2 + 1)*Abs(\\rho)"
      ]
     },
     "metadata": {},
     "output_type": "display_data"
    },
    {
     "data": {
      "text/latex": [
       "$\\displaystyle \\frac{\\pi \\left(1 + 25 \\sqrt{5}\\right)}{60}$"
      ],
      "text/plain": [
       "pi*(1 + 25*sqrt(5))/60"
      ]
     },
     "execution_count": 102,
     "metadata": {},
     "output_type": "execute_result"
    }
   ],
   "source": [
    "integrand1 = integrand.subs([(G,x**2+y**2),\n",
    "    (x,rho*smp.cos(th)),(y,rho*smp.sin(th)),(z,rho**2)]).doit().simplify()\n",
    "display(integrand1)\n",
    "smp.integrate(integrand1, (rho,0,1), (th,0,2*smp.pi)).simplify()"
   ]
  },
  {
   "cell_type": "markdown",
   "id": "13f05e63",
   "metadata": {},
   "source": [
    "*Complicated integrals can be solved numerically **(try it)**.*"
   ]
  },
  {
   "cell_type": "markdown",
   "id": "cdb303b9",
   "metadata": {},
   "source": [
    "## Surface Integtals(Vectors)"
   ]
  },
  {
   "cell_type": "markdown",
   "id": "6abc9e8a",
   "metadata": {},
   "source": [
    "The surface integral of a vector function $\\vec{G}(\\vec{r})$ is given by;\n",
    "\n",
    "$$ \\iint_S \\vec{G}(\\vec{r}(u,v)) \\cdot \\left(\\frac{d\\vec{r}}{du} \\times \\frac{d\\vec{r}}{dv}\\right) du dv $$\n",
    "\n",
    "This is also known as flux of the vector field $\\vec{G}$ through the surface $\\vec{r}$."
   ]
  },
  {
   "cell_type": "code",
   "execution_count": 103,
   "id": "9ca6a50c",
   "metadata": {},
   "outputs": [
    {
     "data": {
      "text/latex": [
       "$\\displaystyle \\left(\\frac{\\partial}{\\partial \\rho} x{\\left(\\rho,\\theta \\right)} \\frac{\\partial}{\\partial \\theta} y{\\left(\\rho,\\theta \\right)} - \\frac{\\partial}{\\partial \\theta} x{\\left(\\rho,\\theta \\right)} \\frac{\\partial}{\\partial \\rho} y{\\left(\\rho,\\theta \\right)}\\right) \\operatorname{G_{3}}{\\left(x{\\left(\\rho,\\theta \\right)},y{\\left(\\rho,\\theta \\right)},z{\\left(\\rho,\\theta \\right)} \\right)} + \\left(- \\frac{\\partial}{\\partial \\rho} x{\\left(\\rho,\\theta \\right)} \\frac{\\partial}{\\partial \\theta} z{\\left(\\rho,\\theta \\right)} + \\frac{\\partial}{\\partial \\theta} x{\\left(\\rho,\\theta \\right)} \\frac{\\partial}{\\partial \\rho} z{\\left(\\rho,\\theta \\right)}\\right) \\operatorname{G_{2}}{\\left(x{\\left(\\rho,\\theta \\right)},y{\\left(\\rho,\\theta \\right)},z{\\left(\\rho,\\theta \\right)} \\right)} + \\left(\\frac{\\partial}{\\partial \\rho} y{\\left(\\rho,\\theta \\right)} \\frac{\\partial}{\\partial \\theta} z{\\left(\\rho,\\theta \\right)} - \\frac{\\partial}{\\partial \\theta} y{\\left(\\rho,\\theta \\right)} \\frac{\\partial}{\\partial \\rho} z{\\left(\\rho,\\theta \\right)}\\right) \\operatorname{G_{1}}{\\left(x{\\left(\\rho,\\theta \\right)},y{\\left(\\rho,\\theta \\right)},z{\\left(\\rho,\\theta \\right)} \\right)}$"
      ],
      "text/plain": [
       "(Derivative(x(\\rho, \\theta), \\rho)*Derivative(y(\\rho, \\theta), \\theta) - Derivative(x(\\rho, \\theta), \\theta)*Derivative(y(\\rho, \\theta), \\rho))*G_3(x(\\rho, \\theta), y(\\rho, \\theta), z(\\rho, \\theta)) + (-Derivative(x(\\rho, \\theta), \\rho)*Derivative(z(\\rho, \\theta), \\theta) + Derivative(x(\\rho, \\theta), \\theta)*Derivative(z(\\rho, \\theta), \\rho))*G_2(x(\\rho, \\theta), y(\\rho, \\theta), z(\\rho, \\theta)) + (Derivative(y(\\rho, \\theta), \\rho)*Derivative(z(\\rho, \\theta), \\theta) - Derivative(y(\\rho, \\theta), \\theta)*Derivative(z(\\rho, \\theta), \\rho))*G_1(x(\\rho, \\theta), y(\\rho, \\theta), z(\\rho, \\theta))"
      ]
     },
     "execution_count": 103,
     "metadata": {},
     "output_type": "execute_result"
    }
   ],
   "source": [
    "# u = rho and v = theta\n",
    "rho, th = smp.symbols('\\\\rho \\\\theta', pos=True, real=True)\n",
    "x,y,z,G1,G2,G3 = smp.symbols('x y z G_1 G_2 G_3',cls=smp.Function,real=True)\n",
    "x, y, z = x(rho,th), y(rho,th), z(rho,th)\n",
    "G1, G2, G3 = G1(x,y,z), G2(x,y,z), G3(x,y,z)\n",
    "r = smp.Matrix([x,y,z])\n",
    "G = smp.Matrix([G1,G2,G3])\n",
    "\n",
    "integrand = G.dot(r.diff(rho).cross(r.diff(th)))\n",
    "integrand"
   ]
  },
  {
   "cell_type": "markdown",
   "id": "1bc850b6",
   "metadata": {},
   "source": [
    "**Example:** 2D parabola is given by $\\vec{r}(x,y) = \\left<x, y, x^2+y^2 \\right>$ and thus $\\vec{r}(\\rho, \\theta) = \\left<\\rho\\cos\\theta, \\rho\\sin\\theta, \\rho^2\\right>$.\n",
    "The vector field is given by $\\vec{G}(x,y,z)=\\left<y^2,z,0\\right>$. Find the flux of $\\vec{G}$ for $0<\\rho<1$ and $0<\\theta<\\pi$ (through half of the surface)."
   ]
  },
  {
   "cell_type": "code",
   "execution_count": 104,
   "id": "23b02b31",
   "metadata": {},
   "outputs": [
    {
     "data": {
      "text/latex": [
       "$\\displaystyle - 2 \\rho^{4} \\left(\\frac{\\sin{\\left(2 \\theta \\right)}}{2} + 1\\right) \\sin{\\left(\\theta \\right)}$"
      ],
      "text/plain": [
       "-2*\\rho**4*(sin(2*\\theta)/2 + 1)*sin(\\theta)"
      ]
     },
     "metadata": {},
     "output_type": "display_data"
    },
    {
     "data": {
      "text/latex": [
       "$\\displaystyle - \\frac{4}{5}$"
      ],
      "text/plain": [
       "-4/5"
      ]
     },
     "execution_count": 104,
     "metadata": {},
     "output_type": "execute_result"
    }
   ],
   "source": [
    "integrand1 = integrand.subs([(G1,y**2),(G2,z),(G3,0),\n",
    "    (x,rho*smp.cos(th)),(y,rho*smp.sin(th)),(z,rho**2)]).doit().simplify()\n",
    "display(integrand1)\n",
    "smp.integrate(integrand1, (rho,0,1), (th,0,smp.pi))"
   ]
  },
  {
   "cell_type": "markdown",
   "id": "62ecd744",
   "metadata": {},
   "source": [
    "*Complicated integrals can be solved numerically **(try it)**.*"
   ]
  },
  {
   "cell_type": "markdown",
   "id": "244e5d9e",
   "metadata": {},
   "source": [
    "## Explicit sympy Functionality"
   ]
  },
  {
   "cell_type": "code",
   "execution_count": 105,
   "id": "8551122b",
   "metadata": {},
   "outputs": [],
   "source": [
    "from sympy.vector import ParametricRegion"
   ]
  },
  {
   "cell_type": "markdown",
   "id": "f12cfc8a",
   "metadata": {},
   "source": [
    "Find the mass of a cylinder with radius $a$ and height $h$ centered at origin with density $\\rho_V(x,y)=x^2+y^2$."
   ]
  },
  {
   "cell_type": "code",
   "execution_count": 106,
   "id": "8df819fd",
   "metadata": {},
   "outputs": [
    {
     "data": {
      "text/latex": [
       "$\\displaystyle \\frac{\\pi a^{4} h}{2}$"
      ],
      "text/plain": [
       "pi*a**4*h/2"
      ]
     },
     "execution_count": 106,
     "metadata": {},
     "output_type": "execute_result"
    }
   ],
   "source": [
    "C = CoordSys3D('')\n",
    "a,h,r,th,z = smp.symbols(r'a h r \\theta z',pos=True)\n",
    "cylinder = ParametricRegion((r*smp.cos(th),r*smp.sin(th),z),\n",
    "                        (r,0,a),(th,0,2*smp.pi),(z,0,h))\n",
    "vector_integrate(C.x**2+C.y**2,cylinder)"
   ]
  },
  {
   "cell_type": "markdown",
   "id": "2a9a9358",
   "metadata": {},
   "source": [
    "This cannot be done numerically. Using **`vector_integrate`** by defining field **`CoordSys3D`** and region **`ParametricRegion`** is the only way. See more in the link,  https://docs.sympy.org/latest/modules/vector/vector_integration.html"
   ]
  },
  {
   "cell_type": "code",
   "execution_count": null,
   "id": "73c516c2",
   "metadata": {},
   "outputs": [],
   "source": []
  }
 ],
 "metadata": {
  "kernelspec": {
   "display_name": "Python 3 (ipykernel)",
   "language": "python",
   "name": "python3"
  },
  "language_info": {
   "codemirror_mode": {
    "name": "ipython",
    "version": 3
   },
   "file_extension": ".py",
   "mimetype": "text/x-python",
   "name": "python",
   "nbconvert_exporter": "python",
   "pygments_lexer": "ipython3",
   "version": "3.9.13"
  }
 },
 "nbformat": 4,
 "nbformat_minor": 5
}
