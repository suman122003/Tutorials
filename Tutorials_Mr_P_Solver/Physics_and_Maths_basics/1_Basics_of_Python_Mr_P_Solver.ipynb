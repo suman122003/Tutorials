{
 "cells": [
  {
   "cell_type": "markdown",
   "id": "09412661",
   "metadata": {},
   "source": [
    "# BASICS OF PYTHON"
   ]
  },
  {
   "cell_type": "markdown",
   "id": "b29d260e",
   "metadata": {},
   "source": [
    "### PART 1 - INTRODUCTION"
   ]
  },
  {
   "cell_type": "markdown",
   "id": "b6514ef9",
   "metadata": {},
   "source": [
    "Video link: https://youtu.be/FggJNXN68fs"
   ]
  },
  {
   "cell_type": "markdown",
   "id": "07364848",
   "metadata": {},
   "source": [
    "Codes: https://www.youtube.com/redirect?event=video_description&redir_token=QUFFLUhqa0YtYXBuTXVFWWNPR1gxZ3Y1U2xQdUFVektBd3xBQ3Jtc0ttM28zTTZTRWp3YmpLN2k0eVNCR3l4RW1hbWRsSGkxblFOb3p5NWVyUDA2UGFLRnhzQjN3YUZCZmp1dkNTaW1MUVRpUXhFRF8yX3p2aUNWTnNKSFItV0UydzhkU3JjN1Nha3hVN3hZaGh2SkdyelJ0dw&q=https%3A%2F%2Fgithub.com%2Flukepolson%2Fyoutube_channel%2Ftree%2Fmain%2FPython%2520Tutorial%2520Series&v=FggJNXN68fs"
   ]
  },
  {
   "cell_type": "markdown",
   "id": "94a4384f",
   "metadata": {},
   "source": [
    "See the commands to work fast.\n",
    "\n"
   ]
  },
  {
   "cell_type": "markdown",
   "id": "56b812f3",
   "metadata": {},
   "source": [
    "Plugging in *numerical* expressions"
   ]
  },
  {
   "cell_type": "code",
   "execution_count": 1,
   "id": "b7af2a0f",
   "metadata": {},
   "outputs": [
    {
     "data": {
      "text/plain": [
       "605"
      ]
     },
     "execution_count": 1,
     "metadata": {},
     "output_type": "execute_result"
    }
   ],
   "source": [
    "255+45*10-100"
   ]
  },
  {
   "cell_type": "code",
   "execution_count": 2,
   "id": "52bdf7b0",
   "metadata": {},
   "outputs": [
    {
     "data": {
      "text/plain": [
       "1"
      ]
     },
     "execution_count": 2,
     "metadata": {},
     "output_type": "execute_result"
    }
   ],
   "source": [
    "91%10"
   ]
  },
  {
   "cell_type": "code",
   "execution_count": 3,
   "id": "425fc471",
   "metadata": {},
   "outputs": [
    {
     "data": {
      "text/plain": [
       "8.0"
      ]
     },
     "execution_count": 3,
     "metadata": {},
     "output_type": "execute_result"
    }
   ],
   "source": [
    "4**1.5 "
   ]
  },
  {
   "cell_type": "markdown",
   "id": "6f151e72",
   "metadata": {},
   "source": [
    "### PART 2 - LISTS, TUPLES, ARRAYS"
   ]
  },
  {
   "cell_type": "markdown",
   "id": "cac91f69",
   "metadata": {},
   "source": [
    "Video link: https://youtu.be/xrLi9qq_wK8"
   ]
  },
  {
   "cell_type": "markdown",
   "id": "608a17f3",
   "metadata": {},
   "source": [
    "Codes: https://www.youtube.com/redirect?event=video_description&redir_token=QUFFLUhqbEMxQmtyUWRDT0pjZmZzckZ1RFRBZXlneTU3Z3xBQ3Jtc0tuM192RmpqTkRTeFN1b3dUOUFUVDR5QkZjakFFT1lqb1JId3RDcUF2ZjE3OW1HSWlSMkwwenZZaG95Vm9FTDFVSTJfNi1CM2tjaVcyQmltMlo3ek9PVHBBVXRzLWNReFEzMDNTcjVPR1JLR0RRSTg5OA&q=https%3A%2F%2Fgithub.com%2Flukepolson%2Fyoutube_channel%2Ftree%2Fmain%2FPython%2520Tutorial%2520Series&v=xrLi9qq_wK8        "
   ]
  },
  {
   "cell_type": "markdown",
   "id": "1cb7e399",
   "metadata": {},
   "source": [
    "**Variables**"
   ]
  },
  {
   "cell_type": "code",
   "execution_count": 4,
   "id": "68e10c24",
   "metadata": {},
   "outputs": [],
   "source": [
    "x=46"
   ]
  },
  {
   "cell_type": "code",
   "execution_count": 5,
   "id": "0c474aaf",
   "metadata": {},
   "outputs": [],
   "source": [
    "y=54"
   ]
  },
  {
   "cell_type": "code",
   "execution_count": 6,
   "id": "91a3bc3f",
   "metadata": {},
   "outputs": [
    {
     "data": {
      "text/plain": [
       "10.0"
      ]
     },
     "execution_count": 6,
     "metadata": {},
     "output_type": "execute_result"
    }
   ],
   "source": [
    "(x+y)**0.5"
   ]
  },
  {
   "cell_type": "code",
   "execution_count": 7,
   "id": "31b9dcfb",
   "metadata": {},
   "outputs": [],
   "source": [
    "age= 19.5554"
   ]
  },
  {
   "cell_type": "code",
   "execution_count": 8,
   "id": "5e3feb85",
   "metadata": {},
   "outputs": [],
   "source": [
    "z= 'My age is {}.'.format(age)"
   ]
  },
  {
   "cell_type": "code",
   "execution_count": 9,
   "id": "34f7b941",
   "metadata": {},
   "outputs": [
    {
     "data": {
      "text/plain": [
       "'My age is 19.5554.'"
      ]
     },
     "execution_count": 9,
     "metadata": {},
     "output_type": "execute_result"
    }
   ],
   "source": [
    "z"
   ]
  },
  {
   "cell_type": "markdown",
   "id": "0dc7e7b6",
   "metadata": {},
   "source": [
    "watch the video again and complete this part."
   ]
  },
  {
   "cell_type": "markdown",
   "id": "a54b001d",
   "metadata": {},
   "source": [
    "**Lists, Tuples, Dictionaries & Arrays**"
   ]
  },
  {
   "cell_type": "markdown",
   "id": "888384fd",
   "metadata": {},
   "source": [
    "Lists"
   ]
  },
  {
   "cell_type": "code",
   "execution_count": 10,
   "id": "d719ddaf",
   "metadata": {},
   "outputs": [],
   "source": [
    "l1= [8,42,6,636,[7,89],'It\\'s a list']"
   ]
  },
  {
   "cell_type": "code",
   "execution_count": 11,
   "id": "57dc5f18",
   "metadata": {},
   "outputs": [
    {
     "data": {
      "text/plain": [
       "(6, [7, 89], 89, \"It's a list\")"
      ]
     },
     "execution_count": 11,
     "metadata": {},
     "output_type": "execute_result"
    }
   ],
   "source": [
    "l1[2], l1[4], l1[4][1], l1[5]"
   ]
  },
  {
   "cell_type": "markdown",
   "id": "177fb9f8",
   "metadata": {},
   "source": [
    "Tuple"
   ]
  },
  {
   "cell_type": "markdown",
   "id": "0746444d",
   "metadata": {},
   "source": [
    "lists can be edited but we can't edit tuples."
   ]
  },
  {
   "cell_type": "code",
   "execution_count": 12,
   "id": "652884df",
   "metadata": {},
   "outputs": [],
   "source": [
    "t1= (2,[12,8,9],2,4,'It\\'s a tuple')"
   ]
  },
  {
   "cell_type": "code",
   "execution_count": 13,
   "id": "30a621af",
   "metadata": {},
   "outputs": [
    {
     "data": {
      "text/plain": [
       "([12, 8, 9], \"It's a tuple\")"
      ]
     },
     "execution_count": 13,
     "metadata": {},
     "output_type": "execute_result"
    }
   ],
   "source": [
    "t1[1], t1[4]"
   ]
  },
  {
   "cell_type": "markdown",
   "id": "bb3e8339",
   "metadata": {},
   "source": [
    "Dictionaries"
   ]
  },
  {
   "cell_type": "code",
   "execution_count": 14,
   "id": "d4c055d6",
   "metadata": {},
   "outputs": [],
   "source": [
    "d1= {'Barca':'Messi', 'Real':'Ronaldo'}"
   ]
  },
  {
   "cell_type": "code",
   "execution_count": 15,
   "id": "d8979b92",
   "metadata": {},
   "outputs": [
    {
     "data": {
      "text/plain": [
       "'Messi'"
      ]
     },
     "execution_count": 15,
     "metadata": {},
     "output_type": "execute_result"
    }
   ],
   "source": [
    "d1['Barca']"
   ]
  },
  {
   "cell_type": "markdown",
   "id": "962044b5",
   "metadata": {},
   "source": [
    "Arrays"
   ]
  },
  {
   "cell_type": "code",
   "execution_count": 16,
   "id": "757a80d5",
   "metadata": {},
   "outputs": [],
   "source": [
    "import numpy as np"
   ]
  },
  {
   "cell_type": "code",
   "execution_count": 17,
   "id": "738d0af4",
   "metadata": {},
   "outputs": [
    {
     "data": {
      "text/plain": [
       "<module 'numpy' from 'C:\\\\ProgramData\\\\Anaconda3\\\\lib\\\\site-packages\\\\numpy\\\\__init__.py'>"
      ]
     },
     "execution_count": 17,
     "metadata": {},
     "output_type": "execute_result"
    }
   ],
   "source": [
    "np"
   ]
  },
  {
   "cell_type": "code",
   "execution_count": 18,
   "id": "2db7b838",
   "metadata": {},
   "outputs": [],
   "source": [
    "x= [4,6,5,8,6,6]\n",
    "y= [45,1,68,1,0,7]"
   ]
  },
  {
   "cell_type": "code",
   "execution_count": 19,
   "id": "d702222b",
   "metadata": {},
   "outputs": [],
   "source": [
    "X, Y = np.array(x), np.array(y)"
   ]
  },
  {
   "cell_type": "code",
   "execution_count": 20,
   "id": "1f9d9402",
   "metadata": {},
   "outputs": [
    {
     "data": {
      "text/plain": [
       "(array([4, 6, 5, 8, 6, 6]), array([45,  1, 68,  1,  0,  7]))"
      ]
     },
     "execution_count": 20,
     "metadata": {},
     "output_type": "execute_result"
    }
   ],
   "source": [
    "X, Y"
   ]
  },
  {
   "cell_type": "code",
   "execution_count": 21,
   "id": "d7c5fd69",
   "metadata": {},
   "outputs": [
    {
     "data": {
      "text/plain": [
       "((6,), (6,))"
      ]
     },
     "execution_count": 21,
     "metadata": {},
     "output_type": "execute_result"
    }
   ],
   "source": [
    "X.shape, Y.shape"
   ]
  },
  {
   "cell_type": "code",
   "execution_count": 22,
   "id": "c43c072e",
   "metadata": {},
   "outputs": [
    {
     "data": {
      "text/plain": [
       "[4, 6, 5, 8, 6, 6, 45, 1, 68, 1, 0, 7]"
      ]
     },
     "execution_count": 22,
     "metadata": {},
     "output_type": "execute_result"
    }
   ],
   "source": [
    "x+y"
   ]
  },
  {
   "cell_type": "code",
   "execution_count": 23,
   "id": "4688fed5",
   "metadata": {},
   "outputs": [
    {
     "data": {
      "text/plain": [
       "array([49,  7, 73,  9,  6, 13])"
      ]
     },
     "execution_count": 23,
     "metadata": {},
     "output_type": "execute_result"
    }
   ],
   "source": [
    "X+Y"
   ]
  },
  {
   "cell_type": "code",
   "execution_count": 24,
   "id": "0e7c4fda",
   "metadata": {},
   "outputs": [
    {
     "data": {
      "text/plain": [
       "[4, 6, 5, 8, 6, 6, 4, 6, 5, 8, 6, 6]"
      ]
     },
     "execution_count": 24,
     "metadata": {},
     "output_type": "execute_result"
    }
   ],
   "source": [
    "2*x "
   ]
  },
  {
   "cell_type": "code",
   "execution_count": 25,
   "id": "cedaf666",
   "metadata": {},
   "outputs": [
    {
     "data": {
      "text/plain": [
       "array([ 8, 12, 10, 16, 12, 12])"
      ]
     },
     "execution_count": 25,
     "metadata": {},
     "output_type": "execute_result"
    }
   ],
   "source": [
    "2*X"
   ]
  },
  {
   "cell_type": "code",
   "execution_count": 26,
   "id": "e3ecee36",
   "metadata": {},
   "outputs": [
    {
     "data": {
      "text/plain": [
       "array([180,   6, 340,   8,   0,  42])"
      ]
     },
     "execution_count": 26,
     "metadata": {},
     "output_type": "execute_result"
    }
   ],
   "source": [
    "X*Y"
   ]
  },
  {
   "cell_type": "code",
   "execution_count": 27,
   "id": "09704d63",
   "metadata": {},
   "outputs": [],
   "source": [
    "linsp= np.linspace(0,1,10)"
   ]
  },
  {
   "cell_type": "code",
   "execution_count": 28,
   "id": "067f6917",
   "metadata": {},
   "outputs": [
    {
     "data": {
      "text/plain": [
       "array([0.        , 0.11111111, 0.22222222, 0.33333333, 0.44444444,\n",
       "       0.55555556, 0.66666667, 0.77777778, 0.88888889, 1.        ])"
      ]
     },
     "execution_count": 28,
     "metadata": {},
     "output_type": "execute_result"
    }
   ],
   "source": [
    "linsp"
   ]
  },
  {
   "cell_type": "code",
   "execution_count": 29,
   "id": "481bc765",
   "metadata": {},
   "outputs": [],
   "source": [
    "ar= np.arange(0,25,2)"
   ]
  },
  {
   "cell_type": "code",
   "execution_count": 30,
   "id": "48966a73",
   "metadata": {},
   "outputs": [
    {
     "data": {
      "text/plain": [
       "array([ 0,  2,  4,  6,  8, 10, 12, 14, 16, 18, 20, 22, 24])"
      ]
     },
     "execution_count": 30,
     "metadata": {},
     "output_type": "execute_result"
    }
   ],
   "source": [
    "ar"
   ]
  },
  {
   "cell_type": "code",
   "execution_count": 31,
   "id": "8265e53e",
   "metadata": {},
   "outputs": [
    {
     "data": {
      "text/plain": [
       "array([  0,   4,  16,  36,  64, 100, 144, 196, 256, 324, 400, 484, 576],\n",
       "      dtype=int32)"
      ]
     },
     "execution_count": 31,
     "metadata": {},
     "output_type": "execute_result"
    }
   ],
   "source": [
    "ar**2"
   ]
  },
  {
   "cell_type": "markdown",
   "id": "fc34e064",
   "metadata": {},
   "source": [
    "**Plotting**"
   ]
  },
  {
   "cell_type": "code",
   "execution_count": 32,
   "id": "cfcd4e9c",
   "metadata": {},
   "outputs": [],
   "source": [
    "import matplotlib.pyplot as plt"
   ]
  },
  {
   "cell_type": "code",
   "execution_count": 33,
   "id": "9587345f",
   "metadata": {},
   "outputs": [],
   "source": [
    "x= linsp\n",
    "y= x**3"
   ]
  },
  {
   "cell_type": "code",
   "execution_count": 34,
   "id": "f4c860ec",
   "metadata": {},
   "outputs": [
    {
     "data": {
      "text/plain": [
       "Text(0, 0.5, 'y')"
      ]
     },
     "execution_count": 34,
     "metadata": {},
     "output_type": "execute_result"
    },
    {
     "data": {
      "image/png": "[encoded data removed]",
      "text/plain": [
       "<Figure size 640x480 with 1 Axes>"
      ]
     },
     "metadata": {},
     "output_type": "display_data"
    }
   ],
   "source": [
    "plt.plot(x,y,'r')\n",
    "plt.xlabel('x', fontsize=12)\n",
    "plt.ylabel('y', fontsize=12)"
   ]
  },
  {
   "cell_type": "code",
   "execution_count": 35,
   "id": "717f37d9",
   "metadata": {},
   "outputs": [
    {
     "data": {
      "text/plain": [
       "[<matplotlib.lines.Line2D at 0x12bd5ab9df0>]"
      ]
     },
     "execution_count": 35,
     "metadata": {},
     "output_type": "execute_result"
    },
    {
     "data": {
      "image/png": "[encoded data removed]",
      "text/plain": [
       "<Figure size 640x480 with 1 Axes>"
      ]
     },
     "metadata": {},
     "output_type": "display_data"
    }
   ],
   "source": [
    "plt.plot(x,y,'ro')"
   ]
  },
  {
   "cell_type": "markdown",
   "id": "d6224e06",
   "metadata": {},
   "source": [
    "to know more google *'matplotlib plot'*."
   ]
  },
  {
   "cell_type": "markdown",
   "id": "8fca1b8b",
   "metadata": {},
   "source": [
    "### PART 3 - LOOPS, IF STATEMENTS"
   ]
  },
  {
   "cell_type": "markdown",
   "id": "3d18adff",
   "metadata": {},
   "source": [
    "Video link: https://youtu.be/3i3k9YgBROk"
   ]
  },
  {
   "cell_type": "markdown",
   "id": "b7fe59f0",
   "metadata": {},
   "source": [
    "Codes: https://www.youtube.com/redirect?event=video_description&redir_token=QUFFLUhqbGtfTmppb2EwYktBc3RxVGtDUEZfcGJNYUY4d3xBQ3Jtc0tuNUszVkFpWE53NXFxVG5ZVzByTmFmd2liSWNGMkZFeTBOWk5GN25Yem42anBubGxhS2xITG5jUUd4MXR5aUpqLS1HNGVjUHF5ZlNaQnQzZVBMSHZwS3U1NUVhOXpZUmVVVzNiMlZzMkFqUWs1TVFoMA&q=https%3A%2F%2Fgithub.com%2Flukepolson%2Fyoutube_channel%2Ftree%2Fmain%2FPython%2520Tutorial%2520Series&v=3i3k9YgBROk"
   ]
  },
  {
   "cell_type": "markdown",
   "id": "1608fb41",
   "metadata": {},
   "source": [
    "**forloops**"
   ]
  },
  {
   "cell_type": "markdown",
   "id": "ac50b29f",
   "metadata": {},
   "source": [
    "1. Regular loop"
   ]
  },
  {
   "cell_type": "code",
   "execution_count": 36,
   "id": "c562d24b",
   "metadata": {},
   "outputs": [
    {
     "name": "stdout",
     "output_type": "stream",
     "text": [
      "0\n",
      "1\n",
      "2\n",
      "3\n",
      "4\n"
     ]
    }
   ],
   "source": [
    "for i in range(5):\n",
    "    print(i)"
   ]
  },
  {
   "cell_type": "code",
   "execution_count": 37,
   "id": "61ee66af",
   "metadata": {},
   "outputs": [],
   "source": [
    "tencube1st= []\n",
    "for i in range (11):\n",
    "    tencube1st.append(i**3)"
   ]
  },
  {
   "cell_type": "code",
   "execution_count": 38,
   "id": "446b5fff",
   "metadata": {},
   "outputs": [
    {
     "data": {
      "text/plain": [
       "[0, 1, 8, 27, 64, 125, 216, 343, 512, 729, 1000]"
      ]
     },
     "execution_count": 38,
     "metadata": {},
     "output_type": "execute_result"
    }
   ],
   "source": [
    "tencube1st"
   ]
  },
  {
   "cell_type": "markdown",
   "id": "3c57400a",
   "metadata": {},
   "source": [
    "2. List loop"
   ]
  },
  {
   "cell_type": "code",
   "execution_count": 39,
   "id": "320c265a",
   "metadata": {},
   "outputs": [
    {
     "name": "stdout",
     "output_type": "stream",
     "text": [
      "Jupyter\n",
      "Pycharm\n",
      "Replit\n"
     ]
    }
   ],
   "source": [
    "l1= ['Jupyter','Pycharm','Replit']\n",
    "for item in l1:\n",
    "    print(item)"
   ]
  },
  {
   "cell_type": "markdown",
   "id": "a9185f2f",
   "metadata": {},
   "source": [
    "3. Enumeration loop"
   ]
  },
  {
   "cell_type": "code",
   "execution_count": 40,
   "id": "7f085624",
   "metadata": {},
   "outputs": [
    {
     "name": "stdout",
     "output_type": "stream",
     "text": [
      "index 0 contains Jupyter\n",
      "index 1 contains Pycharm\n",
      "index 2 contains Replit\n"
     ]
    }
   ],
   "source": [
    "for i, item in enumerate(l1):\n",
    "    print('index {} contains {}'.format(i, item))"
   ]
  },
  {
   "cell_type": "markdown",
   "id": "c7bb0856",
   "metadata": {},
   "source": [
    "4. List comprehension loop"
   ]
  },
  {
   "cell_type": "code",
   "execution_count": 41,
   "id": "4dcc769f",
   "metadata": {},
   "outputs": [],
   "source": [
    "l2= [i**3 for i in range(11)]"
   ]
  },
  {
   "cell_type": "code",
   "execution_count": 42,
   "id": "12ae7c6e",
   "metadata": {},
   "outputs": [
    {
     "data": {
      "text/plain": [
       "[0, 1, 8, 27, 64, 125, 216, 343, 512, 729, 1000]"
      ]
     },
     "execution_count": 42,
     "metadata": {},
     "output_type": "execute_result"
    }
   ],
   "source": [
    "l2"
   ]
  },
  {
   "cell_type": "markdown",
   "id": "a7f55fd9",
   "metadata": {},
   "source": [
    "5. Double forloop"
   ]
  },
  {
   "cell_type": "code",
   "execution_count": 43,
   "id": "2c96180a",
   "metadata": {},
   "outputs": [
    {
     "name": "stdout",
     "output_type": "stream",
     "text": [
      "i=0 and j=0\n",
      "i=0 and j=1\n",
      "i=0 and j=2\n",
      "i=1 and j=0\n",
      "i=1 and j=1\n",
      "i=1 and j=2\n",
      "i=2 and j=0\n",
      "i=2 and j=1\n",
      "i=2 and j=2\n",
      "i=3 and j=0\n",
      "i=3 and j=1\n",
      "i=3 and j=2\n"
     ]
    }
   ],
   "source": [
    "for i in range(4):\n",
    "    for j in range(3):\n",
    "        print('i={} and j={}'.format(i,j))"
   ]
  },
  {
   "cell_type": "markdown",
   "id": "7ef3e3d9",
   "metadata": {},
   "source": [
    "**booleans and if statements**"
   ]
  },
  {
   "cell_type": "code",
   "execution_count": 44,
   "id": "75e1a319",
   "metadata": {},
   "outputs": [],
   "source": [
    "a= True\n",
    "b= False"
   ]
  },
  {
   "cell_type": "code",
   "execution_count": 45,
   "id": "3f01af15",
   "metadata": {},
   "outputs": [
    {
     "data": {
      "text/plain": [
       "True"
      ]
     },
     "execution_count": 45,
     "metadata": {},
     "output_type": "execute_result"
    }
   ],
   "source": [
    "a or b"
   ]
  },
  {
   "cell_type": "code",
   "execution_count": 46,
   "id": "3d8e1cf4",
   "metadata": {},
   "outputs": [
    {
     "data": {
      "text/plain": [
       "False"
      ]
     },
     "execution_count": 46,
     "metadata": {},
     "output_type": "execute_result"
    }
   ],
   "source": [
    "a and b"
   ]
  },
  {
   "cell_type": "code",
   "execution_count": 47,
   "id": "f6af7295",
   "metadata": {},
   "outputs": [
    {
     "data": {
      "text/plain": [
       "False"
      ]
     },
     "execution_count": 47,
     "metadata": {},
     "output_type": "execute_result"
    }
   ],
   "source": [
    "not(a)"
   ]
  },
  {
   "cell_type": "code",
   "execution_count": 48,
   "id": "5497f1b7",
   "metadata": {},
   "outputs": [],
   "source": [
    "x= 43"
   ]
  },
  {
   "cell_type": "code",
   "execution_count": 49,
   "id": "b0721033",
   "metadata": {},
   "outputs": [
    {
     "data": {
      "text/plain": [
       "(False, True, True)"
      ]
     },
     "execution_count": 49,
     "metadata": {},
     "output_type": "execute_result"
    }
   ],
   "source": [
    "x==40, x==43, x!= 0"
   ]
  },
  {
   "cell_type": "code",
   "execution_count": 50,
   "id": "226f5248",
   "metadata": {},
   "outputs": [],
   "source": [
    "checkit= 'esm' in 'desmos'"
   ]
  },
  {
   "cell_type": "code",
   "execution_count": 51,
   "id": "66427021",
   "metadata": {},
   "outputs": [
    {
     "data": {
      "text/plain": [
       "True"
      ]
     },
     "execution_count": 51,
     "metadata": {},
     "output_type": "execute_result"
    }
   ],
   "source": [
    "checkit"
   ]
  },
  {
   "cell_type": "code",
   "execution_count": 52,
   "id": "e00773c0",
   "metadata": {},
   "outputs": [
    {
     "name": "stdout",
     "output_type": "stream",
     "text": [
      "high\n"
     ]
    }
   ],
   "source": [
    "if (a or b)==True:\n",
    "    print('high')\n",
    "else:\n",
    "    print('low')"
   ]
  },
  {
   "cell_type": "code",
   "execution_count": 53,
   "id": "8e2f11eb",
   "metadata": {},
   "outputs": [
    {
     "name": "stdout",
     "output_type": "stream",
     "text": [
      "yes for condition 1 only\n"
     ]
    }
   ],
   "source": [
    "if (a or b)==True and (a and b)==True:\n",
    "    print('yes for both')\n",
    "elif (a or b)==True and (a and b)!=True:\n",
    "    print('yes for condition 1 only')\n",
    "elif (a or b)!=True and (a and b)==True:\n",
    "    print('yes for condition 2 only')\n",
    "else:\n",
    "    print('no for both')"
   ]
  },
  {
   "cell_type": "code",
   "execution_count": 54,
   "id": "165f336b",
   "metadata": {},
   "outputs": [
    {
     "name": "stdout",
     "output_type": "stream",
     "text": [
      "no\n"
     ]
    }
   ],
   "source": [
    "if 0:\n",
    "    print('yes')\n",
    "else:\n",
    "    print('no')"
   ]
  },
  {
   "cell_type": "code",
   "execution_count": 55,
   "id": "737acb93",
   "metadata": {},
   "outputs": [
    {
     "name": "stdout",
     "output_type": "stream",
     "text": [
      "yes\n"
     ]
    }
   ],
   "source": [
    "if 12:\n",
    "    print('yes')\n",
    "else:\n",
    "    print('no')"
   ]
  },
  {
   "cell_type": "markdown",
   "id": "8bbff960",
   "metadata": {},
   "source": [
    "### PART 4 - SAMPLE PROBLEMS"
   ]
  },
  {
   "cell_type": "markdown",
   "id": "52df0778",
   "metadata": {},
   "source": [
    "Video link: https://youtu.be/X5YDtmg7q5o"
   ]
  },
  {
   "cell_type": "markdown",
   "id": "0a0eca6e",
   "metadata": {},
   "source": [
    "Codes: https://www.youtube.com/redirect?event=video_description&redir_token=QUFFLUhqbUpnYzZIdzFOV2xnSV9maHp0djN5bkhaLTBqd3xBQ3Jtc0tsNzZUczNJNXRIdnEwa1B6VmM2ZHNjSllVM29PYjc5OWpPRl9Hd1BuNFpLbk13d2F2Sm5CQW5SU0pNUkY4LWl3dnBxWUJEX0F4bEdfbnZtSWJtd0lFTWlhZGZzRkxEdkdRYjYxZk1OMkVtMGV0bWpFMA&q=https%3A%2F%2Fgithub.com%2Flukepolson%2Fyoutube_channel%2Ftree%2Fmain%2FPython%2520Tutorial%2520Series&v=X5YDtmg7q5o"
   ]
  },
  {
   "cell_type": "markdown",
   "id": "be5c5902",
   "metadata": {},
   "source": [
    "Problem 3: Add up every number from 1 to 999999 except for those that can be divided by 4 and 6."
   ]
  },
  {
   "cell_type": "code",
   "execution_count": 56,
   "id": "9006f4a7",
   "metadata": {},
   "outputs": [],
   "source": [
    "s= 0\n",
    "for i in range(1000000):\n",
    "    if not(i%4==0) and not(i%6==0):\n",
    "        s=s+i"
   ]
  },
  {
   "cell_type": "code",
   "execution_count": 57,
   "id": "3fa781b8",
   "metadata": {},
   "outputs": [
    {
     "data": {
      "text/plain": [
       "333333666666"
      ]
     },
     "execution_count": 57,
     "metadata": {},
     "output_type": "execute_result"
    }
   ],
   "source": [
    "s"
   ]
  },
  {
   "cell_type": "code",
   "execution_count": null,
   "id": "a1a670f9",
   "metadata": {},
   "outputs": [],
   "source": []
  }
 ],
 "metadata": {
  "kernelspec": {
   "display_name": "Python 3 (ipykernel)",
   "language": "python",
   "name": "python3"
  },
  "language_info": {
   "codemirror_mode": {
    "name": "ipython",
    "version": 3
   },
   "file_extension": ".py",
   "mimetype": "text/x-python",
   "name": "python",
   "nbconvert_exporter": "python",
   "pygments_lexer": "ipython3",
   "version": "3.9.13"
  }
 },
 "nbformat": 4,
 "nbformat_minor": 5
}
