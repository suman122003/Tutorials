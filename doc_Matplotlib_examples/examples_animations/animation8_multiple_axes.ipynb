{
  "cells": [
    {
      "cell_type": "markdown",
      "metadata": {},
      "source": [
        "\n",
        "# Multiple axes animation\n",
        "\n",
        "This example showcases:\n",
        "\n",
        "- how animation across multiple subplots works,\n",
        "- using a figure artist in the animation.\n",
        "\n",
        "Output generated via `matplotlib.animation.Animation.to_jshtml`.\n"
      ]
    },
    {
      "cell_type": "code",
      "execution_count": 1,
      "metadata": {
        "collapsed": false
      },
      "outputs": [
        {
          "data": {
            "image/png": "[encoded data removed]",
            "text/plain": [
              "<Figure size 600x200 with 2 Axes>"
            ]
          },
          "metadata": {},
          "output_type": "display_data"
        }
      ],
      "source": [
        "import matplotlib.pyplot as plt\n",
        "import numpy as np\n",
        "\n",
        "import matplotlib.animation as animation\n",
        "from matplotlib.patches import ConnectionPatch\n",
        "\n",
        "fig, (axl, axr) = plt.subplots(\n",
        "    ncols=2,\n",
        "    sharey=True,\n",
        "    figsize=(6, 2),\n",
        "    gridspec_kw=dict(width_ratios=[1, 3], wspace=0),\n",
        ")\n",
        "axl.set_aspect(1)\n",
        "axr.set_box_aspect(1 / 3)\n",
        "axr.yaxis.set_visible(False)\n",
        "axr.xaxis.set_ticks([0, np.pi, 2 * np.pi], [\"0\", r\"$\\pi$\", r\"$2\\pi$\"])\n",
        "\n",
        "# draw circle with initial point in left Axes\n",
        "x = np.linspace(0, 2 * np.pi, 50)\n",
        "axl.plot(np.cos(x), np.sin(x), \"k\", lw=0.3)\n",
        "point, = axl.plot(0, 0, \"o\")\n",
        "\n",
        "# draw full curve to set view limits in right Axes\n",
        "sine, = axr.plot(x, np.sin(x))\n",
        "\n",
        "# draw connecting line between both graphs\n",
        "con = ConnectionPatch(\n",
        "    (1, 0),\n",
        "    (0, 0),\n",
        "    \"data\",\n",
        "    \"data\",\n",
        "    axesA=axl,\n",
        "    axesB=axr,\n",
        "    color=\"C0\",\n",
        "    ls=\"dotted\",\n",
        ")\n",
        "fig.add_artist(con)\n",
        "\n",
        "\n",
        "def animate(i):\n",
        "    x = np.linspace(0, i, int(i * 25 / np.pi))\n",
        "    sine.set_data(x, np.sin(x))\n",
        "    x, y = np.cos(i), np.sin(i)\n",
        "    point.set_data([x], [y])\n",
        "    con.xy1 = x, y\n",
        "    con.xy2 = i, y\n",
        "    return point, sine, con\n",
        "\n",
        "\n",
        "ani = animation.FuncAnimation(\n",
        "    fig,\n",
        "    animate,\n",
        "    interval=50,\n",
        "    blit=False,  # blitting can't be used with Figure artists\n",
        "    frames=x,\n",
        "    repeat_delay=100,\n",
        ")\n",
        "\n",
        "plt.show()"
      ]
    },
    {
      "cell_type": "markdown",
      "metadata": {},
      "source": [
        ".. admonition:: References\n",
        "\n",
        "   The use of the following functions, methods, classes and modules is shown\n",
        "   in this example:\n",
        "\n",
        "   - `matplotlib.patches.ConnectionPatch`\n",
        "   - `matplotlib.animation.FuncAnimation`\n",
        "\n"
      ]
    }
  ],
  "metadata": {
    "kernelspec": {
      "display_name": "Python 3",
      "language": "python",
      "name": "python3"
    },
    "language_info": {
      "codemirror_mode": {
        "name": "ipython",
        "version": 3
      },
      "file_extension": ".py",
      "mimetype": "text/x-python",
      "name": "python",
      "nbconvert_exporter": "python",
      "pygments_lexer": "ipython3",
      "version": "3.9.13"
    }
  },
  "nbformat": 4,
  "nbformat_minor": 0
}
