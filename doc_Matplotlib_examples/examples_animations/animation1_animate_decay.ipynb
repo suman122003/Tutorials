{
  "cells": [
    {
      "cell_type": "markdown",
      "metadata": {},
      "source": [
        "\n",
        "# Decay\n",
        "\n",
        "This example showcases:\n",
        "\n",
        "- using a generator to drive an animation,\n",
        "- changing axes limits during an animation.\n",
        "\n",
        "Output generated via `matplotlib.animation.Animation.to_jshtml`.\n"
      ]
    },
    {
      "cell_type": "code",
      "execution_count": 1,
      "metadata": {
        "collapsed": false
      },
      "outputs": [
        {
          "data": {
            "image/png": "[encoded data removed]",
            "text/plain": [
              "<Figure size 640x480 with 1 Axes>"
            ]
          },
          "metadata": {},
          "output_type": "display_data"
        }
      ],
      "source": [
        "import itertools\n",
        "\n",
        "import matplotlib.pyplot as plt\n",
        "import numpy as np\n",
        "\n",
        "import matplotlib.animation as animation\n",
        "\n",
        "\n",
        "def data_gen():\n",
        "    for cnt in itertools.count():\n",
        "        t = cnt / 10\n",
        "        yield t, np.sin(2*np.pi*t) * np.exp(-t/10.)\n",
        "\n",
        "\n",
        "def init():\n",
        "    ax.set_ylim(-1.1, 1.1)\n",
        "    ax.set_xlim(0, 1)\n",
        "    del xdata[:]\n",
        "    del ydata[:]\n",
        "    line.set_data(xdata, ydata)\n",
        "    return line,\n",
        "\n",
        "fig, ax = plt.subplots()\n",
        "line, = ax.plot([], [], lw=2)\n",
        "ax.grid()\n",
        "xdata, ydata = [], []\n",
        "\n",
        "\n",
        "def run(data):\n",
        "    # update the data\n",
        "    t, y = data\n",
        "    xdata.append(t)\n",
        "    ydata.append(y)\n",
        "    xmin, xmax = ax.get_xlim()\n",
        "\n",
        "    if t >= xmax:\n",
        "        ax.set_xlim(xmin, 2*xmax)\n",
        "        ax.figure.canvas.draw()\n",
        "    line.set_data(xdata, ydata)\n",
        "\n",
        "    return line,\n",
        "\n",
        "# Only save last 100 frames, but run forever\n",
        "ani = animation.FuncAnimation(fig, run, data_gen, interval=100, init_func=init,\n",
        "                              save_count=100)\n",
        "plt.show()"
      ]
    },
    {
      "cell_type": "code",
      "execution_count": null,
      "metadata": {},
      "outputs": [],
      "source": []
    }
  ],
  "metadata": {
    "kernelspec": {
      "display_name": "Python 3",
      "language": "python",
      "name": "python3"
    },
    "language_info": {
      "codemirror_mode": {
        "name": "ipython",
        "version": 3
      },
      "file_extension": ".py",
      "mimetype": "text/x-python",
      "name": "python",
      "nbconvert_exporter": "python",
      "pygments_lexer": "ipython3",
      "version": "3.9.13"
    }
  },
  "nbformat": 4,
  "nbformat_minor": 0
}
