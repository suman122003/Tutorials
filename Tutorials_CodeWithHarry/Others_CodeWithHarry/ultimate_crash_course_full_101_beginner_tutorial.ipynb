{
 "cells": [
  {
   "cell_type": "markdown",
   "metadata": {},
   "source": [
    "# THE ULTIMATE PYTHON CRASH COURSE - FULL PYTHON 101 BEGINNER TUTORIAL (CODE WITH HARRY)"
   ]
  },
  {
   "cell_type": "markdown",
   "metadata": {},
   "source": [
    "Video Link: https://youtu.be/vxHUFFiT0OI"
   ]
  },
  {
   "cell_type": "markdown",
   "metadata": {},
   "source": [
    "## Comment and Escape"
   ]
  },
  {
   "cell_type": "code",
   "execution_count": 1,
   "metadata": {},
   "outputs": [
    {
     "name": "stdout",
     "output_type": "stream",
     "text": [
      "it's 18th may\n",
      "google escape characters to know more\n"
     ]
    }
   ],
   "source": [
    "#\n",
    "'''\n",
    "multiline comment\n",
    "print('ctrl+d for multiple cursors (or alt ?)')\n",
    "print('ctrl+d for multiple cursors (or alt ?)')\n",
    "'''\n",
    "print('it\\'s 18th may')\n",
    "print('google escape characters to know more')"
   ]
  },
  {
   "cell_type": "markdown",
   "metadata": {},
   "source": [
    "## Variables and Datatypes"
   ]
  },
  {
   "cell_type": "markdown",
   "metadata": {},
   "source": [
    "*python* can change the datatypes."
   ]
  },
  {
   "cell_type": "code",
   "execution_count": 2,
   "metadata": {},
   "outputs": [
    {
     "name": "stdout",
     "output_type": "stream",
     "text": [
      "datatype <class 'int'> <class 'float'> <class 'complex'>\n",
      "<class 'bool'> <class 'NoneType'>\n"
     ]
    }
   ],
   "source": [
    "a, b, c, d = 45, 1.25, 1.2j, '3rd variable'\n",
    "print('datatype', type(a), type(b), type(c))\n",
    "d, e = False, None\n",
    "print(type(d), type(e))"
   ]
  },
  {
   "cell_type": "markdown",
   "metadata": {},
   "source": [
    "## Strings"
   ]
  },
  {
   "cell_type": "markdown",
   "metadata": {},
   "source": [
    "Elements of a string are immutable."
   ]
  },
  {
   "cell_type": "code",
   "execution_count": 3,
   "metadata": {},
   "outputs": [
    {
     "name": "stdout",
     "output_type": "stream",
     "text": [
      "8 cde\n",
      "abcDEFgh\n",
      "Abcdefgh ABCDEFGH\n"
     ]
    }
   ],
   "source": [
    "a = 'abcdefgh'\n",
    "print(len(a), a[2:5])\n",
    "#a[1] = 'c' elements of a string are immutable\n",
    "print(a.replace('def','DEF'))\n",
    "print(a.capitalize(), a.upper())"
   ]
  },
  {
   "cell_type": "markdown",
   "metadata": {},
   "source": [
    "## if, elif and else"
   ]
  },
  {
   "cell_type": "code",
   "execution_count": 4,
   "metadata": {},
   "outputs": [
    {
     "name": "stdout",
     "output_type": "stream",
     "text": [
      "input your age for driving: 21\n",
      "you can drive\n",
      "guess an integer between 0-50 (win for 5 numbers): 54\n",
      "you lose\n"
     ]
    }
   ],
   "source": [
    "age = int(input('input your age for driving: '))\n",
    "# input function (str by default)\n",
    "if age>18:\n",
    "    print('you can drive')\n",
    "elif age==18:\n",
    "    print('make your lisence and drive')\n",
    "else:\n",
    "    print('you can\\'t drive')\n",
    "\n",
    "num = int(input('guess an integer between 0-50 (win for 5 numbers): '))\n",
    "if num==9:\n",
    "    print('you won')\n",
    "elif num==14:\n",
    "    print('you won')\n",
    "elif num==26:\n",
    "    print('you won')\n",
    "elif num==30:\n",
    "    print('you won')\n",
    "elif num==44:\n",
    "    print('you won')\n",
    "else:\n",
    "    print('you lose')"
   ]
  },
  {
   "cell_type": "markdown",
   "metadata": {},
   "source": [
    "## Loops"
   ]
  },
  {
   "cell_type": "markdown",
   "metadata": {},
   "source": [
    "### while loop"
   ]
  },
  {
   "cell_type": "code",
   "execution_count": 5,
   "metadata": {},
   "outputs": [
    {
     "name": "stdout",
     "output_type": "stream",
     "text": [
      "3\n",
      "4\n",
      "5\n",
      "6\n",
      "7\n",
      "8\n",
      "9\n"
     ]
    }
   ],
   "source": [
    "i = 3\n",
    "while(i<10):\n",
    "    print(i)\n",
    "    i = i+1"
   ]
  },
  {
   "cell_type": "markdown",
   "metadata": {},
   "source": [
    "### for loop"
   ]
  },
  {
   "cell_type": "code",
   "execution_count": 6,
   "metadata": {},
   "outputs": [
    {
     "name": "stdout",
     "output_type": "stream",
     "text": [
      "2\n",
      "3\n",
      "4\n",
      "5\n",
      "6\n"
     ]
    }
   ],
   "source": [
    "for i in range(2,10):\n",
    "    print(i)\n",
    "    if i==4:\n",
    "        continue\n",
    "    if i==6:\n",
    "        break"
   ]
  },
  {
   "cell_type": "markdown",
   "metadata": {},
   "source": [
    "## Functions"
   ]
  },
  {
   "cell_type": "code",
   "execution_count": 7,
   "metadata": {},
   "outputs": [
    {
     "name": "stdout",
     "output_type": "stream",
     "text": [
      "11\n",
      "6.98\n"
     ]
    }
   ],
   "source": [
    "def plus1(number):\n",
    "    return number +1\n",
    "print(plus1(10))\n",
    "print(abs(-6.98)) # built in python"
   ]
  },
  {
   "cell_type": "markdown",
   "metadata": {},
   "source": [
    "## Modules"
   ]
  },
  {
   "cell_type": "code",
   "execution_count": 8,
   "metadata": {},
   "outputs": [
    {
     "name": "stdout",
     "output_type": "stream",
     "text": [
      "6\n",
      "24\n",
      "google python built in modules\n",
      "install the modules (django, sklearn) (44:00)\n"
     ]
    }
   ],
   "source": [
    "import math\n",
    "print(math.ceil(5.36)) # greatest integer function\n",
    "print(math.factorial(4))\n",
    "print('google python built in modules')\n",
    "print('install the modules (django, sklearn) (44:00)')"
   ]
  },
  {
   "cell_type": "markdown",
   "metadata": {},
   "source": [
    "## List"
   ]
  },
  {
   "cell_type": "code",
   "execution_count": 9,
   "metadata": {},
   "outputs": [
    {
     "name": "stdout",
     "output_type": "stream",
     "text": [
      "<class 'list'>\n",
      "12\n",
      "1\n",
      "0\n",
      "8\n",
      "skp\n",
      "7\n",
      "3\n",
      "added1\n",
      "[1, 5, 8, 'skp']\n"
     ]
    }
   ],
   "source": [
    "list1 = [12,1,0,8,'skp',7,3]\n",
    "print(type(list1))\n",
    "list1.append('added1')\n",
    "for l in list1:\n",
    "    print(l)\n",
    "list1[2] = 5\n",
    "print(list1[1:5])"
   ]
  },
  {
   "cell_type": "markdown",
   "metadata": {},
   "source": [
    "## Tuple"
   ]
  },
  {
   "cell_type": "markdown",
   "metadata": {},
   "source": [
    "Tuples are immutable unlike lists."
   ]
  },
  {
   "cell_type": "code",
   "execution_count": 10,
   "metadata": {},
   "outputs": [
    {
     "name": "stdout",
     "output_type": "stream",
     "text": [
      "(1, 3, 5, 'g', 5.1) <class 'tuple'>\n",
      "(3, 5, 'g')\n"
     ]
    }
   ],
   "source": [
    "tup1 = (1,3,5,'g',5.1)\n",
    "print(tup1, type(tup1))\n",
    "print(tup1[1:4])"
   ]
  },
  {
   "cell_type": "markdown",
   "metadata": {},
   "source": [
    "## Set"
   ]
  },
  {
   "cell_type": "code",
   "execution_count": 11,
   "metadata": {},
   "outputs": [
    {
     "name": "stdout",
     "output_type": "stream",
     "text": [
      "{0.5, 1.5, 2, 3}\n",
      "{0.5, 1.5, 2, 3, 10}\n",
      "{0, 1, 2, 2.5, 3, 6, 7}\n",
      "union {0.5, 1.5, 2, 3, 0, 1, 2.5, 6, 7, 10}\n",
      "intersection {2, 3}\n",
      "check out other operations on sets\n"
     ]
    }
   ],
   "source": [
    "set1 = {2,3,1.5,2,0.5}\n",
    "print(set1)\n",
    "set1.add(10)\n",
    "set1.add(0.5) # already present, not added\n",
    "print(set1)\n",
    "set2 = {2,7,6,2.5,0,1,3}\n",
    "print(set2)\n",
    "print('union', set1.union(set2))\n",
    "print('intersection', set1.intersection(set2))\n",
    "print('check out other operations on sets')"
   ]
  },
  {
   "cell_type": "markdown",
   "metadata": {},
   "source": [
    "## Dictionary"
   ]
  },
  {
   "cell_type": "code",
   "execution_count": 12,
   "metadata": {},
   "outputs": [
    {
     "name": "stdout",
     "output_type": "stream",
     "text": [
      "<class 'dict'>\n",
      "blue\n",
      "{'v': 'violet', 'i': 'indigo', 'b': 'blue', 'g': 'green', 'y': 'yellow', 'o': 'orange', 'r': 'red', 'w': 'white'}\n",
      "8\n"
     ]
    }
   ],
   "source": [
    "dict1 = {\n",
    "    'v': 'violet', 'i': 'indigo', 'b': 'blue',\n",
    "    'g': 'green', 'y': 'yellow', 'o': 'orange', 'r': 'red'\n",
    "    }\n",
    "print(type(dict1))\n",
    "print(dict1['b'])\n",
    "dict1['w'] = 'white' # adding an element\n",
    "print(dict1)\n",
    "print(len(dict1))"
   ]
  },
  {
   "cell_type": "markdown",
   "metadata": {},
   "source": [
    "## Exception Handling"
   ]
  },
  {
   "cell_type": "code",
   "execution_count": 13,
   "metadata": {},
   "outputs": [
    {
     "name": "stdout",
     "output_type": "stream",
     "text": [
      "name 't' is not defined\n",
      "the error is skipped and the code is kept running\n"
     ]
    }
   ],
   "source": [
    "try:\n",
    "    a1 = t.upper()\n",
    "except Exception as e:\n",
    "    print(e)\n",
    "print('the error is skipped and the code is kept running')"
   ]
  },
  {
   "cell_type": "markdown",
   "metadata": {},
   "source": [
    "## File Handling"
   ]
  },
  {
   "cell_type": "code",
   "execution_count": 14,
   "metadata": {},
   "outputs": [
    {
     "name": "stdout",
     "output_type": "stream",
     "text": [
      "it's the first file created by python code.\n"
     ]
    },
    {
     "data": {
      "text/plain": [
       "17"
      ]
     },
     "execution_count": 14,
     "metadata": {},
     "output_type": "execute_result"
    }
   ],
   "source": [
    "file1 = open('open file 1 (cwh).txt', 'w') # 'w' for write mode\n",
    "file1.write('it\\'s the first file created by python code.')\n",
    "file1.close()\n",
    "file1 = open(\"open file 1 (cwh).txt\", 'r')\n",
    "read1 = file1.read()\n",
    "print(read1)\n",
    "file1 = open('open file 1 (cwh).txt', 'a')\n",
    "file1.write('try to do more...')  # check"
   ]
  },
  {
   "cell_type": "markdown",
   "metadata": {},
   "source": [
    "## Classes and Objects"
   ]
  },
  {
   "cell_type": "code",
   "execution_count": 15,
   "metadata": {},
   "outputs": [
    {
     "name": "stdout",
     "output_type": "stream",
     "text": [
      "data created: black body radiation in 1900 by Max Planck\n",
      "data created: quantum mechanics in 1925 by Heisenberg and Schrodinger\n",
      "data created: special relativity in 1905 by Einstein\n",
      "data created: photo-electric effect in 1905 by Einstein\n",
      "quantum mechanics was explained in the year 1925 by Heisenberg and Schrodinger\n"
     ]
    }
   ],
   "source": [
    "class data1:\n",
    "    # constructor which will get executed everytime an object is created\n",
    "    def __init__(self, topic, starting, name) -> None:\n",
    "        self.topic = topic\n",
    "        self.starting = starting\n",
    "        self.name = name\n",
    "        print(f'data created: {topic} in {starting} by {name}')\n",
    "\n",
    "    def data1display(self):\n",
    "        print(f'{self.topic} was explained in the year {self.starting} by {self.name}')\n",
    "\n",
    "bbr = data1('black body radiation', '1900', 'Max Planck')\n",
    "qm = data1('quantum mechanics', '1925', 'Heisenberg and Schrodinger')\n",
    "str = data1('special relativity', '1905', 'Einstein')\n",
    "peeff = data1('photo-electric effect', '1905', 'Einstein')\n",
    "qm.data1display()"
   ]
  },
  {
   "cell_type": "code",
   "execution_count": null,
   "metadata": {},
   "outputs": [],
   "source": []
  }
 ],
 "metadata": {
  "kernelspec": {
   "display_name": "Python 3 (ipykernel)",
   "language": "python",
   "name": "python3"
  },
  "language_info": {
   "codemirror_mode": {
    "name": "ipython",
    "version": 3
   },
   "file_extension": ".py",
   "mimetype": "text/x-python",
   "name": "python",
   "nbconvert_exporter": "python",
   "pygments_lexer": "ipython3",
   "version": "3.9.13"
  }
 },
 "nbformat": 4,
 "nbformat_minor": 2
}
