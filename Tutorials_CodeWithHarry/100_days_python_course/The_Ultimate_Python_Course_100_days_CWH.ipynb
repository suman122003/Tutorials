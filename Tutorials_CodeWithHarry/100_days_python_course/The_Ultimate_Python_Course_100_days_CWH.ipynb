{
 "cells": [
  {
   "cell_type": "markdown",
   "metadata": {},
   "source": [
    "# The Ultimate Python Course - 100 days of Programming (CodeWithHarry)\n",
    "Playlist Link: [100 days of Code](https://youtube.com/playlist?list=PLu0W_9lII9agwh1XjRt242xIpHhPT2llg)"
   ]
  },
  {
   "cell_type": "markdown",
   "metadata": {},
   "source": [
    "## #3 Modules and pip\n",
    "2 types of modules - internal (built-in) and external (google it to get the list of modules).\n",
    "\n",
    "To install an external module: '**pip install pandas**' in the command prompt.\n",
    "\n",
    "The environment of python in the basic interpreter is an repl (Read Evaluate Print Loop). Here the program is run in shells. But we need to write the programs as a scripts."
   ]
  },
  {
   "cell_type": "code",
   "execution_count": 1,
   "metadata": {},
   "outputs": [],
   "source": [
    "import pandas\n",
    "import sklearn\n",
    "#import tensorflow"
   ]
  },
  {
   "cell_type": "markdown",
   "metadata": {},
   "source": [
    "## #4 First Python Program"
   ]
  },
  {
   "cell_type": "code",
   "execution_count": 2,
   "metadata": {},
   "outputs": [
    {
     "name": "stdout",
     "output_type": "stream",
     "text": [
      "Hello World!\n",
      "25.5\n"
     ]
    }
   ],
   "source": [
    "print('Hello World!')\n",
    "print(5*6-9/2)"
   ]
  },
  {
   "cell_type": "markdown",
   "metadata": {},
   "source": [
    "## #5 Comments, Escape Sequences and Print Statement"
   ]
  },
  {
   "cell_type": "code",
   "execution_count": 3,
   "metadata": {},
   "outputs": [
    {
     "name": "stdout",
     "output_type": "stream",
     "text": [
      "this is the first line and \n",
      " this is the second line\n",
      "Select and use \t ' ctrl+/ ' \t to comment out multiple lines.\n",
      "\n",
      "Escape sequence - Use \\ before any command in print.\n",
      "\n",
      "a ~ b ~ c ~ d ~ 11.0 ~ 3.14\ta tab insted of a new line for a new print statement. See the previous line.\n",
      "end='\\n' and sep=' ' by default\n"
     ]
    }
   ],
   "source": [
    "print('this is the first line and \\n this is the second line')\n",
    "# the first comment\n",
    "\n",
    "'''\n",
    "this is a multiline comment\n",
    "'''\n",
    "print('Select and use \\t \\' ctrl+/ \\' \\t to comment out multiple lines.')\n",
    "print('\\nEscape sequence - Use \\ before any command in print.')\n",
    "\n",
    "print('\\na', 'b', 'c', 'd', 5*2+4-6/2, 3.14, sep=' ~ ', end='\\t')\n",
    "print('a tab insted of a new line for a new print statement. See the previous line.')\n",
    "print('end=\\'\\\\n\\' and sep=\\' \\' by default')"
   ]
  },
  {
   "cell_type": "markdown",
   "metadata": {},
   "source": [
    "## #6 Variables and Data Types\n",
    "Variable is like a container which contains data."
   ]
  },
  {
   "cell_type": "code",
   "execution_count": 4,
   "metadata": {},
   "outputs": [
    {
     "name": "stdout",
     "output_type": "stream",
     "text": [
      "(15+2j)\n",
      "Data Types: 12 <class 'int'> 3.22 <class 'float'> (3+2j) <class 'complex'> skp <class 'str'> True <class 'bool'>\n",
      "<class 'list'>\t<class 'tuple'>\t<class 'dict'>\n",
      "All data types in python is OBJECT.\n"
     ]
    }
   ],
   "source": [
    "a, b, c, d, e = 12, 3.22, 3+2j, 'skp', True\n",
    "print(a+c)\n",
    "print('Data Types:', a, type(a), b, type(b), c, type(c), d, type(d), e, type(e))\n",
    "list1 = [4,2,6,2.3,c,d,e,[6,2],(2,6)]\n",
    "tuple1 = (6.3,8,2,7,d,list1)\n",
    "dict1 = {'integer': 32, 'float': 3.6, 'complex':c, 'string':d, 'list': list1, 'tuple': tuple1}\n",
    "print(type(list1), type(tuple1), type(dict1), sep='\\t')\n",
    "print('All data types in python is OBJECT.')"
   ]
  },
  {
   "cell_type": "markdown",
   "metadata": {},
   "source": [
    "## #7 Exercise 1: Calculator using Python"
   ]
  },
  {
   "cell_type": "code",
   "execution_count": 5,
   "metadata": {},
   "outputs": [
    {
     "name": "stdout",
     "output_type": "stream",
     "text": [
      "11.25 11 1\n"
     ]
    }
   ],
   "source": [
    "print(45/4, 45//4, 45%4)"
   ]
  },
  {
   "cell_type": "raw",
   "metadata": {},
   "source": [
    "a = eval(input('input number a: '))\n",
    "print(a)\n",
    "op = input('Type your desired operation: \\n add, sub, mul, div, power, div ans, remainder')\n",
    "print(op)\n",
    "b = eval(input('input number b: '))\n",
    "print(b)\n",
    "print(Answer)\n",
    "if op == 'add':\n",
    "    print(a+b)\n",
    "if op == 'sub':\n",
    "    print(a-b)\n",
    "if op == 'mul':\n",
    "    print(a*b)\n",
    "if op == 'div':\n",
    "    print(a/b)\n",
    "if op == 'power':\n",
    "    print(a**b)\n",
    "if op == 'div ans':\n",
    "    print(a//b)\n",
    "if op == 'remainder':\n",
    "    print(a%b)"
   ]
  },
  {
   "cell_type": "markdown",
   "metadata": {},
   "source": [
    "## #8 Calculator using python (Solution)"
   ]
  },
  {
   "cell_type": "code",
   "execution_count": 6,
   "metadata": {},
   "outputs": [
    {
     "name": "stdout",
     "output_type": "stream",
     "text": [
      "a = 40\n",
      "b = 6\n",
      "\n",
      "addition: \t a + b = 46\n",
      "subtraction: \t a - b = 34\n",
      "multiplication:\t a * b = 240\n",
      "division: \t a / b = 6.666666666666667\n",
      "division answer: a // b = 6\n",
      "remainder: \t a %\\ b = 4\n",
      "power: \t\t a ** b = 4096000000\n"
     ]
    }
   ],
   "source": [
    "a, b = 40, 6  # input the values\n",
    "print('a =', a)\n",
    "print('b =', b)\n",
    "print()\n",
    "print('addition: \\t', 'a + b =', a+b)\n",
    "print('subtraction: \\t', 'a - b =', a-b)\n",
    "print('multiplication:\\t', 'a * b =', a*b)\n",
    "print('division: \\t', 'a / b =', a/b)\n",
    "print('division answer:', 'a // b =', a//b)\n",
    "print('remainder: \\t', 'a %\\ b =', a%b)\n",
    "print('power: \\t\\t', 'a ** b =', a**b)"
   ]
  },
  {
   "cell_type": "markdown",
   "metadata": {},
   "source": [
    "## #9 Typecasting in Python\n",
    "Conversion of one data-type from other data-type. Types of type-casting:\n",
    "1. Explicit conversion (done by user).\n",
    "2. Implicit conversion (done by python automatically).\n",
    "\n",
    "Functions: **int(), float(), hex(), oct(), str(),** etc."
   ]
  },
  {
   "cell_type": "code",
   "execution_count": 7,
   "metadata": {},
   "outputs": [
    {
     "name": "stdout",
     "output_type": "stream",
     "text": [
      "explicit typecasting: 14 5\n",
      "implicit typecasting: 6.9\n"
     ]
    }
   ],
   "source": [
    "a, b = '1', '4'\n",
    "print('explicit typecasting:', a+b, int(a)+int(b))\n",
    "print('implicit typecasting:', 1.9 + 5)"
   ]
  },
  {
   "cell_type": "markdown",
   "metadata": {},
   "source": [
    "## #10 User Input in Python"
   ]
  },
  {
   "cell_type": "raw",
   "metadata": {},
   "source": [
    "a = input('It\\'s string by default')\n",
    "print(a*3)\n",
    "\n",
    "b = int(input('input an integer: '))\n",
    "print(5*b)\n",
    "\n",
    "c = float(input('input float data: '))\n",
    "print(c*8)\n",
    "\n",
    "d = complex(input('input complex number: '))\n",
    "print(d*2)\n",
    "\n",
    "e = eval(input('input a number: '))\n",
    "print(e)"
   ]
  },
  {
   "cell_type": "markdown",
   "metadata": {},
   "source": [
    "## #11  Strings"
   ]
  },
  {
   "cell_type": "code",
   "execution_count": 8,
   "metadata": {},
   "outputs": [
    {
     "name": "stdout",
     "output_type": "stream",
     "text": [
      "the numbering is Aa1iBb2iiCc3iii\n",
      "It's a multiline string.\n",
      "It's the first line.\n",
      "It's the second line.\n",
      "going inside a string: a C t\n",
      "String is like an array of characters!\n",
      "for loop:\n",
      "A\n",
      "a\n",
      "1\n",
      "i\n",
      "Yes.\n"
     ]
    }
   ],
   "source": [
    "a, b, c, d, e = 'Aa1i', 'Bb2ii', 'Cc3iii', 'Dd4iv', 'Ee5v'\n",
    "print('the numbering is ' + a+b+c)\n",
    "mult = '''It's a multiline string.\n",
    "It's the first line.\n",
    "It's the second line.'''\n",
    "print(mult)\n",
    "print('going inside a string:', a[1], c[0], mult[10])\n",
    "print('String is like an array of characters!')\n",
    "print('for loop:')\n",
    "for character in a:\n",
    "    print(character)\n",
    "if 'man' in 'Suman':\n",
    "    print('Yes.')\n",
    "else:\n",
    "    print('No.')"
   ]
  },
  {
   "cell_type": "markdown",
   "metadata": {},
   "source": [
    "## #12 Strings Slicing\n",
    "**string[m:n]**: $\\quad m, m+1, m+2, ..., n-1; \\quad (m < n)$"
   ]
  },
  {
   "cell_type": "code",
   "execution_count": 9,
   "metadata": {},
   "outputs": [
    {
     "name": "stdout",
     "output_type": "stream",
     "text": [
      "first third 51\n",
      "first, second, third first, second, third, fourth, fifth, sixth, seventh\n",
      "first, second, third, fourth, fifth, sixth, ,\n",
      " by interpreter: first, second, third, fourth, fifth, sixth,\n",
      "fifth, sixth, ,\n",
      " by interpreter: fifth, sixth,\n"
     ]
    }
   ],
   "source": [
    "order = 'first, second, third, fourth, fifth, sixth, seventh'\n",
    "orderlen = len(order)\n",
    "print(order[0:5], order[15:20], orderlen)\n",
    "print(order[:20], order[:orderlen])\n",
    "print(order[0:-8], ',\\n by interpreter:', order[0:len(order)-8])\n",
    "print(order[-21:-8], ',\\n by interpreter:', \n",
    "        order[len(order)-21:len(order)-8])"
   ]
  },
  {
   "cell_type": "markdown",
   "metadata": {},
   "source": [
    "## #13 String Methods\n",
    "Strings are immutable.\n",
    "\n",
    "Here's Harry's studio setup using Macbook and iphone!"
   ]
  },
  {
   "cell_type": "code",
   "execution_count": 10,
   "metadata": {},
   "outputs": [
    {
     "name": "stdout",
     "output_type": "stream",
     "text": [
      "upper: FIRST, SECOND, THIRD, FOURTH, FIFTH, SIXTH, SEVENTH , \n",
      "lower: first, second, third, fourth, fifth, sixth, seventh\n",
      "!!!string 1!!!! , rstrip: !!!string 1 , replace: !!!string 1!!!!\n",
      "str to list by split: ['first', 'second', 'third', 'fourth', 'fifth', 'sixth', 'seventh']\n",
      "capitalize: Introduction to js\n",
      "center: !!!string 1!!!!      !!!string 1!!!!      15 25\n",
      "a.center(n) adds n-len(a) extra spaces and aligns the string at the center.\n",
      "count: 3 11\n",
      "endswith: True\n",
      "startswith: True\n",
      "find: 30 f -1\n",
      "find: 30 f\n",
      "isalnum (alphabetic and numeric only): True False\n",
      "isalpha (alphabetic only): False True\n",
      "islower (all lower): True False\n",
      "isupper (all upper): True False\n",
      "isprintable (no \n",
      " like characters): True False\n",
      "isspace (only spaces present): False True\n",
      "istitle (starting of every word is capital or not): True False\n",
      "title (converts a string into title): Python Basics\n",
      "swapcase (upper to lower and vice-versa): aA1I\n"
     ]
    }
   ],
   "source": [
    "order1 = order.upper()\n",
    "print('upper:' , order1, ', \\nlower:', order1.lower())\n",
    "\n",
    "s1 = '!!!string 1!!!!'\n",
    "print(s1, ', rstrip:', s1.rstrip('!'), ', replace:', s1.replace('srting', 'str'))\n",
    "# replace is not working\n",
    "print('str to list by split:', order.split(', '))\n",
    "blogHeading = \"introduction to jS\"\n",
    "print('capitalize:', blogHeading.capitalize())\n",
    "s1c = s1.center(25)\n",
    "print('center:', s1, s1c, len(s1), len(s1c))\n",
    "print('a.center(n) adds n-len(a) extra spaces and aligns the string at the center.')\n",
    "\n",
    "print('count:', s1.count('!!'), s1c.count(' '))\n",
    "print('endswith:' , order.endswith('sixth', 10, 42))\n",
    "print('startswith:', order.startswith('first'))\n",
    "print('find:', order.find('fifth'), order[30], order.find('fh'))\n",
    "print('find:', order.index('fifth'), order[30])\n",
    "\n",
    "print('isalnum (alphabetic and numeric only):', a.isalnum(), order.isalnum())\n",
    "print('isalpha (alphabetic only):', a.isalpha(), 'welcome'.isalpha())\n",
    "print('islower (all lower):', order.islower(), a.islower())\n",
    "print('isupper (all upper):', order1.isupper(), a.isupper())\n",
    "print('isprintable (no \\n like characters):', order.isprintable(), mult.isprintable())\n",
    "print('isspace (only spaces present):', order.isspace(), '  '.isspace())\n",
    "print('istitle (starting of every word is capital or not):', \n",
    "        'World Health Organization'.istitle(), 'Intro to Python'.istitle())\n",
    "print('title (converts a string into title):', 'python basics'.title())\n",
    "print('swapcase (upper to lower and vice-versa):', a.swapcase())"
   ]
  },
  {
   "cell_type": "markdown",
   "metadata": {},
   "source": [
    "## #14 if-else Conditionals\n",
    "Conditions: **$<, >, <=, >=, ==$.** After condition we use an indentation (tab) in the next line."
   ]
  },
  {
   "cell_type": "raw",
   "metadata": {},
   "source": [
    "age = int(input('input your age: '))\n",
    "print('Your age:', age)\n",
    "if age>18:\n",
    "    print('You can drive.')\n",
    "elif age==18:\n",
    "    print('Make your driving lisence.')\n",
    "else:\n",
    "    print('You can\\'t drive.')"
   ]
  },
  {
   "cell_type": "raw",
   "metadata": {},
   "source": [
    "data  = eval(input('Input the value to check the type: '))\n",
    "print('The value is', data)\n",
    "if type(data)==int:\n",
    "    print('It\\'s an integer.')\n",
    "elif type(data)==float:\n",
    "    print('It\\'s a float.')\n",
    "elif type(data)==complex:\n",
    "    print('It\\'s a complex number.')\n",
    "elif type(data)==str:\n",
    "    print('It\\'s a string.')\n",
    "elif type(data)==list:\n",
    "    print('It\\'s a list.')\n",
    "elif type(data)==tuple:\n",
    "    print('It\\'s a tuple.')\n",
    "elif type(data)==dict:\n",
    "    print('It\\'s a dictionary.')\n",
    "elif type(data)==bool:\n",
    "    print('It\\'s a boolean logic.')\n",
    "else:\n",
    "    print('I don\\'t know the data type.')"
   ]
  },
  {
   "cell_type": "raw",
   "metadata": {},
   "source": [
    "sleephours = eval(input('How many hours do you sleep in a day?'))\n",
    "print(sleephours, 'hours of sleep in a day.')\n",
    "if sleephours<=3:\n",
    "    print('Please take rest!')\n",
    "elif 3<sleephours<=9:\n",
    "    print('It\\'s good.')\n",
    "    if 3<sleephours<6.5:\n",
    "        print('Try to increase it by 1 hour.')\n",
    "    elif 6.5<=sleephours<8:\n",
    "        print('This duration is perfect!')\n",
    "    else:\n",
    "        print('Try to decrease it by 1 hour.')\n",
    "elif sleephours>9:\n",
    "    print('Aur kitna soyega!')\n",
    "else:\n",
    "    print('Please give your input again.')"
   ]
  },
  {
   "cell_type": "markdown",
   "metadata": {},
   "source": [
    "## #15 Exercise 2: Good Morning"
   ]
  },
  {
   "cell_type": "code",
   "execution_count": 11,
   "metadata": {},
   "outputs": [
    {
     "name": "stdout",
     "output_type": "stream",
     "text": [
      "The time is 16:54:45.\n",
      "hour: 16 , minutes: 54\n",
      "Good Afternoon!\n"
     ]
    }
   ],
   "source": [
    "import time\n",
    "\n",
    "timestamp = time.strftime('%H:%M:%S.')\n",
    "print('The time is', timestamp)\n",
    "timestamph= int(time.strftime('%H'))\n",
    "timestampm = int(time.strftime('%M'))\n",
    "print('hour:', timestamph, ', minutes:', timestampm)\n",
    "#timestamph = 0\n",
    "\n",
    "if 3<timestamph<12:\n",
    "    print('Good Morning!')\n",
    "elif 15<=timestamph<18:\n",
    "    print('Good Afternoon!')\n",
    "elif 18<=timestamph<=21:\n",
    "    print('Good Evening!')\n",
    "elif 21<timestamph<23 or 0<=timestamph<=3:\n",
    "    print('Good Night!')\n",
    "else:\n",
    "    print('Have a nice day!')"
   ]
  },
  {
   "cell_type": "markdown",
   "metadata": {},
   "source": [
    "## #16 Match Case Statements in Python\n",
    "Requires **Python 3.10** version."
   ]
  },
  {
   "cell_type": "raw",
   "metadata": {},
   "source": [
    "# see the .py file.\n",
    "x = int(input('enter an integer: '))\n",
    "\n",
    "match x:\n",
    "    case 0:\n",
    "        print('x is 0.')\n",
    "    case 4:\n",
    "        print('x is 4.')\n",
    "    case _:\n",
    "        print(x)"
   ]
  },
  {
   "cell_type": "markdown",
   "metadata": {},
   "source": [
    "## #17 for Loops"
   ]
  },
  {
   "cell_type": "code",
   "execution_count": 12,
   "metadata": {},
   "outputs": [
    {
     "name": "stdout",
     "output_type": "stream",
     "text": [
      "S\n",
      "Suman\n",
      "K\n",
      "P\n",
      "Pal\n"
     ]
    }
   ],
   "source": [
    "s2 = 'SKP'\n",
    "for s in s2:\n",
    "    print(s)\n",
    "    if s=='S':\n",
    "        print('Suman')\n",
    "    if s=='P':\n",
    "        print('Pal')"
   ]
  },
  {
   "cell_type": "code",
   "execution_count": 13,
   "metadata": {},
   "outputs": [
    {
     "name": "stdout",
     "output_type": "stream",
     "text": [
      "list\n",
      "61\n",
      "3.569\n",
      "(7+7j)\n",
      "\n",
      "Violet\n",
      "V\n",
      "i\n",
      "o\n",
      "l\n",
      "e\n",
      "t\n",
      "Indigo\n",
      "I\n",
      "n\n",
      "d\n",
      "i\n",
      "g\n",
      "o\n",
      "Blue\n",
      "B\n",
      "l\n",
      "u\n",
      "e\n",
      "Green\n",
      "G\n",
      "r\n",
      "e\n",
      "e\n",
      "n\n",
      "Yellow\n",
      "Y\n",
      "e\n",
      "l\n",
      "l\n",
      "o\n",
      "w\n",
      "Orange\n",
      "O\n",
      "r\n",
      "a\n",
      "n\n",
      "g\n",
      "e\n",
      "Red\n",
      "R\n",
      "e\n",
      "d\n"
     ]
    }
   ],
   "source": [
    "list2 = ['list', 61,3.569, 7+7j]\n",
    "for l in list2:\n",
    "    print(l)\n",
    "print()\n",
    "white = ['Violet', 'Indigo', 'Blue', 'Green', 'Yellow', 'Orange', 'Red']\n",
    "for color in white:\n",
    "    print(color)\n",
    "    for i in color:\n",
    "        print(i)"
   ]
  },
  {
   "cell_type": "code",
   "execution_count": 14,
   "metadata": {},
   "outputs": [
    {
     "name": "stdout",
     "output_type": "stream",
     "text": [
      "tuple\n",
      "2\n",
      "6.8\n",
      "(5-2j)\n"
     ]
    }
   ],
   "source": [
    "tuple2 = ('tuple',2,6.8,5-2j)\n",
    "for t in tuple2:\n",
    "    print(t)"
   ]
  },
  {
   "cell_type": "code",
   "execution_count": 15,
   "metadata": {},
   "outputs": [
    {
     "name": "stdout",
     "output_type": "stream",
     "text": [
      "a\n",
      "b\n",
      "c\n"
     ]
    }
   ],
   "source": [
    "dict2 = {'a':56, 'b':14, 'c':75}\n",
    "for d in dict2:\n",
    "    print(d)"
   ]
  },
  {
   "cell_type": "code",
   "execution_count": 16,
   "metadata": {},
   "outputs": [
    {
     "name": "stdout",
     "output_type": "stream",
     "text": [
      "1\n",
      "4\n",
      "9\n",
      "16\n",
      "25\n",
      "1\n",
      "2\n",
      "3\n",
      "4\n",
      "5\n",
      "12\n",
      "16\n",
      "20\n",
      "24\n",
      "28\n",
      "32\n",
      "36\n"
     ]
    }
   ],
   "source": [
    "for i in range(1, 6):\n",
    "    print(i**2)\n",
    "for k in range(5):\n",
    "    print(k+1)\n",
    "for i in range(12,40,4):\n",
    "    print(i)"
   ]
  },
  {
   "cell_type": "markdown",
   "metadata": {},
   "source": [
    "## #18 while Loops\n",
    "\n",
    "**9:20**: while loop to keep ants away!!!\n",
    "\n",
    "**do while**: The loop runs 1st time automatically. If the condition is the true, the loop continues running."
   ]
  },
  {
   "cell_type": "code",
   "execution_count": 17,
   "metadata": {},
   "outputs": [
    {
     "name": "stdout",
     "output_type": "stream",
     "text": [
      "1\n",
      "3\n",
      "5\n"
     ]
    }
   ],
   "source": [
    "i = 0\n",
    "while (i<5): # checks the condition after each iteration\n",
    "    print(i+1)\n",
    "    i = i+2"
   ]
  },
  {
   "cell_type": "raw",
   "metadata": {},
   "source": [
    "i = int(input('guess an integer greater than given limit:  '))\n",
    "while i<=120:\n",
    "    i = int(input('guess an integer greater than given limit:  '))\n",
    "    print('Your Guess:', i)\n",
    "\n",
    "print('Done with the loop. The upper limit was 120.')"
   ]
  },
  {
   "cell_type": "code",
   "execution_count": 18,
   "metadata": {},
   "outputs": [
    {
     "name": "stdout",
     "output_type": "stream",
     "text": [
      "5\n",
      "4\n",
      "3\n",
      "2\n",
      "1\n",
      "I am inside else.\n"
     ]
    }
   ],
   "source": [
    "count = 5 # input\n",
    "while (count>0):\n",
    "    print(count)\n",
    "    count = count -1\n",
    "else:\n",
    "    print('I am inside else.')"
   ]
  },
  {
   "cell_type": "code",
   "execution_count": 19,
   "metadata": {},
   "outputs": [
    {
     "name": "stdout",
     "output_type": "stream",
     "text": [
      "0\n",
      "1\n",
      "2\n",
      "3\n",
      "4\n",
      "5\n",
      "6\n",
      "7\n",
      "8\n",
      "9\n"
     ]
    }
   ],
   "source": [
    "# do while loop\n",
    "\n",
    "i = 0\n",
    "while True:\n",
    "    print(i)\n",
    "    i = i+1\n",
    "    if i%10==0:\n",
    "        break"
   ]
  },
  {
   "cell_type": "markdown",
   "metadata": {},
   "source": [
    "## #19 break and continue\n",
    "**break**: Leave the loop.\n",
    "\n",
    "**continue**: Leave the iteration."
   ]
  },
  {
   "cell_type": "code",
   "execution_count": 20,
   "metadata": {},
   "outputs": [
    {
     "name": "stdout",
     "output_type": "stream",
     "text": [
      "2 ^ 0 = 1\n",
      "2 ^ 1 = 2\n",
      "2 ^ 2 = 4\n",
      "2 ^ 3 = 8\n",
      "2 ^ 4 = 16\n",
      "skip the iteration\n",
      "2 ^ 6 = 64\n",
      "2 ^ 7 = 128\n",
      "2 ^ 8 = 256\n",
      "2 ^ 9 = 512\n",
      "2 ^ 10 = 1024\n",
      "skip the loop\n"
     ]
    }
   ],
   "source": [
    "for i in range(20):\n",
    "    if i==5:\n",
    "        print('skip the iteration')\n",
    "        continue\n",
    "    print('2 ^',i,'=', 2**i)\n",
    "    if i==10:\n",
    "        print('skip the loop')\n",
    "        break"
   ]
  },
  {
   "cell_type": "markdown",
   "metadata": {},
   "source": [
    "## #20 Functions\n",
    "2 types:\n",
    "1. built-in functions: print(), min(), max(), sum(), type(), range(), list(), tuple(), dict(), set() etc.\n",
    "2. user defined function."
   ]
  },
  {
   "cell_type": "code",
   "execution_count": 21,
   "metadata": {},
   "outputs": [
    {
     "name": "stdout",
     "output_type": "stream",
     "text": [
      "1.4285714285714286\n",
      "a = 3 \t b = 6\n",
      "second number is greater\n",
      "geometric mean = 2.0\n",
      "None\n"
     ]
    }
   ],
   "source": [
    "a, b = 5, 2\n",
    "gmean2 = (a*b)/(a+b)\n",
    "print(gmean2)\n",
    "\n",
    "def gmean2f(a, b):\n",
    "    print('a =', a, '\\t b =', b)\n",
    "    if a>b:\n",
    "        print('first number is greater')\n",
    "    elif a<b:\n",
    "        print('second number is greater')\n",
    "    else:\n",
    "        print('the numbers are equal')\n",
    "    gmean = (a*b)/(a+b)\n",
    "    print('geometric mean =', gmean)\n",
    "\n",
    "gmean2f(3,6)\n",
    "\n",
    "def fn1(x, y):\n",
    "    pass\n",
    "print(fn1(1,3))"
   ]
  },
  {
   "cell_type": "markdown",
   "metadata": {},
   "source": [
    "## #21 Function Arguments"
   ]
  },
  {
   "cell_type": "code",
   "execution_count": 22,
   "metadata": {},
   "outputs": [
    {
     "name": "stdout",
     "output_type": "stream",
     "text": [
      "a = 5 \t b = 10\n",
      "The average is 7.5\n",
      "a = 56 \t b = 10\n",
      "The average is 33.0\n",
      "a = 5 \t b = 16\n",
      "The average is 10.5\n",
      "a = 23 \t b = 65\n",
      "The average is 44.0\n",
      "a = 45 \t b = 12\n",
      "The average is 28.5\n"
     ]
    }
   ],
   "source": [
    "def average2(a=5, b=10): # Default values are given. We can change it.\n",
    "    print('a =', a, '\\t b =', b)\n",
    "    print('The average is', (a+b)/2)\n",
    "\n",
    "average2() # default arguments\n",
    "average2(56)\n",
    "average2(b=16)\n",
    "average2(23,65)\n",
    "average2(b=12, a=45)  # keyword arguments\n",
    "# no required arguments"
   ]
  },
  {
   "cell_type": "code",
   "execution_count": 23,
   "metadata": {},
   "outputs": [
    {
     "name": "stdout",
     "output_type": "stream",
     "text": [
      "<class 'tuple'>\n",
      "4.5\n",
      "<class 'dict'>\n",
      "Hello, Suman Kumar Pal\n"
     ]
    }
   ],
   "source": [
    "def average(*numbers):\n",
    "    print(type(numbers))\n",
    "    s = 0\n",
    "    for i in numbers:\n",
    "        s = s + i\n",
    "    return s/len(numbers) # return to calling function\n",
    "    return 0 # no use\n",
    "\n",
    "print(average(4,7,2,6,3,5))\n",
    "\n",
    "def name(**name):\n",
    "    print(type(name))\n",
    "    print('Hello,', name['first'], name['middle'], name['last'])\n",
    "\n",
    "name(first='Suman', middle='Kumar', last='Pal')"
   ]
  },
  {
   "cell_type": "markdown",
   "metadata": {},
   "source": [
    "## #22 Lists\n",
    "\n",
    "Slicing default: **a[0:len(a):1]**."
   ]
  },
  {
   "cell_type": "code",
   "execution_count": 24,
   "metadata": {},
   "outputs": [
    {
     "name": "stdout",
     "output_type": "stream",
     "text": [
      "[5, 3, 7, 9, 2, 6, 'skp', 0] <class 'list'> 8\n",
      "9\n",
      "negative indexing: 2 2\n",
      "0 is present.\n",
      "slicing: [5, 3, 7, 9, 2, 6, 'skp', 0] [9, 2, 6, 'skp'] [5, 3, 7, 9, 2, 6] [2, 6] [5, 7, 2, 'skp']\n",
      "list comprehension:\n",
      "[]\n",
      "[1, 2, 5, 10]\n",
      "[0, 4, 16, 36, 64]\n"
     ]
    }
   ],
   "source": [
    "l1 = [5,3,7,9,2,6, 'skp',0]\n",
    "print(l1, type(l1), len(l1))\n",
    "print(l1[3])\n",
    "print('negative indexing:', l1[-4], l1[len(l1)-4])\n",
    "\n",
    "if 0 in l1:\n",
    "    print('0 is present.')\n",
    "else:\n",
    "    print('0 is not present.')\n",
    "\n",
    "print('slicing:', l1[:100], l1[3:7], l1[:-2], l1[-4:-2], l1[::2])\n",
    "print('list comprehension:')\n",
    "l0 = []\n",
    "print(l0)\n",
    "l2 = [i**2+1 for i in range(4)]\n",
    "print(l2)\n",
    "l3 = [i**2 for i in range(10) if i%2==0]\n",
    "print(l3)"
   ]
  },
  {
   "cell_type": "markdown",
   "metadata": {},
   "source": [
    "## #23 List Methods"
   ]
  },
  {
   "cell_type": "code",
   "execution_count": 25,
   "metadata": {},
   "outputs": [
    {
     "name": "stdout",
     "output_type": "stream",
     "text": [
      "append: [7, 2, 9, 3, 9, 0, 0, 6, 0, 'str1', 8, 'str2', 7, 'new']\n",
      "[5, 8, 68, 3, 8, 0, 3, 85, 36]\n",
      "sort: [0, 3, 3, 5, 8, 8, 36, 68, 85]\n",
      "[64, 36, 16, 4, 0]\n",
      "reverse: ['new', 7, 'str2', 8, 'str1', 0, 6, 0, 0, 9, 3, 9, 2, 7]\n",
      "index: 5\n",
      "count: 3\n",
      "view and copy: ['changed', 5, 2, 6, 9, 0] ['changed', 5, 2, 6, 9, 0] [3, 5, 2, 6, 9, 0]\n",
      "insert: ['new', 7, 'str2', 8, 'str1', 'inserted in index 5', 0, 6, 0, 0, 9, 3, 9, 2, 7]\n",
      "extend: ['changed', 5, 2, 6, 9, 0, 100, 200, 300, 400]\n",
      "addition: ['changed', 5, 2, 6, 9, 0, 100, 200, 300, 400, 64, 36, 16, 4, 0]\n"
     ]
    }
   ],
   "source": [
    "l1 = [7,2,9,3,9,0,0,6,0,'str1',8,'str2',7]\n",
    "l1.append('new')\n",
    "print('append:', l1)\n",
    "\n",
    "l4 = [5,8,68,3,8,0,3,85,36]\n",
    "print(l4)\n",
    "l4.sort()\n",
    "print('sort:', l4)\n",
    "l3.sort(reverse=True)\n",
    "print(l3)\n",
    "l1.reverse()\n",
    "print('reverse:', l1)\n",
    "print('index:', l1.index(0)) # index of 0\n",
    "print('count:', l1.count(0))\n",
    "l2 = [3,5,2,6,9,0]\n",
    "l2p = l2  # view\n",
    "l2c = l2.copy() # copy\n",
    "l2[0] = 'changed'\n",
    "print('view and copy:', l2, l2p, l2c)\n",
    "l1.insert(5, 'inserted in index 5')\n",
    "print('insert:', l1)\n",
    "l2ex = [100,200,300,400]\n",
    "l2.extend(l2ex)\n",
    "print('extend:', l2)\n",
    "l23 = l2 + l3\n",
    "print('addition:', l23)"
   ]
  },
  {
   "cell_type": "markdown",
   "metadata": {},
   "source": [
    "## #24 Tuples\n",
    "It is immutable."
   ]
  },
  {
   "cell_type": "code",
   "execution_count": 26,
   "metadata": {},
   "outputs": [
    {
     "name": "stdout",
     "output_type": "stream",
     "text": [
      "(4,) <class 'tuple'> () <class 'tuple'>\n",
      "(5, 3, 6, 2, 'str1', (4-2j)) 2 6 6\n",
      "Yes.\n",
      "(5, 8, 3, 0, 8, 0, 6, 8, 2, 7, 9, 1)\n",
      "(0, 8, 0, 6, 8) (8, 0, 0, 8)\n",
      "copy: (5, 3, 6, 2, 'str1', (4-2j)) (3, 6, 2)\n"
     ]
    }
   ],
   "source": [
    "t1 = (4,)\n",
    "t0 = ()\n",
    "print(t1, type(t1), t0, type(t0))\n",
    "t2 = (5,3,6,2,'str1',4-2j)\n",
    "print(t2, t2[3], t2[-4], t2[len(t2)-4])\n",
    "if ('str1' in t2):\n",
    "    print('Yes.')\n",
    "else:\n",
    "    print('No.')\n",
    "t3 = (5,8,3,0,8,0,6,8,2,7,9,1)\n",
    "print(t3)\n",
    "print(t3[3:8], t3[1:9:2])\n",
    "t2c = t2[1:4]\n",
    "print('copy:', t2, t2c)"
   ]
  },
  {
   "cell_type": "markdown",
   "metadata": {},
   "source": [
    "## #25 Tuple Methods\n",
    "Tuples can't be changed directly. We can manipulate it by changing it into a list."
   ]
  },
  {
   "cell_type": "code",
   "execution_count": 27,
   "metadata": {},
   "outputs": [
    {
     "name": "stdout",
     "output_type": "stream",
     "text": [
      "('USA', 'Russia', 'India', 'England', 'China')\n",
      "['USA', 'Russia', 'India', 'England', 'China']\n",
      "['USA', 'Russia', 'India', 'France', 'Germany']\n",
      "('USA', 'Russia', 'India', 'France', 'Germany')\n",
      "('Israel', 'Japan', 'Spain')\n",
      "merge: ('USA', 'Russia', 'India', 'France', 'Germany', 'Israel', 'Japan', 'Spain')\n",
      "count (of an element in a tuple): 2\n",
      "(5, 8, 3, 0, 8, 0, 6, 8, 2, 7, 9, 1) 12\n",
      "index: 2 5\n"
     ]
    }
   ],
   "source": [
    "countries = ('USA', 'Russia', 'India', 'England', 'China')\n",
    "temp = list(countries) # converting into a list\n",
    "print(countries, temp, sep='\\n')\n",
    "temp.append('Germany') # adding a str at the end of the list\n",
    "temp.pop(3)  # removing str in temp[3]\n",
    "temp[3] = 'France' # changing a str\n",
    "countries = tuple(temp)\n",
    "print(temp, countries, sep='\\n')\n",
    "\n",
    "countriesp = ('Israel', 'Japan', 'Spain')\n",
    "print(countriesp)\n",
    "print('merge:', countries + countriesp)\n",
    "\n",
    "res = t3.index(0)\n",
    "res = t3.count(0)\n",
    "print('count (of an element in a tuple):', res)\n",
    "print(t3, len(t3))\n",
    "res1 = t3.index(0, 4, 10) # finding in a range by slicing\n",
    "print('index:', res, res1)"
   ]
  },
  {
   "cell_type": "markdown",
   "metadata": {},
   "source": [
    "## #26 Exercise 2: Solution"
   ]
  },
  {
   "cell_type": "code",
   "execution_count": 28,
   "metadata": {},
   "outputs": [
    {
     "name": "stdout",
     "output_type": "stream",
     "text": [
      "16:54:46 <class 'str'>\n",
      "16 <class 'str'> 16 <class 'int'>\n",
      "Good Afternoon!\n"
     ]
    }
   ],
   "source": [
    "import time\n",
    "t = time.strftime('%H:%M:%S')\n",
    "print(t, type(t))\n",
    "hour = time.strftime('%H')\n",
    "hr = int(hour)\n",
    "print(hour, type(hour), hr, type(hr))\n",
    "\n",
    "if (hr>0 and hr<12):\n",
    "    print('Good Morning!')\n",
    "elif (hr>12 and hr<17):\n",
    "    print('Good Afternoon!')\n",
    "elif (hr>17 and hr<0):\n",
    "    print('Good Night!')"
   ]
  },
  {
   "cell_type": "markdown",
   "metadata": {},
   "source": [
    "## #27 Exercise 3: Kaun Banega Crorepati (KBC)\n",
    "Create a program capable of displaying questions to the user like KBC.\n",
    "1. Use list data type to store and their correct answers.\n",
    "2. Display the final amount the person is taking home after playing the game."
   ]
  },
  {
   "cell_type": "raw",
   "metadata": {},
   "source": [
    "qs1 = ['What do we use in python to have a better controls on data than excel?',\n",
    "        'numpy', 'numba', 'pandas', 'seaborn']\n",
    "ans1, corropt1 = qs1[3], 3\n",
    "qs2 = ['Which branch of physics is related to god particles?',\n",
    "       'astrophysics', 'condensed matter physics', 'geophysics', 'higher energy physics']\n",
    "ans2, corropt2 = qs2[4], 4\n",
    "qs3 = ['Which of these is the fastest?',\n",
    "       'c-python', 'jython', 'pypy', 'java']\n",
    "ans3, corropt3 = qs3[3], 3\n",
    "qs4 = ['Which is considered to be a middle level language?',\n",
    "       'c', 'c++', 'java', 'assembly langauge']\n",
    "ans4, corropt4 = qs4[1], 1\n",
    "qs5 = ['Konsi saal Ohio ne \\'Shreya Ghoshal Day\\' announce kiya hai?',\n",
    "       '2009', '2010', '2011', '2012']\n",
    "ans5, corropt5 = qs5[2], 2\n",
    "qs6 = ['Inme se kisko marne ke baad bharatratna diya gaya hai?',\n",
    "       'C. V. Raman', 'Rajiv Gandhi', 'Indira Gandhi', 'Laal Bahadur Shastri']\n",
    "ans6, corropt6 = qs6[2], 2\n",
    "qs7 = ['Who first used matrix formulations in quantum mechanics?',\n",
    "       'Werner Heisenberg', 'Erwin Schrodinger', 'Paul Dirac', 'Louis de Broglie']\n",
    "ans7, corropt7 = qs7[1], 1\n",
    "qs8 = ['Who ranked 3rd among Times top persons in 20th century?',\n",
    "       'A. Hitler', 'A. Einstein', 'Roosevelt', 'M. K. Gandhi']\n",
    "ans8, corropt8 = qs8[4], 4\n",
    "qs9 = ['In Bollywood, who holds the record for recording maximum songs in a day?',\n",
    "       'Kumar Sanu', 'Udit Narayan', 'Arijit Singh', 'Kishore Kumar']\n",
    "ans9, corropt9 = qs9[1], 1\n",
    "qs10 = ['What was Einstein\\'s age at the time of his death?',\n",
    "        '73', '76', '79', '82']\n",
    "ans10, corropt10 = qs10[2], 2\n",
    "\n",
    "qs = [qs1, qs2, qs3, qs4, qs5, qs6, qs7, qs8, qs9, qs10]\n",
    "ans = [ans1, ans2, ans3, ans4, ans5, ans6, ans7, ans8, ans9, ans10]\n",
    "corropt = [corropt1, corropt2, corropt3, corropt4, corropt5, corropt6, corropt7, \n",
    "           corropt8, corropt9, corropt10]\n",
    "\n",
    "print('''Devioyon aur sajjano, Kaun banega crorepati mein aap sab ka swagat hai. \n",
    "Soch samajh ke jawab dijiyega. Sahi jawab ke liye apko paisa milega\n",
    "aur galat jawab ke liye apke balance mein se paisa ghatega.\n",
    "Welcome to KBC.''')\n",
    "\n",
    "balance = 0\n",
    "starting_reward = int(input('Please select starting reward. 500/5000/50000: '))\n",
    "\n",
    "for i in range(len(ans)):\n",
    "    rs1 = starting_reward*(i+1)\n",
    "    print('\\nsawal', rs1,'rs ke liye:\\n', qs[i][0])\n",
    "    for opt in range(1,5):\n",
    "        print(opt, qs[i][opt])\n",
    "    a = int(input('enter 1, 2, 3, 4: '))\n",
    "    if a==corropt[i]:\n",
    "        print(ans[i], 'is the correct answer. Aur app jite hai', rs1, 'rs.')\n",
    "        balance += rs1\n",
    "    else:\n",
    "        print(ans[i], 'is the correct answer.')\n",
    "        balance += -rs1/2\n",
    "    print('\\tbalance =', balance, 'rs.')\n",
    "\n",
    "print('\\nTotal winning amount:', balance, 'rs.', \n",
    "      '\\nItna paisa nahi hai bhai. Bachchan Saab ke paas jao. Wo de denge.')"
   ]
  },
  {
   "cell_type": "markdown",
   "metadata": {},
   "source": [
    "## #28 f-strings\n",
    "The operations done by *format* can be done more easily using **f-strings**. It was introduced in python 3.6."
   ]
  },
  {
   "cell_type": "code",
   "execution_count": 29,
   "metadata": {},
   "outputs": [
    {
     "name": "stdout",
     "output_type": "stream",
     "text": [
      "Hey my name is {1} and I am from {0}.\n",
      "Hey my name is Suman Kumar Pal and I am from West Bengal, India.\n",
      "Hey my name is Suman Kumar Pal and I am from West Bengal, India\n",
      "pi = 3.141592653589793\n",
      "Value of pi upto 4 decimals is  3.1416.\n",
      "Value of pi upto 7 decimals is 3.1415927.\n",
      "<class 'str'>\n",
      "We use f-strings like this: Value of pi upto 4 decimals is {pi_value: 0.4f}.\n"
     ]
    }
   ],
   "source": [
    "str1 = 'Hey my name is {1} and I am from {0}.'\n",
    "print(str1)\n",
    "myname = 'Suman Kumar Pal'\n",
    "address = 'West Bengal, India'\n",
    "print(str1.format(address, myname))\n",
    "print(f'Hey my name is {myname} and I am from {address}')\n",
    "pival = 3.141592653589793\n",
    "print('pi =', pival)\n",
    "pivalstr = 'Value of pi upto 4 decimals is {pi_value: 0.4f}.'\n",
    "print(pivalstr.format(pi_value=pival))\n",
    "print(f'Value of pi upto 7 decimals is {pival:0.7f}.')\n",
    "print(type(f'We can do calculations inside strings by using this. Ex. {2*63-45*3}.'))\n",
    "print(f'We use f-strings like this: Value of pi upto 4 decimals is {{pi_value: 0.4f}}.')"
   ]
  },
  {
   "cell_type": "markdown",
   "metadata": {},
   "source": [
    "## #29 DocStrings\n",
    "Python ignores the comments but it gives a special treatment to docstrings. It can be accessed by **`__doc__`** attribute. Docstrings can also effect the output sometime. We can give description of a function using docstrings just before or after the first line (i.e. `def fuction():` line).\n",
    "\n",
    "**PEP 8**:\n",
    "It's a document that proposes guidelines and best practices on how to write python code. The full form is Python Enhancement Proposal.\n",
    "\n",
    "Run in command prompt:\n",
    "1. python\n",
    "2. import this (Get *The Zen of Python* poem)"
   ]
  },
  {
   "cell_type": "code",
   "execution_count": 30,
   "metadata": {},
   "outputs": [
    {
     "name": "stdout",
     "output_type": "stream",
     "text": [
      "625\n",
      "Takes a number n and returns the square of n\n"
     ]
    }
   ],
   "source": [
    "def square(n):\n",
    "    'Takes a number n and returns the square of n' # docstring\n",
    "    print(n**2)\n",
    "square(25)\n",
    "print(square.__doc__)"
   ]
  },
  {
   "cell_type": "markdown",
   "metadata": {},
   "source": [
    "## #30 Recursion\n",
    "It's a process of defining something in terms of itself."
   ]
  },
  {
   "cell_type": "code",
   "execution_count": 31,
   "metadata": {},
   "outputs": [
    {
     "name": "stdout",
     "output_type": "stream",
     "text": [
      "5040\n",
      "Fibonacci number:\n",
      "n = 0 , Fibonacci_num = 0\n",
      "n = 1 , Fibonacci_num = 1\n",
      "n = 2 , Fibonacci_num = 1\n",
      "n = 3 , Fibonacci_num = 2\n",
      "n = 4 , Fibonacci_num = 3\n",
      "n = 5 , Fibonacci_num = 5\n",
      "n = 6 , Fibonacci_num = 8\n",
      "n = 7 , Fibonacci_num = 13\n",
      "n = 8 , Fibonacci_num = 21\n",
      "n = 9 , Fibonacci_num = 34\n"
     ]
    }
   ],
   "source": [
    "# code for factorial\n",
    "# factorial(n) = n* factorial(n-1)\n",
    "def factorial(n):\n",
    "    if n==0 or n==1:\n",
    "        return 1\n",
    "    else:\n",
    "        return n* factorial(n-1)\n",
    "print(factorial(7))\n",
    "\n",
    "# quick quiz\n",
    "print('Fibonacci number:')\n",
    "def Fibonacci_num(n):\n",
    "    if n==0:\n",
    "        return 0\n",
    "    elif n==1:\n",
    "        return 1\n",
    "    else:\n",
    "        return Fibonacci_num(n-1)+Fibonacci_num(n-2)\n",
    "for i in range(10):\n",
    "    print('n =', i, ', Fibonacci_num =', Fibonacci_num(i))"
   ]
  },
  {
   "cell_type": "markdown",
   "metadata": {},
   "source": [
    "## #31 Sets\n",
    "Set is a (unordered) collection of well defined objects. Sets are unchangeable. Sets don't contain duplicate items. As the order is not maintained in sets, we can use indexing and slicing."
   ]
  },
  {
   "cell_type": "code",
   "execution_count": 32,
   "metadata": {},
   "outputs": [
    {
     "name": "stdout",
     "output_type": "stream",
     "text": [
      "{0, True, 2, 3, 6, 7, 9, 'skp', (5+6j)} <class 'set'>\n",
      "<class 'dict'> <class 'set'>\n",
      "0\n",
      "True\n",
      "2\n",
      "3\n",
      "6\n",
      "7\n",
      "9\n",
      "skp\n",
      "(5+6j)\n"
     ]
    }
   ],
   "source": [
    "set1 = {3,6,2,9,3,0,1+6,5+6j,'skp',True}\n",
    "print(set1, type(set1))\n",
    "emp1 = {}\n",
    "emp2 = set()\n",
    "print(type(emp1), type(emp2))\n",
    "for value in set1:\n",
    "    print(value)"
   ]
  },
  {
   "cell_type": "markdown",
   "metadata": {},
   "source": [
    "## #32 Set Methods\n",
    "1. symmetric difference: $A\\cup B - A\\cap B$.\n",
    "2. difference: $A-B$.\n",
    "3. disjoint: $A-B=0$.\n",
    "4. superset: $A$ contains $B$.\n",
    "5. subset: $A$ is contained in $B$.\n",
    "6. remove vs discard: If the item we want to delete is not present in the set, remove shows error but discard shows no errors here.\n",
    "7. pop: Deletes a random value. We can access that value."
   ]
  },
  {
   "cell_type": "code",
   "execution_count": 33,
   "metadata": {},
   "outputs": [
    {
     "name": "stdout",
     "output_type": "stream",
     "text": [
      "{0, 2, 5, 6, (1+3j), 'skp'} {0, 2, 3, 7, 8, 9, 'skp', 12} {0, 1, 2, 3, 7}\n",
      "union: {0, 2, 3, 5, 6, 7, 8, 9, (1+3j), 'skp', 12}\n",
      "{0, 2, 5, 6, (1+3j), 'skp'}\n",
      "update: {0, 2, 3, 5, 6, 7, 8, 9, (1+3j), 'skp', 12}\n",
      "intersection: {0, 2, 3, 7, 8, 9, 'skp', 12}\n",
      "{0, 2, 3, 5, 6, 7, 8, 9, (1+3j), 'skp', 12}\n",
      "intersection_update: {0, 2, 3, 7, 8, 9, 'skp', 12}\n",
      "\n",
      "symmetric_difference: {1, 8, 9, 'skp', 12}\n",
      "symmetric_difference_update: set()\n",
      "difference: {8, 9, 'skp', 12}\n",
      "difference_update: {8, 9, 'skp', 12}\n",
      "\n",
      "isdisjoint: True\n",
      "issuperset: True\n",
      "issubset: True\n",
      "set()\n",
      "add: {2}\n",
      "{0, 1, 2, 3, 7}\n",
      "remove: {1, 2, 3, 7}\n",
      "{8, 9, 'skp', 12}\n",
      "discard: {8, 9, 'skp', 12}\n",
      "pop: {9, 'skp', 12} 8\n",
      "set1 is deleted.\n",
      "clear: set()\n",
      "set3 don't contain 0.\n"
     ]
    }
   ],
   "source": [
    "set1 = {2,0,5,0,6,'skp', 1+3j}\n",
    "set2 = {2,8,3,9,7,0,12,'skp'}\n",
    "set3 = {0,1,2,3,7}\n",
    "print(set1, set2, set3)\n",
    "print('union:', set1.union(set2))\n",
    "print(set1)\n",
    "set1.update(set2)\n",
    "print('update:', set1)\n",
    "print('intersection:', set1.intersection(set2))\n",
    "print(set1)\n",
    "set1.intersection_update(set2)\n",
    "print('intersection_update:', set1)\n",
    "\n",
    "set2sd3 = set2.symmetric_difference(set3)\n",
    "print('\\nsymmetric_difference:', set2sd3)\n",
    "set1.symmetric_difference_update(set2)\n",
    "print('symmetric_difference_update:', set1)\n",
    "set2d3 = set2.difference(set3)\n",
    "print('difference:', set2d3)\n",
    "set2.difference_update(set3)\n",
    "print('difference_update:', set2)\n",
    "\n",
    "print('\\nisdisjoint:', set2.isdisjoint(set3))\n",
    "print('issuperset:', set2.issuperset(set1))\n",
    "print('issubset:', set1.issubset(set3))\n",
    "\n",
    "print(set1)\n",
    "set1.add(2)\n",
    "print('add:', set1)\n",
    "print(set3)\n",
    "set3.remove(0)\n",
    "print('remove:', set3)\n",
    "print(set2)\n",
    "set2.discard(0)\n",
    "print('discard:', set2)\n",
    "item = set2.pop()\n",
    "print('pop:', set2, item)\n",
    "del set1\n",
    "print('set1 is deleted.')\n",
    "set2.clear()\n",
    "print('clear:', set2)\n",
    "if 0 in set3:\n",
    "    print('set3 contains 0.')\n",
    "else:\n",
    "    print('set3 don\\'t contain 0.')"
   ]
  },
  {
   "cell_type": "markdown",
   "metadata": {},
   "source": [
    "## #33 dictionaries\n",
    "Dictionaries are ordered from python 3.7 onwards."
   ]
  },
  {
   "cell_type": "code",
   "execution_count": 34,
   "metadata": {},
   "outputs": [
    {
     "name": "stdout",
     "output_type": "stream",
     "text": [
      "skp\n",
      "{'c': 'speed of light', 'G': 'gravitational constant', 'h': \"Planck's constant\"}\n",
      "Planck's constant\n",
      "None\n",
      "keys: dict_keys(['c', 'G', 'h']) <class 'dict_keys'>\n",
      "values: dict_values(['speed of light', 'gravitational constant', \"Planck's constant\"]) <class 'dict_values'>\n",
      "speed of light\n",
      "gravitational constant\n",
      "Planck's constant\n",
      "The value corresponding to the key c is speed of light.\n",
      "The value corresponding to the key G is gravitational constant.\n",
      "The value corresponding to the key h is Planck's constant.\n",
      "items: dict_items([('c', 'speed of light'), ('G', 'gravitational constant'), ('h', \"Planck's constant\")]) <class 'dict_items'>\n",
      "c speed of light\n",
      "G gravitational constant\n",
      "h Planck's constant\n"
     ]
    }
   ],
   "source": [
    "print(dict1['string'])\n",
    "dict2 = {'c': 'speed of light', 'G': 'gravitational constant', \n",
    "        'h': 'Planck\\'s constant'}\n",
    "print(dict2)\n",
    "print(dict2['h'])\n",
    "#print(dict2['a']) # KeyError\n",
    "print(dict2.get('a'))\n",
    "print('keys:', dict2.keys(), type(dict2.keys()))\n",
    "print('values:', dict2.values(), type(dict2.values()))\n",
    "for key in dict2.keys():\n",
    "    print(dict2[key])\n",
    "for key in dict2.keys():\n",
    "    print(f'The value corresponding to the key {key} is {dict2[key]}.')\n",
    "print('items:', dict2.items(), type(dict2.items()))\n",
    "for key, val in dict2.items():\n",
    "    print(key, val)"
   ]
  },
  {
   "cell_type": "markdown",
   "metadata": {},
   "source": [
    "## #34 dictionary methods"
   ]
  },
  {
   "cell_type": "code",
   "execution_count": 35,
   "metadata": {},
   "outputs": [
    {
     "name": "stdout",
     "output_type": "stream",
     "text": [
      "dict_keys(['c', 'G', 'h', 'hcut', 'e0', 'mu0', 'R'])\n",
      "clear: {}\n",
      "pop: dict_keys(['c', 'G', 'h', 'e0', 'mu0', 'R'])\n",
      "popitem: dict_keys(['c', 'G', 'h', 'e0', 'mu0'])\n",
      "dict2a is deleted.\n",
      "dict_keys(['c', 'G', 'h'])\n",
      "Google python dictionary documentation.\n"
     ]
    }
   ],
   "source": [
    "dict2a = {'hcut': 'reduced Planck\\'s constant', \n",
    "        'e0': 'absolute permittivity', 'mu0': 'absolute permeability',\n",
    "        'R': 'universal gas constant'}\n",
    "dict2.update(dict2a)\n",
    "print(dict2.keys())\n",
    "dict2a.clear()\n",
    "print('clear:', dict2a)\n",
    "dict2.pop('hcut')\n",
    "print('pop:', dict2.keys())\n",
    "dict2.popitem() # pops the last item\n",
    "print('popitem:', dict2.keys())\n",
    "del dict2a\n",
    "print('dict2a is deleted.')\n",
    "del dict2['e0']\n",
    "del dict2['mu0']\n",
    "print(dict2.keys())\n",
    "print('Google python dictionary documentation.')"
   ]
  },
  {
   "cell_type": "markdown",
   "metadata": {},
   "source": [
    "## #35 for loop with else\n",
    "`else` loop can also be used along with `for` loops and `while` loops. If loop ends successfully, `else` is executed. But if we have `break` in the loop, `else` is not executed."
   ]
  },
  {
   "cell_type": "code",
   "execution_count": 36,
   "metadata": {},
   "outputs": [
    {
     "name": "stdout",
     "output_type": "stream",
     "text": [
      "No more elt is present.\n",
      "0\n",
      "1\n",
      "2\n",
      "3\n",
      "4\n",
      "\n",
      "2\n",
      "3\n",
      "4\n",
      "5\n",
      "6\n",
      "else is executing\n",
      "2\n",
      "3\n",
      "4\n",
      "iteration no. 1 in for loop\n",
      "iteration no. 2 in for loop\n",
      "iteration no. 3 in for loop\n",
      "iteration no. 4 in for loop\n",
      "iteration no. 5 in for loop\n",
      "else block in loop\n",
      "out of loop\n",
      "iteration no. 1 in for loop\n",
      "iteration no. 2 in for loop\n",
      "iteration no. 3 in for loop\n",
      "iteration no. 4 in for loop\n",
      "out of loop\n"
     ]
    }
   ],
   "source": [
    "for elt in range(0):\n",
    "    print(elt)\n",
    "else:\n",
    "    print('No more elt is present.')\n",
    "\n",
    "for i in range(100):\n",
    "    print(i)\n",
    "    if i==4:\n",
    "        break\n",
    "else:\n",
    "    print('else is executing.')\n",
    "\n",
    "print('')\n",
    "i = 2\n",
    "while i<7:\n",
    "    print(i)\n",
    "    i = i+1\n",
    "else:\n",
    "    print('else is executing')\n",
    "i = 2\n",
    "while i<7:\n",
    "    print(i)\n",
    "    i = i+1\n",
    "    if i==5:\n",
    "        break\n",
    "else:\n",
    "    print('else is executing')\n",
    "\n",
    "for x in range(5):\n",
    "    print('iteration no. {} in for loop'.format(x+1))\n",
    "else:\n",
    "    print('else block in loop')\n",
    "print('out of loop')\n",
    "for x in range(5):\n",
    "    print('iteration no. {} in for loop'.format(x+1))\n",
    "    if x==3:\n",
    "        break\n",
    "else:\n",
    "    print('else block in loop')\n",
    "print('out of loop')"
   ]
  },
  {
   "cell_type": "markdown",
   "metadata": {},
   "source": [
    "## #36 Exception Handling\n",
    "try, except is used here."
   ]
  },
  {
   "cell_type": "raw",
   "metadata": {},
   "source": [
    "try:\n",
    "    a = int(input('enter a number to get multiplication table: '))\n",
    "    print(f'Multiplication table of {a} is:')\n",
    "\n",
    "    for i in range(1,11):\n",
    "        print(f'{a} X {i} = {a*i}')\n",
    "except Exception as e:\n",
    "     print('Error in the code:', e)\n",
    "# except:\n",
    "#     print('Error is occured here!')\n",
    "\n",
    "try:\n",
    "    a = int('j')\n",
    "except IndexError:\n",
    "    print('index error here.')\n",
    "except ValueError:\n",
    "    print('value error here.')\n",
    "\n",
    "print('Some lines of code.')\n",
    "print('End of program.')"
   ]
  },
  {
   "cell_type": "markdown",
   "metadata": {},
   "source": [
    "## #37 finally Keyword"
   ]
  },
  {
   "cell_type": "code",
   "execution_count": 37,
   "metadata": {},
   "outputs": [
    {
     "name": "stdout",
     "output_type": "stream",
     "text": [
      "['new', 7, 'str2', 8, 'str1', 'inserted in index 5', 0, 6, 0, 0, 9, 3, 9, 2, 7]\n",
      "Error!: list index out of range\n",
      "It is always executed.\n",
      "It is also executed here.\n",
      "\n",
      "['new', 7, 'str2', 8, 'str1', 'inserted in index 5', 0, 6, 0, 0, 9, 3, 9, 2, 7]\n",
      "Some error ocurred.\n",
      "It is always executed (even after return!).\n",
      "0\n"
     ]
    }
   ],
   "source": [
    "try:\n",
    "    print(l1)\n",
    "    print(l1[15])\n",
    "except Exception as e:\n",
    "    print('Error!:', e)\n",
    "finally:\n",
    "    print('It is always executed.')\n",
    "print('It is also executed here.')\n",
    "print('')\n",
    "\n",
    "def func1():\n",
    "    try:\n",
    "        print(l1)\n",
    "        print(l1[15])\n",
    "        return 1\n",
    "    except:\n",
    "        print('Some error ocurred.')\n",
    "        return 0\n",
    "    finally:\n",
    "        print('It is always executed (even after return!).') # executed\n",
    "    print('Check if it\\'s executed or not') # not executed\n",
    "print(func1())"
   ]
  },
  {
   "cell_type": "markdown",
   "metadata": {},
   "source": [
    "## #38 Raising custom errors (**raise**)"
   ]
  },
  {
   "cell_type": "code",
   "execution_count": 38,
   "metadata": {},
   "outputs": [],
   "source": [
    "a = int('8')\n",
    "if a<5 or a>9:\n",
    "    raise ValueError('Value should be between 5 to 10.')\n",
    "\n",
    "str2 = 'abc'\n",
    "if str2 =='stop':\n",
    "    raise ValueError('Program is stopped.')"
   ]
  },
  {
   "cell_type": "markdown",
   "metadata": {},
   "source": [
    "## #39 Exercise 3 solution"
   ]
  },
  {
   "cell_type": "raw",
   "metadata": {},
   "source": [
    "qs = [['What do we use in python to have a better controls on data than excel?',\n",
    "  'numpy',\n",
    "  'numba',\n",
    "  'pandas',\n",
    "  'seaborn', 3],\n",
    " ['Which branch of physics is related to god particles?',\n",
    "  'astrophysics',\n",
    "  'condensed matter physics',\n",
    "  'geophysics',\n",
    "  'higher energy physics', 4],\n",
    " ['Which of these is the fastest?', 'c-python', 'jython', 'pypy', 'java', 3],\n",
    " ['Which is considered to be a middle level language?',\n",
    "  'c',\n",
    "  'c++',\n",
    "  'java',\n",
    "  'assembly langauge', 1],\n",
    " [\"Konsi saal Ohio ne 'Shreya Ghoshal Day' announce kiya hai?\",\n",
    "  '2009',\n",
    "  '2010',\n",
    "  '2011',\n",
    "  '2012', 2],\n",
    " ['Inme se kisko marne ke baad bharatratna diya gaya hai?',\n",
    "  'C. V. Raman',\n",
    "  'Rajiv Gandhi',\n",
    "  'Indira Gandhi',\n",
    "  'Laal Bahadur Shastri', 2],\n",
    " ['Who first used matrix formulations in quantum mechanics?',\n",
    "  'Werner Heisenberg',\n",
    "  'Erwin Schrodinger',\n",
    "  'Paul Dirac',\n",
    "  'Louis de Broglie', 1],\n",
    " ['Who ranked 3rd among Times top persons in 20th century?',\n",
    "  'A. Hitler',\n",
    "  'A. Einstein',\n",
    "  'Roosevelt',\n",
    "  'M. K. Gandhi', 4],\n",
    " ['In Bollywood, who holds the record for recording maximum songs in a day?',\n",
    "  'Kumar Sanu',\n",
    "  'Udit Narayan',\n",
    "  'Arijit Singh',\n",
    "  'Kishore Kumar', 1],\n",
    " [\"What was Einstein's age at the time of his death?\", '73', '76', '79', '82', 2]]\n",
    "\n",
    "levels = [1000, 2000, 3000, 5000, 10000, 20000, 40000, 80000, 160000, 320000]\n",
    "money = 0\n",
    "i = 0\n",
    "for i in range(0, len(qs)):\n",
    "    q = qs[i]\n",
    "    print(f'\\nQuestion for Rs. {levels[i]}')\n",
    "    print(f'Question {i+1}: {q[0]}')\n",
    "    print(f'a. {q[1]} \\t b. {q[2]}')\n",
    "    print(f'c. {q[3]} \\t d. {q[4]}')\n",
    "    reply = int(input('enter your answer (1/2/3/4) or 0 to quit: '))\n",
    "    if reply == 0:\n",
    "        money = levels[i-1]\n",
    "        break\n",
    "    if reply == q[-1]:\n",
    "        print(f'Correct answer, you have won Rs. {levels[i]}')\n",
    "        if i==4:\n",
    "            money = 10000\n",
    "        elif i == 9:\n",
    "            money = 320000\n",
    "    else:\n",
    "        print('Wrong answer')\n",
    "        break\n",
    "print(f'Your take home money is {money}.')"
   ]
  },
  {
   "cell_type": "markdown",
   "metadata": {},
   "source": [
    "## #40 Exercise 4: Secret Code Language\n",
    "Write a program to translate a message into secret code language. Use the rules below to translate normal english into secret code language:\n",
    "\n",
    "Coding:\n",
    "1. if the word contains atleast 3 characters, remove the first letter and append it at the end. Now append 3 random characters at the starting and the end.\n",
    "3. else: simply reverse the string.\n",
    "\n",
    "Decoding:\n",
    "1. if the word contains less than 3 characters, reverse it.\n",
    "2. else: remove 3 random characters from start and end. Now remove the last letter and append it to the beginning."
   ]
  },
  {
   "cell_type": "code",
   "execution_count": null,
   "metadata": {},
   "outputs": [],
   "source": []
  },
  {
   "cell_type": "markdown",
   "metadata": {},
   "source": [
    "## #41 Short hand if else statements\n",
    "It's not useful for long codes. Use it only for short codes."
   ]
  },
  {
   "cell_type": "code",
   "execution_count": 39,
   "metadata": {},
   "outputs": [
    {
     "name": "stdout",
     "output_type": "stream",
     "text": [
      "A\n",
      "A\n",
      "9\n"
     ]
    }
   ],
   "source": [
    "a = 330\n",
    "b = 33\n",
    "print('A') if a>b else print('=') if a==b else print('B')\n",
    "if a>b:\n",
    "    print('A')\n",
    "elif a==b:\n",
    "    print('=')\n",
    "else:\n",
    "    print('B')\n",
    "\n",
    "c = 9 if a>b else 0\n",
    "print(c)"
   ]
  },
  {
   "cell_type": "markdown",
   "metadata": {},
   "source": [
    "## #42 enumerate\n",
    "Google *linter*. We can see elements in a list, string, tuple etc. with the corresponding index using **`enumerate`**."
   ]
  },
  {
   "cell_type": "code",
   "execution_count": 40,
   "metadata": {},
   "outputs": [
    {
     "name": "stdout",
     "output_type": "stream",
     "text": [
      "[24, 54, 62, 24, 76, 84, 25, 56, 73]\n",
      "24\n",
      "54\n",
      "62\n",
      "24\n",
      "The value here is 24.\n",
      "76\n",
      "84\n",
      "25\n",
      "56\n",
      "73\n",
      "\n",
      "enumerate(list3, 11):\n",
      "11: 24\n",
      "12: 54\n",
      "13: 62\n",
      "14: 24\n",
      "15: 76\n",
      "16: 84\n",
      "17: 25\n",
      "18: 56\n",
      "19: 73\n"
     ]
    }
   ],
   "source": [
    "list3 = [24,54,62,24,76,84,25,56,73]\n",
    "index = 0\n",
    "print(list3)\n",
    "for l in list3:\n",
    "    print(l)\n",
    "    if index ==3:\n",
    "        print(f'The value here is {list3[3]}.')\n",
    "    index += 1\n",
    "\n",
    "print('\\nenumerate(list3, 11):')\n",
    "\n",
    "for index, mark in enumerate(list3, 11):\n",
    "    print(f'{index}: {mark}')"
   ]
  },
  {
   "cell_type": "markdown",
   "metadata": {},
   "source": [
    "## #43 Virtual Environment"
   ]
  },
  {
   "cell_type": "code",
   "execution_count": 41,
   "metadata": {},
   "outputs": [],
   "source": [
    "## watch it later."
   ]
  },
  {
   "cell_type": "markdown",
   "metadata": {},
   "source": [
    "## #44 import\n",
    "To import a defined function from a file, the file name should not contain spaces and the file should be a .py file (not .ipynb file). The imported file should be in same folder."
   ]
  },
  {
   "cell_type": "code",
   "execution_count": 42,
   "metadata": {},
   "outputs": [
    {
     "name": "stdout",
     "output_type": "stream",
     "text": [
      "['__doc__', '__loader__', '__name__', '__package__', '__spec__', 'acos', 'acosh', 'asin', 'asinh', 'atan', 'atan2', 'atanh', 'ceil', 'comb', 'copysign', 'cos', 'cosh', 'degrees', 'dist', 'e', 'erf', 'erfc', 'exp', 'expm1', 'fabs', 'factorial', 'floor', 'fmod', 'frexp', 'fsum', 'gamma', 'gcd', 'hypot', 'inf', 'isclose', 'isfinite', 'isinf', 'isnan', 'isqrt', 'lcm', 'ldexp', 'lgamma', 'log', 'log10', 'log1p', 'log2', 'modf', 'nan', 'nextafter', 'perm', 'pi', 'pow', 'prod', 'radians', 'remainder', 'sin', 'sinh', 'sqrt', 'tan', 'tanh', 'tau', 'trunc', 'ulp']\n",
      "15.707963267948966\n",
      "1.0\n",
      "9.0\n",
      "nan <class 'float'>\n"
     ]
    }
   ],
   "source": [
    "import math\n",
    "from math import sqrt, pi\n",
    "#from math import * # imports all (not recommended)\n",
    "import math as m\n",
    "from math import sqrt as rt\n",
    "\n",
    "print(dir(math))\n",
    "#print(dir(m))\n",
    "\n",
    "print(math.sqrt(25)*pi)\n",
    "print(m.sin(m.pi/2))\n",
    "print(rt(81))\n",
    "\n",
    "print(m.nan, type(m.nan))"
   ]
  },
  {
   "cell_type": "code",
   "execution_count": 43,
   "metadata": {},
   "outputs": [
    {
     "name": "stdout",
     "output_type": "stream",
     "text": [
      "Things related to importing a python is covered here.\n",
      "1st string in this file\n"
     ]
    }
   ],
   "source": [
    "#import tutorial_day44 as day44\n",
    "from tutorial_day44 import day44f, str1\n",
    "#from tutorial_day44 import *\n",
    "day44f()\n",
    "print(str1)"
   ]
  },
  {
   "cell_type": "markdown",
   "metadata": {},
   "source": [
    "## #45 `if __name == \"__main__\"`\n",
    "The file is not executed for the first time here if this is used. It's important because if the file imported has some functionality to delete a file of the device and `if __name__=='__main__'` is not used at that file, by just importing that python file, the other files of that device can be deleted!"
   ]
  },
  {
   "cell_type": "code",
   "execution_count": 44,
   "metadata": {},
   "outputs": [
    {
     "name": "stdout",
     "output_type": "stream",
     "text": [
      "__main__\n"
     ]
    }
   ],
   "source": [
    "print(__name__)\n",
    "import tutorial_day45"
   ]
  },
  {
   "cell_type": "markdown",
   "metadata": {},
   "source": [
    "## #46 os Module\n",
    "See os module documentation. The full form is Operating System. See os.system."
   ]
  },
  {
   "cell_type": "code",
   "execution_count": 45,
   "metadata": {},
   "outputs": [],
   "source": [
    "import os\n",
    "\n",
    "if not os.path.exists(\"100 days python (os)\"):\n",
    "    os.mkdir('100 days python (os)')\n",
    "\n",
    "for i in range(0, 100):\n",
    "    if not os.path.exists(f'100 days python (os)/Day {i+1} of 100'):\n",
    "        os.mkdir(f'100 days python (os)/Day {i+1}')\n",
    "        os.rename(f'100 days python (os)/Day {i+1}',\n",
    "                f'100 days python (os)/Day {i+1} of 100')"
   ]
  },
  {
   "cell_type": "code",
   "execution_count": 46,
   "metadata": {},
   "outputs": [
    {
     "name": "stdout",
     "output_type": "stream",
     "text": [
      "['Day 1 of 100', 'Day 10 of 100', 'Day 100 of 100', 'Day 11 of 100', 'Day 12 of 100', 'Day 13 of 100', 'Day 14 of 100', 'Day 15 of 100', 'Day 16 of 100', 'Day 17 of 100', 'Day 18 of 100', 'Day 19 of 100', 'Day 2 of 100', 'Day 20 of 100', 'Day 21 of 100', 'Day 22 of 100', 'Day 23 of 100', 'Day 24 of 100', 'Day 25 of 100', 'Day 26 of 100', 'Day 27 of 100', 'Day 28 of 100', 'Day 29 of 100', 'Day 3 of 100', 'Day 30 of 100', 'Day 31 of 100', 'Day 32 of 100', 'Day 33 of 100', 'Day 34 of 100', 'Day 35 of 100', 'Day 36 of 100', 'Day 37 of 100', 'Day 38 of 100', 'Day 39 of 100', 'Day 4 of 100', 'Day 40 of 100', 'Day 41 of 100', 'Day 42 of 100', 'Day 43 of 100', 'Day 44 of 100', 'Day 45 of 100', 'Day 46 of 100', 'Day 47 of 100', 'Day 48 of 100', 'Day 49 of 100', 'Day 5 of 100', 'Day 50 of 100', 'Day 51 of 100', 'Day 52 of 100', 'Day 53 of 100', 'Day 54 of 100', 'Day 55 of 100', 'Day 56 of 100', 'Day 57 of 100', 'Day 58 of 100', 'Day 59 of 100', 'Day 6 of 100', 'Day 60 of 100', 'Day 61 of 100', 'Day 62 of 100', 'Day 63 of 100', 'Day 64 of 100', 'Day 65 of 100', 'Day 66 of 100', 'Day 67 of 100', 'Day 68 of 100', 'Day 69 of 100', 'Day 7 of 100', 'Day 70 of 100', 'Day 71 of 100', 'Day 72 of 100', 'Day 73 of 100', 'Day 74 of 100', 'Day 75 of 100', 'Day 76 of 100', 'Day 77 of 100', 'Day 78 of 100', 'Day 79 of 100', 'Day 8 of 100', 'Day 80 of 100', 'Day 81 of 100', 'Day 82 of 100', 'Day 83 of 100', 'Day 84 of 100', 'Day 85 of 100', 'Day 86 of 100', 'Day 87 of 100', 'Day 88 of 100', 'Day 89 of 100', 'Day 9 of 100', 'Day 90 of 100', 'Day 91 of 100', 'Day 92 of 100', 'Day 93 of 100', 'Day 94 of 100', 'Day 95 of 100', 'Day 96 of 100', 'Day 97 of 100', 'Day 98 of 100', 'Day 99 of 100']\n",
      "Day 1 of 100\n",
      "[]\n",
      "Day 10 of 100\n",
      "[]\n",
      "Day 100 of 100\n",
      "[]\n",
      "Day 11 of 100\n",
      "[]\n",
      "Day 12 of 100\n",
      "[]\n",
      "Day 13 of 100\n",
      "[]\n",
      "Day 14 of 100\n",
      "[]\n",
      "Day 15 of 100\n",
      "[]\n",
      "Day 16 of 100\n",
      "[]\n",
      "Day 17 of 100\n",
      "[]\n",
      "Day 18 of 100\n",
      "[]\n",
      "Day 19 of 100\n",
      "[]\n",
      "Day 2 of 100\n",
      "[]\n",
      "Day 20 of 100\n",
      "[]\n",
      "Day 21 of 100\n",
      "[]\n",
      "Day 22 of 100\n",
      "[]\n",
      "Day 23 of 100\n",
      "[]\n",
      "Day 24 of 100\n",
      "[]\n",
      "Day 25 of 100\n",
      "[]\n",
      "Day 26 of 100\n",
      "[]\n",
      "Day 27 of 100\n",
      "[]\n",
      "Day 28 of 100\n",
      "[]\n",
      "Day 29 of 100\n",
      "[]\n",
      "Day 3 of 100\n",
      "[]\n",
      "Day 30 of 100\n",
      "[]\n",
      "Day 31 of 100\n",
      "[]\n",
      "Day 32 of 100\n",
      "[]\n",
      "Day 33 of 100\n",
      "[]\n",
      "Day 34 of 100\n",
      "[]\n",
      "Day 35 of 100\n",
      "[]\n",
      "Day 36 of 100\n",
      "[]\n",
      "Day 37 of 100\n",
      "[]\n",
      "Day 38 of 100\n",
      "[]\n",
      "Day 39 of 100\n",
      "[]\n",
      "Day 4 of 100\n",
      "[]\n",
      "Day 40 of 100\n",
      "[]\n",
      "Day 41 of 100\n",
      "[]\n",
      "Day 42 of 100\n",
      "[]\n",
      "Day 43 of 100\n",
      "[]\n",
      "Day 44 of 100\n",
      "[]\n",
      "Day 45 of 100\n",
      "[]\n",
      "Day 46 of 100\n",
      "[]\n",
      "Day 47 of 100\n",
      "[]\n",
      "Day 48 of 100\n",
      "[]\n",
      "Day 49 of 100\n",
      "[]\n",
      "Day 5 of 100\n",
      "[]\n",
      "Day 50 of 100\n",
      "[]\n",
      "Day 51 of 100\n",
      "[]\n",
      "Day 52 of 100\n",
      "[]\n",
      "Day 53 of 100\n",
      "[]\n",
      "Day 54 of 100\n",
      "[]\n",
      "Day 55 of 100\n",
      "[]\n",
      "Day 56 of 100\n",
      "[]\n",
      "Day 57 of 100\n",
      "[]\n",
      "Day 58 of 100\n",
      "[]\n",
      "Day 59 of 100\n",
      "[]\n",
      "Day 6 of 100\n",
      "[]\n",
      "Day 60 of 100\n",
      "[]\n",
      "Day 61 of 100\n",
      "[]\n",
      "Day 62 of 100\n",
      "[]\n",
      "Day 63 of 100\n",
      "[]\n",
      "Day 64 of 100\n",
      "[]\n",
      "Day 65 of 100\n",
      "[]\n",
      "Day 66 of 100\n",
      "[]\n",
      "Day 67 of 100\n",
      "[]\n",
      "Day 68 of 100\n",
      "[]\n",
      "Day 69 of 100\n",
      "[]\n",
      "Day 7 of 100\n",
      "[]\n",
      "Day 70 of 100\n",
      "[]\n",
      "Day 71 of 100\n",
      "[]\n",
      "Day 72 of 100\n",
      "[]\n",
      "Day 73 of 100\n",
      "[]\n",
      "Day 74 of 100\n",
      "[]\n",
      "Day 75 of 100\n",
      "[]\n",
      "Day 76 of 100\n",
      "[]\n",
      "Day 77 of 100\n",
      "[]\n",
      "Day 78 of 100\n",
      "[]\n",
      "Day 79 of 100\n",
      "[]\n",
      "Day 8 of 100\n",
      "[]\n",
      "Day 80 of 100\n",
      "[]\n",
      "Day 81 of 100\n",
      "[]\n",
      "Day 82 of 100\n",
      "[]\n",
      "Day 83 of 100\n",
      "[]\n",
      "Day 84 of 100\n",
      "[]\n",
      "Day 85 of 100\n",
      "[]\n",
      "Day 86 of 100\n",
      "[]\n",
      "Day 87 of 100\n",
      "[]\n",
      "Day 88 of 100\n",
      "[]\n",
      "Day 89 of 100\n",
      "[]\n",
      "Day 9 of 100\n",
      "[]\n",
      "Day 90 of 100\n",
      "[]\n",
      "Day 91 of 100\n",
      "[]\n",
      "Day 92 of 100\n",
      "[]\n",
      "Day 93 of 100\n",
      "[]\n",
      "Day 94 of 100\n",
      "[]\n",
      "Day 95 of 100\n",
      "[]\n",
      "Day 96 of 100\n",
      "[]\n",
      "Day 97 of 100\n",
      "[]\n",
      "Day 98 of 100\n",
      "[]\n",
      "Day 99 of 100\n",
      "[]\n"
     ]
    }
   ],
   "source": [
    "folders = os.listdir(\"100 days python (os)\")\n",
    "print(folders)\n",
    "\n",
    "for folder in folders:\n",
    "    print(folder)\n",
    "    print(os.listdir(f'100 days python (os)/{folder}'))"
   ]
  },
  {
   "cell_type": "code",
   "execution_count": 47,
   "metadata": {},
   "outputs": [
    {
     "name": "stdout",
     "output_type": "stream",
     "text": [
      "c:\\Users\\suman\\PYTHON_FOLDER\\Tutorials_CodeWithHarry\\100_days_python_course\n"
     ]
    }
   ],
   "source": [
    "print(os.getcwd())\n",
    "#os.chdir('/Users')\n",
    "#print(os.getcwd())\n",
    "# google how to remove a file using os"
   ]
  },
  {
   "cell_type": "markdown",
   "metadata": {},
   "source": [
    "## #47 Exercise 4 Solution"
   ]
  },
  {
   "cell_type": "code",
   "execution_count": 48,
   "metadata": {},
   "outputs": [],
   "source": [
    "# Do it after doing the exercise\n"
   ]
  },
  {
   "cell_type": "markdown",
   "metadata": {},
   "source": [
    "## #48 Local vs Global variables\n",
    "Local - defined inside a function. Global - defined separately."
   ]
  },
  {
   "cell_type": "code",
   "execution_count": 49,
   "metadata": {},
   "outputs": [
    {
     "name": "stdout",
     "output_type": "stream",
     "text": [
      "global variable, x = 5\n",
      "x = 50 and y = 45 are local variables\n",
      "5\n",
      "name 'y' is not defined\n",
      "global x is changed\n",
      "x = 15\n"
     ]
    }
   ],
   "source": [
    "x = 5\n",
    "print('global variable, x =', x)\n",
    "\n",
    "def day48():\n",
    "    x = 50\n",
    "    y = 45\n",
    "    print(f'x = {x} and y = {y} are local variables')\n",
    "day48()\n",
    "\n",
    "print(x)\n",
    "try:\n",
    "    print(y)\n",
    "except Exception as e:\n",
    "    print(e)\n",
    "\n",
    "def day48f():\n",
    "    global x\n",
    "    x = 15\n",
    "    print('global x is changed')\n",
    "day48f()\n",
    "print(f'x = {x}')"
   ]
  },
  {
   "cell_type": "markdown",
   "metadata": {},
   "source": [
    "## #49 file IO"
   ]
  },
  {
   "cell_type": "code",
   "execution_count": 50,
   "metadata": {},
   "outputs": [
    {
     "name": "stdout",
     "output_type": "stream",
     "text": [
      "<_io.TextIOWrapper name='file1.txt' mode='r' encoding='UTF-8'>\n",
      "Hello! This file is made for the tutorial 49 of the 100 days pyhton course by CodeWithHarry.\n",
      "We have created this in the folder for the mentioned course.\n",
      "We are going to open this file in python.\n",
      "\n",
      "<class '_io.TextIOWrapper'> <class 'str'>\n"
     ]
    }
   ],
   "source": [
    "file1 = open('file1.txt', 'r') # 'r' for read mode (default)\n",
    "print(file1)\n",
    "text1 = file1.read()\n",
    "file1.close()\n",
    "print(text1)\n",
    "print(type(file1), type(text1))"
   ]
  },
  {
   "cell_type": "code",
   "execution_count": 51,
   "metadata": {},
   "outputs": [],
   "source": [
    "# file1 = open('file1.txt', 'a') # append mode\n",
    "# file1.writelines('This line is added by code.')"
   ]
  },
  {
   "cell_type": "code",
   "execution_count": 52,
   "metadata": {},
   "outputs": [],
   "source": [
    "file2 = open('file2.txt', 'w')\n",
    "file2.writelines('This line is written by python codes.')\n",
    "file2.write(' This is the second line written in python.')\n",
    "file2.close() # needed"
   ]
  },
  {
   "cell_type": "code",
   "execution_count": 53,
   "metadata": {},
   "outputs": [
    {
     "name": "stdout",
     "output_type": "stream",
     "text": [
      "b'Hello! This file is made for the tutorial 49 of the 100 days pyhton course by CodeWithHarry.\\r\\nWe have created this in the folder for the mentioned course.\\r\\nWe are going to open this file in python.\\r\\n'\n"
     ]
    }
   ],
   "source": [
    "file1 = open('file1.txt', 'rb') # read binary; default - read text (rt)\n",
    "print(file1.read())"
   ]
  },
  {
   "cell_type": "code",
   "execution_count": 54,
   "metadata": {},
   "outputs": [],
   "source": [
    "with open('file2.txt', 'a') as fl2: # the file will be automatically closed here\n",
    "    fl2.write(' code runned.')"
   ]
  },
  {
   "cell_type": "markdown",
   "metadata": {},
   "source": [
    "## #50 read(), readlines() and other Methods"
   ]
  },
  {
   "cell_type": "code",
   "execution_count": 55,
   "metadata": {},
   "outputs": [
    {
     "name": "stdout",
     "output_type": "stream",
     "text": [
      "Hello! This file is made for the tutorial 49 of the 100 days pyhton course by CodeWithHarry.\n",
      "\n",
      "We have created this in the folder for the mentioned course.\n",
      "\n",
      "We are going to open this file in python.\n",
      "\n",
      " <class 'str'>\n",
      "Student 1 has obtained 34.0 marks in subject 1.\n",
      "Student 1 has obtained 63.0 marks in subject 2.\n",
      "Student 1 has obtained 25.0 marks in subject 3.\n",
      "Student 1 has obtained 36.0 marks in subject 4.\n",
      "Student 1 has obtained 24.0 marks in subject 5.\n",
      "34,63,25,36,24\n",
      "\n",
      "Student 2 has obtained 48.0 marks in subject 1.\n",
      "Student 2 has obtained 39.0 marks in subject 2.\n",
      "Student 2 has obtained 35.0 marks in subject 3.\n",
      "Student 2 has obtained 95.0 marks in subject 4.\n",
      "Student 2 has obtained 36.0 marks in subject 5.\n",
      "48,39,35,95,36\n",
      "\n",
      "Student 3 has obtained 24.0 marks in subject 1.\n",
      "Student 3 has obtained 85.0 marks in subject 2.\n",
      "Student 3 has obtained 62.0 marks in subject 3.\n",
      "Student 3 has obtained 85.0 marks in subject 4.\n",
      "Student 3 has obtained 43.0 marks in subject 5.\n",
      "24,85,62,85,43\n",
      "\n",
      "Student 4 has obtained 52.0 marks in subject 1.\n",
      "Student 4 has obtained 96.0 marks in subject 2.\n",
      "Student 4 has obtained 84.0 marks in subject 3.\n",
      "Student 4 has obtained 50.0 marks in subject 4.\n",
      "Student 4 has obtained 37.0 marks in subject 5.\n",
      "52,96,84,50,37\n"
     ]
    }
   ],
   "source": [
    "file1 = open('file1.txt', 'r')\n",
    "file3 = open('file3.txt', 'r')\n",
    "\n",
    "while True:\n",
    "    line = file1.readline()\n",
    "    if not line:\n",
    "        print(line, type(line))\n",
    "        break\n",
    "    print(line)\n",
    "\n",
    "i = 0\n",
    "while True:\n",
    "    line3 = file3.readline()\n",
    "    if not line3:\n",
    "        break\n",
    "    m1 = float(line3.split(',')[0])\n",
    "    m2 = float(line3.split(',')[1])\n",
    "    m3 = float(line3.split(',')[2])\n",
    "    m4 = float(line3.split(',')[3])\n",
    "    m5 = float(line3.split(',')[4])\n",
    "    m = [m1, m2, m3, m4, m5]\n",
    "    i += 1\n",
    "    for j in range(5):\n",
    "        print(f'Student {i} has obtained {m[j]} marks in subject {j+1}.')\n",
    "    print(line3)"
   ]
  },
  {
   "cell_type": "code",
   "execution_count": 56,
   "metadata": {},
   "outputs": [],
   "source": [
    "file2 = open('file2.txt', 'w')\n",
    "lines = ['line 1\\n', 'line2\\n'] # \\n is needed to have a new line\n",
    "file2.writelines(lines)\n",
    "file2.close()"
   ]
  },
  {
   "cell_type": "code",
   "execution_count": 57,
   "metadata": {},
   "outputs": [
    {
     "name": "stdout",
     "output_type": "stream",
     "text": [
      "Student 1 has passed subject 1.\n",
      "Student 1 has passed subject 2.\n",
      "Student 2 has passed subject 1.\n",
      "Student 2 has passed subject 2.\n",
      "Student 3 has passed subject 1.\n",
      "Student 3 has passed subject 2.\n"
     ]
    }
   ],
   "source": [
    "# roughs\n",
    "i = 0\n",
    "while True:\n",
    "    for j in range(2):\n",
    "        print(f'Student {i+1} has passed subject {j+1}.')\n",
    "    i += 1\n",
    "    if i == 3:\n",
    "        break"
   ]
  },
  {
   "cell_type": "markdown",
   "metadata": {},
   "source": [
    "## #51 seek(), tell() and other functions"
   ]
  },
  {
   "cell_type": "code",
   "execution_count": 58,
   "metadata": {},
   "outputs": [
    {
     "name": "stdout",
     "output_type": "stream",
     "text": [
      "Hello! This file is made for the tutorial 49 of the 100 days pyhton course by CodeWithHarry.\n",
      "We have created this in the folder for the mentioned course.\n",
      "We are going to open this file in python.\n",
      "\n",
      "12\n",
      "file is\n",
      "19\n",
      " made\n",
      "This is a new line\n"
     ]
    }
   ],
   "source": [
    "with open('file1.txt', 'r') as f:\n",
    "    print(f.read())\n",
    "    f.seek(12)\n",
    "    print(f.tell())\n",
    "    data1 = f.read(7)\n",
    "    print(data1)\n",
    "    print(f.tell())\n",
    "    print(f.read(5))\n",
    "\n",
    "with open('file2.txt', 'w') as f:\n",
    "    f.write('This is a new line.')\n",
    "    f.truncate(18)\n",
    "with open('file2.txt', 'r') as f:\n",
    "    print(f.read())"
   ]
  },
  {
   "cell_type": "markdown",
   "metadata": {},
   "source": [
    "## #52 lambda functions\n",
    "By this we can write a function (can be anonymous also) in one line."
   ]
  },
  {
   "cell_type": "code",
   "execution_count": 59,
   "metadata": {},
   "outputs": [
    {
     "name": "stdout",
     "output_type": "stream",
     "text": [
      "225 225\n",
      "13.0\n",
      "64\n"
     ]
    }
   ],
   "source": [
    "def squaref(x):\n",
    "    return x**2\n",
    "squarelf = lambda x: x**2\n",
    "print(squaref(15), squarelf(15))\n",
    "\n",
    "magnitudef = lambda x, y, z: sqrt(x**2+y**2+z**2)\n",
    "print(magnitudef(12,5,0))\n",
    "\n",
    "def appl(fx, gx, x):\n",
    "    return fx(x)**2 +gx(x)**2 - (fx(x)*gx(x))**2\n",
    "print(appl(lambda x: x**2-2*x, lambda x: x**2+2*x, 2))"
   ]
  },
  {
   "cell_type": "markdown",
   "metadata": {},
   "source": [
    "## #53 map, filter and reduce\n",
    "If a function takes another function as an argument, the function is called higher order function. **`map`**, **`filter`** and **`reduce`** are higher order functions.\n",
    "\n",
    "map: It allows lists as arguments of functions.\n",
    "\n",
    "filter: It returns a boolean value and is applied on iterable objects."
   ]
  },
  {
   "cell_type": "code",
   "execution_count": 60,
   "metadata": {},
   "outputs": [
    {
     "name": "stdout",
     "output_type": "stream",
     "text": [
      "unsupported operand type(s) for ** or pow(): 'range' and 'int'\n",
      "[0, 1, 4, 9, 16, 25, 36, 49, 64, 81, 100, 121, 144]\n",
      "[0, 1, 4, 9, 16, 25, 36, 49, 64, 81, 100, 121, 144]\n"
     ]
    }
   ],
   "source": [
    "l = range(13)\n",
    "try:\n",
    "    print(squaref(l))\n",
    "except Exception as e:\n",
    "    print(e)\n",
    "\n",
    "newl = []\n",
    "for item in l:\n",
    "    newl.append(squaref(item))\n",
    "print(newl)\n",
    "\n",
    "newlm = map(squaref, l)\n",
    "print(list(newlm))"
   ]
  },
  {
   "cell_type": "code",
   "execution_count": 61,
   "metadata": {},
   "outputs": [
    {
     "name": "stdout",
     "output_type": "stream",
     "text": [
      "[6, 7, 8, 9, 10, 11, 12]\n"
     ]
    }
   ],
   "source": [
    "filterfn = lambda a: a>5\n",
    "newfl = filter(filterfn, l)\n",
    "print(list(newfl))"
   ]
  },
  {
   "cell_type": "code",
   "execution_count": 62,
   "metadata": {},
   "outputs": [
    {
     "name": "stdout",
     "output_type": "stream",
     "text": [
      "180\n"
     ]
    }
   ],
   "source": [
    "from functools import reduce\n",
    "\n",
    "multf = reduce(lambda x,y: x*y, [3,5,2,6])\n",
    "print(multf)"
   ]
  },
  {
   "cell_type": "markdown",
   "metadata": {},
   "source": [
    "## #54 'is' vs '=='\n",
    "is: compares exact location of object in memory.\n",
    "\n",
    "==: compares values."
   ]
  },
  {
   "cell_type": "code",
   "execution_count": 63,
   "metadata": {},
   "outputs": [
    {
     "name": "stdout",
     "output_type": "stream",
     "text": [
      "False False\n",
      "False True\n",
      "True True\n",
      "True True\n",
      "True True\n"
     ]
    }
   ],
   "source": [
    "a, b = 4, '4'\n",
    "print(a is b, a==b)\n",
    "a, b = [2,6,2], [2,6,2]\n",
    "print(a is b, a==b)\n",
    "a, b = 'skp', 'skp'\n",
    "print(a is b, a==b) # python has taken same memory location\n",
    "a, b = (0,1), (0,1)\n",
    "print(a is b, a==b)\n",
    "a, b = None, None\n",
    "print(a is b, a==b)"
   ]
  },
  {
   "cell_type": "markdown",
   "metadata": {},
   "source": [
    "## #55 Exercise 5: Snake Water Gun\n",
    "1. Snake beats water, water beats gun and gun beats snake.\n",
    "2. Write a python program to create this game using if-else statements. Use proper functions to check for win."
   ]
  },
  {
   "cell_type": "raw",
   "metadata": {},
   "source": [
    "import random\n",
    "swg = [1,2,3]\n",
    "\n",
    "points = 0\n",
    "print('1 for Snake, 2 for Water, 3 for Gun')\n",
    "\n",
    "while True:\n",
    "    comp = random.choice(swg)\n",
    "    player = int(input('enter 1 for Snake, 2 for Water, 3 for Gun: '))\n",
    "    print(f'By user: {player} \\t By computer: {comp}')\n",
    "    if player==comp:\n",
    "        print('Draw!')\n",
    "        print(f'Points = {points} +0 = {points}')\n",
    "    elif player-comp==(-1):\n",
    "        print('You Won!')\n",
    "        print(f'Points = {points} +1 = {points+1}')\n",
    "        points += 1\n",
    "    elif player-comp==1:\n",
    "        print('You Lose!')\n",
    "        print(f'Points = {points} -1 = {points-1}')\n",
    "        points += (-1)\n",
    "    elif player-comp==2:\n",
    "        print('You Won!')\n",
    "        print(f'Points = {points} +1 = {points+1}')\n",
    "        points += 1\n",
    "    elif player-comp==(-2):\n",
    "        print('You Lose!')\n",
    "        print(f'Points = {points} -1 = {points-1}')\n",
    "        points += (-1)\n",
    "    else:\n",
    "        print('Wrong input!')\n",
    "    nxt = input('enter y for another round and enter n for stopping the game: ')\n",
    "    if nxt == 'y':\n",
    "        continue\n",
    "    if nxt == 'n':\n",
    "        break"
   ]
  },
  {
   "cell_type": "markdown",
   "metadata": {},
   "source": [
    "## #56 Object Oriented Programming (OOPs) in Python"
   ]
  },
  {
   "cell_type": "code",
   "execution_count": 64,
   "metadata": {},
   "outputs": [],
   "source": [
    "sales1 = 6000\n",
    "profit1 = 2000\n",
    "ad1 = 1000  # profile1\n",
    "sales2, profit2, ad2 = 5000, 2050, 1250  # profile2\n",
    "sales3, profit3, ad3 = 7000, 2500, 1300  # profile3\n",
    "\n",
    "# These can be done systematically using OOPs."
   ]
  },
  {
   "cell_type": "markdown",
   "metadata": {},
   "source": [
    "## #57 Classes and Objects"
   ]
  },
  {
   "cell_type": "code",
   "execution_count": 74,
   "metadata": {},
   "outputs": [
    {
     "name": "stdout",
     "output_type": "stream",
     "text": [
      "500\n",
      "600\n",
      "Name: Suman, Occupation: Student\n",
      "None\n",
      "Name: Hari, Occupation: CS prof.\n",
      "Name: Sundar, Occupation: Engg.\n",
      "None None\n"
     ]
    }
   ],
   "source": [
    "class Person_profile:\n",
    "    Name = 'Suman' # default\n",
    "    occupation = 'Student'\n",
    "    net_worth = 500\n",
    "    def info(self): # object for which the method is applied\n",
    "        print(f'Name: {self.Name}, Occupation: {self.occupation}')\n",
    "\n",
    "skp = Person_profile()\n",
    "print(skp.net_worth)\n",
    "skp.net_worth = 600   # changing\n",
    "print(skp.net_worth)\n",
    "print(skp.info())\n",
    "\n",
    "p1 = Person_profile()\n",
    "p1.Name, p1.occupation, p1.net_worth = 'Hari', 'CS prof.', 10000\n",
    "p2 = Person_profile()\n",
    "p2.Name, p2.occupation, p2.net_worth = 'Sundar', 'Engg.', 50000\n",
    "print(p1.info(), p2.info())"
   ]
  },
  {
   "cell_type": "markdown",
   "metadata": {},
   "source": [
    "## #58 Constructors"
   ]
  },
  {
   "cell_type": "code",
   "execution_count": 81,
   "metadata": {},
   "outputs": [
    {
     "name": "stdout",
     "output_type": "stream",
     "text": [
      "Profile for a person is created.\n",
      "Profile for a person is created.\n",
      "Varun is a Driver.\n",
      "None\n"
     ]
    }
   ],
   "source": [
    "class Person_info:\n",
    "    def __init__(self, Name, Occupation): # returns None always\n",
    "        # only self argument: default argument\n",
    "        print('Profile for a person is created.')\n",
    "        self.nam = Name\n",
    "        self.occ = Occupation\n",
    "        \n",
    "    def info(self):\n",
    "        print(f'{self.nam} is a {self.occ}.')\n",
    "\n",
    "a = Person_info('Varun', 'Driver') # 3 arguments: a as self, other 2\n",
    "b = Person_info('Rahul', 'Dancer')\n",
    "print(a.info())"
   ]
  },
  {
   "cell_type": "markdown",
   "metadata": {},
   "source": [
    "## #59 Decorators\n",
    "Modification of a function."
   ]
  },
  {
   "cell_type": "code",
   "execution_count": 96,
   "metadata": {},
   "outputs": [
    {
     "name": "stdout",
     "output_type": "stream",
     "text": [
      "\n",
      "Good morning! You are using hello function.\n",
      "Hello world.\n",
      "Thanks for using this function.\n",
      "\n",
      "Good morning! You are using mfx function.\n",
      "\n",
      "Good morning! You are using hello function.\n",
      "Hello world.\n",
      "Thanks for using this function.\n",
      "Thanks for using this function.\n",
      "\n",
      "Good morning! You are using multfn function.\n",
      "30\n",
      "Thanks for using this function.\n"
     ]
    }
   ],
   "source": [
    "def greet(fx):\n",
    "    def mfx(*args, **kwargs):\n",
    "        print(f'\\nGood morning! You are using {fx.__name__} function.')\n",
    "        fx(*args, **kwargs)\n",
    "        print('Thanks for using this function.')\n",
    "    return mfx\n",
    "\n",
    "@greet  # decorator\n",
    "def hello():\n",
    "    print('Hello world.')\n",
    "hello()\n",
    "greet(hello)()  # alternative method of @\n",
    "\n",
    "def multfn(a, b):\n",
    "    print(a*b)\n",
    "greet(multfn)(5,6)"
   ]
  },
  {
   "cell_type": "markdown",
   "metadata": {},
   "source": [
    "## #60 Getters and Setters"
   ]
  },
  {
   "cell_type": "code",
   "execution_count": 100,
   "metadata": {},
   "outputs": [],
   "source": [
    "class myclass:\n",
    "    def __init__(self, Value) -> None:\n",
    "        self.val = Value"
   ]
  },
  {
   "cell_type": "code",
   "execution_count": null,
   "metadata": {},
   "outputs": [],
   "source": []
  },
  {
   "cell_type": "code",
   "execution_count": null,
   "metadata": {},
   "outputs": [],
   "source": []
  },
  {
   "cell_type": "code",
   "execution_count": null,
   "metadata": {},
   "outputs": [],
   "source": []
  }
 ],
 "metadata": {
  "kernelspec": {
   "display_name": "Python 3 (ipykernel)",
   "language": "python",
   "name": "python3"
  },
  "language_info": {
   "codemirror_mode": {
    "name": "ipython",
    "version": 3
   },
   "file_extension": ".py",
   "mimetype": "text/x-python",
   "name": "python",
   "nbconvert_exporter": "python",
   "pygments_lexer": "ipython3",
   "version": "3.9.13"
  }
 },
 "nbformat": 4,
 "nbformat_minor": 2
}
