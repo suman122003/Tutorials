{
 "cells": [
  {
   "cell_type": "markdown",
   "metadata": {},
   "source": [
    "# Python Tutorials for Absolute Beginners in Hindi\n",
    "Playlist Link:"
   ]
  },
  {
   "cell_type": "markdown",
   "metadata": {},
   "source": [
    "## #6 Comments, Escape, Sequences & Print ()\n",
    "https://youtu.be/uhUgIT68CoU"
   ]
  },
  {
   "cell_type": "code",
   "execution_count": 18,
   "metadata": {},
   "outputs": [
    {
     "name": "stdout",
     "output_type": "stream",
     "text": [
      "c:\\ncert_books_download \t download NCERT books from this link\n",
      "to know more about escape sequences in python, google \n",
      "       \"escape sequences in python\" and go to the official website for python 3\n"
     ]
    },
    {
     "data": {
      "text/plain": [
       "<IPython.core.autocall.ZMQExitAutocall at 0x2683b828bb0>"
      ]
     },
     "execution_count": 18,
     "metadata": {},
     "output_type": "execute_result"
    }
   ],
   "source": [
    "print ('c:\\\\ncert_books_download \\t ', end=\"\")\n",
    "print ('download NCERT books from this link')\n",
    "print ('''to know more about escape sequences in python, google \n",
    "       \"escape sequences in python\" and go to the official website for python 3''')\n",
    "exit"
   ]
  },
  {
   "cell_type": "markdown",
   "metadata": {},
   "source": [
    "## #7 Variables, Datatype & Typecasting\n",
    "https://youtu.be/z1-zfCvxybI"
   ]
  },
  {
   "cell_type": "raw",
   "metadata": {},
   "source": [
    "var1='Kolkata'\n",
    "var2=8\n",
    "var3=9.8\n",
    "print (type (var1), type (var2), type (var3))\n",
    "var4=' rocks now'\n",
    "print (var1 + var4)\n",
    "x= '573'\n",
    "y= '42'\n",
    "print (int (x) + int (y))\n",
    "print (5*str(int (x) + int (y)))\n",
    "exit\n",
    "print ('put value of x, the output will be 5x')\n",
    "x= input ()\n",
    "print (int(x)*5) \n",
    "#x is always taken as a str in input function. \n",
    "# So in case of mathematical operation we need to convert str into int or float\n",
    "exit\n",
    "print ('\\n')\n",
    "print ('additive calculator, 2 numbers')\n",
    "print ('enter 1st number')\n",
    "x= input ()\n",
    "print ('enter 2nd number')\n",
    "y= input ()\n",
    "print ('the addition is ', float(x)+float(y))\n",
    "exit"
   ]
  },
  {
   "cell_type": "markdown",
   "metadata": {},
   "source": [
    "## #8 Strings & Related Functions\n",
    "https://youtu.be/lPZn7zcGXQo"
   ]
  },
  {
   "cell_type": "code",
   "execution_count": 19,
   "metadata": {},
   "outputs": [
    {
     "name": "stdout",
     "output_type": "stream",
     "text": [
      "26 \n",
      " ABCDEF ABCDEFGHI \n",
      " ABCDEFGHIJKLMNOPQRSTUVWXYZ ABCDEFG\n",
      "BE\n",
      "CEGIKMOQSUWY AE ABCDEFGHIJKLMNOPQRSTUVWXYZ AQ\n",
      "VWXY ABCDEFGHIJKLMNOPQRSTUVWX\n",
      "ZYXWVUTSRQPONMLKJIHGFEDCB ZYXW\n",
      "Functions\n",
      "True True\n",
      "False True\n",
      "1\n",
      "Abcdefghijklmnopqrstuvwxyz\n",
      "8\n",
      "abcdefghijklmnopqrstuvwxyz ABCDEFGHIJKLMNOPQRSTUVWXYZ\n",
      "ABCdefGHIJKLMNOPQRSTUVWXYZ\n",
      "ABCDEFGHIJKLMNOPQRSTUVWXYZ\n",
      "for more string functions, google 'string functions in python'\n"
     ]
    },
    {
     "data": {
      "text/plain": [
       "<IPython.core.autocall.ZMQExitAutocall at 0x2683b828bb0>"
      ]
     },
     "execution_count": 19,
     "metadata": {},
     "output_type": "execute_result"
    }
   ],
   "source": [
    "mystr = 'ABCDEFGHIJKLMNOPQRSTUVWXYZ'\n",
    "print ( len(mystr),'\\n', mystr[0:6], mystr[0:9], '\\n',mystr[0:], mystr[:7])\n",
    "# len (mystr) gives the total number of characters present in the string. Lower limit of string is included, but the upper limit is excluded.\n",
    "print (mystr[1:7:3])\n",
    "# start from 1 and end at (7-1). The last term denotes that (3-1) entries are skipped. The third term is used as 0 if we keep it empty.\n",
    "print (mystr[2::2], mystr[:6:4], mystr[::], mystr[::16])\n",
    "print (mystr[-5:-1], mystr[-4465:-2])\n",
    "#\n",
    "\"\"\"\n",
    "a negative sign means that counting will be occured from the opposite direction.\n",
    "The sequence of counting : (for len=7)\n",
    "'0,1,2,3,4,5,6' or '-7,-6,-5,-4,-3,-2,-1'\n",
    "\"\"\"\n",
    "print (mystr[134:0:-1], mystr[-1:-5:-1])\n",
    "# If we use negative sign in the 3rd term, we will get reversed terms in the output. In this case we must alter the 1st two terms.\n",
    "print ('Functions')\n",
    "print (mystr.isalnum(), mystr.isalpha())\n",
    "#bif there remains any space in the string, we will get False in the output using functions isalnum and isalpha\n",
    "print (mystr.endswith(\"xyz\"), mystr.endswith(\"XYZ\"))\n",
    "print (mystr.count('A'))\n",
    "# It counts no. of desired characters present in the string.\n",
    "print (mystr.capitalize())\n",
    "# it makes the 1st word capital and the others will be in small letters.\n",
    "print (mystr.find('IJK'))\n",
    "# it gives the position of the searched entry in the string.\n",
    "print (mystr.lower(), mystr.upper())\n",
    "# lower makes all the characters small, while upper makes all the characters capital.\n",
    "print (mystr.replace('DEF', 'def'))\n",
    "# by using replace, the 1st term in the string will be replaced by the second term.\n",
    "print (mystr)\n",
    "# After all these operations the real string remains unchanged.\n",
    "print (\"for more string functions, google 'string functions in python'\")\n",
    "exit"
   ]
  },
  {
   "cell_type": "markdown",
   "metadata": {},
   "source": [
    "## #9 Lists in python\n",
    "https://youtu.be/neTsPE9XFsQ"
   ]
  },
  {
   "cell_type": "code",
   "execution_count": 20,
   "metadata": {},
   "outputs": [
    {
     "name": "stdout",
     "output_type": "stream",
     "text": [
      "5 d\n",
      "[0, 'a', 'b', 'c', 'd', 'e']\n",
      "[3, 9, 9, 6, 18, 9, 3, 3, 7, 6, 81, 3, 6, 8]\n",
      "[3, 3, 3, 3, 6, 6, 6, 7, 8, 9, 9, 9, 18, 81]\n",
      "[81, 18, 9, 9, 9, 8, 7, 6, 6, 6, 3, 3, 3, 3]\n",
      "[18, 9, 9, 9, 8] [81, 18, 9, 9, 9, 8, 7, 6, 6, 6, 3, 3, 3, 3] \n",
      " [81, 9, 7, 6, 3] [3, 3, 6, 9, 18] [18, 9, 8, 6] [6, 6, 8, 9]\n",
      "[81, 18, 9, 9, 9, 8, 7, 'random numbers', 6, 6, 6, 3, 3, 3, 3, 6]\n",
      "[81, 18, 9, 9, 9, 8, 7, 'random numbers', 6, 6, 3, 3, 3, 3, 6]\n",
      "[81, 18, 9, 9, 9, 8, 7, 'random numbers', 6, 6, 3, 3, 3, 3]\n",
      "[5.0, 18, 9, 2.0, 9, 8, 7, 'random numbers', 6, 6, 3, 3, 3, 3]\n",
      "(61, 5, 76, 8)\n",
      "6\n",
      "6 5\n",
      "4 7\n",
      "google python list functions and explore\n"
     ]
    },
    {
     "data": {
      "text/plain": [
       "<IPython.core.autocall.ZMQExitAutocall at 0x2683b828bb0>"
      ]
     },
     "execution_count": 20,
     "metadata": {},
     "output_type": "execute_result"
    }
   ],
   "source": [
    "list1 = ['a', 'b', 'c', 'd', 'e']\n",
    "print (len(list1), list1[3])\n",
    "list1.append('f')\n",
    "list1.remove('f')\n",
    "list1.insert(0,0)\n",
    "print (list1)\n",
    "nums=[3,9,9,6,18,9,3,3,7,6,81,3,6,8]\n",
    "print (nums)\n",
    "nums.sort()\n",
    "print (nums)\n",
    "nums.reverse()\n",
    "print (nums)\n",
    "print (nums [1:6], nums [:19], '\\n', nums [::3], nums [::-3], nums [1:9:2], nums [9:1:-2])\n",
    "# sort and reverse functions change the original list but SLICING keeps the list unchanged.\n",
    "nums.append (6)  # add element at the end\n",
    "nums.insert (7,'random numbers')   # the 1st term denotes the position of list and the 2nd term contains the element to insert.\n",
    "print (nums)\n",
    "nums. remove (6)\n",
    "print (nums)    # if the element we want to remove is present at multiple positions of the list, the element at the least position will be removed only.\n",
    "nums.pop()    # remove 1 element from the end\n",
    "print (nums)\n",
    "nums [0] = 5.0    # to change the elements\n",
    "nums [3] = 2.0\n",
    "print (nums)\n",
    "# mutable - can change, immutable - cannot change. List is mutable but Tuple is immutable.\n",
    "tp1 = (61,5,76,8)    # tuples. different from lists. parenthesis\n",
    "print (tp1)\n",
    "tp2= (6)\n",
    "print (tp2)  # for 1 element in tuple, only the element is printed without brackets. (unlike list)\n",
    "a = 5\n",
    "b = 6\n",
    "t = a\n",
    "a = b\n",
    "b = t   # to interchange the values of a and b\n",
    "print (a,b)\n",
    "c = 7\n",
    "d = 4\n",
    "c,d = d,c   # to interchange the values of c and d\n",
    "print (c,d)\n",
    "print ('google python list functions and explore')\n",
    "exit"
   ]
  },
  {
   "cell_type": "markdown",
   "metadata": {},
   "source": [
    "## #10 Dictionary in python\n",
    "https://youtu.be/5y1sh0-oKTE"
   ]
  },
  {
   "cell_type": "code",
   "execution_count": 21,
   "metadata": {},
   "outputs": [
    {
     "name": "stdout",
     "output_type": "stream",
     "text": [
      "<class 'dict'>\n",
      "Einstein {'1st': 'Planck', '2nd': 'De Broglie', '3rd': 'Schrödinger', '4th': 'Heisenberg'} De Broglie\n",
      "{'PE effect': 'Einstein', 'Compton effect': 'Compton', 'Black body radiation': 'Planck', 'Quantum mechanics': {'1st': 'Planck', '2nd': 'De Broglie', '3rd': 'Schrödinger', '4th': 'Heisenberg'}, 'Gravity': 'Newton', 12: 'SKP'}\n",
      "{'PE effect': 'Einstein', 'Compton effect': 'Compton', 'Black body radiation': 'Planck', 'Quantum mechanics': {'1st': 'Planck', '2nd': 'De Broglie', '3rd': 'Schrödinger', '4th': 'Heisenberg'}, 'Gravity': 'Newton'}\n",
      "{'PE effect': 'Einstein', 'Compton effect': 'Compton', 'Black body radiation': 'Planck', 'Gravity': 'Newton'}\n",
      "None\n",
      "{'PE effect': 'Einstein', 'Compton effect': 'Compton', 'Black body radiation': 'Planck', 'Gravity': 'Newton', 'Laws of motion': 'Newton'}\n",
      "dict_keys(['PE effect', 'Compton effect', 'Black body radiation', 'Gravity', 'Laws of motion']) \n",
      " dict_items([('PE effect', 'Einstein'), ('Compton effect', 'Compton'), ('Black body radiation', 'Planck'), ('Gravity', 'Newton'), ('Laws of motion', 'Newton')])\n",
      "google dictionary functions and explore.\n"
     ]
    },
    {
     "data": {
      "text/plain": [
       "<IPython.core.autocall.ZMQExitAutocall at 0x2683b828bb0>"
      ]
     },
     "execution_count": 21,
     "metadata": {},
     "output_type": "execute_result"
    }
   ],
   "source": [
    "# Dictionary is nothing but key value pairs\n",
    "d1 = {}    # type - dictionary. immutable\n",
    "print (type(d1))\n",
    "d2 = {\"PE effect\" : \"Einstein\", \"Compton effect\" : \"Compton\", \"Black body radiation\" : \"Planck\", \"Quantum mechanics\" : {'1st' : 'Planck', '2nd' : 'De Broglie', '3rd' : 'Schrödinger', '4th' : 'Heisenberg'}}\n",
    "print (d2['PE effect'], d2['Quantum mechanics'], d2['Quantum mechanics']['2nd'])\n",
    "d2['Gravity'] = 'Newton'\n",
    "d2 [12] = 'SKP'\n",
    "print (d2)\n",
    "del d2[12]\n",
    "print (d2)\n",
    "d3 = d2\n",
    "del d3 ['Quantum mechanics']\n",
    "print (d2)  # d3=d2 doesn't make a copy. If we delete an element from d3, that element will also be deleted from d2.\n",
    "print (d2.get ('Quantum mechanics')) # to get a deleted element.\n",
    "d2.update ({'Laws of motion' : 'Newton'})  # to update a new element\n",
    "print (d2)\n",
    "print (d2.keys(), '\\n', d2.items())\n",
    "print ('google dictionary functions and explore.')\n",
    "exit"
   ]
  },
  {
   "cell_type": "markdown",
   "metadata": {},
   "source": [
    "## #11 Exercise 1 - Apni Oxford Dictionary\n",
    "https://youtu.be/y_aRifWZbnY"
   ]
  },
  {
   "cell_type": "code",
   "execution_count": 22,
   "metadata": {},
   "outputs": [
    {
     "name": "stdout",
     "output_type": "stream",
     "text": [
      "Create a dictionary. Include 4-5 words.\n"
     ]
    }
   ],
   "source": [
    "print ('Create a dictionary. Include 4-5 words.')"
   ]
  },
  {
   "cell_type": "markdown",
   "metadata": {},
   "source": [
    "## #12 Sets in Python\n",
    "https://youtu.be/iVJv3zdgkD4"
   ]
  },
  {
   "cell_type": "code",
   "execution_count": 23,
   "metadata": {},
   "outputs": [
    {
     "name": "stdout",
     "output_type": "stream",
     "text": [
      "set() {3, 5, 7, 8, 9} <class 'set'> 0 0 3\n",
      "{1, 2}\n",
      "{1, 2, 5, 9, 'abc'} {1, 2, 3, 5, 7, 8, 9}\n",
      "{1, 2, 3, 5}\n",
      "False True\n",
      "{1, 3, 5}\n"
     ]
    },
    {
     "data": {
      "text/plain": [
       "<IPython.core.autocall.ZMQExitAutocall at 0x2683b828bb0>"
      ]
     },
     "execution_count": 23,
     "metadata": {},
     "output_type": "execute_result"
    }
   ],
   "source": [
    "s0= set ()     # empty set\n",
    "s1 = set ()\n",
    "s2= set ([5,8,9,7,5,3])\n",
    "print (s0, s2, type (s1), len(s1), len(s0), min (s2))  # one element is used one time only\n",
    "s1.add (1)\n",
    "s1.add (1)\n",
    "s1.add (2)\n",
    "print (s1)  # one element is added one time only\n",
    "s3 = s1.union ({5,9,'abc'})\n",
    "s4 = s1.union (s2)\n",
    "print (s3,s4)\n",
    "s5= s4. intersection ({1,2,3,4,5,6})\n",
    "print (s5)\n",
    "print (s4.isdisjoint (s5), s0.isdisjoint (s4)) # disjoint test\n",
    "s5.remove (2)\n",
    "print (s5)\n",
    "exit"
   ]
  },
  {
   "cell_type": "markdown",
   "metadata": {},
   "source": [
    "## #13 If Else & Elif Conditionals in python\n",
    "https://youtu.be/3VejIihDfwU"
   ]
  },
  {
   "cell_type": "raw",
   "metadata": {},
   "source": [
    "var1 = 4\n",
    "var2 = 12\n",
    "var3 = int(input('enter your number: '))  # string to integer\n",
    "if var3 > var2:\n",
    "    print('greater than 12')\n",
    "elif var3 == var2:  # if used - statement is checked always. elif used - statement is checked only when previous statement is false.\n",
    "    print('equal to 12')\n",
    "else:\n",
    "    print('lesser than 12')\n",
    "exit\n",
    "\n",
    "list1 = [55, 71, 6, 78, 64, 41]\n",
    "print('\\n', 71 not in list1)\n",
    "if 71 not in list1:\n",
    "    print('not in list')\n",
    "else:\n",
    "    print('in list')\n",
    "\n",
    "exit"
   ]
  },
  {
   "cell_type": "markdown",
   "metadata": {},
   "source": [
    "## #14 Exercise 1 Solutions\n",
    "https://youtu.be/6_hq_8FsKkE"
   ]
  },
  {
   "cell_type": "raw",
   "metadata": {},
   "source": [
    "# Create a dictionary and take input from the user and return the meaning of the\n",
    "# word from the dictionary\n",
    "Dict = {\"ignore\":\"refuse to take notice of or acknowledge\", \"abandon\":\"cease to support or look after\",\n",
    "        \"exaggerate\":\"enlarged or altered beyond normal proportions\", \"prejudice\":\"preconceived opinion that is not based on reason or actual experience\", \"programming\":\"the process of writing computer programs\"}\n",
    "print(\"Enter the Word\")\n",
    "Data1 = input()\n",
    "print(Data1, \"means\", Dict[Data1])\n",
    "exit"
   ]
  },
  {
   "cell_type": "markdown",
   "metadata": {},
   "source": [
    "## #15 Exercise 2 - Faulty Calculator\n",
    "https://youtu.be/VP8s9NiFToM"
   ]
  },
  {
   "cell_type": "code",
   "execution_count": 24,
   "metadata": {},
   "outputs": [
    {
     "name": "stdout",
     "output_type": "stream",
     "text": [
      "Design a calculator which will correctly solve all the problems \n",
      "except the following ones :\n",
      "       45*3 = 555, 56+9 = 77 and 56/6 = 4\n",
      "your program should take operator \n",
      "and the two numbers as input from the user and return the result.\n"
     ]
    },
    {
     "data": {
      "text/plain": [
       "<IPython.core.autocall.ZMQExitAutocall at 0x2683b828bb0>"
      ]
     },
     "execution_count": 24,
     "metadata": {},
     "output_type": "execute_result"
    }
   ],
   "source": [
    "print ('''Design a calculator which will correctly solve all the problems \n",
    "except the following ones :\n",
    "       45*3 = 555, 56+9 = 77 and 56/6 = 4\n",
    "your program should take operator \n",
    "and the two numbers as input from the user and return the result.''')\n",
    "exit"
   ]
  },
  {
   "cell_type": "markdown",
   "metadata": {},
   "source": [
    "## #16 for loops in python\n",
    "https://youtu.be/sSyCRQx5WM0"
   ]
  },
  {
   "cell_type": "code",
   "execution_count": 25,
   "metadata": {},
   "outputs": [
    {
     "name": "stdout",
     "output_type": "stream",
     "text": [
      "[26, 8]\n",
      "9\n",
      "(6, 7)\n",
      "[44, 7]\n",
      "54\n",
      "{'Argentina': 'Messi', 'Brazil': 'Neymar', 'Portugal': 'Ronaldo'}\n",
      "\t Argentina is led by Messi\n",
      "\t Brazil is led by Neymar\n",
      "\t Portugal is led by Ronaldo\n",
      "\n",
      " Argentina is led by Messi\n",
      "\n",
      " Brazil is led by Neymar\n",
      "\n",
      " Portugal is led by Ronaldo\n",
      "\t Argentina\n",
      "\t Brazil\n",
      "\t Portugal\n",
      "item greater than 10 in list3 is 61\n",
      "item greater than 10 in list3 is 81\n",
      "item greater than 10 in list3 is 88\n",
      "item greater than 10 in list3 is 65\n",
      "item greater than 10 in list3 is 10\n"
     ]
    },
    {
     "data": {
      "text/plain": [
       "<IPython.core.autocall.ZMQExitAutocall at 0x2683b828bb0>"
      ]
     },
     "execution_count": 25,
     "metadata": {},
     "output_type": "execute_result"
    }
   ],
   "source": [
    "list1 = [[26,8],9,(6,7),[44,7],54]\n",
    "for item in list1 :\n",
    "\tprint (item) # ordinary print = 1 line. for loop and  print = one element in one line.\n",
    "list2 = [('Argentina','Messi'), ('Brazil', 'Neymar'), ('Portugal', 'Ronaldo')]\n",
    "dict1 = dict (list2)\n",
    "print (dict1)\n",
    "for country, captain in list2 :\n",
    "\tprint ('\\t', country, 'is led by', captain) # tab is taken in each line\n",
    "for country, captain in dict1.items () :  # function dict1.items () used here\n",
    "\tprint ('\\n', country, 'is led by', captain) # extra line is taken in each line\n",
    "for item in dict1 :\n",
    "\tprint ('\\t', item)\n",
    "list3 = ['SKP', 61,81,6,88,5,7,8,65,8,10,6]\n",
    "for item in list3 :\n",
    "\tif str(item).isnumeric () and item>=10 :\n",
    "\t\tprint ('item greater than 10 in list3 is', item)  # function str(item).isnumeric ()\n",
    "exit"
   ]
  },
  {
   "cell_type": "markdown",
   "metadata": {},
   "source": [
    "## #17 while loops in python\n",
    "https://youtu.be/qvWuPZNOeGg"
   ]
  },
  {
   "cell_type": "code",
   "execution_count": 26,
   "metadata": {},
   "outputs": [
    {
     "name": "stdout",
     "output_type": "stream",
     "text": [
      "0\n",
      "1.5\n",
      "3.0\n",
      "4.5\n"
     ]
    },
    {
     "data": {
      "text/plain": [
       "<IPython.core.autocall.ZMQExitAutocall at 0x2683b828bb0>"
      ]
     },
     "execution_count": 26,
     "metadata": {},
     "output_type": "execute_result"
    }
   ],
   "source": [
    "i=0\n",
    "while (i<5) :\n",
    "\tprint (i)\n",
    "\ti = i + 1.5\n",
    "exit"
   ]
  },
  {
   "cell_type": "markdown",
   "metadata": {},
   "source": [
    "## #18 break & continue statements\n",
    "https://youtu.be/aXGC1fx6QQo"
   ]
  },
  {
   "cell_type": "raw",
   "metadata": {},
   "source": [
    "i = 0\n",
    "while (i<30) :\n",
    "\ti = i+2\n",
    "\tprint (i+1, end=' ')\n",
    "i=0\n",
    "while (True) : # while (True) is a loop that continues to infinity until we break it\n",
    "\tprint (i+4)\n",
    "\ti= i+11\n",
    "\tif (i>100) :\n",
    "\t\tbreak   # stop the loop\n",
    "i=0\n",
    "while (True) :\n",
    "\tif i+1<5 :\n",
    "\t\ti=i+1\n",
    "\t\tcontinue\n",
    "\tprint (i+1, end = ' ')\n",
    "\tif (i==50) :\n",
    "\t\tbreak\n",
    "\ti= i+1\n",
    "# making a code in which we want to check if the input is greater than 100 or not\n",
    "while (True) :\n",
    "\tinp = float(input (\" \\n\\nEnter a number \\n\"))\n",
    "\tif inp>100 :\n",
    "\t\tprint ('Yeah ! the entered number is greater than 100')\n",
    "\t\tbreak\n",
    "\telse :\n",
    "\t\tprint ('try again')\n",
    "\t\tcontinue\n",
    "exit"
   ]
  },
  {
   "cell_type": "markdown",
   "metadata": {},
   "source": [
    "## #19 Exercise 2 - Faulty Calculator Solution\n",
    "https://youtu.be/s0lxxTHWx6w"
   ]
  },
  {
   "cell_type": "raw",
   "metadata": {},
   "source": [
    "# 45 * 3 = 555, 56+9 = 77, 56/6 = 4\n",
    "# Design a calculator which will correctly solve all the problems except the following ones:\n",
    "# 45 * 3 = 555, 56+9 = 77, 56/6 = 4\n",
    "# Your program should take operator  and the two numbers as input from the user\n",
    "# and then return the result\n",
    "print(\"Enter 1st Number\")\n",
    "num1 = float(input())\n",
    "print('Enter 2nd Number')\n",
    "num2 = float(input())\n",
    "print('so What you Want?'+'+,-,/,%,*')\n",
    "num3 =input()\n",
    "if num1 ==45 and num2==3 and num3=='*':\n",
    "    print(\"555\")\n",
    "elif num1 == 56 and num2 == 9 and num3 == '+':\n",
    "        print(\"77\")\n",
    "elif num1 == 56 and num2 == 6 and num3 == '/':\n",
    "        print(\"4\")\n",
    "elif num3=='*' :\n",
    "    num4=num1*num2\n",
    "    print(num4)\n",
    "elif num3 == '+':\n",
    "    plus=num1+num2\n",
    "    print(plus)\n",
    "elif num3 == '/':\n",
    "    Dev=num1/num2\n",
    "    print(Dev)\n",
    "elif num3 == '-':\n",
    "    Dev=num1-num2\n",
    "    print(Dev)\n",
    "elif num3 == '%':\n",
    "    percent=num2%num1\n",
    "    print(percent)\n",
    "else:\n",
    "    print(\"Error! Please check your input\")\n",
    "exit"
   ]
  },
  {
   "cell_type": "markdown",
   "metadata": {},
   "source": [
    "## #20 Exercise 3 - Guess the Number\n",
    "https://youtu.be/2loUi5KxZ3E"
   ]
  },
  {
   "cell_type": "code",
   "execution_count": 27,
   "metadata": {},
   "outputs": [
    {
     "name": "stdout",
     "output_type": "stream",
     "text": [
      "\n",
      "total number of guesses = 9\n",
      "print number of guesses left\n",
      "number of guesses took to finish / game over\n",
      "\n"
     ]
    }
   ],
   "source": [
    "print(\n",
    "'''\n",
    "total number of guesses = 9\n",
    "print number of guesses left\n",
    "number of guesses took to finish / game over\n",
    "'''\n",
    ")"
   ]
  },
  {
   "cell_type": "code",
   "execution_count": null,
   "metadata": {},
   "outputs": [],
   "source": []
  }
 ],
 "metadata": {
  "kernelspec": {
   "display_name": "Python 3 (ipykernel)",
   "language": "python",
   "name": "python3"
  },
  "language_info": {
   "codemirror_mode": {
    "name": "ipython",
    "version": 3
   },
   "file_extension": ".py",
   "mimetype": "text/x-python",
   "name": "python",
   "nbconvert_exporter": "python",
   "pygments_lexer": "ipython3",
   "version": "3.9.13"
  }
 },
 "nbformat": 4,
 "nbformat_minor": 2
}
