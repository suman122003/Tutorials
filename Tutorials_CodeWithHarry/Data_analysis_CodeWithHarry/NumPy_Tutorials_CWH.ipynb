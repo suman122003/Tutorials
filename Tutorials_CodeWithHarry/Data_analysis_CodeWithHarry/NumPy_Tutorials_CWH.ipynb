{
 "cells": [
  {
   "cell_type": "markdown",
   "id": "47c1a915",
   "metadata": {},
   "source": [
    "# NumPy Tutorials (CWH)"
   ]
  },
  {
   "cell_type": "markdown",
   "id": "febc48e3",
   "metadata": {},
   "source": [
    "Video link: https://youtu.be/Rbh1rieb3zc"
   ]
  },
  {
   "cell_type": "markdown",
   "id": "870e50d7",
   "metadata": {},
   "source": [
    "## Array creation in numpy\n",
    "\n",
    "(source - google) There are 6 general mechanisms for creating arrays:\n",
    "\n",
    "1. Conversion from other Python structures (i.e. lists and tuples)\n",
    "2. Intrinsic NumPy array creation functions (e.g. arange, ones, zeros, etc.)\n",
    "3. Replicating, joining, or mutating existing arrays\n",
    "4. Reading arrays from disk, either from standard or custom formats\n",
    "5. Creating arrays from raw bytes through the use of strings or buffers\n",
    "6. Use of special library functions (e.g., random)"
   ]
  },
  {
   "cell_type": "markdown",
   "id": "26079ec7",
   "metadata": {},
   "source": [
    "### 1. Conversion from other Python structures (i.e. lists and tuples)"
   ]
  },
  {
   "cell_type": "code",
   "execution_count": 1,
   "id": "6a847d6b",
   "metadata": {},
   "outputs": [],
   "source": [
    "import numpy as np"
   ]
  },
  {
   "cell_type": "code",
   "execution_count": 2,
   "id": "78383e60",
   "metadata": {
    "scrolled": true
   },
   "outputs": [
    {
     "name": "stdout",
     "output_type": "stream",
     "text": [
      "new in Jupyeter\n"
     ]
    }
   ],
   "source": [
    "print('new in Jupyeter')"
   ]
  },
  {
   "cell_type": "code",
   "execution_count": 3,
   "id": "0a93e3e1",
   "metadata": {},
   "outputs": [],
   "source": [
    "myarr1= np.array([[4,5,8],[6,4,15]], np.int16)"
   ]
  },
  {
   "cell_type": "code",
   "execution_count": 4,
   "id": "d5df97ea",
   "metadata": {},
   "outputs": [
    {
     "data": {
      "text/plain": [
       "array([[ 4,  5,  8],\n",
       "       [ 6,  4, 15]], dtype=int16)"
      ]
     },
     "execution_count": 4,
     "metadata": {},
     "output_type": "execute_result"
    }
   ],
   "source": [
    " myarr1"
   ]
  },
  {
   "cell_type": "code",
   "execution_count": 5,
   "id": "c5e9b39e",
   "metadata": {},
   "outputs": [
    {
     "data": {
      "text/plain": [
       "6"
      ]
     },
     "execution_count": 5,
     "metadata": {},
     "output_type": "execute_result"
    }
   ],
   "source": [
    "myarr1[1,0]"
   ]
  },
  {
   "cell_type": "code",
   "execution_count": 6,
   "id": "faee01eb",
   "metadata": {},
   "outputs": [
    {
     "data": {
      "text/plain": [
       "dtype('int16')"
      ]
     },
     "execution_count": 6,
     "metadata": {},
     "output_type": "execute_result"
    }
   ],
   "source": [
    "myarr1.dtype"
   ]
  },
  {
   "cell_type": "markdown",
   "id": "c6f55fd3",
   "metadata": {},
   "source": [
    "changing an element"
   ]
  },
  {
   "cell_type": "code",
   "execution_count": 7,
   "id": "7c0eec85",
   "metadata": {},
   "outputs": [],
   "source": [
    "myarr1[1,2]= 12"
   ]
  },
  {
   "cell_type": "code",
   "execution_count": 8,
   "id": "81f20657",
   "metadata": {},
   "outputs": [
    {
     "data": {
      "text/plain": [
       "12"
      ]
     },
     "execution_count": 8,
     "metadata": {},
     "output_type": "execute_result"
    }
   ],
   "source": [
    "myarr1[1,2]"
   ]
  },
  {
   "cell_type": "markdown",
   "id": "b21188f5",
   "metadata": {},
   "source": [
    "changing memory from int16 to float64"
   ]
  },
  {
   "cell_type": "code",
   "execution_count": 9,
   "id": "927165ea",
   "metadata": {},
   "outputs": [],
   "source": [
    "myarr2= np.array([[8,47,51],[5445,48,85.01],[1.250,12,56]], np.float64)"
   ]
  },
  {
   "cell_type": "code",
   "execution_count": 10,
   "id": "421d4427",
   "metadata": {},
   "outputs": [
    {
     "data": {
      "text/plain": [
       "array([[8.000e+00, 4.700e+01, 5.100e+01],\n",
       "       [5.445e+03, 4.800e+01, 8.501e+01],\n",
       "       [1.250e+00, 1.200e+01, 5.600e+01]])"
      ]
     },
     "execution_count": 10,
     "metadata": {},
     "output_type": "execute_result"
    }
   ],
   "source": [
    "myarr2"
   ]
  },
  {
   "cell_type": "code",
   "execution_count": 11,
   "id": "0509d05e",
   "metadata": {},
   "outputs": [
    {
     "data": {
      "text/plain": [
       "(3, 3)"
      ]
     },
     "execution_count": 11,
     "metadata": {},
     "output_type": "execute_result"
    }
   ],
   "source": [
    "myarr2.shape"
   ]
  },
  {
   "cell_type": "code",
   "execution_count": 12,
   "id": "818c4a9d",
   "metadata": {},
   "outputs": [
    {
     "data": {
      "text/plain": [
       "9"
      ]
     },
     "execution_count": 12,
     "metadata": {},
     "output_type": "execute_result"
    }
   ],
   "source": [
    "myarr2.size"
   ]
  },
  {
   "cell_type": "code",
   "execution_count": 13,
   "id": "6c649284",
   "metadata": {},
   "outputs": [
    {
     "data": {
      "text/plain": [
       "dtype('float64')"
      ]
     },
     "execution_count": 13,
     "metadata": {},
     "output_type": "execute_result"
    }
   ],
   "source": [
    "myarr2.dtype"
   ]
  },
  {
   "cell_type": "code",
   "execution_count": null,
   "id": "1121bc1f",
   "metadata": {},
   "outputs": [],
   "source": []
  },
  {
   "cell_type": "code",
   "execution_count": 14,
   "id": "a024e17d",
   "metadata": {},
   "outputs": [],
   "source": [
    "myarr3= np.array([[756466836,4,7842],[5.5,487,84],[9.4,18.6,43]])"
   ]
  },
  {
   "cell_type": "code",
   "execution_count": 15,
   "id": "03f9f8fd",
   "metadata": {},
   "outputs": [
    {
     "data": {
      "text/plain": [
       "array([[7.56466836e+08, 4.00000000e+00, 7.84200000e+03],\n",
       "       [5.50000000e+00, 4.87000000e+02, 8.40000000e+01],\n",
       "       [9.40000000e+00, 1.86000000e+01, 4.30000000e+01]])"
      ]
     },
     "execution_count": 15,
     "metadata": {},
     "output_type": "execute_result"
    }
   ],
   "source": [
    "myarr3"
   ]
  },
  {
   "cell_type": "code",
   "execution_count": 16,
   "id": "cd49a1e0",
   "metadata": {},
   "outputs": [
    {
     "data": {
      "text/plain": [
       "dtype('float64')"
      ]
     },
     "execution_count": 16,
     "metadata": {},
     "output_type": "execute_result"
    }
   ],
   "source": [
    "myarr3.dtype"
   ]
  },
  {
   "cell_type": "markdown",
   "id": "a8a518c1",
   "metadata": {},
   "source": [
    "To know more, google \n",
    "*\"numpy types reference\"*."
   ]
  },
  {
   "cell_type": "code",
   "execution_count": 17,
   "id": "0be23ff8",
   "metadata": {},
   "outputs": [
    {
     "data": {
      "text/plain": [
       "array({655, 45, 55}, dtype=object)"
      ]
     },
     "execution_count": 17,
     "metadata": {},
     "output_type": "execute_result"
    }
   ],
   "source": [
    "np.array({45,655,55})"
   ]
  },
  {
   "cell_type": "code",
   "execution_count": null,
   "id": "d2dfe218",
   "metadata": {},
   "outputs": [],
   "source": []
  },
  {
   "cell_type": "markdown",
   "id": "62618a74",
   "metadata": {},
   "source": [
    "### 2. Intrinsic NumPy array creation functions (e.g. arange, ones, zeros, etc.)"
   ]
  },
  {
   "cell_type": "markdown",
   "id": "a91db43d",
   "metadata": {},
   "source": [
    "zeros - makes an array filled with zeros for a given shape"
   ]
  },
  {
   "cell_type": "code",
   "execution_count": 18,
   "id": "a3b72fca",
   "metadata": {},
   "outputs": [],
   "source": [
    "zero = np.zeros((3,4))"
   ]
  },
  {
   "cell_type": "code",
   "execution_count": 19,
   "id": "36f1811c",
   "metadata": {},
   "outputs": [
    {
     "data": {
      "text/plain": [
       "array([[0., 0., 0., 0.],\n",
       "       [0., 0., 0., 0.],\n",
       "       [0., 0., 0., 0.]])"
      ]
     },
     "execution_count": 19,
     "metadata": {},
     "output_type": "execute_result"
    }
   ],
   "source": [
    "zero"
   ]
  },
  {
   "cell_type": "code",
   "execution_count": 20,
   "id": "e843e7b6",
   "metadata": {},
   "outputs": [
    {
     "data": {
      "text/plain": [
       "(3, 4)"
      ]
     },
     "execution_count": 20,
     "metadata": {},
     "output_type": "execute_result"
    }
   ],
   "source": [
    "zero.shape"
   ]
  },
  {
   "cell_type": "code",
   "execution_count": 21,
   "id": "f6f0ba4c",
   "metadata": {},
   "outputs": [
    {
     "data": {
      "text/plain": [
       "12"
      ]
     },
     "execution_count": 21,
     "metadata": {},
     "output_type": "execute_result"
    }
   ],
   "source": [
    "zero.size"
   ]
  },
  {
   "cell_type": "code",
   "execution_count": 22,
   "id": "c0bbb919",
   "metadata": {},
   "outputs": [
    {
     "data": {
      "text/plain": [
       "dtype('float64')"
      ]
     },
     "execution_count": 22,
     "metadata": {},
     "output_type": "execute_result"
    }
   ],
   "source": [
    "zero.dtype"
   ]
  },
  {
   "cell_type": "markdown",
   "id": "a58ef450",
   "metadata": {},
   "source": [
    "range - makes a numpy array"
   ]
  },
  {
   "cell_type": "code",
   "execution_count": 23,
   "id": "a0ec89c7",
   "metadata": {},
   "outputs": [],
   "source": [
    "rng= np.arange(12)"
   ]
  },
  {
   "cell_type": "code",
   "execution_count": 24,
   "id": "ea63cc6d",
   "metadata": {},
   "outputs": [
    {
     "data": {
      "text/plain": [
       "array([ 0,  1,  2,  3,  4,  5,  6,  7,  8,  9, 10, 11])"
      ]
     },
     "execution_count": 24,
     "metadata": {},
     "output_type": "execute_result"
    }
   ],
   "source": [
    "rng"
   ]
  },
  {
   "cell_type": "markdown",
   "id": "ef7a22d6",
   "metadata": {},
   "source": [
    "linspace(a,b,c) - gives c equidistant numbers between a and b"
   ]
  },
  {
   "cell_type": "code",
   "execution_count": 25,
   "id": "908d864a",
   "metadata": {},
   "outputs": [],
   "source": [
    "lsp= np.linspace(1,100,10)"
   ]
  },
  {
   "cell_type": "code",
   "execution_count": 26,
   "id": "d634d128",
   "metadata": {},
   "outputs": [
    {
     "data": {
      "text/plain": [
       "array([  1.,  12.,  23.,  34.,  45.,  56.,  67.,  78.,  89., 100.])"
      ]
     },
     "execution_count": 26,
     "metadata": {},
     "output_type": "execute_result"
    }
   ],
   "source": [
    "lsp"
   ]
  },
  {
   "cell_type": "markdown",
   "id": "b3703076",
   "metadata": {},
   "source": [
    "empty - gives random filled array for a given shape"
   ]
  },
  {
   "cell_type": "code",
   "execution_count": 27,
   "id": "74ceee18",
   "metadata": {},
   "outputs": [],
   "source": [
    "emp= np.empty((2,4))"
   ]
  },
  {
   "cell_type": "code",
   "execution_count": 28,
   "id": "75ed0b06",
   "metadata": {},
   "outputs": [
    {
     "data": {
      "text/plain": [
       "array([[6.23042070e-307, 4.67296746e-307, 1.69121096e-306,\n",
       "        1.29062229e-306],\n",
       "       [1.89146896e-307, 7.56571288e-307, 3.11525958e-307,\n",
       "        1.24610723e-306]])"
      ]
     },
     "execution_count": 28,
     "metadata": {},
     "output_type": "execute_result"
    }
   ],
   "source": [
    "emp"
   ]
  },
  {
   "cell_type": "code",
   "execution_count": 29,
   "id": "af2a053a",
   "metadata": {},
   "outputs": [
    {
     "data": {
      "text/plain": [
       "array([  1.,  12.,  23.,  34.,  45.,  56.,  67.,  78.,  89., 100.])"
      ]
     },
     "execution_count": 29,
     "metadata": {},
     "output_type": "execute_result"
    }
   ],
   "source": [
    "np.empty_like(lsp)"
   ]
  },
  {
   "cell_type": "markdown",
   "id": "bf99a1c5",
   "metadata": {},
   "source": [
    "identity - gives identity matrixx of given order"
   ]
  },
  {
   "cell_type": "code",
   "execution_count": 30,
   "id": "e9446d22",
   "metadata": {},
   "outputs": [],
   "source": [
    "I6= np.identity(6)"
   ]
  },
  {
   "cell_type": "code",
   "execution_count": 31,
   "id": "5d30b653",
   "metadata": {},
   "outputs": [
    {
     "data": {
      "text/plain": [
       "array([[1., 0., 0., 0., 0., 0.],\n",
       "       [0., 1., 0., 0., 0., 0.],\n",
       "       [0., 0., 1., 0., 0., 0.],\n",
       "       [0., 0., 0., 1., 0., 0.],\n",
       "       [0., 0., 0., 0., 1., 0.],\n",
       "       [0., 0., 0., 0., 0., 1.]])"
      ]
     },
     "execution_count": 31,
     "metadata": {},
     "output_type": "execute_result"
    }
   ],
   "source": [
    "I6"
   ]
  },
  {
   "cell_type": "code",
   "execution_count": 32,
   "id": "68d3cc3c",
   "metadata": {},
   "outputs": [
    {
     "data": {
      "text/plain": [
       "(6, 6)"
      ]
     },
     "execution_count": 32,
     "metadata": {},
     "output_type": "execute_result"
    }
   ],
   "source": [
    "I6.shape"
   ]
  },
  {
   "cell_type": "markdown",
   "id": "c62f58ca",
   "metadata": {},
   "source": [
    "some more array functions: reshape(change order), ravel(convert to 1D araay) "
   ]
  },
  {
   "cell_type": "code",
   "execution_count": 33,
   "id": "3ca789fd",
   "metadata": {},
   "outputs": [],
   "source": [
    "arr1= np.array([[5,6,8,7],[4,5,5,4.7],[5,6,10,1.99]])"
   ]
  },
  {
   "cell_type": "code",
   "execution_count": 34,
   "id": "a86f8db1",
   "metadata": {},
   "outputs": [
    {
     "data": {
      "text/plain": [
       "array([[ 5.  ,  6.  ],\n",
       "       [ 8.  ,  7.  ],\n",
       "       [ 4.  ,  5.  ],\n",
       "       [ 5.  ,  4.7 ],\n",
       "       [ 5.  ,  6.  ],\n",
       "       [10.  ,  1.99]])"
      ]
     },
     "execution_count": 34,
     "metadata": {},
     "output_type": "execute_result"
    }
   ],
   "source": [
    "arr1.reshape(6,2)"
   ]
  },
  {
   "cell_type": "code",
   "execution_count": 35,
   "id": "5e4d3a9d",
   "metadata": {},
   "outputs": [
    {
     "data": {
      "text/plain": [
       "array([[ 5.  ,  6.  ,  8.  ,  7.  ],\n",
       "       [ 4.  ,  5.  ,  5.  ,  4.7 ],\n",
       "       [ 5.  ,  6.  , 10.  ,  1.99]])"
      ]
     },
     "execution_count": 35,
     "metadata": {},
     "output_type": "execute_result"
    }
   ],
   "source": [
    "arr1"
   ]
  },
  {
   "cell_type": "code",
   "execution_count": 36,
   "id": "d590be36",
   "metadata": {},
   "outputs": [],
   "source": [
    "arr1= arr1.reshape(2,6)"
   ]
  },
  {
   "cell_type": "code",
   "execution_count": 37,
   "id": "2d3320e2",
   "metadata": {},
   "outputs": [
    {
     "data": {
      "text/plain": [
       "array([[ 5.  ,  6.  ,  8.  ,  7.  ,  4.  ,  5.  ],\n",
       "       [ 5.  ,  4.7 ,  5.  ,  6.  , 10.  ,  1.99]])"
      ]
     },
     "execution_count": 37,
     "metadata": {},
     "output_type": "execute_result"
    }
   ],
   "source": [
    "arr1"
   ]
  },
  {
   "cell_type": "code",
   "execution_count": 38,
   "id": "cd57b549",
   "metadata": {},
   "outputs": [
    {
     "data": {
      "text/plain": [
       "array([ 5.  ,  6.  ,  8.  ,  7.  ,  4.  ,  5.  ,  5.  ,  4.7 ,  5.  ,\n",
       "        6.  , 10.  ,  1.99])"
      ]
     },
     "execution_count": 38,
     "metadata": {},
     "output_type": "execute_result"
    }
   ],
   "source": [
    "arr1.ravel()"
   ]
  },
  {
   "cell_type": "code",
   "execution_count": 39,
   "id": "9bf141fb",
   "metadata": {},
   "outputs": [
    {
     "data": {
      "text/plain": [
       "(2, 6)"
      ]
     },
     "execution_count": 39,
     "metadata": {},
     "output_type": "execute_result"
    }
   ],
   "source": [
    "arr1.shape"
   ]
  },
  {
   "cell_type": "code",
   "execution_count": 40,
   "id": "461c92e7",
   "metadata": {},
   "outputs": [],
   "source": [
    "arr1= arr1.ravel()"
   ]
  },
  {
   "cell_type": "code",
   "execution_count": 41,
   "id": "ed474316",
   "metadata": {},
   "outputs": [
    {
     "data": {
      "text/plain": [
       "(12,)"
      ]
     },
     "execution_count": 41,
     "metadata": {},
     "output_type": "execute_result"
    }
   ],
   "source": [
    "arr1.shape"
   ]
  },
  {
   "cell_type": "markdown",
   "id": "c1d6713f",
   "metadata": {},
   "source": [
    "**numpy axis**\n",
    "\n",
    "1D axis - 1 axis - axis0\n",
    "\n",
    "2D axis - 2 axes - rows(axis0) and columns(axis1)\n",
    "\n",
    "we can do operations on the axes"
   ]
  },
  {
   "cell_type": "code",
   "execution_count": 42,
   "id": "f1b7226a",
   "metadata": {},
   "outputs": [],
   "source": [
    "A= np.array([[6,9,4],[2,1.5,11.4],[5,5,1]])"
   ]
  },
  {
   "cell_type": "code",
   "execution_count": 43,
   "id": "5f4d9b25",
   "metadata": {},
   "outputs": [
    {
     "data": {
      "text/plain": [
       "array([[ 6. ,  9. ,  4. ],\n",
       "       [ 2. ,  1.5, 11.4],\n",
       "       [ 5. ,  5. ,  1. ]])"
      ]
     },
     "execution_count": 43,
     "metadata": {},
     "output_type": "execute_result"
    }
   ],
   "source": [
    "A"
   ]
  },
  {
   "cell_type": "code",
   "execution_count": 44,
   "id": "dc4a7ff6",
   "metadata": {},
   "outputs": [
    {
     "data": {
      "text/plain": [
       "2"
      ]
     },
     "execution_count": 44,
     "metadata": {},
     "output_type": "execute_result"
    }
   ],
   "source": [
    "A.ndim"
   ]
  },
  {
   "cell_type": "code",
   "execution_count": 45,
   "id": "8687dc59",
   "metadata": {},
   "outputs": [
    {
     "data": {
      "text/plain": [
       "72"
      ]
     },
     "execution_count": 45,
     "metadata": {},
     "output_type": "execute_result"
    }
   ],
   "source": [
    "A.nbytes"
   ]
  },
  {
   "cell_type": "code",
   "execution_count": 46,
   "id": "0f6c36c1",
   "metadata": {},
   "outputs": [
    {
     "data": {
      "text/plain": [
       "array([13. , 15.5, 16.4])"
      ]
     },
     "execution_count": 46,
     "metadata": {},
     "output_type": "execute_result"
    }
   ],
   "source": [
    "A.sum(axis=0)"
   ]
  },
  {
   "cell_type": "code",
   "execution_count": 47,
   "id": "400b759e",
   "metadata": {},
   "outputs": [
    {
     "data": {
      "text/plain": [
       "array([19. , 14.9, 11. ])"
      ]
     },
     "execution_count": 47,
     "metadata": {},
     "output_type": "execute_result"
    }
   ],
   "source": [
    "A.sum(axis=1)"
   ]
  },
  {
   "cell_type": "code",
   "execution_count": 48,
   "id": "92ac9232",
   "metadata": {},
   "outputs": [
    {
     "data": {
      "text/plain": [
       "44.9"
      ]
     },
     "execution_count": 48,
     "metadata": {},
     "output_type": "execute_result"
    }
   ],
   "source": [
    "A.sum()"
   ]
  },
  {
   "cell_type": "code",
   "execution_count": 49,
   "id": "a5bfb345",
   "metadata": {},
   "outputs": [
    {
     "data": {
      "text/plain": [
       "11.4"
      ]
     },
     "execution_count": 49,
     "metadata": {},
     "output_type": "execute_result"
    }
   ],
   "source": [
    "A.max()"
   ]
  },
  {
   "cell_type": "code",
   "execution_count": 50,
   "id": "bf7a3bfc",
   "metadata": {},
   "outputs": [
    {
     "data": {
      "text/plain": [
       "1.0"
      ]
     },
     "execution_count": 50,
     "metadata": {},
     "output_type": "execute_result"
    }
   ],
   "source": [
    "A.min()"
   ]
  },
  {
   "cell_type": "markdown",
   "id": "b096b5d2",
   "metadata": {},
   "source": [
    "Transpose of matrix A"
   ]
  },
  {
   "cell_type": "code",
   "execution_count": 51,
   "id": "e721e4ca",
   "metadata": {},
   "outputs": [
    {
     "data": {
      "text/plain": [
       "array([[ 6. ,  2. ,  5. ],\n",
       "       [ 9. ,  1.5,  5. ],\n",
       "       [ 4. , 11.4,  1. ]])"
      ]
     },
     "execution_count": 51,
     "metadata": {},
     "output_type": "execute_result"
    }
   ],
   "source": [
    "A.T"
   ]
  },
  {
   "cell_type": "code",
   "execution_count": 52,
   "id": "434250ed",
   "metadata": {},
   "outputs": [
    {
     "data": {
      "text/plain": [
       "<numpy.flatiter at 0x2230ab56a00>"
      ]
     },
     "execution_count": 52,
     "metadata": {},
     "output_type": "execute_result"
    }
   ],
   "source": [
    "A.flat"
   ]
  },
  {
   "cell_type": "code",
   "execution_count": 53,
   "id": "93e3a212",
   "metadata": {},
   "outputs": [
    {
     "name": "stdout",
     "output_type": "stream",
     "text": [
      "[6. 9. 4.]\n",
      "[ 2.   1.5 11.4]\n",
      "[5. 5. 1.]\n"
     ]
    }
   ],
   "source": [
    "for item in A:\n",
    "    print(item)"
   ]
  },
  {
   "cell_type": "code",
   "execution_count": 54,
   "id": "de244a7b",
   "metadata": {},
   "outputs": [
    {
     "name": "stdout",
     "output_type": "stream",
     "text": [
      "6.0\n",
      "9.0\n",
      "4.0\n",
      "2.0\n",
      "1.5\n",
      "11.4\n",
      "5.0\n",
      "5.0\n",
      "1.0\n"
     ]
    }
   ],
   "source": [
    "for item in A.flat:\n",
    "    print(item)"
   ]
  },
  {
   "cell_type": "markdown",
   "id": "e8ff2ac2",
   "metadata": {},
   "source": [
    "argmax or argmin - first converts the matrix to 1D and then gives the maximum or minimum positions."
   ]
  },
  {
   "cell_type": "code",
   "execution_count": 55,
   "id": "f6344859",
   "metadata": {
    "scrolled": true
   },
   "outputs": [
    {
     "data": {
      "text/plain": [
       "5"
      ]
     },
     "execution_count": 55,
     "metadata": {},
     "output_type": "execute_result"
    }
   ],
   "source": [
    "A.argmax()"
   ]
  },
  {
   "cell_type": "code",
   "execution_count": 56,
   "id": "88a233ea",
   "metadata": {},
   "outputs": [
    {
     "data": {
      "text/plain": [
       "8"
      ]
     },
     "execution_count": 56,
     "metadata": {},
     "output_type": "execute_result"
    }
   ],
   "source": [
    "A.argmin()"
   ]
  },
  {
   "cell_type": "code",
   "execution_count": 57,
   "id": "d6305c51",
   "metadata": {},
   "outputs": [
    {
     "data": {
      "text/plain": [
       "array([2, 1, 2], dtype=int64)"
      ]
     },
     "execution_count": 57,
     "metadata": {},
     "output_type": "execute_result"
    }
   ],
   "source": [
    "A.argmin(axis=1)"
   ]
  },
  {
   "cell_type": "code",
   "execution_count": 58,
   "id": "4797dc5c",
   "metadata": {},
   "outputs": [
    {
     "data": {
      "text/plain": [
       "array([0, 0, 1], dtype=int64)"
      ]
     },
     "execution_count": 58,
     "metadata": {},
     "output_type": "execute_result"
    }
   ],
   "source": [
    "A.argmax(axis=0)"
   ]
  },
  {
   "cell_type": "code",
   "execution_count": 59,
   "id": "d4a37803",
   "metadata": {},
   "outputs": [
    {
     "data": {
      "text/plain": [
       "array([[2, 0, 1],\n",
       "       [1, 0, 2],\n",
       "       [2, 0, 1]], dtype=int64)"
      ]
     },
     "execution_count": 59,
     "metadata": {},
     "output_type": "execute_result"
    }
   ],
   "source": [
    "A.argsort()"
   ]
  },
  {
   "cell_type": "code",
   "execution_count": 60,
   "id": "01aaade9",
   "metadata": {},
   "outputs": [
    {
     "data": {
      "text/plain": [
       "array([[1, 1, 2],\n",
       "       [2, 2, 0],\n",
       "       [0, 0, 1]], dtype=int64)"
      ]
     },
     "execution_count": 60,
     "metadata": {},
     "output_type": "execute_result"
    }
   ],
   "source": [
    "A.argsort(axis=0)"
   ]
  },
  {
   "cell_type": "code",
   "execution_count": 61,
   "id": "bee2653d",
   "metadata": {
    "scrolled": true
   },
   "outputs": [
    {
     "data": {
      "text/plain": [
       "array([[2, 0, 1],\n",
       "       [1, 0, 2],\n",
       "       [2, 0, 1]], dtype=int64)"
      ]
     },
     "execution_count": 61,
     "metadata": {},
     "output_type": "execute_result"
    }
   ],
   "source": [
    "A.argsort(axis=1)"
   ]
  },
  {
   "cell_type": "markdown",
   "id": "44b53e9b",
   "metadata": {},
   "source": [
    "NOT UNDERSTOOD - argsort in 2D and argmax,argmin with axis in 2D"
   ]
  },
  {
   "cell_type": "markdown",
   "id": "607877d3",
   "metadata": {},
   "source": [
    "addition and subtraction of matrices"
   ]
  },
  {
   "cell_type": "code",
   "execution_count": 62,
   "id": "570bdf21",
   "metadata": {},
   "outputs": [
    {
     "data": {
      "text/plain": [
       "array([[ 6. ,  9. ,  4. ],\n",
       "       [ 2. ,  1.5, 11.4],\n",
       "       [ 5. ,  5. ,  1. ]])"
      ]
     },
     "execution_count": 62,
     "metadata": {},
     "output_type": "execute_result"
    }
   ],
   "source": [
    "A"
   ]
  },
  {
   "cell_type": "code",
   "execution_count": 63,
   "id": "d8d01072",
   "metadata": {},
   "outputs": [],
   "source": [
    "B= np.array([[3,9,5],[5,2,0],[2,5,3]])"
   ]
  },
  {
   "cell_type": "code",
   "execution_count": 64,
   "id": "1118a3f4",
   "metadata": {},
   "outputs": [
    {
     "data": {
      "text/plain": [
       "array([[ 9. , 18. ,  9. ],\n",
       "       [ 7. ,  3.5, 11.4],\n",
       "       [ 7. , 10. ,  4. ]])"
      ]
     },
     "execution_count": 64,
     "metadata": {},
     "output_type": "execute_result"
    }
   ],
   "source": [
    "A+B"
   ]
  },
  {
   "cell_type": "code",
   "execution_count": 65,
   "id": "183bb5eb",
   "metadata": {},
   "outputs": [
    {
     "data": {
      "text/plain": [
       "array([[ 3. ,  0. , -1. ],\n",
       "       [-3. , -0.5, 11.4],\n",
       "       [ 3. ,  0. , -2. ]])"
      ]
     },
     "execution_count": 65,
     "metadata": {},
     "output_type": "execute_result"
    }
   ],
   "source": [
    "A-B"
   ]
  },
  {
   "cell_type": "code",
   "execution_count": 66,
   "id": "1431a925",
   "metadata": {},
   "outputs": [
    {
     "data": {
      "text/plain": [
       "array([[3.        , 4.24264069, 3.        ],\n",
       "       [2.64575131, 1.87082869, 3.3763886 ],\n",
       "       [2.64575131, 3.16227766, 2.        ]])"
      ]
     },
     "execution_count": 66,
     "metadata": {},
     "output_type": "execute_result"
    }
   ],
   "source": [
    "np.sqrt(A+B)"
   ]
  },
  {
   "cell_type": "code",
   "execution_count": 67,
   "id": "5f7b515f",
   "metadata": {},
   "outputs": [
    {
     "data": {
      "text/plain": [
       "array([[27.        , 76.36753237, 27.        ],\n",
       "       [18.52025918,  6.54790043, 38.49083008],\n",
       "       [18.52025918, 31.6227766 ,  8.        ]])"
      ]
     },
     "execution_count": 67,
     "metadata": {},
     "output_type": "execute_result"
    }
   ],
   "source": [
    "(A+B)**1.5"
   ]
  },
  {
   "cell_type": "code",
   "execution_count": 68,
   "id": "d67214b6",
   "metadata": {
    "scrolled": true
   },
   "outputs": [
    {
     "data": {
      "text/plain": [
       "(array([0, 1, 1, 2], dtype=int64), array([2, 0, 1, 2], dtype=int64))"
      ]
     },
     "execution_count": 68,
     "metadata": {},
     "output_type": "execute_result"
    }
   ],
   "source": [
    "np.where((A-B)<0)"
   ]
  },
  {
   "cell_type": "markdown",
   "id": "479db6d2",
   "metadata": {},
   "source": [
    "write the matrix. the pairs will be in columns"
   ]
  },
  {
   "cell_type": "code",
   "execution_count": 69,
   "id": "d68ca6a4",
   "metadata": {},
   "outputs": [
    {
     "data": {
      "text/plain": [
       "(array([0, 0, 1, 1, 1, 2, 2], dtype=int64),\n",
       " array([0, 2, 0, 1, 2, 0, 2], dtype=int64))"
      ]
     },
     "execution_count": 69,
     "metadata": {},
     "output_type": "execute_result"
    }
   ],
   "source": [
    "np.nonzero(A-B)"
   ]
  },
  {
   "cell_type": "code",
   "execution_count": 70,
   "id": "197bb316",
   "metadata": {},
   "outputs": [
    {
     "data": {
      "text/plain": [
       "7"
      ]
     },
     "execution_count": 70,
     "metadata": {},
     "output_type": "execute_result"
    }
   ],
   "source": [
    "np.count_nonzero(A-B)"
   ]
  },
  {
   "cell_type": "code",
   "execution_count": 71,
   "id": "0e1af678",
   "metadata": {},
   "outputs": [],
   "source": [
    "import sys"
   ]
  },
  {
   "cell_type": "code",
   "execution_count": 72,
   "id": "d8061524",
   "metadata": {},
   "outputs": [],
   "source": [
    "py_C= [5,1,9,7]"
   ]
  },
  {
   "cell_type": "code",
   "execution_count": 73,
   "id": "53eb5df5",
   "metadata": {},
   "outputs": [],
   "source": [
    "np_C= np.array(py_C)"
   ]
  },
  {
   "cell_type": "code",
   "execution_count": 74,
   "id": "26444879",
   "metadata": {},
   "outputs": [
    {
     "data": {
      "text/plain": [
       "112"
      ]
     },
     "execution_count": 74,
     "metadata": {},
     "output_type": "execute_result"
    }
   ],
   "source": [
    "sys.getsizeof(1)*len(py_C)"
   ]
  },
  {
   "cell_type": "code",
   "execution_count": 75,
   "id": "ccd31d37",
   "metadata": {},
   "outputs": [
    {
     "data": {
      "text/plain": [
       "16"
      ]
     },
     "execution_count": 75,
     "metadata": {},
     "output_type": "execute_result"
    }
   ],
   "source": [
    "np_C.itemsize * np_C.size"
   ]
  },
  {
   "cell_type": "markdown",
   "id": "e6b75933",
   "metadata": {},
   "source": [
    "Hence, numpy array takes 16 bytes only, i.e. lesser space"
   ]
  },
  {
   "cell_type": "markdown",
   "id": "4fe3b6b1",
   "metadata": {},
   "source": [
    "To know more about all these, google **\"numpy array methods and attributes\"** and go to the website of docs.scipy.org"
   ]
  },
  {
   "cell_type": "code",
   "execution_count": null,
   "id": "dbf4184c",
   "metadata": {},
   "outputs": [],
   "source": []
  }
 ],
 "metadata": {
  "kernelspec": {
   "display_name": "Python 3 (ipykernel)",
   "language": "python",
   "name": "python3"
  },
  "language_info": {
   "codemirror_mode": {
    "name": "ipython",
    "version": 3
   },
   "file_extension": ".py",
   "mimetype": "text/x-python",
   "name": "python",
   "nbconvert_exporter": "python",
   "pygments_lexer": "ipython3",
   "version": "3.9.13"
  }
 },
 "nbformat": 4,
 "nbformat_minor": 5
}
