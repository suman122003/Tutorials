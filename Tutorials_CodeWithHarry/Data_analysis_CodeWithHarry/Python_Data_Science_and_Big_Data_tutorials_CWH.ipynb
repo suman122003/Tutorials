{
 "cells": [
  {
   "cell_type": "markdown",
   "metadata": {},
   "source": [
    "# Python Data Science and Big Data tutorials (CWH)\n",
    "Playlist Link: https://youtube.com/playlist?list=PLu0W_9lII9agK8pojo23OHiNz3Jm6VQCH"
   ]
  },
  {
   "cell_type": "markdown",
   "metadata": {},
   "source": [
    "## Jupyter Notebook demo\n",
    "Video Link: https://youtu.be/TjRXT8mkTvM"
   ]
  },
  {
   "cell_type": "code",
   "execution_count": 1,
   "metadata": {},
   "outputs": [],
   "source": [
    "'shshhs'; # the output is not shown"
   ]
  },
  {
   "cell_type": "code",
   "execution_count": 2,
   "metadata": {},
   "outputs": [],
   "source": [
    "import numpy as np\n",
    "import pandas as pd"
   ]
  },
  {
   "cell_type": "code",
   "execution_count": 3,
   "metadata": {},
   "outputs": [],
   "source": [
    "!mkdir this"
   ]
  },
  {
   "cell_type": "code",
   "execution_count": 4,
   "metadata": {},
   "outputs": [
    {
     "data": {
      "application/json": {
       "cell": {
        "!": "OSMagics",
        "HTML": "Other",
        "SVG": "Other",
        "bash": "Other",
        "capture": "ExecutionMagics",
        "cmd": "Other",
        "debug": "ExecutionMagics",
        "file": "Other",
        "html": "DisplayMagics",
        "javascript": "DisplayMagics",
        "js": "DisplayMagics",
        "latex": "DisplayMagics",
        "markdown": "DisplayMagics",
        "perl": "Other",
        "prun": "ExecutionMagics",
        "pypy": "Other",
        "python": "Other",
        "python2": "Other",
        "python3": "Other",
        "ruby": "Other",
        "script": "ScriptMagics",
        "sh": "Other",
        "svg": "DisplayMagics",
        "sx": "OSMagics",
        "system": "OSMagics",
        "time": "ExecutionMagics",
        "timeit": "ExecutionMagics",
        "writefile": "OSMagics"
       },
       "line": {
        "alias": "OSMagics",
        "alias_magic": "BasicMagics",
        "autoawait": "AsyncMagics",
        "autocall": "AutoMagics",
        "automagic": "AutoMagics",
        "autosave": "KernelMagics",
        "bookmark": "OSMagics",
        "cd": "OSMagics",
        "clear": "KernelMagics",
        "cls": "KernelMagics",
        "colors": "BasicMagics",
        "conda": "PackagingMagics",
        "config": "ConfigMagics",
        "connect_info": "KernelMagics",
        "copy": "Other",
        "ddir": "Other",
        "debug": "ExecutionMagics",
        "dhist": "OSMagics",
        "dirs": "OSMagics",
        "doctest_mode": "BasicMagics",
        "echo": "Other",
        "ed": "Other",
        "edit": "KernelMagics",
        "env": "OSMagics",
        "gui": "BasicMagics",
        "hist": "Other",
        "history": "HistoryMagics",
        "killbgscripts": "ScriptMagics",
        "ldir": "Other",
        "less": "KernelMagics",
        "load": "CodeMagics",
        "load_ext": "ExtensionMagics",
        "loadpy": "CodeMagics",
        "logoff": "LoggingMagics",
        "logon": "LoggingMagics",
        "logstart": "LoggingMagics",
        "logstate": "LoggingMagics",
        "logstop": "LoggingMagics",
        "ls": "Other",
        "lsmagic": "BasicMagics",
        "macro": "ExecutionMagics",
        "magic": "BasicMagics",
        "matplotlib": "PylabMagics",
        "mkdir": "Other",
        "more": "KernelMagics",
        "notebook": "BasicMagics",
        "page": "BasicMagics",
        "pastebin": "CodeMagics",
        "pdb": "ExecutionMagics",
        "pdef": "NamespaceMagics",
        "pdoc": "NamespaceMagics",
        "pfile": "NamespaceMagics",
        "pinfo": "NamespaceMagics",
        "pinfo2": "NamespaceMagics",
        "pip": "PackagingMagics",
        "popd": "OSMagics",
        "pprint": "BasicMagics",
        "precision": "BasicMagics",
        "prun": "ExecutionMagics",
        "psearch": "NamespaceMagics",
        "psource": "NamespaceMagics",
        "pushd": "OSMagics",
        "pwd": "OSMagics",
        "pycat": "OSMagics",
        "pylab": "PylabMagics",
        "qtconsole": "KernelMagics",
        "quickref": "BasicMagics",
        "recall": "HistoryMagics",
        "rehashx": "OSMagics",
        "reload_ext": "ExtensionMagics",
        "ren": "Other",
        "rep": "Other",
        "rerun": "HistoryMagics",
        "reset": "NamespaceMagics",
        "reset_selective": "NamespaceMagics",
        "rmdir": "Other",
        "run": "ExecutionMagics",
        "save": "CodeMagics",
        "sc": "OSMagics",
        "set_env": "OSMagics",
        "store": "StoreMagics",
        "sx": "OSMagics",
        "system": "OSMagics",
        "tb": "ExecutionMagics",
        "time": "ExecutionMagics",
        "timeit": "ExecutionMagics",
        "unalias": "OSMagics",
        "unload_ext": "ExtensionMagics",
        "who": "NamespaceMagics",
        "who_ls": "NamespaceMagics",
        "whos": "NamespaceMagics",
        "xdel": "NamespaceMagics",
        "xmode": "BasicMagics"
       }
      },
      "text/plain": [
       "Available line magics:\n",
       "%alias  %alias_magic  %autoawait  %autocall  %automagic  %autosave  %bookmark  %cd  %clear  %cls  %colors  %conda  %config  %connect_info  %copy  %ddir  %debug  %dhist  %dirs  %doctest_mode  %echo  %ed  %edit  %env  %gui  %hist  %history  %killbgscripts  %ldir  %less  %load  %load_ext  %loadpy  %logoff  %logon  %logstart  %logstate  %logstop  %ls  %lsmagic  %macro  %magic  %matplotlib  %mkdir  %more  %notebook  %page  %pastebin  %pdb  %pdef  %pdoc  %pfile  %pinfo  %pinfo2  %pip  %popd  %pprint  %precision  %prun  %psearch  %psource  %pushd  %pwd  %pycat  %pylab  %qtconsole  %quickref  %recall  %rehashx  %reload_ext  %ren  %rep  %rerun  %reset  %reset_selective  %rmdir  %run  %save  %sc  %set_env  %store  %sx  %system  %tb  %time  %timeit  %unalias  %unload_ext  %who  %who_ls  %whos  %xdel  %xmode\n",
       "\n",
       "Available cell magics:\n",
       "%%!  %%HTML  %%SVG  %%bash  %%capture  %%cmd  %%debug  %%file  %%html  %%javascript  %%js  %%latex  %%markdown  %%perl  %%prun  %%pypy  %%python  %%python2  %%python3  %%ruby  %%script  %%sh  %%svg  %%sx  %%system  %%time  %%timeit  %%writefile\n",
       "\n",
       "Automagic is ON, % prefix IS NOT needed for line magics."
      ]
     },
     "execution_count": 4,
     "metadata": {},
     "output_type": "execute_result"
    }
   ],
   "source": [
    "%lsmagic"
   ]
  },
  {
   "cell_type": "code",
   "execution_count": 5,
   "metadata": {},
   "outputs": [
    {
     "name": "stdout",
     "output_type": "stream",
     "text": [
      " Volume in drive C is Windows\n",
      " Volume Serial Number is 9048-2C9E\n",
      "\n",
      " Directory of C:\\Users\\suman\\PYTHON_FOLDER\\Tutorials_CodeWithHarry\\Data_analysis_CodeWithHarry\n",
      "\n",
      "07-10-2023  09:09    <DIR>          .\n",
      "06-10-2023  08:49    <DIR>          ..\n",
      "07-10-2023  09:08    <DIR>          .ipynb_checkpoints\n",
      "23-05-2023  10:11           140,303 cc09 modern physics prac prog1.xlsx\n",
      "17-03-2023  13:57            29,789 NumPy Tutorials (CWH).ipynb\n",
      "16-07-2023  12:46           136,095 Pandas Tutorials (CWH).ipynb\n",
      "07-10-2023  09:08            47,031 Python Data Science and Big Data tutorials (CWH).ipynb\n",
      "16-07-2023  12:46               318 sem 4 overview.csv\n",
      "22-05-2023  10:12               237 single slit diffraction data.csv\n",
      "07-10-2023  09:09    <DIR>          this\n",
      "               6 File(s)        353,773 bytes\n",
      "               4 Dir(s)  250,335,387,648 bytes free\n"
     ]
    }
   ],
   "source": [
    "%ls"
   ]
  },
  {
   "cell_type": "code",
   "execution_count": 6,
   "metadata": {},
   "outputs": [
    {
     "data": {
      "text/html": [
       "<h1> heading </h1>\n"
      ],
      "text/plain": [
       "<IPython.core.display.HTML object>"
      ]
     },
     "metadata": {},
     "output_type": "display_data"
    }
   ],
   "source": [
    "%%HTML\n",
    "<h1> heading </h1>"
   ]
  },
  {
   "cell_type": "code",
   "execution_count": 7,
   "metadata": {},
   "outputs": [
    {
     "data": {
      "text/plain": [
       "[<matplotlib.lines.Line2D at 0x1af01b44760>]"
      ]
     },
     "execution_count": 7,
     "metadata": {},
     "output_type": "execute_result"
    },
    {
     "data": {
      "image/png": "[encoded data removed]",
      "text/plain": [
       "<Figure size 640x480 with 1 Axes>"
      ]
     },
     "metadata": {},
     "output_type": "display_data"
    }
   ],
   "source": [
    "%matplotlib inline\n",
    "import matplotlib.pyplot as plt\n",
    "xplt = np.linspace(-1,1,50)\n",
    "yplt = xplt**3 -xplt\n",
    "plt.plot(xplt, yplt)"
   ]
  },
  {
   "cell_type": "code",
   "execution_count": 8,
   "metadata": {},
   "outputs": [
    {
     "name": "stdout",
     "output_type": "stream",
     "text": [
      "The slowest run took 36.00 times longer than the fastest. This could mean that an intermediate result is being cached.\n",
      "643 ns ± 1.21 µs per loop (mean ± std. dev. of 7 runs, 1 loop each)\n"
     ]
    }
   ],
   "source": [
    "%timeit import sympy"
   ]
  },
  {
   "cell_type": "markdown",
   "metadata": {},
   "source": [
    "## numpy tutorial\n",
    "Video Link: https://youtu.be/HYoGR7kq_sA"
   ]
  },
  {
   "cell_type": "markdown",
   "metadata": {},
   "source": [
    "`numpy` is written in `C` (low level language). That's why it takes less space and works faster than python lists."
   ]
  },
  {
   "cell_type": "code",
   "execution_count": 9,
   "metadata": {},
   "outputs": [],
   "source": [
    "import numpy as np"
   ]
  },
  {
   "cell_type": "code",
   "execution_count": 10,
   "metadata": {},
   "outputs": [
    {
     "name": "stdout",
     "output_type": "stream",
     "text": [
      "Wall time: 32.9 ms\n",
      "Wall time: 0 ns\n"
     ]
    }
   ],
   "source": [
    "arr1 = np.arange(100000)\n",
    "list1 = list(range(100000))\n",
    "%time for _ in range(10): [item*3 for item in list1]\n",
    "%time for _ in range(10): arr1 = arr1*3"
   ]
  },
  {
   "cell_type": "markdown",
   "metadata": {},
   "source": [
    "## Numpy array functions and slicing\n",
    "Video Link: https://youtu.be/cg8P0NSe8Ew"
   ]
  },
  {
   "cell_type": "code",
   "execution_count": 11,
   "metadata": {},
   "outputs": [
    {
     "name": "stdout",
     "output_type": "stream",
     "text": [
      "[[1 5 6]\n",
      " [7 2 4]\n",
      " [1 6 8]]\n",
      "<class 'numpy.ndarray'> int32 (3, 3)\n",
      "empty array [[0.  0.  0.3 1.  0. ]\n",
      " [0.  1.  1.  1.  1. ]\n",
      " [1.  1.  1.  0.  0. ]\n",
      " [1.  0.5 0.  0.  1. ]] float64\n"
     ]
    }
   ],
   "source": [
    "import numpy as np\n",
    "ar1 = np.array([[1,5,6],[7,2,4],[1,6,8]])\n",
    "print(ar1)\n",
    "print(type(ar1), ar1.dtype, ar1.shape)\n",
    "ar2 = np.empty((4,5))\n",
    "print('empty array', ar2, ar2.dtype)"
   ]
  },
  {
   "cell_type": "code",
   "execution_count": 12,
   "metadata": {},
   "outputs": [
    {
     "name": "stdout",
     "output_type": "stream",
     "text": [
      "element multiplication [[ 1 25 36]\n",
      " [49  4 16]\n",
      " [ 1 36 64]]\n",
      "matrix multiplication [[42 51 74]\n",
      " [25 63 82]\n",
      " [51 65 94]]\n"
     ]
    }
   ],
   "source": [
    "print('element multiplication', ar1*ar1)\n",
    "print('matrix multiplication', ar1@ar1)"
   ]
  },
  {
   "cell_type": "code",
   "execution_count": 13,
   "metadata": {},
   "outputs": [
    {
     "name": "stdout",
     "output_type": "stream",
     "text": [
      "[[1 5 6]\n",
      " [7 2 4]]\n",
      "[1.  5.1 3.  4.  0.  4.  5.  5.  7.  3.  2.  4. ]\n",
      "[1.         5.1        3.         3.14159265 0.         4.\n",
      " 5.         5.         7.         3.         2.         4.        ]\n"
     ]
    }
   ],
   "source": [
    "print(ar1[0:2])\n",
    "ar3 = np.array([1,5.1,3,4,0,4,5,5,7,3,2,4])\n",
    "print(ar3)\n",
    "ar3v = ar3[3:5] # view\n",
    "ar3c = ar3[6:9].copy()  # copy\n",
    "ar3v[0] = np.pi\n",
    "ar3c[1] = np.pi\n",
    "print(ar3)"
   ]
  },
  {
   "cell_type": "markdown",
   "metadata": {},
   "source": [
    "## axis, sorting & useful numpy function\n",
    "Video Link: https://youtu.be/mcpphUjarHo"
   ]
  },
  {
   "cell_type": "code",
   "execution_count": 14,
   "metadata": {},
   "outputs": [
    {
     "name": "stdout",
     "output_type": "stream",
     "text": [
      "ar1 = [[1 5 6]\n",
      " [7 2 4]\n",
      " [1 6 8]] \n",
      "ar2 = [[0.  0.  0.3 1.  0. ]\n",
      " [0.  1.  1.  1.  1. ]\n",
      " [1.  1.  1.  0.  0. ]\n",
      " [1.  0.5 0.  0.  1. ]] \n",
      "ar3 = [1.         5.1        3.         3.14159265 0.         4.\n",
      " 5.         5.         7.         3.         2.         4.        ]\n"
     ]
    }
   ],
   "source": [
    "print('ar1 =', ar1, '\\nar2 =', ar2, '\\nar3 =', ar3)"
   ]
  },
  {
   "cell_type": "code",
   "execution_count": 15,
   "metadata": {},
   "outputs": [
    {
     "name": "stdout",
     "output_type": "stream",
     "text": [
      "sum of colums [2.  2.5 2.3 2.  2. ]\n",
      "sum of rows [1.3 4.  3.  2.5]\n"
     ]
    }
   ],
   "source": [
    "print('sum of colums', ar2.sum(axis=0))\n",
    "print('sum of rows', ar2.sum(axis=1))\n",
    "# resume from 4:40 min"
   ]
  },
  {
   "cell_type": "code",
   "execution_count": null,
   "metadata": {},
   "outputs": [],
   "source": []
  },
  {
   "cell_type": "markdown",
   "metadata": {},
   "source": [
    "## numpy argsort, argmin, argmax and other tips\n",
    "Video Link: https://youtu.be/ZD1Qig8gmVA"
   ]
  },
  {
   "cell_type": "code",
   "execution_count": null,
   "metadata": {},
   "outputs": [],
   "source": []
  },
  {
   "cell_type": "markdown",
   "metadata": {},
   "source": [
    "## intro to pandas\n",
    "Video Link: https://youtu.be/iOX150jUnH8"
   ]
  },
  {
   "cell_type": "code",
   "execution_count": null,
   "metadata": {},
   "outputs": [],
   "source": []
  },
  {
   "cell_type": "markdown",
   "metadata": {},
   "source": [
    "## creating pandas dataframe\n",
    "Video Link: https://youtu.be/Q5F9WLhtfRk"
   ]
  },
  {
   "cell_type": "code",
   "execution_count": null,
   "metadata": {},
   "outputs": [],
   "source": []
  },
  {
   "cell_type": "markdown",
   "metadata": {},
   "source": [
    "## slicing and adding columns to a daraframe\n",
    "Video Link: https://youtu.be/VZwYd4UaaeY"
   ]
  },
  {
   "cell_type": "code",
   "execution_count": null,
   "metadata": {},
   "outputs": [],
   "source": []
  },
  {
   "cell_type": "markdown",
   "metadata": {},
   "source": [
    "## reading a csv file in pandas\n",
    "Video Link: https://youtu.be/TRJr5h6HI8Q"
   ]
  },
  {
   "cell_type": "code",
   "execution_count": null,
   "metadata": {},
   "outputs": [],
   "source": []
  },
  {
   "cell_type": "markdown",
   "metadata": {},
   "source": [
    "## writing a csv file in pandas\n",
    "Video Link: https://youtu.be/qtxrpHjG-oE"
   ]
  },
  {
   "cell_type": "code",
   "execution_count": null,
   "metadata": {},
   "outputs": [],
   "source": []
  },
  {
   "cell_type": "markdown",
   "metadata": {},
   "source": [
    "## merging dataframes in python\n",
    "Video Link: https://youtu.be/v_f__2IWfZI"
   ]
  },
  {
   "cell_type": "code",
   "execution_count": null,
   "metadata": {},
   "outputs": [],
   "source": []
  },
  {
   "cell_type": "markdown",
   "metadata": {},
   "source": [
    "## writing a json in python\n",
    "Video Link: https://youtu.be/Rolq7_E4ses"
   ]
  },
  {
   "cell_type": "code",
   "execution_count": null,
   "metadata": {},
   "outputs": [],
   "source": []
  },
  {
   "cell_type": "markdown",
   "metadata": {},
   "source": [
    "## matplotlib tutorial\n",
    "Video Link: https://youtu.be/VFsRLjSc8GA"
   ]
  },
  {
   "cell_type": "code",
   "execution_count": null,
   "metadata": {},
   "outputs": [],
   "source": []
  },
  {
   "cell_type": "code",
   "execution_count": null,
   "metadata": {},
   "outputs": [],
   "source": []
  }
 ],
 "metadata": {
  "kernelspec": {
   "display_name": "Python 3 (ipykernel)",
   "language": "python",
   "name": "python3"
  },
  "language_info": {
   "codemirror_mode": {
    "name": "ipython",
    "version": 3
   },
   "file_extension": ".py",
   "mimetype": "text/x-python",
   "name": "python",
   "nbconvert_exporter": "python",
   "pygments_lexer": "ipython3",
   "version": "3.9.13"
  }
 },
 "nbformat": 4,
 "nbformat_minor": 2
}
