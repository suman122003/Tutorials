{
 "cells": [
  {
   "cell_type": "markdown",
   "metadata": {},
   "source": [
    "# Chapter 8 - Numerical Methods"
   ]
  },
  {
   "cell_type": "markdown",
   "metadata": {},
   "source": [
    "## Modules to import"
   ]
  },
  {
   "cell_type": "code",
   "execution_count": 5,
   "metadata": {},
   "outputs": [],
   "source": [
    "import numpy as np"
   ]
  },
  {
   "cell_type": "code",
   "execution_count": 6,
   "metadata": {},
   "outputs": [],
   "source": [
    "from IPython.display import Image"
   ]
  },
  {
   "cell_type": "markdown",
   "metadata": {},
   "source": [
    "## 8.1 Roots of Algebraic and Transcendental Equations"
   ]
  },
  {
   "cell_type": "markdown",
   "metadata": {},
   "source": [
    "### 8.1.1 Bisection Method"
   ]
  },
  {
   "cell_type": "code",
   "execution_count": null,
   "metadata": {},
   "outputs": [],
   "source": []
  },
  {
   "cell_type": "markdown",
   "metadata": {},
   "source": [
    "**Algorithm**\n",
    "\n",
    "1. Input: $f(x)$, $a, b, tol$\n",
    "2. if $f(a)*f(b)>0$: no root.\n",
    "3. else set $x_m = (a+b)/2$\n",
    "4. if $f(x_m) = 0$: $x_m$ is the root.\n",
    "5. if $f(a)*f(x_m)<0$: set $b=x_m$.\n",
    "6. if $f(x_m)*f(b)<0$: set $a=x_m$.\n",
    "7. if $|b-a| < tol$: stop.\n",
    "\n",
    "8. the root is $(a+b)/2$."
   ]
  },
  {
   "cell_type": "code",
   "execution_count": 7,
   "metadata": {},
   "outputs": [
    {
     "name": "stdout",
     "output_type": "stream",
     "text": [
      "root = 2.094554901123047\n"
     ]
    },
    {
     "data": {
      "text/plain": [
       "2.094573974609375"
      ]
     },
     "execution_count": 7,
     "metadata": {},
     "output_type": "execute_result"
    }
   ],
   "source": [
    "fx = lambda x: x**3 -2*x -5\n",
    "a, b, tol = 1, 5, 1e-5  # input\n",
    "\n",
    "if fx(a)*fx(b) > 0:\n",
    "    print('No root in this interval.')\n",
    "else:\n",
    "    while abs(b-a) >= tol:\n",
    "        xm = (a+ b)/2\n",
    "        if fx(xm) == 0:\n",
    "            print(f'root = {xm}')\n",
    "        elif fx(a)*fx(xm) <0:\n",
    "            b = xm\n",
    "        elif fx(xm)*fx(b) <0:\n",
    "            a = xm\n",
    "        else:\n",
    "            break\n",
    "    print(f'root = {(a+b)/2}')\n",
    "\n",
    "def bisection_root_finding(fx, a, b, tol):\n",
    "    if fx(a)*fx(b) > 0:\n",
    "        print('No root in this interval.')\n",
    "    else:\n",
    "        while abs(b-a) >= tol:\n",
    "            xm = (a+ b)/2\n",
    "            if fx(xm) == 0:\n",
    "                print(f'root = {xm}')\n",
    "            elif fx(a)*fx(xm) <0:\n",
    "                b = xm\n",
    "            elif fx(xm)*fx(b) <0:\n",
    "                a = xm\n",
    "            else:\n",
    "                break\n",
    "        return (a+b)/2\n",
    "bisection_root_finding(fx, 1, 5, 1e-4)"
   ]
  },
  {
   "cell_type": "markdown",
   "metadata": {},
   "source": [
    "### 8.1.2 Secant Method"
   ]
  },
  {
   "cell_type": "code",
   "execution_count": null,
   "metadata": {},
   "outputs": [],
   "source": []
  },
  {
   "cell_type": "markdown",
   "metadata": {},
   "source": [
    "**Algorithm**\n",
    "\n",
    "1. define function $f(x)$\n",
    "2. input: $x_0, x_1, tol$\n",
    "3. evaluate: $f(x_0), f(x_1)$ and store.\n",
    "4. calculate $x_2$ from recursion relation.\n",
    "5. update $x_0, x_1$, functions for the next step.\n",
    "\n",
    "6. continue steps 4 and 5 until $|f(x)|>tol$ (or, $x_1-x_0|>tol$)."
   ]
  },
  {
   "cell_type": "code",
   "execution_count": 8,
   "metadata": {},
   "outputs": [
    {
     "name": "stdout",
     "output_type": "stream",
     "text": [
      "x = 2.027027027027027 \t f(x) = -0.7253272264229143\n",
      "x = 2.04650204954204 \t f(x) = -0.5219043029894852\n",
      "x = 2.0964674019214566 \t f(x) = 0.021407498763649002\n",
      "x = 2.094498673806521 \t f(x) = -0.0005893927318618708\n",
      "x = 2.094551424625526 \t f(x) = -6.352733059600268e-07\n",
      "\n",
      "\t Root = 2.094551424625526\n"
     ]
    }
   ],
   "source": [
    "fx = lambda x: x**3 -2*x -5\n",
    "x0, x1, tol = 2, 5, 1e-4   # input\n",
    "fx0, fx1 = fx(x0), fx(x1)\n",
    "\n",
    "while np.abs(fx1) >= tol:\n",
    "    x2 = x1 - fx1*(x1-x0)/(fx1-fx0)\n",
    "    x0, x1 = x1, x2\n",
    "    fx0, fx1 = fx1, fx(x2)\n",
    "    print(f'x = {x1} \\t f(x) = {fx1}')\n",
    "\n",
    "print(f'\\n\\t Root = {x1}')"
   ]
  },
  {
   "cell_type": "markdown",
   "metadata": {},
   "source": [
    "The above code doesn't works when no root exists."
   ]
  },
  {
   "cell_type": "code",
   "execution_count": 9,
   "metadata": {},
   "outputs": [
    {
     "name": "stdout",
     "output_type": "stream",
     "text": [
      "iteration 1 \t x = 1.1428571428571428 \t f(x) = 3.3061224489795915\n",
      "iteration 2 \t x = 0.6046511627906976 \t f(x) = 2.3656030286641427\n",
      "iteration 3 \t x = -0.7490494296577952 \t f(x) = 2.561075048070668\n",
      "iteration 4 \t x = 16.987140232700504 \t f(x) = 290.56293328543217\n",
      "iteration 5 \t x = -0.9067696369860343 \t f(x) = 2.8222311745597843\n",
      "iteration 6 \t x = -1.0822774810224105 \t f(x) = 3.171324545928214\n",
      "iteration 7 \t x = 0.5121163959328714 \t f(x) = 2.2622632029832737\n",
      "iteration 8 \t x = 4.479877897277714 \t f(x) = 22.069305974517388\n",
      "iteration 9 \t x = 0.05893815290881754 \t f(x) = 2.003473705868303\n",
      "iteration 10 \t x = -0.3824707263485752 \t f(x) = 2.1462838565136066\n",
      "iteration 11 \t x = 6.251432727929875 \t f(x) = 41.080411151832756\n",
      "iteration 12 \t x = -0.748171485006635 \t f(x) = 2.5597605709770335\n",
      "iteration 13 \t x = -1.213306694473328 \t f(x) = 3.4721131348537932\n",
      "iteration 14 \t x = 0.5568445981473928 \t f(x) = 2.3100759064859315\n",
      "iteration 15 \t x = 4.075822951071176 \t f(x) = 18.61233272847855\n",
      "iteration 16 \t x = 0.05819541127112071 \t f(x) = 2.003386705893015\n",
      "iteration 17 \t x = -0.4264146050128696 \t f(x) = 2.1818294153682816\n",
      "iteration 18 \t x = 5.498940326100563 \t f(x) = 32.238344710014964\n",
      "iteration 19 \t x = -0.8565414363659167 \t f(x) = 2.7336632322117875\n",
      "iteration 20 \t x = -1.4453885598340253 \t f(x) = 4.089148088899078\n",
      "iteration 21 \t x = 0.33101128536087554 \t f(x) = 2.1095684710362588\n",
      "iteration 22 \t x = 2.2240582088398293 \t f(x) = 6.94643491630783\n",
      "iteration 23 \t x = -0.4946290644708573 \t f(x) = 2.2446579114193157\n",
      "iteration 24 \t x = -1.7925474664637522 \t f(x) = 5.213226419525617\n",
      "iteration 25 \t x = 0.4867809321165424 \t f(x) = 2.2369556758722497\n",
      "iteration 26 \t x = 2.199916946121196 \t f(x) = 6.839634569831209\n",
      "iteration 27 \t x = -0.3458231704852417 \t f(x) = 2.1195936652444645\n",
      "iteration 28 \t x = -1.4890197515305796 \t f(x) = 4.217179820448189\n",
      "iteration 29 \t x = 0.8093676307610067 \t f(x) = 2.655075961723685\n",
      "iteration 30 \t x = 4.715889630158775 \t f(x) = 24.239615003839067\n",
      "iteration 31 \t x = 0.3288332707587909 \t f(x) = 2.1081313199579244\n",
      "iteration 32 \t x = -0.08905515668575398 \t f(x) = 2.0079308209323243\n",
      "iteration 33 \t x = -8.463175658445584 \t f(x) = 73.62534222570585\n",
      "iteration 34 \t x = 0.14572929480259056 \t f(x) = 2.0212370273636604\n",
      "iteration 35 \t x = 0.3887410244842918 \t f(x) = 2.151119584117097\n",
      "iteration 36 \t x = -3.636027997277719 \t f(x) = 15.22069959698742\n",
      "iteration 37 \t x = 1.0511769601252472 \t f(x) = 3.1049730014981556\n",
      "iteration 38 \t x = 2.25239627871262 \t f(x) = 7.0732889963584595\n",
      "iteration 39 \t x = 0.11129375578302314 \t f(x) = 2.012386300076291\n",
      "iteration 40 \t x = -0.740081116009626 \t f(x) = 2.5477200582740536\n",
      "iteration 41 \t x = 3.311717980835934 \t f(x) = 12.967475984592037\n",
      "iteration 42 \t x = -1.7307808890299237 \t f(x) = 4.995602485831213\n",
      "iteration 43 \t x = -4.8906804901736995 \t f(x) = 25.918755656965658\n",
      "iteration 44 \t x = -0.9763247048526411 \t f(x) = 2.9532099293055967\n",
      "iteration 45 \t x = -0.47296569439716496 \t f(x) = 2.2236965480765924\n",
      "iteration 46 \t x = 1.061369004313074 \t f(x) = 3.126504163316526\n",
      "iteration 47 \t x = -4.2521703837698155 \t f(x) = 20.08095297260914\n",
      "iteration 48 \t x = 2.0412181993917207 \t f(x) = 6.1665717375279785\n",
      "iteration 49 \t x = 4.830320460896546 \t f(x) = 25.331995754955823\n",
      "iteration 50 \t x = 1.1438104945983838 \t f(x) = 3.308302447553399\n",
      "iteration 51 \t x = 0.59003916414061 \t f(x) = 2.34814621521975\n",
      "iteration 52 \t x = -0.7642571575644259 \t f(x) = 2.5840890028884558\n",
      "iteration 53 \t x = 14.068246374962241 \t f(x) = 199.91555606663823\n",
      "iteration 54 \t x = -0.9584913049815924 \t f(x) = 2.918705581725316\n",
      "iteration 55 \t x = -1.1811274691315017 \t f(x) = 3.3950620983369864\n",
      "iteration 56 \t x = 0.40563281705279497 \t f(x) = 2.1645379822701862\n",
      "iteration 57 \t x = 3.196803557519104 \t f(x) = 12.219552985366798\n",
      "iteration 58 \t x = -0.19522109324767856 \t f(x) = 2.0381112752488186\n",
      "iteration 59 \t x = -0.874233347453238 \t f(x) = 2.764283945799294\n",
      "iteration 60 \t x = 1.7105274806822663 \t f(x) = 4.925904262169221\n",
      "iteration 61 \t x = -4.179630140237225 \t f(x) = 19.469308109179444\n",
      "iteration 62 \t x = 3.705545485748563 \t f(x) = 15.731067346951553\n",
      "iteration 63 \t x = 36.88752511324518 \t f(x) = 1362.689508980294\n",
      "iteration 64 \t x = 3.3180146309789436 \t f(x) = 13.009221091390335\n",
      "iteration 65 \t x = 2.9944467551550846 \t f(x) = 10.966711369458816\n",
      "iteration 66 \t x = 1.2571353169341197 \t f(x) = 3.5803892050830495\n",
      "iteration 67 \t x = 0.41500428326841765 \t f(x) = 2.172228555131133\n",
      "iteration 68 \t x = -0.8840670112981502 \t f(x) = 2.7815744804656437\n",
      "iteration 69 \t x = 5.046002282737354 \t f(x) = 27.46213903739059\n",
      "iteration 70 \t x = -1.552403806335275 \t f(x) = 4.40995757792425\n",
      "iteration 71 \t x = -2.8147004347863764 \t f(x) = 9.922538537586616\n",
      "iteration 72 \t x = -0.5425910483985437 \t f(x) = 2.2944050458022307\n",
      "iteration 73 \t x = 0.14081849685357906 \t f(x) = 2.0198298490561015\n",
      "iteration 74 \t x = 5.168115262869841 \t f(x) = 28.709415370308204\n",
      "iteration 75 \t x = -0.23964016781835085 \t f(x) = 2.0574274100320076\n",
      "iteration 76 \t x = -0.6570973671248461 \t f(x) = 2.431776949882405\n",
      "iteration 77 \t x = 2.0547072079300435 \t f(x) = 6.2218217103196745\n",
      "iteration 78 \t x = -2.3970514507920013 \t f(x) = 7.7458556577440385\n",
      "iteration 79 \t x = 20.228874993857943 \t f(x) = 411.2073835171312\n",
      "iteration 80 \t x = -2.8314352724486547 \t f(x) = 10.017025702066388\n",
      "iteration 81 \t x = -3.407211125819736 \t f(x) = 13.609087655909795\n",
      "iteration 82 \t x = -1.225794390983289 \t f(x) = 3.5025718889660924\n",
      "iteration 83 \t x = -0.46979013494194943 \t f(x) = 2.220702770888775\n",
      "iteration 84 \t x = 0.8399073392532651 \t f(x) = 2.7054443385314992\n",
      "iteration 85 \t x = -6.469788905658057 \t f(x) = 43.85816848377608\n",
      "iteration 86 \t x = 1.3204581832844609 \t f(x) = 3.743609813802899\n",
      "iteration 87 \t x = 2.0474671900155865 \t f(x) = 6.192121894190322\n",
      "iteration 88 \t x = 0.20891045022565513 \t f(x) = 2.043643576213486\n",
      "iteration 89 \t x = -0.6968083176641867 \t f(x) = 2.4855418315659943\n",
      "iteration 90 \t x = 4.397581302473144 \t f(x) = 21.338721311861395\n",
      "iteration 91 \t x = -1.3684360672637208 \t f(x) = 3.872617270188199\n",
      "iteration 92 \t x = -2.6468882276866132 \t f(x) = 9.00601728986598\n",
      "iteration 93 \t x = -0.4039766648043983 \t f(x) = 2.1631971457064854\n",
      "iteration 94 \t x = 0.3050672364941115 \t f(x) = 2.093066018782154\n",
      "iteration 95 \t x = 21.46650810759111 \t f(x) = 462.8109703332749\n",
      "iteration 96 \t x = 0.20892968164552528 \t f(x) = 2.0436516118725003\n",
      "iteration 97 \t x = 0.11464546779276906 \t f(x) = 2.013143583285423\n",
      "iteration 98 \t x = -6.106918786384764 \t f(x) = 39.29445706349916\n",
      "iteration 99 \t x = 0.4506020365693164 \t f(x) = 2.203042195360416\n",
      "iteration 100 \t x = 0.84008556318269 \t f(x) = 2.7057437534679774\n",
      "No root\n",
      "\n",
      "\t Root = 0.84008556318269\n",
      "No root\n"
     ]
    },
    {
     "data": {
      "text/plain": [
       "0.84008556318269"
      ]
     },
     "execution_count": 9,
     "metadata": {},
     "output_type": "execute_result"
    }
   ],
   "source": [
    "fx = lambda x: x**2 +2\n",
    "x0, x1, tol = 2, 5, 1e-4   # input\n",
    "fx0, fx1 = fx(x0), fx(x1)\n",
    "\n",
    "imax = 100   # maximum iteration\n",
    "i = 0\n",
    "while np.abs(x1-x0) >= tol:\n",
    "    x2 = x1 - fx1*(x1-x0)/(fx1-fx0)\n",
    "    x0, x1 = x1, x2\n",
    "    fx0, fx1 = fx1, fx(x2)\n",
    "    i = i+1\n",
    "    print(f'iteration {i} \\t x = {x1} \\t f(x) = {fx1}')\n",
    "    if i == imax:\n",
    "        print('No root')\n",
    "        break\n",
    "print(f'\\n\\t Root = {x1}')\n",
    "\n",
    "def secant_root_finding(fx, x0, x1, tol, max_iter):\n",
    "    imax = max_iter\n",
    "    fx0, fx1 = fx(x0), fx(x1)\n",
    "    i = 0\n",
    "    while np.abs(x1-x0) >= tol:\n",
    "        x2 = x1 - fx1*(x1-x0)/(fx1-fx0)\n",
    "        x0, x1 = x1, x2\n",
    "        fx0, fx1 = fx1, fx(x2)\n",
    "        i = i+1\n",
    "        # print(f'iteration {i} \\t x = {x1} \\t f(x) = {fx1}')\n",
    "        if i == imax:\n",
    "            print('No root')\n",
    "            break\n",
    "    return x1\n",
    "secant_root_finding(fx, 2, 5, 1e-4, 100)"
   ]
  },
  {
   "cell_type": "markdown",
   "metadata": {},
   "source": [
    "### 8.1.3 Newton-Raphson Method"
   ]
  },
  {
   "cell_type": "code",
   "execution_count": null,
   "metadata": {},
   "outputs": [],
   "source": []
  },
  {
   "cell_type": "markdown",
   "metadata": {},
   "source": [
    "**Algorithm:**\n",
    "\n",
    "1. input: $f(x), f'(x), a, tol$.\n",
    "\n",
    "2. Calculate $\\frac{f(x)}{f'(x)}$ and update $x$ until $|f(x)|>tol$."
   ]
  },
  {
   "cell_type": "code",
   "execution_count": 10,
   "metadata": {},
   "outputs": [
    {
     "name": "stdout",
     "output_type": "stream",
     "text": [
      "x = 1.96\n",
      "x = 1.056092726356459\n",
      "x = -1.9645030165199775\n",
      "x = -2.105187939287363\n",
      "x = -2.0946146311468476\n",
      "x = -2.0945514837873005\n",
      "\n",
      "Root = -2.0945514837873005\n"
     ]
    },
    {
     "data": {
      "text/plain": [
       "-2.0945525944736683"
      ]
     },
     "execution_count": 10,
     "metadata": {},
     "output_type": "execute_result"
    }
   ],
   "source": [
    "fx = lambda x: x**3 -2*x +5\n",
    "fpx = lambda x: 3*x**2 -2\n",
    "\n",
    "x, tol = 3, 1e-4    # input\n",
    "\n",
    "while np.abs(fx(x)) >= tol:\n",
    "    x = x - fx(x)/ fpx(x)\n",
    "    print(f'x = {x}')\n",
    "\n",
    "print(f'\\nRoot = {x}')\n",
    "\n",
    "def Newton_Raphson_root_finding(fx, fx_derivative, x, tol):\n",
    "    fpx = fx_derivative\n",
    "    while np.abs(fx(x)) >= tol:\n",
    "        x = x - fx(x)/ fpx(x)\n",
    "    # print(f'Root = {x}')\n",
    "    return x\n",
    "Newton_Raphson_root_finding(fx, fpx, 5, 1e-4)"
   ]
  },
  {
   "cell_type": "markdown",
   "metadata": {},
   "source": [
    "Comparison"
   ]
  },
  {
   "cell_type": "code",
   "execution_count": 11,
   "metadata": {},
   "outputs": [],
   "source": [
    "fx = lambda x: x**3 -2*x -5"
   ]
  },
  {
   "cell_type": "code",
   "execution_count": 12,
   "metadata": {},
   "outputs": [
    {
     "name": "stdout",
     "output_type": "stream",
     "text": [
      "16.3 µs ± 2.23 µs per loop (mean ± std. dev. of 7 runs, 10000 loops each)\n"
     ]
    }
   ],
   "source": [
    "%timeit bisection_root_finding(fx, 1, 5, 1e-4)"
   ]
  },
  {
   "cell_type": "code",
   "execution_count": 13,
   "metadata": {},
   "outputs": [
    {
     "name": "stdout",
     "output_type": "stream",
     "text": [
      "9.17 µs ± 389 ns per loop (mean ± std. dev. of 7 runs, 100000 loops each)\n"
     ]
    }
   ],
   "source": [
    "%timeit secant_root_finding(fx, 1, 5, 1e-4, 100)"
   ]
  },
  {
   "cell_type": "code",
   "execution_count": 14,
   "metadata": {},
   "outputs": [
    {
     "name": "stdout",
     "output_type": "stream",
     "text": [
      "9 µs ± 1.23 µs per loop (mean ± std. dev. of 7 runs, 100000 loops each)\n"
     ]
    }
   ],
   "source": [
    "%timeit Newton_Raphson_root_finding(fx, fpx, 5, 1e-4)"
   ]
  },
  {
   "cell_type": "markdown",
   "metadata": {},
   "source": [
    "### 8.1.4 System of Equations"
   ]
  },
  {
   "cell_type": "code",
   "execution_count": null,
   "metadata": {},
   "outputs": [],
   "source": []
  },
  {
   "cell_type": "markdown",
   "metadata": {},
   "source": [
    "### Exercises"
   ]
  },
  {
   "cell_type": "code",
   "execution_count": null,
   "metadata": {},
   "outputs": [],
   "source": []
  },
  {
   "cell_type": "code",
   "execution_count": null,
   "metadata": {},
   "outputs": [],
   "source": []
  },
  {
   "cell_type": "code",
   "execution_count": null,
   "metadata": {},
   "outputs": [],
   "source": []
  },
  {
   "cell_type": "markdown",
   "metadata": {},
   "source": [
    "## 8.2 Interpolation by Finite Differences Method"
   ]
  },
  {
   "cell_type": "markdown",
   "metadata": {},
   "source": [
    "### 8.2.1 Forward Differences"
   ]
  },
  {
   "cell_type": "code",
   "execution_count": null,
   "metadata": {},
   "outputs": [],
   "source": []
  },
  {
   "cell_type": "markdown",
   "metadata": {},
   "source": [
    "### 8.2.2 Interpolation with forward differences"
   ]
  },
  {
   "cell_type": "code",
   "execution_count": null,
   "metadata": {},
   "outputs": [],
   "source": []
  },
  {
   "cell_type": "code",
   "execution_count": null,
   "metadata": {},
   "outputs": [],
   "source": []
  },
  {
   "cell_type": "code",
   "execution_count": null,
   "metadata": {},
   "outputs": [],
   "source": []
  },
  {
   "cell_type": "code",
   "execution_count": null,
   "metadata": {},
   "outputs": [],
   "source": []
  },
  {
   "cell_type": "markdown",
   "metadata": {},
   "source": [
    "## 8.3 Differentiation"
   ]
  },
  {
   "cell_type": "code",
   "execution_count": null,
   "metadata": {},
   "outputs": [],
   "source": []
  },
  {
   "cell_type": "code",
   "execution_count": null,
   "metadata": {},
   "outputs": [],
   "source": []
  },
  {
   "cell_type": "code",
   "execution_count": null,
   "metadata": {},
   "outputs": [],
   "source": []
  },
  {
   "cell_type": "markdown",
   "metadata": {},
   "source": [
    "Working foumula:\n",
    "$$ f'(x_0) = \\frac{1}{h} \\left(\\Delta y_0 -\\frac{\\Delta^2y_0}{2} +\\frac{\\Delta^3y_0}{3} -\\frac{\\Delta^4y_0}{4} + \\dots \\right) $$\n",
    "Here, $x_0$ is the initial point of a given dataset."
   ]
  },
  {
   "cell_type": "code",
   "execution_count": 15,
   "metadata": {},
   "outputs": [
    {
     "name": "stdout",
     "output_type": "stream",
     "text": [
      "1st derivative = 1.0666666666666673.\n"
     ]
    }
   ],
   "source": [
    "x = [2,4,6,8,10]\n",
    "y = [10,12.5,16,21.8,32.4]\n",
    "h = 2\n",
    "sm = 0\n",
    "k = 0\n",
    "for i in range(len(y),1,-1):\n",
    "    y = np.diff(y)\n",
    "    sm += (-1)**k *y[0]/(k+1)\n",
    "    k += 1\n",
    "yp = sm/h\n",
    "print(f'1st derivative = {yp}.')\n",
    "\n",
    "def forward_diff_derivative(x, fx, dx):\n",
    "    y, h = fx, dx\n",
    "    sm = 0\n",
    "    k = 0\n",
    "    for i in range(len(y),1,-1):\n",
    "        y = np.diff(y)\n",
    "        sm += (-1)**k *y[0]/(k+1)\n",
    "        k += 1\n",
    "    return sm/h"
   ]
  },
  {
   "cell_type": "markdown",
   "metadata": {},
   "source": [
    "Problem"
   ]
  },
  {
   "cell_type": "code",
   "execution_count": 16,
   "metadata": {},
   "outputs": [],
   "source": [
    "x = [0.05,0.1,0.15,0.2,0.25,0.35,0.4,0.45]\n",
    "y = [0.95,0.86,0.82,0.78,0.7,0.67,0.61,0.58]\n",
    "\n",
    "# print(forward_diff_derivative(x,y,0.05)\n",
    "# ,forward_diff_derivative([0.05,0.1,0.15,0.2,0.25], [0.95,0.86,0.82,0.78,0.7],0.5)\n",
    "# ,forward_diff_derivative([0.2,0.25],[0.78,0.7],0.05)\n",
    "# )"
   ]
  },
  {
   "cell_type": "markdown",
   "metadata": {},
   "source": [
    "## 8.4 Integration\n",
    "$$ I = \\int_a^b f(x) \\,dx $$"
   ]
  },
  {
   "cell_type": "code",
   "execution_count": null,
   "metadata": {},
   "outputs": [],
   "source": []
  },
  {
   "cell_type": "markdown",
   "metadata": {},
   "source": [
    "Composite trapizoidal method:\n",
    "$$ I = h \\left(\\frac{y_0+y_n}{2} +y_1 +y_2 +\\dots +y_{n-1} \\right) $$"
   ]
  },
  {
   "cell_type": "code",
   "execution_count": 22,
   "metadata": {},
   "outputs": [
    {
     "name": "stdout",
     "output_type": "stream",
     "text": [
      "Value of integral = 18.66680000000001.\n"
     ]
    }
   ],
   "source": [
    "fx = lambda x: x**2     # input\n",
    "a, b, n = 2, 4, 100     # input\n",
    "\n",
    "h = (b-a)/n\n",
    "sm = (fx(a) +fx(b))/2\n",
    "for i in range(1, n):\n",
    "    x = a + i*h\n",
    "    sm += fx(x)\n",
    "I = h*sm\n",
    "print(f'Value of integral = {I}.')"
   ]
  },
  {
   "cell_type": "markdown",
   "metadata": {},
   "source": [
    "Composite Simpson's method:\n",
    "$$ I = \\frac{h}{3} \\left[ y_0 + 4(y_1+y_3+ \\dots +y_{n-1}) + 2(y_2+y_4+\\dots+y_{n-2}) +y_n \\right] $$"
   ]
  },
  {
   "cell_type": "code",
   "execution_count": 18,
   "metadata": {},
   "outputs": [
    {
     "name": "stdout",
     "output_type": "stream",
     "text": [
      "Value of integral = 18.666666666666675.\n"
     ]
    }
   ],
   "source": [
    "fx = lambda x: x**2\n",
    "a, b, n = 2, 4, 100\n",
    "\n",
    "h = (b-a)/n\n",
    "d = 4\n",
    "sm = fx(a) + fx(b)\n",
    "for k in range(1,n):\n",
    "    x = a + k*h\n",
    "    sm += d*fx(x)\n",
    "    d = 6-d\n",
    "I = (h/3) * sm\n",
    "print(f'Value of integral = {I}.')"
   ]
  },
  {
   "cell_type": "code",
   "execution_count": 24,
   "metadata": {},
   "outputs": [
    {
     "name": "stdout",
     "output_type": "stream",
     "text": [
      "Value of integral = 18.799733333333343.\n"
     ]
    }
   ],
   "source": [
    "fx = lambda x: x**2\n",
    "a, b, n = 2, 4, 100  # input\n",
    "\n",
    "h = (b-a)/n\n",
    "x1 = np.arange(a+h, b, 2*h)\n",
    "x2 = np.arange(a+2*h, b, 2*h)\n",
    "I = (h/3) * (fx(a) + 4*np.sum(fx(x1)) + 2*np.sum(fx(x1)) + fx(b))\n",
    "print(f'Value of integral = {I}.')  # why different?"
   ]
  },
  {
   "cell_type": "markdown",
   "metadata": {},
   "source": [
    "### Exercises"
   ]
  },
  {
   "cell_type": "code",
   "execution_count": null,
   "metadata": {},
   "outputs": [],
   "source": []
  },
  {
   "cell_type": "code",
   "execution_count": null,
   "metadata": {},
   "outputs": [],
   "source": []
  },
  {
   "cell_type": "markdown",
   "metadata": {},
   "source": [
    "## 8.5 Ordinary Differential Equations (ODE)"
   ]
  },
  {
   "cell_type": "code",
   "execution_count": null,
   "metadata": {},
   "outputs": [],
   "source": []
  },
  {
   "cell_type": "markdown",
   "metadata": {},
   "source": [
    "Euler Method"
   ]
  },
  {
   "cell_type": "code",
   "execution_count": null,
   "metadata": {},
   "outputs": [],
   "source": []
  },
  {
   "cell_type": "markdown",
   "metadata": {},
   "source": [
    "RK2 method"
   ]
  },
  {
   "cell_type": "code",
   "execution_count": null,
   "metadata": {},
   "outputs": [],
   "source": []
  },
  {
   "cell_type": "markdown",
   "metadata": {},
   "source": [
    "RK4 method"
   ]
  },
  {
   "cell_type": "code",
   "execution_count": null,
   "metadata": {},
   "outputs": [],
   "source": []
  },
  {
   "cell_type": "code",
   "execution_count": null,
   "metadata": {},
   "outputs": [],
   "source": []
  },
  {
   "cell_type": "code",
   "execution_count": null,
   "metadata": {},
   "outputs": [],
   "source": []
  },
  {
   "cell_type": "markdown",
   "metadata": {},
   "source": [
    "## 8.6 Solving System of Linear Equations"
   ]
  },
  {
   "cell_type": "code",
   "execution_count": null,
   "metadata": {},
   "outputs": [],
   "source": []
  },
  {
   "cell_type": "code",
   "execution_count": null,
   "metadata": {},
   "outputs": [],
   "source": []
  }
 ],
 "metadata": {
  "kernelspec": {
   "display_name": "base",
   "language": "python",
   "name": "python3"
  },
  "language_info": {
   "codemirror_mode": {
    "name": "ipython",
    "version": 3
   },
   "file_extension": ".py",
   "mimetype": "text/x-python",
   "name": "python",
   "nbconvert_exporter": "python",
   "pygments_lexer": "ipython3",
   "version": "3.9.13"
  }
 },
 "nbformat": 4,
 "nbformat_minor": 2
}
