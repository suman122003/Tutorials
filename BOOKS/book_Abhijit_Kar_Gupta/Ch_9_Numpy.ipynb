{
 "cells": [
  {
   "cell_type": "markdown",
   "metadata": {},
   "source": [
    "# 9. Numpy (Abhijit Kar Gupta)"
   ]
  },
  {
   "cell_type": "code",
   "execution_count": 1,
   "metadata": {},
   "outputs": [],
   "source": [
    "import numpy as np\n",
    "import matplotlib.pyplot as plt"
   ]
  },
  {
   "cell_type": "markdown",
   "metadata": {},
   "source": [
    "## 9.1 Introducing Arrays"
   ]
  },
  {
   "cell_type": "code",
   "execution_count": 2,
   "metadata": {},
   "outputs": [
    {
     "data": {
      "text/plain": [
       "array([2, 4, 2, 4, 5, 3, 6, 2, 2, 5, 0, 5])"
      ]
     },
     "metadata": {},
     "output_type": "display_data"
    },
    {
     "data": {
      "text/plain": [
       "array([[2, 5, 1, 3],\n",
       "       [1, 6, 6, 7]])"
      ]
     },
     "metadata": {},
     "output_type": "display_data"
    },
    {
     "data": {
      "text/plain": [
       "array([[4.+0.j, 1.+0.j, 5.+0.j],\n",
       "       [5.+0.j, 2.+0.j, 6.+0.j],\n",
       "       [6.+0.j, 2.+0.j, 4.+2.j]])"
      ]
     },
     "metadata": {},
     "output_type": "display_data"
    },
    {
     "data": {
      "text/plain": [
       "array(['0', '1', '2', '3', '4', '5', '6', '7', '8', '9', 'A', 'B', 'C',\n",
       "       'D', 'E', 'F'], dtype='<U11')"
      ]
     },
     "metadata": {},
     "output_type": "display_data"
    }
   ],
   "source": [
    "l1 = [2,4,2,4,5,3,6,2,2,5,0,5]\n",
    "l2 = [[2,5,1,3],[1,6,6,7]]\n",
    "l3 = [[4,1,5],[5,2,6],[6,2,4+2j]]\n",
    "l4 = [0, 1, 2, 3, 4, 5, 6, 7, 8, 9, 'A','B','C','D','E','F']\n",
    "\n",
    "ar1 = np.array(l1)\n",
    "ar2 = np.array(l2)\n",
    "ar3 = np.array(l3)\n",
    "ar4 = np.array(l4)\n",
    "\n",
    "display(ar1, ar2, ar3, ar4)"
   ]
  },
  {
   "cell_type": "code",
   "execution_count": 3,
   "metadata": {},
   "outputs": [
    {
     "name": "stdout",
     "output_type": "stream",
     "text": [
      "shapes: (12,) (2, 4)\n",
      "ndim: 1 2\n",
      "reshape: [[2 4 2]\n",
      " [4 5 3]\n",
      " [6 2 2]\n",
      " [5 0 5]] (12,)\n",
      "resize: [[2 4]\n",
      " [2 4]\n",
      " [5 3]\n",
      " [6 2]\n",
      " [2 5]\n",
      " [0 5]] (6, 2)\n",
      "dtypes: int32 int32 complex128 <U11 complex128\n"
     ]
    }
   ],
   "source": [
    "print('shapes:', ar1.shape, ar2.shape)\n",
    "print('ndim:', ar1.ndim, ar2.ndim)\n",
    "print('reshape:', ar1.reshape(4,3), ar1.shape)\n",
    "ar1.resize(6,2)\n",
    "print('resize:', ar1, ar1.shape)\n",
    "\n",
    "ar1c = np.array(l1, dtype='complex')\n",
    "print('dtypes:', ar1.dtype, ar2.dtype, ar3.dtype, ar4.dtype, ar1c.dtype)"
   ]
  },
  {
   "cell_type": "markdown",
   "metadata": {},
   "source": [
    "Special arrays"
   ]
  },
  {
   "cell_type": "code",
   "execution_count": 4,
   "metadata": {},
   "outputs": [
    {
     "name": "stdout",
     "output_type": "stream",
     "text": [
      "zeros: [0. 0. 0. 0.] [[0. 0.]\n",
      " [0. 0.]\n",
      " [0. 0.]]\n",
      "ones: [1. 1. 1. 1.] [[1. 1. 1.]\n",
      " [1. 1. 1.]]\n",
      "constant - full: [[8 8 8 8]\n",
      " [8 8 8 8]]\n",
      "identity matrix - eye: [[1. 0. 0.]\n",
      " [0. 1. 0.]\n",
      " [0. 0. 1.]]\n",
      "random: [[0.42145812 0.27985541 0.50836044]\n",
      " [0.49881903 0.99617629 0.43757142]]\n"
     ]
    }
   ],
   "source": [
    "print('zeros:', np.zeros(4), np.zeros((3,2)))\n",
    "print('ones:', np.ones(4), np.ones((2,3)))\n",
    "print('constant - full:', np.full((2,4),8))\n",
    "print('identity matrix - eye:', np.eye(3))\n",
    "print('random:', np.random.random((2,3)))"
   ]
  },
  {
   "cell_type": "markdown",
   "metadata": {},
   "source": [
    "arange: **`np.arange(start, end, step)`**\n",
    "\n",
    "linspace: **`np.linspace(start, end, no. of elements)`**"
   ]
  },
  {
   "cell_type": "code",
   "execution_count": 5,
   "metadata": {},
   "outputs": [
    {
     "name": "stdout",
     "output_type": "stream",
     "text": [
      "arange: [ 5.   7.5 10.  12.5 15.  17.5 20.  22.5]\n",
      "linspace: [1.         1.66666667 2.33333333 3.         3.66666667 4.33333333\n",
      " 5.         5.66666667 6.33333333 7.        ]\n"
     ]
    }
   ],
   "source": [
    "print('arange:', np.arange(5,25,2.5))\n",
    "print('linspace:', np.linspace(1,7,10))"
   ]
  },
  {
   "cell_type": "markdown",
   "metadata": {},
   "source": [
    "Algebra with arrays"
   ]
  },
  {
   "cell_type": "code",
   "execution_count": 6,
   "metadata": {},
   "outputs": [
    {
     "name": "stdout",
     "output_type": "stream",
     "text": [
      "a = [4 7 8 5 6 1] \n",
      "b = [1 4 2 9 8 3]\n",
      "operations on elements: [ 63.25       194.28571429 255.25        94.6        140.\n",
      "  -5.        ]\n",
      "sum = 31 \t product = 6720 \t max = 8\n",
      "average = 5.166666666666667 \t mean = 5.166666666666667 \t median = 5.5 \t variance = 5.138888888888889\n",
      "difference between consecutive elements = [ 3  1 -3  1 -5]\n",
      "conjugate: [2.-0.j 4.-1.j 7.-0.j 1.-0.j 7.+2.j]\n"
     ]
    }
   ],
   "source": [
    "a = np.array([4,7,8,5,6,1])\n",
    "b = np.array([1,4,2,9,8,3])\n",
    "print('a =', a, '\\nb =', b)\n",
    "\n",
    "print('operations on elements:', 4*a**2-3*b/a)\n",
    "print('sum =', sum(a), '\\t product =', np.prod(a), '\\t max =', max(a))\n",
    "print('average =', np.average(a), '\\t mean =', np.mean(a), \n",
    "        '\\t median =', np.median(a), '\\t variance =', np.var(a))\n",
    "print('difference between consecutive elements =', np.diff(a))\n",
    "\n",
    "c = np.array([2, 4+1j, 7, 1, 7-2j])\n",
    "print('conjugate:', np.conj(c))"
   ]
  },
  {
   "cell_type": "code",
   "execution_count": 7,
   "metadata": {},
   "outputs": [
    {
     "name": "stdout",
     "output_type": "stream",
     "text": [
      "lower end integer: 4.0\n",
      "upper end integer: 8.0\n"
     ]
    }
   ],
   "source": [
    "print('lower end integer:', np.floor(4.3656))\n",
    "print('upper end integer:', np.ceil(np.exp(2)))"
   ]
  },
  {
   "cell_type": "code",
   "execution_count": 8,
   "metadata": {},
   "outputs": [
    {
     "name": "stdout",
     "output_type": "stream",
     "text": [
      "concatenation: [4 7 8 5 6 1 1 4 2 9 8 3]\n"
     ]
    }
   ],
   "source": [
    "print('concatenation:', np.concatenate((a,b)))"
   ]
  },
  {
   "cell_type": "markdown",
   "metadata": {},
   "source": [
    "arrays as Matrix"
   ]
  },
  {
   "cell_type": "code",
   "execution_count": 9,
   "metadata": {},
   "outputs": [
    {
     "name": "stdout",
     "output_type": "stream",
     "text": [
      "matrix a = [[4 7 8]\n",
      " [5 6 1]] \n",
      "matrix b = [[1 4 2]\n",
      " [9 8 3]] \n",
      "matrix bt (transpose) = [[1 9]\n",
      " [4 8]\n",
      " [2 3]]\n",
      "addition and subtraction [[ 5 11 10]\n",
      " [14 14  4]] [[13.5 18.  27. ]\n",
      " [-2.5  4.  -3.5]]\n",
      "matrix multiplication: [[ 48 116]\n",
      " [ 31  96]] [[ 48 116]\n",
      " [ 31  96]]\n",
      "trace: 10\n"
     ]
    }
   ],
   "source": [
    "amat, bmat = a.reshape(2,3), b.reshape(2,3)\n",
    "bt = bmat.T\n",
    "print('matrix a =', amat, '\\nmatrix b =', bmat, '\\nmatrix bt (transpose) =', bt)\n",
    "\n",
    "print('addition and subtraction', np.add(amat, bmat), 4*amat-5*bmat/2)\n",
    "print('matrix multiplication:', np.dot(amat, bt), amat @ bt)\n",
    "print('trace:', np.trace(amat))"
   ]
  },
  {
   "cell_type": "markdown",
   "metadata": {},
   "source": [
    "grids by arrays"
   ]
  },
  {
   "cell_type": "code",
   "execution_count": 10,
   "metadata": {},
   "outputs": [
    {
     "data": {
      "text/plain": [
       "array([[[0, 0],\n",
       "        [1, 1],\n",
       "        [2, 2],\n",
       "        [3, 3]],\n",
       "\n",
       "       [[0, 1],\n",
       "        [0, 1],\n",
       "        [0, 1],\n",
       "        [0, 1]]])"
      ]
     },
     "metadata": {},
     "output_type": "display_data"
    },
    {
     "data": {
      "text/plain": [
       "array([[[[0, 0, 0, 0],\n",
       "         [0, 0, 0, 0],\n",
       "         [0, 0, 0, 0]],\n",
       "\n",
       "        [[1, 1, 1, 1],\n",
       "         [1, 1, 1, 1],\n",
       "         [1, 1, 1, 1]]],\n",
       "\n",
       "\n",
       "       [[[0, 0, 0, 0],\n",
       "         [1, 1, 1, 1],\n",
       "         [2, 2, 2, 2]],\n",
       "\n",
       "        [[0, 0, 0, 0],\n",
       "         [1, 1, 1, 1],\n",
       "         [2, 2, 2, 2]]],\n",
       "\n",
       "\n",
       "       [[[0, 1, 2, 3],\n",
       "         [0, 1, 2, 3],\n",
       "         [0, 1, 2, 3]],\n",
       "\n",
       "        [[0, 1, 2, 3],\n",
       "         [0, 1, 2, 3],\n",
       "         [0, 1, 2, 3]]]])"
      ]
     },
     "metadata": {},
     "output_type": "display_data"
    },
    {
     "data": {
      "text/plain": [
       "array([[[0. , 0. , 0. ],\n",
       "        [0.5, 0.5, 0.5],\n",
       "        [1. , 1. , 1. ],\n",
       "        [1.5, 1.5, 1.5]],\n",
       "\n",
       "       [[0. , 1. , 2. ],\n",
       "        [0. , 1. , 2. ],\n",
       "        [0. , 1. , 2. ],\n",
       "        [0. , 1. , 2. ]]])"
      ]
     },
     "metadata": {},
     "output_type": "display_data"
    }
   ],
   "source": [
    "g1 = np.mgrid[0:4, 0:2]\n",
    "g2 = np.mgrid[0:2, 0:3, 0:4]\n",
    "g3 = np.mgrid[0:2:0.5, 0:3] # scale = 0.5\n",
    "display(g1, g2, g3)"
   ]
  },
  {
   "cell_type": "markdown",
   "metadata": {},
   "source": [
    "Functions of arrays"
   ]
  },
  {
   "cell_type": "code",
   "execution_count": 11,
   "metadata": {},
   "outputs": [
    {
     "name": "stdout",
     "output_type": "stream",
     "text": [
      "[[12.24670338 38.78460087 68.14348038]\n",
      " [27.88031436 39.96476739 -0.26902679]]\n"
     ]
    }
   ],
   "source": [
    "def fa(x):\n",
    "    return x**2 - np.sin(2*x)*np.exp(x/3)\n",
    "\n",
    "print(fa(amat))"
   ]
  },
  {
   "cell_type": "markdown",
   "metadata": {},
   "source": [
    "slicing of arrays"
   ]
  },
  {
   "cell_type": "code",
   "execution_count": 12,
   "metadata": {},
   "outputs": [
    {
     "data": {
      "text/plain": [
       "'ar1d'"
      ]
     },
     "metadata": {},
     "output_type": "display_data"
    },
    {
     "data": {
      "text/plain": [
       "array([ 0,  1,  2,  3,  4,  5,  6,  7,  8,  9, 10, 11, 12, 13, 14, 15, 16,\n",
       "       17, 18, 19, 20])"
      ]
     },
     "metadata": {},
     "output_type": "display_data"
    },
    {
     "data": {
      "text/plain": [
       "'ar2d'"
      ]
     },
     "metadata": {},
     "output_type": "display_data"
    },
    {
     "data": {
      "text/plain": [
       "array([[ 0,  1,  2,  3,  4],\n",
       "       [ 5,  6,  7,  8,  9],\n",
       "       [10, 11, 12, 13, 14],\n",
       "       [15, 16, 17, 18, 19]])"
      ]
     },
     "metadata": {},
     "output_type": "display_data"
    },
    {
     "data": {
      "text/plain": [
       "array([ 0,  4,  8, 12, 16, 20])"
      ]
     },
     "metadata": {},
     "output_type": "display_data"
    },
    {
     "data": {
      "text/plain": [
       "array([ 2,  5,  8, 11])"
      ]
     },
     "metadata": {},
     "output_type": "display_data"
    },
    {
     "data": {
      "text/plain": [
       "array([[ 5,  7,  9],\n",
       "       [10, 12, 14],\n",
       "       [15, 17, 19]])"
      ]
     },
     "metadata": {},
     "output_type": "display_data"
    }
   ],
   "source": [
    "ar1d = np.arange(21)\n",
    "ar2d = np.arange(20).reshape(4,5)\n",
    "display('ar1d', ar1d, 'ar2d', ar2d)\n",
    "\n",
    "display(ar1d[::4], ar1d[2:14:3])\n",
    "display(ar2d[1:4,:5:2])"
   ]
  },
  {
   "cell_type": "markdown",
   "metadata": {},
   "source": [
    "arrays as vectors"
   ]
  },
  {
   "cell_type": "code",
   "execution_count": 13,
   "metadata": {},
   "outputs": [
    {
     "data": {
      "text/plain": [
       "'v1'"
      ]
     },
     "metadata": {},
     "output_type": "display_data"
    },
    {
     "data": {
      "text/plain": [
       "array([4, 7, 2])"
      ]
     },
     "metadata": {},
     "output_type": "display_data"
    },
    {
     "data": {
      "text/plain": [
       "'v2'"
      ]
     },
     "metadata": {},
     "output_type": "display_data"
    },
    {
     "data": {
      "text/plain": [
       "array([7, 0, 3])"
      ]
     },
     "metadata": {},
     "output_type": "display_data"
    },
    {
     "data": {
      "text/plain": [
       "'m1'"
      ]
     },
     "metadata": {},
     "output_type": "display_data"
    },
    {
     "data": {
      "text/plain": [
       "array([[4, 7, 8],\n",
       "       [5, 6, 1]])"
      ]
     },
     "metadata": {},
     "output_type": "display_data"
    },
    {
     "data": {
      "text/plain": [
       "'m2'"
      ]
     },
     "metadata": {},
     "output_type": "display_data"
    },
    {
     "data": {
      "text/plain": [
       "array([[1, 4, 2],\n",
       "       [9, 8, 3]])"
      ]
     },
     "metadata": {},
     "output_type": "display_data"
    },
    {
     "name": "stdout",
     "output_type": "stream",
     "text": [
      "inner product: [16 28  8] 34 [[2.5 0.  0. ]\n",
      " [0.  2.5 0. ]\n",
      " [0.  0.  2.5]] [[ 48 116]\n",
      " [ 31  96]]\n",
      "vector product (dot): 34 144\n",
      "cross product: [ 21   2 -49]\n"
     ]
    }
   ],
   "source": [
    "v1 = np.array([4,7,2])\n",
    "v2 = np.array([7,0,3])\n",
    "m1, m2 = amat, bmat\n",
    "display('v1', v1, 'v2', v2, 'm1', m1, 'm2', m2)\n",
    "\n",
    "print('inner product:', np.inner(4,v1), np.inner(v1, v2), np.inner(np.eye(3),2.5), np.inner(m1, m2))\n",
    "print('vector product (dot):', np.vdot(v1, v2), np.vdot(m1, m2))\n",
    "print('cross product:', np.cross(v1, v2))"
   ]
  },
  {
   "cell_type": "markdown",
   "metadata": {},
   "source": [
    "**Example:** Volume of a Parallelepiped:\n",
    "\n",
    "Three sides are given bythree vectors: $\\vec{A} = 2\\hat{i}-3\\hat{j}$, $\\vec{B} = \\hat{i}+\\hat{j}-\\hat{k}$ and $\\vec{C} = 3\\hat{i}-\\hat{k}$.\n",
    "\n",
    "**Solution:** Formula for Volume of a Parallelepiped:, $$V = \\vec{A}.(\\vec{B}\\times\\vec{C})$$"
   ]
  },
  {
   "cell_type": "code",
   "execution_count": 14,
   "metadata": {},
   "outputs": [
    {
     "name": "stdout",
     "output_type": "stream",
     "text": [
      "Volume of the Parallelepiped: 4\n"
     ]
    }
   ],
   "source": [
    "av = np.array([2,-3,0])\n",
    "bv = np.array([1,1,-1])\n",
    "cv = np.array([3,0,-1])\n",
    "\n",
    "vol = np.vdot(av, np.cross(bv, cv))\n",
    "print('Volume of the Parallelepiped:', vol)"
   ]
  },
  {
   "cell_type": "markdown",
   "metadata": {},
   "source": [
    "## 9.2 Polynomial by Numpy"
   ]
  },
  {
   "cell_type": "code",
   "execution_count": 15,
   "metadata": {},
   "outputs": [],
   "source": [
    "from numpy import poly1d"
   ]
  },
  {
   "cell_type": "code",
   "execution_count": 16,
   "metadata": {},
   "outputs": [
    {
     "name": "stdout",
     "output_type": "stream",
     "text": [
      "polynomials:  \n",
      "1 x + 4\n",
      "   2\n",
      "2 x + 5 x + 3\n",
      "   3     2\n",
      "1 x + 4 x + 2 x + 5\n",
      "using as a function: 7 (1+5j) -30\n"
     ]
    },
    {
     "data": {
      "text/plain": [
       "'coefficients:'"
      ]
     },
     "metadata": {},
     "output_type": "display_data"
    },
    {
     "data": {
      "text/plain": [
       "array([1, 4])"
      ]
     },
     "metadata": {},
     "output_type": "display_data"
    },
    {
     "data": {
      "text/plain": [
       "array([2, 5, 3])"
      ]
     },
     "metadata": {},
     "output_type": "display_data"
    },
    {
     "data": {
      "text/plain": [
       "array([1, 4, 2, 5])"
      ]
     },
     "metadata": {},
     "output_type": "display_data"
    },
    {
     "name": "stdout",
     "output_type": "stream",
     "text": [
      "orders: 1 2 3\n"
     ]
    }
   ],
   "source": [
    "p1 = np.poly1d([1,4])\n",
    "p2 = np.poly1d([2,5,3])\n",
    "p3 = np.poly1d([1,4,2,5])\n",
    "\n",
    "print('polynomials:', p1)\n",
    "print(p2)\n",
    "print(p3)\n",
    "print('using as a function:', p1(3), p2(1j), p3(-5))\n",
    "display('coefficients:', p1.c, p2.c, p3.c)\n",
    "print('orders:', p1.order, p2.order, p3.order)"
   ]
  },
  {
   "cell_type": "code",
   "execution_count": 17,
   "metadata": {},
   "outputs": [
    {
     "data": {
      "image/png": "[encoded data removed]",
      "text/plain": [
       "<Figure size 640x480 with 1 Axes>"
      ]
     },
     "metadata": {},
     "output_type": "display_data"
    }
   ],
   "source": [
    "x = np.linspace(0,2,50)\n",
    "plt.plot(x, p1(x), label=p1)\n",
    "plt.plot(x, p2(x), label=p2)\n",
    "plt.plot(x, p3(x), label=p3)\n",
    "plt.legend()\n",
    "plt.grid()\n",
    "plt.show()"
   ]
  },
  {
   "cell_type": "markdown",
   "metadata": {},
   "source": [
    "Operations"
   ]
  },
  {
   "cell_type": "code",
   "execution_count": 18,
   "metadata": {},
   "outputs": [
    {
     "name": "stdout",
     "output_type": "stream",
     "text": [
      " \n",
      "1 x + 2  \n",
      "2 x + 5\n",
      "addition and subtraction:  \n",
      "4 x + 9  \n",
      "-1 x - 5\n",
      "multiplication:\n",
      "   2\n",
      "2 x + 9 x + 10\n",
      "division: (poly1d([2.]), poly1d([1.])) \n",
      "result:  \n",
      "2 \n",
      "remainder:  \n",
      "1\n",
      "functions:\n",
      "   2\n",
      "1 x + 15.75 x - 43.56\n"
     ]
    },
    {
     "data": {
      "text/plain": [
       "'roots:'"
      ]
     },
     "metadata": {},
     "output_type": "display_data"
    },
    {
     "data": {
      "text/plain": [
       "array([-1.5, -1. ])"
      ]
     },
     "metadata": {},
     "output_type": "display_data"
    },
    {
     "data": {
      "text/plain": [
       "array([-3.81912114+0.j        , -0.09043943+1.14062371j,\n",
       "       -0.09043943-1.14062371j])"
      ]
     },
     "metadata": {},
     "output_type": "display_data"
    }
   ],
   "source": [
    "p1a = poly1d([1,2])\n",
    "p1b = poly1d([2,5])\n",
    "print(p1a, p1b)\n",
    "print('addition and subtraction:', 2*p1a + p1b, 5*p1a-3*p1b)\n",
    "print('multiplication:')\n",
    "print(p1b*p1a)\n",
    "print('division:', p1b/p1a, \n",
    "      '\\nresult:', (p1b/p1a)[0], '\\nremainder:', (p1b/p1a)[1])\n",
    "\n",
    "print('functions:')\n",
    "print(p1a**2 + 8*np.cos(p1a)*np.exp(p1b/2) - 7)\n",
    "\n",
    "display('roots:', p2.r, p3.r)"
   ]
  },
  {
   "cell_type": "markdown",
   "metadata": {},
   "source": [
    "Differentiation and Integration"
   ]
  },
  {
   "cell_type": "code",
   "execution_count": 19,
   "metadata": {},
   "outputs": [
    {
     "name": "stdout",
     "output_type": "stream",
     "text": [
      "\t derivatives:\n",
      " \n",
      "4 x + 5 ; first derivative.\n",
      " \n",
      "4 ; second derivative.\n",
      "\n",
      "\t indefinite integration (without constants):\n",
      "     2\n",
      "0.5 x + 4 x\n",
      "        3     2\n",
      "0.1667 x + 2 x ; double integral.\n"
     ]
    }
   ],
   "source": [
    "print('\\t derivatives:')\n",
    "print(p2.deriv(), '; first derivative.')\n",
    "print(p2.deriv(2), '; second derivative.')\n",
    "\n",
    "print('\\n\\t indefinite integration (without constants):')\n",
    "print(p1.integ())\n",
    "print(p1.integ(2), '; double integral.')"
   ]
  },
  {
   "cell_type": "markdown",
   "metadata": {},
   "source": [
    "## 9.3 Curve Fitting by numpy"
   ]
  },
  {
   "cell_type": "code",
   "execution_count": 20,
   "metadata": {},
   "outputs": [],
   "source": [
    "import numpy.polynomial.polynomial as poly"
   ]
  },
  {
   "cell_type": "code",
   "execution_count": 21,
   "metadata": {},
   "outputs": [
    {
     "data": {
      "text/plain": [
       "array([7.81909091e+01, 1.10204545e+00, 9.12878788e-03])"
      ]
     },
     "metadata": {},
     "output_type": "display_data"
    }
   ],
   "source": [
    "xdata = np.array([0,10,20,30,40,50,60,70,80,90])\n",
    "ydata = np.array([76, 92,106, 123, 132, 151, 179,203,227,249])\n",
    "\n",
    "coeffs = poly.polyfit(xdata, ydata, 2)  # order = 2\n",
    "display(coeffs)\n",
    "\n",
    "yfit = poly.polyval(xdata, coeffs)\n",
    "x1 = np.linspace(0,90,100)\n",
    "yfit1 = poly.polyval(x1, coeffs)"
   ]
  },
  {
   "cell_type": "code",
   "execution_count": 22,
   "metadata": {},
   "outputs": [
    {
     "data": {
      "text/plain": [
       "[array([97.48333333]),\n",
       " 3,\n",
       " array([1.64219501, 0.53895301, 0.11280603]),\n",
       " 2.220446049250313e-15]"
      ]
     },
     "metadata": {},
     "output_type": "display_data"
    }
   ],
   "source": [
    "# for full information:\n",
    "coeffs1, res = poly.polyfit(xdata, ydata, 2, full = True)\n",
    "display(res)"
   ]
  },
  {
   "cell_type": "code",
   "execution_count": 23,
   "metadata": {},
   "outputs": [
    {
     "data": {
      "image/png": "[encoded data removed]",
      "text/plain": [
       "<Figure size 640x480 with 1 Axes>"
      ]
     },
     "metadata": {},
     "output_type": "display_data"
    }
   ],
   "source": [
    "plt.plot(xdata, ydata, 'o')\n",
    "plt.plot(x1, yfit1)\n",
    "plt.grid()\n",
    "plt.show()"
   ]
  },
  {
   "cell_type": "markdown",
   "metadata": {},
   "source": [
    "All the polynomial modules and functions being used here, are available with scipy too."
   ]
  },
  {
   "cell_type": "markdown",
   "metadata": {},
   "source": [
    "$\\chi^2$ (chi-square) test to see the goodness of fit:"
   ]
  },
  {
   "cell_type": "code",
   "execution_count": 24,
   "metadata": {},
   "outputs": [
    {
     "data": {
      "text/plain": [
       "Power_divergenceResult(statistic=0.6945991858131235, pvalue=0.9998765425805308)"
      ]
     },
     "execution_count": 24,
     "metadata": {},
     "output_type": "execute_result"
    }
   ],
   "source": [
    "from scipy.stats import chisquare\n",
    "chisquare(ydata, yfit)"
   ]
  },
  {
   "cell_type": "markdown",
   "metadata": {},
   "source": [
    "by **`np.polyfit()`**:"
   ]
  },
  {
   "cell_type": "code",
   "execution_count": 25,
   "metadata": {},
   "outputs": [
    {
     "data": {
      "text/plain": [
       "array([7.81909091e+01, 1.10204545e+00, 9.12878788e-03])"
      ]
     },
     "metadata": {},
     "output_type": "display_data"
    },
    {
     "data": {
      "text/plain": [
       "array([9.12878788e-03, 1.10204545e+00, 7.81909091e+01])"
      ]
     },
     "metadata": {},
     "output_type": "display_data"
    },
    {
     "data": {
      "text/plain": [
       "array([[ 2.63753608e-06, -2.37378247e-04,  3.16504329e-03],\n",
       "       [-2.37378247e-04,  2.30520653e-02, -3.60814935e-01],\n",
       "       [ 3.16504329e-03, -3.60814935e-01,  8.60891775e+00]])"
      ]
     },
     "metadata": {},
     "output_type": "display_data"
    },
    {
     "data": {
      "text/plain": [
       "array([1.62404928e-03, 1.51829066e-01, 2.93409573e+00])"
      ]
     },
     "metadata": {},
     "output_type": "display_data"
    },
    {
     "name": "stdout",
     "output_type": "stream",
     "text": [
      "function:\n",
      "          2\n",
      "0.009129 x + 1.102 x + 78.19\n"
     ]
    }
   ],
   "source": [
    "coeffs2 = np.polyfit(xdata, ydata, 2) # opposite order\n",
    "display(coeffs, coeffs2)\n",
    "\n",
    "coeffs2p, cov = np.polyfit(xdata, ydata, 2, cov=True)\n",
    "display(cov) # covariance matrix; diagonal elements are the variances\n",
    "stddev = np.sqrt(np.diag(cov)) # standard deviation\n",
    "display(stddev)\n",
    "\n",
    "fn = poly1d(coeffs2)\n",
    "print('function:')\n",
    "print(fn)"
   ]
  },
  {
   "cell_type": "markdown",
   "metadata": {},
   "source": [
    "User defined functions (**`curve_fit`**)"
   ]
  },
  {
   "cell_type": "code",
   "execution_count": 26,
   "metadata": {},
   "outputs": [],
   "source": [
    "from scipy.optimize import curve_fit"
   ]
  },
  {
   "cell_type": "code",
   "execution_count": 27,
   "metadata": {},
   "outputs": [
    {
     "data": {
      "text/plain": [
       "'parameters'"
      ]
     },
     "metadata": {},
     "output_type": "display_data"
    },
    {
     "data": {
      "text/plain": [
       "array([9.12878788e-03, 1.10204545e+00, 7.81909091e+01])"
      ]
     },
     "metadata": {},
     "output_type": "display_data"
    },
    {
     "data": {
      "text/plain": [
       "'variances'"
      ]
     },
     "metadata": {},
     "output_type": "display_data"
    },
    {
     "data": {
      "text/plain": [
       "array([[ 2.63753558e-06, -2.37378200e-04,  3.16504276e-03],\n",
       "       [-2.37378200e-04,  2.30520607e-02, -3.60814882e-01],\n",
       "       [ 3.16504276e-03, -3.60814882e-01,  8.60891713e+00]])"
      ]
     },
     "metadata": {},
     "output_type": "display_data"
    }
   ],
   "source": [
    "def f1(x,a,b,c):\n",
    "    return a*x**2 + b*x + c\n",
    "\n",
    "par, var = curve_fit(f1, xdata, ydata)\n",
    "display('parameters', par, 'variances', var)"
   ]
  },
  {
   "cell_type": "code",
   "execution_count": 28,
   "metadata": {},
   "outputs": [
    {
     "data": {
      "image/png": "[encoded data removed]",
      "text/plain": [
       "<Figure size 640x480 with 1 Axes>"
      ]
     },
     "metadata": {},
     "output_type": "display_data"
    }
   ],
   "source": [
    "yfit2 = f1(x1, par[0], par[1], par[2])\n",
    "plt.plot(xdata, ydata, 'o')\n",
    "plt.plot(x1, yfit2)\n",
    "plt.grid()\n",
    "plt.show()"
   ]
  },
  {
   "cell_type": "markdown",
   "metadata": {},
   "source": [
    "## 9.4 System of Linear Equations"
   ]
  },
  {
   "cell_type": "code",
   "execution_count": null,
   "metadata": {},
   "outputs": [],
   "source": []
  }
 ],
 "metadata": {
  "kernelspec": {
   "display_name": "Python 3 (ipykernel)",
   "language": "python",
   "name": "python3"
  },
  "language_info": {
   "codemirror_mode": {
    "name": "ipython",
    "version": 3
   },
   "file_extension": ".py",
   "mimetype": "text/x-python",
   "name": "python",
   "nbconvert_exporter": "python",
   "pygments_lexer": "ipython3",
   "version": "3.9.13"
  }
 },
 "nbformat": 4,
 "nbformat_minor": 2
}
