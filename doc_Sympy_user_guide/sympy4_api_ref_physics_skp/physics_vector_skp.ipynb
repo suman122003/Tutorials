{
 "cells": [
  {
   "cell_type": "markdown",
   "metadata": {},
   "source": [
    "# The Physics Vector Module\n",
    "Documentation Link: https://docs.sympy.org/latest/modules/physics/vector/index.html"
   ]
  },
  {
   "cell_type": "code",
   "execution_count": 1,
   "metadata": {},
   "outputs": [],
   "source": [
    "import sympy as sp\n",
    "sp.init_printing(use_unicode=True)\n",
    "\n",
    "import sympy.physics.vector as spvec\n",
    "spvec.init_vprinting(pretty_print=True)"
   ]
  },
  {
   "cell_type": "code",
   "execution_count": 2,
   "metadata": {},
   "outputs": [],
   "source": [
    "from IPython.display import Image"
   ]
  },
  {
   "cell_type": "markdown",
   "metadata": {},
   "source": [
    "## Vector and ReferenceFrame\n",
    "Link: https://docs.sympy.org/latest/modules/physics/vector/vectors.html#vector"
   ]
  },
  {
   "cell_type": "code",
   "execution_count": 3,
   "metadata": {},
   "outputs": [
    {
     "data": {
      "image/png": "[encoded data removed]",
      "text/latex": [
       "$\\displaystyle \\mathbf{\\hat{n}_x}$"
      ],
      "text/plain": [
       "n_x"
      ]
     },
     "metadata": {},
     "output_type": "display_data"
    },
    {
     "data": {
      "image/png": "[encoded data removed]",
      "text/latex": [
       "$\\displaystyle \\mathbf{\\hat{n}_y}$"
      ],
      "text/plain": [
       "n_y"
      ]
     },
     "metadata": {},
     "output_type": "display_data"
    },
    {
     "data": {
      "image/png": "[encoded data removed]",
      "text/latex": [
       "$\\displaystyle \\mathbf{\\hat{n}_z}$"
      ],
      "text/plain": [
       "n_z"
      ]
     },
     "metadata": {},
     "output_type": "display_data"
    },
    {
     "data": {
      "text/plain": [
       "True"
      ]
     },
     "metadata": {},
     "output_type": "display_data"
    },
    {
     "data": {
      "text/plain": [
       "False"
      ]
     },
     "metadata": {},
     "output_type": "display_data"
    },
    {
     "data": {
      "image/png": "[encoded data removed]",
      "text/latex": [
       "$\\displaystyle \\mathbf{\\hat{n}_x} + 2\\mathbf{\\hat{n}_y}$"
      ],
      "text/plain": [
       "n_x + 2 n_y"
      ]
     },
     "metadata": {},
     "output_type": "display_data"
    }
   ],
   "source": [
    "N = spvec.ReferenceFrame('N')\n",
    "display(N.x, N.y, N.z)\n",
    "display(N.x==N.x, N.x==N.y, N.x +2*N.y)"
   ]
  },
  {
   "cell_type": "markdown",
   "metadata": {},
   "source": [
    "### [Vector Algebra](https://docs.sympy.org/latest/modules/physics/vector/vectors.html#vector-algebra-in-physics-vector)"
   ]
  },
  {
   "cell_type": "code",
   "execution_count": 4,
   "metadata": {},
   "outputs": [],
   "source": [
    "x = sp.symbols('x')"
   ]
  },
  {
   "cell_type": "code",
   "execution_count": 5,
   "metadata": {},
   "outputs": [
    {
     "data": {
      "image/png": "[encoded data removed]",
      "text/latex": [
       "$\\displaystyle x\\mathbf{\\hat{n}_x} + 5 x\\mathbf{\\hat{n}_y} -  2 x\\mathbf{\\hat{n}_z}$"
      ],
      "text/plain": [
       "x n_x + 5⋅x n_y + -2⋅x n_z"
      ]
     },
     "execution_count": 5,
     "metadata": {},
     "output_type": "execute_result"
    }
   ],
   "source": [
    "x*(N.x +5*N.y -2*N.z)"
   ]
  },
  {
   "cell_type": "code",
   "execution_count": 6,
   "metadata": {},
   "outputs": [
    {
     "data": {
      "image/png": "[encoded data removed]",
      "text/latex": [
       "$\\displaystyle 1$"
      ],
      "text/plain": [
       "1"
      ]
     },
     "metadata": {},
     "output_type": "display_data"
    },
    {
     "data": {
      "image/png": "[encoded data removed]",
      "text/latex": [
       "$\\displaystyle 0$"
      ],
      "text/plain": [
       "0"
      ]
     },
     "metadata": {},
     "output_type": "display_data"
    },
    {
     "data": {
      "image/png": "[encoded data removed]",
      "text/latex": [
       "$\\displaystyle 1$"
      ],
      "text/plain": [
       "1"
      ]
     },
     "metadata": {},
     "output_type": "display_data"
    },
    {
     "data": {
      "image/png": "[encoded data removed]",
      "text/latex": [
       "$\\displaystyle 0$"
      ],
      "text/plain": [
       "0"
      ]
     },
     "metadata": {},
     "output_type": "display_data"
    },
    {
     "data": {
      "image/png": "[encoded data removed]",
      "text/latex": [
       "$\\displaystyle - \\mathbf{\\hat{n}_y}$"
      ],
      "text/plain": [
       " - n_y"
      ]
     },
     "metadata": {},
     "output_type": "display_data"
    },
    {
     "data": {
      "text/plain": [
       "True"
      ]
     },
     "metadata": {},
     "output_type": "display_data"
    }
   ],
   "source": [
    "display(N.x.dot(N.x), N.x.dot(N.y), spvec.dot(N.y, N.y))\n",
    "display(N.x.cross(N.x), N.x.cross(N.z), spvec.cross(N.y, N.z)==N.x)\n"
   ]
  },
  {
   "cell_type": "code",
   "execution_count": 7,
   "metadata": {},
   "outputs": [
    {
     "data": {
      "image/png": "[encoded data removed]",
      "text/latex": [
       "$\\displaystyle \\frac{\\sqrt{10}}{10}\\mathbf{\\hat{n}_x} + \\frac{3 \\sqrt{10}}{10}\\mathbf{\\hat{n}_y}$"
      ],
      "text/plain": [
       "√10       3⋅√10\n",
       "─── n_x + ───── n_y\n",
       " 10         10"
      ]
     },
     "metadata": {},
     "output_type": "display_data"
    },
    {
     "data": {
      "image/png": "[encoded data removed]",
      "text/latex": [
       "$\\displaystyle \\sqrt{2}$"
      ],
      "text/plain": [
       "√2"
      ]
     },
     "metadata": {},
     "output_type": "display_data"
    }
   ],
   "source": [
    "display((N.x +3*N.y).normalize(), (N.x -N.z).magnitude())"
   ]
  },
  {
   "cell_type": "markdown",
   "metadata": {},
   "source": [
    "**Vector to Matrix**"
   ]
  },
  {
   "cell_type": "code",
   "execution_count": 8,
   "metadata": {},
   "outputs": [
    {
     "data": {
      "image/png": "[encoded data removed]",
      "text/latex": [
       "$\\displaystyle x\\mathbf{\\hat{n}_x} + 5\\mathbf{\\hat{n}_y} - 2\\mathbf{\\hat{n}_z}$"
      ],
      "text/plain": [
       "x n_x + 5 n_y + -2 n_z"
      ]
     },
     "metadata": {},
     "output_type": "display_data"
    },
    {
     "data": {
      "text/latex": [
       "$\\displaystyle \\left[\\begin{matrix}x\\\\5\\\\-2\\end{matrix}\\right]$"
      ],
      "text/plain": [
       "⎡x ⎤\n",
       "⎢  ⎥\n",
       "⎢5 ⎥\n",
       "⎢  ⎥\n",
       "⎣-2⎦"
      ]
     },
     "metadata": {},
     "output_type": "display_data"
    }
   ],
   "source": [
    "vec1 = x*N.x +5*N.y -2*N.z\n",
    "display(vec1, vec1.to_matrix(N))"
   ]
  },
  {
   "cell_type": "markdown",
   "metadata": {},
   "source": [
    "### [Vector Calculus](https://docs.sympy.org/latest/modules/physics/vector/vectors.html#vector-calculus-in-physics-vector)"
   ]
  },
  {
   "cell_type": "code",
   "execution_count": 9,
   "metadata": {},
   "outputs": [
    {
     "data": {
      "image/png": "[encoded data removed]",
      "text/latex": [
       "$\\displaystyle x^{2}\\mathbf{\\hat{n}_x} -  2 x\\mathbf{\\hat{n}_y} + 5\\mathbf{\\hat{n}_z}$"
      ],
      "text/plain": [
       " 2\n",
       "x  n_x + -2⋅x n_y + 5 n_z"
      ]
     },
     "metadata": {},
     "output_type": "display_data"
    },
    {
     "data": {
      "image/png": "[encoded data removed]",
      "text/latex": [
       "$\\displaystyle 2 x\\mathbf{\\hat{n}_x} - 2\\mathbf{\\hat{n}_y}$"
      ],
      "text/plain": [
       "2⋅x n_x + -2 n_y"
      ]
     },
     "metadata": {},
     "output_type": "display_data"
    }
   ],
   "source": [
    "vec2 = x**2*N.x -2*x*N.y +5*N.z\n",
    "display(vec2, vec2.diff(x, N))"
   ]
  },
  {
   "cell_type": "code",
   "execution_count": 10,
   "metadata": {},
   "outputs": [
    {
     "data": {
      "image/png": "[encoded data removed]",
      "text/latex": [
       "$\\displaystyle \\mathbf{\\hat{a}_x} + \\mathbf{\\hat{n}_x}$"
      ],
      "text/plain": [
       "a_x + n_x"
      ]
     },
     "execution_count": 10,
     "metadata": {},
     "output_type": "execute_result"
    }
   ],
   "source": [
    "A = spvec.ReferenceFrame('A')\n",
    "A.x + N.x"
   ]
  },
  {
   "cell_type": "markdown",
   "metadata": {},
   "source": [
    "No relationship is defined."
   ]
  },
  {
   "cell_type": "code",
   "execution_count": 11,
   "metadata": {},
   "outputs": [],
   "source": [
    "A.orient(N, 'Axis', [x, N.y])"
   ]
  },
  {
   "cell_type": "markdown",
   "metadata": {},
   "source": [
    "Now, the orientation of $A$ is defined."
   ]
  },
  {
   "cell_type": "code",
   "execution_count": 12,
   "metadata": {},
   "outputs": [
    {
     "data": {
      "text/latex": [
       "$\\displaystyle \\left[\\begin{matrix}\\cos{\\left(x \\right)} & 0 & \\sin{\\left(x \\right)}\\\\0 & 1 & 0\\\\- \\sin{\\left(x \\right)} & 0 & \\cos{\\left(x \\right)}\\end{matrix}\\right]$"
      ],
      "text/plain": [
       "⎡cos(x)   0  sin(x)⎤\n",
       "⎢                  ⎥\n",
       "⎢   0     1    0   ⎥\n",
       "⎢                  ⎥\n",
       "⎣-sin(x)  0  cos(x)⎦"
      ]
     },
     "metadata": {},
     "output_type": "display_data"
    },
    {
     "data": {
      "text/latex": [
       "$\\displaystyle \\left[\\begin{matrix}\\cos{\\left(x \\right)} & 0 & - \\sin{\\left(x \\right)}\\\\0 & 1 & 0\\\\\\sin{\\left(x \\right)} & 0 & \\cos{\\left(x \\right)}\\end{matrix}\\right]$"
      ],
      "text/plain": [
       "⎡cos(x)  0  -sin(x)⎤\n",
       "⎢                  ⎥\n",
       "⎢  0     1     0   ⎥\n",
       "⎢                  ⎥\n",
       "⎣sin(x)  0  cos(x) ⎦"
      ]
     },
     "metadata": {},
     "output_type": "display_data"
    },
    {
     "data": {
      "text/latex": [
       "$\\displaystyle \\left[\\begin{matrix}1 & 0 & 0\\\\0 & 1 & 0\\\\0 & 0 & 1\\end{matrix}\\right]$"
      ],
      "text/plain": [
       "⎡1  0  0⎤\n",
       "⎢       ⎥\n",
       "⎢0  1  0⎥\n",
       "⎢       ⎥\n",
       "⎣0  0  1⎦"
      ]
     },
     "metadata": {},
     "output_type": "display_data"
    }
   ],
   "source": [
    "display(N.dcm(A), A.dcm(N), A.dcm(A))"
   ]
  },
  {
   "cell_type": "code",
   "execution_count": 13,
   "metadata": {},
   "outputs": [
    {
     "data": {
      "text/latex": [
       "$\\displaystyle \\left[\\begin{matrix}\\cos{\\left(q_{2} \\right)} \\cos{\\left(q_{3} \\right)} & - \\sin{\\left(q_{3} \\right)} \\cos{\\left(q_{2} \\right)} & \\sin{\\left(q_{2} \\right)}\\\\\\sin{\\left(q_{1} \\right)} \\sin{\\left(q_{2} \\right)} \\cos{\\left(q_{3} \\right)} + \\sin{\\left(q_{3} \\right)} \\cos{\\left(q_{1} \\right)} & - \\sin{\\left(q_{1} \\right)} \\sin{\\left(q_{2} \\right)} \\sin{\\left(q_{3} \\right)} + \\cos{\\left(q_{1} \\right)} \\cos{\\left(q_{3} \\right)} & - \\sin{\\left(q_{1} \\right)} \\cos{\\left(q_{2} \\right)}\\\\\\sin{\\left(q_{1} \\right)} \\sin{\\left(q_{3} \\right)} - \\sin{\\left(q_{2} \\right)} \\cos{\\left(q_{1} \\right)} \\cos{\\left(q_{3} \\right)} & \\sin{\\left(q_{1} \\right)} \\cos{\\left(q_{3} \\right)} + \\sin{\\left(q_{2} \\right)} \\sin{\\left(q_{3} \\right)} \\cos{\\left(q_{1} \\right)} & \\cos{\\left(q_{1} \\right)} \\cos{\\left(q_{2} \\right)}\\end{matrix}\\right]$"
      ],
      "text/plain": [
       "⎡             cos(q₂)⋅cos(q₃)                            -sin(q₃)⋅cos(q₂)     \n",
       "⎢                                                                             \n",
       "⎢sin(q₁)⋅sin(q₂)⋅cos(q₃) + sin(q₃)⋅cos(q₁)  -sin(q₁)⋅sin(q₂)⋅sin(q₃) + cos(q₁)\n",
       "⎢                                                                             \n",
       "⎣sin(q₁)⋅sin(q₃) - sin(q₂)⋅cos(q₁)⋅cos(q₃)  sin(q₁)⋅cos(q₃) + sin(q₂)⋅sin(q₃)⋅\n",
       "\n",
       "              sin(q₂)     ⎤\n",
       "                          ⎥\n",
       "⋅cos(q₃)  -sin(q₁)⋅cos(q₂)⎥\n",
       "                          ⎥\n",
       "cos(q₁)   cos(q₁)⋅cos(q₂) ⎦"
      ]
     },
     "metadata": {},
     "output_type": "display_data"
    },
    {
     "data": {
      "text/latex": [
       "$\\displaystyle \\left[\\begin{matrix}\\cos{\\left(q_{2} \\right)} \\cos{\\left(q_{3} \\right)} & - \\sin{\\left(q_{3} \\right)} \\cos{\\left(q_{2} \\right)} & \\sin{\\left(q_{2} \\right)}\\\\\\sin{\\left(q_{1} \\right)} \\sin{\\left(q_{2} \\right)} \\cos{\\left(q_{3} \\right)} + \\sin{\\left(q_{3} \\right)} \\cos{\\left(q_{1} \\right)} & - \\sin{\\left(q_{1} \\right)} \\sin{\\left(q_{2} \\right)} \\sin{\\left(q_{3} \\right)} + \\cos{\\left(q_{1} \\right)} \\cos{\\left(q_{3} \\right)} & - \\sin{\\left(q_{1} \\right)} \\cos{\\left(q_{2} \\right)}\\\\\\sin{\\left(q_{1} \\right)} \\sin{\\left(q_{3} \\right)} - \\sin{\\left(q_{2} \\right)} \\cos{\\left(q_{1} \\right)} \\cos{\\left(q_{3} \\right)} & \\sin{\\left(q_{1} \\right)} \\cos{\\left(q_{3} \\right)} + \\sin{\\left(q_{2} \\right)} \\sin{\\left(q_{3} \\right)} \\cos{\\left(q_{1} \\right)} & \\cos{\\left(q_{1} \\right)} \\cos{\\left(q_{2} \\right)}\\end{matrix}\\right]$"
      ],
      "text/plain": [
       "⎡             cos(q₂)⋅cos(q₃)                            -sin(q₃)⋅cos(q₂)     \n",
       "⎢                                                                             \n",
       "⎢sin(q₁)⋅sin(q₂)⋅cos(q₃) + sin(q₃)⋅cos(q₁)  -sin(q₁)⋅sin(q₂)⋅sin(q₃) + cos(q₁)\n",
       "⎢                                                                             \n",
       "⎣sin(q₁)⋅sin(q₃) - sin(q₂)⋅cos(q₁)⋅cos(q₃)  sin(q₁)⋅cos(q₃) + sin(q₂)⋅sin(q₃)⋅\n",
       "\n",
       "              sin(q₂)     ⎤\n",
       "                          ⎥\n",
       "⋅cos(q₃)  -sin(q₁)⋅cos(q₂)⎥\n",
       "                          ⎥\n",
       "cos(q₁)   cos(q₁)⋅cos(q₂) ⎦"
      ]
     },
     "metadata": {},
     "output_type": "display_data"
    }
   ],
   "source": [
    "N = spvec.ReferenceFrame('N')\n",
    "Bp = spvec.ReferenceFrame('Bp')\n",
    "Bpp = spvec.ReferenceFrame('Bpp')\n",
    "B = spvec.ReferenceFrame('B')\n",
    "\n",
    "q1, q2, q3 = sp.symbols('q1 q2 q3')\n",
    "\n",
    "Bpp.orient(N,'Axis', [q1, N.x])\n",
    "Bp.orient(Bpp,'Axis', [q2, Bpp.y])\n",
    "B.orient(Bp,'Axis', [q3, Bp.z])\n",
    "display(N.dcm(B))\n",
    "B.orient(N,'Body',[q1,q2,q3],'XYZ')\n",
    "display(N.dcm(B))\n",
    "\n",
    "C = N.orientnew('C', 'Axis', [q1, N.x])"
   ]
  },
  {
   "cell_type": "code",
   "execution_count": 14,
   "metadata": {},
   "outputs": [
    {
     "data": {
      "image/png": "[encoded data removed]",
      "text/latex": [
       "$\\displaystyle q_{1}$"
      ],
      "text/plain": [
       "q₁"
      ]
     },
     "metadata": {},
     "output_type": "display_data"
    },
    {
     "data": {
      "image/png": "[encoded data removed]",
      "text/latex": [
       "$\\displaystyle \\dot{q}_{1}$"
      ],
      "text/plain": [
       "q₁̇"
      ]
     },
     "metadata": {},
     "output_type": "display_data"
    },
    {
     "name": "stdout",
     "output_type": "stream",
     "text": [
      "q1'\n"
     ]
    }
   ],
   "source": [
    "q1, q2, q3 = spvec.dynamicsymbols('q1 q2 q3')\n",
    "t = sp.symbols('t')\n",
    "display(q1, sp.diff(q1, t))\n",
    "spvec.vprint(sp.diff(q1, t))"
   ]
  },
  {
   "cell_type": "markdown",
   "metadata": {},
   "source": [
    "### Printing"
   ]
  },
  {
   "cell_type": "code",
   "execution_count": 15,
   "metadata": {},
   "outputs": [
    {
     "data": {
      "text/plain": [
       "q1'"
      ]
     },
     "execution_count": 15,
     "metadata": {},
     "output_type": "execute_result"
    }
   ],
   "source": [
    "from sympy.physics.vector import init_vprinting\n",
    "init_vprinting(pretty_print=False)\n",
    "q1.diff(t)"
   ]
  },
  {
   "cell_type": "code",
   "execution_count": 16,
   "metadata": {},
   "outputs": [
    {
     "data": {
      "image/png": "[encoded data removed]",
      "text/latex": [
       "$\\displaystyle \\dot{q}_{1}$"
      ],
      "text/plain": [
       "q₁̇"
      ]
     },
     "execution_count": 16,
     "metadata": {},
     "output_type": "execute_result"
    }
   ],
   "source": [
    "from sympy.physics.vector import init_vprinting\n",
    "init_vprinting(pretty_print=True)\n",
    "q1.diff(t)"
   ]
  },
  {
   "cell_type": "code",
   "execution_count": 17,
   "metadata": {},
   "outputs": [
    {
     "data": {
      "image/png": "[encoded data removed]",
      "text/latex": [
       "$\\displaystyle q_{2}\\mathbf{\\hat{b}_y} + \\mathbf{\\hat{b}_z}$"
      ],
      "text/plain": [
       "q₂ b_y + b_z"
      ]
     },
     "metadata": {},
     "output_type": "display_data"
    },
    {
     "data": {
      "image/png": "[encoded data removed]",
      "text/latex": [
       "$\\displaystyle \\mathbf{\\hat{b}_y}$"
      ],
      "text/plain": [
       "b_y"
      ]
     },
     "metadata": {},
     "output_type": "display_data"
    },
    {
     "data": {
      "image/png": "[encoded data removed]",
      "text/latex": [
       "$\\displaystyle \\dot{q}_{2}\\mathbf{\\hat{b}_y}$"
      ],
      "text/plain": [
       "q₂̇ b_y"
      ]
     },
     "metadata": {},
     "output_type": "display_data"
    },
    {
     "data": {
      "image/png": "[encoded data removed]",
      "text/latex": [
       "$\\displaystyle (- \\dot{q}_{1} + \\dot{q}_{2})\\mathbf{\\hat{b}_y} + q_{2} \\dot{q}_{1}\\mathbf{\\hat{b}_z}$"
      ],
      "text/plain": [
       "(-q₁̇ + q₂̇) b_y + q₂⋅q₁̇ b_z"
      ]
     },
     "metadata": {},
     "output_type": "display_data"
    },
    {
     "data": {
      "image/png": "[encoded data removed]",
      "text/latex": [
       "$\\displaystyle q_{2}\\mathbf{\\hat{b}_y} + \\mathbf{\\hat{b}_z} + q_{2}\\mathbf{\\hat{n}_y}$"
      ],
      "text/plain": [
       "q₂ b_y + b_z + q₂ n_y"
      ]
     },
     "metadata": {},
     "output_type": "display_data"
    },
    {
     "data": {
      "image/png": "[encoded data removed]",
      "text/latex": [
       "$\\displaystyle \\mathbf{\\hat{b}_y} + \\mathbf{\\hat{n}_y}$"
      ],
      "text/plain": [
       "b_y + n_y"
      ]
     },
     "metadata": {},
     "output_type": "display_data"
    },
    {
     "data": {
      "image/png": "[encoded data removed]",
      "text/latex": [
       "$\\displaystyle \\mathbf{\\hat{b}_y} + \\mathbf{\\hat{n}_y}$"
      ],
      "text/plain": [
       "b_y + n_y"
      ]
     },
     "metadata": {},
     "output_type": "display_data"
    }
   ],
   "source": [
    "B = N.orientnew('B', 'Axis', [q1, N.x])\n",
    "\n",
    "vec1 = B.y*q2 +B.z\n",
    "display(vec1, vec1.diff(q2, N), vec1.dt(B), vec1.dt(N))\n",
    "vec2 = B.y*q2 + B.z + N.y*q2\n",
    "display(vec2, vec2.diff(q2, N), vec2.diff(q2, B))"
   ]
  },
  {
   "cell_type": "code",
   "execution_count": null,
   "metadata": {},
   "outputs": [],
   "source": []
  },
  {
   "cell_type": "markdown",
   "metadata": {},
   "source": [
    "## Kinematics\n",
    "Link: https://docs.sympy.org/latest/modules/physics/vector/kinematics.html"
   ]
  },
  {
   "cell_type": "code",
   "execution_count": 18,
   "metadata": {},
   "outputs": [],
   "source": [
    "spvec.init_vprinting(pretty_print=True)"
   ]
  },
  {
   "cell_type": "code",
   "execution_count": 19,
   "metadata": {},
   "outputs": [
    {
     "data": {
      "image/png": "[encoded data removed]",
      "text/latex": [
       "$\\displaystyle \\dot{q}_{1}\\mathbf{\\hat{n}_x}$"
      ],
      "text/plain": [
       "q₁̇ n_x"
      ]
     },
     "metadata": {},
     "output_type": "display_data"
    }
   ],
   "source": [
    "N = spvec.ReferenceFrame('N')\n",
    "q1 = spvec.dynamicsymbols('q1')\n",
    "\n",
    "A = N.orientnew('A', 'Axis', [q1, N.x])\n",
    "\n",
    "display(A.ang_vel_in(N))"
   ]
  },
  {
   "cell_type": "code",
   "execution_count": 20,
   "metadata": {},
   "outputs": [
    {
     "data": {
      "image/png": "[encoded data removed]",
      "text/latex": [
       "$\\displaystyle u_{1}\\mathbf{\\hat{b}_y}$"
      ],
      "text/plain": [
       "u₁ b_y"
      ]
     },
     "metadata": {},
     "output_type": "display_data"
    },
    {
     "data": {
      "image/png": "[encoded data removed]",
      "text/latex": [
       "$\\displaystyle -  u_{1}\\mathbf{\\hat{b}_y}$"
      ],
      "text/plain": [
       "-u₁ b_y"
      ]
     },
     "metadata": {},
     "output_type": "display_data"
    }
   ],
   "source": [
    "B = spvec.ReferenceFrame('B')\n",
    "u1 = spvec.dynamicsymbols('u1')\n",
    "B.set_ang_vel(N, u1*B.y)\n",
    "display(B.ang_vel_in(N), N.ang_vel_in(B))"
   ]
  },
  {
   "cell_type": "markdown",
   "metadata": {},
   "source": [
    "Multiple bodies with angular velocities defined relative to each other."
   ]
  },
  {
   "cell_type": "code",
   "execution_count": 21,
   "metadata": {},
   "outputs": [
    {
     "data": {
      "image/png": "[encoded data removed]",
      "text/plain": [
       "<IPython.core.display.Image object>"
      ]
     },
     "execution_count": 21,
     "metadata": {},
     "output_type": "execute_result"
    }
   ],
   "source": [
    "Image(filename='images_doc/kinematics1.png')"
   ]
  },
  {
   "cell_type": "code",
   "execution_count": 22,
   "metadata": {},
   "outputs": [
    {
     "data": {
      "image/png": "[encoded data removed]",
      "text/latex": [
       "$\\displaystyle 0$"
      ],
      "text/plain": [
       "0"
      ]
     },
     "metadata": {},
     "output_type": "display_data"
    },
    {
     "data": {
      "image/png": "[encoded data removed]",
      "text/latex": [
       "$\\displaystyle u_{3}\\mathbf{\\hat{c}_y} -  u_{2}\\mathbf{\\hat{b}_z} + u_{1}\\mathbf{\\hat{a}_x}$"
      ],
      "text/plain": [
       "u₃ c_y + -u₂ b_z + u₁ a_x"
      ]
     },
     "metadata": {},
     "output_type": "display_data"
    }
   ],
   "source": [
    "N = spvec.ReferenceFrame('N')\n",
    "A = spvec.ReferenceFrame('A')\n",
    "B = spvec.ReferenceFrame('B')\n",
    "C = spvec.ReferenceFrame('C')\n",
    "D = spvec.ReferenceFrame('D')\n",
    "u1, u2, u3 = spvec.dynamicsymbols('u1 u2 u3')\n",
    "A.set_ang_vel(N, 0)\n",
    "B.set_ang_vel(A, u1*A.x)\n",
    "C.set_ang_vel(B, -u2*B.z)\n",
    "D.set_ang_vel(C, u3*C.y)\n",
    "display(A.ang_vel_in(N), D.ang_vel_in(N))"
   ]
  },
  {
   "cell_type": "markdown",
   "metadata": {},
   "source": [
    "Point:"
   ]
  },
  {
   "cell_type": "code",
   "execution_count": 23,
   "metadata": {},
   "outputs": [
    {
     "data": {
      "image/png": "[encoded data removed]",
      "text/latex": [
       "$\\displaystyle 3\\mathbf{\\hat{n}_x} + \\mathbf{\\hat{n}_y}$"
      ],
      "text/plain": [
       "3 n_x + n_y"
      ]
     },
     "metadata": {},
     "output_type": "display_data"
    },
    {
     "data": {
      "image/png": "[encoded data removed]",
      "text/latex": [
       "$\\displaystyle \\mathbf{\\hat{n}_z}$"
      ],
      "text/plain": [
       "n_z"
      ]
     },
     "metadata": {},
     "output_type": "display_data"
    },
    {
     "data": {
      "image/png": "[encoded data removed]",
      "text/latex": [
       "$\\displaystyle 3\\mathbf{\\hat{n}_x} + \\mathbf{\\hat{n}_y} + \\mathbf{\\hat{n}_z}$"
      ],
      "text/plain": [
       "3 n_x + n_y + n_z"
      ]
     },
     "metadata": {},
     "output_type": "display_data"
    }
   ],
   "source": [
    "O = spvec.Point('O')\n",
    "P = O.locatenew('P', 3*N.x +N.y)\n",
    "display(P.pos_from(O))\n",
    "Q = spvec.Point('Q')\n",
    "Q.set_pos(P, N.z)\n",
    "display(Q.pos_from(P), Q.pos_from(O))"
   ]
  },
  {
   "cell_type": "code",
   "execution_count": 24,
   "metadata": {},
   "outputs": [
    {
     "data": {
      "image/png": "[encoded data removed]",
      "text/latex": [
       "$\\displaystyle u_{1}\\mathbf{\\hat{n}_x}$"
      ],
      "text/plain": [
       "u₁ n_x"
      ]
     },
     "metadata": {},
     "output_type": "display_data"
    },
    {
     "data": {
      "image/png": "[encoded data removed]",
      "text/latex": [
       "$\\displaystyle \\dot{u}_{1}\\mathbf{\\hat{n}_x}$"
      ],
      "text/plain": [
       "u₁̇ n_x"
      ]
     },
     "metadata": {},
     "output_type": "display_data"
    },
    {
     "data": {
      "image/png": "[encoded data removed]",
      "text/latex": [
       "$\\displaystyle u_{1} u_{2}\\mathbf{\\hat{n}_y}$"
      ],
      "text/plain": [
       "u₁⋅u₂ n_y"
      ]
     },
     "metadata": {},
     "output_type": "display_data"
    }
   ],
   "source": [
    "O.set_vel(N, u1*N.x)\n",
    "display(O.vel(N), O.acc(N))\n",
    "O.set_acc(N, u2*u1*N.y)\n",
    "display(O.acc(N))"
   ]
  },
  {
   "cell_type": "code",
   "execution_count": 25,
   "metadata": {},
   "outputs": [
    {
     "data": {
      "image/png": "[encoded data removed]",
      "text/plain": [
       "<IPython.core.display.Image object>"
      ]
     },
     "execution_count": 25,
     "metadata": {},
     "output_type": "execute_result"
    }
   ],
   "source": [
    "Image(filename='images_doc/kinematics2.png')"
   ]
  },
  {
   "cell_type": "code",
   "execution_count": 26,
   "metadata": {},
   "outputs": [
    {
     "data": {
      "image/png": "[encoded data removed]",
      "text/latex": [
       "$\\displaystyle u_{1}\\mathbf{\\hat{n}_x} + u_{2}\\mathbf{\\hat{n}_y} + R u_{3}\\mathbf{\\hat{b}_y}$"
      ],
      "text/plain": [
       "u₁ n_x + u₂ n_y + R⋅u₃ b_y"
      ]
     },
     "metadata": {},
     "output_type": "display_data"
    },
    {
     "data": {
      "image/png": "[encoded data removed]",
      "text/latex": [
       "$\\displaystyle \\dot{u}_{1}\\mathbf{\\hat{n}_x} + \\dot{u}_{2}\\mathbf{\\hat{n}_y} -  R u_{3}^{2}\\mathbf{\\hat{b}_x} + R \\dot{u}_{3}\\mathbf{\\hat{b}_y}$"
      ],
      "text/plain": [
       "                       2\n",
       "u₁̇ n_x + u₂̇ n_y + -R⋅u₃  b_x + R⋅u₃̇ b_y"
      ]
     },
     "metadata": {},
     "output_type": "display_data"
    }
   ],
   "source": [
    "N = spvec.ReferenceFrame('N')\n",
    "u1, u2, u3 = spvec.dynamicsymbols('u1 u2 u3')\n",
    "R = sp.Symbol('R')\n",
    "B = spvec.ReferenceFrame('B')\n",
    "O = spvec.Point('O')\n",
    "O.set_vel(N, u1*N.x +u2*N.y)\n",
    "P = O.locatenew('P', R*B.x)\n",
    "B.set_ang_vel(N, u3*B.z)\n",
    "\n",
    "display(P.v2pt_theory(O,N,B), P.a2pt_theory(O,N,B))"
   ]
  },
  {
   "cell_type": "code",
   "execution_count": 27,
   "metadata": {},
   "outputs": [
    {
     "data": {
      "image/png": "[encoded data removed]",
      "text/plain": [
       "<IPython.core.display.Image object>"
      ]
     },
     "execution_count": 27,
     "metadata": {},
     "output_type": "execute_result"
    }
   ],
   "source": [
    "Image(filename='images_doc/kinematics3.png')"
   ]
  },
  {
   "cell_type": "markdown",
   "metadata": {},
   "source": [
    "Particle moving on a ring"
   ]
  },
  {
   "cell_type": "code",
   "execution_count": 28,
   "metadata": {},
   "outputs": [
    {
     "data": {
      "image/png": "[encoded data removed]",
      "text/latex": [
       "$\\displaystyle l u_{1}\\mathbf{\\hat{c}_y}$"
      ],
      "text/plain": [
       "l⋅u₁ c_y"
      ]
     },
     "metadata": {},
     "output_type": "display_data"
    },
    {
     "data": {
      "image/png": "[encoded data removed]",
      "text/latex": [
       "$\\displaystyle -  R u_{2} \\sin{\\left(q_{2} \\right)}\\mathbf{\\hat{c}_x} + (R u_{2} \\cos{\\left(q_{2} \\right)} + l u_{1})\\mathbf{\\hat{c}_y} + R u_{1} \\sin{\\left(q_{2} \\right)}\\mathbf{\\hat{c}_z}$"
      ],
      "text/plain": [
       "-R⋅u₂⋅sin(q₂) c_x + (R⋅u₂⋅cos(q₂) + l⋅u₁) c_y + R⋅u₁⋅sin(q₂) c_z"
      ]
     },
     "metadata": {},
     "output_type": "display_data"
    }
   ],
   "source": [
    "N = spvec.ReferenceFrame('N')\n",
    "u1, u2 = spvec.dynamicsymbols('u1 u2')\n",
    "q1, q2 = spvec.dynamicsymbols('q1 q2')\n",
    "l, R = sp.symbols('l R')\n",
    "C = N.orientnew('C', 'Axis', [q1, N.x])\n",
    "C.set_ang_vel(N, u1*N.x)\n",
    "O = spvec.Point('O')\n",
    "O.set_vel(N, 0)\n",
    "Q = O.locatenew('Q', -l*C.z)\n",
    "P = Q.locatenew('P', R*(sp.cos(q2)*C.x +sp.sin(q2)*C.y))\n",
    "P.set_vel(C, R*u2*(-sp.sin(q2)*C.x +sp.cos(q2)*C.y))\n",
    "\n",
    "display(Q.v2pt_theory(O,N,C), P.v1pt_theory(Q,N,C))"
   ]
  },
  {
   "cell_type": "code",
   "execution_count": null,
   "metadata": {},
   "outputs": [],
   "source": []
  },
  {
   "cell_type": "markdown",
   "metadata": {},
   "source": [
    "## Potential Issues/Advanced Topics/Future Features in Physics/Vector Module\n",
    "Link: https://docs.sympy.org/latest/modules/physics/vector/advanced.html"
   ]
  },
  {
   "cell_type": "markdown",
   "metadata": {},
   "source": [
    "### Inertia (Dyadics)"
   ]
  },
  {
   "cell_type": "code",
   "execution_count": 29,
   "metadata": {},
   "outputs": [],
   "source": [
    "import sympy.physics.mechanics as spmech\n",
    "\n",
    "N = spmech.ReferenceFrame('N')"
   ]
  },
  {
   "cell_type": "code",
   "execution_count": 30,
   "metadata": {},
   "outputs": [
    {
     "data": {
      "image/png": "[encoded data removed]",
      "text/latex": [
       "$\\displaystyle \\mathbf{\\hat{n}_x}\\otimes \\mathbf{\\hat{n}_x} + 2\\mathbf{\\hat{n}_y}\\otimes \\mathbf{\\hat{n}_y} + 3\\mathbf{\\hat{n}_z}\\otimes \\mathbf{\\hat{n}_z}$"
      ],
      "text/plain": [
       "n_x⊗n_x + 2 n_y⊗n_y + 3 n_z⊗n_z"
      ]
     },
     "metadata": {},
     "output_type": "display_data"
    },
    {
     "data": {
      "text/latex": [
       "$\\displaystyle \\left[\\begin{matrix}1 & 0 & 0\\\\0 & 2 & 0\\\\0 & 0 & 3\\end{matrix}\\right]$"
      ],
      "text/plain": [
       "⎡1  0  0⎤\n",
       "⎢       ⎥\n",
       "⎢0  2  0⎥\n",
       "⎢       ⎥\n",
       "⎣0  0  3⎦"
      ]
     },
     "metadata": {},
     "output_type": "display_data"
    },
    {
     "data": {
      "image/png": "[encoded data removed]",
      "text/latex": [
       "$\\displaystyle \\mathbf{\\hat{n}_x}\\otimes \\mathbf{\\hat{n}_x} + 4\\mathbf{\\hat{n}_x}\\otimes \\mathbf{\\hat{n}_y} + 6\\mathbf{\\hat{n}_x}\\otimes \\mathbf{\\hat{n}_z} + 4\\mathbf{\\hat{n}_y}\\otimes \\mathbf{\\hat{n}_x} + 2\\mathbf{\\hat{n}_y}\\otimes \\mathbf{\\hat{n}_y} + 5\\mathbf{\\hat{n}_y}\\otimes \\mathbf{\\hat{n}_z} + 6\\mathbf{\\hat{n}_z}\\otimes \\mathbf{\\hat{n}_x} + 5\\mathbf{\\hat{n}_z}\\otimes \\mathbf{\\hat{n}_y} + 3\\mathbf{\\hat{n}_z}\\otimes \\mathbf{\\hat{n}_z}$"
      ],
      "text/plain": [
       "n_x⊗n_x + 4 n_x⊗n_y + 6 n_x⊗n_z + 4 n_y⊗n_x + 2 n_y⊗n_y + 5 n_y⊗n_z + 6 n_z⊗n_x + 5 n_z⊗n_y + 3 n_z⊗n_z"
      ]
     },
     "metadata": {},
     "output_type": "display_data"
    },
    {
     "data": {
      "text/latex": [
       "$\\displaystyle \\left[\\begin{matrix}1 & 4 & 6\\\\4 & 2 & 5\\\\6 & 5 & 3\\end{matrix}\\right]$"
      ],
      "text/plain": [
       "⎡1  4  6⎤\n",
       "⎢       ⎥\n",
       "⎢4  2  5⎥\n",
       "⎢       ⎥\n",
       "⎣6  5  3⎦"
      ]
     },
     "metadata": {},
     "output_type": "display_data"
    }
   ],
   "source": [
    "I1 = spmech.inertia(N,1,2,3)\n",
    "I2 = spmech.inertia(N,1,2,3,4,5,6)\n",
    "display(I1, I1.to_matrix(N), I2, I2.to_matrix(N))"
   ]
  },
  {
   "cell_type": "markdown",
   "metadata": {},
   "source": [
    "### Advanced Interfaces"
   ]
  },
  {
   "cell_type": "markdown",
   "metadata": {},
   "source": [
    "**`ReferenceFrame`**"
   ]
  },
  {
   "cell_type": "code",
   "execution_count": 32,
   "metadata": {},
   "outputs": [
    {
     "data": {
      "image/png": "[encoded data removed]",
      "text/latex": [
       "$\\displaystyle \\mathbf{\\hat{n}_{i}}$"
      ],
      "text/plain": [
       "n_i"
      ]
     },
     "metadata": {},
     "output_type": "display_data"
    },
    {
     "data": {
      "image/png": "[encoded data removed]",
      "text/latex": [
       "$\\displaystyle \\mathbf{\\hat{n}_{i}}$"
      ],
      "text/plain": [
       "n_i"
      ]
     },
     "metadata": {},
     "output_type": "display_data"
    }
   ],
   "source": [
    "N = spvec.ReferenceFrame('N', indices=['i','j','k'])\n",
    "display(N['i'], N.x)"
   ]
  },
  {
   "cell_type": "code",
   "execution_count": 33,
   "metadata": {},
   "outputs": [
    {
     "data": {
      "image/png": "[encoded data removed]",
      "text/latex": [
       "$\\displaystyle n_1$"
      ],
      "text/plain": [
       "n_x"
      ]
     },
     "metadata": {},
     "output_type": "display_data"
    },
    {
     "data": {
      "image/png": "[encoded data removed]",
      "text/latex": [
       "$\\displaystyle \\eta_2$"
      ],
      "text/plain": [
       "n_y"
      ]
     },
     "metadata": {},
     "output_type": "display_data"
    },
    {
     "data": {
      "image/png": "[encoded data removed]",
      "text/latex": [
       "$\\displaystyle n3$"
      ],
      "text/plain": [
       "n_z"
      ]
     },
     "metadata": {},
     "output_type": "display_data"
    }
   ],
   "source": [
    "N = spvec.ReferenceFrame('N', latexs=['n_1', '\\eta_2', 'n3'])\n",
    "display(N.x, N.y, N.z)"
   ]
  },
  {
   "cell_type": "markdown",
   "metadata": {},
   "source": [
    "**`dynamicsymbols`**"
   ]
  },
  {
   "cell_type": "code",
   "execution_count": 51,
   "metadata": {},
   "outputs": [
    {
     "data": {
      "image/png": "[encoded data removed]",
      "text/latex": [
       "$\\displaystyle q_{1}$"
      ],
      "text/plain": [
       "q₁"
      ]
     },
     "metadata": {},
     "output_type": "display_data"
    },
    {
     "data": {
      "image/png": "[encoded data removed]",
      "text/latex": [
       "$\\displaystyle \\operatorname{q_{1}}{\\left(t \\right)}$"
      ],
      "text/plain": [
       "q₁(t)"
      ]
     },
     "metadata": {},
     "output_type": "display_data"
    },
    {
     "data": {
      "image/png": "[encoded data removed]",
      "text/latex": [
       "$\\displaystyle q_{2}$"
      ],
      "text/plain": [
       "q₂"
      ]
     },
     "metadata": {},
     "output_type": "display_data"
    },
    {
     "name": "stdout",
     "output_type": "stream",
     "text": [
      "q1'\n",
      "q1d\n"
     ]
    }
   ],
   "source": [
    "q1 = spvec.dynamicsymbols('q1')\n",
    "display(q1)\n",
    "spvec.dynamicsymbols._t = sp.symbols('T')\n",
    "display(q1)\n",
    "q2 = spvec.dynamicsymbols('q2')\n",
    "display(q2)\n",
    "q1d = spvec.dynamicsymbols('q1', 1)\n",
    "spvec.vprint(q1d)\n",
    "spvec.dynamicsymbols._str = 'd'\n",
    "spvec.vprint(q1d)\n",
    "spvec.dynamicsymbols._str = '\\''\n",
    "spvec.dynamicsymbols._t = sp.symbols('t')"
   ]
  },
  {
   "cell_type": "code",
   "execution_count": null,
   "metadata": {},
   "outputs": [],
   "source": []
  },
  {
   "cell_type": "markdown",
   "metadata": {},
   "source": [
    "## Scalar and Vector Field Functionality\n",
    "Link: https://docs.sympy.org/latest/modules/physics/vector/fields.html"
   ]
  },
  {
   "cell_type": "code",
   "execution_count": 54,
   "metadata": {},
   "outputs": [],
   "source": [
    "import sympy.physics.vector as spvec\n",
    "\n",
    "R = spvec.ReferenceFrame('R')"
   ]
  },
  {
   "cell_type": "markdown",
   "metadata": {},
   "source": [
    "### [Fields](https://docs.sympy.org/latest/modules/physics/vector/fields.html#implementation-of-fields-in-sympy-physics-vector)"
   ]
  },
  {
   "cell_type": "code",
   "execution_count": 60,
   "metadata": {},
   "outputs": [
    {
     "data": {
      "image/png": "[encoded data removed]",
      "text/latex": [
       "$\\displaystyle 3\\mathbf{\\hat{r}_x} + 4\\mathbf{\\hat{r}_y} + 5\\mathbf{\\hat{r}_z}$"
      ],
      "text/plain": [
       "3 r_x + 4 r_y + 5 r_z"
      ]
     },
     "metadata": {},
     "output_type": "display_data"
    },
    {
     "data": {
      "image/png": "[encoded data removed]",
      "text/latex": [
       "$\\displaystyle R_{x}$"
      ],
      "text/plain": [
       "Rₓ"
      ]
     },
     "metadata": {},
     "output_type": "display_data"
    },
    {
     "data": {
      "image/png": "[encoded data removed]",
      "text/latex": [
       "$\\displaystyle 2 R_{x}^{2} R_{y}$"
      ],
      "text/plain": [
       "    2    \n",
       "2⋅Rₓ ⋅R_y"
      ]
     },
     "metadata": {},
     "output_type": "display_data"
    },
    {
     "data": {
      "image/png": "[encoded data removed]",
      "text/latex": [
       "$\\displaystyle 4 R_{x} R_{y}$"
      ],
      "text/plain": [
       "4⋅Rₓ⋅R_y"
      ]
     },
     "metadata": {},
     "output_type": "display_data"
    },
    {
     "data": {
      "text/plain": [
       "'express'"
      ]
     },
     "metadata": {},
     "output_type": "display_data"
    },
    {
     "data": {
      "image/png": "[encoded data removed]",
      "text/latex": [
       "$\\displaystyle 2 \\left(R_{1 x} \\sin{\\left(q \\right)} + R_{1 y} \\cos{\\left(q \\right)}\\right) \\left(R_{1 x} \\cos{\\left(q \\right)} - R_{1 y} \\sin{\\left(q \\right)}\\right)^{2}$"
      ],
      "text/plain": [
       "                                                           2\n",
       "2⋅(R₁ ₓ⋅sin(q) + R_1_y⋅cos(q))⋅(R₁ ₓ⋅cos(q) - R_1_y⋅sin(q)) "
      ]
     },
     "metadata": {},
     "output_type": "display_data"
    },
    {
     "data": {
      "text/plain": [
       "'time_derivative'"
      ]
     },
     "metadata": {},
     "output_type": "display_data"
    },
    {
     "data": {
      "image/png": "[encoded data removed]",
      "text/latex": [
       "$\\displaystyle 0$"
      ],
      "text/plain": [
       "0"
      ]
     },
     "metadata": {},
     "output_type": "display_data"
    },
    {
     "data": {
      "image/png": "[encoded data removed]",
      "text/latex": [
       "$\\displaystyle 2 \\left(R_{1 x} \\sin{\\left(q \\right)} + R_{1 y} \\cos{\\left(q \\right)}\\right) \\left(R_{1 x} \\cos{\\left(q \\right)} - R_{1 y} \\sin{\\left(q \\right)}\\right) \\left(- 2 R_{1 x} \\sin{\\left(q \\right)} \\dot{q} - 2 R_{1 y} \\cos{\\left(q \\right)} \\dot{q}\\right) + 2 \\left(R_{1 x} \\cos{\\left(q \\right)} - R_{1 y} \\sin{\\left(q \\right)}\\right)^{2} \\left(R_{1 x} \\cos{\\left(q \\right)} \\dot{q} - R_{1 y} \\sin{\\left(q \\right)} \\dot{q}\\right)$"
      ],
      "text/plain": [
       "                                                                              \n",
       "2⋅(R₁ ₓ⋅sin(q) + R_1_y⋅cos(q))⋅(R₁ ₓ⋅cos(q) - R_1_y⋅sin(q))⋅(-2⋅R₁ ₓ⋅sin(q)⋅q̇\n",
       "\n",
       "                                                    2                         \n",
       " - 2⋅R_1_y⋅cos(q)⋅q̇) + 2⋅(R₁ ₓ⋅cos(q) - R_1_y⋅sin(q)) ⋅(R₁ ₓ⋅cos(q)⋅q̇ - R_1_\n",
       "\n",
       "        \n",
       "y⋅sin(q)⋅q̇)"
      ]
     },
     "metadata": {},
     "output_type": "display_data"
    },
    {
     "data": {
      "image/png": "[encoded data removed]",
      "text/latex": [
       "$\\displaystyle 2 \\left(R_{1 x} \\cos{\\left(q \\right)} - R_{1 y} \\sin{\\left(q \\right)}\\right) \\left(\\frac{3 R_{1 x}^{2} \\cos{\\left(2 q \\right)}}{2} - \\frac{R_{1 x}^{2}}{2} - 3 R_{1 x} R_{1 y} \\sin{\\left(2 q \\right)} - \\frac{3 R_{1 y}^{2} \\cos{\\left(2 q \\right)}}{2} - \\frac{R_{1 y}^{2}}{2}\\right) \\dot{q}$"
      ],
      "text/plain": [
       "                               ⎛      2                2                      \n",
       "                               ⎜3⋅R₁ ₓ ⋅cos(2⋅q)   R₁ ₓ                       \n",
       "2⋅(R₁ ₓ⋅cos(q) - R_1_y⋅sin(q))⋅⎜──────────────── - ───── - 3⋅R₁ ₓ⋅R_1_y⋅sin(2⋅\n",
       "                               ⎝       2             2                        \n",
       "\n",
       "            2                 2⎞  \n",
       "     3⋅R_1_y ⋅cos(2⋅q)   R_1_y ⎟  \n",
       "q) - ───────────────── - ──────⎟⋅q̇\n",
       "             2             2   ⎠  "
      ]
     },
     "metadata": {},
     "output_type": "display_data"
    }
   ],
   "source": [
    "v1 = 3*R.x +4*R.y +5*R.z\n",
    "display(v1, R[0])\n",
    "\n",
    "el_pot = 2*R[0]**2 *R[1]\n",
    "display(el_pot, sp.diff(el_pot, R[0]))\n",
    "q = spvec.dynamicsymbols('q')\n",
    "R1 = R.orientnew('R1', 'Axis', [q, R.z])\n",
    "expr_pot = spvec.express(el_pot, R1, variables=True)\n",
    "display('express', expr_pot)\n",
    "\n",
    "dVdt = spvec.time_derivative(el_pot, R)\n",
    "dVdt1 = spvec.time_derivative(el_pot, R1)\n",
    "display('time_derivative', dVdt, dVdt1, dVdt1.simplify())"
   ]
  },
  {
   "cell_type": "markdown",
   "metadata": {},
   "source": [
    "### [Field operators and other related functions](https://docs.sympy.org/latest/modules/physics/vector/fields.html#field-operators-and-other-related-functions)"
   ]
  },
  {
   "cell_type": "code",
   "execution_count": null,
   "metadata": {},
   "outputs": [],
   "source": [
    "R = spvec.ReferenceFrame('R')"
   ]
  },
  {
   "cell_type": "markdown",
   "metadata": {},
   "source": [
    "#### **Curl**\n",
    "3D Cartesian system:\n",
    "$$ \\nabla \\times \\mathbf{F} = \\left(\\frac{\\partial F_z}{\\partial y}  -\n",
    "\\frac{\\partial F_y}{\\partial z}\\right) \\mathbf{\\hat{i}} +\n",
    "\\left(\\frac{\\partial F_x}{\\partial z} -\n",
    "\\frac{\\partial F_z}{\\partial x}\\right) \\mathbf{\\hat{j}} +\n",
    "\\left(\\frac{\\partial F_y}{\\partial x} -\n",
    "\\frac{\\partial F_x}{\\partial y}\\right) \\mathbf{\\hat{k}} $$"
   ]
  },
  {
   "cell_type": "code",
   "execution_count": 61,
   "metadata": {},
   "outputs": [
    {
     "data": {
      "image/png": "[encoded data removed]",
      "text/latex": [
       "$\\displaystyle R_{x} R_{y} R_{z}\\mathbf{\\hat{r}_x}$"
      ],
      "text/plain": [
       "Rₓ⋅R_y⋅R_z r_x"
      ]
     },
     "metadata": {},
     "output_type": "display_data"
    },
    {
     "data": {
      "image/png": "[encoded data removed]",
      "text/latex": [
       "$\\displaystyle R_{x} R_{y}\\mathbf{\\hat{r}_y} -  R_{x} R_{z}\\mathbf{\\hat{r}_z}$"
      ],
      "text/plain": [
       "Rₓ⋅R_y r_y + -Rₓ⋅R_z r_z"
      ]
     },
     "metadata": {},
     "output_type": "display_data"
    }
   ],
   "source": [
    "fld = R[0]*R[1]*R[2]*R.x\n",
    "curlf = spvec.curl(fld, R)\n",
    "display(fld, curlf)"
   ]
  },
  {
   "cell_type": "markdown",
   "metadata": {},
   "source": [
    "#### **Divergence**\n",
    "3D Cartesian system:\n",
    "$$ \\nabla\\cdot\\mathbf{F} =\\frac{\\partial F_x}{\\partial x}\n",
    "+\\frac{\\partial F_y}{\\partial y}\n",
    "+\\frac{\\partial F_z}{\\partial z\n",
    "} $$"
   ]
  },
  {
   "cell_type": "code",
   "execution_count": 62,
   "metadata": {},
   "outputs": [
    {
     "data": {
      "image/png": "[encoded data removed]",
      "text/latex": [
       "$\\displaystyle R_{x} R_{y} R_{z}\\mathbf{\\hat{r}_x} + R_{x} R_{y} R_{z}\\mathbf{\\hat{r}_y} + R_{x} R_{y} R_{z}\\mathbf{\\hat{r}_z}$"
      ],
      "text/plain": [
       "Rₓ⋅R_y⋅R_z r_x + Rₓ⋅R_y⋅R_z r_y + Rₓ⋅R_y⋅R_z r_z"
      ]
     },
     "metadata": {},
     "output_type": "display_data"
    },
    {
     "data": {
      "image/png": "[encoded data removed]",
      "text/latex": [
       "$\\displaystyle R_{x} R_{y} + R_{x} R_{z} + R_{y} R_{z}$"
      ],
      "text/plain": [
       "Rₓ⋅R_y + Rₓ⋅R_z + R_y⋅R_z"
      ]
     },
     "metadata": {},
     "output_type": "display_data"
    }
   ],
   "source": [
    "fld = R[0]*R[1]*R[2] *(R.x+R.y+R.z)\n",
    "divf = spvec.divergence(fld, R)\n",
    "display(fld, divf)"
   ]
  },
  {
   "cell_type": "markdown",
   "metadata": {},
   "source": [
    "#### **Gradient**\n",
    "3D Cartesian system:\n",
    "$$ \\nabla f = \\frac{\\partial f}{\\partial x} \\mathbf{\\hat{i}} +\n",
    "\\frac{\\partial f}{\\partial y}  \\mathbf{\\hat{j}} +\n",
    "\\frac{\\partial f}{\\partial z} \\mathbf{\\hat{k}} $$"
   ]
  },
  {
   "cell_type": "code",
   "execution_count": 63,
   "metadata": {},
   "outputs": [
    {
     "data": {
      "image/png": "[encoded data removed]",
      "text/latex": [
       "$\\displaystyle R_{x} R_{y} R_{z}$"
      ],
      "text/plain": [
       "Rₓ⋅R_y⋅R_z"
      ]
     },
     "metadata": {},
     "output_type": "display_data"
    },
    {
     "data": {
      "image/png": "[encoded data removed]",
      "text/latex": [
       "$\\displaystyle R_{y} R_{z}\\mathbf{\\hat{r}_x} + R_{x} R_{z}\\mathbf{\\hat{r}_y} + R_{x} R_{y}\\mathbf{\\hat{r}_z}$"
      ],
      "text/plain": [
       "R_y⋅R_z r_x + Rₓ⋅R_z r_y + Rₓ⋅R_y r_z"
      ]
     },
     "metadata": {},
     "output_type": "display_data"
    }
   ],
   "source": [
    "fld = R[0]*R[1]*R[2]\n",
    "gradf = spvec.gradient(fld, R)\n",
    "display(fld, gradf)"
   ]
  },
  {
   "cell_type": "markdown",
   "metadata": {},
   "source": [
    "#### **Conservative and Solenoidal fields**"
   ]
  },
  {
   "cell_type": "code",
   "execution_count": 67,
   "metadata": {},
   "outputs": [
    {
     "data": {
      "image/png": "[encoded data removed]",
      "text/latex": [
       "$\\displaystyle R_{y} R_{z}\\mathbf{\\hat{r}_x} + R_{x} R_{z}\\mathbf{\\hat{r}_y} + R_{x} R_{y}\\mathbf{\\hat{r}_z}$"
      ],
      "text/plain": [
       "R_y⋅R_z r_x + Rₓ⋅R_z r_y + Rₓ⋅R_y r_z"
      ]
     },
     "metadata": {},
     "output_type": "display_data"
    },
    {
     "data": {
      "image/png": "[encoded data removed]",
      "text/latex": [
       "$\\displaystyle 0$"
      ],
      "text/plain": [
       "0"
      ]
     },
     "metadata": {},
     "output_type": "display_data"
    },
    {
     "data": {
      "text/plain": [
       "True"
      ]
     },
     "metadata": {},
     "output_type": "display_data"
    }
   ],
   "source": [
    "fld = R[1]*R[2]*R.x + R[0]*R[2]*R.y + R[0]*R[1]*R.z\n",
    "curlf = spvec.curl(fld, R)\n",
    "display(fld, curlf, spvec.is_conservative(fld))"
   ]
  },
  {
   "cell_type": "code",
   "execution_count": 68,
   "metadata": {},
   "outputs": [
    {
     "data": {
      "image/png": "[encoded data removed]",
      "text/latex": [
       "$\\displaystyle R_{y} R_{z}\\mathbf{\\hat{r}_x} + R_{x} R_{z}\\mathbf{\\hat{r}_y} + R_{x} R_{y}\\mathbf{\\hat{r}_z}$"
      ],
      "text/plain": [
       "R_y⋅R_z r_x + Rₓ⋅R_z r_y + Rₓ⋅R_y r_z"
      ]
     },
     "metadata": {},
     "output_type": "display_data"
    },
    {
     "data": {
      "image/png": "[encoded data removed]",
      "text/latex": [
       "$\\displaystyle 0$"
      ],
      "text/plain": [
       "0"
      ]
     },
     "metadata": {},
     "output_type": "display_data"
    },
    {
     "data": {
      "text/plain": [
       "True"
      ]
     },
     "metadata": {},
     "output_type": "display_data"
    }
   ],
   "source": [
    "fld = R[1]*R[2]*R.x + R[0]*R[2]*R.y + R[0]*R[1]*R.z\n",
    "divf = spvec.divergence(fld, R)\n",
    "display(fld, divf, spvec.is_solenoidal(fld))"
   ]
  },
  {
   "cell_type": "markdown",
   "metadata": {},
   "source": [
    "#### **Scalar potential functions**"
   ]
  },
  {
   "cell_type": "code",
   "execution_count": 70,
   "metadata": {},
   "outputs": [
    {
     "data": {
      "image/png": "[encoded data removed]",
      "text/latex": [
       "$\\displaystyle 4 R_{x} R_{y} R_{z}\\mathbf{\\hat{r}_x} + 2 R_{x}^{2} R_{z}\\mathbf{\\hat{r}_y} + 2 R_{x}^{2} R_{y}\\mathbf{\\hat{r}_z}$"
      ],
      "text/plain": [
       "                       2               2\n",
       "4⋅Rₓ⋅R_y⋅R_z r_x + 2⋅Rₓ ⋅R_z r_y + 2⋅Rₓ ⋅R_y r_z"
      ]
     },
     "metadata": {},
     "output_type": "display_data"
    },
    {
     "data": {
      "text/plain": [
       "True"
      ]
     },
     "metadata": {},
     "output_type": "display_data"
    },
    {
     "data": {
      "image/png": "[encoded data removed]",
      "text/latex": [
       "$\\displaystyle 2 R_{x}^{2} R_{y} R_{z}$"
      ],
      "text/plain": [
       "    2        \n",
       "2⋅Rₓ ⋅R_y⋅R_z"
      ]
     },
     "metadata": {},
     "output_type": "display_data"
    }
   ],
   "source": [
    "cons_fld = 4*R[0]*R[1]*R[2]*R.x + 2*R[0]**2*R[2]*R.y + 2*R[0]**2*R[1]*R.z\n",
    "display(cons_fld, spvec.is_conservative(cons_fld))\n",
    "scalar_pot = spvec.scalar_potential(cons_fld, R)\n",
    "display(scalar_pot)"
   ]
  },
  {
   "cell_type": "code",
   "execution_count": 74,
   "metadata": {},
   "outputs": [
    {
     "data": {
      "image/png": "[encoded data removed]",
      "text/latex": [
       "$\\displaystyle 4 R_{x} R_{y}\\mathbf{\\hat{r}_x} + 2 R_{x}^{2}\\mathbf{\\hat{r}_y}$"
      ],
      "text/plain": [
       "                   2\n",
       "4⋅Rₓ⋅R_y r_x + 2⋅Rₓ  r_y"
      ]
     },
     "metadata": {},
     "output_type": "display_data"
    },
    {
     "data": {
      "image/png": "[encoded data removed]",
      "text/latex": [
       "$\\displaystyle 4$"
      ],
      "text/plain": [
       "4"
      ]
     },
     "metadata": {},
     "output_type": "display_data"
    }
   ],
   "source": [
    "O = spvec.Point('O')\n",
    "P = O.locatenew('P', R.x +2*R.y +3*R.z)\n",
    "vec_fld = 4*R[0]*R[1]*R.x + 2*R[0]**2*R.y\n",
    "pot_diff = spvec.scalar_potential_difference(vec_fld, R, O, P, O)\n",
    "display(vec_fld, pot_diff)"
   ]
  },
  {
   "cell_type": "code",
   "execution_count": null,
   "metadata": {},
   "outputs": [],
   "source": []
  },
  {
   "cell_type": "markdown",
   "metadata": {},
   "source": [
    "## Physics Vector API\n",
    "Link: https://docs.sympy.org/latest/modules/physics/vector/api/index.html"
   ]
  },
  {
   "cell_type": "code",
   "execution_count": null,
   "metadata": {},
   "outputs": [],
   "source": []
  }
 ],
 "metadata": {
  "kernelspec": {
   "display_name": "base",
   "language": "python",
   "name": "python3"
  },
  "language_info": {
   "codemirror_mode": {
    "name": "ipython",
    "version": 3
   },
   "file_extension": ".py",
   "mimetype": "text/x-python",
   "name": "python",
   "nbconvert_exporter": "python",
   "pygments_lexer": "ipython3",
   "version": "3.9.13"
  }
 },
 "nbformat": 4,
 "nbformat_minor": 2
}
