{
 "cells": [
  {
   "cell_type": "markdown",
   "metadata": {},
   "source": [
    "# Quantum Harmonic Oscillator in 1-D\n",
    "\n",
    "Documentation Link: https://docs.sympy.org/latest/modules/physics/qho_1d.html"
   ]
  },
  {
   "cell_type": "markdown",
   "metadata": {},
   "source": [
    "Module: **`sympy.physics.qho_1d`**"
   ]
  },
  {
   "cell_type": "code",
   "execution_count": 1,
   "metadata": {},
   "outputs": [],
   "source": [
    "import sympy as sp\n",
    "sp.init_printing(use_unicode=True)\n",
    "\n",
    "import sympy.physics.qho_1d as spqho1d"
   ]
  },
  {
   "cell_type": "code",
   "execution_count": 2,
   "metadata": {},
   "outputs": [],
   "source": [
    "# spqho1d"
   ]
  },
  {
   "cell_type": "markdown",
   "metadata": {},
   "source": [
    "## [`sympy.physics.qho_1d.E_n(n, omega)`](https://docs.sympy.org/latest/modules/physics/qho_1d.html#sympy.physics.qho_1d.E_n)"
   ]
  },
  {
   "cell_type": "code",
   "execution_count": 3,
   "metadata": {},
   "outputs": [
    {
     "data": {
      "image/png": "[encoded data removed]",
      "text/latex": [
       "$\\displaystyle \\hbar \\omega \\left(n + \\frac{1}{2}\\right)$"
      ],
      "text/plain": [
       "ℏ⋅ω⋅(n + 1/2)"
      ]
     },
     "execution_count": 3,
     "metadata": {},
     "output_type": "execute_result"
    }
   ],
   "source": [
    "n, w = sp.symbols('n omega')\n",
    "spqho1d.E_n(n, w)"
   ]
  },
  {
   "cell_type": "markdown",
   "metadata": {},
   "source": [
    "## [`sympy.physics.qho_1d.coherent_state(n, alpha)`](https://docs.sympy.org/latest/modules/physics/qho_1d.html#sympy.physics.qho_1d.coherent_state)"
   ]
  },
  {
   "cell_type": "code",
   "execution_count": null,
   "metadata": {},
   "outputs": [],
   "source": []
  },
  {
   "cell_type": "markdown",
   "metadata": {},
   "source": [
    "## [`sympy.physics.qho_1d.psi_n(n, x, m, omega)`](https://docs.sympy.org/latest/modules/physics/qho_1d.html#sympy.physics.qho_1d.psi_n)"
   ]
  },
  {
   "cell_type": "code",
   "execution_count": 4,
   "metadata": {},
   "outputs": [
    {
     "data": {
      "text/plain": [
       "'n = 0'"
      ]
     },
     "metadata": {},
     "output_type": "display_data"
    },
    {
     "data": {
      "image/png": "[encoded data removed]",
      "text/latex": [
       "$\\displaystyle \\frac{\\sqrt[4]{m \\omega} e^{- \\frac{m \\omega x^{2}}{2 \\hbar}}}{\\sqrt[4]{\\hbar} \\sqrt[4]{\\pi}}$"
      ],
      "text/plain": [
       "               2 \n",
       "         -m⋅ω⋅x  \n",
       "         ────────\n",
       "4 _____    2⋅ℏ   \n",
       "╲╱ m⋅ω ⋅ℯ        \n",
       "─────────────────\n",
       "   4 ___ 4 ___   \n",
       "   ╲╱ ℏ ⋅╲╱ π    "
      ]
     },
     "metadata": {},
     "output_type": "display_data"
    },
    {
     "data": {
      "text/plain": [
       "'n = 1'"
      ]
     },
     "metadata": {},
     "output_type": "display_data"
    },
    {
     "data": {
      "image/png": "[encoded data removed]",
      "text/latex": [
       "$\\displaystyle \\frac{\\sqrt{2} x \\left(m \\omega\\right)^{\\frac{3}{4}} e^{- \\frac{m \\omega x^{2}}{2 \\hbar}}}{\\hbar^{\\frac{3}{4}} \\sqrt[4]{\\pi}}$"
      ],
      "text/plain": [
       "                     2 \n",
       "               -m⋅ω⋅x  \n",
       "               ────────\n",
       "          3/4    2⋅ℏ   \n",
       "√2⋅x⋅(m⋅ω)   ⋅ℯ        \n",
       "───────────────────────\n",
       "        3/4 4 ___      \n",
       "       ℏ   ⋅╲╱ π       "
      ]
     },
     "metadata": {},
     "output_type": "display_data"
    },
    {
     "data": {
      "text/plain": [
       "'n = 2'"
      ]
     },
     "metadata": {},
     "output_type": "display_data"
    },
    {
     "data": {
      "image/png": "[encoded data removed]",
      "text/latex": [
       "$\\displaystyle \\frac{\\sqrt{2} \\sqrt[4]{m \\omega} \\left(\\frac{4 m \\omega x^{2}}{\\hbar} - 2\\right) e^{- \\frac{m \\omega x^{2}}{2 \\hbar}}}{4 \\sqrt[4]{\\hbar} \\sqrt[4]{\\pi}}$"
      ],
      "text/plain": [
       "                                 2 \n",
       "                           -m⋅ω⋅x  \n",
       "           ⎛       2    ⎞  ────────\n",
       "   4 _____ ⎜4⋅m⋅ω⋅x     ⎟    2⋅ℏ   \n",
       "√2⋅╲╱ m⋅ω ⋅⎜──────── - 2⎟⋅ℯ        \n",
       "           ⎝   ℏ        ⎠          \n",
       "───────────────────────────────────\n",
       "             4 ___ 4 ___           \n",
       "           4⋅╲╱ ℏ ⋅╲╱ π            "
      ]
     },
     "metadata": {},
     "output_type": "display_data"
    },
    {
     "data": {
      "text/plain": [
       "'n = 3'"
      ]
     },
     "metadata": {},
     "output_type": "display_data"
    },
    {
     "data": {
      "image/png": "[encoded data removed]",
      "text/latex": [
       "$\\displaystyle \\frac{\\sqrt{3} \\sqrt[4]{m \\omega} \\left(\\frac{8 x^{3} \\left(m \\omega\\right)^{\\frac{3}{2}}}{\\hbar^{\\frac{3}{2}}} - \\frac{12 x \\sqrt{m \\omega}}{\\sqrt{\\hbar}}\\right) e^{- \\frac{m \\omega x^{2}}{2 \\hbar}}}{12 \\sqrt[4]{\\hbar} \\sqrt[4]{\\pi}}$"
      ],
      "text/plain": [
       "                                                 2 \n",
       "                                           -m⋅ω⋅x  \n",
       "           ⎛   3      3/2          _____⎞  ────────\n",
       "   4 _____ ⎜8⋅x ⋅(m⋅ω)      12⋅x⋅╲╱ m⋅ω ⎟    2⋅ℏ   \n",
       "√3⋅╲╱ m⋅ω ⋅⎜───────────── - ────────────⎟⋅ℯ        \n",
       "           ⎜      3/2            √ℏ     ⎟          \n",
       "           ⎝     ℏ                      ⎠          \n",
       "───────────────────────────────────────────────────\n",
       "                      4 ___ 4 ___                  \n",
       "                   12⋅╲╱ ℏ ⋅╲╱ π                   "
      ]
     },
     "metadata": {},
     "output_type": "display_data"
    }
   ],
   "source": [
    "x, m, w = sp.symbols('x m omega')\n",
    "for ni in range(4):\n",
    "    display(f'n = {ni}', spqho1d.psi_n(ni, x, m, w))"
   ]
  },
  {
   "cell_type": "code",
   "execution_count": null,
   "metadata": {},
   "outputs": [],
   "source": []
  },
  {
   "cell_type": "markdown",
   "metadata": {},
   "source": [
    "# Quantum Harmonic Oscillator in 3-D\n",
    "\n",
    "Documentation Link: https://docs.sympy.org/latest/modules/physics/sho.html"
   ]
  },
  {
   "cell_type": "markdown",
   "metadata": {},
   "source": [
    "Module: **`sympy.physics.sho`**"
   ]
  },
  {
   "cell_type": "code",
   "execution_count": 5,
   "metadata": {},
   "outputs": [],
   "source": [
    "import sympy as sp\n",
    "sp.init_printing(use_unicode=True)\n",
    "\n",
    "import sympy.physics.sho as spsho"
   ]
  },
  {
   "cell_type": "code",
   "execution_count": 6,
   "metadata": {},
   "outputs": [],
   "source": [
    "# spsho"
   ]
  },
  {
   "cell_type": "markdown",
   "metadata": {},
   "source": [
    "## [`sympy.physics.sho.E_nl(n, l, hw)`](https://docs.sympy.org/latest/modules/physics/sho.html#sympy.physics.sho.E_nl)"
   ]
  },
  {
   "cell_type": "code",
   "execution_count": 7,
   "metadata": {},
   "outputs": [
    {
     "data": {
      "image/png": "[encoded data removed]",
      "text/latex": [
       "$\\displaystyle x \\left(l + 2 n + \\frac{3}{2}\\right)$"
      ],
      "text/plain": [
       "x⋅(l + 2⋅n + 3/2)"
      ]
     },
     "execution_count": 7,
     "metadata": {},
     "output_type": "execute_result"
    }
   ],
   "source": [
    "n, l, x = sp.symbols('n l x')\n",
    "spsho.E_nl(n, l, x)"
   ]
  },
  {
   "cell_type": "markdown",
   "metadata": {},
   "source": [
    "## [`sympy.physics.sho.R_nl(n, l, nu, r)`](https://docs.sympy.org/latest/modules/physics/sho.html#sympy.physics.sho.R_nl)"
   ]
  },
  {
   "cell_type": "code",
   "execution_count": 8,
   "metadata": {},
   "outputs": [
    {
     "data": {
      "image/png": "[encoded data removed]",
      "text/latex": [
       "$\\displaystyle \\frac{2 \\cdot 2^{\\frac{3}{4}} e^{- r^{2}}}{\\sqrt[4]{\\pi}}$"
      ],
      "text/plain": [
       "          2\n",
       "   3/4  -r \n",
       "2⋅2   ⋅ℯ   \n",
       "───────────\n",
       "   4 ___   \n",
       "   ╲╱ π    "
      ]
     },
     "metadata": {},
     "output_type": "display_data"
    },
    {
     "data": {
      "image/png": "[encoded data removed]",
      "text/latex": [
       "$\\displaystyle \\frac{4 \\cdot \\sqrt[4]{2} \\sqrt{3} \\cdot \\left(\\frac{3}{2} - 2 r^{2}\\right) e^{- r^{2}}}{3 \\sqrt[4]{\\pi}}$"
      ],
      "text/plain": [
       "                         2\n",
       "  4 ___    ⎛3      2⎞  -r \n",
       "4⋅╲╱ 2 ⋅√3⋅⎜─ - 2⋅r ⎟⋅ℯ   \n",
       "           ⎝2       ⎠     \n",
       "──────────────────────────\n",
       "           4 ___          \n",
       "         3⋅╲╱ π           "
      ]
     },
     "metadata": {},
     "output_type": "display_data"
    }
   ],
   "source": [
    "r, nu, l = sp.symbols('r nu l')\n",
    "display(spsho.R_nl(0, 0, 1, r), spsho.R_nl(1,0,1,r))"
   ]
  },
  {
   "cell_type": "code",
   "execution_count": 9,
   "metadata": {},
   "outputs": [
    {
     "data": {
      "image/png": "[encoded data removed]",
      "text/latex": [
       "$\\displaystyle \\frac{2 \\cdot 2^{\\frac{3}{4}} \\sqrt{\\nu^{\\frac{3}{2}}} e^{- \\nu r^{2}}}{\\sqrt[4]{\\pi}}$"
      ],
      "text/plain": [
       "          ______      2\n",
       "   3/4   ╱  3/2   -ν⋅r \n",
       "2⋅2   ⋅╲╱  ν    ⋅ℯ     \n",
       "───────────────────────\n",
       "         4 ___         \n",
       "         ╲╱ π          "
      ]
     },
     "metadata": {},
     "output_type": "display_data"
    },
    {
     "data": {
      "image/png": "[encoded data removed]",
      "text/latex": [
       "$\\displaystyle \\frac{r^{l} \\sqrt{\\frac{2^{l + \\frac{3}{2}} \\cdot 2^{l + 3}}{\\left(2 l + 3\\right)!!}} \\left(l - 2 r^{2} + \\frac{3}{2}\\right) e^{- r^{2}}}{\\sqrt[4]{\\pi}}$"
      ],
      "text/plain": [
       "        _________________                    \n",
       "       ╱  l + 3/2  l + 3                    2\n",
       " l    ╱  2       ⋅2       ⎛       2   3⎞  -r \n",
       "r ⋅  ╱   ─────────────── ⋅⎜l - 2⋅r  + ─⎟⋅ℯ   \n",
       "   ╲╱      (2⋅l + 3)!!    ⎝           2⎠     \n",
       "─────────────────────────────────────────────\n",
       "                    4 ___                    \n",
       "                    ╲╱ π                     "
      ]
     },
     "metadata": {},
     "output_type": "display_data"
    },
    {
     "data": {
      "image/png": "[encoded data removed]",
      "text/latex": [
       "$\\displaystyle \\frac{r^{l} \\sqrt{\\frac{2^{l + 3} \\left(2 \\nu\\right)^{l + \\frac{3}{2}}}{\\left(2 l + 3\\right)!!}} \\left(l - 2 \\nu r^{2} + \\frac{3}{2}\\right) e^{- \\nu r^{2}}}{\\sqrt[4]{\\pi}}$"
      ],
      "text/plain": [
       "        _____________________                        \n",
       "       ╱  l + 3      l + 3/2                        2\n",
       " l    ╱  2     ⋅(2⋅ν)         ⎛         2   3⎞  -ν⋅r \n",
       "r ⋅  ╱   ─────────────────── ⋅⎜l - 2⋅ν⋅r  + ─⎟⋅ℯ     \n",
       "   ╲╱        (2⋅l + 3)!!      ⎝             2⎠       \n",
       "─────────────────────────────────────────────────────\n",
       "                        4 ___                        \n",
       "                        ╲╱ π                         "
      ]
     },
     "metadata": {},
     "output_type": "display_data"
    },
    {
     "data": {
      "image/png": "[encoded data removed]",
      "text/latex": [
       "$\\displaystyle \\frac{r^{l} \\sqrt{\\frac{2^{l + n + 2} \\left(2 \\nu\\right)^{l + \\frac{3}{2}} n!}{\\left(2 l + 2 n + 1\\right)!!}} e^{- \\nu r^{2}} L_{n}^{\\left(l + \\frac{1}{2}\\right)}\\left(2 \\nu r^{2}\\right)}{\\sqrt[4]{\\pi}}$"
      ],
      "text/plain": [
       "        ____________________________                                          \n",
       "       ╱  l + n + 2      l + 3/2          2                                   \n",
       " l    ╱  2         ⋅(2⋅ν)       ⋅n!   -ν⋅r                ⎛                 2⎞\n",
       "r ⋅  ╱   ────────────────────────── ⋅ℯ     ⋅assoc_laguerre⎝n, l + 1/2, 2⋅ν⋅r ⎠\n",
       "   ╲╱        (2⋅l + 2⋅n + 1)!!                                                \n",
       "──────────────────────────────────────────────────────────────────────────────\n",
       "                                    4 ___                                     \n",
       "                                    ╲╱ π                                      "
      ]
     },
     "metadata": {},
     "output_type": "display_data"
    }
   ],
   "source": [
    "display(spsho.R_nl(0,0,nu,r), spsho.R_nl(1,l,1,r), \n",
    "        spsho.R_nl(1,l,nu,r), spsho.R_nl(n,l,nu,r))"
   ]
  },
  {
   "cell_type": "code",
   "execution_count": 10,
   "metadata": {},
   "outputs": [
    {
     "data": {
      "image/png": "[encoded data removed]",
      "text/latex": [
       "$\\displaystyle 1$"
      ],
      "text/plain": [
       "1"
      ]
     },
     "metadata": {},
     "output_type": "display_data"
    },
    {
     "data": {
      "image/png": "[encoded data removed]",
      "text/latex": [
       "$\\displaystyle 1$"
      ],
      "text/plain": [
       "1"
      ]
     },
     "metadata": {},
     "output_type": "display_data"
    },
    {
     "data": {
      "image/png": "[encoded data removed]",
      "text/latex": [
       "$\\displaystyle 1.0$"
      ],
      "text/plain": [
       "1.00000000000000"
      ]
     },
     "metadata": {},
     "output_type": "display_data"
    }
   ],
   "source": [
    "display(\n",
    "sp.integrate(spsho.R_nl(0,0,1,r)**2*r**2, (r,0,sp.oo)),\n",
    "sp.integrate(spsho.R_nl(1,0,1,r)**2*r**2, (r,0,sp.oo)),\n",
    "sp.Integral(spsho.R_nl(1,1,1,r)**2*r**2, (r,0,sp.oo)).n()\n",
    ")"
   ]
  },
  {
   "cell_type": "code",
   "execution_count": null,
   "metadata": {},
   "outputs": [],
   "source": []
  }
 ],
 "metadata": {
  "kernelspec": {
   "display_name": "base",
   "language": "python",
   "name": "python3"
  },
  "language_info": {
   "codemirror_mode": {
    "name": "ipython",
    "version": 3
   },
   "file_extension": ".py",
   "mimetype": "text/x-python",
   "name": "python",
   "nbconvert_exporter": "python",
   "pygments_lexer": "ipython3",
   "version": "3.9.13"
  }
 },
 "nbformat": 4,
 "nbformat_minor": 2
}
