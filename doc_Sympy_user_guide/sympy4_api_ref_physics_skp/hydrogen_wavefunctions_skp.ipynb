{
 "cells": [
  {
   "cell_type": "markdown",
   "metadata": {},
   "source": [
    "# Hydrogen Wavefunctions\n",
    "\n",
    "Documentation Link: https://docs.sympy.org/latest/modules/physics/hydrogen.html"
   ]
  },
  {
   "cell_type": "markdown",
   "metadata": {},
   "source": [
    "Module: **`sympy.physics.hydrogen`**. Under this, the functions availabe are -\n",
    "* [**`E_nl()`**](#sympyphysicshydrogene_nln-z1)\n",
    "* [**`E_nl_dirac()`**](#sympyphysicshydrogene_nl_diracn-l-spin_uptrue-z1-c137035999037000)\n",
    "* [**`Psi_nlm()`**](#sympyphysicshydrogenpsi_nlmn-l-m-r-phi-theta-z1)\n",
    "* [**`R_nl()`**](#sympyphysicshydrogenr_nln-l-r-z1)"
   ]
  },
  {
   "cell_type": "code",
   "execution_count": 1,
   "metadata": {},
   "outputs": [],
   "source": [
    "import sympy as sp\n",
    "sp.init_printing(use_unicode=True)"
   ]
  },
  {
   "cell_type": "code",
   "execution_count": 2,
   "metadata": {},
   "outputs": [],
   "source": [
    "import sympy.physics.hydrogen as sphydrogen"
   ]
  },
  {
   "cell_type": "markdown",
   "metadata": {},
   "source": [
    "## [`sympy.physics.hydrogen.E_nl(n, Z=1)`](https://docs.sympy.org/latest/modules/physics/hydrogen.html#sympy.physics.hydrogen.E_nl)"
   ]
  },
  {
   "cell_type": "code",
   "execution_count": 3,
   "metadata": {},
   "outputs": [],
   "source": [
    "n, Z = sp.symbols('n Z', integer=True, positive=True)"
   ]
  },
  {
   "cell_type": "code",
   "execution_count": 4,
   "metadata": {},
   "outputs": [
    {
     "data": {
      "image/png": "[encoded data removed]",
      "text/latex": [
       "$\\displaystyle - \\frac{Z^{2}}{2 n^{2}}$"
      ],
      "text/plain": [
       "  2 \n",
       "-Z  \n",
       "────\n",
       "   2\n",
       "2⋅n "
      ]
     },
     "metadata": {},
     "output_type": "display_data"
    },
    {
     "data": {
      "image/png": "[encoded data removed]",
      "text/latex": [
       "$\\displaystyle - \\frac{1}{2}$"
      ],
      "text/plain": [
       "-1/2"
      ]
     },
     "metadata": {},
     "output_type": "display_data"
    },
    {
     "data": {
      "image/png": "[encoded data removed]",
      "text/latex": [
       "$\\displaystyle - \\frac{1}{8}$"
      ],
      "text/plain": [
       "-1/8"
      ]
     },
     "metadata": {},
     "output_type": "display_data"
    },
    {
     "data": {
      "image/png": "[encoded data removed]",
      "text/latex": [
       "$\\displaystyle - \\frac{25}{18}$"
      ],
      "text/plain": [
       "-25 \n",
       "────\n",
       " 18 "
      ]
     },
     "metadata": {},
     "output_type": "display_data"
    }
   ],
   "source": [
    "display(sphydrogen.E_nl(n, Z), sphydrogen.E_nl(1), sphydrogen.E_nl(2, 1),\n",
    "        sphydrogen.E_nl(3, 5))\n"
   ]
  },
  {
   "cell_type": "markdown",
   "metadata": {},
   "source": [
    "## [`sympy.physics.hydrogen.E_nl_dirac(n, l, spin_up=True, Z=1, c=137.035999037000)`](https://docs.sympy.org/latest/modules/physics/hydrogen.html#sympy.physics.hydrogen.E_nl_dirac)"
   ]
  },
  {
   "cell_type": "code",
   "execution_count": 5,
   "metadata": {},
   "outputs": [
    {
     "data": {
      "image/png": "[encoded data removed]",
      "text/latex": [
       "$\\displaystyle -0.50000665659536$"
      ],
      "text/plain": [
       "-0.500006656595360"
      ]
     },
     "metadata": {},
     "output_type": "display_data"
    },
    {
     "data": {
      "image/png": "[encoded data removed]",
      "text/latex": [
       "$\\displaystyle -0.125002080189006$"
      ],
      "text/plain": [
       "-0.125002080189006"
      ]
     },
     "metadata": {},
     "output_type": "display_data"
    },
    {
     "data": {
      "image/png": "[encoded data removed]",
      "text/latex": [
       "$\\displaystyle -0.125000416028342$"
      ],
      "text/plain": [
       "-0.125000416028342"
      ]
     },
     "metadata": {},
     "output_type": "display_data"
    },
    {
     "data": {
      "image/png": "[encoded data removed]",
      "text/latex": [
       "$\\displaystyle -0.125002080189006$"
      ],
      "text/plain": [
       "-0.125002080189006"
      ]
     },
     "metadata": {},
     "output_type": "display_data"
    },
    {
     "data": {
      "image/png": "[encoded data removed]",
      "text/latex": [
       "$\\displaystyle -0.0555562951740285$"
      ],
      "text/plain": [
       "-0.0555562951740285"
      ]
     },
     "metadata": {},
     "output_type": "display_data"
    },
    {
     "data": {
      "image/png": "[encoded data removed]",
      "text/latex": [
       "$\\displaystyle -0.0555558020932949$"
      ],
      "text/plain": [
       "-0.0555558020932949"
      ]
     },
     "metadata": {},
     "output_type": "display_data"
    },
    {
     "data": {
      "image/png": "[encoded data removed]",
      "text/latex": [
       "$\\displaystyle -0.0555562951740285$"
      ],
      "text/plain": [
       "-0.0555562951740285"
      ]
     },
     "metadata": {},
     "output_type": "display_data"
    },
    {
     "data": {
      "image/png": "[encoded data removed]",
      "text/latex": [
       "$\\displaystyle -0.0555556377366884$"
      ],
      "text/plain": [
       "-0.0555556377366884"
      ]
     },
     "metadata": {},
     "output_type": "display_data"
    },
    {
     "data": {
      "image/png": "[encoded data removed]",
      "text/latex": [
       "$\\displaystyle -0.0555558020932949$"
      ],
      "text/plain": [
       "-0.0555558020932949"
      ]
     },
     "metadata": {},
     "output_type": "display_data"
    }
   ],
   "source": [
    "display(sphydrogen.E_nl_dirac(1,0), sphydrogen.E_nl_dirac(2,0),\n",
    "sphydrogen.E_nl_dirac(2,1), \n",
    "sphydrogen.E_nl_dirac(2,1,spin_up=False),\n",
    "sphydrogen.E_nl_dirac(3, 0),\n",
    "sphydrogen.E_nl_dirac(3, 1), sphydrogen.E_nl_dirac(3, 1, False),\n",
    "sphydrogen.E_nl_dirac(3, 2), sphydrogen.E_nl_dirac(3, 2, False))\n"
   ]
  },
  {
   "cell_type": "markdown",
   "metadata": {},
   "source": [
    "## [`sympy.physics.hydrogen.Psi_nlm(n, l, m, r, phi, theta, Z=1)`](https://docs.sympy.org/latest/modules/physics/hydrogen.html#sympy.physics.hydrogen.Psi_nlm)"
   ]
  },
  {
   "cell_type": "code",
   "execution_count": 6,
   "metadata": {},
   "outputs": [],
   "source": [
    "r = sp.Symbol('r', positive=True)\n",
    "phi, theta = sp.symbols('phi theta', real=True)\n",
    "Z = sp.Symbol('Z', positive=True, integer=True, nonzero=True)"
   ]
  },
  {
   "cell_type": "code",
   "execution_count": 7,
   "metadata": {},
   "outputs": [
    {
     "data": {
      "image/png": "[encoded data removed]",
      "text/latex": [
       "$\\displaystyle \\frac{Z^{\\frac{3}{2}} e^{- Z r}}{\\sqrt{\\pi}}$"
      ],
      "text/plain": [
       " 3/2  -Z⋅r\n",
       "Z   ⋅ℯ    \n",
       "──────────\n",
       "    √π    "
      ]
     },
     "metadata": {},
     "output_type": "display_data"
    },
    {
     "data": {
      "image/png": "[encoded data removed]",
      "text/latex": [
       "$\\displaystyle - \\frac{Z^{\\frac{5}{2}} r e^{i \\phi} e^{- \\frac{Z r}{2}} \\sin{\\left(\\theta \\right)}}{8 \\sqrt{\\pi}}$"
      ],
      "text/plain": [
       "              -Z⋅r         \n",
       "              ─────        \n",
       "  5/2    ⅈ⋅φ    2          \n",
       "-Z   ⋅r⋅ℯ   ⋅ℯ     ⋅sin(θ) \n",
       "───────────────────────────\n",
       "            8⋅√π           "
      ]
     },
     "metadata": {},
     "output_type": "display_data"
    },
    {
     "data": {
      "image/png": "[encoded data removed]",
      "text/latex": [
       "$\\displaystyle \\frac{Z^{5} r^{2} e^{- Z r} \\sin^{2}{\\left(\\theta \\right)}}{64 \\pi}$"
      ],
      "text/plain": [
       " 5  2  -Z⋅r    2   \n",
       "Z ⋅r ⋅ℯ    ⋅sin (θ)\n",
       "───────────────────\n",
       "        64⋅π       "
      ]
     },
     "metadata": {},
     "output_type": "display_data"
    },
    {
     "data": {
      "text/plain": [
       "'normalization check'"
      ]
     },
     "metadata": {},
     "output_type": "display_data"
    },
    {
     "data": {
      "image/png": "[encoded data removed]",
      "text/latex": [
       "$\\displaystyle 1$"
      ],
      "text/plain": [
       "1"
      ]
     },
     "metadata": {},
     "output_type": "display_data"
    }
   ],
   "source": [
    "display(sphydrogen.Psi_nlm(1,0,0, r, phi, theta, Z))\n",
    "psi211 = sphydrogen.Psi_nlm(2,1,1, r, phi, theta, Z)\n",
    "display(psi211)\n",
    "psi211abs = sp.conjugate(psi211)*psi211\n",
    "display(psi211abs)\n",
    "jacobifn = r**2*sp.sin(theta)\n",
    "display('normalization check', \n",
    "sp.integrate(psi211abs*jacobifn, (r,0,sp.oo), (phi,0,2*sp.pi), (theta,0,sp.pi)))\n"
   ]
  },
  {
   "cell_type": "markdown",
   "metadata": {},
   "source": [
    "## [`sympy.physics.hydrogen.R_nl(n, l, r, Z=1)`](https://docs.sympy.org/latest/modules/physics/hydrogen.html#sympy.physics.hydrogen.R_nl)"
   ]
  },
  {
   "cell_type": "code",
   "execution_count": 8,
   "metadata": {},
   "outputs": [
    {
     "data": {
      "image/png": "[encoded data removed]",
      "text/latex": [
       "$\\displaystyle 2 Z^{\\frac{3}{2}} e^{- Z r}$"
      ],
      "text/plain": [
       "   3/2  -Z⋅r\n",
       "2⋅Z   ⋅ℯ    "
      ]
     },
     "metadata": {},
     "output_type": "display_data"
    },
    {
     "data": {
      "image/png": "[encoded data removed]",
      "text/latex": [
       "$\\displaystyle \\frac{\\sqrt{2} Z^{\\frac{3}{2}} \\left(- Z r + 2\\right) e^{- \\frac{Z r}{2}}}{4}$"
      ],
      "text/plain": [
       "                    -Z⋅r \n",
       "                    ─────\n",
       "    3/2               2  \n",
       "√2⋅Z   ⋅(-Z⋅r + 2)⋅ℯ     \n",
       "─────────────────────────\n",
       "            4            "
      ]
     },
     "metadata": {},
     "output_type": "display_data"
    },
    {
     "data": {
      "image/png": "[encoded data removed]",
      "text/latex": [
       "$\\displaystyle \\frac{\\sqrt{6} r e^{- \\frac{r}{2}}}{12}$"
      ],
      "text/plain": [
       "      -r \n",
       "      ───\n",
       "       2 \n",
       "√6⋅r⋅ℯ   \n",
       "─────────\n",
       "    12   "
      ]
     },
     "metadata": {},
     "output_type": "display_data"
    },
    {
     "data": {
      "image/png": "[encoded data removed]",
      "text/latex": [
       "$\\displaystyle \\frac{2 \\sqrt{3} \\cdot \\left(\\frac{2 r^{2}}{9} - 2 r + 3\\right) e^{- \\frac{r}{3}}}{27}$"
      ],
      "text/plain": [
       "                       -r \n",
       "     ⎛   2          ⎞  ───\n",
       "     ⎜2⋅r           ⎟   3 \n",
       "2⋅√3⋅⎜──── - 2⋅r + 3⎟⋅ℯ   \n",
       "     ⎝ 9            ⎠     \n",
       "──────────────────────────\n",
       "            27            "
      ]
     },
     "metadata": {},
     "output_type": "display_data"
    }
   ],
   "source": [
    "display(sphydrogen.R_nl(1,0,r,Z), sphydrogen.R_nl(2,0,r,Z),\n",
    "        sphydrogen.R_nl(2,1,r), sphydrogen.R_nl(3,0,r))"
   ]
  },
  {
   "cell_type": "code",
   "execution_count": 9,
   "metadata": {},
   "outputs": [
    {
     "data": {
      "image/png": "[encoded data removed]",
      "text/latex": [
       "$\\displaystyle 94 \\sqrt{47} e^{- 47 r}$"
      ],
      "text/plain": [
       "        -47⋅r\n",
       "94⋅√47⋅ℯ     "
      ]
     },
     "metadata": {},
     "output_type": "display_data"
    },
    {
     "data": {
      "image/png": "[encoded data removed]",
      "text/latex": [
       "$\\displaystyle \\frac{47 \\sqrt{94} \\cdot \\left(2 - 47 r\\right) e^{- \\frac{47 r}{2}}}{4}$"
      ],
      "text/plain": [
       "                   -47⋅r \n",
       "                   ──────\n",
       "                     2   \n",
       "47⋅√94⋅(2 - 47⋅r)⋅ℯ      \n",
       "─────────────────────────\n",
       "            4            "
      ]
     },
     "metadata": {},
     "output_type": "display_data"
    },
    {
     "data": {
      "image/png": "[encoded data removed]",
      "text/latex": [
       "$\\displaystyle \\frac{94 \\sqrt{141} \\cdot \\left(\\frac{4418 r^{2}}{9} - 94 r + 3\\right) e^{- \\frac{47 r}{3}}}{27}$"
      ],
      "text/plain": [
       "                              -47⋅r \n",
       "        ⎛      2           ⎞  ──────\n",
       "        ⎜4418⋅r            ⎟    3   \n",
       "94⋅√141⋅⎜─────── - 94⋅r + 3⎟⋅ℯ      \n",
       "        ⎝   9              ⎠        \n",
       "────────────────────────────────────\n",
       "                 27                 "
      ]
     },
     "metadata": {},
     "output_type": "display_data"
    }
   ],
   "source": [
    "# Silver atom, Z=47\n",
    "display(sphydrogen.R_nl(1, 0, r, Z=47),\n",
    "sphydrogen.R_nl(2, 0, r, Z=47),\n",
    "sphydrogen.R_nl(3, 0, r, Z=47))"
   ]
  },
  {
   "cell_type": "code",
   "execution_count": 10,
   "metadata": {},
   "outputs": [
    {
     "data": {
      "image/png": "[encoded data removed]",
      "text/latex": [
       "$\\displaystyle 1$"
      ],
      "text/plain": [
       "1"
      ]
     },
     "metadata": {},
     "output_type": "display_data"
    },
    {
     "data": {
      "image/png": "[encoded data removed]",
      "text/latex": [
       "$\\displaystyle 1$"
      ],
      "text/plain": [
       "1"
      ]
     },
     "metadata": {},
     "output_type": "display_data"
    },
    {
     "data": {
      "image/png": "[encoded data removed]",
      "text/latex": [
       "$\\displaystyle 1$"
      ],
      "text/plain": [
       "1"
      ]
     },
     "metadata": {},
     "output_type": "display_data"
    }
   ],
   "source": [
    "# normalization\n",
    "display(\n",
    "sp.integrate(sphydrogen.R_nl(1, 0, r, Z=2)**2 * r**2, (r, 0, sp.oo)),\n",
    "sp.integrate(sphydrogen.R_nl(2, 0, r, Z=3)**2 * r**2, (r, 0, sp.oo)),\n",
    "sp.integrate(sphydrogen.R_nl(2, 1, r, Z=4)**2 * r**2, (r, 0, sp.oo))\n",
    ")"
   ]
  },
  {
   "cell_type": "code",
   "execution_count": null,
   "metadata": {},
   "outputs": [],
   "source": []
  }
 ],
 "metadata": {
  "kernelspec": {
   "display_name": "Python 3",
   "language": "python",
   "name": "python3"
  },
  "language_info": {
   "codemirror_mode": {
    "name": "ipython",
    "version": 3
   },
   "file_extension": ".py",
   "mimetype": "text/x-python",
   "name": "python",
   "nbconvert_exporter": "python",
   "pygments_lexer": "ipython3",
   "version": "3.11.1"
  }
 },
 "nbformat": 4,
 "nbformat_minor": 2
}
