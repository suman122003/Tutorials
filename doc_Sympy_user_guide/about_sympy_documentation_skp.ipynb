{
 "cells": [
  {
   "cell_type": "markdown",
   "metadata": {},
   "source": [
    "# SymPy Documentation"
   ]
  },
  {
   "cell_type": "markdown",
   "metadata": {},
   "source": [
    "Link: https://docs.sympy.org/latest/index.html"
   ]
  },
  {
   "cell_type": "markdown",
   "metadata": {},
   "source": [
    "# Tutorials\n",
    "(sympy1_tutorials_skp/)"
   ]
  },
  {
   "cell_type": "markdown",
   "metadata": {},
   "source": [
    "## [Introduction](sympy1_tutorials_skp/introduction_gotchas_skp.ipynb)\n",
    "Completed"
   ]
  },
  {
   "cell_type": "markdown",
   "metadata": {},
   "source": [
    "## [Gotchas](sympy1_tutorials_skp/introduction_gotchas_skp.ipynb)\n",
    "Completed"
   ]
  },
  {
   "cell_type": "markdown",
   "metadata": {},
   "source": [
    "## SymPy Features"
   ]
  },
  {
   "cell_type": "markdown",
   "metadata": {},
   "source": [
    "### [Basic Operations](sympy1_tutorials_skp/features_basic_skp.ipynb)\n",
    "Completed\n",
    "### [Printing](sympy1_tutorials_skp/features_basic_skp.ipynb)\n",
    "Skipped"
   ]
  },
  {
   "cell_type": "markdown",
   "metadata": {},
   "source": [
    "### [Simplification](sympy1_tutorials_skp/features_simplification_skp.ipynb)\n",
    "Ongoing"
   ]
  },
  {
   "cell_type": "markdown",
   "metadata": {},
   "source": [
    "### [Calculus](sympy1_tutorials_skp/features_calculus_skp.ipynb)\n",
    "Completed"
   ]
  },
  {
   "cell_type": "markdown",
   "metadata": {},
   "source": [
    "### [Solvers](sympy1_tutorials_skp/features_solvers_skp.ipynb)\n",
    "Completed"
   ]
  },
  {
   "cell_type": "markdown",
   "metadata": {},
   "source": [
    "### [Matrices](sympy1_tutorials_skp/features_matrices_skp.ipynb)\n",
    "Completed"
   ]
  },
  {
   "cell_type": "markdown",
   "metadata": {},
   "source": [
    "### [Advanced Expression Manipulation](sympy1_tutorials_skp/features_adv_expr_manipulations_skp.ipynb)"
   ]
  },
  {
   "cell_type": "code",
   "execution_count": null,
   "metadata": {},
   "outputs": [],
   "source": []
  },
  {
   "cell_type": "markdown",
   "metadata": {},
   "source": [
    "# How-to Guides\n",
    "(sympy2_how_to_guides_skp/)"
   ]
  },
  {
   "cell_type": "code",
   "execution_count": null,
   "metadata": {},
   "outputs": [],
   "source": []
  },
  {
   "cell_type": "markdown",
   "metadata": {},
   "source": [
    "# Explanations\n",
    "(sympy3_explanations_skp/)"
   ]
  },
  {
   "cell_type": "code",
   "execution_count": null,
   "metadata": {},
   "outputs": [],
   "source": []
  },
  {
   "cell_type": "markdown",
   "metadata": {},
   "source": [
    "# API References - Basics\n",
    "(sympy4_api_ref_basics_skp/)"
   ]
  },
  {
   "cell_type": "markdown",
   "metadata": {},
   "source": [
    "# API References - Code Generation\n",
    "(sympy4_api_ref_code_generation_skp/)"
   ]
  },
  {
   "cell_type": "markdown",
   "metadata": {},
   "source": [
    "# API References - Logic\n",
    "(sympy4_api_ref_logic_skp/)"
   ]
  },
  {
   "cell_type": "markdown",
   "metadata": {},
   "source": [
    "# API References - Matrices\n",
    "(sympy4_api_ref_matrices_skp/)"
   ]
  },
  {
   "cell_type": "markdown",
   "metadata": {},
   "source": [
    "# API References - Number Theory\n",
    "(sympy4_api_ref_number_theory_skp/)"
   ]
  },
  {
   "cell_type": "markdown",
   "metadata": {},
   "source": [
    "# API References - Physics\n",
    "(sympy4_api_ref_physics_skp/)\n",
    "\n",
    "Documentation Link: https://docs.sympy.org/latest/reference/public/physics/index.html"
   ]
  },
  {
   "cell_type": "markdown",
   "metadata": {},
   "source": [
    "## [Hydrogen Wavefunctions](sympy4_api_ref_physics_skp/hydrogen_wavefunctions_skp.ipynb)\n",
    "Completed"
   ]
  },
  {
   "cell_type": "markdown",
   "metadata": {},
   "source": [
    "## [Matrices, Pauli Algebra](sympy4_api_ref_physics_skp/matrices_paulialgebra_skp.ipynb)\n",
    "Completed"
   ]
  },
  {
   "cell_type": "markdown",
   "metadata": {},
   "source": [
    "## [Quantum Harmonic Oscillator 1D and 3D](sympy4_api_ref_physics_skp/qho1d_sho_skp.ipynb)\n",
    "Completed"
   ]
  },
  {
   "cell_type": "markdown",
   "metadata": {},
   "source": [
    "## [The Physics Vector Module](sympy4_api_ref_physics_skp/physics_vector_skp.ipynb)\n",
    "Completed"
   ]
  },
  {
   "cell_type": "markdown",
   "metadata": {},
   "source": [
    "# API References - Utilities\n",
    "(sympy4_api_ref_utilities_skp/)"
   ]
  },
  {
   "cell_type": "markdown",
   "metadata": {},
   "source": [
    "# API References - Topics\n",
    "(sympy4_api_ref_topics_skp/)"
   ]
  },
  {
   "cell_type": "code",
   "execution_count": null,
   "metadata": {},
   "outputs": [],
   "source": []
  }
 ],
 "metadata": {
  "kernelspec": {
   "display_name": "Python 3",
   "language": "python",
   "name": "python3"
  },
  "language_info": {
   "codemirror_mode": {
    "name": "ipython",
    "version": 3
   },
   "file_extension": ".py",
   "mimetype": "text/x-python",
   "name": "python",
   "nbconvert_exporter": "python",
   "pygments_lexer": "ipython3",
   "version": "3.11.1"
  }
 },
 "nbformat": 4,
 "nbformat_minor": 2
}
