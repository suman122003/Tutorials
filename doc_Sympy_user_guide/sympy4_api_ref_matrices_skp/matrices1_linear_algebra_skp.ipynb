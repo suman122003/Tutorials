{
 "cells": [
  {
   "cell_type": "markdown",
   "metadata": {},
   "source": [
    "# Matrices (linear algebra)\n",
    "Documentation Link: https://docs.sympy.org/latest/modules/matrices/matrices.html"
   ]
  },
  {
   "cell_type": "code",
   "execution_count": 1,
   "metadata": {},
   "outputs": [],
   "source": [
    "import sympy as sp\n",
    "sp.init_printing(use_unicode=True)"
   ]
  },
  {
   "cell_type": "code",
   "execution_count": 42,
   "metadata": {},
   "outputs": [],
   "source": [
    "import numpy as np"
   ]
  },
  {
   "cell_type": "markdown",
   "metadata": {},
   "source": [
    "## [Creating Matrices](https://docs.sympy.org/latest/modules/matrices/matrices.html#creating-matrices)"
   ]
  },
  {
   "cell_type": "code",
   "execution_count": 5,
   "metadata": {},
   "outputs": [
    {
     "data": {
      "text/latex": [
       "$\\displaystyle \\left[\\begin{matrix}1 & 0 & 0\\\\0 & 0 & 0\\end{matrix}\\right]$"
      ],
      "text/plain": [
       "⎡1  0  0⎤\n",
       "⎢       ⎥\n",
       "⎣0  0  0⎦"
      ]
     },
     "metadata": {},
     "output_type": "display_data"
    },
    {
     "data": {
      "text/latex": [
       "$\\displaystyle \\left[\\begin{matrix}1 & 0 & 0\\\\0 & 0 & 0\\\\2 & 0 & -1\\end{matrix}\\right]$"
      ],
      "text/plain": [
       "⎡1  0  0 ⎤\n",
       "⎢        ⎥\n",
       "⎢0  0  0 ⎥\n",
       "⎢        ⎥\n",
       "⎣2  0  -1⎦"
      ]
     },
     "metadata": {},
     "output_type": "display_data"
    },
    {
     "data": {
      "text/latex": [
       "$\\displaystyle \\left[\\begin{matrix}1 & 2 & 3\\end{matrix}\\right]$"
      ],
      "text/plain": [
       "[1  2  3]"
      ]
     },
     "metadata": {},
     "output_type": "display_data"
    },
    {
     "data": {
      "text/latex": [
       "$\\displaystyle \\left[\\begin{matrix}1\\\\2\\\\3\\end{matrix}\\right]$"
      ],
      "text/plain": [
       "⎡1⎤\n",
       "⎢ ⎥\n",
       "⎢2⎥\n",
       "⎢ ⎥\n",
       "⎣3⎦"
      ]
     },
     "metadata": {},
     "output_type": "display_data"
    }
   ],
   "source": [
    "mat = sp.Matrix([[1,0,0],[0,0,0]])\n",
    "display(mat, sp.Matrix([mat, (2,0,-1)]))   # adding row\n",
    "\n",
    "rowmat = sp.Matrix([[1,2,3]])\n",
    "colmat = sp.Matrix([1,2,3])\n",
    "display(rowmat, colmat)"
   ]
  },
  {
   "cell_type": "code",
   "execution_count": 7,
   "metadata": {},
   "outputs": [
    {
     "data": {
      "text/latex": [
       "$\\displaystyle \\left[\\begin{matrix}1 & 2\\\\3 & 4\\\\5 & 6\\end{matrix}\\right]$"
      ],
      "text/plain": [
       "⎡1  2⎤\n",
       "⎢    ⎥\n",
       "⎢3  4⎥\n",
       "⎢    ⎥\n",
       "⎣5  6⎦"
      ]
     },
     "execution_count": 7,
     "metadata": {},
     "output_type": "execute_result"
    }
   ],
   "source": [
    "sp.Matrix(3, 2, [1,2,3,4,5,6])"
   ]
  },
  {
   "cell_type": "code",
   "execution_count": 11,
   "metadata": {},
   "outputs": [
    {
     "data": {
      "text/plain": [
       "<function __main__.matfn(i, j)>"
      ]
     },
     "metadata": {},
     "output_type": "display_data"
    },
    {
     "data": {
      "text/latex": [
       "$\\displaystyle \\left[\\begin{matrix}-2 & 1 & 0 & 0 & 0\\\\1 & -2 & 1 & 0 & 0\\\\0 & 1 & -2 & 1 & 0\\\\0 & 0 & 1 & -2 & 1\\\\0 & 0 & 0 & 1 & -2\\end{matrix}\\right]$"
      ],
      "text/plain": [
       "⎡-2  1   0   0   0 ⎤\n",
       "⎢                  ⎥\n",
       "⎢1   -2  1   0   0 ⎥\n",
       "⎢                  ⎥\n",
       "⎢0   1   -2  1   0 ⎥\n",
       "⎢                  ⎥\n",
       "⎢0   0   1   -2  1 ⎥\n",
       "⎢                  ⎥\n",
       "⎣0   0   0   1   -2⎦"
      ]
     },
     "metadata": {},
     "output_type": "display_data"
    },
    {
     "data": {
      "text/latex": [
       "$\\displaystyle \\left[\\begin{matrix}1 & 0 & 1 & 0\\\\0 & 1 & 0 & 1\\\\1 & 0 & 1 & 0\\end{matrix}\\right]$"
      ],
      "text/plain": [
       "⎡1  0  1  0⎤\n",
       "⎢          ⎥\n",
       "⎢0  1  0  1⎥\n",
       "⎢          ⎥\n",
       "⎣1  0  1  0⎦"
      ]
     },
     "execution_count": 11,
     "metadata": {},
     "output_type": "execute_result"
    }
   ],
   "source": [
    "def matfn(i, j):\n",
    "    if i==j:\n",
    "        return -2\n",
    "    elif i==j+1:\n",
    "        return 1\n",
    "    elif i+1==j:\n",
    "        return 1\n",
    "    else:\n",
    "        return 0\n",
    "display(matfn, sp.Matrix(5,5, matfn))\n",
    "\n",
    "sp.Matrix(3,4, lambda i,j: 1 - (i+j)%2)"
   ]
  },
  {
   "cell_type": "code",
   "execution_count": 63,
   "metadata": {},
   "outputs": [
    {
     "data": {
      "text/plain": [
       "'zeros'"
      ]
     },
     "metadata": {},
     "output_type": "display_data"
    },
    {
     "data": {
      "text/latex": [
       "$\\displaystyle \\left[\\begin{matrix}0 & 0\\\\0 & 0\\end{matrix}\\right]$"
      ],
      "text/plain": [
       "⎡0  0⎤\n",
       "⎢    ⎥\n",
       "⎣0  0⎦"
      ]
     },
     "metadata": {},
     "output_type": "display_data"
    },
    {
     "data": {
      "text/latex": [
       "$\\displaystyle \\left[\\begin{matrix}0 & 0 & 0\\\\0 & 0 & 0\\end{matrix}\\right]$"
      ],
      "text/plain": [
       "⎡0  0  0⎤\n",
       "⎢       ⎥\n",
       "⎣0  0  0⎦"
      ]
     },
     "metadata": {},
     "output_type": "display_data"
    },
    {
     "data": {
      "text/plain": [
       "'ones'"
      ]
     },
     "metadata": {},
     "output_type": "display_data"
    },
    {
     "data": {
      "text/latex": [
       "$\\displaystyle \\left[\\begin{matrix}1 & 1\\\\1 & 1\\end{matrix}\\right]$"
      ],
      "text/plain": [
       "⎡1  1⎤\n",
       "⎢    ⎥\n",
       "⎣1  1⎦"
      ]
     },
     "metadata": {},
     "output_type": "display_data"
    },
    {
     "data": {
      "text/latex": [
       "$\\displaystyle \\left[\\begin{matrix}1 & 1 & 1\\\\1 & 1 & 1\\end{matrix}\\right]$"
      ],
      "text/plain": [
       "⎡1  1  1⎤\n",
       "⎢       ⎥\n",
       "⎣1  1  1⎦"
      ]
     },
     "metadata": {},
     "output_type": "display_data"
    },
    {
     "data": {
      "text/plain": [
       "'diag'"
      ]
     },
     "metadata": {},
     "output_type": "display_data"
    },
    {
     "data": {
      "text/latex": [
       "$\\displaystyle \\left[\\begin{matrix}1 & 0 & 0 & 0\\\\0 & 1 & 2 & 0\\\\0 & 3 & 4 & 0\\\\0 & 0 & 0 & 7\\end{matrix}\\right]$"
      ],
      "text/plain": [
       "⎡1  0  0  0⎤\n",
       "⎢          ⎥\n",
       "⎢0  1  2  0⎥\n",
       "⎢          ⎥\n",
       "⎢0  3  4  0⎥\n",
       "⎢          ⎥\n",
       "⎣0  0  0  7⎦"
      ]
     },
     "metadata": {},
     "output_type": "display_data"
    },
    {
     "data": {
      "text/plain": [
       "'eye'"
      ]
     },
     "metadata": {},
     "output_type": "display_data"
    },
    {
     "data": {
      "text/latex": [
       "$\\displaystyle \\left[\\begin{matrix}1 & 0 & 0 & 0\\\\0 & 1 & 0 & 0\\\\0 & 0 & 1 & 0\\\\0 & 0 & 0 & 1\\end{matrix}\\right]$"
      ],
      "text/plain": [
       "⎡1  0  0  0⎤\n",
       "⎢          ⎥\n",
       "⎢0  1  0  0⎥\n",
       "⎢          ⎥\n",
       "⎢0  0  1  0⎥\n",
       "⎢          ⎥\n",
       "⎣0  0  0  1⎦"
      ]
     },
     "metadata": {},
     "output_type": "display_data"
    }
   ],
   "source": [
    "display('zeros', sp.zeros(2), sp.zeros(2, 3), 'ones', sp.ones(2), sp.ones(2,3),\n",
    "'diag', sp.diag(1, sp.Matrix([[1,2],[3,4]]), 7), 'eye', sp.eye(4))"
   ]
  },
  {
   "cell_type": "markdown",
   "metadata": {},
   "source": [
    "## [Basic Manipulation](https://docs.sympy.org/latest/modules/matrices/matrices.html#basic-manipulation)"
   ]
  },
  {
   "cell_type": "markdown",
   "metadata": {},
   "source": [
    "Indexing and Slicing"
   ]
  },
  {
   "cell_type": "code",
   "execution_count": 37,
   "metadata": {},
   "outputs": [
    {
     "data": {
      "text/latex": [
       "$\\displaystyle \\left[\\begin{matrix}1 & 2 & 3 & 4\\\\5 & 6 & 7 & 8\\\\9 & 10 & 11 & 12\\end{matrix}\\right]$"
      ],
      "text/plain": [
       "⎡1  2   3   4 ⎤\n",
       "⎢             ⎥\n",
       "⎢5  6   7   8 ⎥\n",
       "⎢             ⎥\n",
       "⎣9  10  11  12⎦"
      ]
     },
     "metadata": {},
     "output_type": "display_data"
    },
    {
     "data": {
      "image/png": "[encoded data removed]",
      "text/latex": [
       "$\\displaystyle 5$"
      ],
      "text/plain": [
       "5"
      ]
     },
     "metadata": {},
     "output_type": "display_data"
    },
    {
     "data": {
      "image/png": "[encoded data removed]",
      "text/latex": [
       "$\\displaystyle 7$"
      ],
      "text/plain": [
       "7"
      ]
     },
     "metadata": {},
     "output_type": "display_data"
    },
    {
     "data": {
      "text/latex": [
       "$\\displaystyle \\left[\\begin{matrix}2 & 3 & 4\\\\6 & 7 & 8\\end{matrix}\\right]$"
      ],
      "text/plain": [
       "⎡2  3  4⎤\n",
       "⎢       ⎥\n",
       "⎣6  7  8⎦"
      ]
     },
     "metadata": {},
     "output_type": "display_data"
    },
    {
     "data": {
      "text/latex": [
       "$\\displaystyle \\left[\\begin{matrix}\\end{matrix}\\right]$"
      ],
      "text/plain": [
       "[]"
      ]
     },
     "metadata": {},
     "output_type": "display_data"
    },
    {
     "data": {
      "text/latex": [
       "$\\displaystyle \\left[\\begin{matrix}2\\\\6\\\\10\\end{matrix}\\right]$"
      ],
      "text/plain": [
       "⎡2 ⎤\n",
       "⎢  ⎥\n",
       "⎢6 ⎥\n",
       "⎢  ⎥\n",
       "⎣10⎦"
      ]
     },
     "metadata": {},
     "output_type": "display_data"
    },
    {
     "data": {
      "text/latex": [
       "$\\displaystyle \\left[\\begin{matrix}9 & 10 & 11 & 12\\end{matrix}\\right]$"
      ],
      "text/plain": [
       "[9  10  11  12]"
      ]
     },
     "metadata": {},
     "output_type": "display_data"
    },
    {
     "data": {
      "text/latex": [
       "$\\displaystyle \\left[\\begin{matrix}1 & 2 & 3 & 4\\\\5 & 6 & 7 & 8\\end{matrix}\\right]$"
      ],
      "text/plain": [
       "⎡1  2  3  4⎤\n",
       "⎢          ⎥\n",
       "⎣5  6  7  8⎦"
      ]
     },
     "metadata": {},
     "output_type": "display_data"
    },
    {
     "data": {
      "text/latex": [
       "$\\displaystyle \\left[\\begin{matrix}\\\\\\\\\\end{matrix}\\right]$"
      ],
      "text/plain": [
       "[]"
      ]
     },
     "metadata": {},
     "output_type": "display_data"
    },
    {
     "data": {
      "text/latex": [
       "$\\displaystyle \\left[\\begin{matrix}\\end{matrix}\\right]$"
      ],
      "text/plain": [
       "[]"
      ]
     },
     "execution_count": 37,
     "metadata": {},
     "output_type": "execute_result"
    }
   ],
   "source": [
    "M = sp.Matrix(3, 4, [ 1,  2,  3,  4,  5,  6,  7,  8,  9, 10, 11, 12])\n",
    "display(M, M[4], M[1,2], M[0:2, 1:4], M[3:3,1], M[:,1], M[2,:],\n",
    "        M[:2,:100], M[:,100:101], sp.Matrix(0,5, [])[:,:])"
   ]
  },
  {
   "cell_type": "code",
   "execution_count": 39,
   "metadata": {},
   "outputs": [
    {
     "data": {
      "text/plain": [
       "False"
      ]
     },
     "execution_count": 39,
     "metadata": {},
     "output_type": "execute_result"
    }
   ],
   "source": [
    "M2 = M[:,:]\n",
    "M2[0,0] = 100\n",
    "M[0,0] == 100 # unchanged"
   ]
  },
  {
   "cell_type": "code",
   "execution_count": 51,
   "metadata": {},
   "outputs": [
    {
     "data": {
      "text/latex": [
       "$\\displaystyle \\left[\\begin{matrix}1 & 2 & 3 & 4\\\\5 & 6 & 7 & 8\\\\9 & 10 & 11 & 12\\\\13 & 14 & 15 & 16\\end{matrix}\\right]$"
      ],
      "text/plain": [
       "⎡1   2   3   4 ⎤\n",
       "⎢              ⎥\n",
       "⎢5   6   7   8 ⎥\n",
       "⎢              ⎥\n",
       "⎢9   10  11  12⎥\n",
       "⎢              ⎥\n",
       "⎣13  14  15  16⎦"
      ]
     },
     "metadata": {},
     "output_type": "display_data"
    },
    {
     "data": {
      "text/latex": [
       "$\\displaystyle \\left[\\begin{matrix}1 & 2 & 3 & 4\\\\5 & 6 & 7 & 8\\\\9 & 10 & 0 & 12\\\\13 & 14 & 15 & 0\\end{matrix}\\right]$"
      ],
      "text/plain": [
       "⎡1   2   3   4 ⎤\n",
       "⎢              ⎥\n",
       "⎢5   6   7   8 ⎥\n",
       "⎢              ⎥\n",
       "⎢9   10  0   12⎥\n",
       "⎢              ⎥\n",
       "⎣13  14  15  0 ⎦"
      ]
     },
     "metadata": {},
     "output_type": "display_data"
    },
    {
     "data": {
      "text/latex": [
       "$\\displaystyle \\left[\\begin{matrix}1 & 2 & 3 & 4\\\\5 & 0 & 0 & 0\\\\9 & 0 & 0 & 0\\\\13 & 0 & 0 & 0\\end{matrix}\\right]$"
      ],
      "text/plain": [
       "⎡1   2  3  4⎤\n",
       "⎢           ⎥\n",
       "⎢5   0  0  0⎥\n",
       "⎢           ⎥\n",
       "⎢9   0  0  0⎥\n",
       "⎢           ⎥\n",
       "⎣13  0  0  0⎦"
      ]
     },
     "metadata": {},
     "output_type": "display_data"
    }
   ],
   "source": [
    "mat = sp.Matrix(np.arange(1,17).reshape(4,4))\n",
    "display(mat)\n",
    "mat[2,2] = mat[3,3] = 0\n",
    "display(mat)\n",
    "mat[1:,1:] = sp.Matrix(3,3, lambda i,j: 0)\n",
    "display(mat)"
   ]
  },
  {
   "cell_type": "markdown",
   "metadata": {},
   "source": [
    "Arithmetic Operations"
   ]
  },
  {
   "cell_type": "code",
   "execution_count": 57,
   "metadata": {},
   "outputs": [
    {
     "data": {
      "text/latex": [
       "$\\displaystyle \\left[\\begin{matrix}0 & 0 & 0\\\\0 & 0 & 0\\\\0 & 0 & 0\\end{matrix}\\right]$"
      ],
      "text/plain": [
       "⎡0  0  0⎤\n",
       "⎢       ⎥\n",
       "⎢0  0  0⎥\n",
       "⎢       ⎥\n",
       "⎣0  0  0⎦"
      ]
     },
     "metadata": {},
     "output_type": "display_data"
    },
    {
     "data": {
      "text/latex": [
       "$\\displaystyle \\left[\\begin{matrix}2 & 4 & 6\\\\8 & 10 & 12\\\\14 & 16 & 18\\end{matrix}\\right]$"
      ],
      "text/plain": [
       "⎡2   4   6 ⎤\n",
       "⎢          ⎥\n",
       "⎢8   10  12⎥\n",
       "⎢          ⎥\n",
       "⎣14  16  18⎦"
      ]
     },
     "metadata": {},
     "output_type": "display_data"
    },
    {
     "data": {
      "text/latex": [
       "$\\displaystyle \\left[\\begin{matrix}30 & 36 & 42\\\\66 & 81 & 96\\\\102 & 126 & 150\\end{matrix}\\right]$"
      ],
      "text/plain": [
       "⎡30   36   42 ⎤\n",
       "⎢             ⎥\n",
       "⎢66   81   96 ⎥\n",
       "⎢             ⎥\n",
       "⎣102  126  150⎦"
      ]
     },
     "metadata": {},
     "output_type": "display_data"
    },
    {
     "data": {
      "text/latex": [
       "$\\displaystyle \\left[\\begin{matrix}11\\\\29\\\\47\\end{matrix}\\right]$"
      ],
      "text/plain": [
       "⎡11⎤\n",
       "⎢  ⎥\n",
       "⎢29⎥\n",
       "⎢  ⎥\n",
       "⎣47⎦"
      ]
     },
     "metadata": {},
     "output_type": "display_data"
    },
    {
     "data": {
      "text/latex": [
       "$\\displaystyle \\left[\\begin{matrix}30 & 36 & 42\\\\66 & 81 & 96\\\\102 & 126 & 150\\end{matrix}\\right]$"
      ],
      "text/plain": [
       "⎡30   36   42 ⎤\n",
       "⎢             ⎥\n",
       "⎢66   81   96 ⎥\n",
       "⎢             ⎥\n",
       "⎣102  126  150⎦"
      ]
     },
     "metadata": {},
     "output_type": "display_data"
    }
   ],
   "source": [
    "M = sp.Matrix(([1,2,3],[4,5,6],[7,8,9]))\n",
    "M2 = sp.Matrix(3,1,[1,5,0])\n",
    "display(M - M, M + M, M*M, M*M2, M**2)"
   ]
  },
  {
   "cell_type": "markdown",
   "metadata": {},
   "source": [
    "Deleting rows and columns using `row_del` and `row_del` respectively"
   ]
  },
  {
   "cell_type": "code",
   "execution_count": 58,
   "metadata": {},
   "outputs": [
    {
     "data": {
      "text/latex": [
       "$\\displaystyle \\left[\\begin{matrix}1 & 2 & 3\\\\4 & 5 & 6\\\\7 & 8 & 9\\end{matrix}\\right]$"
      ],
      "text/plain": [
       "⎡1  2  3⎤\n",
       "⎢       ⎥\n",
       "⎢4  5  6⎥\n",
       "⎢       ⎥\n",
       "⎣7  8  9⎦"
      ]
     },
     "metadata": {},
     "output_type": "display_data"
    },
    {
     "data": {
      "text/latex": [
       "$\\displaystyle \\left[\\begin{matrix}4 & 5 & 6\\\\7 & 8 & 9\\end{matrix}\\right]$"
      ],
      "text/plain": [
       "⎡4  5  6⎤\n",
       "⎢       ⎥\n",
       "⎣7  8  9⎦"
      ]
     },
     "metadata": {},
     "output_type": "display_data"
    },
    {
     "data": {
      "text/latex": [
       "$\\displaystyle \\left[\\begin{matrix}4 & 5 & 6\\end{matrix}\\right]$"
      ],
      "text/plain": [
       "[4  5  6]"
      ]
     },
     "metadata": {},
     "output_type": "display_data"
    }
   ],
   "source": [
    "M = sp.Matrix(([1,2,3],[4,5,6],[7,8,9]))\n",
    "display(M)\n",
    "M.row_del(0)\n",
    "display(M)\n",
    "M.row_del(1)\n",
    "display(M)"
   ]
  },
  {
   "cell_type": "markdown",
   "metadata": {},
   "source": [
    "Vector operations"
   ]
  },
  {
   "cell_type": "code",
   "execution_count": 55,
   "metadata": {},
   "outputs": [
    {
     "data": {
      "text/latex": [
       "$\\displaystyle \\left[\\begin{matrix}1\\\\2\\\\3\\end{matrix}\\right]$"
      ],
      "text/plain": [
       "⎡1⎤\n",
       "⎢ ⎥\n",
       "⎢2⎥\n",
       "⎢ ⎥\n",
       "⎣3⎦"
      ]
     },
     "metadata": {},
     "output_type": "display_data"
    },
    {
     "data": {
      "text/latex": [
       "$\\displaystyle \\left[\\begin{matrix}4\\\\5\\\\6\\end{matrix}\\right]$"
      ],
      "text/plain": [
       "⎡4⎤\n",
       "⎢ ⎥\n",
       "⎢5⎥\n",
       "⎢ ⎥\n",
       "⎣6⎦"
      ]
     },
     "metadata": {},
     "output_type": "display_data"
    },
    {
     "data": {
      "text/latex": [
       "$\\displaystyle \\left[\\begin{matrix}-3\\\\6\\\\-3\\end{matrix}\\right]$"
      ],
      "text/plain": [
       "⎡-3⎤\n",
       "⎢  ⎥\n",
       "⎢6 ⎥\n",
       "⎢  ⎥\n",
       "⎣-3⎦"
      ]
     },
     "metadata": {},
     "output_type": "display_data"
    }
   ],
   "source": [
    "v1 = sp.Matrix([1,2,3])\n",
    "v2 = sp.Matrix([4,5,6])\n",
    "v3 = v1.cross(v2)\n",
    "display(v1, v2, v3)"
   ]
  },
  {
   "cell_type": "markdown",
   "metadata": {},
   "source": [
    "Join Matrices"
   ]
  },
  {
   "cell_type": "code",
   "execution_count": 61,
   "metadata": {},
   "outputs": [
    {
     "data": {
      "text/latex": [
       "$\\displaystyle \\left[\\begin{matrix}1 & 1 & 1\\\\1 & 1 & 1\\\\1 & 1 & 1\\end{matrix}\\right]$"
      ],
      "text/plain": [
       "⎡1  1  1⎤\n",
       "⎢       ⎥\n",
       "⎢1  1  1⎥\n",
       "⎢       ⎥\n",
       "⎣1  1  1⎦"
      ]
     },
     "metadata": {},
     "output_type": "display_data"
    },
    {
     "data": {
      "text/latex": [
       "$\\displaystyle \\left[\\begin{matrix}0 & 0 & 0 & 0\\\\0 & 0 & 0 & 0\\\\0 & 0 & 0 & 0\\end{matrix}\\right]$"
      ],
      "text/plain": [
       "⎡0  0  0  0⎤\n",
       "⎢          ⎥\n",
       "⎢0  0  0  0⎥\n",
       "⎢          ⎥\n",
       "⎣0  0  0  0⎦"
      ]
     },
     "metadata": {},
     "output_type": "display_data"
    },
    {
     "data": {
      "text/latex": [
       "$\\displaystyle \\left[\\begin{matrix}1 & 1 & 1 & 0 & 0 & 0 & 0\\\\1 & 1 & 1 & 0 & 0 & 0 & 0\\\\1 & 1 & 1 & 0 & 0 & 0 & 0\\end{matrix}\\right]$"
      ],
      "text/plain": [
       "⎡1  1  1  0  0  0  0⎤\n",
       "⎢                   ⎥\n",
       "⎢1  1  1  0  0  0  0⎥\n",
       "⎢                   ⎥\n",
       "⎣1  1  1  0  0  0  0⎦"
      ]
     },
     "metadata": {},
     "output_type": "display_data"
    },
    {
     "data": {
      "text/latex": [
       "$\\displaystyle \\left[\\begin{matrix}1 & 1 & 1\\\\1 & 1 & 1\\\\1 & 1 & 1\\\\0 & 0 & 0\\\\0 & 0 & 0\\\\0 & 0 & 0\\\\0 & 0 & 0\\end{matrix}\\right]$"
      ],
      "text/plain": [
       "⎡1  1  1⎤\n",
       "⎢       ⎥\n",
       "⎢1  1  1⎥\n",
       "⎢       ⎥\n",
       "⎢1  1  1⎥\n",
       "⎢       ⎥\n",
       "⎢0  0  0⎥\n",
       "⎢       ⎥\n",
       "⎢0  0  0⎥\n",
       "⎢       ⎥\n",
       "⎢0  0  0⎥\n",
       "⎢       ⎥\n",
       "⎣0  0  0⎦"
      ]
     },
     "execution_count": 61,
     "metadata": {},
     "output_type": "execute_result"
    }
   ],
   "source": [
    "M1 = sp.ones(3)\n",
    "M2 = sp.zeros(3,4)\n",
    "M3 = M1.row_join(M2)\n",
    "display(M1, M2, M3)\n",
    "M4 = sp.zeros(4,3)\n",
    "M1.col_join(M4)"
   ]
  },
  {
   "cell_type": "markdown",
   "metadata": {},
   "source": [
    "## [Operations on entries](https://docs.sympy.org/latest/modules/matrices/matrices.html#operations-on-entries)"
   ]
  },
  {
   "cell_type": "markdown",
   "metadata": {},
   "source": [
    "**`applyfunc`**"
   ]
  },
  {
   "cell_type": "code",
   "execution_count": 64,
   "metadata": {},
   "outputs": [
    {
     "data": {
      "text/latex": [
       "$\\displaystyle \\left[\\begin{matrix}5 & 0 & 0\\\\0 & 5 & 0\\\\0 & 0 & 5\\end{matrix}\\right]$"
      ],
      "text/plain": [
       "⎡5  0  0⎤\n",
       "⎢       ⎥\n",
       "⎢0  5  0⎥\n",
       "⎢       ⎥\n",
       "⎣0  0  5⎦"
      ]
     },
     "metadata": {},
     "output_type": "display_data"
    }
   ],
   "source": [
    "matfn1 = lambda x: 5*x\n",
    "display(sp.eye(3).applyfunc(matfn1))"
   ]
  },
  {
   "cell_type": "code",
   "execution_count": 77,
   "metadata": {},
   "outputs": [
    {
     "data": {
      "text/latex": [
       "$\\displaystyle \\left[\\begin{matrix}x & y\\\\1 & x y\\end{matrix}\\right]$"
      ],
      "text/plain": [
       "⎡x   y ⎤\n",
       "⎢      ⎥\n",
       "⎣1  x⋅y⎦"
      ]
     },
     "metadata": {},
     "output_type": "display_data"
    },
    {
     "data": {
      "text/latex": [
       "$\\displaystyle \\left[\\begin{matrix}\\frac{x}{x^{2} - 1} & \\frac{y}{- x^{2} y + y}\\\\\\frac{1}{- x^{2} y + y} & - \\frac{x}{- x^{2} y + y}\\end{matrix}\\right]$"
      ],
      "text/plain": [
       "⎡    x           y     ⎤\n",
       "⎢  ──────    ──────────⎥\n",
       "⎢   2           2      ⎥\n",
       "⎢  x  - 1    - x ⋅y + y⎥\n",
       "⎢                      ⎥\n",
       "⎢    1          -x     ⎥\n",
       "⎢──────────  ──────────⎥\n",
       "⎢   2           2      ⎥\n",
       "⎣- x ⋅y + y  - x ⋅y + y⎦"
      ]
     },
     "metadata": {},
     "output_type": "display_data"
    },
    {
     "data": {
      "text/latex": [
       "$\\displaystyle \\left[\\begin{matrix}\\frac{x y}{x^{2} y - y} & - \\frac{y}{x^{2} y - y}\\\\- \\frac{1}{x^{2} y - y} & \\frac{x}{x^{2} y - y}\\end{matrix}\\right]$"
      ],
      "text/plain": [
       "⎡  x⋅y       -y    ⎤\n",
       "⎢────────  ────────⎥\n",
       "⎢ 2         2      ⎥\n",
       "⎢x ⋅y - y  x ⋅y - y⎥\n",
       "⎢                  ⎥\n",
       "⎢  -1         x    ⎥\n",
       "⎢────────  ────────⎥\n",
       "⎢ 2         2      ⎥\n",
       "⎣x ⋅y - y  x ⋅y - y⎦"
      ]
     },
     "metadata": {},
     "output_type": "display_data"
    },
    {
     "data": {
      "image/png": "[encoded data removed]",
      "text/latex": [
       "$\\displaystyle 0$"
      ],
      "text/plain": [
       "0"
      ]
     },
     "execution_count": 77,
     "metadata": {},
     "output_type": "execute_result"
    }
   ],
   "source": [
    "x, y = sp.symbols('x y')\n",
    "\n",
    "Mxy = sp.Matrix([[x,y],[1,x*y]])\n",
    "m = Mxy.inv('ADJ')\n",
    "display(Mxy, Mxy.inv(), m)\n",
    "# sp.gcd(tuple())\n",
    "# not working"
   ]
  },
  {
   "cell_type": "code",
   "execution_count": 78,
   "metadata": {},
   "outputs": [
    {
     "data": {
      "text/latex": [
       "$\\displaystyle \\left[\\begin{matrix}x & 0 & 0\\\\0 & x & 0\\\\0 & 0 & x\\end{matrix}\\right]$"
      ],
      "text/plain": [
       "⎡x  0  0⎤\n",
       "⎢       ⎥\n",
       "⎢0  x  0⎥\n",
       "⎢       ⎥\n",
       "⎣0  0  x⎦"
      ]
     },
     "metadata": {},
     "output_type": "display_data"
    },
    {
     "data": {
      "text/latex": [
       "$\\displaystyle \\left[\\begin{matrix}4 & 0 & 0\\\\0 & 4 & 0\\\\0 & 0 & 4\\end{matrix}\\right]$"
      ],
      "text/plain": [
       "⎡4  0  0⎤\n",
       "⎢       ⎥\n",
       "⎢0  4  0⎥\n",
       "⎢       ⎥\n",
       "⎣0  0  4⎦"
      ]
     },
     "metadata": {},
     "output_type": "display_data"
    },
    {
     "data": {
      "text/latex": [
       "$\\displaystyle \\left[\\begin{matrix}y & 0 & 0\\\\0 & y & 0\\\\0 & 0 & y\\end{matrix}\\right]$"
      ],
      "text/plain": [
       "⎡y  0  0⎤\n",
       "⎢       ⎥\n",
       "⎢0  y  0⎥\n",
       "⎢       ⎥\n",
       "⎣0  0  y⎦"
      ]
     },
     "metadata": {},
     "output_type": "display_data"
    }
   ],
   "source": [
    "m3 = sp.eye(3)*x\n",
    "display(m3, m3.subs(x,4), m3.subs(x,y))"
   ]
  },
  {
   "cell_type": "markdown",
   "metadata": {},
   "source": [
    "## [Linear algebra](https://docs.sympy.org/latest/modules/matrices/matrices.html#linear-algebra)"
   ]
  },
  {
   "cell_type": "code",
   "execution_count": 93,
   "metadata": {},
   "outputs": [
    {
     "data": {
      "text/latex": [
       "$\\displaystyle \\left[\\begin{matrix}1 & 2 & 3\\\\3 & 6 & 2\\\\2 & 0 & 1\\end{matrix}\\right]$"
      ],
      "text/plain": [
       "⎡1  2  3⎤\n",
       "⎢       ⎥\n",
       "⎢3  6  2⎥\n",
       "⎢       ⎥\n",
       "⎣2  0  1⎦"
      ]
     },
     "metadata": {},
     "output_type": "display_data"
    },
    {
     "data": {
      "image/png": "[encoded data removed]",
      "text/latex": [
       "$\\displaystyle -28$"
      ],
      "text/plain": [
       "-28"
      ]
     },
     "metadata": {},
     "output_type": "display_data"
    },
    {
     "data": {
      "text/latex": [
       "$\\displaystyle \\left[\\begin{matrix}- \\frac{3}{14} & \\frac{1}{14} & \\frac{1}{2}\\\\- \\frac{1}{28} & \\frac{5}{28} & - \\frac{1}{4}\\\\\\frac{3}{7} & - \\frac{1}{7} & 0\\end{matrix}\\right]$"
      ],
      "text/plain": [
       "⎡-3/14  1/14  1/2 ⎤\n",
       "⎢                 ⎥\n",
       "⎢-1/28  5/28  -1/4⎥\n",
       "⎢                 ⎥\n",
       "⎣ 3/7   -1/7   0  ⎦"
      ]
     },
     "metadata": {},
     "output_type": "display_data"
    },
    {
     "data": {
      "text/latex": [
       "$\\displaystyle \\left[\\begin{matrix}- \\frac{3}{14} & \\frac{1}{14} & \\frac{1}{2}\\\\- \\frac{1}{28} & \\frac{5}{28} & - \\frac{1}{4}\\\\\\frac{3}{7} & - \\frac{1}{7} & 0\\end{matrix}\\right]$"
      ],
      "text/plain": [
       "⎡-3/14  1/14  1/2 ⎤\n",
       "⎢                 ⎥\n",
       "⎢-1/28  5/28  -1/4⎥\n",
       "⎢                 ⎥\n",
       "⎣ 3/7   -1/7   0  ⎦"
      ]
     },
     "metadata": {},
     "output_type": "display_data"
    },
    {
     "data": {
      "text/latex": [
       "$\\displaystyle \\left[\\begin{matrix}- \\frac{3}{14} & \\frac{1}{14} & \\frac{1}{2}\\\\- \\frac{1}{28} & \\frac{5}{28} & - \\frac{1}{4}\\\\\\frac{3}{7} & - \\frac{1}{7} & 0\\end{matrix}\\right]$"
      ],
      "text/plain": [
       "⎡-3/14  1/14  1/2 ⎤\n",
       "⎢                 ⎥\n",
       "⎢-1/28  5/28  -1/4⎥\n",
       "⎢                 ⎥\n",
       "⎣ 3/7   -1/7   0  ⎦"
      ]
     },
     "metadata": {},
     "output_type": "display_data"
    }
   ],
   "source": [
    "M2 = sp.Matrix(([1, 2, 3], [3, 6, 2], [2, 0, 1]))\n",
    "display(M2, M2.det(), M2.inv(), # default method is Gaussian Elimination\n",
    "        M2.inv(method='ADJ'), M2.inv(method='LU'))\n"
   ]
  },
  {
   "cell_type": "code",
   "execution_count": null,
   "metadata": {},
   "outputs": [],
   "source": [
    "# continue"
   ]
  },
  {
   "cell_type": "code",
   "execution_count": null,
   "metadata": {},
   "outputs": [],
   "source": []
  },
  {
   "cell_type": "code",
   "execution_count": null,
   "metadata": {},
   "outputs": [],
   "source": []
  },
  {
   "cell_type": "code",
   "execution_count": null,
   "metadata": {},
   "outputs": [],
   "source": []
  },
  {
   "cell_type": "code",
   "execution_count": null,
   "metadata": {},
   "outputs": [],
   "source": []
  },
  {
   "cell_type": "code",
   "execution_count": null,
   "metadata": {},
   "outputs": [],
   "source": []
  }
 ],
 "metadata": {
  "kernelspec": {
   "display_name": "Python 3",
   "language": "python",
   "name": "python3"
  },
  "language_info": {
   "codemirror_mode": {
    "name": "ipython",
    "version": 3
   },
   "file_extension": ".py",
   "mimetype": "text/x-python",
   "name": "python",
   "nbconvert_exporter": "python",
   "pygments_lexer": "ipython3",
   "version": "3.11.1"
  }
 },
 "nbformat": 4,
 "nbformat_minor": 2
}
