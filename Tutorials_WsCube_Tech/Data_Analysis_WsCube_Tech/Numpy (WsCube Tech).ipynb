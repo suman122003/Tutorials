{
 "cells": [
  {
   "cell_type": "markdown",
   "metadata": {},
   "source": [
    "# NumPy (WsCube Tech)\n",
    "Video Link: https://youtu.be/-TYSM0CDA4c"
   ]
  },
  {
   "cell_type": "markdown",
   "metadata": {},
   "source": [
    "Numpy is the fundamental package for scientific computing in python. It's a python library that provides multidimensional array object and various derived objects.\n",
    "\n",
    "An array is a grid of values and it contains information about the raw data, how to locate an element and how to interpret an element."
   ]
  },
  {
   "cell_type": "markdown",
   "metadata": {},
   "source": [
    "Numpy array vs python list:\n",
    "1. Data types storage.\n",
    "2. Importing module.\n",
    "3. Numerical operation.\n",
    "4. Modification capabilities.\n",
    "5. Consumption of memory.\n",
    "6. Speed."
   ]
  },
  {
   "cell_type": "markdown",
   "metadata": {},
   "source": [
    "**Importance of numpy:** \n",
    "It supplies an enormous libray of high level mathematical functions that operate on these arrays and matrices. Mathematical, logical, shape manipulation, sorting, I/O, discrete Fourier transforms, basic linear algebra, basec statistical operations, random simulation and much more things can be done in numpy."
   ]
  },
  {
   "cell_type": "code",
   "execution_count": 1,
   "metadata": {},
   "outputs": [],
   "source": [
    "import numpy as np"
   ]
  },
  {
   "cell_type": "raw",
   "metadata": {},
   "source": [
    "%timeit [i**4 for i in range(2,10)]"
   ]
  },
  {
   "cell_type": "raw",
   "metadata": {},
   "source": [
    "%timeit np.arange(2, 10)**4"
   ]
  },
  {
   "cell_type": "code",
   "execution_count": 2,
   "metadata": {},
   "outputs": [
    {
     "data": {
      "text/plain": [
       "'list1'"
      ]
     },
     "metadata": {},
     "output_type": "display_data"
    },
    {
     "data": {
      "text/plain": [
       "[4, 8, 3, 9, 5, 0]"
      ]
     },
     "metadata": {},
     "output_type": "display_data"
    },
    {
     "data": {
      "text/plain": [
       "list"
      ]
     },
     "metadata": {},
     "output_type": "display_data"
    },
    {
     "data": {
      "text/plain": [
       "'ar1'"
      ]
     },
     "metadata": {},
     "output_type": "display_data"
    },
    {
     "data": {
      "text/plain": [
       "array([4, 8, 3, 9, 5, 0])"
      ]
     },
     "metadata": {},
     "output_type": "display_data"
    },
    {
     "data": {
      "text/plain": [
       "numpy.ndarray"
      ]
     },
     "metadata": {},
     "output_type": "display_data"
    },
    {
     "data": {
      "text/plain": [
       "1"
      ]
     },
     "metadata": {},
     "output_type": "display_data"
    }
   ],
   "source": [
    "list1 = [4,8,3,9,5,0]\n",
    "ar1 = np.array(list1)\n",
    "display('list1', list1, type(list1), 'ar1', ar1, type(ar1), ar1.ndim)"
   ]
  },
  {
   "cell_type": "raw",
   "metadata": {},
   "source": [
    "list2 = []\n",
    "for i in range(3):\n",
    "    inp1 = eval(input('give a number for array '))\n",
    "    list2.append(inp1)\n",
    "ar2 = np.array(list2)\n",
    "display('list2', list2, 'ar2', ar2)"
   ]
  },
  {
   "cell_type": "code",
   "execution_count": 3,
   "metadata": {},
   "outputs": [
    {
     "data": {
      "text/plain": [
       "'ar3'"
      ]
     },
     "metadata": {},
     "output_type": "display_data"
    },
    {
     "data": {
      "text/plain": [
       "array([[3, 8, 2, 1],\n",
       "       [1, 4, 7, 3]])"
      ]
     },
     "metadata": {},
     "output_type": "display_data"
    },
    {
     "data": {
      "text/plain": [
       "2"
      ]
     },
     "metadata": {},
     "output_type": "display_data"
    }
   ],
   "source": [
    "ar3 = np.array([[3,8,2,1],[1,4,7,3]])\n",
    "display('ar3', ar3, ar3.ndim)"
   ]
  },
  {
   "cell_type": "code",
   "execution_count": 4,
   "metadata": {},
   "outputs": [
    {
     "data": {
      "text/plain": [
       "'ar4'"
      ]
     },
     "metadata": {},
     "output_type": "display_data"
    },
    {
     "data": {
      "text/plain": [
       "array([[[[[4.2, 7. , 3. , 5. , 0. ]]]]])"
      ]
     },
     "metadata": {},
     "output_type": "display_data"
    }
   ],
   "source": [
    "ar4 = np.array([4.2,7,3,5,0], ndmin=5)\n",
    "display('ar4', ar4)"
   ]
  },
  {
   "cell_type": "markdown",
   "metadata": {},
   "source": [
    "### Special numpy arrays"
   ]
  },
  {
   "cell_type": "code",
   "execution_count": 5,
   "metadata": {},
   "outputs": [
    {
     "data": {
      "text/plain": [
       "\"zeros - Filled with 0's\""
      ]
     },
     "metadata": {},
     "output_type": "display_data"
    },
    {
     "data": {
      "text/plain": [
       "array([0., 0., 0., 0., 0.])"
      ]
     },
     "metadata": {},
     "output_type": "display_data"
    },
    {
     "data": {
      "text/plain": [
       "'arz1'"
      ]
     },
     "metadata": {},
     "output_type": "display_data"
    },
    {
     "data": {
      "text/plain": [
       "array([[0., 0.],\n",
       "       [0., 0.],\n",
       "       [0., 0.],\n",
       "       [0., 0.]])"
      ]
     },
     "metadata": {},
     "output_type": "display_data"
    },
    {
     "data": {
      "text/plain": [
       "\"ones - Filled with 1's\""
      ]
     },
     "metadata": {},
     "output_type": "display_data"
    },
    {
     "data": {
      "text/plain": [
       "array([1., 1., 1., 1.])"
      ]
     },
     "metadata": {},
     "output_type": "display_data"
    },
    {
     "data": {
      "text/plain": [
       "'empty - Empty array'"
      ]
     },
     "metadata": {},
     "output_type": "display_data"
    },
    {
     "data": {
      "text/plain": [
       "array([1., 1., 1., 1.])"
      ]
     },
     "metadata": {},
     "output_type": "display_data"
    },
    {
     "data": {
      "text/plain": [
       "'arange - Array with a range of elements'"
      ]
     },
     "metadata": {},
     "output_type": "display_data"
    },
    {
     "data": {
      "text/plain": [
       "array([ 2,  7, 12, 17, 22, 27, 32, 37])"
      ]
     },
     "metadata": {},
     "output_type": "display_data"
    },
    {
     "data": {
      "text/plain": [
       "\"eye - Diagonal with 1's\""
      ]
     },
     "metadata": {},
     "output_type": "display_data"
    },
    {
     "data": {
      "text/plain": [
       "array([[1., 0., 0., 0.],\n",
       "       [0., 1., 0., 0.],\n",
       "       [0., 0., 1., 0.],\n",
       "       [0., 0., 0., 1.]])"
      ]
     },
     "metadata": {},
     "output_type": "display_data"
    },
    {
     "data": {
      "text/plain": [
       "array([[1., 0., 0.],\n",
       "       [0., 1., 0.],\n",
       "       [0., 0., 1.],\n",
       "       [0., 0., 0.]])"
      ]
     },
     "metadata": {},
     "output_type": "display_data"
    },
    {
     "data": {
      "text/plain": [
       "'linspace - Values are spaced linearly in a specified interval'"
      ]
     },
     "metadata": {},
     "output_type": "display_data"
    },
    {
     "data": {
      "text/plain": [
       "array([ 2.,  4.,  6.,  8., 10., 12., 14., 16., 18., 20.])"
      ]
     },
     "metadata": {},
     "output_type": "display_data"
    }
   ],
   "source": [
    "arz = np.zeros(5)\n",
    "display('zeros - Filled with 0\\'s', arz)\n",
    "arz1 = np.zeros((4,2))\n",
    "display('arz1', arz1)\n",
    "aro = np.ones(4)\n",
    "display('ones - Filled with 1\\'s', aro)\n",
    "are = np.empty(4)\n",
    "display('empty - Empty array', are) # previous memory\n",
    "arr = np.arange(2, 40, 5)\n",
    "display('arange - Array with a range of elements', arr)\n",
    "ard = np.eye(4)\n",
    "display('eye - Diagonal with 1\\'s', ard)\n",
    "ard1 = np.eye(4,3)\n",
    "display(ard1)\n",
    "arl = np.linspace(2, 20, 10)\n",
    "display('linspace - Values are spaced linearly in a specified interval', arl)"
   ]
  },
  {
   "cell_type": "markdown",
   "metadata": {},
   "source": [
    "### Creating numpy arrays with random numbers"
   ]
  },
  {
   "cell_type": "code",
   "execution_count": 6,
   "metadata": {},
   "outputs": [
    {
     "data": {
      "text/plain": [
       "'rand - random values between 0 and 1'"
      ]
     },
     "metadata": {},
     "output_type": "display_data"
    },
    {
     "data": {
      "text/plain": [
       "array([0.31186014, 0.33802203, 0.828949  , 0.81360985, 0.62888137])"
      ]
     },
     "metadata": {},
     "output_type": "display_data"
    },
    {
     "data": {
      "text/plain": [
       "array([[0.63679552, 0.96859946, 0.95425968],\n",
       "       [0.31665276, 0.22442158, 0.03475245]])"
      ]
     },
     "metadata": {},
     "output_type": "display_data"
    },
    {
     "data": {
      "text/plain": [
       "'randn - random values close to 0 (+ or -)'"
      ]
     },
     "metadata": {},
     "output_type": "display_data"
    },
    {
     "data": {
      "text/plain": [
       "array([ 0.96000128,  0.02140321, -0.60684632,  0.24173564,  0.85415802,\n",
       "       -0.6961203 ])"
      ]
     },
     "metadata": {},
     "output_type": "display_data"
    },
    {
     "data": {
      "text/plain": [
       "'ranf - random float values in [0.0, 1.0)'"
      ]
     },
     "metadata": {},
     "output_type": "display_data"
    },
    {
     "data": {
      "text/plain": [
       "array([0.92000359, 0.67619109, 0.68991571, 0.28240819])"
      ]
     },
     "metadata": {},
     "output_type": "display_data"
    },
    {
     "data": {
      "text/plain": [
       "'randint - random integer values in a range'"
      ]
     },
     "metadata": {},
     "output_type": "display_data"
    },
    {
     "data": {
      "text/plain": [
       "array([14,  7, 12, 14, 13])"
      ]
     },
     "metadata": {},
     "output_type": "display_data"
    }
   ],
   "source": [
    "arrand = np.random.rand(5)\n",
    "display('rand - random values between 0 and 1', arrand)\n",
    "arrand1 = np.random.rand(2,3)\n",
    "display(arrand1)\n",
    "arrandn = np.random.randn(6)\n",
    "display('randn - random values close to 0 (+ or -)', arrandn)\n",
    "arranf = np.random.ranf(4)\n",
    "display('ranf - random float values in [0.0, 1.0)', arranf)\n",
    "arrandi = np.random.randint(5, 15, 5)\n",
    "display('randint - random integer values in a range', arrandi)"
   ]
  },
  {
   "cell_type": "markdown",
   "metadata": {},
   "source": [
    "## Data types of numpy array\n",
    "1. **`bool_`**: boolean logics (True or False) stored as byte\n",
    "2. **`int_`**: default integer type (same as C long, normally either int64 or int32)\n",
    "3. **`Intc`**: identical to C int (normally int32 or int64)\n",
    "4. **`Intp`**: integer used for indexing (same as C ssize_t, normally either int32 or int64)\n",
    "5. **`int8`**: byte (-2^7 to 2^7-1)\n",
    "6. **`int16`**: integer ($-2^{15}$ to $2^{15}-1$)\n",
    "7. **`int32`**: integer ($-2^{31}$ to $2^{31}-1$)\n",
    "8. **`int64`**: integer ($-2^{63}$ to $2^{63}-1$)\n",
    "9. **`unit8`**: unsigned integer (0 to 255)\n",
    "10. **`unit16`**: unsigned integer (0 to 65535)\n",
    "11. **`unit32`**: unsigned integer (0 to 4294967295)\n",
    "12. **`unit64`**: unsigned integer (0 to 184446744073709551615)\n",
    "13. **`float_`**: shorthand for float64\n",
    "14. **`float16`**: half precision float: sign bit, 5 bits exponent, 10 bits mantissa\n",
    "15. **`float32`**: single precision float\n",
    "16. **`float64`**: double precision float\n",
    "17. **`complex_`**: shorthand for complex128\n",
    "18. **`complex64`**: complex number, represented by two 32 bit floats (real and imaginary components)\n",
    "19. **`complex128`**: complex number, represented by two 64 bit floats (real and imaginary components)"
   ]
  },
  {
   "cell_type": "markdown",
   "metadata": {},
   "source": [
    "### dtypes as function\n",
    "1. **`i`** - integer\n",
    "2. **`b`** - boolean\n",
    "3. **`u`** - unsigned integer\n",
    "4. **`f`** - float\n",
    "5. **`c`** - complex float\n",
    "6. **`m`** - timedelta\n",
    "7. **`M`** - datetime\n",
    "8. **`O`** - object\n",
    "9. **`S`** - string\n",
    "10. **`U`** - unicode string\n",
    "11. **`V`** - the fixed chunk of memory for other types (void)"
   ]
  },
  {
   "cell_type": "code",
   "execution_count": 7,
   "metadata": {},
   "outputs": [
    {
     "data": {
      "text/plain": [
       "'ar5'"
      ]
     },
     "metadata": {},
     "output_type": "display_data"
    },
    {
     "data": {
      "text/plain": [
       "array([0, 1, 2, 3, 4, 5, 6, 7, 8, 9])"
      ]
     },
     "metadata": {},
     "output_type": "display_data"
    },
    {
     "data": {
      "text/plain": [
       "dtype('int32')"
      ]
     },
     "metadata": {},
     "output_type": "display_data"
    },
    {
     "data": {
      "text/plain": [
       "'ar6'"
      ]
     },
     "metadata": {},
     "output_type": "display_data"
    },
    {
     "data": {
      "text/plain": [
       "array([0.        , 0.55555556, 1.11111111, 1.66666667, 2.22222222,\n",
       "       2.77777778, 3.33333333, 3.88888889, 4.44444444, 5.        ])"
      ]
     },
     "metadata": {},
     "output_type": "display_data"
    },
    {
     "data": {
      "text/plain": [
       "dtype('float64')"
      ]
     },
     "metadata": {},
     "output_type": "display_data"
    },
    {
     "data": {
      "text/plain": [
       "'ar7'"
      ]
     },
     "metadata": {},
     "output_type": "display_data"
    },
    {
     "data": {
      "text/plain": [
       "array(['a', 'b', 'c', 'd'], dtype='<U1')"
      ]
     },
     "metadata": {},
     "output_type": "display_data"
    },
    {
     "data": {
      "text/plain": [
       "dtype('<U1')"
      ]
     },
     "metadata": {},
     "output_type": "display_data"
    }
   ],
   "source": [
    "ar5 = np.arange(10)\n",
    "display('ar5', ar5, ar5.dtype)\n",
    "ar6 = np.linspace(0,5,10)\n",
    "display('ar6', ar6, ar6.dtype)\n",
    "ar7 = np.array(['a','b','c','d'])\n",
    "display('ar7', ar7, ar7.dtype)"
   ]
  },
  {
   "cell_type": "code",
   "execution_count": 8,
   "metadata": {},
   "outputs": [
    {
     "data": {
      "text/plain": [
       "'ar8'"
      ]
     },
     "metadata": {},
     "output_type": "display_data"
    },
    {
     "data": {
      "text/plain": [
       "array([8, 3, 5, 4, 1])"
      ]
     },
     "metadata": {},
     "output_type": "display_data"
    },
    {
     "data": {
      "text/plain": [
       "dtype('int32')"
      ]
     },
     "metadata": {},
     "output_type": "display_data"
    },
    {
     "data": {
      "text/plain": [
       "'ar8a'"
      ]
     },
     "metadata": {},
     "output_type": "display_data"
    },
    {
     "data": {
      "text/plain": [
       "array([8, 3, 5, 4, 1], dtype=int8)"
      ]
     },
     "metadata": {},
     "output_type": "display_data"
    },
    {
     "data": {
      "text/plain": [
       "dtype('int8')"
      ]
     },
     "metadata": {},
     "output_type": "display_data"
    },
    {
     "data": {
      "text/plain": [
       "'ar8b'"
      ]
     },
     "metadata": {},
     "output_type": "display_data"
    },
    {
     "data": {
      "text/plain": [
       "array([8., 3., 5., 4., 1.], dtype=float32)"
      ]
     },
     "metadata": {},
     "output_type": "display_data"
    },
    {
     "data": {
      "text/plain": [
       "dtype('float32')"
      ]
     },
     "metadata": {},
     "output_type": "display_data"
    },
    {
     "data": {
      "text/plain": [
       "'ar8c'"
      ]
     },
     "metadata": {},
     "output_type": "display_data"
    },
    {
     "data": {
      "text/plain": [
       "array([8., 3., 5., 4., 1.], dtype=float16)"
      ]
     },
     "metadata": {},
     "output_type": "display_data"
    },
    {
     "data": {
      "text/plain": [
       "dtype('float16')"
      ]
     },
     "metadata": {},
     "output_type": "display_data"
    },
    {
     "data": {
      "text/plain": [
       "'ar8d'"
      ]
     },
     "metadata": {},
     "output_type": "display_data"
    },
    {
     "data": {
      "text/plain": [
       "array([8.+0.j, 3.+0.j, 5.+0.j, 4.+0.j, 1.+0.j])"
      ]
     },
     "metadata": {},
     "output_type": "display_data"
    },
    {
     "data": {
      "text/plain": [
       "dtype('complex128')"
      ]
     },
     "metadata": {},
     "output_type": "display_data"
    },
    {
     "data": {
      "text/plain": [
       "'ar8e'"
      ]
     },
     "metadata": {},
     "output_type": "display_data"
    },
    {
     "data": {
      "text/plain": [
       "array([8., 3., 5., 4., 1.])"
      ]
     },
     "metadata": {},
     "output_type": "display_data"
    },
    {
     "data": {
      "text/plain": [
       "dtype('float64')"
      ]
     },
     "metadata": {},
     "output_type": "display_data"
    }
   ],
   "source": [
    "list2 = [8,3,5,4,1]\n",
    "ar8 = np.array(list2)\n",
    "display('ar8', ar8, ar8.dtype)\n",
    "ar8a = np.array(list2, dtype = np.int8)\n",
    "display('ar8a', ar8a, ar8a.dtype)\n",
    "ar8b = np.array(list2, dtype='f')\n",
    "display('ar8b', ar8b, ar8b.dtype)\n",
    "ar8c = np.float16(ar8)\n",
    "display('ar8c', ar8c, ar8c.dtype)\n",
    "ar8d = np.complex_(ar8)\n",
    "display('ar8d', ar8d, ar8d.dtype)\n",
    "ar8e = ar8.astype(float)\n",
    "display('ar8e', ar8e, ar8e.dtype)"
   ]
  },
  {
   "cell_type": "markdown",
   "metadata": {},
   "source": [
    "## Axes in numpy arrays\n",
    "For 2d arrays,\n",
    "1. **`axis=0`**: It goes along one particular column and covers all the rows. (*vertical axis*)\n",
    "2. **`axis=1`**: It goes along one particular row and covers all the columns. (*horizontal axis*)\n",
    "\n",
    "For 3d arrays we will get axis=0 (vertical), axis=1 (horizontal) and axis=2 (inside)."
   ]
  },
  {
   "cell_type": "markdown",
   "metadata": {},
   "source": [
    "## Operations on NumPy Arrays"
   ]
  },
  {
   "cell_type": "markdown",
   "metadata": {},
   "source": [
    "### `shape`"
   ]
  },
  {
   "cell_type": "code",
   "execution_count": 9,
   "metadata": {},
   "outputs": [
    {
     "data": {
      "text/plain": [
       "'ar1d'"
      ]
     },
     "metadata": {},
     "output_type": "display_data"
    },
    {
     "data": {
      "text/plain": [
       "array([12. ,  8. ,  3. ,  7.1,  5.2])"
      ]
     },
     "metadata": {},
     "output_type": "display_data"
    },
    {
     "data": {
      "text/plain": [
       "1"
      ]
     },
     "metadata": {},
     "output_type": "display_data"
    },
    {
     "data": {
      "text/plain": [
       "(5,)"
      ]
     },
     "metadata": {},
     "output_type": "display_data"
    },
    {
     "data": {
      "text/plain": [
       "'ar2d'"
      ]
     },
     "metadata": {},
     "output_type": "display_data"
    },
    {
     "data": {
      "text/plain": [
       "array([[7. , 3. , 8. , 1. ],\n",
       "       [0.2, 4. , 3. , 9. ]])"
      ]
     },
     "metadata": {},
     "output_type": "display_data"
    },
    {
     "data": {
      "text/plain": [
       "2"
      ]
     },
     "metadata": {},
     "output_type": "display_data"
    },
    {
     "data": {
      "text/plain": [
       "(2, 4)"
      ]
     },
     "metadata": {},
     "output_type": "display_data"
    },
    {
     "data": {
      "text/plain": [
       "'ar3d'"
      ]
     },
     "metadata": {},
     "output_type": "display_data"
    },
    {
     "data": {
      "text/plain": [
       "array([[[1, 7, 3],\n",
       "        [1, 7, 5]],\n",
       "\n",
       "       [[3, 5, 4],\n",
       "        [4, 0, 2]]])"
      ]
     },
     "metadata": {},
     "output_type": "display_data"
    },
    {
     "data": {
      "text/plain": [
       "3"
      ]
     },
     "metadata": {},
     "output_type": "display_data"
    },
    {
     "data": {
      "text/plain": [
       "(2, 2, 3)"
      ]
     },
     "metadata": {},
     "output_type": "display_data"
    },
    {
     "data": {
      "text/plain": [
       "'ar8p'"
      ]
     },
     "metadata": {},
     "output_type": "display_data"
    },
    {
     "data": {
      "text/plain": [
       "array([[[8, 3, 5, 4, 1]]])"
      ]
     },
     "metadata": {},
     "output_type": "display_data"
    },
    {
     "data": {
      "text/plain": [
       "3"
      ]
     },
     "metadata": {},
     "output_type": "display_data"
    },
    {
     "data": {
      "text/plain": [
       "(1, 1, 5)"
      ]
     },
     "metadata": {},
     "output_type": "display_data"
    }
   ],
   "source": [
    "ar1d = np.array([12,8,3,7.1,5.2])\n",
    "display('ar1d', ar1d, ar1d.ndim, ar1d.shape)\n",
    "ar2d = np.array([[7,3,8,1],[0.2,4,3,9]])\n",
    "display('ar2d', ar2d, ar2d.ndim, ar2d.shape)\n",
    "ar3d = np.array([[[1,7,3],[1,7,5]],[[3,5,4],[4,0,2]]])\n",
    "display('ar3d', ar3d, ar3d.ndim, ar3d.shape)\n",
    "ar8p = np.array(list2, ndmin=3)\n",
    "display('ar8p', ar8p, ar8p.ndim, ar8p.shape)"
   ]
  },
  {
   "cell_type": "markdown",
   "metadata": {},
   "source": [
    "### `reshape`"
   ]
  },
  {
   "cell_type": "code",
   "execution_count": 10,
   "metadata": {},
   "outputs": [
    {
     "data": {
      "text/plain": [
       "'ar9'"
      ]
     },
     "metadata": {},
     "output_type": "display_data"
    },
    {
     "data": {
      "text/plain": [
       "array([ 2,  4,  6,  8, 10, 12, 14, 16, 18, 20, 22, 24])"
      ]
     },
     "metadata": {},
     "output_type": "display_data"
    },
    {
     "data": {
      "text/plain": [
       "(12,)"
      ]
     },
     "metadata": {},
     "output_type": "display_data"
    },
    {
     "data": {
      "text/plain": [
       "array([[ 2,  4,  6,  8],\n",
       "       [10, 12, 14, 16],\n",
       "       [18, 20, 22, 24]])"
      ]
     },
     "metadata": {},
     "output_type": "display_data"
    },
    {
     "data": {
      "text/plain": [
       "(3, 4)"
      ]
     },
     "metadata": {},
     "output_type": "display_data"
    },
    {
     "data": {
      "text/plain": [
       "array([[[ 2,  4,  6],\n",
       "        [ 8, 10, 12]],\n",
       "\n",
       "       [[14, 16, 18],\n",
       "        [20, 22, 24]]])"
      ]
     },
     "metadata": {},
     "output_type": "display_data"
    },
    {
     "data": {
      "text/plain": [
       "(2, 2, 3)"
      ]
     },
     "metadata": {},
     "output_type": "display_data"
    },
    {
     "data": {
      "text/plain": [
       "array([ 2,  4,  6,  8, 10, 12, 14, 16, 18, 20, 22, 24])"
      ]
     },
     "metadata": {},
     "output_type": "display_data"
    }
   ],
   "source": [
    "ar9 = np.array(range(2,26,2))\n",
    "display('ar9', ar9, ar9.shape)\n",
    "ar9a = ar9.reshape(3,4)\n",
    "display(ar9a, ar9a.shape)\n",
    "ar9b = ar9a.reshape(2,2,3)\n",
    "display(ar9b, ar9b.shape)\n",
    "ar9one = ar9b.reshape(-1)\n",
    "display(ar9one)"
   ]
  },
  {
   "cell_type": "markdown",
   "metadata": {},
   "source": [
    "### Arithmetic Operations\n",
    "1. `np.add(a,b)`: a + b\n",
    "2. `np.subtract(a,b)`: a - b\n",
    "3. `np.multiply(a,b)`: a * b\n",
    "4. `np.divide(a,b)`: a / b\n",
    "5. `np.mod(a,b)`: a % b\n",
    "6. `np.power(a,b)`: a**b\n",
    "7. `np.reciprocal(a)`: 1 / a"
   ]
  },
  {
   "cell_type": "code",
   "execution_count": 11,
   "metadata": {},
   "outputs": [
    {
     "data": {
      "text/plain": [
       "'a1d'"
      ]
     },
     "metadata": {},
     "output_type": "display_data"
    },
    {
     "data": {
      "text/plain": [
       "array([5, 6, 7, 2, 3])"
      ]
     },
     "metadata": {},
     "output_type": "display_data"
    },
    {
     "data": {
      "text/plain": [
       "'b1d'"
      ]
     },
     "metadata": {},
     "output_type": "display_data"
    },
    {
     "data": {
      "text/plain": [
       "array([ 1,  2,  3,  5, 10])"
      ]
     },
     "metadata": {},
     "output_type": "display_data"
    },
    {
     "data": {
      "text/plain": [
       "'3a-4b+4'"
      ]
     },
     "metadata": {},
     "output_type": "display_data"
    },
    {
     "data": {
      "text/plain": [
       "array([ 15,  14,  13, -10, -27])"
      ]
     },
     "metadata": {},
     "output_type": "display_data"
    },
    {
     "data": {
      "text/plain": [
       "'a^4 -a^b/b'"
      ]
     },
     "metadata": {},
     "output_type": "display_data"
    },
    {
     "data": {
      "text/plain": [
       "array([  620.        ,  1278.        ,  2286.66666667,     9.6       ,\n",
       "       -5823.9       ])"
      ]
     },
     "metadata": {},
     "output_type": "display_data"
    },
    {
     "data": {
      "text/plain": [
       "'a % 2'"
      ]
     },
     "metadata": {},
     "output_type": "display_data"
    },
    {
     "data": {
      "text/plain": [
       "array([1, 0, 1, 0, 1], dtype=int32)"
      ]
     },
     "metadata": {},
     "output_type": "display_data"
    }
   ],
   "source": [
    "a1d = np.array([5,6,7,2,3])\n",
    "b1d = np.array([1,2,3,5,10])\n",
    "display('a1d', a1d, 'b1d', b1d)\n",
    "display('3a-4b+4', 3*a1d -4*b1d +4)\n",
    "display('a^4 -a^b/b', a1d**4 -a1d**b1d/b1d)\n",
    "display('a % 2', a1d % 2)"
   ]
  },
  {
   "cell_type": "code",
   "execution_count": 12,
   "metadata": {},
   "outputs": [
    {
     "data": {
      "text/plain": [
       "'a2d'"
      ]
     },
     "metadata": {},
     "output_type": "display_data"
    },
    {
     "data": {
      "text/plain": [
       "array([[4, 3, 7, 2],\n",
       "       [4, 2, 8, 6]])"
      ]
     },
     "metadata": {},
     "output_type": "display_data"
    },
    {
     "data": {
      "text/plain": [
       "'b2d'"
      ]
     },
     "metadata": {},
     "output_type": "display_data"
    },
    {
     "data": {
      "text/plain": [
       "array([[1, 5, 3, 0],\n",
       "       [7, 2, 6, 3]])"
      ]
     },
     "metadata": {},
     "output_type": "display_data"
    },
    {
     "data": {
      "text/plain": [
       "'3a-4b+4'"
      ]
     },
     "metadata": {},
     "output_type": "display_data"
    },
    {
     "data": {
      "text/plain": [
       "array([[ 12,  -7,  13,  10],\n",
       "       [-12,   2,   4,  10]])"
      ]
     },
     "metadata": {},
     "output_type": "display_data"
    }
   ],
   "source": [
    "a2d = np.array([[4,3,7,2],[4,2,8,6]])\n",
    "b2d = np.array([[1,5,3,0],[7,2,6,3]])\n",
    "display('a2d', a2d, 'b2d', b2d)\n",
    "display('3a-4b+4', 3*a2d -4*b2d +4)"
   ]
  },
  {
   "cell_type": "markdown",
   "metadata": {},
   "source": [
    "In the operations between 2 arrays, the elements of arrays with same indices are taken into the operations together."
   ]
  },
  {
   "cell_type": "markdown",
   "metadata": {},
   "source": [
    "### Arithmetic functions\n",
    "1. np.min(x)\n",
    "2. np.max(x)\n",
    "3. np.argmin(x)\n",
    "4. np.sqrt(x)\n",
    "5. np.sin(x)\n",
    "6. np.cos(x)\n",
    "7. np.cumsum(x)"
   ]
  },
  {
   "cell_type": "code",
   "execution_count": 13,
   "metadata": {},
   "outputs": [
    {
     "data": {
      "text/plain": [
       "'min(a)'"
      ]
     },
     "metadata": {},
     "output_type": "display_data"
    },
    {
     "data": {
      "text/plain": [
       "2"
      ]
     },
     "metadata": {},
     "output_type": "display_data"
    },
    {
     "data": {
      "text/plain": [
       "'max(a)'"
      ]
     },
     "metadata": {},
     "output_type": "display_data"
    },
    {
     "data": {
      "text/plain": [
       "array([4, 3, 8, 6])"
      ]
     },
     "metadata": {},
     "output_type": "display_data"
    },
    {
     "data": {
      "text/plain": [
       "'5sin(a) +4cos(b)'"
      ]
     },
     "metadata": {},
     "output_type": "display_data"
    },
    {
     "data": {
      "text/plain": [
       "array([[-1.62280325,  1.84024878, -0.67503699,  8.54648713],\n",
       "       [-0.76840346,  2.88189979,  8.78747238, -5.35704748]])"
      ]
     },
     "metadata": {},
     "output_type": "display_data"
    },
    {
     "data": {
      "text/plain": [
       "'argmin'"
      ]
     },
     "metadata": {},
     "output_type": "display_data"
    },
    {
     "data": {
      "text/plain": [
       "array([0, 1, 0, 0], dtype=int64)"
      ]
     },
     "metadata": {},
     "output_type": "display_data"
    },
    {
     "data": {
      "text/plain": [
       "'cumsum'"
      ]
     },
     "metadata": {},
     "output_type": "display_data"
    },
    {
     "data": {
      "text/plain": [
       "array([ 5, 11, 18, 20, 23], dtype=int32)"
      ]
     },
     "metadata": {},
     "output_type": "display_data"
    }
   ],
   "source": [
    "display('min(a)', np.min(a2d), 'max(a)', np.max(a2d, axis=0))\n",
    "display('5sin(a) +4cos(b)', 5*np.sin(a2d) +4*np.cos(b2d))\n",
    "display('argmin', np.argmin(a2d, axis=0))\n",
    "display('cumsum', np.cumsum(a1d))"
   ]
  },
  {
   "cell_type": "markdown",
   "metadata": {},
   "source": [
    "## Broadcastening of numpy arrays\n",
    "The dimension of arrays in operations,\n",
    "1. should be of same dimension;\n",
    "2. should be like (1,3) and (3,1) and the output will be like (3,3).\n",
    "\n",
    "If the conditions are not satisfied in an array operation, we will get **Broadcastening Error**."
   ]
  },
  {
   "cell_type": "code",
   "execution_count": 14,
   "metadata": {},
   "outputs": [
    {
     "data": {
      "text/plain": [
       "'a1d'"
      ]
     },
     "metadata": {},
     "output_type": "display_data"
    },
    {
     "data": {
      "text/plain": [
       "array([5, 6, 7, 2, 3])"
      ]
     },
     "metadata": {},
     "output_type": "display_data"
    },
    {
     "data": {
      "text/plain": [
       "'b1d'"
      ]
     },
     "metadata": {},
     "output_type": "display_data"
    },
    {
     "data": {
      "text/plain": [
       "array([ 1,  2,  3,  5, 10])"
      ]
     },
     "metadata": {},
     "output_type": "display_data"
    },
    {
     "data": {
      "text/plain": [
       "'a1d/b1d'"
      ]
     },
     "metadata": {},
     "output_type": "display_data"
    },
    {
     "data": {
      "text/plain": [
       "array([5.        , 3.        , 2.33333333, 0.4       , 0.3       ])"
      ]
     },
     "metadata": {},
     "output_type": "display_data"
    },
    {
     "data": {
      "text/plain": [
       "'ar1'"
      ]
     },
     "metadata": {},
     "output_type": "display_data"
    },
    {
     "data": {
      "text/plain": [
       "array([4, 8, 3, 9, 5, 0])"
      ]
     },
     "metadata": {},
     "output_type": "display_data"
    },
    {
     "data": {
      "text/plain": [
       "'ar8'"
      ]
     },
     "metadata": {},
     "output_type": "display_data"
    },
    {
     "data": {
      "text/plain": [
       "array([8, 3, 5, 4, 1])"
      ]
     },
     "metadata": {},
     "output_type": "display_data"
    },
    {
     "name": "stdout",
     "output_type": "stream",
     "text": [
      "operands could not be broadcast together with shapes (6,) (5,) \n"
     ]
    },
    {
     "data": {
      "text/plain": [
       "'ar1b'"
      ]
     },
     "metadata": {},
     "output_type": "display_data"
    },
    {
     "data": {
      "text/plain": [
       "array([[1, 4, 2]])"
      ]
     },
     "metadata": {},
     "output_type": "display_data"
    },
    {
     "data": {
      "text/plain": [
       "(1, 3)"
      ]
     },
     "metadata": {},
     "output_type": "display_data"
    },
    {
     "data": {
      "text/plain": [
       "'ar2b'"
      ]
     },
     "metadata": {},
     "output_type": "display_data"
    },
    {
     "data": {
      "text/plain": [
       "array([[1],\n",
       "       [4],\n",
       "       [7]])"
      ]
     },
     "metadata": {},
     "output_type": "display_data"
    },
    {
     "data": {
      "text/plain": [
       "(3, 1)"
      ]
     },
     "metadata": {},
     "output_type": "display_data"
    },
    {
     "data": {
      "text/plain": [
       "'ar1b +ar2b'"
      ]
     },
     "metadata": {},
     "output_type": "display_data"
    },
    {
     "data": {
      "text/plain": [
       "array([[ 2,  5,  3],\n",
       "       [ 5,  8,  6],\n",
       "       [ 8, 11,  9]])"
      ]
     },
     "metadata": {},
     "output_type": "display_data"
    }
   ],
   "source": [
    "display('a1d', a1d, 'b1d', b1d)\n",
    "display('a1d/b1d', a1d/b1d)\n",
    "display('ar1', ar1, 'ar8', ar8)\n",
    "try:\n",
    "    ar1add8 = ar1 + ar8\n",
    "except Exception as e:\n",
    "    print(e)\n",
    "\n",
    "ar1b = np.array([[1,4,2]])\n",
    "ar2b = np.array([[1],[4],[7]])\n",
    "display('ar1b', ar1b, ar1b.shape, 'ar2b', ar2b, ar2b.shape)\n",
    "ar12b = ar1b +ar2b\n",
    "display('ar1b +ar2b', ar12b)"
   ]
  },
  {
   "cell_type": "markdown",
   "metadata": {},
   "source": [
    "## Indexing and Slicing"
   ]
  },
  {
   "cell_type": "markdown",
   "metadata": {},
   "source": [
    "### Indexing in arrays\n",
    "Along an axis, the indices are *[0,1,2,3,4]* or *[-5,-4,-3,-2,-1]*."
   ]
  },
  {
   "cell_type": "code",
   "execution_count": 15,
   "metadata": {},
   "outputs": [
    {
     "data": {
      "text/plain": [
       "'ar12b'"
      ]
     },
     "metadata": {},
     "output_type": "display_data"
    },
    {
     "data": {
      "text/plain": [
       "array([[ 2,  5,  3],\n",
       "       [ 5,  8,  6],\n",
       "       [ 8, 11,  9]])"
      ]
     },
     "metadata": {},
     "output_type": "display_data"
    },
    {
     "data": {
      "text/plain": [
       "8"
      ]
     },
     "metadata": {},
     "output_type": "display_data"
    },
    {
     "data": {
      "text/plain": [
       "array([5, 8, 6])"
      ]
     },
     "metadata": {},
     "output_type": "display_data"
    }
   ],
   "source": [
    "display('ar12b', ar12b)\n",
    "display(ar12b[2,0], ar12b[1])"
   ]
  },
  {
   "cell_type": "markdown",
   "metadata": {},
   "source": [
    "### Slicing in arrays\n",
    "array[**starting index : stopping index : step**]"
   ]
  },
  {
   "cell_type": "code",
   "execution_count": 16,
   "metadata": {},
   "outputs": [
    {
     "data": {
      "text/plain": [
       "'ar10'"
      ]
     },
     "metadata": {},
     "output_type": "display_data"
    },
    {
     "data": {
      "text/plain": [
       "array([[ 5, 10, 15, 20, 25, 30, 35, 40],\n",
       "       [10, 14, 18, 22, 26, 30, 34, 38],\n",
       "       [14, 16, 18, 20, 22, 24, 26, 28],\n",
       "       [ 2,  8, 14, 20, 26, 32, 38, 44],\n",
       "       [ 4,  9,  7,  4,  5,  2,  8,  2]])"
      ]
     },
     "metadata": {},
     "output_type": "display_data"
    },
    {
     "data": {
      "text/plain": [
       "(5, 8)"
      ]
     },
     "metadata": {},
     "output_type": "display_data"
    },
    {
     "data": {
      "text/plain": [
       "array([[14, 16, 18, 20, 22, 24, 26, 28],\n",
       "       [ 2,  8, 14, 20, 26, 32, 38, 44],\n",
       "       [ 4,  9,  7,  4,  5,  2,  8,  2]])"
      ]
     },
     "metadata": {},
     "output_type": "display_data"
    },
    {
     "data": {
      "text/plain": [
       "array([[18, 26, 34],\n",
       "       [18, 22, 26],\n",
       "       [14, 26, 38]])"
      ]
     },
     "metadata": {},
     "output_type": "display_data"
    },
    {
     "data": {
      "text/plain": [
       "array([[15, 20, 25, 30],\n",
       "       [18, 22, 26, 30],\n",
       "       [18, 20, 22, 24],\n",
       "       [14, 20, 26, 32],\n",
       "       [ 7,  4,  5,  2]])"
      ]
     },
     "metadata": {},
     "output_type": "display_data"
    }
   ],
   "source": [
    "list3 = [range(5,45,5), range(10,42,4), range(14,30,2), \n",
    "         range(2,50,6), np.random.randint(2,10,8)]\n",
    "ar10 = np.array(list3)\n",
    "display('ar10', ar10, ar10.shape)\n",
    "display(ar10[2:10])\n",
    "display(ar10[1:4, 2::2])\n",
    "display(ar10[:,-6:-2])"
   ]
  },
  {
   "cell_type": "markdown",
   "metadata": {},
   "source": [
    "## Iterating numpy arrays"
   ]
  },
  {
   "cell_type": "code",
   "execution_count": 17,
   "metadata": {},
   "outputs": [
    {
     "data": {
      "text/plain": [
       "'ar1'"
      ]
     },
     "metadata": {},
     "output_type": "display_data"
    },
    {
     "data": {
      "text/plain": [
       "array([4, 8, 3, 9, 5, 0])"
      ]
     },
     "metadata": {},
     "output_type": "display_data"
    },
    {
     "name": "stdout",
     "output_type": "stream",
     "text": [
      "4\n",
      "8\n",
      "3\n",
      "9\n",
      "5\n",
      "0\n"
     ]
    }
   ],
   "source": [
    "display('ar1', ar1)\n",
    "for elt in ar1:\n",
    "    print(elt)"
   ]
  },
  {
   "cell_type": "code",
   "execution_count": 18,
   "metadata": {},
   "outputs": [
    {
     "data": {
      "text/plain": [
       "'ar12b'"
      ]
     },
     "metadata": {},
     "output_type": "display_data"
    },
    {
     "data": {
      "text/plain": [
       "array([[ 2,  5,  3],\n",
       "       [ 5,  8,  6],\n",
       "       [ 8, 11,  9]])"
      ]
     },
     "metadata": {},
     "output_type": "display_data"
    },
    {
     "name": "stdout",
     "output_type": "stream",
     "text": [
      "[2 5 3]\n",
      "[5 8 6]\n",
      "[ 8 11  9]\n",
      "2\n",
      "5\n",
      "3\n",
      "5\n",
      "8\n",
      "6\n",
      "8\n",
      "11\n",
      "9\n",
      "np.nditer\n",
      "2.0\n",
      "5.0\n",
      "3.0\n",
      "5.0\n",
      "8.0\n",
      "6.0\n",
      "8.0\n",
      "11.0\n",
      "9.0\n",
      "values with indices : np.ndenumerate\n",
      "(0, 0) 2\n",
      "(0, 1) 5\n",
      "(0, 2) 3\n",
      "(1, 0) 5\n",
      "(1, 1) 8\n",
      "(1, 2) 6\n",
      "(2, 0) 8\n",
      "(2, 1) 11\n",
      "(2, 2) 9\n"
     ]
    }
   ],
   "source": [
    "display('ar12b', ar12b)\n",
    "for i in ar12b:\n",
    "    print(i)\n",
    "\n",
    "for i in ar12b:\n",
    "    for j in i:\n",
    "        print(j)\n",
    "\n",
    "print('np.nditer')\n",
    "for i in np.nditer(ar12b, flags=['buffered'], op_dtypes=['float']):\n",
    "    print(i)\n",
    "\n",
    "print('values with indices : np.ndenumerate')\n",
    "for ind, val in np.ndenumerate(ar12b):\n",
    "    print(ind, val)"
   ]
  },
  {
   "cell_type": "markdown",
   "metadata": {},
   "source": [
    "## `copy` vs `view` in numpy\n",
    "1. The copy owns the data but the view doesn't own the data.\n",
    "2. The copy of an array is a new array and if we change it, the original array will be unchanged. On the other hand view is the original array and if we change it, the original array will also be changed. "
   ]
  },
  {
   "cell_type": "code",
   "execution_count": 19,
   "metadata": {},
   "outputs": [
    {
     "data": {
      "text/plain": [
       "'copy ar1c'"
      ]
     },
     "metadata": {},
     "output_type": "display_data"
    },
    {
     "data": {
      "text/plain": [
       "array([4, 8, 3, 9, 5, 0])"
      ]
     },
     "metadata": {},
     "output_type": "display_data"
    },
    {
     "data": {
      "text/plain": [
       "'original'"
      ]
     },
     "metadata": {},
     "output_type": "display_data"
    },
    {
     "data": {
      "text/plain": [
       "array([10,  8,  3,  9,  5,  0])"
      ]
     },
     "metadata": {},
     "output_type": "display_data"
    },
    {
     "data": {
      "text/plain": [
       "'copy'"
      ]
     },
     "metadata": {},
     "output_type": "display_data"
    },
    {
     "data": {
      "text/plain": [
       "array([ 4, 11,  3,  9,  5,  0])"
      ]
     },
     "metadata": {},
     "output_type": "display_data"
    }
   ],
   "source": [
    "ar1c = ar1.copy()\n",
    "display('copy ar1c', ar1c)\n",
    "ar1[0] = 10\n",
    "ar1c[1] = 11\n",
    "display('original', ar1, 'copy', ar1c)"
   ]
  },
  {
   "cell_type": "code",
   "execution_count": 20,
   "metadata": {},
   "outputs": [
    {
     "data": {
      "text/plain": [
       "'view ar1v'"
      ]
     },
     "metadata": {},
     "output_type": "display_data"
    },
    {
     "data": {
      "text/plain": [
       "array([10,  8,  3,  9,  5,  0])"
      ]
     },
     "metadata": {},
     "output_type": "display_data"
    },
    {
     "data": {
      "text/plain": [
       "'original'"
      ]
     },
     "metadata": {},
     "output_type": "display_data"
    },
    {
     "data": {
      "text/plain": [
       "array([20, 21,  3,  9,  5,  0])"
      ]
     },
     "metadata": {},
     "output_type": "display_data"
    },
    {
     "data": {
      "text/plain": [
       "'copy'"
      ]
     },
     "metadata": {},
     "output_type": "display_data"
    },
    {
     "data": {
      "text/plain": [
       "array([20, 21,  3,  9,  5,  0])"
      ]
     },
     "metadata": {},
     "output_type": "display_data"
    }
   ],
   "source": [
    "ar1v = ar1.view()\n",
    "display('view ar1v', ar1v)\n",
    "ar1[0] = 20\n",
    "ar1v[1] = 21\n",
    "display('original', ar1, 'copy', ar1v)"
   ]
  },
  {
   "cell_type": "markdown",
   "metadata": {},
   "source": [
    "## Join and split"
   ]
  },
  {
   "cell_type": "markdown",
   "metadata": {},
   "source": [
    "### Join array\n",
    "Joining means putting contents of 2 or more arrays in a single array."
   ]
  },
  {
   "cell_type": "markdown",
   "metadata": {},
   "source": [
    "### `concatenate`"
   ]
  },
  {
   "cell_type": "code",
   "execution_count": 21,
   "metadata": {},
   "outputs": [
    {
     "data": {
      "text/plain": [
       "array([[4, 3, 7, 2],\n",
       "       [4, 2, 8, 6]])"
      ]
     },
     "metadata": {},
     "output_type": "display_data"
    },
    {
     "data": {
      "text/plain": [
       "array([[1, 5, 3, 0],\n",
       "       [7, 2, 6, 3]])"
      ]
     },
     "metadata": {},
     "output_type": "display_data"
    },
    {
     "data": {
      "text/plain": [
       "array([[4, 3, 7, 2, 1, 5, 3, 0],\n",
       "       [4, 2, 8, 6, 7, 2, 6, 3]])"
      ]
     },
     "metadata": {},
     "output_type": "display_data"
    }
   ],
   "source": [
    "display(a2d, b2d)\n",
    "ar12bcon = np.concatenate((a2d, b2d), axis=1)\n",
    "display(ar12bcon)"
   ]
  },
  {
   "cell_type": "markdown",
   "metadata": {},
   "source": [
    "### `stack`"
   ]
  },
  {
   "cell_type": "code",
   "execution_count": 22,
   "metadata": {},
   "outputs": [
    {
     "data": {
      "text/plain": [
       "'stack'"
      ]
     },
     "metadata": {},
     "output_type": "display_data"
    },
    {
     "data": {
      "text/plain": [
       "array([[[4, 3, 7, 2],\n",
       "        [4, 2, 8, 6]],\n",
       "\n",
       "       [[1, 5, 3, 0],\n",
       "        [7, 2, 6, 3]]])"
      ]
     },
     "metadata": {},
     "output_type": "display_data"
    },
    {
     "data": {
      "text/plain": [
       "(2, 2, 4)"
      ]
     },
     "metadata": {},
     "output_type": "display_data"
    },
    {
     "data": {
      "text/plain": [
       "'row'"
      ]
     },
     "metadata": {},
     "output_type": "display_data"
    },
    {
     "data": {
      "text/plain": [
       "array([[4, 3, 7, 2, 1, 5, 3, 0],\n",
       "       [4, 2, 8, 6, 7, 2, 6, 3]])"
      ]
     },
     "metadata": {},
     "output_type": "display_data"
    },
    {
     "data": {
      "text/plain": [
       "(2, 8)"
      ]
     },
     "metadata": {},
     "output_type": "display_data"
    },
    {
     "data": {
      "text/plain": [
       "'column'"
      ]
     },
     "metadata": {},
     "output_type": "display_data"
    },
    {
     "data": {
      "text/plain": [
       "array([[4, 3, 7, 2],\n",
       "       [4, 2, 8, 6],\n",
       "       [1, 5, 3, 0],\n",
       "       [7, 2, 6, 3]])"
      ]
     },
     "metadata": {},
     "output_type": "display_data"
    },
    {
     "data": {
      "text/plain": [
       "(4, 4)"
      ]
     },
     "metadata": {},
     "output_type": "display_data"
    },
    {
     "data": {
      "text/plain": [
       "'height'"
      ]
     },
     "metadata": {},
     "output_type": "display_data"
    },
    {
     "data": {
      "text/plain": [
       "array([[[4, 1],\n",
       "        [3, 5],\n",
       "        [7, 3],\n",
       "        [2, 0]],\n",
       "\n",
       "       [[4, 7],\n",
       "        [2, 2],\n",
       "        [8, 6],\n",
       "        [6, 3]]])"
      ]
     },
     "metadata": {},
     "output_type": "display_data"
    },
    {
     "data": {
      "text/plain": [
       "(2, 4, 2)"
      ]
     },
     "metadata": {},
     "output_type": "display_data"
    }
   ],
   "source": [
    "arst = np.stack((a2d, b2d), axis=0)\n",
    "display('stack', arst, arst.shape)\n",
    "\n",
    "arst1 = np.hstack((a2d, b2d))\n",
    "display('row', arst1, arst1.shape)\n",
    "arst2 = np.vstack((a2d, b2d))\n",
    "display('column', arst2, arst2.shape)\n",
    "arst3 = np.dstack((a2d, b2d))\n",
    "display('height', arst3, arst3.shape)"
   ]
  },
  {
   "cell_type": "markdown",
   "metadata": {},
   "source": [
    "### `split` array\n",
    "Splitting breaks one array into multiple."
   ]
  },
  {
   "cell_type": "code",
   "execution_count": 23,
   "metadata": {},
   "outputs": [
    {
     "data": {
      "text/plain": [
       "'arspl1'"
      ]
     },
     "metadata": {},
     "output_type": "display_data"
    },
    {
     "data": {
      "text/plain": [
       "[array([4, 3]), array([7, 2]), array([1, 5]), array([3, 0])]"
      ]
     },
     "metadata": {},
     "output_type": "display_data"
    },
    {
     "data": {
      "text/plain": [
       "'arspl1'"
      ]
     },
     "metadata": {},
     "output_type": "display_data"
    },
    {
     "data": {
      "text/plain": [
       "[array([[4, 3],\n",
       "        [4, 2]]),\n",
       " array([[7, 2],\n",
       "        [8, 6]]),\n",
       " array([[1, 5],\n",
       "        [7, 2]]),\n",
       " array([[3, 0],\n",
       "        [6, 3]])]"
      ]
     },
     "metadata": {},
     "output_type": "display_data"
    }
   ],
   "source": [
    "arspl1 = np.array_split(arst1[0], 4)\n",
    "display('arspl1', arspl1)\n",
    "arspl1 = np.array_split(arst1, 4, axis=1)\n",
    "display('arspl1', arspl1)"
   ]
  },
  {
   "cell_type": "markdown",
   "metadata": {},
   "source": [
    "## Numpy arrays functions"
   ]
  },
  {
   "cell_type": "markdown",
   "metadata": {},
   "source": [
    "### Search array\n",
    "Searches an array for a certain value and return the indexes that get a match."
   ]
  },
  {
   "cell_type": "code",
   "execution_count": 24,
   "metadata": {},
   "outputs": [
    {
     "data": {
      "text/plain": [
       "'ar5'"
      ]
     },
     "metadata": {},
     "output_type": "display_data"
    },
    {
     "data": {
      "text/plain": [
       "array([0, 1, 2, 3, 4, 5, 6, 7, 8, 9])"
      ]
     },
     "metadata": {},
     "output_type": "display_data"
    },
    {
     "data": {
      "text/plain": [
       "(array([0, 2, 4, 6, 8], dtype=int64),)"
      ]
     },
     "metadata": {},
     "output_type": "display_data"
    }
   ],
   "source": [
    "display('ar5', ar5)\n",
    "ar5w = np.where((ar5 % 2) == 0)\n",
    "display(ar5w)"
   ]
  },
  {
   "cell_type": "markdown",
   "metadata": {},
   "source": [
    "### `searchsorted` array\n",
    "It performs a binary search in the array and returns the index where the specified value would be inserted to maintainthe search order."
   ]
  },
  {
   "cell_type": "code",
   "execution_count": 25,
   "metadata": {},
   "outputs": [
    {
     "data": {
      "text/plain": [
       "array([ 0, 10], dtype=int64)"
      ]
     },
     "metadata": {},
     "output_type": "display_data"
    }
   ],
   "source": [
    "ar5ss = np.searchsorted(ar5, [-2,12], side='right')\n",
    "display(ar5ss)  # try to understand"
   ]
  },
  {
   "cell_type": "markdown",
   "metadata": {},
   "source": [
    "### `sort` array\n",
    "Ordered sequence is any sequence that has an order corresponding to elements, like numeric or alphabetical, ascending or descending."
   ]
  },
  {
   "cell_type": "code",
   "execution_count": 26,
   "metadata": {},
   "outputs": [
    {
     "data": {
      "text/plain": [
       "array([[1. , 3. , 7. , 8. ],\n",
       "       [0.2, 3. , 4. , 9. ]])"
      ]
     },
     "metadata": {},
     "output_type": "display_data"
    },
    {
     "data": {
      "text/plain": [
       "array([[7. , 3. , 8. , 1. ],\n",
       "       [0.2, 4. , 3. , 9. ]])"
      ]
     },
     "metadata": {},
     "output_type": "display_data"
    },
    {
     "data": {
      "text/plain": [
       "array([[1. , 3. , 7. , 8. ],\n",
       "       [0.2, 3. , 4. , 9. ]])"
      ]
     },
     "metadata": {},
     "output_type": "display_data"
    },
    {
     "data": {
      "text/plain": [
       "'ar13'"
      ]
     },
     "metadata": {},
     "output_type": "display_data"
    },
    {
     "data": {
      "text/plain": [
       "array(['a', 'd', 'b', 'e', 'g', 'p'], dtype='<U1')"
      ]
     },
     "metadata": {},
     "output_type": "display_data"
    },
    {
     "data": {
      "text/plain": [
       "array(['a', 'b', 'd', 'e', 'g', 'p'], dtype='<U1')"
      ]
     },
     "metadata": {},
     "output_type": "display_data"
    }
   ],
   "source": [
    "display(np.sort(ar2d), ar2d)\n",
    "ar2d.sort()\n",
    "display(ar2d)\n",
    "ar13 = np.array(['a','d','b','e','g','p'])\n",
    "display('ar13', ar13, np.sort(ar13))"
   ]
  },
  {
   "cell_type": "markdown",
   "metadata": {},
   "source": [
    "### filter array\n",
    "Here we can get some elements out of an existing array and crate a new array out of them."
   ]
  },
  {
   "cell_type": "code",
   "execution_count": 27,
   "metadata": {},
   "outputs": [
    {
     "data": {
      "text/plain": [
       "array(['a', 'd', 'b', 'e', 'g', 'p'], dtype='<U1')"
      ]
     },
     "metadata": {},
     "output_type": "display_data"
    },
    {
     "data": {
      "text/plain": [
       "array(['a', 'e', 'p'], dtype='<U1')"
      ]
     },
     "metadata": {},
     "output_type": "display_data"
    }
   ],
   "source": [
    "display(ar13)\n",
    "fltr = [True, False, False, True, False, True]\n",
    "ar13fl = ar13[fltr]\n",
    "display(ar13fl)"
   ]
  },
  {
   "cell_type": "markdown",
   "metadata": {},
   "source": [
    "### `shuffle`"
   ]
  },
  {
   "cell_type": "code",
   "execution_count": 28,
   "metadata": {},
   "outputs": [
    {
     "data": {
      "text/plain": [
       "array([0, 1, 2, 3, 4, 5, 6, 7, 8, 9])"
      ]
     },
     "metadata": {},
     "output_type": "display_data"
    },
    {
     "data": {
      "text/plain": [
       "array([7, 0, 2, 8, 9, 6, 5, 3, 4, 1])"
      ]
     },
     "metadata": {},
     "output_type": "display_data"
    }
   ],
   "source": [
    "display(ar5)\n",
    "np.random.shuffle(ar5)\n",
    "display(ar5)"
   ]
  },
  {
   "cell_type": "markdown",
   "metadata": {},
   "source": [
    "### `unique`"
   ]
  },
  {
   "cell_type": "code",
   "execution_count": 29,
   "metadata": {},
   "outputs": [
    {
     "data": {
      "text/plain": [
       "'ar14'"
      ]
     },
     "metadata": {},
     "output_type": "display_data"
    },
    {
     "data": {
      "text/plain": [
       "array([1, 5, 7, 3, 2, 6, 5, 2, 3, 4, 1, 2, 8, 3, 7, 0, 4, 2])"
      ]
     },
     "metadata": {},
     "output_type": "display_data"
    },
    {
     "data": {
      "text/plain": [
       "(array([0, 1, 2, 3, 4, 5, 6, 7, 8]),\n",
       " array([15,  0,  4,  3,  9,  1,  5,  2, 12], dtype=int64),\n",
       " array([1, 2, 4, 3, 2, 2, 1, 2, 1], dtype=int64))"
      ]
     },
     "metadata": {},
     "output_type": "display_data"
    }
   ],
   "source": [
    "ar14 = np.array([1,5,7,3,2,6,5,2,3,4,1,2,8,3,7,0,4,2])\n",
    "display('ar14', ar14)\n",
    "ar14u = np.unique(ar14, return_index=True, return_counts=True)\n",
    "display(ar14u)"
   ]
  },
  {
   "cell_type": "markdown",
   "metadata": {},
   "source": [
    "### `resize`, `flatten`, `ravel`\n",
    "Order for `flatten` (optional): {'C', 'F', 'A', 'K'}\n",
    "1. 'C' means to flatten in row-major (C-style) order. It's the default.\n",
    "2. 'F' means to flatten in column-major (Fortran-style) order.\n",
    "3. 'A' means to flatten in column-major order if 'a' is Fortran contiguous in memory, row-major order otherwise.\n",
    "4. 'K' means to flatten 'a' in the order the elements occur in memory."
   ]
  },
  {
   "cell_type": "code",
   "execution_count": 30,
   "metadata": {},
   "outputs": [
    {
     "data": {
      "text/plain": [
       "array([[1, 5, 7, 3, 2, 6],\n",
       "       [5, 2, 3, 4, 1, 2],\n",
       "       [8, 3, 7, 0, 4, 2]])"
      ]
     },
     "metadata": {},
     "output_type": "display_data"
    },
    {
     "data": {
      "text/plain": [
       "array([1, 5, 8, 5, 2, 3, 7, 3, 7, 3, 4, 0, 2, 1, 4, 6, 2, 2])"
      ]
     },
     "metadata": {},
     "output_type": "display_data"
    },
    {
     "data": {
      "text/plain": [
       "array([1, 5, 7, 3, 2, 6, 5, 2, 3, 4, 1, 2, 8, 3, 7, 0, 4, 2])"
      ]
     },
     "metadata": {},
     "output_type": "display_data"
    }
   ],
   "source": [
    "ar14r = np.resize(ar14, (3,6))\n",
    "display(ar14r)\n",
    "display(ar14r.flatten(order='F'), \n",
    "        np.ravel(ar14r, order='A'))"
   ]
  },
  {
   "cell_type": "markdown",
   "metadata": {},
   "source": [
    "### `insert`, `append`"
   ]
  },
  {
   "cell_type": "code",
   "execution_count": 31,
   "metadata": {},
   "outputs": [
    {
     "data": {
      "text/plain": [
       "'ar5'"
      ]
     },
     "metadata": {},
     "output_type": "display_data"
    },
    {
     "data": {
      "text/plain": [
       "array([7, 0, 2, 8, 9, 6, 5, 3, 4, 1])"
      ]
     },
     "metadata": {},
     "output_type": "display_data"
    },
    {
     "data": {
      "text/plain": [
       "array([ 7,  0,  2, 16,  8,  9,  6,  5, 16,  3,  4,  1])"
      ]
     },
     "metadata": {},
     "output_type": "display_data"
    },
    {
     "data": {
      "text/plain": [
       "array([ 7.  ,  0.  ,  2.  ,  8.  ,  9.  ,  6.  ,  5.  ,  3.  ,  4.  ,\n",
       "        1.  ,  5.25,  6.16, 12.43])"
      ]
     },
     "metadata": {},
     "output_type": "display_data"
    }
   ],
   "source": [
    "display('ar5', ar5)\n",
    "ar5in = np.insert(ar5, (3,7), 16.3) # dtype not changed (16 taken instead of 16.3)\n",
    "ar5ap = np.append(ar5, [5.25,6.16,12.43])  # dtype changed automatically\n",
    "display(ar5in, ar5ap)"
   ]
  },
  {
   "cell_type": "code",
   "execution_count": 32,
   "metadata": {},
   "outputs": [
    {
     "data": {
      "text/plain": [
       "'ar2d'"
      ]
     },
     "metadata": {},
     "output_type": "display_data"
    },
    {
     "data": {
      "text/plain": [
       "array([[1. , 3. , 7. , 8. ],\n",
       "       [0.2, 3. , 4. , 9. ]])"
      ]
     },
     "metadata": {},
     "output_type": "display_data"
    },
    {
     "data": {
      "text/plain": [
       "array([[1.  , 3.  , 7.  , 2.15, 8.  ],\n",
       "       [0.2 , 3.  , 4.  , 4.  , 9.  ]])"
      ]
     },
     "metadata": {},
     "output_type": "display_data"
    },
    {
     "data": {
      "text/plain": [
       "array([[1. , 3. , 7. , 8. ],\n",
       "       [0.2, 3. , 4. , 9. ],\n",
       "       [1. , 5. , 9. , 2. ]])"
      ]
     },
     "metadata": {},
     "output_type": "display_data"
    }
   ],
   "source": [
    "display('ar2d', ar2d)\n",
    "ar2din = np.insert(ar2d, 3, [2.15,4], axis=1)\n",
    "ar2dap = np.append(ar2d, [[1,5,9,2]], axis=0)\n",
    "display(ar2din, ar2dap)"
   ]
  },
  {
   "cell_type": "markdown",
   "metadata": {},
   "source": [
    "### `delete`"
   ]
  },
  {
   "cell_type": "code",
   "execution_count": 33,
   "metadata": {},
   "outputs": [
    {
     "data": {
      "text/plain": [
       "array([ 7.  ,  0.  ,  2.  ,  8.  ,  9.  ,  6.  ,  5.  ,  3.  ,  4.  ,\n",
       "        1.  ,  5.25,  6.16, 12.43])"
      ]
     },
     "metadata": {},
     "output_type": "display_data"
    },
    {
     "data": {
      "text/plain": [
       "array([ 7.  ,  0.  ,  2.  ,  8.  ,  9.  ,  6.  ,  5.  ,  3.  ,  4.  ,\n",
       "        1.  ,  5.25, 12.43])"
      ]
     },
     "metadata": {},
     "output_type": "display_data"
    },
    {
     "data": {
      "text/plain": [
       "array([ 7.  ,  0.  ,  2.  ,  8.  ,  9.  ,  6.  ,  5.  ,  3.  ,  4.  ,\n",
       "        1.  ,  5.25,  6.16, 12.43])"
      ]
     },
     "metadata": {},
     "output_type": "display_data"
    }
   ],
   "source": [
    "display(ar5ap)\n",
    "ar5apdl = np.delete(ar5ap, 11) # input index\n",
    "display(ar5apdl, ar5ap)"
   ]
  },
  {
   "cell_type": "markdown",
   "metadata": {},
   "source": [
    "## Numpy - `matrix`"
   ]
  },
  {
   "cell_type": "code",
   "execution_count": 34,
   "metadata": {},
   "outputs": [
    {
     "data": {
      "text/plain": [
       "numpy.ndarray"
      ]
     },
     "metadata": {},
     "output_type": "display_data"
    },
    {
     "data": {
      "text/plain": [
       "array([[1, 2, 3],\n",
       "       [1, 2, 3]])"
      ]
     },
     "metadata": {},
     "output_type": "display_data"
    },
    {
     "data": {
      "text/plain": [
       "array([[8, 6, 4],\n",
       "       [1, 5, 6],\n",
       "       [7, 2, 3]])"
      ]
     },
     "metadata": {},
     "output_type": "display_data"
    },
    {
     "data": {
      "text/plain": [
       "array([[2, 9, 6],\n",
       "       [7, 2, 3],\n",
       "       [0, 8, 6]])"
      ]
     },
     "metadata": {},
     "output_type": "display_data"
    },
    {
     "data": {
      "text/plain": [
       "numpy.matrix"
      ]
     },
     "metadata": {},
     "output_type": "display_data"
    },
    {
     "data": {
      "text/plain": [
       "matrix([[1, 2, 3],\n",
       "        [1, 2, 3]])"
      ]
     },
     "metadata": {},
     "output_type": "display_data"
    },
    {
     "data": {
      "text/plain": [
       "matrix([[8, 6, 4],\n",
       "        [1, 5, 6],\n",
       "        [7, 2, 3]])"
      ]
     },
     "metadata": {},
     "output_type": "display_data"
    },
    {
     "data": {
      "text/plain": [
       "matrix([[2, 9, 6],\n",
       "        [7, 2, 3],\n",
       "        [0, 8, 6]])"
      ]
     },
     "metadata": {},
     "output_type": "display_data"
    },
    {
     "data": {
      "text/plain": [
       "'5m2-4m3'"
      ]
     },
     "metadata": {},
     "output_type": "display_data"
    },
    {
     "data": {
      "text/plain": [
       "array([[ 32,  -6,  -4],\n",
       "       [-23,  17,  18],\n",
       "       [ 35, -22,  -9]])"
      ]
     },
     "metadata": {},
     "output_type": "display_data"
    },
    {
     "data": {
      "text/plain": [
       "matrix([[ 32,  -6,  -4],\n",
       "        [-23,  17,  18],\n",
       "        [ 35, -22,  -9]])"
      ]
     },
     "metadata": {},
     "output_type": "display_data"
    },
    {
     "data": {
      "text/plain": [
       "'m2*m3'"
      ]
     },
     "metadata": {},
     "output_type": "display_data"
    },
    {
     "data": {
      "text/plain": [
       "array([[16, 54, 24],\n",
       "       [ 7, 10, 18],\n",
       "       [ 0, 16, 18]])"
      ]
     },
     "metadata": {},
     "output_type": "display_data"
    },
    {
     "data": {
      "text/plain": [
       "array([[ 58, 116,  90],\n",
       "       [ 37,  67,  57],\n",
       "       [ 28,  91,  66]])"
      ]
     },
     "metadata": {},
     "output_type": "display_data"
    },
    {
     "data": {
      "text/plain": [
       "array([[ 58, 116,  90],\n",
       "       [ 37,  67,  57],\n",
       "       [ 28,  91,  66]])"
      ]
     },
     "metadata": {},
     "output_type": "display_data"
    },
    {
     "data": {
      "text/plain": [
       "matrix([[ 58, 116,  90],\n",
       "        [ 37,  67,  57],\n",
       "        [ 28,  91,  66]])"
      ]
     },
     "metadata": {},
     "output_type": "display_data"
    },
    {
     "data": {
      "text/plain": [
       "matrix([[ 58, 116,  90],\n",
       "        [ 37,  67,  57],\n",
       "        [ 28,  91,  66]])"
      ]
     },
     "metadata": {},
     "output_type": "display_data"
    }
   ],
   "source": [
    "list4 = [[1,2,3],[1,2,3]]\n",
    "list5 = [[8,6,4],[1,5,6],[7,2,3]]\n",
    "list6 = [[2,9,6],[7,2,3],[0,8,6]]\n",
    "\n",
    "ar1m = np.array(list4)\n",
    "ar2m = np.array(list5)\n",
    "ar3m = np.array(list6)\n",
    "display(type(ar1m), ar1m, ar2m, ar3m)\n",
    "\n",
    "mat1 = np.matrix(list4)\n",
    "mat2 = np.matrix(list5)\n",
    "mat3 = np.matrix(list6)\n",
    "display(type(mat1), mat1, mat2, mat3)\n",
    "\n",
    "display('5m2-4m3', 5*ar2m-4*ar3m, 5*mat2-4*mat3)\n",
    "display('m2*m3', ar2m*ar3m, ar2m@ar3m, ar2m.dot(ar3m), mat2*mat3, mat2.dot(mat3))\n",
    "# here we need to broadcast (maintain the orders) before matrix multiplication"
   ]
  },
  {
   "cell_type": "markdown",
   "metadata": {},
   "source": [
    "### `matrix` functions"
   ]
  },
  {
   "cell_type": "code",
   "execution_count": 35,
   "metadata": {},
   "outputs": [
    {
     "data": {
      "text/plain": [
       "matrix([[8, 6, 4],\n",
       "        [1, 5, 6],\n",
       "        [7, 2, 3]])"
      ]
     },
     "metadata": {},
     "output_type": "display_data"
    },
    {
     "data": {
      "text/plain": [
       "'transpose'"
      ]
     },
     "metadata": {},
     "output_type": "display_data"
    },
    {
     "data": {
      "text/plain": [
       "matrix([[8, 1, 7],\n",
       "        [6, 5, 2],\n",
       "        [4, 6, 3]])"
      ]
     },
     "metadata": {},
     "output_type": "display_data"
    },
    {
     "data": {
      "text/plain": [
       "matrix([[8, 1, 7],\n",
       "        [6, 5, 2],\n",
       "        [4, 6, 3]])"
      ]
     },
     "metadata": {},
     "output_type": "display_data"
    },
    {
     "data": {
      "text/plain": [
       "'swapaxes'"
      ]
     },
     "metadata": {},
     "output_type": "display_data"
    },
    {
     "data": {
      "text/plain": [
       "matrix([[8, 1, 7],\n",
       "        [6, 5, 2],\n",
       "        [4, 6, 3]])"
      ]
     },
     "metadata": {},
     "output_type": "display_data"
    },
    {
     "data": {
      "text/plain": [
       "'inverse'"
      ]
     },
     "metadata": {},
     "output_type": "display_data"
    },
    {
     "data": {
      "text/plain": [
       "matrix([[ 0.02380952, -0.07936508,  0.12698413],\n",
       "        [ 0.30952381, -0.03174603, -0.34920635],\n",
       "        [-0.26190476,  0.20634921,  0.26984127]])"
      ]
     },
     "metadata": {},
     "output_type": "display_data"
    },
    {
     "data": {
      "text/plain": [
       "'power'"
      ]
     },
     "metadata": {},
     "output_type": "display_data"
    },
    {
     "data": {
      "text/plain": [
       "matrix([[-0.05725624,  0.02683296,  0.06500378],\n",
       "        [ 0.08900227, -0.09561602, -0.04383976],\n",
       "        [-0.01303855,  0.06991686, -0.03250189]])"
      ]
     },
     "metadata": {},
     "output_type": "display_data"
    },
    {
     "data": {
      "text/plain": [
       "'determinant'"
      ]
     },
     "metadata": {},
     "output_type": "display_data"
    },
    {
     "data": {
      "text/plain": [
       "126.0"
      ]
     },
     "metadata": {},
     "output_type": "display_data"
    },
    {
     "data": {
      "text/plain": [
       "'rank'"
      ]
     },
     "metadata": {},
     "output_type": "display_data"
    },
    {
     "data": {
      "text/plain": [
       "3"
      ]
     },
     "metadata": {},
     "output_type": "display_data"
    }
   ],
   "source": [
    "display(mat2, 'transpose', np.transpose(mat2), mat2.T)\n",
    "display('swapaxes', np.swapaxes(mat2,0,1))\n",
    "display('inverse', np.linalg.inv(mat2))\n",
    "display('power', np.linalg.matrix_power(mat2,-2))\n",
    "display('determinant', np.linalg.det(mat2))\n",
    "display('rank', np.linalg.matrix_rank(mat2))"
   ]
  },
  {
   "cell_type": "code",
   "execution_count": null,
   "metadata": {},
   "outputs": [],
   "source": []
  }
 ],
 "metadata": {
  "kernelspec": {
   "display_name": "Python 3 (ipykernel)",
   "language": "python",
   "name": "python3"
  },
  "language_info": {
   "codemirror_mode": {
    "name": "ipython",
    "version": 3
   },
   "file_extension": ".py",
   "mimetype": "text/x-python",
   "name": "python",
   "nbconvert_exporter": "python",
   "pygments_lexer": "ipython3",
   "version": "3.9.13"
  }
 },
 "nbformat": 4,
 "nbformat_minor": 2
}
