{
 "cells": [
  {
   "attachments": {},
   "cell_type": "markdown",
   "metadata": {},
   "source": [
    "# Python part 1 (WsCube Tech)\n",
    "Video Link: "
   ]
  },
  {
   "attachments": {},
   "cell_type": "markdown",
   "metadata": {},
   "source": [
    "## Concept of programming\n",
    "1. Software (programs) rules the hardware (the physical machine).\n",
    "2. A program is a sequence of instructions (telling computer what to do).\n",
    "3. The process of creating software is called programming (coding).\n",
    "4. By designing notations for expressing computations in an exact and unambiguous way, we write the codes. These special notations are called programming languages.\n",
    "5. Every structure in a programming language has a precise form (its **syntax**) and a precise meaning (its **semantics**).\n",
    "\n",
    "\n",
    "## Types of programming\n",
    "Low level language (LLL) and High level language (HLL). Another type can be named Middle level language (ex. **C**).\n",
    "\n",
    "### Low level language\n",
    "1. Depends on machine. (different for 32 and 64 bit computers)\n",
    "2. Hardware interactive.\n",
    "3. Difficult to write.\n",
    "4. Difficult to debug program. (find errors)\n",
    "5. Fast in execution.\n",
    "6. Example: machine language (binary) and assembly language (hex codes).\n",
    "\n",
    "### High level language\n",
    "1. Machine independent. (portable / platform independent)\n",
    "2. No hardware interactive.\n",
    "3. Easy to write.\n",
    "4. Easy to debug program.\n",
    "5. Slow in execution.\n",
    "6. Example: C, C++, Java, Python.\n",
    "\n",
    "### Software\n",
    "Two types:\n",
    "1. System software. (LLL)\n",
    "2. Application software. (HLL)"
   ]
  },
  {
   "attachments": {},
   "cell_type": "markdown",
   "metadata": {},
   "source": [
    "## Concept of translation\n",
    "That's a lot easier for us to understand and write program in HLL. We need some way to translate the HLL into the machine language that the computer can execute. HLL with symbols, alphabets and numbers (source code) is translated into machine language with binary (object code). Translator can also translate into assembly language. The translators are categorized in compiler and interpreter.\n",
    "1. Compiler: `C`, `C++`.\n",
    "2. Interpreter: `Python`.\n",
    "3. Compiler and Interpreter: `Java`.\n",
    "\n",
    "### Compiler\n",
    "A compiler is a computer program that takes program written in a HLL and translates it into an equivalent program in a machine understandable (LLL) format that the computer can directly execute. (needs executer (machine) to run the program)\n",
    "\n",
    "**[source code --- compiler --- object code --- executer]**\n",
    "\n",
    "### Interpreter\n",
    "An interpreter is a program that simulates a computer that understands a HLL. Rather than translating the souce code into a LLL, the interpreter analyzes and executes the source code instruction by instruction as neccesary. (no executer needed)\n",
    "\n",
    "**[source code --- interpreter (translate + run)]**\n",
    "\n",
    "If we use interpreter in python the codes will be totally machine independent. Writing a program in python (very high level language) is easier than Java (high level language)."
   ]
  },
  {
   "attachments": {},
   "cell_type": "markdown",
   "metadata": {},
   "source": [
    "## Introduction to python\n",
    "Creator: Guido van Rossum (1990). (named after British comedy group Monty Python - makers of 1970s BBC comedy series Monty Python's Flying Circus)\n",
    "\n",
    "### Technical strengths\n",
    "1. Easy to use.\n",
    "2. Free. (Python software foundation (PSF). No copyright.) (*open source software (OSS)*), \n",
    "3. Portable. (desktop, laptop, gaming console, mainframe, supercomputer)\n",
    "4. General purpose language. (commercial - COBOL, scientific - FORTRAN (specific purpose language) previously used) (python is in all fields)\n",
    "5. Powerful. (Languages: script language (for website) (html, php, javascript), system language (for software) (c, c++, java). Python is both script and system language.)\n",
    "6. Dynamic typing. (can change variables and data-types) (mentioning type is not mandatory)\n",
    "7. Automatic memory management. (lesser memory faster running)\n",
    "8. Programming in the large support. (libraries, modules (c, c++), OOPs (object oriented programming) (java), exception)\n",
    "9. Built-in object types. (data structures - lists, tuples, dictionaries)\n",
    "10. Built-in operations. (sorting, length and many more built-in operations can be applied on data) (*rapid software development*)\n",
    "11. Library utilities and third-party utilities. (pre-written codes) (3rd party - matplotlib by matlab) (property - *reusability*)\n",
    "12. Mixable. (can be mixed with other languages) (group property) (java and python - jpython or jython)\n",
    "13. Object-oriented and functional.\n",
    "\n",
    "### Popular python implementations\n",
    "CPython, Jython, IronPython, PyPy.\n",
    "\n",
    "Base: programming language and running environment (virtual machine).\n",
    "1. CPython (1994): General python that we use at first. It's written in C (portable ANSIC). The interpreter is CPython JVM. We can use C in this python.\n",
    "2. Jython (2001): Written in Java. It's runned on JVM. We can use libraries of Java in python.\n",
    "3. IronPython (2006): It's written in C#. It's runned on .NET or CLR. We can use utilities of Windows in this python.\n",
    "4. PyPy (2007): It's written in RPython (a type of CPython). It's runned on JIT Compiler. It's the fastest."
   ]
  },
  {
   "attachments": {},
   "cell_type": "markdown",
   "metadata": {},
   "source": [
    "### Is python already present?\n",
    "1. Check using CMD. (command prompt)\n",
    "2. Check directories in C drive.\n",
    "3. Check install program list.\n",
    "4. Check through start menu.\n",
    "\n",
    "We can install python from http://www.python.org (explore this website). (*installation at 2:43:00*)\n",
    "\n",
    "After python is installed, we can configure some system settings that impact the way python runs the code. (skipped at beginner level)\n",
    "\n",
    "Check version of python in CMD (type *python* or *python -V*). Also check the IDLE of python.\n",
    "\n",
    "### Python Interpreter / Python Virtual Machine (PVM)\n",
    "1. Interpreter is a kind of program that executes other programs. When we write a python program (.py files), the interpreter reads the program and carries out the instructions it contains.\n",
    "2. In effect, the interpreter is a layer of software logic between code and computer.\n",
    "3. The python code we write must always run by the interpreter. To enable that, we need to install a python interpreter on computer.\n",
    "\n",
    "### Program execution\n",
    "\n",
    "#### The programmer's view\n",
    "1. A python program is just a text file containing python statements. (extension - .py)\n",
    "2. We tell python to execute the file - which simply means to run all the statements in the file from top to bottom, one after another.\n",
    "\n",
    "Python first compiles the soutce code into a format known as *byte code*.\n",
    "\n",
    "#### The PVM's view\n",
    "*[source file.py --- PVM --- output]*\n",
    "\n",
    "*[file.py (python file) --- compile --- file.pyc (compiled python file) (byte code) --- interprete --- output]*\n",
    "\n",
    "1. Compilation is simply a translation step and byte code is a lower-level, platform-independent representation of source code.\n",
    "2. Python translates each of the source statements into a group of byte code instructions by decomposing them into individual steps.\n",
    "3. This byte code translation is performed to make fast execution, i.e. byte code can be run much more quickly than the original source code statements in the text file.\n",
    "4. Python byte code is not a binary machine code (e.g. instructions for an intel or ARM chip). Byte code is a python-specific representation.\n",
    "5. Python will store the byte code of programs in files that end with a .pyc extension (compiled .py source).\n",
    "6. In 3.2 and later, python instead saves its .pyc byte code files in a subdirectory named _pycache_ located in the directory where the source code files reside, and in files whose names identify the python version that created them. (file.cpython-33.pyc where cpython-33 represents the version of python)\n",
    "7. Python simply creates and uses the byte code in mwmory and discards it on exit.\n",
    "8. To speed startups, though, it will try to save byte code in a file in order to skip the compile step next time around.\n",
    "9. The next time we run our program, python will load the .pyc files and skip the compilation step, as long as we haven't changed our source code since the byte code was last saved, and aren't running with a different python than the one that created the byte code.\n",
    "10. Once the program has been compiled to byte code (or the byte code has been loaded from existing .pyc files), it is shipped off for execution to something generally known as python virtual machine.\n",
    "\n",
    "[source code (file.py) --- byte code (file.pyc) --- runtime (PVM)]\n",
    "\n",
    "11. Byte code compilation is *automatic* and the PVM is just part of the python system that is installed in the machine. Again, programmers simply code and run files of statements and python handles the logistics of running them.\n",
    "12. In pytho, there is no initial compile-time phase at all and everything happens as the pregram is running."
   ]
  },
  {
   "attachments": {},
   "cell_type": "markdown",
   "metadata": {},
   "source": [
    "start from **3:23:30**."
   ]
  },
  {
   "cell_type": "markdown",
   "metadata": {},
   "source": []
  },
  {
   "cell_type": "markdown",
   "metadata": {},
   "source": []
  },
  {
   "cell_type": "code",
   "execution_count": null,
   "metadata": {},
   "outputs": [],
   "source": []
  }
 ],
 "metadata": {
  "kernelspec": {
   "display_name": "base",
   "language": "python",
   "name": "python3"
  },
  "language_info": {
   "codemirror_mode": {
    "name": "ipython",
    "version": 3
   },
   "file_extension": ".py",
   "mimetype": "text/x-python",
   "name": "python",
   "nbconvert_exporter": "python",
   "pygments_lexer": "ipython3",
   "version": "3.9.13"
  },
  "orig_nbformat": 4
 },
 "nbformat": 4,
 "nbformat_minor": 2
}
