{
 "cells": [
  {
   "cell_type": "markdown",
   "metadata": {},
   "source": [
    "# 3.2 Central Difference Method"
   ]
  },
  {
   "cell_type": "code",
   "execution_count": null,
   "metadata": {},
   "outputs": [],
   "source": [
    "from IPython.display import Image"
   ]
  },
  {
   "cell_type": "markdown",
   "metadata": {},
   "source": [
    "Here differential equation (or eigenvalue equation)\n",
    "$$ \\frac{d^2y}{dx^2} = p(x) \\frac{dy}{dx} + q(\\lambda, x)y + r(x) $$\n",
    "is solved numerically by central difference method."
   ]
  },
  {
   "cell_type": "markdown",
   "metadata": {},
   "source": [
    "The Taylor series expansion at some point $x=x_i$ is,\n",
    "$$ y(x_{i}+h) = y(x_{i})+hy^{\\prime}(x_{i})+\\frac{h^{2}}{2!}y^{\\prime\\prime}(x_{i})+\\frac{h^{3}}{3!}y^{(3)}(x_{i})+\\frac{h^{4}}{4!}y^{(4)}(x_{i})+\\frac{h^{5}}{5!}y^{(5)}(x_{i})+O(h^{6}) $$\n",
    "Here, this can be written as,\n",
    "$$ y(x_{i+1}) = y(x_{i})+hy^{\\prime}(x_{i})+\\frac{h^{2}}{2!}y^{\\prime\\prime}(x_{i})+\\frac{h^{3}}{3!}y^{(3)}(x_{i})+\\frac{h^{4}}{4!}y^{(4)}(x_{i})+\\frac{h^{5}}{5!}y^{(5)}(x_{i})+O(h^{6}) $$\n",
    "and,\n",
    "$$ y(x_{i-1}) = y(x_{i})-hy^{\\prime}(x_{i})+\\frac{h^{2}}{2!}y^{\\prime\\prime}(x_{i})-\\frac{h^{3}}{3!}y^{(3)}(x_{i})+\\frac{h^{4}}{4!}y^{(4)}(x_{i})-\\frac{h^{5}}{5!}y^{(5)}(x_{i})+O(h^{6}) $$\n",
    "\n",
    "By subtracting and adding these 2 relations we can get approximated finite difference formulae respectively:\n",
    "$$ y'(x_i) = \\frac{y(x_{i+1}) -y(x_{i-1})}{2h} $$\n",
    "$$ y''(x_i) = \\frac{y(x_{i+1}) +y(x_{i-1}) -2y(x_i)}{h^2} $$\n",
    "\n",
    "Now, we have the differential equation,\n",
    "$$ \\frac{d^2y}{dx^2} = p(x) \\frac{dy}{dx} + q(\\lambda, x)y + r(x) $$\n",
    "For a known $\\lambda$, we can write $q(\\lambda, x)=q(x)$.\n",
    "\n",
    "Applying the finite difference formulae here,\n",
    "$$ \\frac{y(x_{i+1}) +y(x_{i-1}) -2y(x_i)}{h^2} -p(x_i) \\left(\\frac{y(x_{i+1}) -y(x_{i-1})}{2h} \\right) -q(x_i)y(x_i) -r(x_i) = 0 $$\n",
    "\n",
    "$$ \\implies (y(x_{i+1}) +y(x_{i-1}) -2y(x_i)) - \\frac{1}{2} p(x_i) h(y(x_{i+1}) \\\\\n",
    "-y(x_{i-1})) -h^2(q(x_i)y(x_i) -r(x_i)) = 0 $$\n",
    "$$ \\implies y(x_{i+1})\\left(1 -\\frac{h}{2} p(x_i) \\right) + y(x_i)\\left(-2 -h^2q(x_i) \\right) \\\\\n",
    "+y(x_{i-1})\\left(1 +\\frac{h}{2}p(x_i) \\right) + \\left(h^2r(x_i) \\right) = 0 $$\n",
    "\n",
    "Applying the transformation $i \\rightarrow i-1$ we will obtain,\n",
    "$$ \\implies y(x_{i})\\left(1 -\\frac{h}{2} p(x_{i-1}) \\right) + y(x_{i-1})\\left(-2 -h^2q(x_{i-1}) \\right) \\\\\n",
    "+y(x_{i-2})\\left(1 +\\frac{h}{2}p(x_{i-1}) \\right) + \\left(h^2r(x_{i-1}) \\right) = 0 $$\n",
    "\n",
    "So,\n",
    "$$ y(x_i) = \\frac{a}{d} \\,y(x_{i-1}) + \\frac{b}{d}\\, y(x_{i-2}) + \\frac{c}{d} $$\n",
    "where,\n",
    "$$ a = 2 + h^2 q(\\lambda, x_{i-1}) $$\n",
    "$$ b = -\\left(1 + \\frac{h}{2}\\, p(x_{i-1}) \\right) $$\n",
    "$$ c = h^2 r(x_{i-1}) $$\n",
    "$$ d = 1 - \\frac{h}{2}\\, p(x_{i-1}) $$"
   ]
  },
  {
   "cell_type": "code",
   "execution_count": null,
   "metadata": {},
   "outputs": [],
   "source": []
  },
  {
   "cell_type": "code",
   "execution_count": null,
   "metadata": {},
   "outputs": [],
   "source": []
  }
 ],
 "metadata": {
  "kernelspec": {
   "display_name": "base",
   "language": "python",
   "name": "python3"
  },
  "language_info": {
   "name": "python",
   "version": "3.9.13"
  }
 },
 "nbformat": 4,
 "nbformat_minor": 2
}
