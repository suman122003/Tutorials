{
 "cells": [
  {
   "cell_type": "markdown",
   "metadata": {},
   "source": [
    "# Sparse eigenvalue problems with ARPACK"
   ]
  },
  {
   "cell_type": "markdown",
   "metadata": {},
   "source": [
    "Documentation link: https://docs.scipy.org/doc/scipy/tutorial/arpack.html"
   ]
  },
  {
   "cell_type": "markdown",
   "metadata": {},
   "source": [
    "All of the functionality provided in ARPACK is contained within the two high-level interfaces [scipy.sparse.linalg.eigs](https://docs.scipy.org/doc/scipy/reference/generated/scipy.sparse.linalg.eigs.html#scipy.sparse.linalg.eigs) and [scipy.sparse.linalg.eigsh](https://docs.scipy.org/doc/scipy/reference/generated/scipy.sparse.linalg.eigsh.html#scipy.sparse.linalg.eigsh). [eigs](https://docs.scipy.org/doc/scipy/reference/generated/scipy.sparse.linalg.eigs.html#scipy.sparse.linalg.eigs) provides interfaces for finding the eigenvalues/vectors of real or complex nonsymmetric square matrices, while [eigsh](https://docs.scipy.org/doc/scipy/reference/generated/scipy.sparse.linalg.eigsh.html#scipy.sparse.linalg.eigsh) provides interfaces for real-symmetric or complex-hermitian matrices.\n"
   ]
  },
  {
   "cell_type": "code",
   "execution_count": 1,
   "metadata": {},
   "outputs": [],
   "source": [
    "import numpy as np\n",
    "import scipy as scp\n",
    "import numpy.linalg as nlinalg\n",
    "import scipy.linalg as slinalg\n",
    "import scipy.sparse.linalg as sslinalg"
   ]
  },
  {
   "cell_type": "markdown",
   "metadata": {},
   "source": [
    "## [Basic functionality](https://docs.scipy.org/doc/scipy/tutorial/arpack.html#basic-functionality)\n",
    "\n",
    "The power of ARPACK is that it can compute only a specified subset of eigenvalue/eigenvector pairs. This is accomplished through the keyword `which`. The following values of `which` are available:\n",
    "\n",
    "- `which = 'LM'` : Eigenvalues with largest magnitude (`eigs`, `eigsh`), that is, the largest eigenvalues in the euclidean norm of complex numbers.\n",
    "- `which = 'SM'` : Eigenvalues with the smallest magnitude (`eigs`, `eigsh`), that is, the smallest eigenvalues in the euclidean norm of complex numbers.\n",
    "- `which = 'LR'` : Eigenvalues with the largest real part (`eigs`).\n",
    "- `which = 'SR'` : Eigenvalues with the smallest real part (`eigs`).\n",
    "- `which = 'LI'` : Eigenvalues with the largest imaginary part (`eigs`).\n",
    "- `which = 'SI'` : Eigenvalues with the smallest imaginary part (`eigs`).\n",
    "- `which = 'LA'` : Eigenvalues with the largest algebraic value (`eigsh`), that is, the largest eigenvalues inclusive of any negative sign.\n",
    "- `which = 'SA'` : Eigenvalues with the smallest algebraic value (`eigsh`), that is, the smallest eigenvalues inclusive of any negative sign.\n",
    "- `which = 'BE'` : Eigenvalues from both ends of the spectrum (`eigsh`).\n",
    "\n",
    "Note that ARPACK is generally better at finding extremal eigenvalues, that is, eigenvalues with large magnitudes. In particular, using `which = 'SM'` may lead to slow execution time and/or anomalous results. A better approach is to use *shift-invert mode*.\n"
   ]
  },
  {
   "cell_type": "markdown",
   "metadata": {},
   "source": [
    "## [Examples](https://docs.scipy.org/doc/scipy/tutorial/arpack.html#examples)"
   ]
  },
  {
   "cell_type": "code",
   "execution_count": 6,
   "metadata": {},
   "outputs": [],
   "source": [
    "np.set_printoptions(suppress=True)\n",
    "rng = np.random.default_rng()\n",
    "X = rng.random((100, 100)) -0.5\n",
    "X = np.dot(X, X.T) # creating a symmetric matrix"
   ]
  },
  {
   "cell_type": "code",
   "execution_count": 8,
   "metadata": {},
   "outputs": [
    {
     "name": "stdout",
     "output_type": "stream",
     "text": [
      "6.61 ms ± 354 µs per loop (mean ± std. dev. of 7 runs, 100 loops each)\n"
     ]
    }
   ],
   "source": [
    "%timeit nlinalg.eigh(X)"
   ]
  },
  {
   "cell_type": "code",
   "execution_count": 7,
   "metadata": {},
   "outputs": [
    {
     "name": "stdout",
     "output_type": "stream",
     "text": [
      "6.76 ms ± 186 µs per loop (mean ± std. dev. of 7 runs, 100 loops each)\n"
     ]
    }
   ],
   "source": [
    "%timeit slinalg.eigh(X)"
   ]
  },
  {
   "cell_type": "code",
   "execution_count": 11,
   "metadata": {},
   "outputs": [
    {
     "name": "stdout",
     "output_type": "stream",
     "text": [
      "8.22 ms ± 356 µs per loop (mean ± std. dev. of 7 runs, 100 loops each)\n"
     ]
    }
   ],
   "source": [
    "%timeit sslinalg.eigsh(X, 3, which='LM')"
   ]
  },
  {
   "cell_type": "code",
   "execution_count": 10,
   "metadata": {},
   "outputs": [],
   "source": [
    "evals_all, evecs_all = slinalg.eigh(X)"
   ]
  },
  {
   "cell_type": "code",
   "execution_count": null,
   "metadata": {},
   "outputs": [],
   "source": []
  }
 ],
 "metadata": {
  "kernelspec": {
   "display_name": "Python 3",
   "language": "python",
   "name": "python3"
  },
  "language_info": {
   "codemirror_mode": {
    "name": "ipython",
    "version": 3
   },
   "file_extension": ".py",
   "mimetype": "text/x-python",
   "name": "python",
   "nbconvert_exporter": "python",
   "pygments_lexer": "ipython3",
   "version": "3.11.1"
  }
 },
 "nbformat": 4,
 "nbformat_minor": 2
}
