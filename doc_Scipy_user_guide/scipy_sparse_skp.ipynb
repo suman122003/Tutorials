{
 "cells": [
  {
   "cell_type": "markdown",
   "metadata": {},
   "source": [
    "# Sparse Arrays (**`scipy.sparse`**)"
   ]
  },
  {
   "cell_type": "markdown",
   "metadata": {},
   "source": [
    "Documentation Link: https://docs.scipy.org/doc/scipy/tutorial/sparse.html"
   ]
  },
  {
   "cell_type": "code",
   "execution_count": 2,
   "metadata": {},
   "outputs": [],
   "source": [
    "import numpy as np\n",
    "import scipy as scp\n",
    "from scipy import sparse"
   ]
  },
  {
   "cell_type": "code",
   "execution_count": 3,
   "metadata": {},
   "outputs": [
    {
     "data": {
      "text/plain": [
       "'dense'"
      ]
     },
     "metadata": {},
     "output_type": "display_data"
    },
    {
     "data": {
      "text/plain": [
       "array([[1, 0, 0, 2],\n",
       "       [0, 4, 1, 0],\n",
       "       [0, 0, 5, 0]])"
      ]
     },
     "metadata": {},
     "output_type": "display_data"
    },
    {
     "data": {
      "text/plain": [
       "'sparse'"
      ]
     },
     "metadata": {},
     "output_type": "display_data"
    },
    {
     "data": {
      "text/plain": [
       "<3x4 sparse array of type '<class 'numpy.int32'>'\n",
       "\twith 5 stored elements in COOrdinate format>"
      ]
     },
     "metadata": {},
     "output_type": "display_data"
    },
    {
     "data": {
      "text/plain": [
       "'prop same as arrays'"
      ]
     },
     "metadata": {},
     "output_type": "display_data"
    },
    {
     "data": {
      "text/plain": [
       "5"
      ]
     },
     "metadata": {},
     "output_type": "display_data"
    },
    {
     "data": {
      "text/plain": [
       "10"
      ]
     },
     "metadata": {},
     "output_type": "display_data"
    },
    {
     "data": {
      "text/plain": [
       "1.0833333333333333"
      ]
     },
     "metadata": {},
     "output_type": "display_data"
    },
    {
     "data": {
      "text/plain": [
       "'no. of stored values'"
      ]
     },
     "metadata": {},
     "output_type": "display_data"
    },
    {
     "data": {
      "text/plain": [
       "5"
      ]
     },
     "metadata": {},
     "output_type": "display_data"
    },
    {
     "data": {
      "text/plain": [
       "'reduction op'"
      ]
     },
     "metadata": {},
     "output_type": "display_data"
    },
    {
     "data": {
      "text/plain": [
       "array([0.75, 1.25, 1.25])"
      ]
     },
     "metadata": {},
     "output_type": "display_data"
    }
   ],
   "source": [
    "dense_arr = np.array([[1, 0, 0, 2], [0, 4, 1, 0], [0, 0, 5, 0]])\n",
    "sparse_arr = sparse.coo_array(dense_arr)\n",
    "display('dense', dense_arr, 'sparse', sparse_arr)\n",
    "display('prop same as arrays', sparse_arr.max(), sparse_arr.argmax(), \n",
    "        sparse_arr.mean(), 'no. of stored values', sparse_arr.nnz)\n",
    "display('reduction op', sparse_arr.mean(axis=1))"
   ]
  },
  {
   "cell_type": "markdown",
   "metadata": {},
   "source": [
    "## [Sparse array formats](https://docs.scipy.org/doc/scipy/tutorial/sparse.html#understanding-sparse-array-formats)"
   ]
  },
  {
   "cell_type": "code",
   "execution_count": 6,
   "metadata": {},
   "outputs": [
    {
     "data": {
      "text/plain": [
       "5"
      ]
     },
     "metadata": {},
     "output_type": "display_data"
    },
    {
     "data": {
      "text/plain": [
       "\"'coo_array' object is not subscriptable\""
      ]
     },
     "metadata": {},
     "output_type": "display_data"
    },
    {
     "data": {
      "text/plain": [
       "5"
      ]
     },
     "metadata": {},
     "output_type": "display_data"
    },
    {
     "data": {
      "text/plain": [
       "'Compressed Sparse Row (CSR) csr_array support slicing and element indexing'"
      ]
     },
     "metadata": {},
     "output_type": "display_data"
    },
    {
     "data": {
      "text/plain": [
       "<3x3 sparse array of type '<class 'numpy.intc'>'\n",
       "\twith 5 stored elements in Compressed Sparse Row format>"
      ]
     },
     "metadata": {},
     "output_type": "display_data"
    },
    {
     "data": {
      "text/plain": [
       "'the dot product of two sparse arrays in COO format will be a CSR format array'"
      ]
     },
     "metadata": {},
     "output_type": "display_data"
    }
   ],
   "source": [
    "display(dense_arr[2,2])\n",
    "display(# sparse_arr[2,2],\n",
    "\"'coo_array' object is not subscriptable\")\n",
    "display(sparse_arr.tocsr()[2,2], \n",
    "'Compressed Sparse Row (CSR) csr_array support slicing and element indexing')\n",
    "display(sparse_arr@sparse_arr.T, \n",
    "'the dot product of two sparse arrays in COO format will be a CSR format array')"
   ]
  },
  {
   "cell_type": "markdown",
   "metadata": {},
   "source": [
    "The [scipy.sparse](https://docs.scipy.org/doc/scipy/reference/sparse.html#module-scipy.sparse) module contains the following formats, each with their own distinct advantages and disadvantages:\n",
    "\n",
    "- **Block Sparse Row (BSR) arrays** [scipy.sparse.bsr_array](https://docs.scipy.org/doc/scipy/reference/generated/scipy.sparse.bsr_array.html#scipy.sparse.bsr_array): Most appropriate when the parts of the array with data occur in contiguous blocks.\n",
    "\n",
    "- **Coordinate (COO) arrays** [scipy.sparse.coo_array](https://docs.scipy.org/doc/scipy/reference/generated/scipy.sparse.coo_array.html#scipy.sparse.coo_array): Provide a simple way to construct sparse arrays and modify them in place. COO can also be quickly converted into other formats such as CSR, CSC, or BSR.\n",
    "\n",
    "- **Compressed Sparse Row (CSR) arrays** [scipy.sparse.csr_array](https://docs.scipy.org/doc/scipy/reference/generated/scipy.sparse.csr_array.html#scipy.sparse.csr_array): Most useful for fast arithmetic, vector products, and slicing by row.\n",
    "\n",
    "- **Compressed Sparse Column (CSC) arrays** [scipy.sparse.csc_array](https://docs.scipy.org/doc/scipy/reference/generated/scipy.sparse.csc_array.html#scipy.sparse.csc_array): Most useful for fast arithmetic, vector products, and slicing by column.\n",
    "\n",
    "- **Diagonal (DIA) arrays** [scipy.sparse.dia_array](https://docs.scipy.org/doc/scipy/reference/generated/scipy.sparse.dia_array.html#scipy.sparse.dia_array): Useful for efficient storage and fast arithmetic as long as the data primarily occurs along diagonals of the array.\n",
    "\n",
    "- **Dictionary of Keys (DOK) arrays** [scipy.sparse.dok_array](https://docs.scipy.org/doc/scipy/reference/generated/scipy.sparse.dok_array.html#scipy.sparse.dok_array): Useful for fast construction and single-element access.\n",
    "\n",
    "- **List of Lists (LIL) arrays** [scipy.sparse.lil_array](https://docs.scipy.org/doc/scipy/reference/generated/scipy.sparse.lil_array.html#scipy.sparse.lil_array): Useful for fast construction and modification of sparse arrays.\n"
   ]
  },
  {
   "cell_type": "code",
   "execution_count": 14,
   "metadata": {},
   "outputs": [
    {
     "data": {
      "text/plain": [
       "array([[1, 0, 0, 2],\n",
       "       [0, 4, 1, 0],\n",
       "       [0, 0, 5, 0]])"
      ]
     },
     "metadata": {},
     "output_type": "display_data"
    },
    {
     "data": {
      "text/plain": [
       "<3x4 sparse array of type '<class 'numpy.intc'>'\n",
       "\twith 5 stored elements in Compressed Sparse Row format>"
      ]
     },
     "metadata": {},
     "output_type": "display_data"
    }
   ],
   "source": [
    "display(dense_arr)\n",
    "row = [0,0,1,1,2]\n",
    "col = [0,3,1,2,2]\n",
    "data = [1,2,4,1,5]\n",
    "csr_arr = sparse.csr_array((data, (row, col))) # data and coordinate\n",
    "display(csr_arr)"
   ]
  },
  {
   "cell_type": "markdown",
   "metadata": {},
   "source": [
    "The [scipy.sparse.csr_array](https://docs.scipy.org/doc/scipy/reference/generated/scipy.sparse.csr_array.html#scipy.sparse.csr_array), [scipy.sparse.csc_array](https://docs.scipy.org/doc/scipy/reference/generated/scipy.sparse.csc_array.html#scipy.sparse.csc_array), and [scipy.sparse.coo_array](https://docs.scipy.org/doc/scipy/reference/generated/scipy.sparse.coo_array.html#scipy.sparse.coo_array) allow for this style of construction.\n"
   ]
  },
  {
   "cell_type": "markdown",
   "metadata": {},
   "source": [
    "## [Sparse arrays, implicit zeros, and duplicates](https://docs.scipy.org/doc/scipy/tutorial/sparse.html#sparse-arrays-implicit-zeros-and-duplicates)"
   ]
  },
  {
   "cell_type": "code",
   "execution_count": 16,
   "metadata": {},
   "outputs": [
    {
     "data": {
      "text/plain": [
       "<3x4 sparse array of type '<class 'numpy.intc'>'\n",
       "\twith 6 stored elements in Compressed Sparse Row format>"
      ]
     },
     "metadata": {},
     "output_type": "display_data"
    },
    {
     "data": {
      "text/plain": [
       "'6 stored, not 5!'"
      ]
     },
     "metadata": {},
     "output_type": "display_data"
    },
    {
     "data": {
      "text/plain": [
       "'sparse to dense'"
      ]
     },
     "metadata": {},
     "output_type": "display_data"
    },
    {
     "data": {
      "text/plain": [
       "array([[1, 0, 0, 2],\n",
       "       [0, 4, 1, 0],\n",
       "       [0, 0, 5, 0]], dtype=int32)"
      ]
     },
     "metadata": {},
     "output_type": "display_data"
    },
    {
     "data": {
      "text/plain": [
       "array([[1, 0, 0, 2],\n",
       "       [0, 4, 1, 0],\n",
       "       [0, 0, 5, 0]])"
      ]
     },
     "metadata": {},
     "output_type": "display_data"
    },
    {
     "data": {
      "text/plain": [
       "<3x4 sparse array of type '<class 'numpy.intc'>'\n",
       "\twith 5 stored elements in Compressed Sparse Row format>"
      ]
     },
     "metadata": {},
     "output_type": "display_data"
    },
    {
     "data": {
      "text/plain": [
       "array([[1, 0, 0, 2],\n",
       "       [0, 4, 1, 0],\n",
       "       [0, 0, 5, 0]], dtype=int32)"
      ]
     },
     "metadata": {},
     "output_type": "display_data"
    }
   ],
   "source": [
    "row = [0,0,1,1,2,2]\n",
    "col = [0,3,1,2,2,3]\n",
    "data = [1,2,4,1,5,0]\n",
    "csr_arr = sparse.csr_array((data, (row, col)))\n",
    "display(csr_arr, '6 stored, not 5!')\n",
    "display('sparse to dense', csr_arr.todense(), dense_arr)\n",
    "csr_arr.eliminate_zeros()\n",
    "display(csr_arr, csr_arr.todense())"
   ]
  },
  {
   "cell_type": "code",
   "execution_count": 19,
   "metadata": {},
   "outputs": [
    {
     "data": {
      "text/plain": [
       "<3x4 sparse array of type '<class 'numpy.int32'>'\n",
       "\twith 6 stored elements in COOrdinate format>"
      ]
     },
     "metadata": {},
     "output_type": "display_data"
    },
    {
     "data": {
      "text/plain": [
       "array([[1, 0, 0, 2],\n",
       "       [0, 4, 1, 0],\n",
       "       [0, 0, 5, 0]])"
      ]
     },
     "metadata": {},
     "output_type": "display_data"
    },
    {
     "data": {
      "text/plain": [
       "\"at (1,1) it's 1+3\""
      ]
     },
     "metadata": {},
     "output_type": "display_data"
    },
    {
     "data": {
      "text/plain": [
       "<3x4 sparse array of type '<class 'numpy.intc'>'\n",
       "\twith 5 stored elements in COOrdinate format>"
      ]
     },
     "metadata": {},
     "output_type": "display_data"
    },
    {
     "data": {
      "text/plain": [
       "array([[1, 0, 0, 2],\n",
       "       [0, 4, 1, 0],\n",
       "       [0, 0, 5, 0]], dtype=int32)"
      ]
     },
     "metadata": {},
     "output_type": "display_data"
    }
   ],
   "source": [
    "row = [0,0,1,1,1,2]\n",
    "col = [0,3,1,1,2,2]\n",
    "data = [1,2,1,3,1,5]\n",
    "dupes = sparse.coo_array((data, (row, col)))\n",
    "display(dupes, dupes.todense(), 'at (1,1) it\\'s 1+3')\n",
    "dupes.sum_duplicates()\n",
    "display(dupes, dupes.todense())"
   ]
  },
  {
   "cell_type": "markdown",
   "metadata": {},
   "source": [
    "## [Canonical formats](https://docs.scipy.org/doc/scipy/tutorial/sparse.html#canonical-formats)"
   ]
  },
  {
   "cell_type": "code",
   "execution_count": 23,
   "metadata": {},
   "outputs": [
    {
     "data": {
      "text/plain": [
       "False"
      ]
     },
     "metadata": {},
     "output_type": "display_data"
    },
    {
     "data": {
      "text/plain": [
       "True"
      ]
     },
     "metadata": {},
     "output_type": "display_data"
    }
   ],
   "source": [
    "dupes = sparse.coo_array((data, (row, col)))\n",
    "display(dupes.has_canonical_format)\n",
    "dupes.sum_duplicates()\n",
    "display(dupes.has_canonical_format)"
   ]
  },
  {
   "cell_type": "code",
   "execution_count": null,
   "metadata": {},
   "outputs": [],
   "source": []
  }
 ],
 "metadata": {
  "kernelspec": {
   "display_name": "Python 3",
   "language": "python",
   "name": "python3"
  },
  "language_info": {
   "codemirror_mode": {
    "name": "ipython",
    "version": 3
   },
   "file_extension": ".py",
   "mimetype": "text/x-python",
   "name": "python",
   "nbconvert_exporter": "python",
   "pygments_lexer": "ipython3",
   "version": "3.9.13"
  }
 },
 "nbformat": 4,
 "nbformat_minor": 2
}
